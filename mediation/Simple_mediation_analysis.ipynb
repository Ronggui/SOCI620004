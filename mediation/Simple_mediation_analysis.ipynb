{
 "cells": [
  {
   "cell_type": "markdown",
   "metadata": {},
   "source": [
    "# 中介分析\n",
    "\n",
    "### 黄荣贵（复旦大学社会学系）"
   ]
  },
  {
   "cell_type": "markdown",
   "metadata": {},
   "source": [
    "## 中介分析基本框架\n",
    "\n",
    "假定\\\\(Y\\\\)是因变量，\\\\(X\\\\)是自变量，\\\\(M\\\\)是中介变量；其中，\\\\(X\\\\)部分（或完全）通过影响\\\\(M\\\\)而影响\\\\(Y\\\\)。这一关系可以表述为：\n",
    "\n",
    "$$Y = \\alpha_y + \\beta_{yx} X + \\epsilon_y$$\n",
    "\n",
    "$$M = \\alpha_m + \\beta_{mx} X + \\epsilon_m$$\n",
    "\n",
    "$$Y = \\alpha + \\beta_{m} M + \\beta_{x} X + \\epsilon$$\n",
    "\n",
    "如果我们将第二个公式代入到第三个公式，然后与第一个公式进行比较可以发现：\n",
    "\n",
    "$$ \\beta_{mx}\\beta_m = \\beta_{yx} - \\beta_x$$\n",
    "\n",
    "因此，只要我们估计第一个和第三个模型就可以得到中介效应 $\\beta_{mx}\\beta_m$。然而，为了估计中介效应是否显著，我们还需要估计相应的标准误$\\widehat{\\sigma_{\\beta_{mx}\\beta_m}}$。其中一种估计方法（Sobel，1982）如下：\n",
    "\n",
    "$$\\widehat{\\sigma_{\\beta_{mx}\\beta_m}} = \\sqrt{\\widehat{\\beta_{mx}^2} \\widehat{\\sigma^2_{\\beta_{m}}}+\\widehat{\\beta_{m}^2} \\widehat{\\sigma^2_{\\beta_{mx}}} }$$\n",
    "\n",
    "可见，为了估计中介效应的标准误，需要同时估计第二和第三个模型。\n",
    "\n",
    "得到标准误后，可以使用正态分布来估计其置信区间。然而，值得注意的是，由于中介效应呈偏态分布，根据上述标准误计算的置信区间无法很好反映真实的区间。"
   ]
  },
  {
   "cell_type": "code",
   "execution_count": 1,
   "metadata": {
    "scrolled": true
   },
   "outputs": [
    {
     "data": {
      "text/html": [
       "<ol class=list-inline>\n",
       "\t<li>'education'</li>\n",
       "\t<li>'income'</li>\n",
       "\t<li>'women'</li>\n",
       "\t<li>'prestige'</li>\n",
       "\t<li>'census'</li>\n",
       "\t<li>'type'</li>\n",
       "</ol>\n"
      ],
      "text/latex": [
       "\\begin{enumerate*}\n",
       "\\item 'education'\n",
       "\\item 'income'\n",
       "\\item 'women'\n",
       "\\item 'prestige'\n",
       "\\item 'census'\n",
       "\\item 'type'\n",
       "\\end{enumerate*}\n"
      ],
      "text/markdown": [
       "1. 'education'\n",
       "2. 'income'\n",
       "3. 'women'\n",
       "4. 'prestige'\n",
       "5. 'census'\n",
       "6. 'type'\n",
       "\n",
       "\n"
      ],
      "text/plain": [
       "[1] \"education\" \"income\"    \"women\"     \"prestige\"  \"census\"    \"type\"     "
      ]
     },
     "metadata": {},
     "output_type": "display_data"
    }
   ],
   "source": [
    "data(Prestige, package=\"carData\")\n",
    "\n",
    "names(Prestige)"
   ]
  },
  {
   "cell_type": "markdown",
   "metadata": {},
   "source": [
    "### 例子:教育程度在多大程度上通过收入而影响职业声望？\n",
    "\n",
    "#### 手工计算中介效应\n",
    "\n",
    "通过拟合三个模型，我们可以通过两种不同的方法计算中介效应。"
   ]
  },
  {
   "cell_type": "code",
   "execution_count": 2,
   "metadata": {},
   "outputs": [
    {
     "data": {
      "text/html": [
       "<strong>education:</strong> 1.22343334690889"
      ],
      "text/latex": [
       "\\textbf{education:} 1.22343334690889"
      ],
      "text/markdown": [
       "**education:** 1.22343334690889"
      ],
      "text/plain": [
       "education \n",
       " 1.223433 "
      ]
     },
     "metadata": {},
     "output_type": "display_data"
    }
   ],
   "source": [
    "mod_y <- lm(prestige ~ education, data = Prestige)\n",
    "mod_m <- lm(income ~ education, data = Prestige)\n",
    "mod_full <- lm(prestige ~ income + education, data = Prestige)\n",
    "coef(mod_m)['education'] * coef(mod_full)['income']  # mediation effect by multiplication"
   ]
  },
  {
   "cell_type": "code",
   "execution_count": 3,
   "metadata": {},
   "outputs": [
    {
     "data": {
      "text/html": [
       "<strong>education:</strong> 1.22343334690889"
      ],
      "text/latex": [
       "\\textbf{education:} 1.22343334690889"
      ],
      "text/markdown": [
       "**education:** 1.22343334690889"
      ],
      "text/plain": [
       "education \n",
       " 1.223433 "
      ]
     },
     "metadata": {},
     "output_type": "display_data"
    }
   ],
   "source": [
    "med_eff <- coef(mod_y)['education'] - coef(mod_full)['education']  # mediation effect by subtraction\n",
    "med_eff  # save for futher use"
   ]
  },
  {
   "cell_type": "markdown",
   "metadata": {},
   "source": [
    "下面我们直接计算中介效应的标准误，以及对95%置信的估计。"
   ]
  },
  {
   "cell_type": "code",
   "execution_count": 4,
   "metadata": {},
   "outputs": [
    {
     "data": {
      "text/html": [
       "<strong>education:</strong> 0.265541396398982"
      ],
      "text/latex": [
       "\\textbf{education:} 0.265541396398982"
      ],
      "text/markdown": [
       "**education:** 0.265541396398982"
      ],
      "text/plain": [
       "education \n",
       "0.2655414 "
      ]
     },
     "metadata": {},
     "output_type": "display_data"
    }
   ],
   "source": [
    "sd_eff_sq <- coef(mod_m)['education']^2 * vcov(mod_full)['income', 'income'] + \n",
    "             coef(mod_full)['income']^2 * vcov(mod_m)['education', 'education']\n",
    "sd_eff <- sqrt(sd_eff_sq)  # SE of mediation effect\n",
    "sd_eff"
   ]
  },
  {
   "cell_type": "code",
   "execution_count": 5,
   "metadata": {},
   "outputs": [
    {
     "data": {
      "text/html": [
       "<strong>education:</strong> 4.60731683835334"
      ],
      "text/latex": [
       "\\textbf{education:} 4.60731683835334"
      ],
      "text/markdown": [
       "**education:** 4.60731683835334"
      ],
      "text/plain": [
       "education \n",
       " 4.607317 "
      ]
     },
     "metadata": {},
     "output_type": "display_data"
    }
   ],
   "source": [
    "med_eff / sd_eff # Z value"
   ]
  },
  {
   "cell_type": "code",
   "execution_count": 6,
   "metadata": {},
   "outputs": [
    {
     "data": {
      "text/html": [
       "<dl class=dl-horizontal>\n",
       "\t<dt>education</dt>\n",
       "\t\t<dd>0.702972209966885</dd>\n",
       "\t<dt>education</dt>\n",
       "\t\t<dd>1.74389448385089</dd>\n",
       "</dl>\n"
      ],
      "text/latex": [
       "\\begin{description*}\n",
       "\\item[education] 0.702972209966885\n",
       "\\item[education] 1.74389448385089\n",
       "\\end{description*}\n"
      ],
      "text/markdown": [
       "education\n",
       ":   0.702972209966885education\n",
       ":   1.74389448385089\n",
       "\n"
      ],
      "text/plain": [
       "education education \n",
       "0.7029722 1.7438945 "
      ]
     },
     "metadata": {},
     "output_type": "display_data"
    }
   ],
   "source": [
    "c(med_eff - 1.96*sd_eff, med_eff + 1.96*sd_eff)  # 95% CI"
   ]
  },
  {
   "cell_type": "markdown",
   "metadata": {},
   "source": [
    "我们可以把上面的计算过程封装起来，从而得到计算中介效应及其区间的函数。"
   ]
  },
  {
   "cell_type": "markdown",
   "metadata": {},
   "source": [
    "#### 使用sobel函数进行中介分析"
   ]
  },
  {
   "cell_type": "code",
   "execution_count": 7,
   "metadata": {
    "scrolled": true
   },
   "outputs": [
    {
     "name": "stderr",
     "output_type": "stream",
     "text": [
      "Loading required package: nlme\n",
      "Loading required package: MASS\n"
     ]
    }
   ],
   "source": [
    "library(multilevel)"
   ]
  },
  {
   "cell_type": "code",
   "execution_count": 8,
   "metadata": {},
   "outputs": [
    {
     "data": {
      "text/html": [
       "<dl>\n",
       "\t<dt>$`Mod1: Y~X`</dt>\n",
       "\t\t<dd><table>\n",
       "<thead><tr><th></th><th scope=col>Estimate</th><th scope=col>Std. Error</th><th scope=col>t value</th><th scope=col>Pr(&gt;|t|)</th></tr></thead>\n",
       "<tbody>\n",
       "\t<tr><th scope=row>(Intercept)</th><td>-10.731982  </td><td>3.6770883   </td><td>-2.918609   </td><td>4.343443e-03</td></tr>\n",
       "\t<tr><th scope=row>pred</th><td>  5.360878  </td><td>0.3319882   </td><td>16.147796   </td><td>1.286264e-29</td></tr>\n",
       "</tbody>\n",
       "</table>\n",
       "</dd>\n",
       "\t<dt>$`Mod2: Y~X+M`</dt>\n",
       "\t\t<dd><table>\n",
       "<thead><tr><th></th><th scope=col>Estimate</th><th scope=col>Std. Error</th><th scope=col>t value</th><th scope=col>Pr(&gt;|t|)</th></tr></thead>\n",
       "<tbody>\n",
       "\t<tr><th scope=row>(Intercept)</th><td>-6.847778720</td><td>3.2189770963</td><td>-2.127315   </td><td>3.587840e-02</td></tr>\n",
       "\t<tr><th scope=row>pred</th><td> 4.137444384</td><td>0.3489120233</td><td>11.858131   </td><td>1.032202e-20</td></tr>\n",
       "\t<tr><th scope=row>med</th><td> 0.001361166</td><td>0.0002242121</td><td> 6.070886   </td><td>2.355196e-08</td></tr>\n",
       "</tbody>\n",
       "</table>\n",
       "</dd>\n",
       "\t<dt>$`Mod3: M~X`</dt>\n",
       "\t\t<dd><table>\n",
       "<thead><tr><th></th><th scope=col>Estimate</th><th scope=col>Std. Error</th><th scope=col>t value</th><th scope=col>Pr(&gt;|t|)</th></tr></thead>\n",
       "<tbody>\n",
       "\t<tr><th scope=row>(Intercept)</th><td>-2853.5856  </td><td>1407.0392   </td><td>-2.028078   </td><td>4.521163e-02</td></tr>\n",
       "\t<tr><th scope=row>pred</th><td>  898.8128  </td><td> 127.0354   </td><td> 7.075294   </td><td>2.079192e-10</td></tr>\n",
       "</tbody>\n",
       "</table>\n",
       "</dd>\n",
       "\t<dt>$Indirect.Effect</dt>\n",
       "\t\t<dd>1.22343334690888</dd>\n",
       "\t<dt>$SE</dt>\n",
       "\t\t<dd>0.265541396398982</dd>\n",
       "\t<dt>$z.value</dt>\n",
       "\t\t<dd>4.60731683835332</dd>\n",
       "\t<dt>$N</dt>\n",
       "\t\t<dd>102</dd>\n",
       "</dl>\n"
      ],
      "text/latex": [
       "\\begin{description}\n",
       "\\item[\\$`Mod1: Y\\textasciitilde{}X`] \\begin{tabular}{r|llll}\n",
       "  & Estimate & Std. Error & t value & Pr(>\\textbar{}t\\textbar{})\\\\\n",
       "\\hline\n",
       "\t(Intercept) & -10.731982   & 3.6770883    & -2.918609    & 4.343443e-03\\\\\n",
       "\tpred &   5.360878   & 0.3319882    & 16.147796    & 1.286264e-29\\\\\n",
       "\\end{tabular}\n",
       "\n",
       "\\item[\\$`Mod2: Y\\textasciitilde{}X+M`] \\begin{tabular}{r|llll}\n",
       "  & Estimate & Std. Error & t value & Pr(>\\textbar{}t\\textbar{})\\\\\n",
       "\\hline\n",
       "\t(Intercept) & -6.847778720 & 3.2189770963 & -2.127315    & 3.587840e-02\\\\\n",
       "\tpred &  4.137444384 & 0.3489120233 & 11.858131    & 1.032202e-20\\\\\n",
       "\tmed &  0.001361166 & 0.0002242121 &  6.070886    & 2.355196e-08\\\\\n",
       "\\end{tabular}\n",
       "\n",
       "\\item[\\$`Mod3: M\\textasciitilde{}X`] \\begin{tabular}{r|llll}\n",
       "  & Estimate & Std. Error & t value & Pr(>\\textbar{}t\\textbar{})\\\\\n",
       "\\hline\n",
       "\t(Intercept) & -2853.5856   & 1407.0392    & -2.028078    & 4.521163e-02\\\\\n",
       "\tpred &   898.8128   &  127.0354    &  7.075294    & 2.079192e-10\\\\\n",
       "\\end{tabular}\n",
       "\n",
       "\\item[\\$Indirect.Effect] 1.22343334690888\n",
       "\\item[\\$SE] 0.265541396398982\n",
       "\\item[\\$z.value] 4.60731683835332\n",
       "\\item[\\$N] 102\n",
       "\\end{description}\n"
      ],
      "text/markdown": [
       "$`Mod1: Y~X`\n",
       ":   \n",
       "| <!--/--> | Estimate | Std. Error | t value | Pr(>|t|) | \n",
       "|---|---|\n",
       "| (Intercept) | -10.731982   | 3.6770883    | -2.918609    | 4.343443e-03 | \n",
       "| pred |   5.360878   | 0.3319882    | 16.147796    | 1.286264e-29 | \n",
       "\n",
       "\n",
       "\n",
       "$`Mod2: Y~X+M`\n",
       ":   \n",
       "| <!--/--> | Estimate | Std. Error | t value | Pr(>|t|) | \n",
       "|---|---|---|\n",
       "| (Intercept) | -6.847778720 | 3.2189770963 | -2.127315    | 3.587840e-02 | \n",
       "| pred |  4.137444384 | 0.3489120233 | 11.858131    | 1.032202e-20 | \n",
       "| med |  0.001361166 | 0.0002242121 |  6.070886    | 2.355196e-08 | \n",
       "\n",
       "\n",
       "\n",
       "$`Mod3: M~X`\n",
       ":   \n",
       "| <!--/--> | Estimate | Std. Error | t value | Pr(>|t|) | \n",
       "|---|---|\n",
       "| (Intercept) | -2853.5856   | 1407.0392    | -2.028078    | 4.521163e-02 | \n",
       "| pred |   898.8128   |  127.0354    |  7.075294    | 2.079192e-10 | \n",
       "\n",
       "\n",
       "\n",
       "$Indirect.Effect\n",
       ":   1.22343334690888\n",
       "$SE\n",
       ":   0.265541396398982\n",
       "$z.value\n",
       ":   4.60731683835332\n",
       "$N\n",
       ":   102\n",
       "\n",
       "\n"
      ],
      "text/plain": [
       "$`Mod1: Y~X`\n",
       "              Estimate Std. Error   t value     Pr(>|t|)\n",
       "(Intercept) -10.731982  3.6770883 -2.918609 4.343443e-03\n",
       "pred          5.360878  0.3319882 16.147796 1.286264e-29\n",
       "\n",
       "$`Mod2: Y~X+M`\n",
       "                Estimate   Std. Error   t value     Pr(>|t|)\n",
       "(Intercept) -6.847778720 3.2189770963 -2.127315 3.587840e-02\n",
       "pred         4.137444384 0.3489120233 11.858131 1.032202e-20\n",
       "med          0.001361166 0.0002242121  6.070886 2.355196e-08\n",
       "\n",
       "$`Mod3: M~X`\n",
       "              Estimate Std. Error   t value     Pr(>|t|)\n",
       "(Intercept) -2853.5856  1407.0392 -2.028078 4.521163e-02\n",
       "pred          898.8128   127.0354  7.075294 2.079192e-10\n",
       "\n",
       "$Indirect.Effect\n",
       "[1] 1.223433\n",
       "\n",
       "$SE\n",
       "[1] 0.2655414\n",
       "\n",
       "$z.value\n",
       "[1] 4.607317\n",
       "\n",
       "$N\n",
       "[1] 102\n"
      ]
     },
     "metadata": {},
     "output_type": "display_data"
    }
   ],
   "source": [
    "with(Prestige, sobel(education, income, prestige))"
   ]
  },
  {
   "cell_type": "markdown",
   "metadata": {},
   "source": [
    "### 通过bootstrap法计算中介效应及其置信区间\n",
    "\n",
    "\n",
    "Bollen和Stine是这个方法的倡导者。相关讨论详见：Bollen, K. A. & Stine, R. 1990. Direct and indirect effects: classical and bootstrap estimates of variability Sociological Methodology, 20, 115–140.\n",
    "\n",
    "首先，定义一个函数计算中介效应。该函数具有两个参数，第一个参数是数据框，第二个参数是bootstrap法随机抽取的案例的标识（行数）。"
   ]
  },
  {
   "cell_type": "code",
   "execution_count": 9,
   "metadata": {},
   "outputs": [],
   "source": [
    "coef_diff <- function(d, i){\n",
    "    dat <- d[i, ]\n",
    "    mod_y <- lm(prestige ~ education, data = dat)\n",
    "    mod_full <- lm(prestige ~ income + education, data = dat)\n",
    "    med_eff <- coef(mod_y)['education'] - coef(mod_full)['education'] ## mediation effect by subtraction\n",
    "    med_eff\n",
    "}"
   ]
  },
  {
   "cell_type": "markdown",
   "metadata": {},
   "source": [
    "接下来，加载boot程序包，并调用同名函数进行bootstrap计算。其中，我们将抽样次数R设置为1000，stype参数设置为i。"
   ]
  },
  {
   "cell_type": "code",
   "execution_count": 10,
   "metadata": {},
   "outputs": [
    {
     "data": {
      "text/plain": [
       "\n",
       "ORDINARY NONPARAMETRIC BOOTSTRAP\n",
       "\n",
       "\n",
       "Call:\n",
       "boot(data = Prestige, statistic = coef_diff, R = 1000, stype = \"i\")\n",
       "\n",
       "\n",
       "Bootstrap Statistics :\n",
       "    original     bias    std. error\n",
       "t1* 1.223433 0.03453595   0.2623403"
      ]
     },
     "metadata": {},
     "output_type": "display_data"
    }
   ],
   "source": [
    "library(boot)\n",
    "\n",
    "(med.boot <- boot(Prestige, coef_diff, R = 1000, stype=\"i\"))"
   ]
  },
  {
   "cell_type": "markdown",
   "metadata": {},
   "source": [
    "original: 原始样本计算得到的统计量\n",
    "\n",
    "bias: R次bootstrap得到样本量的均值 - original\n",
    "\n",
    "std.error: R次bootstrap样本统计量的标准差"
   ]
  },
  {
   "cell_type": "markdown",
   "metadata": {},
   "source": [
    "第三，调用boot.ci函数计算置信区间。与Bollen and Stine（1990）相一致，我们计算的是percentile置信区间（type = \"perc\"）。"
   ]
  },
  {
   "cell_type": "code",
   "execution_count": 11,
   "metadata": {},
   "outputs": [
    {
     "data": {
      "text/plain": [
       "BOOTSTRAP CONFIDENCE INTERVAL CALCULATIONS\n",
       "Based on 1000 bootstrap replicates\n",
       "\n",
       "CALL : \n",
       "boot.ci(boot.out = med.boot, type = \"perc\")\n",
       "\n",
       "Intervals : \n",
       "Level     Percentile     \n",
       "95%   ( 0.782,  1.816 )  \n",
       "Calculations and Intervals on Original Scale"
      ]
     },
     "metadata": {},
     "output_type": "display_data"
    }
   ],
   "source": [
    "boot.ci(med.boot, type = \"perc\")"
   ]
  },
  {
   "cell_type": "markdown",
   "metadata": {},
   "source": [
    "通过密度图来检查bootstrap结果的分布。同时，通过curve函数增加一个正态分布曲线来做参考。结果显示，bootstrap结果略显偏态分布。"
   ]
  },
  {
   "cell_type": "code",
   "execution_count": 12,
   "metadata": {},
   "outputs": [
    {
     "data": {
      "image/png": "[encoded data removed]",
      "text/plain": [
       "Plot with title “Bootstrap mediation effect”"
      ]
     },
     "metadata": {},
     "output_type": "display_data"
    }
   ],
   "source": [
    "plot(density(med.boot$t), main = \"Bootstrap mediation effect\")\n",
    "curve(dnorm(x, mean=mean(med.boot$t), sd=sd(med.boot$t)), add = TRUE, col='red', lty=2)"
   ]
  },
  {
   "cell_type": "code",
   "execution_count": 13,
   "metadata": {},
   "outputs": [
    {
     "data": {
      "text/plain": [
       "\n",
       "ORDINARY NONPARAMETRIC BOOTSTRAP\n",
       "\n",
       "\n",
       "Call:\n",
       "boot(data = Prestige, statistic = coef_diff2, R = 1000, stype = \"i\")\n",
       "\n",
       "\n",
       "Bootstrap Statistics :\n",
       "     original      bias    std. error\n",
       "t1* 1.2234333 0.031194852  0.26331394\n",
       "t2* 0.2282151 0.006575025  0.05062691"
      ]
     },
     "metadata": {},
     "output_type": "display_data"
    }
   ],
   "source": [
    "coef_diff2 <- function(d, i){\n",
    "    dat <- d[i, ]\n",
    "    mod_y <- lm(prestige ~ education, data = dat)\n",
    "    mod_full <- lm(prestige ~ income + education, data = dat)\n",
    "    med_eff <- coef(mod_y)['education'] - coef(mod_full)['education']  # mediation effect by subtraction\n",
    "    pct <- med_eff / coef(mod_y)['education']\n",
    "    c(med_eff, pct)\n",
    "}\n",
    "\n",
    "(med.boot2 <- boot(Prestige, coef_diff2, R = 1000, stype=\"i\"))"
   ]
  },
  {
   "cell_type": "code",
   "execution_count": 14,
   "metadata": {},
   "outputs": [
    {
     "data": {
      "text/plain": [
       "BOOTSTRAP CONFIDENCE INTERVAL CALCULATIONS\n",
       "Based on 1000 bootstrap replicates\n",
       "\n",
       "CALL : \n",
       "boot.ci(boot.out = med.boot2, conf = 0.95, type = \"perc\", index = 1)\n",
       "\n",
       "Intervals : \n",
       "Level     Percentile     \n",
       "95%   ( 0.792,  1.836 )  \n",
       "Calculations and Intervals on Original Scale"
      ]
     },
     "metadata": {},
     "output_type": "display_data"
    }
   ],
   "source": [
    "boot.ci(med.boot2, conf=0.95, type=\"perc\", index=1)"
   ]
  },
  {
   "cell_type": "code",
   "execution_count": 15,
   "metadata": {},
   "outputs": [
    {
     "data": {
      "text/plain": [
       "BOOTSTRAP CONFIDENCE INTERVAL CALCULATIONS\n",
       "Based on 1000 bootstrap replicates\n",
       "\n",
       "CALL : \n",
       "boot.ci(boot.out = med.boot2, conf = 0.95, type = \"perc\", index = 2)\n",
       "\n",
       "Intervals : \n",
       "Level     Percentile     \n",
       "95%   ( 0.1457,  0.3453 )  \n",
       "Calculations and Intervals on Original Scale"
      ]
     },
     "metadata": {},
     "output_type": "display_data"
    }
   ],
   "source": [
    "boot.ci(med.boot2, conf=0.95, type=\"perc\", index=2)"
   ]
  },
  {
   "cell_type": "markdown",
   "metadata": {},
   "source": [
    "### 使用medmod模块计算简单中介效应及其置信区间\n"
   ]
  },
  {
   "cell_type": "code",
   "execution_count": 16,
   "metadata": {
    "scrolled": true
   },
   "outputs": [
    {
     "data": {
      "text/html": [
       "<table>\n",
       "<thead><tr><th scope=col>X</th><th scope=col>M</th><th scope=col>Y</th></tr></thead>\n",
       "<tbody>\n",
       "\t<tr><td>-1.2070657 </td><td>-1.0807256 </td><td>-0.62241968</td></tr>\n",
       "\t<tr><td> 0.2774292 </td><td>-0.8596718 </td><td>-1.09245617</td></tr>\n",
       "\t<tr><td> 1.0844412 </td><td>-0.2340333 </td><td>-0.60437119</td></tr>\n",
       "\t<tr><td>-2.3456977 </td><td>-1.1083900 </td><td>-0.31628358</td></tr>\n",
       "\t<tr><td> 0.4291247 </td><td> 1.1740564 </td><td> 0.12811924</td></tr>\n",
       "\t<tr><td> 0.5060559 </td><td> 0.1427425 </td><td>-1.34828519</td></tr>\n",
       "\t<tr><td>-0.5747400 </td><td>-0.7983795 </td><td> 0.01589008</td></tr>\n",
       "\t<tr><td>-0.5466319 </td><td>-1.1845113 </td><td>-1.85281366</td></tr>\n",
       "\t<tr><td>-0.5644520 </td><td>-1.1193977 </td><td>-0.79871668</td></tr>\n",
       "\t<tr><td>-0.8900378 </td><td> 1.9708163 </td><td> 0.44362278</td></tr>\n",
       "</tbody>\n",
       "</table>\n"
      ],
      "text/latex": [
       "\\begin{tabular}{r|lll}\n",
       " X & M & Y\\\\\n",
       "\\hline\n",
       "\t -1.2070657  & -1.0807256  & -0.62241968\\\\\n",
       "\t  0.2774292  & -0.8596718  & -1.09245617\\\\\n",
       "\t  1.0844412  & -0.2340333  & -0.60437119\\\\\n",
       "\t -2.3456977  & -1.1083900  & -0.31628358\\\\\n",
       "\t  0.4291247  &  1.1740564  &  0.12811924\\\\\n",
       "\t  0.5060559  &  0.1427425  & -1.34828519\\\\\n",
       "\t -0.5747400  & -0.7983795  &  0.01589008\\\\\n",
       "\t -0.5466319  & -1.1845113  & -1.85281366\\\\\n",
       "\t -0.5644520  & -1.1193977  & -0.79871668\\\\\n",
       "\t -0.8900378  &  1.9708163  &  0.44362278\\\\\n",
       "\\end{tabular}\n"
      ],
      "text/markdown": [
       "\n",
       "X | M | Y | \n",
       "|---|---|---|---|---|---|---|---|---|---|\n",
       "| -1.2070657  | -1.0807256  | -0.62241968 | \n",
       "|  0.2774292  | -0.8596718  | -1.09245617 | \n",
       "|  1.0844412  | -0.2340333  | -0.60437119 | \n",
       "| -2.3456977  | -1.1083900  | -0.31628358 | \n",
       "|  0.4291247  |  1.1740564  |  0.12811924 | \n",
       "|  0.5060559  |  0.1427425  | -1.34828519 | \n",
       "| -0.5747400  | -0.7983795  |  0.01589008 | \n",
       "| -0.5466319  | -1.1845113  | -1.85281366 | \n",
       "| -0.5644520  | -1.1193977  | -0.79871668 | \n",
       "| -0.8900378  |  1.9708163  |  0.44362278 | \n",
       "\n",
       "\n"
      ],
      "text/plain": [
       "   X          M          Y          \n",
       "1  -1.2070657 -1.0807256 -0.62241968\n",
       "2   0.2774292 -0.8596718 -1.09245617\n",
       "3   1.0844412 -0.2340333 -0.60437119\n",
       "4  -2.3456977 -1.1083900 -0.31628358\n",
       "5   0.4291247  1.1740564  0.12811924\n",
       "6   0.5060559  0.1427425 -1.34828519\n",
       "7  -0.5747400 -0.7983795  0.01589008\n",
       "8  -0.5466319 -1.1845113 -1.85281366\n",
       "9  -0.5644520 -1.1193977 -0.79871668\n",
       "10 -0.8900378  1.9708163  0.44362278"
      ]
     },
     "metadata": {},
     "output_type": "display_data"
    }
   ],
   "source": [
    "library(medmod)\n",
    "\n",
    "set.seed(1234)\n",
    "X <- rnorm(10)\n",
    "M <- 0.5*X + rnorm(10)\n",
    "Y <- 0.7*M + rnorm(10)\n",
    "dat <- data.frame(X=X, M=M, Y=Y)\n",
    "\n",
    "dat"
   ]
  },
  {
   "cell_type": "markdown",
   "metadata": {},
   "source": [
    "标准的中介分析"
   ]
  },
  {
   "cell_type": "code",
   "execution_count": 17,
   "metadata": {},
   "outputs": [
    {
     "data": {
      "text/plain": [
       "\n",
       " MEDIATION\n",
       "\n",
       " Mediation Estimates                                  \n",
       " ──────────────────────────────────────────────────── \n",
       "   Effect      Estimate    SE       Z         p       \n",
       " ──────────────────────────────────────────────────── \n",
       "   Indirect       0.143    0.160     0.895    0.371   \n",
       "   Direct        -0.295    0.164    -1.801    0.072   \n",
       "   Total         -0.151    0.219    -0.690    0.490   \n",
       " ──────────────────────────────────────────────────── \n",
       "\n",
       "[1] FALSE"
      ]
     },
     "metadata": {},
     "output_type": "display_data"
    }
   ],
   "source": [
    "med(dat, dep = \"Y\", pred = \"X\", med = \"M\")  # standard method"
   ]
  },
  {
   "cell_type": "code",
   "execution_count": 18,
   "metadata": {},
   "outputs": [
    {
     "data": {
      "text/plain": [
       "\n",
       " MEDIATION\n",
       "\n",
       " Mediation Estimates                                  \n",
       " ──────────────────────────────────────────────────── \n",
       "   Effect      Estimate    SE       Z         p       \n",
       " ──────────────────────────────────────────────────── \n",
       "   Indirect       0.143    0.160     0.895    0.371   \n",
       "   Direct        -0.295    0.164    -1.801    0.072   \n",
       "   Total         -0.151    0.219    -0.690    0.490   \n",
       " ──────────────────────────────────────────────────── \n",
       "\n",
       "\n",
       " Path Estimates                                          \n",
       " ─────────────────────────────────────────────────────── \n",
       "                  Estimate    SE       Z         p       \n",
       " ─────────────────────────────────────────────────────── \n",
       "   X    →    M       0.312    0.334     0.935    0.350   \n",
       "   M    →    Y       0.459    0.149     3.088    0.002   \n",
       "   X    →    Y      -0.295    0.164    -1.801    0.072   \n",
       " ─────────────────────────────────────────────────────── \n",
       "\n",
       "[1] FALSE"
      ]
     },
     "metadata": {},
     "output_type": "display_data"
    }
   ],
   "source": [
    "med(dat, dep = \"Y\", pred = \"X\", med = \"M\", paths=TRUE)  # show path estimates"
   ]
  },
  {
   "cell_type": "code",
   "execution_count": 19,
   "metadata": {},
   "outputs": [
    {
     "name": "stderr",
     "output_type": "stream",
     "text": [
      "Loading required namespace: ggplot2\n",
      "Scale for 'colour' is already present. Adding another scale for 'colour',\n",
      "which will replace the existing scale.\n"
     ]
    },
    {
     "data": {
      "text/plain": [
       "\n",
       " MEDIATION\n",
       "\n",
       " Mediation Estimates                                  \n",
       " ──────────────────────────────────────────────────── \n",
       "   Effect      Estimate    SE       Z         p       \n",
       " ──────────────────────────────────────────────────── \n",
       "   Indirect       0.143    0.160     0.895    0.371   \n",
       "   Direct        -0.295    0.164    -1.801    0.072   \n",
       "   Total         -0.151    0.219    -0.690    0.490   \n",
       " ──────────────────────────────────────────────────── \n",
       "\n",
       "[1] TRUE"
      ]
     },
     "metadata": {},
     "output_type": "display_data"
    },
    {
     "data": {
      "image/png": "[encoded data removed]",
      "text/plain": [
       "plot without title"
      ]
     },
     "metadata": {},
     "output_type": "display_data"
    }
   ],
   "source": [
    "med(dat, dep = \"Y\", pred = \"X\", med = \"M\", estPlot=TRUE)  # plot effects"
   ]
  },
  {
   "cell_type": "code",
   "execution_count": 20,
   "metadata": {},
   "outputs": [
    {
     "name": "stderr",
     "output_type": "stream",
     "text": [
      "Scale for 'colour' is already present. Adding another scale for 'colour',\n",
      "which will replace the existing scale.\n"
     ]
    },
    {
     "data": {
      "text/plain": [
       "\n",
       " MEDIATION\n",
       "\n",
       " Mediation Estimates                                  \n",
       " ──────────────────────────────────────────────────── \n",
       "   Effect      Estimate    SE       Z         p       \n",
       " ──────────────────────────────────────────────────── \n",
       "   Indirect       0.143    0.160     0.895    0.371   \n",
       "   Direct        -0.295    0.164    -1.801    0.072   \n",
       "   Total         -0.151    0.219    -0.690    0.490   \n",
       " ──────────────────────────────────────────────────── \n",
       "\n",
       "\n",
       " Path Estimates                                          \n",
       " ─────────────────────────────────────────────────────── \n",
       "                  Estimate    SE       Z         p       \n",
       " ─────────────────────────────────────────────────────── \n",
       "   X    →    M       0.312    0.334     0.935    0.350   \n",
       "   M    →    Y       0.459    0.149     3.088    0.002   \n",
       "   X    →    Y      -0.295    0.164    -1.801    0.072   \n",
       " ─────────────────────────────────────────────────────── \n",
       "\n",
       "[1] TRUE"
      ]
     },
     "metadata": {},
     "output_type": "display_data"
    },
    {
     "data": {
      "image/png": "[encoded data removed]",
      "text/plain": [
       "plot without title"
      ]
     },
     "metadata": {},
     "output_type": "display_data"
    }
   ],
   "source": [
    "med(dat, dep = \"Y\", pred = \"X\", med = \"M\", paths=TRUE, estPlot=TRUE)  # show paths and plot effects"
   ]
  },
  {
   "cell_type": "markdown",
   "metadata": {},
   "source": [
    "使用自助法(bootstrap)计算"
   ]
  },
  {
   "cell_type": "code",
   "execution_count": 21,
   "metadata": {},
   "outputs": [
    {
     "data": {
      "text/plain": [
       "\n",
       " MEDIATION\n",
       "\n",
       " Mediation Estimates                                  \n",
       " ──────────────────────────────────────────────────── \n",
       "   Effect      Estimate    SE       Z         p       \n",
       " ──────────────────────────────────────────────────── \n",
       "   Indirect       0.143    0.237     0.604    0.546   \n",
       "   Direct        -0.295    0.209    -1.411    0.158   \n",
       "   Total         -0.151    0.205    -0.737    0.461   \n",
       " ──────────────────────────────────────────────────── \n",
       "\n",
       "[1] FALSE"
      ]
     },
     "metadata": {},
     "output_type": "display_data"
    }
   ],
   "source": [
    "med(dat, dep = \"Y\", pred = \"X\", med = \"M\", estMethod = \"bootstrap\")  # use bootstrap method"
   ]
  },
  {
   "cell_type": "code",
   "execution_count": 22,
   "metadata": {},
   "outputs": [
    {
     "data": {
      "text/plain": [
       "\n",
       " MEDIATION\n",
       "\n",
       " Mediation Estimates                                  \n",
       " ──────────────────────────────────────────────────── \n",
       "   Effect      Estimate    SE       Z         p       \n",
       " ──────────────────────────────────────────────────── \n",
       "   Indirect       0.143    0.237     0.604    0.546   \n",
       "   Direct        -0.295    0.204    -1.442    0.149   \n",
       "   Total         -0.151    0.207    -0.732    0.464   \n",
       " ──────────────────────────────────────────────────── \n",
       "\n",
       "[1] FALSE"
      ]
     },
     "metadata": {},
     "output_type": "display_data"
    }
   ],
   "source": [
    "med(dat, dep = \"Y\", pred = \"X\", med = \"M\", estMethod = \"bootstrap\", bootstrap = 500)  \n",
    "# number of bootstrap, large number is preferred"
   ]
  },
  {
   "cell_type": "code",
   "execution_count": 23,
   "metadata": {},
   "outputs": [
    {
     "data": {
      "text/plain": [
       "\n",
       " MEDIATION\n",
       "\n",
       " Mediation Estimates                                                       \n",
       " ───────────────────────────────────────────────────────────────────────── \n",
       "   Effect      Estimate    SE       Lower     Upper      Z         p       \n",
       " ───────────────────────────────────────────────────────────────────────── \n",
       "   Indirect       0.143    0.268    -0.208     0.9365     0.535    0.593   \n",
       "   Direct        -0.295    0.206    -0.882    -0.0280    -1.432    0.152   \n",
       "   Total         -0.151    0.208    -0.578     0.3086    -0.727    0.467   \n",
       " ───────────────────────────────────────────────────────────────────────── \n",
       "\n",
       "[1] FALSE"
      ]
     },
     "metadata": {},
     "output_type": "display_data"
    }
   ],
   "source": [
    "med(dat, dep = \"Y\", pred = \"X\", med = \"M\", estMethod = \"bootstrap\", bootstrap = 500, ci = TRUE) \n",
    "# show confidence interval"
   ]
  }
 ],
 "metadata": {
  "kernelspec": {
   "display_name": "R",
   "language": "R",
   "name": "ir"
  },
  "language_info": {
   "codemirror_mode": "r",
   "file_extension": ".r",
   "mimetype": "text/x-r-source",
   "name": "R",
   "pygments_lexer": "r",
   "version": "3.5.1"
  }
 },
 "nbformat": 4,
 "nbformat_minor": 1
}
