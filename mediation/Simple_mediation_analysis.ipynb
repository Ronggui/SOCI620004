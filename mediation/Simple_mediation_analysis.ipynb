{
 "cells": [
  {
   "cell_type": "markdown",
   "metadata": {},
   "source": [
    "# 中介分析\n",
    "\n",
    "### 黄荣贵（复旦大学社会学系）"
   ]
  },
  {
   "cell_type": "markdown",
   "metadata": {},
   "source": [
    "## 中介分析基本框架\n",
    "\n",
    "假定\\\\(Y\\\\)是因变量，\\\\(X\\\\)是自变量，\\\\(M\\\\)是中介变量；其中，\\\\(X\\\\)部分（或完全）通过影响\\\\(M\\\\)而影响\\\\(Y\\\\)。这一关系可以表述为：\n",
    "\n",
    "$$Y = \\alpha_y + \\beta_{yx} X + \\epsilon_y$$\n",
    "\n",
    "$$M = \\alpha_m + \\beta_{mx} X + \\epsilon_m$$\n",
    "\n",
    "$$Y = \\alpha + \\beta_{m} M + \\beta_{x} X + \\epsilon$$\n",
    "\n",
    "如果我们将第二个公式代入到第三个公式，然后与第一个公式进行比较可以发现：\n",
    "\n",
    "$$ \\beta_{mx}\\beta_m = \\beta_{yx} - \\beta_x$$\n",
    "\n",
    "因此，只要我们估计第一个和第三个模型就可以得到中介效应 $\\beta_{mx}\\beta_m$。然而，为了估计中介效应是否显著，我们还需要估计相应的标准误$\\widehat{\\sigma_{\\beta_{mx}\\beta_m}}$。其中一种估计方法（Sobel，1982）如下：\n",
    "\n",
    "$$\\widehat{\\sigma_{\\beta_{mx}\\beta_m}} = \\sqrt{\\widehat{\\beta_{mx}^2} \\widehat{\\sigma^2_{\\beta_{m}}}+\\widehat{\\beta_{m}^2} \\widehat{\\sigma^2_{\\beta_{mx}}} }$$\n",
    "\n",
    "可见，为了估计中介效应的标准误，需要同时估计第二和第三个模型。\n",
    "\n",
    "得到标准误后，可以使用正态分布来估计其置信区间。然而，值得注意的是，由于中介效应呈偏态分布，根据上述标准误计算的置信区间无法很好反映真实的区间。"
   ]
  },
  {
   "cell_type": "code",
   "execution_count": 1,
   "metadata": {
    "scrolled": true
   },
   "outputs": [
    {
     "data": {
      "text/html": [
       "<ol class=list-inline>\n",
       "\t<li>'education'</li>\n",
       "\t<li>'income'</li>\n",
       "\t<li>'women'</li>\n",
       "\t<li>'prestige'</li>\n",
       "\t<li>'census'</li>\n",
       "\t<li>'type'</li>\n",
       "</ol>\n"
      ],
      "text/latex": [
       "\\begin{enumerate*}\n",
       "\\item 'education'\n",
       "\\item 'income'\n",
       "\\item 'women'\n",
       "\\item 'prestige'\n",
       "\\item 'census'\n",
       "\\item 'type'\n",
       "\\end{enumerate*}\n"
      ],
      "text/markdown": [
       "1. 'education'\n",
       "2. 'income'\n",
       "3. 'women'\n",
       "4. 'prestige'\n",
       "5. 'census'\n",
       "6. 'type'\n",
       "\n",
       "\n"
      ],
      "text/plain": [
       "[1] \"education\" \"income\"    \"women\"     \"prestige\"  \"census\"    \"type\"     "
      ]
     },
     "metadata": {},
     "output_type": "display_data"
    }
   ],
   "source": [
    "data(Prestige, package=\"carData\")\n",
    "\n",
    "names(Prestige)"
   ]
  },
  {
   "cell_type": "markdown",
   "metadata": {},
   "source": [
    "### 例子:教育程度在多大程度上通过收入而影响职业声望？\n",
    "\n",
    "#### 手工计算中介效应\n",
    "\n",
    "通过拟合三个模型，我们可以通过两种不同的方法计算中介效应。"
   ]
  },
  {
   "cell_type": "code",
   "execution_count": 2,
   "metadata": {},
   "outputs": [
    {
     "data": {
      "text/html": [
       "<strong>education:</strong> 1.22343334690889"
      ],
      "text/latex": [
       "\\textbf{education:} 1.22343334690889"
      ],
      "text/markdown": [
       "**education:** 1.22343334690889"
      ],
      "text/plain": [
       "education \n",
       " 1.223433 "
      ]
     },
     "metadata": {},
     "output_type": "display_data"
    }
   ],
   "source": [
    "mod_y <- lm(prestige ~ education, data = Prestige)\n",
    "mod_m <- lm(income ~ education, data = Prestige)\n",
    "mod_full <- lm(prestige ~ income + education, data = Prestige)\n",
    "coef(mod_m)['education'] * coef(mod_full)['income']  # mediation effect by multiplication"
   ]
  },
  {
   "cell_type": "code",
   "execution_count": 3,
   "metadata": {},
   "outputs": [
    {
     "data": {
      "text/html": [
       "<strong>education:</strong> 1.22343334690889"
      ],
      "text/latex": [
       "\\textbf{education:} 1.22343334690889"
      ],
      "text/markdown": [
       "**education:** 1.22343334690889"
      ],
      "text/plain": [
       "education \n",
       " 1.223433 "
      ]
     },
     "metadata": {},
     "output_type": "display_data"
    }
   ],
   "source": [
    "med_eff <- coef(mod_y)['education'] - coef(mod_full)['education']  # mediation effect by subtraction\n",
    "med_eff  # save for futher use"
   ]
  },
  {
   "cell_type": "markdown",
   "metadata": {},
   "source": [
    "下面我们直接计算中介效应的标准误，以及对95%置信的估计。"
   ]
  },
  {
   "cell_type": "code",
   "execution_count": 4,
   "metadata": {},
   "outputs": [
    {
     "data": {
      "text/html": [
       "<strong>education:</strong> 0.265541396398982"
      ],
      "text/latex": [
       "\\textbf{education:} 0.265541396398982"
      ],
      "text/markdown": [
       "**education:** 0.265541396398982"
      ],
      "text/plain": [
       "education \n",
       "0.2655414 "
      ]
     },
     "metadata": {},
     "output_type": "display_data"
    }
   ],
   "source": [
    "sd_eff_sq <- coef(mod_m)['education']^2 * vcov(mod_full)['income', 'income'] + \n",
    "             coef(mod_full)['income']^2 * vcov(mod_m)['education', 'education']\n",
    "sd_eff <- sqrt(sd_eff_sq)  # SE of mediation effect\n",
    "sd_eff"
   ]
  },
  {
   "cell_type": "code",
   "execution_count": 5,
   "metadata": {},
   "outputs": [
    {
     "data": {
      "text/html": [
       "<strong>education:</strong> 4.60731683835334"
      ],
      "text/latex": [
       "\\textbf{education:} 4.60731683835334"
      ],
      "text/markdown": [
       "**education:** 4.60731683835334"
      ],
      "text/plain": [
       "education \n",
       " 4.607317 "
      ]
     },
     "metadata": {},
     "output_type": "display_data"
    }
   ],
   "source": [
    "med_eff / sd_eff # Z value"
   ]
  },
  {
   "cell_type": "code",
   "execution_count": 6,
   "metadata": {},
   "outputs": [
    {
     "data": {
      "text/html": [
       "<dl class=dl-horizontal>\n",
       "\t<dt>education</dt>\n",
       "\t\t<dd>0.702972209966885</dd>\n",
       "\t<dt>education</dt>\n",
       "\t\t<dd>1.74389448385089</dd>\n",
       "</dl>\n"
      ],
      "text/latex": [
       "\\begin{description*}\n",
       "\\item[education] 0.702972209966885\n",
       "\\item[education] 1.74389448385089\n",
       "\\end{description*}\n"
      ],
      "text/markdown": [
       "education\n",
       ":   0.702972209966885education\n",
       ":   1.74389448385089\n",
       "\n"
      ],
      "text/plain": [
       "education education \n",
       "0.7029722 1.7438945 "
      ]
     },
     "metadata": {},
     "output_type": "display_data"
    }
   ],
   "source": [
    "c(med_eff - 1.96*sd_eff, med_eff + 1.96*sd_eff)  # 95% CI"
   ]
  },
  {
   "cell_type": "markdown",
   "metadata": {},
   "source": [
    "我们可以把上面的计算过程封装起来，从而得到计算中介效应及其区间的函数。"
   ]
  },
  {
   "cell_type": "markdown",
   "metadata": {},
   "source": [
    "#### 使用sobel函数进行中介分析"
   ]
  },
  {
   "cell_type": "code",
   "execution_count": 7,
   "metadata": {
    "scrolled": true
   },
   "outputs": [
    {
     "name": "stderr",
     "output_type": "stream",
     "text": [
      "Loading required package: nlme\n",
      "Loading required package: MASS\n"
     ]
    }
   ],
   "source": [
    "library(multilevel)"
   ]
  },
  {
   "cell_type": "code",
   "execution_count": 8,
   "metadata": {},
   "outputs": [
    {
     "data": {
      "text/html": [
       "<dl>\n",
       "\t<dt>$`Mod1: Y~X`</dt>\n",
       "\t\t<dd><table>\n",
       "<thead><tr><th></th><th scope=col>Estimate</th><th scope=col>Std. Error</th><th scope=col>t value</th><th scope=col>Pr(&gt;|t|)</th></tr></thead>\n",
       "<tbody>\n",
       "\t<tr><th scope=row>(Intercept)</th><td>-10.731982  </td><td>3.6770883   </td><td>-2.918609   </td><td>4.343443e-03</td></tr>\n",
       "\t<tr><th scope=row>pred</th><td>  5.360878  </td><td>0.3319882   </td><td>16.147796   </td><td>1.286264e-29</td></tr>\n",
       "</tbody>\n",
       "</table>\n",
       "</dd>\n",
       "\t<dt>$`Mod2: Y~X+M`</dt>\n",
       "\t\t<dd><table>\n",
       "<thead><tr><th></th><th scope=col>Estimate</th><th scope=col>Std. Error</th><th scope=col>t value</th><th scope=col>Pr(&gt;|t|)</th></tr></thead>\n",
       "<tbody>\n",
       "\t<tr><th scope=row>(Intercept)</th><td>-6.847778720</td><td>3.2189770963</td><td>-2.127315   </td><td>3.587840e-02</td></tr>\n",
       "\t<tr><th scope=row>pred</th><td> 4.137444384</td><td>0.3489120233</td><td>11.858131   </td><td>1.032202e-20</td></tr>\n",
       "\t<tr><th scope=row>med</th><td> 0.001361166</td><td>0.0002242121</td><td> 6.070886   </td><td>2.355196e-08</td></tr>\n",
       "</tbody>\n",
       "</table>\n",
       "</dd>\n",
       "\t<dt>$`Mod3: M~X`</dt>\n",
       "\t\t<dd><table>\n",
       "<thead><tr><th></th><th scope=col>Estimate</th><th scope=col>Std. Error</th><th scope=col>t value</th><th scope=col>Pr(&gt;|t|)</th></tr></thead>\n",
       "<tbody>\n",
       "\t<tr><th scope=row>(Intercept)</th><td>-2853.5856  </td><td>1407.0392   </td><td>-2.028078   </td><td>4.521163e-02</td></tr>\n",
       "\t<tr><th scope=row>pred</th><td>  898.8128  </td><td> 127.0354   </td><td> 7.075294   </td><td>2.079192e-10</td></tr>\n",
       "</tbody>\n",
       "</table>\n",
       "</dd>\n",
       "\t<dt>$Indirect.Effect</dt>\n",
       "\t\t<dd>1.22343334690888</dd>\n",
       "\t<dt>$SE</dt>\n",
       "\t\t<dd>0.265541396398982</dd>\n",
       "\t<dt>$z.value</dt>\n",
       "\t\t<dd>4.60731683835332</dd>\n",
       "\t<dt>$N</dt>\n",
       "\t\t<dd>102</dd>\n",
       "</dl>\n"
      ],
      "text/latex": [
       "\\begin{description}\n",
       "\\item[\\$`Mod1: Y\\textasciitilde{}X`] \\begin{tabular}{r|llll}\n",
       "  & Estimate & Std. Error & t value & Pr(>\\textbar{}t\\textbar{})\\\\\n",
       "\\hline\n",
       "\t(Intercept) & -10.731982   & 3.6770883    & -2.918609    & 4.343443e-03\\\\\n",
       "\tpred &   5.360878   & 0.3319882    & 16.147796    & 1.286264e-29\\\\\n",
       "\\end{tabular}\n",
       "\n",
       "\\item[\\$`Mod2: Y\\textasciitilde{}X+M`] \\begin{tabular}{r|llll}\n",
       "  & Estimate & Std. Error & t value & Pr(>\\textbar{}t\\textbar{})\\\\\n",
       "\\hline\n",
       "\t(Intercept) & -6.847778720 & 3.2189770963 & -2.127315    & 3.587840e-02\\\\\n",
       "\tpred &  4.137444384 & 0.3489120233 & 11.858131    & 1.032202e-20\\\\\n",
       "\tmed &  0.001361166 & 0.0002242121 &  6.070886    & 2.355196e-08\\\\\n",
       "\\end{tabular}\n",
       "\n",
       "\\item[\\$`Mod3: M\\textasciitilde{}X`] \\begin{tabular}{r|llll}\n",
       "  & Estimate & Std. Error & t value & Pr(>\\textbar{}t\\textbar{})\\\\\n",
       "\\hline\n",
       "\t(Intercept) & -2853.5856   & 1407.0392    & -2.028078    & 4.521163e-02\\\\\n",
       "\tpred &   898.8128   &  127.0354    &  7.075294    & 2.079192e-10\\\\\n",
       "\\end{tabular}\n",
       "\n",
       "\\item[\\$Indirect.Effect] 1.22343334690888\n",
       "\\item[\\$SE] 0.265541396398982\n",
       "\\item[\\$z.value] 4.60731683835332\n",
       "\\item[\\$N] 102\n",
       "\\end{description}\n"
      ],
      "text/markdown": [
       "$`Mod1: Y~X`\n",
       ":   \n",
       "| <!--/--> | Estimate | Std. Error | t value | Pr(>|t|) | \n",
       "|---|---|\n",
       "| (Intercept) | -10.731982   | 3.6770883    | -2.918609    | 4.343443e-03 | \n",
       "| pred |   5.360878   | 0.3319882    | 16.147796    | 1.286264e-29 | \n",
       "\n",
       "\n",
       "\n",
       "$`Mod2: Y~X+M`\n",
       ":   \n",
       "| <!--/--> | Estimate | Std. Error | t value | Pr(>|t|) | \n",
       "|---|---|---|\n",
       "| (Intercept) | -6.847778720 | 3.2189770963 | -2.127315    | 3.587840e-02 | \n",
       "| pred |  4.137444384 | 0.3489120233 | 11.858131    | 1.032202e-20 | \n",
       "| med |  0.001361166 | 0.0002242121 |  6.070886    | 2.355196e-08 | \n",
       "\n",
       "\n",
       "\n",
       "$`Mod3: M~X`\n",
       ":   \n",
       "| <!--/--> | Estimate | Std. Error | t value | Pr(>|t|) | \n",
       "|---|---|\n",
       "| (Intercept) | -2853.5856   | 1407.0392    | -2.028078    | 4.521163e-02 | \n",
       "| pred |   898.8128   |  127.0354    |  7.075294    | 2.079192e-10 | \n",
       "\n",
       "\n",
       "\n",
       "$Indirect.Effect\n",
       ":   1.22343334690888\n",
       "$SE\n",
       ":   0.265541396398982\n",
       "$z.value\n",
       ":   4.60731683835332\n",
       "$N\n",
       ":   102\n",
       "\n",
       "\n"
      ],
      "text/plain": [
       "$`Mod1: Y~X`\n",
       "              Estimate Std. Error   t value     Pr(>|t|)\n",
       "(Intercept) -10.731982  3.6770883 -2.918609 4.343443e-03\n",
       "pred          5.360878  0.3319882 16.147796 1.286264e-29\n",
       "\n",
       "$`Mod2: Y~X+M`\n",
       "                Estimate   Std. Error   t value     Pr(>|t|)\n",
       "(Intercept) -6.847778720 3.2189770963 -2.127315 3.587840e-02\n",
       "pred         4.137444384 0.3489120233 11.858131 1.032202e-20\n",
       "med          0.001361166 0.0002242121  6.070886 2.355196e-08\n",
       "\n",
       "$`Mod3: M~X`\n",
       "              Estimate Std. Error   t value     Pr(>|t|)\n",
       "(Intercept) -2853.5856  1407.0392 -2.028078 4.521163e-02\n",
       "pred          898.8128   127.0354  7.075294 2.079192e-10\n",
       "\n",
       "$Indirect.Effect\n",
       "[1] 1.223433\n",
       "\n",
       "$SE\n",
       "[1] 0.2655414\n",
       "\n",
       "$z.value\n",
       "[1] 4.607317\n",
       "\n",
       "$N\n",
       "[1] 102\n"
      ]
     },
     "metadata": {},
     "output_type": "display_data"
    }
   ],
   "source": [
    "with(Prestige, sobel(education, income, prestige))"
   ]
  },
  {
   "cell_type": "markdown",
   "metadata": {},
   "source": [
    "### 通过bootstrap法计算中介效应及其置信区间\n",
    "\n",
    "\n",
    "Bollen和Stine是这个方法的倡导者。相关讨论详见：Bollen, K. A. & Stine, R. 1990. Direct and indirect effects: classical and bootstrap estimates of variability Sociological Methodology, 20, 115–140.\n",
    "\n",
    "首先，定义一个函数计算中介效应。该函数具有两个参数，第一个参数是数据框，第二个参数是bootstrap法随机抽取的案例的标识（行数）。"
   ]
  },
  {
   "cell_type": "code",
   "execution_count": 9,
   "metadata": {},
   "outputs": [],
   "source": [
    "coef_diff <- function(d, i){\n",
    "    dat <- d[i, ]\n",
    "    mod_y <- lm(prestige ~ education, data = dat)\n",
    "    mod_full <- lm(prestige ~ income + education, data = dat)\n",
    "    med_eff <- coef(mod_y)['education'] - coef(mod_full)['education'] ## mediation effect by subtraction\n",
    "    med_eff\n",
    "}"
   ]
  },
  {
   "cell_type": "markdown",
   "metadata": {},
   "source": [
    "接下来，加载boot程序包，并调用同名函数进行bootstrap计算。其中，我们将抽样次数R设置为1000，stype参数设置为i。"
   ]
  },
  {
   "cell_type": "code",
   "execution_count": 10,
   "metadata": {},
   "outputs": [
    {
     "data": {
      "text/plain": [
       "\n",
       "ORDINARY NONPARAMETRIC BOOTSTRAP\n",
       "\n",
       "\n",
       "Call:\n",
       "boot(data = Prestige, statistic = coef_diff, R = 1000, stype = \"i\")\n",
       "\n",
       "\n",
       "Bootstrap Statistics :\n",
       "    original     bias    std. error\n",
       "t1* 1.223433 0.03059583    0.253062"
      ]
     },
     "metadata": {},
     "output_type": "display_data"
    }
   ],
   "source": [
    "library(boot)\n",
    "\n",
    "(med.boot <- boot(Prestige, coef_diff, R = 1000, stype=\"i\"))"
   ]
  },
  {
   "cell_type": "markdown",
   "metadata": {},
   "source": [
    "original: 原始样本计算得到的统计量\n",
    "\n",
    "bias: R次bootstrap得到样本量的均值 - original\n",
    "\n",
    "std.error: R次bootstrap样本统计量的标准差"
   ]
  },
  {
   "cell_type": "markdown",
   "metadata": {},
   "source": [
    "第三，调用boot.ci函数计算置信区间。与Bollen and Stine（1990）相一致，我们计算的是percentile置信区间（type = \"perc\"）。"
   ]
  },
  {
   "cell_type": "code",
   "execution_count": 11,
   "metadata": {},
   "outputs": [
    {
     "data": {
      "text/plain": [
       "BOOTSTRAP CONFIDENCE INTERVAL CALCULATIONS\n",
       "Based on 1000 bootstrap replicates\n",
       "\n",
       "CALL : \n",
       "boot.ci(boot.out = med.boot, type = \"perc\")\n",
       "\n",
       "Intervals : \n",
       "Level     Percentile     \n",
       "95%   ( 0.820,  1.801 )  \n",
       "Calculations and Intervals on Original Scale"
      ]
     },
     "metadata": {},
     "output_type": "display_data"
    }
   ],
   "source": [
    "boot.ci(med.boot, type = \"perc\")"
   ]
  },
  {
   "cell_type": "markdown",
   "metadata": {},
   "source": [
    "通过密度图来检查bootstrap结果的分布。同时，通过curve函数增加一个正态分布曲线来做参考。结果显示，bootstrap结果略显偏态分布。"
   ]
  },
  {
   "cell_type": "code",
   "execution_count": 12,
   "metadata": {},
   "outputs": [
    {
     "data": {
      "image/png": "[encoded data removed]",
      "text/plain": [
       "Plot with title “Bootstrap mediation effect”"
      ]
     },
     "metadata": {},
     "output_type": "display_data"
    }
   ],
   "source": [
    "plot(density(med.boot$t), main = \"Bootstrap mediation effect\")\n",
    "curve(dnorm(x, mean=mean(med.boot$t), sd=sd(med.boot$t)), add = TRUE, col='red', lty=2)"
   ]
  },
  {
   "cell_type": "code",
   "execution_count": 13,
   "metadata": {},
   "outputs": [
    {
     "data": {
      "text/plain": [
       "\n",
       "ORDINARY NONPARAMETRIC BOOTSTRAP\n",
       "\n",
       "\n",
       "Call:\n",
       "boot(data = Prestige, statistic = coef_diff2, R = 1000, stype = \"i\")\n",
       "\n",
       "\n",
       "Bootstrap Statistics :\n",
       "     original      bias    std. error\n",
       "t1* 1.2234333 0.031332396  0.25454835\n",
       "t2* 0.2282151 0.005063449  0.04792437"
      ]
     },
     "metadata": {},
     "output_type": "display_data"
    }
   ],
   "source": [
    "coef_diff2 <- function(d, i){\n",
    "    dat <- d[i, ]\n",
    "    mod_y <- lm(prestige ~ education, data = dat)\n",
    "    mod_full <- lm(prestige ~ income + education, data = dat)\n",
    "    med_eff <- coef(mod_y)['education'] - coef(mod_full)['education']  # mediation effect by subtraction\n",
    "    pct <- med_eff / coef(mod_y)['education']\n",
    "    c(med_eff, pct)\n",
    "}\n",
    "\n",
    "(med.boot2 <- boot(Prestige, coef_diff2, R = 1000, stype=\"i\"))"
   ]
  },
  {
   "cell_type": "code",
   "execution_count": 14,
   "metadata": {},
   "outputs": [
    {
     "data": {
      "text/plain": [
       "BOOTSTRAP CONFIDENCE INTERVAL CALCULATIONS\n",
       "Based on 1000 bootstrap replicates\n",
       "\n",
       "CALL : \n",
       "boot.ci(boot.out = med.boot2, conf = 0.95, type = \"perc\", index = 1)\n",
       "\n",
       "Intervals : \n",
       "Level     Percentile     \n",
       "95%   ( 0.795,  1.811 )  \n",
       "Calculations and Intervals on Original Scale"
      ]
     },
     "metadata": {},
     "output_type": "display_data"
    }
   ],
   "source": [
    "boot.ci(med.boot2, conf=0.95, type=\"perc\", index=1)"
   ]
  },
  {
   "cell_type": "code",
   "execution_count": 32,
   "metadata": {},
   "outputs": [
    {
     "data": {
      "text/plain": [
       "BOOTSTRAP CONFIDENCE INTERVAL CALCULATIONS\n",
       "Based on 1000 bootstrap replicates\n",
       "\n",
       "CALL : \n",
       "boot.ci(boot.out = med.boot2, conf = 0.95, type = \"perc\", index = 2)\n",
       "\n",
       "Intervals : \n",
       "Level     Percentile     \n",
       "95%   ( 0.1516,  0.3456 )  \n",
       "Calculations and Intervals on Original Scale"
      ]
     },
     "metadata": {},
     "output_type": "display_data"
    }
   ],
   "source": [
    "boot.ci(med.boot2, conf=0.95, type=\"perc\", index=2)"
   ]
  },
  {
   "cell_type": "markdown",
   "metadata": {},
   "source": [
    "## 贝叶斯中介分析：单层次回归\n",
    "\n",
    "通过贝叶斯方法计算上述中介分析可以得到中介效应的分布，从而可以直接计算中介效应的置信区间，而无需依赖对中介效应抽样分布的假定（详见Yuan and MacKinnon. (2009). Bayesian Mediation Analysis. Psychol Methods. 14(4): 301–322. ）。我们可以使用rjags程序包进行计算。\n",
    "\n",
    "首先，我们使用BUGS/JAGS语言编写上述模型，并将模型以一个字符对象的形式保存起来。在下面的模型设定中：\n",
    "* N表示样本量\n",
    "* 在BUGS语言中，~ 表示分布，<- 则表示确定性关系\n",
    "* 在BUGS语言中， dnorm(正态分布)的第二个参数是precision，是方差的倒数\n",
    "* 在BUGS语言中，dgamma表示gamma分布，该分布描述方差先验分布，a和b这两个参数设置为0.001 意味着无信息先验分布\n",
    "* 通过定义theta =  beta_mx * beta_m，我们可以得到中介效应"
   ]
  },
  {
   "cell_type": "code",
   "execution_count": 22,
   "metadata": {},
   "outputs": [],
   "source": [
    "mediation_model <- \"\n",
    "model {\n",
    "   for(i in 1:N)\n",
    "   {\n",
    "      m[i] ~ dnorm(mean.m[i], prec.m)\n",
    "      mean.m[i] <- alpha_m + beta_mx * x[i]\n",
    "      y[i] ~ dnorm(mean.y[i], prec.y)\n",
    "      mean.y[i] <- alpha + beta_m * m[i] + beta_x * x[i]\n",
    "   }\n",
    "   alpha_m ~ dnorm(0, 1.0E-6)\n",
    "   beta_mx ~ dnorm(0, 1.0E-6)\n",
    "   alpha ~ dnorm(0, 1.0E-6)\n",
    "   beta_m ~ dnorm(0, 1.0E-6)\n",
    "   beta_x ~ dnorm(0, 1.0E-6)\n",
    "   # dgamma (a, b) is a gamma distribution with the shape parameter a and\n",
    "   # inverse scale parameter b.\n",
    "   prec.y ~ dgamma(0.001, 0.001)\n",
    "   prec.m ~ dgamma(0.001, 0.001)\n",
    "   theta <-  beta_mx * beta_m\n",
    "}\n",
    "\""
   ]
  },
  {
   "cell_type": "markdown",
   "metadata": {},
   "source": [
    "第二，将所需要的数据构建成一个列表。\n",
    "\n",
    "第三，加载rjags程序包，调用jags.model生成一个BUGS模型。值得注意的是，jags.model的第一个参数是文本连接（或保存在电脑中的文本文件），因此我们需要通过textConnect函数将上述字符格式的BUGS模型定义转换为文本连接。\n",
    "\n",
    "第四，通过update函数，开始更新模型。\n",
    "\n",
    "第五，通过coda.samples函数抽样，得到我们所需要的信息（在这里例子中，我们关心的是theta）。\n",
    "\n",
    "最后，通过summary函数和plot函数得到theta的分布。"
   ]
  },
  {
   "cell_type": "code",
   "execution_count": 23,
   "metadata": {},
   "outputs": [
    {
     "name": "stdout",
     "output_type": "stream",
     "text": [
      "Compiling model graph\n",
      "   Resolving undeclared variables\n",
      "   Allocating nodes\n",
      "Graph information:\n",
      "   Observed stochastic nodes: 204\n",
      "   Unobserved stochastic nodes: 7\n",
      "   Total graph size: 818\n",
      "\n",
      "Initializing model\n",
      "\n"
     ]
    },
    {
     "data": {
      "text/plain": [
       "\n",
       "Iterations = 5001:7000\n",
       "Thinning interval = 1 \n",
       "Number of chains = 4 \n",
       "Sample size per chain = 2000 \n",
       "\n",
       "1. Empirical mean and standard deviation for each variable,\n",
       "   plus standard error of the mean:\n",
       "\n",
       "          Mean             SD       Naive SE Time-series SE \n",
       "      1.009088       0.202368       0.002263       0.007522 \n",
       "\n",
       "2. Quantiles for each variable:\n",
       "\n",
       "  2.5%    25%    50%    75%  97.5% \n",
       "0.6264 0.8712 1.0019 1.1386 1.4208 \n"
      ]
     },
     "execution_count": 23,
     "metadata": {},
     "output_type": "execute_result"
    }
   ],
   "source": [
    "DL <- list(N = nrow(Prestige),\n",
    "           y = Prestige$prestige,\n",
    "           x = Prestige$education,\n",
    "           m = Prestige$income\n",
    "          )\n",
    "\n",
    "library(rjags)\n",
    "jags <- jags.model(textConnection(mediation_model), data=DL,n.chains=4, n.adapt=100)\n",
    "update(jags, 5000)\n",
    "samps <- coda.samples(jags, c(\"theta\"), 2000)\n",
    "summary(samps)\n",
    "# plot(samps)"
   ]
  },
  {
   "cell_type": "markdown",
   "metadata": {},
   "source": [
    "从上述图形可知，模型混合得良好（可以进一步通过诊断分析来判断模型是否混合良好），得到的分布可认为接近理论分布。\n",
    "* 分析结果现实，中介效应的分别略呈右偏态。\n",
    "* 比较贝叶斯中介分析和Sobel方法的结果可知，Sobel方法略高估了中介效应。"
   ]
  }
 ],
 "metadata": {
  "kernelspec": {
   "display_name": "R",
   "language": "R",
   "name": "ir"
  },
  "language_info": {
   "codemirror_mode": "r",
   "file_extension": ".r",
   "mimetype": "text/x-r-source",
   "name": "R",
   "pygments_lexer": "r",
   "version": "3.5.1"
  }
 },
 "nbformat": 4,
 "nbformat_minor": 1
}
