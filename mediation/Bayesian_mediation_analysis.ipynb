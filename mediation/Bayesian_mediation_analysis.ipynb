{
 "cells": [
  {
   "cell_type": "markdown",
   "metadata": {},
   "source": [
    "# 中介分析\n",
    "\n",
    "### 黄荣贵（复旦大学社会学系）"
   ]
  },
  {
   "cell_type": "markdown",
   "metadata": {},
   "source": [
    "## 贝叶斯中介分析：单层次回归\n",
    "\n",
    "通过贝叶斯方法计算上述中介分析可以得到中介效应的分布，从而可以直接计算中介效应的置信区间，而无需依赖对中介效应抽样分布的假定（详见Yuan and MacKinnon. (2009). Bayesian Mediation Analysis. Psychol Methods. 14(4): 301–322. ）。我们可以使用rjags程序包进行计算。\n",
    "\n",
    "首先，我们使用BUGS/JAGS语言编写上述模型，并将模型以一个字符对象的形式保存起来。在下面的模型设定中：\n",
    "* N表示样本量\n",
    "* 在BUGS语言中，~ 表示分布，<- 则表示确定性关系\n",
    "* 在BUGS语言中， dnorm(正态分布)的第二个参数是precision，是方差的倒数\n",
    "* 在BUGS语言中，dgamma表示gamma分布，该分布描述方差先验分布，a和b这两个参数设置为0.001 意味着无信息先验分布\n",
    "* 通过定义theta =  beta_mx * beta_m，我们可以得到中介效应"
   ]
  },
  {
   "cell_type": "code",
   "execution_count": 1,
   "metadata": {},
   "outputs": [],
   "source": [
    "mediation_model <- \"\n",
    "model {\n",
    "   for(i in 1:N)\n",
    "   {\n",
    "      m[i] ~ dnorm(mean.m[i], prec.m)\n",
    "      mean.m[i] <- alpha_m + beta_mx * x[i]\n",
    "      y[i] ~ dnorm(mean.y[i], prec.y)\n",
    "      mean.y[i] <- alpha + beta_m * m[i] + beta_x * x[i]\n",
    "   }\n",
    "   alpha_m ~ dnorm(0, 1.0E-6)\n",
    "   beta_mx ~ dnorm(0, 1.0E-6)\n",
    "   alpha ~ dnorm(0, 1.0E-6)\n",
    "   beta_m ~ dnorm(0, 1.0E-6)\n",
    "   beta_x ~ dnorm(0, 1.0E-6)\n",
    "   # dgamma (a, b) is a gamma distribution with the shape parameter a and\n",
    "   # inverse scale parameter b.\n",
    "   prec.y ~ dgamma(0.001, 0.001)\n",
    "   prec.m ~ dgamma(0.001, 0.001)\n",
    "   theta <-  beta_mx * beta_m\n",
    "}\n",
    "\""
   ]
  },
  {
   "cell_type": "markdown",
   "metadata": {},
   "source": [
    "第二，将所需要的数据构建成一个列表。\n",
    "\n",
    "第三，加载rjags程序包，调用jags.model生成一个BUGS模型。值得注意的是，jags.model的第一个参数是文本连接（或保存在电脑中的文本文件），因此我们需要通过textConnect函数将上述字符格式的BUGS模型定义转换为文本连接。\n",
    "\n",
    "第四，通过update函数，开始更新模型。\n",
    "\n",
    "第五，通过coda.samples函数抽样，得到我们所需要的信息（在这里例子中，我们关心的是theta）。\n",
    "\n",
    "最后，通过summary函数和plot函数得到theta的分布。"
   ]
  },
  {
   "cell_type": "code",
   "execution_count": 2,
   "metadata": {},
   "outputs": [
    {
     "name": "stderr",
     "output_type": "stream",
     "text": [
      "Loading required package: coda\n",
      "Linked to JAGS 4.2.0\n",
      "Loaded modules: basemod,bugs\n"
     ]
    },
    {
     "name": "stdout",
     "output_type": "stream",
     "text": [
      "Compiling model graph\n",
      "   Resolving undeclared variables\n",
      "   Allocating nodes\n",
      "Graph information:\n",
      "   Observed stochastic nodes: 204\n",
      "   Unobserved stochastic nodes: 7\n",
      "   Total graph size: 818\n",
      "\n",
      "Initializing model\n",
      "\n"
     ]
    },
    {
     "data": {
      "text/plain": [
       "\n",
       "Iterations = 5001:7000\n",
       "Thinning interval = 1 \n",
       "Number of chains = 4 \n",
       "Sample size per chain = 2000 \n",
       "\n",
       "1. Empirical mean and standard deviation for each variable,\n",
       "   plus standard error of the mean:\n",
       "\n",
       "          Mean             SD       Naive SE Time-series SE \n",
       "      0.988648       0.198220       0.002216       0.007387 \n",
       "\n",
       "2. Quantiles for each variable:\n",
       "\n",
       "  2.5%    25%    50%    75%  97.5% \n",
       "0.6259 0.8516 0.9826 1.1199 1.3947 \n"
      ]
     },
     "metadata": {},
     "output_type": "display_data"
    }
   ],
   "source": [
    "data(Prestige, package=\"carData\")\n",
    "\n",
    "DL <- list(N = nrow(Prestige),\n",
    "           y = Prestige$prestige,\n",
    "           x = Prestige$education,\n",
    "           m = Prestige$income\n",
    "          )\n",
    "\n",
    "library(rjags)\n",
    "jags <- jags.model(textConnection(mediation_model), data=DL,n.chains=4, n.adapt=100)\n",
    "update(jags, 5000)\n",
    "samps <- coda.samples(jags, c(\"theta\"), 2000)\n",
    "summary(samps)\n",
    "# plot(samps)"
   ]
  },
  {
   "cell_type": "markdown",
   "metadata": {},
   "source": [
    "从上述图形可知，模型混合得良好（可以进一步通过诊断分析来判断模型是否混合良好），得到的分布可认为接近理论分布。\n",
    "* 分析结果现实，中介效应的分别略呈右偏态。\n",
    "* 比较贝叶斯中介分析和Sobel方法的结果可知，Sobel方法略高估了中介效应。"
   ]
  },
  {
   "cell_type": "markdown",
   "metadata": {},
   "source": [
    "## 贝叶斯中介分析：多层次回归（模拟分析）\n",
    "\n",
    "贝叶斯中介分析可以容易地延伸至多层次回归的中介分析。对于如下模型：\n",
    "$$M_{ij} = \\alpha_{m,j} + \\beta_{mx,j} X_{ij} + \\epsilon_{m,ij}$$\n",
    "\n",
    "$$Y_{ij} = \\alpha_j + \\beta_{m,j} M_{ij} + \\beta_{x,j} X_{ij} + \\epsilon_{ij}$$"
   ]
  },
  {
   "cell_type": "markdown",
   "metadata": {},
   "source": [
    "我们设定上述模型的参数分布，从而可以生成模拟数据集。其中，\n",
    "\n",
    "$$\\alpha_{m,j} \\sim\\ N(0, 0.6)$$\n",
    "$$\\alpha_{j} \\sim\\ N(0, 0.4)$$\n",
    "$$\\epsilon_{m,ij} \\sim\\ N(0, 0.65)$$\n",
    "$$\\beta_{x,j} \\sim\\ N(0.2, 0.04)$$\n",
    "$$\\epsilon_{ij} \\sim\\ N(0, 0.45)$$\n",
    "\n",
    "系数$(\\beta_{mx, j}, \\beta_{m,j})$对应的期望为$(0.6, 0.6)$，方差分别是$(0.3, 0.4)$，协方差矩阵为0.13。\n",
    "\n",
    "此外，第一层次有N1=50单位，第二层次有N2=30单位。\n",
    "\n",
    "下面的命令生成符合上述设定的随机数："
   ]
  },
  {
   "cell_type": "code",
   "execution_count": 3,
   "metadata": {},
   "outputs": [],
   "source": [
    "I <- 50 ## the i-th measure for a specific subject\n",
    "J <- 30 ## the j-th subject\n",
    "N <- I * J\n",
    "Xij <- rnorm(n = N, mean = 30, sd = 5)\n",
    "measures <- rep(1:I, times = J)\n",
    "subjects <- rep(1:J, each=I)\n",
    "alpha_mj <- rep( rnorm(J, 0, sqrt(0.6)), each=I)\n",
    "alpha_j <- rep( rnorm(J, 0, sqrt(0.4)), each=I)\n",
    "e_mij <- rnorm(N, 0, sqrt(0.65))\n",
    "beta_xj <- rep( rnorm(J, 0.2, sqrt(0.04)), each=I)\n",
    "e_ij <- rnorm(N, 0, sqrt(0.45))\n",
    "library(MASS)\n",
    "Beta_mxj_Beta_mj <- mvrnorm(n=J, mu=c(0.4, 0.5), Sigma=matrix(c(0.3,0.13,0.13,0.4), ncol=2))\n",
    "beta_mxj <- rep( Beta_mxj_Beta_mj[,1], each=I)\n",
    "beta_mj <- rep( Beta_mxj_Beta_mj[,2], each=I)\n",
    "Mij <- alpha_mj + beta_mxj * Xij + e_mij\n",
    "Yij <- alpha_j + beta_mj * Mij + beta_xj * Xij + e_ij"
   ]
  },
  {
   "cell_type": "markdown",
   "metadata": {},
   "source": [
    "接下来，通过BUGS（JAGS）语言拟合上述模型。"
   ]
  },
  {
   "cell_type": "code",
   "execution_count": 4,
   "metadata": {},
   "outputs": [],
   "source": [
    "med_mlm <- \"\n",
    "model {\n",
    "  \n",
    "  ## random coefficients\n",
    "  for (j in 1:J) {\n",
    "    # indepdent normal distribution\n",
    "    alpha_mj[j] ~ dnorm(alpha_mj_mu, prec.alpha_mj_mu)\n",
    "    alpha_j[j] ~ dnorm(alpha_j_mu, prec.alpha_j_mu)\n",
    "    beta_xj[j] ~ dnorm(beta_xj_mu, prec.beta_xj_mu)\n",
    "    # bivariate normal distribution for beta_mxj and beta_mj\n",
    "    Betas[j, 1:2] ~ dmnorm(Betas_mu[ ], prec.Betas_mu[ , ])\n",
    "    # note it is dmnorm instead of dnorm \n",
    "  }\n",
    "  \n",
    "  ## the two models\n",
    "  for (irow in 1:N) {\n",
    "    # model of m\n",
    "    mean.m[irow] <- alpha_mj[ subjects[irow] ]  +  Betas[ subjects[irow] , 1] * x[irow]\n",
    "    m[irow] ~ dnorm(mean.m[irow], prec.m)\n",
    "    \n",
    "    # model of y\n",
    "    mean.y[irow] <-  alpha_j[ subjects[irow] ] + Betas[ subjects[irow] , 2] * m[irow] + beta_xj[ subjects[irow] ] * x[irow]\n",
    "    y[irow] ~ dnorm(mean.y[irow], prec.y)\n",
    "  }\n",
    "  \n",
    "  ## priors associated with indepdent random coefficients\n",
    "  alpha_mj_mu ~ dnorm(0.0, 1.0E-6)\n",
    "  alpha_j_mu ~ dnorm(0.0, 1.0E-6)\n",
    "  beta_xj_mu ~ dnorm(0.000001, 1.0E-6) ## use a very small value instead of 0 to monitor ratio\n",
    "  sigma.alpha_mj_mu ~ dunif(0, 100) ## note: it is dunif instead of runif\n",
    "  sigma.alpha_j_mu ~ dunif(0, 100)\n",
    "  sigma.beta_xj_mu ~ dunif(0, 100)\n",
    "  prec.alpha_mj_mu <- pow(sigma.alpha_mj_mu, -2)\n",
    "  prec.alpha_j_mu <- pow(sigma.alpha_j_mu, -2)\n",
    "  prec.beta_xj_mu <- pow(sigma.beta_xj_mu, -2)\n",
    "  ## alternatively, we can put priors on prec and then calc sigma\n",
    "  \n",
    "  ## priors on Betas_mu and prec.Betas_mu\n",
    "  ## priors on Betas_mu\n",
    "  Betas_mu[1:2] ~ dmnorm(mean[ ] , prec[,])\n",
    "  ## specify the values of hypyer-priors\n",
    "  mean[1] <- 0\n",
    "  mean[2] <-  0\n",
    "  prec[1, 1] <-  1.0E-6\n",
    "  prec[1, 2] <-  0\n",
    "  prec[2, 1] <-  0\n",
    "  prec[2, 2] <-  1.0E-6\n",
    "  ## priors on prec.Betas_mu (vague inverse-Wishart prior)\n",
    "  prec.Betas_mu[1:2 , 1:2] ~ dwish(Omega[ , ], 2)\n",
    "  Omega[1, 1] <-  0.001\n",
    "  Omega[1, 2] <-  0.0\n",
    "  Omega[2, 1] <-  0.0\n",
    "  Omega[2, 2] <-  0.001\n",
    "  \n",
    "  # Priors for error term pricisions (inverse gamma priors)\n",
    "  prec.m ~ dgamma(0.001, 0.001)\n",
    "  prec.y ~ dgamma(0.001, 0.001)\n",
    "  \n",
    "  # vague uniform priors for standard deviations of the second level model\n",
    "  sigma.beta2 ~ dunif(0, 100)\n",
    "  sigma.taup ~ dunif(0, 100)\n",
    "  sigma.beta3 ~ dunif(0, 100)\n",
    "  prec.beta2 <-  1/(sigma.beta2*sigma.beta2)\n",
    "  prec.taup <-  1/(sigma.taup*sigma.taup)\n",
    "  prec.beta3 <-  1/(sigma.beta3*sigma.beta3)\n",
    "  \n",
    "  ## generated quantities\n",
    "  var.Betas[1, 1] <-  prec.Betas_mu[2,2] / (prec.Betas_mu[1,1] * prec.Betas_mu[2,2] - prec.Betas_mu[1,2] * prec.Betas_mu[2,1])\n",
    "  var.Betas[1, 2] <-  - prec.Betas_mu[1,2] / (prec.Betas_mu[1,1] * prec.Betas_mu[2,2] - prec.Betas_mu[1,2] * prec.Betas_mu[2,1])\n",
    "  var.Betas[2, 1] <-  - prec.Betas_mu[2,1] / (prec.Betas_mu[1,1] * prec.Betas_mu[2,2] - prec.Betas_mu[1,2] * prec.Betas_mu[2,1])\n",
    "  var.Betas[2, 2] <-  prec.Betas_mu[1,1] / (prec.Betas_mu[1,1] * prec.Betas_mu[2,2] - prec.Betas_mu[1,2] * prec.Betas_mu[2,1])\n",
    "  \n",
    "  ##  mediated is the average mediated effect\n",
    "  mediated <- Betas_mu[1] * Betas_mu[2] + var.Betas[1, 2]\n",
    "  total <-  Betas_mu[1] * Betas_mu[2] + var.Betas[1, 2] + beta_xj_mu\n",
    "  ratio <-  mediated / total\n",
    "}\n",
    "\""
   ]
  },
  {
   "cell_type": "code",
   "execution_count": 5,
   "metadata": {},
   "outputs": [
    {
     "name": "stdout",
     "output_type": "stream",
     "text": [
      "Compiling model graph\n",
      "   Resolving undeclared variables\n",
      "   Allocating nodes\n",
      "Graph information:\n",
      "   Observed stochastic nodes: 3000\n",
      "   Unobserved stochastic nodes: 133\n",
      "   Total graph size: 13772\n",
      "\n",
      "Initializing model\n",
      "\n"
     ]
    }
   ],
   "source": [
    "library(rjags) \n",
    "mod <- jags.model(textConnection(med_mlm), data=list(N=N, J=J, y = Yij, x=Xij, m=Mij, subjects=subjects) )\n",
    "update(mod, 10000)"
   ]
  },
  {
   "cell_type": "code",
   "execution_count": 6,
   "metadata": {},
   "outputs": [
    {
     "data": {
      "text/plain": [
       "\n",
       "Iterations = 11001:16000\n",
       "Thinning interval = 1 \n",
       "Number of chains = 1 \n",
       "Sample size per chain = 5000 \n",
       "\n",
       "1. Empirical mean and standard deviation for each variable,\n",
       "   plus standard error of the mean:\n",
       "\n",
       "               Mean      SD  Naive SE Time-series SE\n",
       "Betas_mu[1] 0.28805 0.09297 0.0013148       0.001315\n",
       "Betas_mu[2] 0.37571 0.12674 0.0017924       0.002141\n",
       "alpha_j_mu  0.20994 0.17479 0.0024718       0.016841\n",
       "alpha_mj_mu 0.02749 0.22254 0.0031472       0.016197\n",
       "beta_xj_mu  0.11537 0.03432 0.0004854       0.001647\n",
       "mediated    0.29518 0.10157 0.0014363       0.001569\n",
       "ratio       0.70770 0.09632 0.0013622       0.003318\n",
       "total       0.41056 0.10598 0.0014988       0.001619\n",
       "\n",
       "2. Quantiles for each variable:\n",
       "\n",
       "                2.5%      25%     50%    75%  97.5%\n",
       "Betas_mu[1]  0.10153  0.22636 0.28786 0.3514 0.4684\n",
       "Betas_mu[2]  0.12029  0.29300 0.37747 0.4595 0.6262\n",
       "alpha_j_mu  -0.14221  0.09797 0.21454 0.3244 0.5456\n",
       "alpha_mj_mu -0.42894 -0.11558 0.03086 0.1794 0.4663\n",
       "beta_xj_mu   0.04826  0.09267 0.11523 0.1379 0.1842\n",
       "mediated     0.13718  0.22379 0.28197 0.3507 0.5307\n",
       "ratio        0.50793  0.64582 0.71568 0.7743 0.8783\n",
       "total        0.23782  0.33839 0.39945 0.4681 0.6509\n"
      ]
     },
     "metadata": {},
     "output_type": "display_data"
    }
   ],
   "source": [
    "samp <- coda.samples(mod, variable.names = c(\"mediated\", \"total\", \"ratio\", \"alpha_j_mu\",\"alpha_mj_mu\", \"Betas_mu\", \"beta_xj_mu\"), n.iter = 5000)\n",
    "summary(samp)"
   ]
  }
 ],
 "metadata": {
  "kernelspec": {
   "display_name": "R",
   "language": "R",
   "name": "ir"
  },
  "language_info": {
   "codemirror_mode": "r",
   "file_extension": ".r",
   "mimetype": "text/x-r-source",
   "name": "R",
   "pygments_lexer": "r",
   "version": "3.5.1"
  }
 },
 "nbformat": 4,
 "nbformat_minor": 1
}
