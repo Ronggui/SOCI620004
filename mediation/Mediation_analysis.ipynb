{
 "cells": [
  {
   "cell_type": "markdown",
   "metadata": {},
   "source": [
    "# 中介分析基本框架\n",
    "\n",
    "假定\\\\(Y\\\\)是因变量，\\\\(X\\\\)是自变量，\\\\(M\\\\)是中介变量；其中，\\\\(X\\\\)部分（或完全）通过影响\\\\(M\\\\)而影响\\\\(Y\\\\)。这一关系可以表述为：\n",
    "\n",
    "$$Y = \\alpha_y + \\beta_{yx} X + \\epsilon_y$$\n",
    "\n",
    "$$M = \\alpha_m + \\beta_{mx} X + \\epsilon_m$$\n",
    "\n",
    "$$Y = \\alpha + \\beta_{m} M + \\beta_{x} X + \\epsilon$$\n",
    "\n",
    "如果我们将第二个公式代入到第三个公式，然后与第一个公式进行比较可以发现：\n",
    "\n",
    "$$ \\beta_{mx}\\beta_m = \\beta_{yx} - \\beta_x$$\n",
    "\n",
    "因此，只要我们估计第一个和第三个模型就可以得到中介效应 $\\beta_{mx}\\beta_m$。然而，为了估计中介效应是否显著，我们还需要估计相应的标准误$\\widehat{\\sigma_{\\beta_{mx}\\beta_m}}$。其中一种估计方法（Sobel，1982）如下：\n",
    "\n",
    "$$\\widehat{\\sigma_{\\beta_{mx}\\beta_m}} = \\sqrt{\\widehat{\\beta_{mx}^2} \\widehat{\\sigma^2_{\\beta_{m}}}+\\widehat{\\beta_{m}^2} \\widehat{\\sigma^2_{\\beta_{mx}}} }$$\n",
    "\n",
    "可见，为了估计中介效应的标准误，需要同时估计第二和第三个模型。\n",
    "\n",
    "得到标准误后，可以使用正态分布来估计其置信区间。然而，值得注意的是，由于中介效应呈偏态分布，根据上述标准误计算的置信区间无法很好反映真实的区间。"
   ]
  },
  {
   "cell_type": "code",
   "execution_count": 2,
   "metadata": {
    "collapsed": false,
    "scrolled": true
   },
   "outputs": [
    {
     "data": {
      "text/html": [
       "<ol class=list-inline>\n",
       "\t<li>'education'</li>\n",
       "\t<li>'income'</li>\n",
       "\t<li>'women'</li>\n",
       "\t<li>'prestige'</li>\n",
       "\t<li>'census'</li>\n",
       "\t<li>'type'</li>\n",
       "</ol>\n"
      ],
      "text/latex": [
       "\\begin{enumerate*}\n",
       "\\item 'education'\n",
       "\\item 'income'\n",
       "\\item 'women'\n",
       "\\item 'prestige'\n",
       "\\item 'census'\n",
       "\\item 'type'\n",
       "\\end{enumerate*}\n"
      ],
      "text/markdown": [
       "1. 'education'\n",
       "2. 'income'\n",
       "3. 'women'\n",
       "4. 'prestige'\n",
       "5. 'census'\n",
       "6. 'type'\n",
       "\n",
       "\n"
      ],
      "text/plain": [
       "[1] \"education\" \"income\"    \"women\"     \"prestige\"  \"census\"    \"type\"     "
      ]
     },
     "execution_count": 2,
     "metadata": {},
     "output_type": "execute_result"
    }
   ],
   "source": [
    "library(car)\n",
    "names(Prestige)"
   ]
  },
  {
   "cell_type": "markdown",
   "metadata": {},
   "source": [
    "#### 例子:教育程度在多大程度上通过收入而影响职业声望？\n",
    "\n",
    "通过拟合三个模型，我们可以通过两种不同的方法计算中介效应。"
   ]
  },
  {
   "cell_type": "code",
   "execution_count": 9,
   "metadata": {
    "collapsed": false
   },
   "outputs": [
    {
     "data": {
      "text/html": [
       "<strong>education:</strong> 1.22343334690888"
      ],
      "text/latex": [
       "\\textbf{education:} 1.22343334690888"
      ],
      "text/markdown": [
       "**education:** 1.22343334690888"
      ],
      "text/plain": [
       "education \n",
       " 1.223433 "
      ]
     },
     "execution_count": 9,
     "metadata": {},
     "output_type": "execute_result"
    },
    {
     "data": {
      "text/html": [
       "<strong>education:</strong> 1.22343334690888"
      ],
      "text/latex": [
       "\\textbf{education:} 1.22343334690888"
      ],
      "text/markdown": [
       "**education:** 1.22343334690888"
      ],
      "text/plain": [
       "education \n",
       " 1.223433 "
      ]
     },
     "execution_count": 9,
     "metadata": {},
     "output_type": "execute_result"
    }
   ],
   "source": [
    "mod_y <- lm(prestige ~ education, data = Prestige)\n",
    "mod_m <- lm(income ~ education, data = Prestige)\n",
    "mod_full <- lm(prestige ~ income + education, data = Prestige)\n",
    "coef(mod_m)['education'] * coef(mod_full)['income'] ## mediation effect by multiplication\n",
    "med_eff <- coef(mod_y)['education'] - coef(mod_full)['education'] ## mediation effect by subtraction\n",
    "med_eff ## save for futher use"
   ]
  },
  {
   "cell_type": "markdown",
   "metadata": {},
   "source": [
    "下面我们直接计算中介效应的标准误，以及对95%置信的估计。"
   ]
  },
  {
   "cell_type": "code",
   "execution_count": 15,
   "metadata": {
    "collapsed": false
   },
   "outputs": [
    {
     "data": {
      "text/html": [
       "<dl class=dl-horizontal>\n",
       "\t<dt>education</dt>\n",
       "\t\t<dd>0.702972209966879</dd>\n",
       "\t<dt>education</dt>\n",
       "\t\t<dd>1.74389448385089</dd>\n",
       "</dl>\n"
      ],
      "text/latex": [
       "\\begin{description*}\n",
       "\\item[education] 0.702972209966879\n",
       "\\item[education] 1.74389448385089\n",
       "\\end{description*}\n"
      ],
      "text/markdown": [
       "education\n",
       ":   0.702972209966879education\n",
       ":   1.74389448385089\n",
       "\n"
      ],
      "text/plain": [
       "education education \n",
       "0.7029722 1.7438945 "
      ]
     },
     "execution_count": 15,
     "metadata": {},
     "output_type": "execute_result"
    }
   ],
   "source": [
    "sd_eff_sq <- coef(mod_m)['education']^2 * vcov(mod_full)['income', 'income'] + coef(mod_full)['income']^2 * vcov(mod_m)['education', 'education']\n",
    "sd_eff <- sqrt(sd_eff_sq) ## SE of mediation effect\n",
    "c(med_eff - 1.96*sd_eff, med_eff + 1.96*sd_eff) # 95% CI"
   ]
  },
  {
   "cell_type": "markdown",
   "metadata": {},
   "source": [
    "我们可以把上面的计算过程封装起来，从而得到计算中介效应及其区间的函数。"
   ]
  }
 ],
 "metadata": {
  "kernelspec": {
   "display_name": "R",
   "language": "R",
   "name": "ir"
  },
  "language_info": {
   "codemirror_mode": "r",
   "file_extension": ".r",
   "mimetype": "text/x-r-source",
   "name": "R",
   "pygments_lexer": "r",
   "version": "3.2.2"
  }
 },
 "nbformat": 4,
 "nbformat_minor": 0
}
