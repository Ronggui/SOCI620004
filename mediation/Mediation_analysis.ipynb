{
 "cells": [
  {
   "cell_type": "markdown",
   "metadata": {},
   "source": [
    "# 中介分析基本框架\n",
    "\n",
    "假定\\\\(Y\\\\)是因变量，\\\\(X\\\\)是自变量，\\\\(M\\\\)是中介变量；其中，\\\\(X\\\\)部分（或完全）通过影响\\\\(M\\\\)而影响\\\\(Y\\\\)。这一关系可以表述为：\n",
    "\n",
    "$$Y = \\alpha_y + \\beta_{yx} X + \\epsilon_y$$\n",
    "\n",
    "$$M = \\alpha_m + \\beta_{mx} X + \\epsilon_m$$\n",
    "\n",
    "$$Y = \\alpha + \\beta_{m} M + \\beta_{x} X + \\epsilon$$\n",
    "\n",
    "如果我们将第二个公式代入到第三个公式，然后与第一个公式进行比较可以发现：\n",
    "\n",
    "$$ \\beta_{mx}\\beta_m = \\beta_{yx} - \\beta_x$$\n",
    "\n",
    "因此，只要我们估计第一个和第三个模型就可以得到中介效应 $\\beta_{mx}\\beta_m$。然而，为了估计中介效应是否显著，我们还需要估计相应的标准误$\\widehat{\\sigma_{\\beta_{mx}\\beta_m}}$。其中一种估计方法（Sobel，1982）如下：\n",
    "\n",
    "$$\\widehat{\\sigma_{\\beta_{mx}\\beta_m}} = \\sqrt{\\widehat{\\beta_{mx}^2} \\widehat{\\sigma^2_{\\beta_{m}}}+\\widehat{\\beta_{m}^2} \\widehat{\\sigma^2_{\\beta_{mx}}} }$$\n",
    "\n",
    "可见，为了估计中介效应的标准误，需要同时估计第二和第三个模型。\n",
    "\n",
    "得到标准误后，可以使用正态分布来估计其置信区间。然而，值得注意的是，由于中介效应呈偏态分布，根据上述标准误计算的置信区间无法很好反映真实的区间。"
   ]
  },
  {
   "cell_type": "code",
   "execution_count": 22,
   "metadata": {
    "collapsed": false,
    "scrolled": true
   },
   "outputs": [
    {
     "data": {
      "text/html": [
       "<ol class=list-inline>\n",
       "\t<li>'education'</li>\n",
       "\t<li>'income'</li>\n",
       "\t<li>'women'</li>\n",
       "\t<li>'prestige'</li>\n",
       "\t<li>'census'</li>\n",
       "\t<li>'type'</li>\n",
       "</ol>\n"
      ],
      "text/latex": [
       "\\begin{enumerate*}\n",
       "\\item 'education'\n",
       "\\item 'income'\n",
       "\\item 'women'\n",
       "\\item 'prestige'\n",
       "\\item 'census'\n",
       "\\item 'type'\n",
       "\\end{enumerate*}\n"
      ],
      "text/markdown": [
       "1. 'education'\n",
       "2. 'income'\n",
       "3. 'women'\n",
       "4. 'prestige'\n",
       "5. 'census'\n",
       "6. 'type'\n",
       "\n",
       "\n"
      ],
      "text/plain": [
       "[1] \"education\" \"income\"    \"women\"     \"prestige\"  \"census\"    \"type\"     "
      ]
     },
     "execution_count": 22,
     "metadata": {},
     "output_type": "execute_result"
    }
   ],
   "source": [
    "data(Prestige, package=\"car\")\n",
    "names(Prestige)"
   ]
  },
  {
   "cell_type": "markdown",
   "metadata": {},
   "source": [
    "#### 例子:教育程度在多大程度上通过收入而影响职业声望？\n",
    "\n",
    "通过拟合三个模型，我们可以通过两种不同的方法计算中介效应。"
   ]
  },
  {
   "cell_type": "code",
   "execution_count": 20,
   "metadata": {
    "collapsed": false
   },
   "outputs": [
    {
     "data": {
      "text/html": [
       "<strong>education:</strong> 1.22343334690888"
      ],
      "text/latex": [
       "\\textbf{education:} 1.22343334690888"
      ],
      "text/markdown": [
       "**education:** 1.22343334690888"
      ],
      "text/plain": [
       "education \n",
       " 1.223433 "
      ]
     },
     "execution_count": 20,
     "metadata": {},
     "output_type": "execute_result"
    },
    {
     "data": {
      "text/html": [
       "<strong>education:</strong> 1.22343334690888"
      ],
      "text/latex": [
       "\\textbf{education:} 1.22343334690888"
      ],
      "text/markdown": [
       "**education:** 1.22343334690888"
      ],
      "text/plain": [
       "education \n",
       " 1.223433 "
      ]
     },
     "execution_count": 20,
     "metadata": {},
     "output_type": "execute_result"
    }
   ],
   "source": [
    "mod_y <- lm(prestige ~ education, data = Prestige)\n",
    "mod_m <- lm(income ~ education, data = Prestige)\n",
    "mod_full <- lm(prestige ~ income + education, data = Prestige)\n",
    "coef(mod_m)['education'] * coef(mod_full)['income'] ## mediation effect by multiplication\n",
    "med_eff <- coef(mod_y)['education'] - coef(mod_full)['education'] ## mediation effect by subtraction\n",
    "med_eff ## save for futher use"
   ]
  },
  {
   "cell_type": "markdown",
   "metadata": {},
   "source": [
    "下面我们直接计算中介效应的标准误，以及对95%置信的估计。"
   ]
  },
  {
   "cell_type": "code",
   "execution_count": 21,
   "metadata": {
    "collapsed": false
   },
   "outputs": [
    {
     "data": {
      "text/html": [
       "<dl class=dl-horizontal>\n",
       "\t<dt>education</dt>\n",
       "\t\t<dd>0.702972209966879</dd>\n",
       "\t<dt>education</dt>\n",
       "\t\t<dd>1.74389448385089</dd>\n",
       "</dl>\n"
      ],
      "text/latex": [
       "\\begin{description*}\n",
       "\\item[education] 0.702972209966879\n",
       "\\item[education] 1.74389448385089\n",
       "\\end{description*}\n"
      ],
      "text/markdown": [
       "education\n",
       ":   0.702972209966879education\n",
       ":   1.74389448385089\n",
       "\n"
      ],
      "text/plain": [
       "education education \n",
       "0.7029722 1.7438945 "
      ]
     },
     "execution_count": 21,
     "metadata": {},
     "output_type": "execute_result"
    }
   ],
   "source": [
    "sd_eff_sq <- coef(mod_m)['education']^2 * vcov(mod_full)['income', 'income'] + coef(mod_full)['income']^2 * vcov(mod_m)['education', 'education']\n",
    "sd_eff <- sqrt(sd_eff_sq) ## SE of mediation effect\n",
    "c(med_eff - 1.96*sd_eff, med_eff + 1.96*sd_eff) # 95% CI"
   ]
  },
  {
   "cell_type": "markdown",
   "metadata": {},
   "source": [
    "我们可以把上面的计算过程封装起来，从而得到计算中介效应及其区间的函数。"
   ]
  },
  {
   "cell_type": "markdown",
   "metadata": {},
   "source": [
    "## 通过bootstrap法计算中介效应及其置信区间\n",
    "\n",
    "\n",
    "Bollen和Stine是这个方法的倡导者。相关讨论详见：Bollen, K. A. & Stine, R. 1990. Direct and indirect effects: classical and bootstrap estimates of variability Sociological Methodology, 20, 115–140.\n",
    "\n",
    "首先，定义一个函数计算中介效应。该函数具有两个参数，第一个参数是数据框，第二个参数是bootstrap法随机抽取的案例的标识（行数）。"
   ]
  },
  {
   "cell_type": "code",
   "execution_count": 8,
   "metadata": {
    "collapsed": false
   },
   "outputs": [],
   "source": [
    "coef_diff <- function(d, i){\n",
    "    dat <- d[i, ]\n",
    "    mod_y <- lm(prestige ~ education, data = dat)\n",
    "    mod_full <- lm(prestige ~ income + education, data = dat)\n",
    "    med_eff <- coef(mod_y)['education'] - coef(mod_full)['education'] ## mediation effect by subtraction\n",
    "    med_eff\n",
    "}"
   ]
  },
  {
   "cell_type": "markdown",
   "metadata": {},
   "source": [
    "接下来，加载boot程序包，并调用同名函数进行bootstrap计算。其中，我们将抽样次数R设置为1000，stype参数设置为i。"
   ]
  },
  {
   "cell_type": "code",
   "execution_count": 19,
   "metadata": {
    "collapsed": false
   },
   "outputs": [
    {
     "data": {
      "text/plain": [
       "\n",
       "ORDINARY NONPARAMETRIC BOOTSTRAP\n",
       "\n",
       "\n",
       "Call:\n",
       "boot(data = Prestige, statistic = coef_diff, R = 1000, stype = \"i\")\n",
       "\n",
       "\n",
       "Bootstrap Statistics :\n",
       "    original     bias    std. error\n",
       "t1* 1.223433 0.04291656   0.2567511"
      ]
     },
     "execution_count": 19,
     "metadata": {},
     "output_type": "execute_result"
    }
   ],
   "source": [
    "library(boot)\n",
    "(med.boot <- boot(Prestige, coef_diff, R = 1000, stype=\"i\"))"
   ]
  },
  {
   "cell_type": "markdown",
   "metadata": {},
   "source": [
    "第三，调用boot.ci函数计算置信区间。与Bollen and Stine（1990）相一致，我们计算的是percentile置信区间（type = \"perc\"）。"
   ]
  },
  {
   "cell_type": "code",
   "execution_count": 20,
   "metadata": {
    "collapsed": false
   },
   "outputs": [
    {
     "data": {
      "text/plain": [
       "BOOTSTRAP CONFIDENCE INTERVAL CALCULATIONS\n",
       "Based on 1000 bootstrap replicates\n",
       "\n",
       "CALL : \n",
       "boot.ci(boot.out = med.boot, type = \"perc\")\n",
       "\n",
       "Intervals : \n",
       "Level     Percentile     \n",
       "95%   ( 0.801,  1.828 )  \n",
       "Calculations and Intervals on Original Scale"
      ]
     },
     "execution_count": 20,
     "metadata": {},
     "output_type": "execute_result"
    }
   ],
   "source": [
    "boot.ci(med.boot, type = \"perc\")"
   ]
  },
  {
   "cell_type": "markdown",
   "metadata": {},
   "source": [
    "通过密度图来检查bootstrap结果的分布。同时，通过curve函数增加一个正态分布曲线来做参考。结果显示，bootstrap结果略显偏态分布。"
   ]
  },
  {
   "cell_type": "code",
   "execution_count": 21,
   "metadata": {
    "collapsed": false
   },
   "outputs": [
    {
     "data": {
      "image/png": "[encoded data removed]",
      "image/svg+xml": [
       "<?xml version=\"1.0\" encoding=\"UTF-8\"?>\n",
       "<svg xmlns=\"http://www.w3.org/2000/svg\" xmlns:xlink=\"http://www.w3.org/1999/xlink\" width=\"504pt\" height=\"504pt\" viewBox=\"0 0 504 504\" version=\"1.1\">\n",
       "<defs>\n",
       "<g>\n",
       "<symbol overflow=\"visible\" id=\"glyph0-0\">\n",
       "<path style=\"stroke:none;\" d=\"\"/>\n",
       "</symbol>\n",
       "<symbol overflow=\"visible\" id=\"glyph0-1\">\n",
       "<path style=\"stroke:none;\" d=\"M 6.21875 -4.21875 C 6.21875 -7.171875 5.140625 -8.765625 3.296875 -8.765625 C 1.46875 -8.765625 0.375 -7.15625 0.375 -4.296875 C 0.375 -1.421875 1.46875 0.1875 3.296875 0.1875 C 5.09375 0.1875 6.21875 -1.421875 6.21875 -4.21875 Z M 4.859375 -4.3125 C 4.859375 -1.90625 4.453125 -0.953125 3.28125 -0.953125 C 2.15625 -0.953125 1.734375 -1.953125 1.734375 -4.28125 C 1.734375 -6.609375 2.15625 -7.578125 3.296875 -7.578125 C 4.4375 -7.578125 4.859375 -6.59375 4.859375 -4.3125 Z M 4.859375 -4.3125 \"/>\n",
       "</symbol>\n",
       "<symbol overflow=\"visible\" id=\"glyph0-2\">\n",
       "<path style=\"stroke:none;\" d=\"M 2.421875 -0.125 L 2.421875 -1.515625 L 0.90625 -1.515625 L 0.90625 0 L 2.421875 0 Z M 2.421875 -0.125 \"/>\n",
       "</symbol>\n",
       "<symbol overflow=\"visible\" id=\"glyph0-3\">\n",
       "<path style=\"stroke:none;\" d=\"M 6.28125 -2.953125 C 6.28125 -4.625 5.046875 -5.875 3.40625 -5.875 C 2.8125 -5.875 2.21875 -5.671875 2.015625 -5.515625 L 2.28125 -7.28125 L 5.84375 -7.28125 L 5.84375 -8.59375 L 1.203125 -8.59375 L 0.515625 -3.875 L 1.71875 -3.875 C 2.25 -4.5 2.5625 -4.671875 3.21875 -4.671875 C 4.359375 -4.671875 4.9375 -4.0625 4.9375 -2.8125 C 4.9375 -1.578125 4.375 -1.015625 3.21875 -1.015625 C 2.296875 -1.015625 1.859375 -1.359375 1.578125 -2.453125 L 0.25 -2.453125 C 0.625 -0.625 1.734375 0.1875 3.234375 0.1875 C 4.953125 0.1875 6.28125 -1.15625 6.28125 -2.953125 Z M 6.28125 -2.953125 \"/>\n",
       "</symbol>\n",
       "<symbol overflow=\"visible\" id=\"glyph0-4\">\n",
       "<path style=\"stroke:none;\" d=\"M 4.296875 -0.125 L 4.296875 -8.765625 L 3.359375 -8.765625 C 2.953125 -7.328125 2.859375 -7.28125 1.078125 -7.0625 L 1.078125 -6.0625 L 2.96875 -6.0625 L 2.96875 0 L 4.296875 0 Z M 4.296875 -0.125 \"/>\n",
       "</symbol>\n",
       "<symbol overflow=\"visible\" id=\"glyph0-5\">\n",
       "<path style=\"stroke:none;\" d=\"M 6.265625 -6.140625 C 6.265625 -7.578125 5.015625 -8.765625 3.40625 -8.765625 C 1.671875 -8.765625 0.515625 -7.75 0.453125 -5.5625 L 1.78125 -5.5625 C 1.875 -7.109375 2.328125 -7.578125 3.375 -7.578125 C 4.328125 -7.578125 4.90625 -7.03125 4.90625 -6.125 C 4.90625 -5.453125 4.546875 -4.96875 3.796875 -4.53125 L 2.6875 -3.90625 C 0.90625 -2.90625 0.359375 -2 0.25 0 L 6.203125 0 L 6.203125 -1.3125 L 1.75 -1.3125 C 1.84375 -1.875 2.1875 -2.21875 3.234375 -2.828125 L 4.421875 -3.484375 C 5.609375 -4.109375 6.265625 -5.09375 6.265625 -6.140625 Z M 6.265625 -6.140625 \"/>\n",
       "</symbol>\n",
       "<symbol overflow=\"visible\" id=\"glyph0-6\">\n",
       "<path style=\"stroke:none;\" d=\"M 7.890625 -0.125 L 7.890625 -9.015625 L 6.546875 -9.015625 L 6.546875 -1.734375 L 6.796875 -1.828125 L 2.1875 -9.015625 L 0.765625 -9.015625 L 0.765625 0 L 2.09375 0 L 2.09375 -7.21875 L 1.859375 -7.125 L 6.421875 0 L 7.890625 0 Z M 7.890625 -0.125 \"/>\n",
       "</symbol>\n",
       "<symbol overflow=\"visible\" id=\"glyph0-7\">\n",
       "<path style=\"stroke:none;\" d=\"\"/>\n",
       "</symbol>\n",
       "<symbol overflow=\"visible\" id=\"glyph0-8\">\n",
       "<path style=\"stroke:none;\" d=\"M 6.328125 -3.8125 L 6.328125 -4.765625 L 0.671875 -4.765625 L 0.671875 -3.6875 L 6.328125 -3.6875 Z M 6.328125 -1.625 L 6.328125 -2.578125 L 0.671875 -2.578125 L 0.671875 -1.5 L 6.328125 -1.5 Z M 6.328125 -1.625 \"/>\n",
       "</symbol>\n",
       "<symbol overflow=\"visible\" id=\"glyph0-9\">\n",
       "<path style=\"stroke:none;\" d=\"M 7.609375 -2.625 C 7.609375 -3.6875 7 -4.453125 5.875 -4.890625 L 5.875 -4.625 C 6.671875 -4.984375 7.21875 -5.765625 7.21875 -6.65625 C 7.21875 -7.9375 6.15625 -9.015625 4.5 -9.015625 L 0.796875 -9.015625 L 0.796875 0 L 4.890625 0 C 6.46875 0 7.609375 -1.1875 7.609375 -2.625 Z M 5.828125 -6.5 C 5.828125 -5.609375 5.453125 -5.25 4.21875 -5.25 L 2.203125 -5.25 L 2.203125 -7.765625 L 4.21875 -7.765625 C 5.453125 -7.765625 5.828125 -7.390625 5.828125 -6.5 Z M 6.21875 -2.609375 C 6.21875 -1.78125 5.84375 -1.25 4.78125 -1.25 L 2.203125 -1.25 L 2.203125 -4 L 4.78125 -4 C 5.84375 -4 6.21875 -3.46875 6.21875 -2.609375 Z M 6.21875 -2.609375 \"/>\n",
       "</symbol>\n",
       "<symbol overflow=\"visible\" id=\"glyph0-10\">\n",
       "<path style=\"stroke:none;\" d=\"M 6.546875 -0.15625 L 6.546875 -1.078125 C 6.3125 -1.015625 6.265625 -1.015625 6.203125 -1.015625 C 5.859375 -1.015625 5.796875 -1.0625 5.796875 -1.375 L 5.796875 -4.890625 C 5.796875 -6 4.84375 -6.734375 3.296875 -6.734375 C 1.78125 -6.734375 0.703125 -6.015625 0.640625 -4.421875 L 1.90625 -4.421875 C 2 -5.328125 2.328125 -5.546875 3.265625 -5.546875 C 4.15625 -5.546875 4.53125 -5.34375 4.53125 -4.734375 L 4.53125 -4.46875 C 4.53125 -4.0625 4.421875 -4.015625 3.625 -3.90625 C 2.203125 -3.734375 1.984375 -3.6875 1.609375 -3.53125 C 0.875 -3.234375 0.359375 -2.53125 0.359375 -1.765625 C 0.359375 -0.625 1.296875 0.1875 2.5625 0.1875 C 3.375 0.1875 4.25 -0.1875 4.625 -0.59375 C 4.671875 -0.390625 5.25 0.078125 5.734375 0.078125 C 5.9375 0.078125 6.09375 0.0625 6.546875 -0.046875 Z M 4.53125 -2.296875 C 4.53125 -1.40625 3.75 -0.953125 2.78125 -0.953125 C 2 -0.953125 1.6875 -1.109375 1.6875 -1.78125 C 1.6875 -2.453125 1.984375 -2.609375 3.0625 -2.765625 C 4.109375 -2.90625 4.328125 -2.953125 4.53125 -3.03125 Z M 4.53125 -2.296875 \"/>\n",
       "</symbol>\n",
       "<symbol overflow=\"visible\" id=\"glyph0-11\">\n",
       "<path style=\"stroke:none;\" d=\"M 5.96875 -0.125 L 5.96875 -4.890625 C 5.96875 -5.921875 5.0625 -6.734375 3.859375 -6.734375 C 2.921875 -6.734375 2.203125 -6.34375 1.65625 -5.453125 L 1.890625 -5.359375 L 1.890625 -6.546875 L 0.703125 -6.546875 L 0.703125 0 L 1.96875 0 L 1.96875 -3.59375 C 1.96875 -4.890625 2.53125 -5.59375 3.546875 -5.59375 C 4.34375 -5.59375 4.703125 -5.25 4.703125 -4.484375 L 4.703125 0 L 5.96875 0 Z M 5.96875 -0.125 \"/>\n",
       "</symbol>\n",
       "<symbol overflow=\"visible\" id=\"glyph0-12\">\n",
       "<path style=\"stroke:none;\" d=\"M 6.078125 -0.125 L 6.078125 -9.015625 L 4.796875 -9.015625 L 4.796875 -5.625 L 5.046875 -5.71875 C 4.625 -6.359375 3.859375 -6.734375 3.015625 -6.734375 C 1.375 -6.734375 0.171875 -5.34375 0.171875 -3.34375 C 0.171875 -1.21875 1.359375 0.1875 3.046875 0.1875 C 3.90625 0.1875 4.609375 -0.1875 5.140625 -0.953125 L 4.90625 -1.0625 L 4.90625 0 L 6.078125 0 Z M 4.796875 -3.25 C 4.796875 -1.796875 4.25 -1.015625 3.1875 -1.015625 C 2.09375 -1.015625 1.484375 -1.8125 1.484375 -3.28125 C 1.484375 -4.734375 2.09375 -5.53125 3.1875 -5.53125 C 4.265625 -5.53125 4.796875 -4.703125 4.796875 -3.25 Z M 4.796875 -3.25 \"/>\n",
       "</symbol>\n",
       "<symbol overflow=\"visible\" id=\"glyph0-13\">\n",
       "<path style=\"stroke:none;\" d=\"M 8.5 -6.546875 L 7.265625 -6.546875 L 5.96875 -1.53125 L 6.25 -1.53125 L 4.984375 -6.546875 L 3.546875 -6.546875 L 2.3125 -1.53125 L 2.59375 -1.53125 L 1.265625 -6.546875 L -0.109375 -6.546875 L 1.78125 0 L 3.125 0 L 4.375 -5.0625 L 4.09375 -5.0625 L 5.40625 0 L 6.75 0 L 8.65625 -6.546875 Z M 8.5 -6.546875 \"/>\n",
       "</symbol>\n",
       "<symbol overflow=\"visible\" id=\"glyph0-14\">\n",
       "<path style=\"stroke:none;\" d=\"M 1.96875 -0.125 L 1.96875 -6.546875 L 0.703125 -6.546875 L 0.703125 0 L 1.96875 0 Z M 2.09375 -7.375 L 2.09375 -8.75 L 0.578125 -8.75 L 0.578125 -7.234375 L 2.09375 -7.234375 Z M 2.09375 -7.375 \"/>\n",
       "</symbol>\n",
       "<symbol overflow=\"visible\" id=\"glyph0-15\">\n",
       "<path style=\"stroke:none;\" d=\"M 3.1875 -0.125 L 3.1875 -1.15625 C 2.921875 -1.0625 2.765625 -1.0625 2.5625 -1.0625 C 2.140625 -1.0625 2.140625 -1.046875 2.140625 -1.484375 L 2.140625 -5.46875 L 3.1875 -5.46875 L 3.1875 -6.546875 L 2.140625 -6.546875 L 2.140625 -8.28125 L 0.875 -8.28125 L 0.875 -6.546875 L 0.03125 -6.546875 L 0.03125 -5.46875 L 0.875 -5.46875 L 0.875 -1.046875 C 0.875 -0.40625 1.453125 0.078125 2.234375 0.078125 C 2.46875 0.078125 2.71875 0.0625 3.1875 -0.03125 Z M 3.1875 -0.125 \"/>\n",
       "</symbol>\n",
       "<symbol overflow=\"visible\" id=\"glyph0-16\">\n",
       "<path style=\"stroke:none;\" d=\"M 5.96875 -0.125 L 5.96875 -4.890625 C 5.96875 -5.9375 5.078125 -6.734375 3.859375 -6.734375 C 2.96875 -6.734375 2.3125 -6.421875 1.734375 -5.65625 L 1.96875 -5.5625 L 1.96875 -9.015625 L 0.703125 -9.015625 L 0.703125 0 L 1.96875 0 L 1.96875 -3.59375 C 1.96875 -4.890625 2.515625 -5.59375 3.546875 -5.59375 C 4.25 -5.59375 4.6875 -5.3125 4.6875 -4.484375 L 4.6875 0 L 5.96875 0 Z M 5.96875 -0.125 \"/>\n",
       "</symbol>\n",
       "<symbol overflow=\"visible\" id=\"glyph0-17\">\n",
       "<path style=\"stroke:none;\" d=\"M 6.28125 -2.53125 C 6.28125 -3.484375 5.671875 -4.265625 4.953125 -4.625 C 5.65625 -5.046875 5.984375 -5.5625 5.984375 -6.375 C 5.984375 -7.703125 4.8125 -8.765625 3.296875 -8.765625 C 1.796875 -8.765625 0.59375 -7.703125 0.59375 -6.375 C 0.59375 -5.578125 0.921875 -5.046875 1.625 -4.625 C 0.921875 -4.265625 0.296875 -3.484375 0.296875 -2.546875 C 0.296875 -0.984375 1.625 0.1875 3.296875 0.1875 C 4.984375 0.1875 6.28125 -0.984375 6.28125 -2.53125 Z M 4.625 -6.34375 C 4.625 -5.5625 4.1875 -5.15625 3.296875 -5.15625 C 2.40625 -5.15625 1.953125 -5.5625 1.953125 -6.359375 C 1.953125 -7.171875 2.40625 -7.578125 3.296875 -7.578125 C 4.203125 -7.578125 4.625 -7.171875 4.625 -6.34375 Z M 4.9375 -2.515625 C 4.9375 -1.515625 4.359375 -1.015625 3.28125 -1.015625 C 2.25 -1.015625 1.65625 -1.53125 1.65625 -2.515625 C 1.65625 -3.515625 2.25 -4.015625 3.296875 -4.015625 C 4.359375 -4.015625 4.9375 -3.515625 4.9375 -2.515625 Z M 4.9375 -2.515625 \"/>\n",
       "</symbol>\n",
       "<symbol overflow=\"visible\" id=\"glyph0-18\">\n",
       "<path style=\"stroke:none;\" d=\"M 6.375 -2.171875 L 6.375 -3.25 L 5.109375 -3.25 L 5.109375 -8.765625 L 4.125 -8.765625 L 0.1875 -3.328125 L 0.1875 -2.046875 L 3.78125 -2.046875 L 3.78125 0 L 5.109375 0 L 5.109375 -2.046875 L 6.375 -2.046875 Z M 3.921875 -3.25 L 1.515625 -3.25 L 4.015625 -6.75 L 3.78125 -6.84375 L 3.78125 -3.25 Z M 3.921875 -3.25 \"/>\n",
       "</symbol>\n",
       "<symbol overflow=\"visible\" id=\"glyph1-0\">\n",
       "<path style=\"stroke:none;\" d=\"\"/>\n",
       "</symbol>\n",
       "<symbol overflow=\"visible\" id=\"glyph1-1\">\n",
       "<path style=\"stroke:none;\" d=\"M -4.21875 -6.21875 C -7.171875 -6.21875 -8.765625 -5.140625 -8.765625 -3.296875 C -8.765625 -1.46875 -7.15625 -0.375 -4.296875 -0.375 C -1.421875 -0.375 0.1875 -1.46875 0.1875 -3.296875 C 0.1875 -5.09375 -1.421875 -6.21875 -4.21875 -6.21875 Z M -4.3125 -4.859375 C -1.90625 -4.859375 -0.953125 -4.453125 -0.953125 -3.28125 C -0.953125 -2.15625 -1.953125 -1.734375 -4.28125 -1.734375 C -6.609375 -1.734375 -7.578125 -2.15625 -7.578125 -3.296875 C -7.578125 -4.4375 -6.59375 -4.859375 -4.3125 -4.859375 Z M -4.3125 -4.859375 \"/>\n",
       "</symbol>\n",
       "<symbol overflow=\"visible\" id=\"glyph1-2\">\n",
       "<path style=\"stroke:none;\" d=\"M -0.125 -2.421875 L -1.515625 -2.421875 L -1.515625 -0.90625 L 0 -0.90625 L 0 -2.421875 Z M -0.125 -2.421875 \"/>\n",
       "</symbol>\n",
       "<symbol overflow=\"visible\" id=\"glyph1-3\">\n",
       "<path style=\"stroke:none;\" d=\"M -2.953125 -6.28125 C -4.625 -6.28125 -5.875 -5.046875 -5.875 -3.40625 C -5.875 -2.8125 -5.671875 -2.21875 -5.515625 -2.015625 L -7.28125 -2.28125 L -7.28125 -5.84375 L -8.59375 -5.84375 L -8.59375 -1.203125 L -3.875 -0.515625 L -3.875 -1.71875 C -4.5 -2.25 -4.671875 -2.5625 -4.671875 -3.21875 C -4.671875 -4.359375 -4.0625 -4.9375 -2.8125 -4.9375 C -1.578125 -4.9375 -1.015625 -4.375 -1.015625 -3.21875 C -1.015625 -2.296875 -1.359375 -1.859375 -2.453125 -1.578125 L -2.453125 -0.25 C -0.625 -0.625 0.1875 -1.734375 0.1875 -3.234375 C 0.1875 -4.953125 -1.15625 -6.28125 -2.953125 -6.28125 Z M -2.953125 -6.28125 \"/>\n",
       "</symbol>\n",
       "<symbol overflow=\"visible\" id=\"glyph1-4\">\n",
       "<path style=\"stroke:none;\" d=\"M -0.125 -4.296875 L -8.765625 -4.296875 L -8.765625 -3.359375 C -7.328125 -2.953125 -7.28125 -2.859375 -7.0625 -1.078125 L -6.0625 -1.078125 L -6.0625 -2.96875 L 0 -2.96875 L 0 -4.296875 Z M -0.125 -4.296875 \"/>\n",
       "</symbol>\n",
       "<symbol overflow=\"visible\" id=\"glyph1-5\">\n",
       "<path style=\"stroke:none;\" d=\"M -4.515625 -8.140625 C -7.21875 -8.140625 -9.015625 -6.65625 -9.015625 -4.4375 L -9.015625 -0.921875 L 0 -0.921875 L 0 -4.4375 C 0 -6.640625 -1.78125 -8.140625 -4.515625 -8.140625 Z M -4.5 -6.75 C -2.296875 -6.75 -1.25 -5.96875 -1.25 -4.25 L -1.25 -2.3125 L -7.765625 -2.3125 L -7.765625 -4.25 C -7.765625 -5.96875 -6.734375 -6.75 -4.5 -6.75 Z M -4.5 -6.75 \"/>\n",
       "</symbol>\n",
       "<symbol overflow=\"visible\" id=\"glyph1-6\">\n",
       "<path style=\"stroke:none;\" d=\"M -2.984375 -6.28125 C -3.90625 -6.28125 -4.46875 -6.21875 -4.9375 -6.03125 C -5.96875 -5.625 -6.734375 -4.53125 -6.734375 -3.359375 C -6.734375 -1.609375 -5.296875 -0.34375 -3.234375 -0.34375 C -1.171875 -0.34375 0.1875 -1.578125 0.1875 -3.34375 C 0.1875 -4.78125 -0.765625 -5.90625 -2.171875 -6.1875 L -2.171875 -4.921875 C -1.21875 -4.59375 -1.015625 -4.171875 -1.015625 -3.375 C -1.015625 -2.328125 -1.546875 -1.6875 -2.859375 -1.65625 L -2.859375 -6.28125 Z M -3.78125 -5.1875 C -3.78125 -5.1875 -3.921875 -4.984375 -3.9375 -4.984375 L -3.9375 -1.6875 C -4.921875 -1.765625 -5.546875 -2.34375 -5.546875 -3.34375 C -5.546875 -4.328125 -4.859375 -4.9375 -3.875 -4.9375 Z M -3.78125 -5.1875 \"/>\n",
       "</symbol>\n",
       "<symbol overflow=\"visible\" id=\"glyph1-7\">\n",
       "<path style=\"stroke:none;\" d=\"M -0.125 -5.96875 L -4.890625 -5.96875 C -5.921875 -5.96875 -6.734375 -5.0625 -6.734375 -3.859375 C -6.734375 -2.921875 -6.34375 -2.203125 -5.453125 -1.65625 L -5.359375 -1.890625 L -6.546875 -1.890625 L -6.546875 -0.703125 L 0 -0.703125 L 0 -1.96875 L -3.59375 -1.96875 C -4.890625 -1.96875 -5.59375 -2.53125 -5.59375 -3.546875 C -5.59375 -4.34375 -5.25 -4.703125 -4.484375 -4.703125 L 0 -4.703125 L 0 -5.96875 Z M -0.125 -5.96875 \"/>\n",
       "</symbol>\n",
       "<symbol overflow=\"visible\" id=\"glyph1-8\">\n",
       "<path style=\"stroke:none;\" d=\"M -1.890625 -5.640625 C -2.828125 -5.640625 -3.4375 -4.984375 -3.734375 -3.734375 L -3.953125 -2.765625 C -4.15625 -1.953125 -4.28125 -1.734375 -4.734375 -1.734375 C -5.296875 -1.734375 -5.546875 -2.125 -5.546875 -2.9375 C -5.546875 -3.75 -5.328125 -4.03125 -4.53125 -4.0625 L -4.53125 -5.390625 C -5.90625 -5.375 -6.734375 -4.421875 -6.734375 -2.96875 C -6.734375 -1.515625 -5.84375 -0.421875 -4.6875 -0.421875 C -3.703125 -0.421875 -3.09375 -1.0625 -2.734375 -2.5625 L -2.515625 -3.484375 C -2.34375 -4.1875 -2.265625 -4.3125 -1.8125 -4.3125 C -1.21875 -4.3125 -1.015625 -3.875 -1.015625 -3 C -1.015625 -2.09375 -1.09375 -1.734375 -2.1875 -1.578125 L -2.1875 -0.265625 C -0.59375 -0.3125 0.1875 -1.265625 0.1875 -2.921875 C 0.1875 -4.5 -0.6875 -5.640625 -1.890625 -5.640625 Z M -1.890625 -5.640625 \"/>\n",
       "</symbol>\n",
       "<symbol overflow=\"visible\" id=\"glyph1-9\">\n",
       "<path style=\"stroke:none;\" d=\"M -0.125 -1.96875 L -6.546875 -1.96875 L -6.546875 -0.703125 L 0 -0.703125 L 0 -1.96875 Z M -7.375 -2.09375 L -8.75 -2.09375 L -8.75 -0.578125 L -7.234375 -0.578125 L -7.234375 -2.09375 Z M -7.375 -2.09375 \"/>\n",
       "</symbol>\n",
       "<symbol overflow=\"visible\" id=\"glyph1-10\">\n",
       "<path style=\"stroke:none;\" d=\"M -0.125 -3.1875 L -1.15625 -3.1875 C -1.0625 -2.921875 -1.0625 -2.765625 -1.0625 -2.5625 C -1.0625 -2.140625 -1.046875 -2.140625 -1.484375 -2.140625 L -5.46875 -2.140625 L -5.46875 -3.1875 L -6.546875 -3.1875 L -6.546875 -2.140625 L -8.28125 -2.140625 L -8.28125 -0.875 L -6.546875 -0.875 L -6.546875 -0.03125 L -5.46875 -0.03125 L -5.46875 -0.875 L -1.046875 -0.875 C -0.40625 -0.875 0.078125 -1.453125 0.078125 -2.234375 C 0.078125 -2.46875 0.0625 -2.71875 -0.03125 -3.1875 Z M -0.125 -3.1875 \"/>\n",
       "</symbol>\n",
       "<symbol overflow=\"visible\" id=\"glyph1-11\">\n",
       "<path style=\"stroke:none;\" d=\"M -6.546875 -5.734375 L -6.546875 -4.5625 L -1.53125 -2.765625 L -1.53125 -3.046875 L -6.546875 -1.390625 L -6.546875 -0.046875 L -0.109375 -2.21875 L 0.890625 -1.84375 C 1.328125 -1.671875 1.375 -1.609375 1.375 -1.171875 C 1.375 -1.03125 1.34375 -0.859375 1.265625 -0.5 L 2.40625 -0.5 C 2.53125 -0.75 2.609375 -1.0625 2.609375 -1.3125 C 2.609375 -2.03125 2.09375 -2.734375 1.1875 -3.078125 L -6.546875 -5.921875 Z M -6.546875 -5.734375 \"/>\n",
       "</symbol>\n",
       "<symbol overflow=\"visible\" id=\"glyph2-0\">\n",
       "<path style=\"stroke:none;\" d=\"\"/>\n",
       "</symbol>\n",
       "<symbol overflow=\"visible\" id=\"glyph2-1\">\n",
       "<path style=\"stroke:none;\" d=\"M 9.671875 -3.15625 C 9.671875 -4.1875 9.078125 -5.109375 8.0625 -5.71875 C 8.9375 -6.265625 9.359375 -6.96875 9.359375 -7.859375 C 9.359375 -9.34375 8.046875 -10.78125 5.859375 -10.78125 L 1.09375 -10.78125 L 1.09375 0 L 5.90625 0 C 8.359375 0 9.671875 -1.421875 9.671875 -3.15625 Z M 7.125 -7.640625 C 7.125 -6.875 6.6875 -6.59375 5.6875 -6.59375 L 3.421875 -6.59375 L 3.421875 -8.703125 L 5.6875 -8.703125 C 6.6875 -8.703125 7.125 -8.40625 7.125 -7.640625 Z M 7.4375 -3.28125 C 7.4375 -2.40625 6.96875 -2.078125 5.921875 -2.078125 L 3.421875 -2.078125 L 3.421875 -4.53125 L 5.921875 -4.53125 C 6.96875 -4.53125 7.4375 -4.171875 7.4375 -3.28125 Z M 7.4375 -3.28125 \"/>\n",
       "</symbol>\n",
       "<symbol overflow=\"visible\" id=\"glyph2-2\">\n",
       "<path style=\"stroke:none;\" d=\"M 8.265625 -3.96875 C 8.265625 -6.59375 6.765625 -8.1875 4.34375 -8.1875 C 1.953125 -8.1875 0.421875 -6.5625 0.421875 -4.015625 C 0.421875 -1.453125 1.953125 0.125 4.34375 0.125 C 6.71875 0.125 8.265625 -1.46875 8.265625 -3.96875 Z M 6.09375 -3.984375 C 6.09375 -2.53125 5.4375 -1.765625 4.34375 -1.765625 C 3.25 -1.765625 2.59375 -2.53125 2.59375 -4.015625 C 2.59375 -5.5 3.25 -6.28125 4.34375 -6.28125 C 5.453125 -6.28125 6.09375 -5.515625 6.09375 -3.984375 Z M 6.09375 -3.984375 \"/>\n",
       "</symbol>\n",
       "<symbol overflow=\"visible\" id=\"glyph2-3\">\n",
       "<path style=\"stroke:none;\" d=\"M 4.40625 -0.125 L 4.40625 -1.703125 C 4.140625 -1.65625 4.015625 -1.640625 3.875 -1.640625 C 3.34375 -1.640625 3.28125 -1.65625 3.28125 -2.34375 L 3.28125 -6.28125 L 4.40625 -6.28125 L 4.40625 -7.890625 L 3.28125 -7.890625 L 3.28125 -9.984375 L 1.109375 -9.984375 L 1.109375 -7.890625 L 0.109375 -7.890625 L 0.109375 -6.28125 L 1.109375 -6.28125 L 1.109375 -1.796875 C 1.109375 -0.578125 1.84375 0.0625 3.171875 0.0625 C 3.609375 0.0625 3.96875 0.015625 4.40625 0 Z M 4.40625 -0.125 \"/>\n",
       "</symbol>\n",
       "<symbol overflow=\"visible\" id=\"glyph2-4\">\n",
       "<path style=\"stroke:none;\" d=\"M 7.5625 -2.4375 L 7.5625 -2.53125 C 7.5625 -3.421875 6.984375 -4.234375 5.96875 -4.53125 L 3.421875 -5.265625 C 2.859375 -5.4375 2.78125 -5.421875 2.78125 -5.734375 C 2.78125 -6.171875 3.171875 -6.328125 3.875 -6.328125 C 4.84375 -6.328125 5.234375 -6.109375 5.25 -5.265625 L 7.34375 -5.265625 C 7.3125 -7.046875 5.984375 -8.1875 3.890625 -8.1875 C 1.921875 -8.1875 0.609375 -7.046875 0.609375 -5.453125 C 0.609375 -4.5 0.953125 -3.84375 2.390625 -3.40625 L 4.796875 -2.65625 C 5.296875 -2.5 5.390625 -2.46875 5.390625 -2.25 C 5.390625 -1.765625 4.90625 -1.734375 3.96875 -1.734375 C 3.046875 -1.734375 2.640625 -1.75 2.4375 -2.734375 L 0.328125 -2.734375 C 0.390625 -0.890625 1.734375 0.125 4.09375 0.125 C 6.28125 0.125 7.5625 -0.859375 7.5625 -2.4375 Z M 7.5625 -2.4375 \"/>\n",
       "</symbol>\n",
       "<symbol overflow=\"visible\" id=\"glyph2-5\">\n",
       "<path style=\"stroke:none;\" d=\"M 5.40625 -5.984375 L 5.40625 -8.15625 C 5.21875 -8.1875 5.140625 -8.1875 5.078125 -8.1875 C 4.15625 -8.1875 3.265625 -7.375 2.84375 -6.328125 L 3 -6.375 L 3 -8.046875 L 0.828125 -8.046875 L 0.828125 0 L 3 0 L 3 -4.265625 C 3 -5.453125 3.515625 -5.90625 4.703125 -5.90625 C 4.90625 -5.90625 5.0625 -5.890625 5.40625 -5.828125 Z M 5.40625 -5.984375 \"/>\n",
       "</symbol>\n",
       "<symbol overflow=\"visible\" id=\"glyph2-6\">\n",
       "<path style=\"stroke:none;\" d=\"M 7.625 -0.125 L 7.625 -0.46875 C 7.234375 -0.8125 7.15625 -0.921875 7.15625 -1.328125 L 7.15625 -5.640625 C 7.15625 -7.234375 6 -8.1875 3.90625 -8.1875 C 1.796875 -8.1875 0.625 -7.09375 0.484375 -5.21875 L 2.578125 -5.21875 C 2.6875 -6.15625 2.953125 -6.28125 3.953125 -6.28125 C 4.71875 -6.28125 5.03125 -6.15625 5.03125 -5.640625 C 5.03125 -4.8125 4.515625 -5.046875 3.5 -4.875 L 2.6875 -4.71875 C 1.15625 -4.453125 0.3125 -3.640625 0.3125 -2.234375 C 0.3125 -0.71875 1.46875 0.125 2.765625 0.125 C 3.625 0.125 4.46875 -0.28125 5.046875 -0.875 C 5.046875 -0.703125 5.109375 -0.265625 5.328125 0 L 7.625 0 Z M 5.03125 -3.453125 C 5.03125 -2.296875 4.53125 -1.765625 3.515625 -1.765625 C 2.84375 -1.765625 2.5 -1.890625 2.5 -2.46875 C 2.5 -3.046875 2.734375 -3.140625 3.578125 -3.296875 L 4.265625 -3.421875 C 4.796875 -3.53125 4.921875 -3.59375 5.03125 -3.640625 Z M 5.03125 -3.453125 \"/>\n",
       "</symbol>\n",
       "<symbol overflow=\"visible\" id=\"glyph2-7\">\n",
       "<path style=\"stroke:none;\" d=\"M 8.34375 -4.015625 C 8.34375 -6.328125 7.046875 -8.1875 5.015625 -8.1875 C 4.03125 -8.1875 3.28125 -7.71875 2.796875 -6.859375 L 2.921875 -6.75 L 2.921875 -8.046875 L 0.75 -8.046875 L 0.75 3.140625 L 2.921875 3.140625 L 2.921875 -1.171875 L 2.796875 -1.0625 C 3.28125 -0.203125 4.03125 0.125 5.015625 0.125 C 6.890625 0.125 8.34375 -1.65625 8.34375 -4.015625 Z M 6.171875 -3.984375 C 6.171875 -2.578125 5.546875 -1.828125 4.546875 -1.828125 C 3.546875 -1.828125 2.921875 -2.5625 2.921875 -4.015625 C 2.921875 -5.46875 3.546875 -6.21875 4.546875 -6.21875 C 5.578125 -6.21875 6.171875 -5.46875 6.171875 -3.984375 Z M 6.171875 -3.984375 \"/>\n",
       "</symbol>\n",
       "<symbol overflow=\"visible\" id=\"glyph2-8\">\n",
       "<path style=\"stroke:none;\" d=\"\"/>\n",
       "</symbol>\n",
       "<symbol overflow=\"visible\" id=\"glyph2-9\">\n",
       "<path style=\"stroke:none;\" d=\"M 11.9375 -0.125 L 11.9375 -5.640625 C 11.9375 -7.140625 10.953125 -8.1875 9.390625 -8.1875 C 8.40625 -8.1875 7.671875 -7.796875 7.109375 -7.078125 C 6.78125 -7.71875 5.96875 -8.1875 5 -8.1875 C 4.109375 -8.1875 3.46875 -7.84375 2.9375 -7.203125 L 2.9375 -8.046875 L 0.78125 -8.046875 L 0.78125 0 L 2.953125 0 L 2.953125 -4.796875 C 2.953125 -5.75 3.40625 -6.1875 4.265625 -6.1875 C 4.9375 -6.1875 5.265625 -5.9375 5.265625 -5.3125 L 5.265625 0 L 7.453125 0 L 7.453125 -4.796875 C 7.453125 -5.75 7.890625 -6.1875 8.765625 -6.1875 C 9.4375 -6.1875 9.765625 -5.9375 9.765625 -5.3125 L 9.765625 0 L 11.9375 0 Z M 11.9375 -0.125 \"/>\n",
       "</symbol>\n",
       "<symbol overflow=\"visible\" id=\"glyph2-10\">\n",
       "<path style=\"stroke:none;\" d=\"M 7.640625 -3.734375 C 7.640625 -6.40625 6.203125 -8.1875 3.921875 -8.1875 C 1.6875 -8.1875 0.234375 -6.53125 0.234375 -3.921875 C 0.234375 -1.421875 1.671875 0.125 3.875 0.125 C 5.625 0.125 7.109375 -0.796875 7.59375 -2.46875 L 5.453125 -2.46875 C 5.234375 -1.703125 4.6875 -1.6875 3.953125 -1.6875 C 3 -1.6875 2.46875 -1.96875 2.40625 -3.359375 L 7.609375 -3.359375 Z M 5.453125 -4.96875 L 2.453125 -4.96875 C 2.5625 -5.90625 3 -6.375 3.890625 -6.375 C 4.75 -6.375 5.265625 -5.9375 5.359375 -4.96875 Z M 5.453125 -4.96875 \"/>\n",
       "</symbol>\n",
       "<symbol overflow=\"visible\" id=\"glyph2-11\">\n",
       "<path style=\"stroke:none;\" d=\"M 7.921875 -0.125 L 7.921875 -10.78125 L 5.75 -10.78125 L 5.75 -7.21875 C 5.375 -7.78125 4.65625 -8.1875 3.6875 -8.1875 C 1.828125 -8.1875 0.328125 -6.359375 0.328125 -4 C 0.328125 -1.796875 1.625 0.125 3.6875 0.125 C 4.65625 0.125 5.375 -0.265625 5.75 -0.75 L 5.75 0 L 7.921875 0 Z M 5.75 -3.96875 C 5.75 -2.5625 5.140625 -1.828125 4.140625 -1.828125 C 3.125 -1.828125 2.5 -2.578125 2.5 -4 C 2.5 -5.453125 3.125 -6.21875 4.140625 -6.21875 C 5.15625 -6.21875 5.75 -5.453125 5.75 -3.96875 Z M 5.75 -3.96875 \"/>\n",
       "</symbol>\n",
       "<symbol overflow=\"visible\" id=\"glyph2-12\">\n",
       "<path style=\"stroke:none;\" d=\"M 3.046875 -0.125 L 3.046875 -8.046875 L 0.875 -8.046875 L 0.875 0 L 3.046875 0 Z M 3.078125 -8.84375 L 3.078125 -11 L 0.90625 -11 L 0.90625 -8.71875 L 3.078125 -8.71875 Z M 3.078125 -8.84375 \"/>\n",
       "</symbol>\n",
       "<symbol overflow=\"visible\" id=\"glyph2-13\">\n",
       "<path style=\"stroke:none;\" d=\"M 7.9375 -0.125 L 7.9375 -5.34375 C 7.9375 -7.0625 6.921875 -8.1875 5.265625 -8.1875 C 4.203125 -8.1875 3.4375 -7.75 3 -7.09375 L 3 -8.046875 L 0.828125 -8.046875 L 0.828125 0 L 3 0 L 3 -4.796875 C 3 -5.71875 3.578125 -6.1875 4.546875 -6.1875 C 5.421875 -6.1875 5.765625 -5.84375 5.765625 -4.921875 L 5.765625 0 L 7.9375 0 Z M 7.9375 -0.125 \"/>\n",
       "</symbol>\n",
       "<symbol overflow=\"visible\" id=\"glyph2-14\">\n",
       "<path style=\"stroke:none;\" d=\"M 9.046875 -6.40625 L 9.046875 -7.890625 L 7.84375 -7.890625 L 7.84375 -8.515625 C 7.84375 -8.921875 7.953125 -8.984375 8.328125 -8.984375 C 8.5 -8.984375 8.734375 -8.96875 8.96875 -8.9375 L 8.96875 -10.734375 C 8.53125 -10.765625 8.03125 -10.78125 7.75 -10.78125 C 6.40625 -10.78125 5.671875 -10 5.671875 -8.6875 L 5.671875 -7.890625 L 3.390625 -7.890625 L 3.390625 -8.515625 C 3.390625 -8.921875 3.484375 -8.984375 3.859375 -8.984375 C 4.03125 -8.984375 4.265625 -8.96875 4.515625 -8.9375 L 4.515625 -10.734375 C 4.0625 -10.765625 3.5625 -10.78125 3.28125 -10.78125 C 1.9375 -10.78125 1.203125 -10 1.203125 -8.6875 L 1.203125 -7.890625 L 0.109375 -7.890625 L 0.109375 -6.28125 L 1.203125 -6.28125 L 1.203125 0 L 3.390625 0 L 3.390625 -6.28125 L 5.671875 -6.28125 L 5.671875 0 L 7.84375 0 L 7.84375 -6.28125 L 9.046875 -6.28125 Z M 9.046875 -6.40625 \"/>\n",
       "</symbol>\n",
       "<symbol overflow=\"visible\" id=\"glyph2-15\">\n",
       "<path style=\"stroke:none;\" d=\"M 7.515625 -2.96875 L 5.578125 -2.96875 C 5.25 -1.953125 4.921875 -1.765625 4.15625 -1.765625 C 3.125 -1.765625 2.578125 -2.453125 2.578125 -3.96875 C 2.578125 -5.390625 2.875 -6.28125 4.15625 -6.28125 C 4.96875 -6.28125 5.265625 -6.015625 5.53125 -4.875 L 7.609375 -4.875 C 7.453125 -6.90625 6.109375 -8.1875 4.15625 -8.1875 C 1.84375 -8.1875 0.40625 -6.609375 0.40625 -3.96875 C 0.40625 -1.390625 1.828125 0.125 4.140625 0.125 C 6.015625 0.125 7.40625 -1.171875 7.609375 -2.96875 Z M 7.515625 -2.96875 \"/>\n",
       "</symbol>\n",
       "</g>\n",
       "<clipPath id=\"clip1\">\n",
       "  <path d=\"M 59.039062 416 L 474 416 L 474 417 L 59.039062 417 Z M 59.039062 416 \"/>\n",
       "</clipPath>\n",
       "</defs>\n",
       "<g id=\"surface153\">\n",
       "<rect x=\"0\" y=\"0\" width=\"504\" height=\"504\" style=\"fill:rgb(100%,100%,100%);fill-opacity:1;stroke:none;\"/>\n",
       "<path style=\"fill:none;stroke-width:0.75;stroke-linecap:round;stroke-linejoin:round;stroke:rgb(0%,0%,0%);stroke-opacity:1;stroke-miterlimit:10;\" d=\"M 74.398438 416.777344 L 75.152344 416.769531 L 75.902344 416.757812 L 76.65625 416.746094 L 78.15625 416.714844 L 78.910156 416.691406 L 79.660156 416.667969 L 80.410156 416.640625 L 81.164062 416.609375 L 81.914062 416.570312 L 82.667969 416.527344 L 83.417969 416.476562 L 84.167969 416.417969 L 84.921875 416.355469 L 85.671875 416.277344 L 86.421875 416.191406 L 87.175781 416.097656 L 87.925781 415.988281 L 88.679688 415.867188 L 89.429688 415.730469 L 90.179688 415.578125 L 90.933594 415.410156 L 91.683594 415.222656 L 92.433594 415.019531 L 93.1875 414.789062 L 93.9375 414.539062 L 94.691406 414.261719 L 95.441406 413.964844 L 96.191406 413.640625 L 96.945312 413.289062 L 97.695312 412.902344 L 98.445312 412.488281 L 99.199219 412.039062 L 99.949219 411.5625 L 100.703125 411.050781 L 101.453125 410.496094 L 102.203125 409.90625 L 102.957031 409.277344 L 103.707031 408.613281 L 104.457031 407.914062 L 105.210938 407.160156 L 105.960938 406.367188 L 106.714844 405.539062 L 107.464844 404.667969 L 108.214844 403.757812 L 108.96875 402.792969 L 109.71875 401.789062 L 110.46875 400.746094 L 111.222656 399.664062 L 111.972656 398.542969 L 112.726562 397.371094 L 113.476562 396.164062 L 114.226562 394.917969 L 114.980469 393.636719 L 115.730469 392.324219 L 116.480469 390.96875 L 117.234375 389.578125 L 117.984375 388.15625 L 118.738281 386.707031 L 119.488281 385.226562 L 120.238281 383.714844 L 120.992188 382.171875 L 121.742188 380.601562 L 122.492188 379.007812 L 123.246094 377.386719 L 123.996094 375.738281 L 124.75 374.058594 L 125.5 372.359375 L 126.25 370.632812 L 127.003906 368.882812 L 127.753906 367.109375 L 128.503906 365.304688 L 129.257812 363.476562 L 130.007812 361.625 L 130.761719 359.753906 L 131.511719 357.863281 L 132.261719 355.945312 L 133.015625 354.007812 L 133.765625 352.058594 L 134.515625 350.097656 L 135.269531 348.121094 L 136.019531 346.140625 L 136.773438 344.152344 L 137.523438 342.164062 L 138.273438 340.179688 L 139.027344 338.203125 L 139.777344 336.238281 L 140.527344 334.289062 L 141.28125 332.359375 L 142.03125 330.453125 L 142.785156 328.566406 L 143.535156 326.710938 L 144.285156 324.890625 L 145.039062 323.097656 L 145.789062 321.332031 L 146.539062 319.597656 L 147.292969 317.894531 L 148.042969 316.222656 L 148.796875 314.566406 L 149.546875 312.933594 L 150.296875 311.3125 L 151.050781 309.703125 L 151.800781 308.09375 L 152.550781 306.476562 L 153.304688 304.84375 L 154.054688 303.195312 L 154.808594 301.511719 L 155.558594 299.785156 L 156.308594 298.007812 L 157.0625 296.179688 L 157.8125 294.285156 L 158.5625 292.320312 L 159.316406 290.257812 L 160.066406 288.113281 L 160.820312 285.875 L 161.570312 283.542969 L 162.320312 281.113281 L 163.074219 278.550781 L 163.824219 275.882812 L 164.574219 273.113281 L 165.328125 270.238281 L 166.078125 267.265625 L 166.832031 264.160156 L 167.582031 260.960938 L 168.332031 257.675781 L 169.085938 254.304688 L 169.835938 250.859375 L 170.585938 247.328125 L 171.339844 243.742188 L 172.089844 240.105469 L 172.84375 236.4375 L 173.59375 232.738281 L 174.34375 229.023438 L 175.097656 225.308594 L 175.847656 221.605469 L 176.601562 217.925781 L 177.351562 214.273438 L 178.101562 210.671875 L 178.855469 207.132812 L 179.605469 203.65625 L 180.355469 200.25 L 181.109375 196.917969 L 181.859375 193.679688 L 182.613281 190.542969 L 183.363281 187.492188 L 184.113281 184.53125 L 184.867188 181.660156 L 185.617188 178.882812 L 186.367188 176.210938 L 187.121094 173.617188 L 187.871094 171.097656 L 188.625 168.648438 L 189.375 166.257812 L 190.125 163.9375 L 190.878906 161.65625 L 191.628906 159.40625 L 192.378906 157.183594 L 193.132812 154.976562 L 193.882812 152.777344 L 194.636719 150.574219 L 195.386719 148.355469 L 196.136719 146.125 L 196.890625 143.867188 L 197.640625 141.574219 L 198.390625 139.242188 L 199.144531 136.875 L 199.894531 134.46875 L 200.648438 132.023438 L 201.398438 129.535156 L 202.148438 127.007812 L 202.902344 124.449219 L 203.652344 121.863281 L 204.402344 119.257812 L 205.15625 116.632812 L 205.90625 114 L 206.660156 111.371094 L 207.410156 108.753906 L 208.160156 106.15625 L 208.914062 103.589844 L 209.664062 101.070312 L 210.414062 98.597656 L 211.167969 96.1875 L 211.917969 93.84375 L 212.671875 91.585938 L 213.421875 89.429688 L 214.171875 87.371094 L 214.925781 85.414062 L 215.675781 83.570312 L 216.425781 81.847656 L 217.179688 80.28125 L 217.929688 78.84375 L 218.683594 77.542969 L 219.433594 76.378906 L 220.183594 75.367188 L 220.9375 74.542969 L 221.6875 73.875 L 222.4375 73.359375 L 223.191406 73 L 223.941406 72.800781 L 224.695312 72.808594 L 225.445312 72.980469 L 226.195312 73.3125 L 226.949219 73.804688 L 227.699219 74.453125 L 228.449219 75.296875 L 229.203125 76.300781 L 229.953125 77.449219 L 230.707031 78.742188 L 231.457031 80.167969 L 232.207031 81.753906 L 232.960938 83.46875 L 233.710938 85.289062 L 234.460938 87.207031 L 235.214844 89.214844 L 235.964844 91.3125 L 236.71875 93.480469 L 237.46875 95.695312 L 238.21875 97.945312 L 238.972656 100.21875 L 239.722656 102.5 L 240.472656 104.777344 L 241.226562 107.027344 L 241.976562 109.246094 L 242.730469 111.425781 L 243.480469 113.542969 L 244.230469 115.585938 L 244.984375 117.550781 L 245.734375 119.4375 L 246.484375 121.238281 L 247.238281 122.949219 L 247.988281 124.546875 L 248.742188 126.054688 L 249.492188 127.472656 L 250.242188 128.808594 L 250.996094 130.058594 L 251.746094 131.214844 L 252.496094 132.304688 L 253.25 133.339844 L 254 134.324219 L 254.753906 135.273438 L 255.503906 136.1875 L 256.253906 137.09375 L 257.007812 138 L 257.757812 138.914062 L 258.507812 139.855469 L 259.261719 140.839844 L 260.011719 141.878906 L 260.765625 142.976562 L 261.515625 144.148438 L 262.265625 145.398438 L 263.019531 146.757812 L 263.769531 148.226562 L 264.519531 149.800781 L 265.273438 151.488281 L 266.023438 153.289062 L 266.777344 155.226562 L 267.527344 157.308594 L 268.277344 159.511719 L 269.03125 161.835938 L 269.78125 164.285156 L 270.53125 166.867188 L 271.285156 169.585938 L 272.035156 172.417969 L 272.789062 175.351562 L 273.539062 178.386719 L 274.289062 181.523438 L 275.042969 184.761719 L 275.792969 188.074219 L 276.542969 191.453125 L 277.296875 194.886719 L 278.046875 198.375 L 278.800781 201.910156 L 279.550781 205.472656 L 280.300781 209.050781 L 281.054688 212.640625 L 281.804688 216.230469 L 282.554688 219.808594 L 283.308594 223.371094 L 284.058594 226.910156 L 284.8125 230.414062 L 285.5625 233.886719 L 286.3125 237.304688 L 287.066406 240.675781 L 287.816406 243.996094 L 288.566406 247.261719 L 289.320312 250.480469 L 290.070312 253.628906 L 290.824219 256.714844 L 291.574219 259.75 L 292.324219 262.734375 L 293.078125 265.667969 L 293.828125 268.542969 L 294.578125 271.367188 L 295.332031 274.148438 L 296.082031 276.894531 L 296.835938 279.605469 L 297.585938 282.28125 L 298.335938 284.929688 L 299.089844 287.550781 L 299.839844 290.15625 L 300.589844 292.742188 L 301.34375 295.316406 L 302.09375 297.875 L 302.847656 300.425781 L 303.597656 302.972656 L 304.347656 305.507812 L 305.101562 308.039062 L 305.851562 310.558594 L 306.605469 313.070312 L 307.355469 315.570312 L 308.105469 318.058594 L 308.859375 320.53125 L 309.609375 322.980469 L 310.359375 325.40625 L 311.113281 327.804688 L 311.863281 330.171875 L 312.617188 332.503906 L 313.367188 334.78125 L 314.117188 337.015625 L 314.871094 339.199219 L 315.621094 341.328125 L 316.371094 343.402344 L 317.125 345.398438 L 317.875 347.328125 L 318.628906 349.195312 L 319.378906 350.988281 L 320.128906 352.71875 L 320.882812 354.363281 L 321.632812 355.929688 L 322.382812 357.429688 L 323.136719 358.867188 L 323.886719 360.234375 L 324.640625 361.535156 L 325.390625 362.765625 L 326.140625 363.941406 L 326.894531 365.066406 L 327.644531 366.148438 L 328.394531 367.179688 L 329.148438 368.164062 L 329.898438 369.117188 L 330.652344 370.039062 L 331.402344 370.933594 L 332.152344 371.808594 L 332.90625 372.660156 L 333.65625 373.496094 L 334.40625 374.320312 L 335.160156 375.132812 L 335.910156 375.9375 L 336.664062 376.734375 L 337.414062 377.527344 L 338.164062 378.316406 L 338.917969 379.101562 L 339.667969 379.882812 L 340.417969 380.65625 L 341.171875 381.425781 L 341.921875 382.1875 L 342.675781 382.941406 L 343.425781 383.6875 L 344.175781 384.417969 L 344.929688 385.136719 L 345.679688 385.84375 L 346.429688 386.53125 L 347.183594 387.207031 L 347.933594 387.859375 L 348.6875 388.488281 L 349.4375 389.097656 L 350.1875 389.683594 L 350.941406 390.246094 L 351.691406 390.78125 L 352.441406 391.292969 L 353.195312 391.777344 L 353.945312 392.242188 L 354.699219 392.679688 L 355.449219 393.09375 L 356.199219 393.480469 L 356.953125 393.847656 L 357.703125 394.195312 L 358.453125 394.523438 L 359.207031 394.832031 L 359.957031 395.117188 L 360.710938 395.394531 L 361.460938 395.652344 L 362.210938 395.902344 L 362.964844 396.140625 L 363.714844 396.367188 L 364.464844 396.589844 L 365.21875 396.804688 L 365.96875 397.011719 L 366.722656 397.21875 L 368.222656 397.625 L 368.976562 397.828125 L 370.476562 398.234375 L 371.230469 398.441406 L 371.980469 398.65625 L 372.734375 398.871094 L 373.484375 399.089844 L 374.234375 399.316406 L 374.988281 399.546875 L 375.738281 399.785156 L 376.488281 400.03125 L 377.242188 400.28125 L 377.992188 400.542969 L 378.746094 400.808594 L 379.496094 401.082031 L 380.246094 401.363281 L 381 401.65625 L 381.75 401.949219 L 382.5 402.253906 L 383.253906 402.566406 L 384.003906 402.886719 L 384.757812 403.210938 L 385.507812 403.539062 L 386.257812 403.875 L 387.011719 404.21875 L 387.761719 404.5625 L 388.511719 404.910156 L 389.265625 405.261719 L 390.015625 405.617188 L 390.769531 405.972656 L 391.519531 406.328125 L 392.269531 406.6875 L 393.023438 407.042969 L 393.773438 407.398438 L 394.523438 407.75 L 395.277344 408.101562 L 396.027344 408.449219 L 396.78125 408.789062 L 397.53125 409.128906 L 398.28125 409.460938 L 399.035156 409.785156 L 399.785156 410.105469 L 400.535156 410.414062 L 401.289062 410.71875 L 402.039062 411.011719 L 402.792969 411.292969 L 403.542969 411.566406 L 404.292969 411.832031 L 405.046875 412.085938 L 405.796875 412.324219 L 406.546875 412.550781 L 407.300781 412.765625 L 408.050781 412.96875 L 408.804688 413.160156 L 409.554688 413.339844 L 410.304688 413.503906 L 411.058594 413.65625 L 411.808594 413.800781 L 412.558594 413.929688 L 413.3125 414.050781 L 414.0625 414.160156 L 414.816406 414.257812 L 415.566406 414.347656 L 416.316406 414.433594 L 417.070312 414.507812 L 417.820312 414.578125 L 418.570312 414.640625 L 419.324219 414.703125 L 420.074219 414.757812 L 420.828125 414.8125 L 422.328125 414.914062 L 423.082031 414.960938 L 424.582031 415.0625 L 425.335938 415.113281 L 426.085938 415.164062 L 426.839844 415.21875 L 428.339844 415.328125 L 429.09375 415.386719 L 429.84375 415.445312 L 430.59375 415.507812 L 431.347656 415.570312 L 432.097656 415.632812 L 432.851562 415.699219 L 434.351562 415.824219 L 435.105469 415.886719 L 435.855469 415.949219 L 436.609375 416.011719 L 438.109375 416.128906 L 438.863281 416.183594 L 439.613281 416.238281 L 440.363281 416.289062 L 441.117188 416.339844 L 441.867188 416.382812 L 442.621094 416.425781 L 443.371094 416.46875 L 444.121094 416.503906 L 444.875 416.539062 L 446.375 416.601562 L 447.128906 416.625 L 447.878906 416.648438 L 448.632812 416.671875 L 449.382812 416.691406 L 450.132812 416.707031 L 450.886719 416.722656 L 451.636719 416.738281 L 452.386719 416.746094 L 453.140625 416.757812 L 453.890625 416.765625 L 454.644531 416.773438 L 456.144531 416.789062 L 456.898438 416.792969 L 458.398438 416.800781 \"/>\n",
       "<path style=\"fill:none;stroke-width:0.75;stroke-linecap:round;stroke-linejoin:round;stroke:rgb(0%,0%,0%);stroke-opacity:1;stroke-miterlimit:10;\" d=\"M 78.511719 430.558594 L 378.6875 430.558594 \"/>\n",
       "<path style=\"fill:none;stroke-width:0.75;stroke-linecap:round;stroke-linejoin:round;stroke:rgb(0%,0%,0%);stroke-opacity:1;stroke-miterlimit:10;\" d=\"M 78.511719 430.558594 L 78.511719 437.761719 \"/>\n",
       "<path style=\"fill:none;stroke-width:0.75;stroke-linecap:round;stroke-linejoin:round;stroke:rgb(0%,0%,0%);stroke-opacity:1;stroke-miterlimit:10;\" d=\"M 178.570312 430.558594 L 178.570312 437.761719 \"/>\n",
       "<path style=\"fill:none;stroke-width:0.75;stroke-linecap:round;stroke-linejoin:round;stroke:rgb(0%,0%,0%);stroke-opacity:1;stroke-miterlimit:10;\" d=\"M 278.628906 430.558594 L 278.628906 437.761719 \"/>\n",
       "<path style=\"fill:none;stroke-width:0.75;stroke-linecap:round;stroke-linejoin:round;stroke:rgb(0%,0%,0%);stroke-opacity:1;stroke-miterlimit:10;\" d=\"M 378.6875 430.558594 L 378.6875 437.761719 \"/>\n",
       "<g style=\"fill:rgb(0%,0%,0%);fill-opacity:1;\">\n",
       "  <use xlink:href=\"#glyph0-1\" x=\"70.011719\" y=\"456.256836\"/>\n",
       "  <use xlink:href=\"#glyph0-2\" x=\"76.683594\" y=\"456.256836\"/>\n",
       "  <use xlink:href=\"#glyph0-3\" x=\"80.019531\" y=\"456.256836\"/>\n",
       "</g>\n",
       "<g style=\"fill:rgb(0%,0%,0%);fill-opacity:1;\">\n",
       "  <use xlink:href=\"#glyph0-4\" x=\"170.070312\" y=\"456.256836\"/>\n",
       "  <use xlink:href=\"#glyph0-2\" x=\"176.742188\" y=\"456.256836\"/>\n",
       "  <use xlink:href=\"#glyph0-1\" x=\"180.078125\" y=\"456.256836\"/>\n",
       "</g>\n",
       "<g style=\"fill:rgb(0%,0%,0%);fill-opacity:1;\">\n",
       "  <use xlink:href=\"#glyph0-4\" x=\"270.128906\" y=\"456.256836\"/>\n",
       "  <use xlink:href=\"#glyph0-2\" x=\"276.800781\" y=\"456.256836\"/>\n",
       "  <use xlink:href=\"#glyph0-3\" x=\"280.136719\" y=\"456.256836\"/>\n",
       "</g>\n",
       "<g style=\"fill:rgb(0%,0%,0%);fill-opacity:1;\">\n",
       "  <use xlink:href=\"#glyph0-5\" x=\"370.1875\" y=\"456.256836\"/>\n",
       "  <use xlink:href=\"#glyph0-2\" x=\"376.859375\" y=\"456.256836\"/>\n",
       "  <use xlink:href=\"#glyph0-1\" x=\"380.195312\" y=\"456.256836\"/>\n",
       "</g>\n",
       "<path style=\"fill:none;stroke-width:0.75;stroke-linecap:round;stroke-linejoin:round;stroke:rgb(0%,0%,0%);stroke-opacity:1;stroke-miterlimit:10;\" d=\"M 59.039062 416.816406 L 59.039062 93.648438 \"/>\n",
       "<path style=\"fill:none;stroke-width:0.75;stroke-linecap:round;stroke-linejoin:round;stroke:rgb(0%,0%,0%);stroke-opacity:1;stroke-miterlimit:10;\" d=\"M 59.039062 416.816406 L 51.839844 416.816406 \"/>\n",
       "<path style=\"fill:none;stroke-width:0.75;stroke-linecap:round;stroke-linejoin:round;stroke:rgb(0%,0%,0%);stroke-opacity:1;stroke-miterlimit:10;\" d=\"M 59.039062 309.09375 L 51.839844 309.09375 \"/>\n",
       "<path style=\"fill:none;stroke-width:0.75;stroke-linecap:round;stroke-linejoin:round;stroke:rgb(0%,0%,0%);stroke-opacity:1;stroke-miterlimit:10;\" d=\"M 59.039062 201.371094 L 51.839844 201.371094 \"/>\n",
       "<path style=\"fill:none;stroke-width:0.75;stroke-linecap:round;stroke-linejoin:round;stroke:rgb(0%,0%,0%);stroke-opacity:1;stroke-miterlimit:10;\" d=\"M 59.039062 93.648438 L 51.839844 93.648438 \"/>\n",
       "<g style=\"fill:rgb(0%,0%,0%);fill-opacity:1;\">\n",
       "  <use xlink:href=\"#glyph1-1\" x=\"41.538086\" y=\"425.316406\"/>\n",
       "  <use xlink:href=\"#glyph1-2\" x=\"41.538086\" y=\"418.644531\"/>\n",
       "  <use xlink:href=\"#glyph1-1\" x=\"41.538086\" y=\"415.308594\"/>\n",
       "</g>\n",
       "<g style=\"fill:rgb(0%,0%,0%);fill-opacity:1;\">\n",
       "  <use xlink:href=\"#glyph1-1\" x=\"41.538086\" y=\"317.59375\"/>\n",
       "  <use xlink:href=\"#glyph1-2\" x=\"41.538086\" y=\"310.921875\"/>\n",
       "  <use xlink:href=\"#glyph1-3\" x=\"41.538086\" y=\"307.585938\"/>\n",
       "</g>\n",
       "<g style=\"fill:rgb(0%,0%,0%);fill-opacity:1;\">\n",
       "  <use xlink:href=\"#glyph1-4\" x=\"41.538086\" y=\"209.871094\"/>\n",
       "  <use xlink:href=\"#glyph1-2\" x=\"41.538086\" y=\"203.199219\"/>\n",
       "  <use xlink:href=\"#glyph1-1\" x=\"41.538086\" y=\"199.863281\"/>\n",
       "</g>\n",
       "<g style=\"fill:rgb(0%,0%,0%);fill-opacity:1;\">\n",
       "  <use xlink:href=\"#glyph1-4\" x=\"41.538086\" y=\"102.148438\"/>\n",
       "  <use xlink:href=\"#glyph1-2\" x=\"41.538086\" y=\"95.476562\"/>\n",
       "  <use xlink:href=\"#glyph1-3\" x=\"41.538086\" y=\"92.140625\"/>\n",
       "</g>\n",
       "<path style=\"fill:none;stroke-width:0.75;stroke-linecap:round;stroke-linejoin:round;stroke:rgb(0%,0%,0%);stroke-opacity:1;stroke-miterlimit:10;\" d=\"M 59.039062 430.558594 L 473.761719 430.558594 L 473.761719 59.039062 L 59.039062 59.039062 L 59.039062 430.558594 \"/>\n",
       "<g style=\"fill:rgb(0%,0%,0%);fill-opacity:1;\">\n",
       "  <use xlink:href=\"#glyph2-1\" x=\"174.898438\" y=\"34.21875\"/>\n",
       "  <use xlink:href=\"#glyph2-2\" x=\"185.299805\" y=\"34.21875\"/>\n",
       "  <use xlink:href=\"#glyph2-2\" x=\"194.101562\" y=\"34.21875\"/>\n",
       "  <use xlink:href=\"#glyph2-3\" x=\"202.759766\" y=\"34.21875\"/>\n",
       "  <use xlink:href=\"#glyph2-4\" x=\"207.556641\" y=\"34.21875\"/>\n",
       "  <use xlink:href=\"#glyph2-3\" x=\"215.566406\" y=\"34.21875\"/>\n",
       "  <use xlink:href=\"#glyph2-5\" x=\"220.363281\" y=\"34.21875\"/>\n",
       "  <use xlink:href=\"#glyph2-6\" x=\"226.039062\" y=\"34.21875\"/>\n",
       "  <use xlink:href=\"#glyph2-7\" x=\"234.048828\" y=\"34.21875\"/>\n",
       "  <use xlink:href=\"#glyph2-8\" x=\"242.850586\" y=\"34.21875\"/>\n",
       "  <use xlink:href=\"#glyph2-9\" x=\"246.855469\" y=\"34.21875\"/>\n",
       "  <use xlink:href=\"#glyph2-10\" x=\"259.662109\" y=\"34.21875\"/>\n",
       "  <use xlink:href=\"#glyph2-11\" x=\"267.671875\" y=\"34.21875\"/>\n",
       "  <use xlink:href=\"#glyph2-12\" x=\"276.473633\" y=\"34.21875\"/>\n",
       "  <use xlink:href=\"#glyph2-6\" x=\"280.478516\" y=\"34.21875\"/>\n",
       "  <use xlink:href=\"#glyph2-3\" x=\"288.488281\" y=\"34.21875\"/>\n",
       "  <use xlink:href=\"#glyph2-12\" x=\"293.285156\" y=\"34.21875\"/>\n",
       "  <use xlink:href=\"#glyph2-2\" x=\"297.290039\" y=\"34.21875\"/>\n",
       "  <use xlink:href=\"#glyph2-13\" x=\"306.091797\" y=\"34.21875\"/>\n",
       "  <use xlink:href=\"#glyph2-8\" x=\"314.893555\" y=\"34.21875\"/>\n",
       "  <use xlink:href=\"#glyph2-10\" x=\"318.898438\" y=\"34.21875\"/>\n",
       "  <use xlink:href=\"#glyph2-14\" x=\"326.908203\" y=\"34.21875\"/>\n",
       "  <use xlink:href=\"#glyph2-10\" x=\"336.084961\" y=\"34.21875\"/>\n",
       "  <use xlink:href=\"#glyph2-15\" x=\"344.094727\" y=\"34.21875\"/>\n",
       "  <use xlink:href=\"#glyph2-3\" x=\"352.104492\" y=\"34.21875\"/>\n",
       "</g>\n",
       "<g style=\"fill:rgb(0%,0%,0%);fill-opacity:1;\">\n",
       "  <use xlink:href=\"#glyph0-6\" x=\"179.898438\" y=\"485.057617\"/>\n",
       "  <use xlink:href=\"#glyph0-7\" x=\"188.5625\" y=\"485.057617\"/>\n",
       "  <use xlink:href=\"#glyph0-8\" x=\"191.898438\" y=\"485.057617\"/>\n",
       "  <use xlink:href=\"#glyph0-7\" x=\"198.90625\" y=\"485.057617\"/>\n",
       "  <use xlink:href=\"#glyph0-4\" x=\"202.242188\" y=\"485.057617\"/>\n",
       "  <use xlink:href=\"#glyph0-1\" x=\"208.914062\" y=\"485.057617\"/>\n",
       "  <use xlink:href=\"#glyph0-1\" x=\"215.585938\" y=\"485.057617\"/>\n",
       "  <use xlink:href=\"#glyph0-1\" x=\"222.257812\" y=\"485.057617\"/>\n",
       "  <use xlink:href=\"#glyph0-7\" x=\"228.929688\" y=\"485.057617\"/>\n",
       "  <use xlink:href=\"#glyph0-7\" x=\"232.265625\" y=\"485.057617\"/>\n",
       "  <use xlink:href=\"#glyph0-7\" x=\"235.601562\" y=\"485.057617\"/>\n",
       "  <use xlink:href=\"#glyph0-9\" x=\"238.9375\" y=\"485.057617\"/>\n",
       "  <use xlink:href=\"#glyph0-10\" x=\"246.941406\" y=\"485.057617\"/>\n",
       "  <use xlink:href=\"#glyph0-11\" x=\"253.613281\" y=\"485.057617\"/>\n",
       "  <use xlink:href=\"#glyph0-12\" x=\"260.285156\" y=\"485.057617\"/>\n",
       "  <use xlink:href=\"#glyph0-13\" x=\"266.957031\" y=\"485.057617\"/>\n",
       "  <use xlink:href=\"#glyph0-14\" x=\"275.621094\" y=\"485.057617\"/>\n",
       "  <use xlink:href=\"#glyph0-12\" x=\"278.285156\" y=\"485.057617\"/>\n",
       "  <use xlink:href=\"#glyph0-15\" x=\"284.957031\" y=\"485.057617\"/>\n",
       "  <use xlink:href=\"#glyph0-16\" x=\"288.233398\" y=\"485.057617\"/>\n",
       "  <use xlink:href=\"#glyph0-7\" x=\"294.905273\" y=\"485.057617\"/>\n",
       "  <use xlink:href=\"#glyph0-8\" x=\"298.241211\" y=\"485.057617\"/>\n",
       "  <use xlink:href=\"#glyph0-7\" x=\"305.249023\" y=\"485.057617\"/>\n",
       "  <use xlink:href=\"#glyph0-1\" x=\"308.584961\" y=\"485.057617\"/>\n",
       "  <use xlink:href=\"#glyph0-2\" x=\"315.256836\" y=\"485.057617\"/>\n",
       "  <use xlink:href=\"#glyph0-1\" x=\"318.592773\" y=\"485.057617\"/>\n",
       "  <use xlink:href=\"#glyph0-3\" x=\"325.264648\" y=\"485.057617\"/>\n",
       "  <use xlink:href=\"#glyph0-17\" x=\"331.936523\" y=\"485.057617\"/>\n",
       "  <use xlink:href=\"#glyph0-1\" x=\"338.608398\" y=\"485.057617\"/>\n",
       "  <use xlink:href=\"#glyph0-18\" x=\"345.280273\" y=\"485.057617\"/>\n",
       "</g>\n",
       "<g style=\"fill:rgb(0%,0%,0%);fill-opacity:1;\">\n",
       "  <use xlink:href=\"#glyph1-5\" x=\"12.737305\" y=\"265.300781\"/>\n",
       "  <use xlink:href=\"#glyph1-6\" x=\"12.737305\" y=\"256.636719\"/>\n",
       "  <use xlink:href=\"#glyph1-7\" x=\"12.737305\" y=\"249.964844\"/>\n",
       "  <use xlink:href=\"#glyph1-8\" x=\"12.737305\" y=\"243.292969\"/>\n",
       "  <use xlink:href=\"#glyph1-9\" x=\"12.737305\" y=\"237.292969\"/>\n",
       "  <use xlink:href=\"#glyph1-10\" x=\"12.737305\" y=\"234.628906\"/>\n",
       "  <use xlink:href=\"#glyph1-11\" x=\"12.737305\" y=\"231.292969\"/>\n",
       "</g>\n",
       "<g clip-path=\"url(#clip1)\" clip-rule=\"nonzero\">\n",
       "<path style=\"fill:none;stroke-width:0.075;stroke-linecap:round;stroke-linejoin:round;stroke:rgb(74.509804%,74.509804%,74.509804%);stroke-opacity:1;stroke-miterlimit:10;\" d=\"M 59.039062 416.816406 L 473.761719 416.816406 \"/>\n",
       "</g>\n",
       "<path style=\"fill:none;stroke-width:0.75;stroke-linecap:round;stroke-linejoin:round;stroke:rgb(100%,0%,0%);stroke-opacity:1;stroke-dasharray:3,3;stroke-miterlimit:10;\" d=\"M 74.398438 413.761719 L 78.238281 412.984375 L 82.078125 412.039062 L 85.921875 410.894531 L 89.761719 409.511719 L 93.601562 407.859375 L 97.441406 405.894531 L 101.28125 403.574219 L 105.121094 400.847656 L 108.960938 397.667969 L 112.800781 393.984375 L 116.640625 389.742188 L 120.480469 384.890625 L 124.320312 379.382812 L 128.160156 373.164062 L 132 366.199219 L 135.839844 358.445312 L 139.679688 349.882812 L 143.519531 340.492188 L 147.359375 330.265625 L 151.199219 319.21875 L 155.039062 307.375 L 158.878906 294.773438 L 162.71875 281.484375 L 166.558594 267.578125 L 170.398438 253.164062 L 174.238281 238.355469 L 178.078125 223.292969 L 181.921875 208.125 L 185.761719 193.023438 L 189.601562 178.167969 L 193.441406 163.742188 L 197.28125 149.9375 L 201.121094 136.949219 L 204.960938 124.960938 L 208.800781 114.15625 L 212.640625 104.699219 L 216.480469 96.742188 L 220.320312 90.40625 L 224.160156 85.804688 L 228 83.003906 L 231.839844 82.054688 L 235.679688 82.972656 L 239.519531 85.742188 L 243.359375 90.316406 L 247.199219 96.625 L 251.039062 104.558594 L 254.878906 113.988281 L 258.71875 124.773438 L 262.558594 136.742188 L 266.398438 149.714844 L 270.238281 163.507812 L 274.078125 177.925781 L 277.921875 192.777344 L 281.761719 207.875 L 285.601562 223.042969 L 289.441406 238.109375 L 293.28125 252.921875 L 297.121094 267.34375 L 300.960938 281.257812 L 304.800781 294.558594 L 308.640625 307.171875 L 312.480469 319.03125 L 316.320312 330.089844 L 320.160156 340.328125 L 324 349.734375 L 327.839844 358.3125 L 331.679688 366.074219 L 335.519531 373.054688 L 339.359375 379.285156 L 343.199219 384.804688 L 347.039062 389.667969 L 350.878906 393.917969 L 354.71875 397.613281 L 358.558594 400.800781 L 362.398438 403.53125 L 366.238281 405.859375 L 370.078125 407.832031 L 373.921875 409.488281 L 377.761719 410.871094 L 381.601562 412.023438 L 385.441406 412.972656 L 389.28125 413.75 L 393.121094 414.382812 L 396.960938 414.898438 L 400.800781 415.3125 L 404.640625 415.644531 L 408.480469 415.90625 L 412.320312 416.113281 L 416.160156 416.277344 L 420 416.40625 L 423.839844 416.503906 L 427.679688 416.582031 L 431.519531 416.640625 L 435.359375 416.683594 L 439.199219 416.71875 L 443.039062 416.746094 L 446.878906 416.765625 L 454.558594 416.789062 L 458.398438 416.796875 \"/>\n",
       "</g>\n",
       "</svg>\n"
      ],
      "text/plain": [
       "Plot with title “Bootstrap mediation effect”"
      ]
     },
     "metadata": {
      "image/svg+xml": {
       "isolated": true
      }
     },
     "output_type": "display_data"
    }
   ],
   "source": [
    "plot(density(med.boot$t), main = \"Bootstrap mediation effect\")\n",
    "curve(dnorm(x, mean=mean(med.boot$t), sd=sd(med.boot$t)), add = TRUE, col='red', lty=2)"
   ]
  },
  {
   "cell_type": "markdown",
   "metadata": {},
   "source": [
    "## 贝叶斯中介分析：单层次回归\n",
    "\n",
    "通过贝叶斯方法计算上述中介分析可以得到中介效应的分布，从而可以直接计算中介效应的置信区间，而无需依赖对中介效应抽样分布的假定（详见Yuan and MacKinnon. (2009). Bayesian Mediation Analysis. Psychol Methods. 14(4): 301–322. ）。我们可以使用rjags程序包进行计算。\n",
    "\n",
    "首先，我们使用BUGS/JAGS语言编写上述模型，并将模型以一个字符对象的形式保存起来。在下面的模型设定中：\n",
    "* N表示样本量\n",
    "* 在BUGS语言中，~ 表示分布，<- 则表示确定性关系\n",
    "* 在BUGS语言中， dnorm(正态分布)的第二个参数是precision，是方差的倒数\n",
    "* 在BUGS语言中，dgamma表示gamma分布，该分布描述方差先验分布，a和b这两个参数设置为0.001 意味着无信息先验分布\n",
    "* 通过定义theta =  beta_mx * beta_m，我们可以得到中介效应"
   ]
  },
  {
   "cell_type": "code",
   "execution_count": 22,
   "metadata": {
    "collapsed": false
   },
   "outputs": [],
   "source": [
    "mediation_model <- \"\n",
    "model {\n",
    "   for(i in 1:N)\n",
    "   {\n",
    "      m[i] ~ dnorm(mean.m[i], prec.m)\n",
    "      mean.m[i] <- alpha_m + beta_mx * x[i]\n",
    "      y[i] ~ dnorm(mean.y[i], prec.y)\n",
    "      mean.y[i] <- alpha + beta_m * m[i] + beta_x * x[i]\n",
    "   }\n",
    "   alpha_m ~ dnorm(0, 1.0E-6)\n",
    "   beta_mx ~ dnorm(0, 1.0E-6)\n",
    "   alpha ~ dnorm(0, 1.0E-6)\n",
    "   beta_m ~ dnorm(0, 1.0E-6)\n",
    "   beta_x ~ dnorm(0, 1.0E-6)\n",
    "   # dgamma (a, b) is a gamma distribution with the shape parameter a and\n",
    "   # inverse scale parameter b.\n",
    "   prec.y ~ dgamma(0.001, 0.001)\n",
    "   prec.m ~ dgamma(0.001, 0.001)\n",
    "   theta <-  beta_mx * beta_m\n",
    "}\n",
    "\""
   ]
  },
  {
   "cell_type": "markdown",
   "metadata": {},
   "source": [
    "第二，将所需要的数据构建成一个列表。\n",
    "\n",
    "第三，加载rjags程序包，调用jags.model生成一个BUGS模型。值得注意的是，jags.model的第一个参数是文本连接（或保存在电脑中的文本文件），因此我们需要通过textConnect函数将上述字符格式的BUGS模型定义转换为文本连接。\n",
    "\n",
    "第四，通过update函数，开始更新模型。\n",
    "\n",
    "第五，通过coda.samples函数抽样，得到我们所需要的信息（在这里例子中，我们关心的是theta）。\n",
    "\n",
    "最后，通过summary函数和plot函数得到theta的分布。"
   ]
  },
  {
   "cell_type": "code",
   "execution_count": 23,
   "metadata": {
    "collapsed": false
   },
   "outputs": [
    {
     "name": "stdout",
     "output_type": "stream",
     "text": [
      "Compiling model graph\n",
      "   Resolving undeclared variables\n",
      "   Allocating nodes\n",
      "Graph information:\n",
      "   Observed stochastic nodes: 204\n",
      "   Unobserved stochastic nodes: 7\n",
      "   Total graph size: 818\n",
      "\n",
      "Initializing model\n",
      "\n"
     ]
    },
    {
     "data": {
      "text/plain": [
       "\n",
       "Iterations = 5001:7000\n",
       "Thinning interval = 1 \n",
       "Number of chains = 4 \n",
       "Sample size per chain = 2000 \n",
       "\n",
       "1. Empirical mean and standard deviation for each variable,\n",
       "   plus standard error of the mean:\n",
       "\n",
       "          Mean             SD       Naive SE Time-series SE \n",
       "      1.009088       0.202368       0.002263       0.007522 \n",
       "\n",
       "2. Quantiles for each variable:\n",
       "\n",
       "  2.5%    25%    50%    75%  97.5% \n",
       "0.6264 0.8712 1.0019 1.1386 1.4208 \n"
      ]
     },
     "execution_count": 23,
     "metadata": {},
     "output_type": "execute_result"
    }
   ],
   "source": [
    "DL <- list(N = nrow(Prestige),\n",
    "           y = Prestige$prestige,\n",
    "           x = Prestige$education,\n",
    "           m = Prestige$income\n",
    "          )\n",
    "\n",
    "library(rjags)\n",
    "jags <- jags.model(textConnection(mediation_model), data=DL,n.chains=4, n.adapt=100)\n",
    "update(jags, 5000)\n",
    "samps <- coda.samples(jags, c(\"theta\"), 2000)\n",
    "summary(samps)\n",
    "# plot(samps)"
   ]
  },
  {
   "cell_type": "markdown",
   "metadata": {},
   "source": [
    "从上述图形可知，模型混合得良好（可以进一步通过诊断分析来判断模型是否混合良好），得到的分布可认为接近理论分布。\n",
    "* 分析结果现实，中介效应的分别略呈右偏态。\n",
    "* 比较贝叶斯中介分析和Sobel方法的结果可知，Sobel方法略高估了中介效应。"
   ]
  },
  {
   "cell_type": "markdown",
   "metadata": {},
   "source": [
    "## 贝叶斯中介分析：多层次回归（模拟分析）\n",
    "\n",
    "贝叶斯中介分析可以容易地延伸至多层次回归的中介分析。对于如下模型：\n",
    "$$M_{ij} = \\alpha_{m,j} + \\beta_{mx,j} X_{ij} + \\epsilon_{m,ij}$$\n",
    "\n",
    "$$Y_{ij} = \\alpha_j + \\beta_{m,j} M_{ij} + \\beta_{x,j} X_{ij} + \\epsilon_{ij}$$"
   ]
  },
  {
   "cell_type": "markdown",
   "metadata": {},
   "source": [
    "我们设定上述模型的参数分布，从而可以生成模拟数据集。其中，\n",
    "\n",
    "$$\\alpha_{m,j} \\sim\\ N(0, 0.6)$$\n",
    "$$\\alpha_{j} \\sim\\ N(0, 0.4)$$\n",
    "$$\\epsilon_{m,ij} \\sim\\ N(0, 0.65)$$\n",
    "$$\\beta_{x,j} \\sim\\ N(0.2, 0.04)$$\n",
    "$$\\epsilon_{ij} \\sim\\ N(0, 0.45)$$\n",
    "\n",
    "系数$(\\beta_{mx, j}, \\beta_{m,j})$对应的期望为$(0.6, 0.6)$，方差分别是$(0.3, 0.4)$，协方差矩阵为0.13。\n",
    "\n",
    "此外，第一层次有N1=50单位，第二层次有N2=30单位。\n",
    "\n",
    "下面的命令生成符合上述设定的随机数："
   ]
  },
  {
   "cell_type": "code",
   "execution_count": 4,
   "metadata": {
    "collapsed": true
   },
   "outputs": [],
   "source": [
    "I <- 50 ## the i-th measure for a specific subject\n",
    "J <- 30 ## the j-th subject\n",
    "N <- I * J\n",
    "Xij <- rnorm(n = N, mean = 30, sd = 5)\n",
    "measures <- rep(1:I, times = J)\n",
    "subjects <- rep(1:J, each=I)\n",
    "alpha_mj <- rep( rnorm(J, 0, sqrt(0.6)), each=I)\n",
    "alpha_j <- rep( rnorm(J, 0, sqrt(0.4)), each=I)\n",
    "e_mij <- rnorm(N, 0, sqrt(0.65))\n",
    "beta_xj <- rep( rnorm(J, 0.2, sqrt(0.04)), each=I)\n",
    "e_ij <- rnorm(N, 0, sqrt(0.45))\n",
    "library(MASS)\n",
    "Beta_mxj_Beta_mj <- mvrnorm(n=J, mu=c(0.4, 0.5), Sigma=matrix(c(0.3,0.13,0.13,0.4), ncol=2))\n",
    "beta_mxj <- rep( Beta_mxj_Beta_mj[,1], each=I)\n",
    "beta_mj <- rep( Beta_mxj_Beta_mj[,2], each=I)\n",
    "Mij <- alpha_mj + beta_mxj * Xij + e_mij\n",
    "Yij <- alpha_j + beta_mj * Mij + beta_xj * Xij + e_ij"
   ]
  },
  {
   "cell_type": "markdown",
   "metadata": {},
   "source": [
    "接下来，通过BUGS（JAGS）语言拟合上述模型。"
   ]
  },
  {
   "cell_type": "code",
   "execution_count": 1,
   "metadata": {
    "collapsed": false
   },
   "outputs": [],
   "source": [
    "med_mlm <- \"\n",
    "model {\n",
    "  \n",
    "  ## random coefficients\n",
    "  for (j in 1:J) {\n",
    "    # indepdent normal distribution\n",
    "    alpha_mj[j] ~ dnorm(alpha_mj_mu, prec.alpha_mj_mu)\n",
    "    alpha_j[j] ~ dnorm(alpha_j_mu, prec.alpha_j_mu)\n",
    "    beta_xj[j] ~ dnorm(beta_xj_mu, prec.beta_xj_mu)\n",
    "    # bivariate normal distribution for beta_mxj and beta_mj\n",
    "    Betas[j, 1:2] ~ dmnorm(Betas_mu[ ], prec.Betas_mu[ , ])\n",
    "    # note it is dmnorm instead of dnorm \n",
    "  }\n",
    "  \n",
    "  ## the two models\n",
    "  for (irow in 1:N) {\n",
    "    # model of m\n",
    "    mean.m[irow] <- alpha_mj[ subjects[irow] ]  +  Betas[ subjects[irow] , 1] * x[irow]\n",
    "    m[irow] ~ dnorm(mean.m[irow], prec.m)\n",
    "    \n",
    "    # model of y\n",
    "    mean.y[irow] <-  alpha_j[ subjects[irow] ] + Betas[ subjects[irow] , 2] * m[irow] + beta_xj[ subjects[irow] ] * x[irow]\n",
    "    y[irow] ~ dnorm(mean.y[irow], prec.y)\n",
    "  }\n",
    "  \n",
    "  ## priors associated with indepdent random coefficients\n",
    "  alpha_mj_mu ~ dnorm(0.0, 1.0E-6)\n",
    "  alpha_j_mu ~ dnorm(0.0, 1.0E-6)\n",
    "  beta_xj_mu ~ dnorm(0.000001, 1.0E-6) ## use a very small value instead of 0 to monitor ratio\n",
    "  sigma.alpha_mj_mu ~ dunif(0, 100) ## note: it is dunif instead of runif\n",
    "  sigma.alpha_j_mu ~ dunif(0, 100)\n",
    "  sigma.beta_xj_mu ~ dunif(0, 100)\n",
    "  prec.alpha_mj_mu <- pow(sigma.alpha_mj_mu, -2)\n",
    "  prec.alpha_j_mu <- pow(sigma.alpha_j_mu, -2)\n",
    "  prec.beta_xj_mu <- pow(sigma.beta_xj_mu, -2)\n",
    "  ## alternatively, we can put priors on prec and then calc sigma\n",
    "  \n",
    "  ## priors on Betas_mu and prec.Betas_mu\n",
    "  ## priors on Betas_mu\n",
    "  Betas_mu[1:2] ~ dmnorm(mean[ ] , prec[,])\n",
    "  ## specify the values of hypyer-priors\n",
    "  mean[1] <- 0\n",
    "  mean[2] <-  0\n",
    "  prec[1, 1] <-  1.0E-6\n",
    "  prec[1, 2] <-  0\n",
    "  prec[2, 1] <-  0\n",
    "  prec[2, 2] <-  1.0E-6\n",
    "  ## priors on prec.Betas_mu (vague inverse-Wishart prior)\n",
    "  prec.Betas_mu[1:2 , 1:2] ~ dwish(Omega[ , ], 2)\n",
    "  Omega[1, 1] <-  0.001\n",
    "  Omega[1, 2] <-  0.0\n",
    "  Omega[2, 1] <-  0.0\n",
    "  Omega[2, 2] <-  0.001\n",
    "  \n",
    "  # Priors for error term pricisions (inverse gamma priors)\n",
    "  prec.m ~ dgamma(0.001, 0.001)\n",
    "  prec.y ~ dgamma(0.001, 0.001)\n",
    "  \n",
    "  # vague uniform priors for standard deviations of the second level model\n",
    "  sigma.beta2 ~ dunif(0, 100)\n",
    "  sigma.taup ~ dunif(0, 100)\n",
    "  sigma.beta3 ~ dunif(0, 100)\n",
    "  prec.beta2 <-  1/(sigma.beta2*sigma.beta2)\n",
    "  prec.taup <-  1/(sigma.taup*sigma.taup)\n",
    "  prec.beta3 <-  1/(sigma.beta3*sigma.beta3)\n",
    "  \n",
    "  ## generated quantities\n",
    "  var.Betas[1, 1] <-  prec.Betas_mu[2,2] / (prec.Betas_mu[1,1] * prec.Betas_mu[2,2] - prec.Betas_mu[1,2] * prec.Betas_mu[2,1])\n",
    "  var.Betas[1, 2] <-  - prec.Betas_mu[1,2] / (prec.Betas_mu[1,1] * prec.Betas_mu[2,2] - prec.Betas_mu[1,2] * prec.Betas_mu[2,1])\n",
    "  var.Betas[2, 1] <-  - prec.Betas_mu[2,1] / (prec.Betas_mu[1,1] * prec.Betas_mu[2,2] - prec.Betas_mu[1,2] * prec.Betas_mu[2,1])\n",
    "  var.Betas[2, 2] <-  prec.Betas_mu[1,1] / (prec.Betas_mu[1,1] * prec.Betas_mu[2,2] - prec.Betas_mu[1,2] * prec.Betas_mu[2,1])\n",
    "  \n",
    "  ##  mediated is the average mediated effect\n",
    "  mediated <- Betas_mu[1] * Betas_mu[2] + var.Betas[1, 2]\n",
    "  total <-  Betas_mu[1] * Betas_mu[2] + var.Betas[1, 2] + beta_xj_mu\n",
    "  ratio <-  mediated / total\n",
    "}\n",
    "\""
   ]
  },
  {
   "cell_type": "code",
   "execution_count": 5,
   "metadata": {
    "collapsed": false
   },
   "outputs": [
    {
     "name": "stdout",
     "output_type": "stream",
     "text": [
      "Compiling model graph\n",
      "   Resolving undeclared variables\n",
      "   Allocating nodes\n",
      "   Graph Size: 13743\n",
      "\n",
      "Initializing model\n",
      "\n"
     ]
    }
   ],
   "source": [
    "library(rjags) \n",
    "mod <- jags.model(textConnection(med_mlm), data=list(N=N, J=J, y = Yij, x=Xij, m=Mij, subjects=subjects) )\n",
    "update(mod, 10000)"
   ]
  },
  {
   "cell_type": "code",
   "execution_count": 9,
   "metadata": {
    "collapsed": false
   },
   "outputs": [
    {
     "data": {
      "text/plain": [
       "\n",
       "Iterations = 26001:31000\n",
       "Thinning interval = 1 \n",
       "Number of chains = 1 \n",
       "Sample size per chain = 5000 \n",
       "\n",
       "1. Empirical mean and standard deviation for each variable,\n",
       "   plus standard error of the mean:\n",
       "\n",
       "               Mean      SD  Naive SE Time-series SE\n",
       "Betas_mu[1]  0.4961 0.09333 0.0013199       0.001320\n",
       "Betas_mu[2]  0.7045 0.10081 0.0014256       0.002793\n",
       "alpha_j_mu  -0.1828 0.12593 0.0017809       0.015293\n",
       "alpha_mj_mu -0.1095 0.20111 0.0028442       0.014231\n",
       "beta_xj_mu   0.2080 0.04194 0.0005932       0.004014\n",
       "mediated     0.4138 0.10747 0.0015198       0.002289\n",
       "ratio        0.6584 0.07737 0.0010941       0.005490\n",
       "total        0.6219 0.11273 0.0015943       0.001594\n",
       "\n",
       "2. Quantiles for each variable:\n",
       "\n",
       "               2.5%     25%     50%      75%   97.5%\n",
       "Betas_mu[1]  0.3131  0.4365  0.4952  0.55702 0.67737\n",
       "Betas_mu[2]  0.5055  0.6388  0.7032  0.77115 0.90598\n",
       "alpha_j_mu  -0.4388 -0.2630 -0.1826 -0.10661 0.08254\n",
       "alpha_mj_mu -0.5085 -0.2433 -0.1062  0.02444 0.27907\n",
       "beta_xj_mu   0.1261  0.1805  0.2090  0.23525 0.29027\n",
       "mediated     0.2273  0.3410  0.4053  0.47863 0.65303\n",
       "ratio        0.4922  0.6110  0.6614  0.71224 0.79754\n",
       "total        0.4261  0.5441  0.6144  0.69022 0.86957\n"
      ]
     },
     "execution_count": 9,
     "metadata": {},
     "output_type": "execute_result"
    }
   ],
   "source": [
    "samp <- coda.samples(mod, variable.names = c(\"mediated\", \"total\", \"ratio\", \"alpha_j_mu\",\"alpha_mj_mu\", \"Betas_mu\", \"beta_xj_mu\"), n.iter = 5000)\n",
    "summary(samp)"
   ]
  }
 ],
 "metadata": {
  "kernelspec": {
   "display_name": "R",
   "language": "R",
   "name": "ir"
  },
  "language_info": {
   "codemirror_mode": "r",
   "file_extension": ".r",
   "mimetype": "text/x-r-source",
   "name": "R",
   "pygments_lexer": "r",
   "version": "3.2.2"
  }
 },
 "nbformat": 4,
 "nbformat_minor": 0
}
