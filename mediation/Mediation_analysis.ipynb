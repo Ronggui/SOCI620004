{
 "cells": [
  {
   "cell_type": "markdown",
   "metadata": {},
   "source": [
    "# 中介分析基本框架\n",
    "\n",
    "假定\\\\(Y\\\\)是因变量，\\\\(X\\\\)是自变量，\\\\(M\\\\)是中介变量；其中，\\\\(X\\\\)部分（或完全）通过影响\\\\(M\\\\)而影响\\\\(Y\\\\)。这一关系可以表述为：\n",
    "\n",
    "$$Y = \\alpha_y + \\beta_{yx} X + \\epsilon_y$$\n",
    "\n",
    "$$M = \\alpha_m + \\beta_{mx} X + \\epsilon_m$$\n",
    "\n",
    "$$Y = \\alpha + \\beta_{m} M + \\beta_{x} X + \\epsilon$$\n",
    "\n",
    "如果我们将第二个公式代入到第三个公式，然后与第一个公式进行比较可以发现：\n",
    "\n",
    "$$ \\beta_{mx}\\beta_m = \\beta_{yx} - \\beta_x$$\n",
    "\n",
    "因此，只要我们估计第一个和第三个模型就可以得到中介效应 $\\beta_{mx}\\beta_m$。然而，为了估计中介效应是否显著，我们还需要估计相应的标准误$\\widehat{\\sigma_{\\beta_{mx}\\beta_m}}$。其中一种估计方法（Sobel，1982）如下：\n",
    "\n",
    "$$\\widehat{\\sigma_{\\beta_{mx}\\beta_m}} = \\sqrt{\\widehat{\\beta_{mx}^2} \\widehat{\\sigma^2_{\\beta_{m}}}+\\widehat{\\beta_{m}^2} \\widehat{\\sigma^2_{\\beta_{mx}}} }$$\n",
    "\n",
    "可见，为了估计中介效应的标准误，需要同时估计第二和第三个模型。\n",
    "\n",
    "得到标准误后，可以使用正态分布来估计其置信区间。然而，值得注意的是，由于中介效应呈偏态分布，根据上述标准误计算的置信区间无法很好反映真实的区间。"
   ]
  },
  {
   "cell_type": "code",
   "execution_count": 2,
   "metadata": {
    "scrolled": true
   },
   "outputs": [
    {
     "data": {
      "text/html": [
       "<ol class=list-inline>\n",
       "\t<li>\"education\"</li>\n",
       "\t<li>\"income\"</li>\n",
       "\t<li>\"women\"</li>\n",
       "\t<li>\"prestige\"</li>\n",
       "\t<li>\"census\"</li>\n",
       "\t<li>\"type\"</li>\n",
       "</ol>\n"
      ],
      "text/latex": [
       "\\begin{enumerate*}\n",
       "\\item \"education\"\n",
       "\\item \"income\"\n",
       "\\item \"women\"\n",
       "\\item \"prestige\"\n",
       "\\item \"census\"\n",
       "\\item \"type\"\n",
       "\\end{enumerate*}\n"
      ],
      "text/markdown": [
       "1. \"education\"\n",
       "2. \"income\"\n",
       "3. \"women\"\n",
       "4. \"prestige\"\n",
       "5. \"census\"\n",
       "6. \"type\"\n",
       "\n",
       "\n"
      ],
      "text/plain": [
       "[1] \"education\" \"income\"    \"women\"     \"prestige\"  \"census\"    \"type\"     "
      ]
     },
     "execution_count": 2,
     "metadata": {},
     "output_type": "execute_result"
    }
   ],
   "source": [
    "data(Prestige, package=\"car\")\n",
    "names(Prestige)"
   ]
  },
  {
   "cell_type": "markdown",
   "metadata": {},
   "source": [
    "#### 例子:教育程度在多大程度上通过收入而影响职业声望？\n",
    "\n",
    "通过拟合三个模型，我们可以通过两种不同的方法计算中介效应。"
   ]
  },
  {
   "cell_type": "code",
   "execution_count": 3,
   "metadata": {},
   "outputs": [
    {
     "data": {
      "text/html": [
       "<strong>education:</strong> 1.22343334690888"
      ],
      "text/latex": [
       "\\textbf{education:} 1.22343334690888"
      ],
      "text/markdown": [
       "**education:** 1.22343334690888"
      ],
      "text/plain": [
       "education \n",
       " 1.223433 "
      ]
     },
     "execution_count": 3,
     "metadata": {},
     "output_type": "execute_result"
    },
    {
     "data": {
      "text/html": [
       "<strong>education:</strong> 1.22343334690888"
      ],
      "text/latex": [
       "\\textbf{education:} 1.22343334690888"
      ],
      "text/markdown": [
       "**education:** 1.22343334690888"
      ],
      "text/plain": [
       "education \n",
       " 1.223433 "
      ]
     },
     "execution_count": 3,
     "metadata": {},
     "output_type": "execute_result"
    }
   ],
   "source": [
    "mod_y <- lm(prestige ~ education, data = Prestige)\n",
    "mod_m <- lm(income ~ education, data = Prestige)\n",
    "mod_full <- lm(prestige ~ income + education, data = Prestige)\n",
    "coef(mod_m)['education'] * coef(mod_full)['income'] ## mediation effect by multiplication\n",
    "med_eff <- coef(mod_y)['education'] - coef(mod_full)['education'] ## mediation effect by subtraction\n",
    "med_eff ## save for futher use"
   ]
  },
  {
   "cell_type": "markdown",
   "metadata": {},
   "source": [
    "下面我们直接计算中介效应的标准误，以及对95%置信的估计。"
   ]
  },
  {
   "cell_type": "code",
   "execution_count": 4,
   "metadata": {},
   "outputs": [
    {
     "data": {
      "text/html": [
       "<dl class=dl-horizontal>\n",
       "\t<dt>education</dt>\n",
       "\t\t<dd>0.702972209966879</dd>\n",
       "\t<dt>education</dt>\n",
       "\t\t<dd>1.74389448385089</dd>\n",
       "</dl>\n"
      ],
      "text/latex": [
       "\\begin{description*}\n",
       "\\item[education] 0.702972209966879\n",
       "\\item[education] 1.74389448385089\n",
       "\\end{description*}\n"
      ],
      "text/markdown": [
       "education\n",
       ":   0.702972209966879education\n",
       ":   1.74389448385089\n",
       "\n"
      ],
      "text/plain": [
       "education education \n",
       "0.7029722 1.7438945 "
      ]
     },
     "execution_count": 4,
     "metadata": {},
     "output_type": "execute_result"
    }
   ],
   "source": [
    "sd_eff_sq <- coef(mod_m)['education']^2 * vcov(mod_full)['income', 'income'] + \n",
    "             coef(mod_full)['income']^2 * vcov(mod_m)['education', 'education']\n",
    "sd_eff <- sqrt(sd_eff_sq) ## SE of mediation effect\n",
    "c(med_eff - 1.96*sd_eff, med_eff + 1.96*sd_eff) # 95% CI"
   ]
  },
  {
   "cell_type": "markdown",
   "metadata": {},
   "source": [
    "我们可以把上面的计算过程封装起来，从而得到计算中介效应及其区间的函数。"
   ]
  },
  {
   "cell_type": "markdown",
   "metadata": {},
   "source": [
    "## 通过bootstrap法计算中介效应及其置信区间\n",
    "\n",
    "\n",
    "Bollen和Stine是这个方法的倡导者。相关讨论详见：Bollen, K. A. & Stine, R. 1990. Direct and indirect effects: classical and bootstrap estimates of variability Sociological Methodology, 20, 115–140.\n",
    "\n",
    "首先，定义一个函数计算中介效应。该函数具有两个参数，第一个参数是数据框，第二个参数是bootstrap法随机抽取的案例的标识（行数）。"
   ]
  },
  {
   "cell_type": "code",
   "execution_count": 5,
   "metadata": {},
   "outputs": [],
   "source": [
    "coef_diff <- function(d, i){\n",
    "    dat <- d[i, ]\n",
    "    mod_y <- lm(prestige ~ education, data = dat)\n",
    "    mod_full <- lm(prestige ~ income + education, data = dat)\n",
    "    med_eff <- coef(mod_y)['education'] - coef(mod_full)['education'] ## mediation effect by subtraction\n",
    "    med_eff\n",
    "}"
   ]
  },
  {
   "cell_type": "markdown",
   "metadata": {},
   "source": [
    "接下来，加载boot程序包，并调用同名函数进行bootstrap计算。其中，我们将抽样次数R设置为1000，stype参数设置为i。"
   ]
  },
  {
   "cell_type": "code",
   "execution_count": 6,
   "metadata": {},
   "outputs": [
    {
     "data": {
      "text/plain": [
       "\n",
       "ORDINARY NONPARAMETRIC BOOTSTRAP\n",
       "\n",
       "\n",
       "Call:\n",
       "boot(data = Prestige, statistic = coef_diff, R = 1000, stype = \"i\")\n",
       "\n",
       "\n",
       "Bootstrap Statistics :\n",
       "    original     bias    std. error\n",
       "t1* 1.223433 0.03451726    0.261108"
      ]
     },
     "execution_count": 6,
     "metadata": {},
     "output_type": "execute_result"
    }
   ],
   "source": [
    "library(boot)\n",
    "(med.boot <- boot(Prestige, coef_diff, R = 1000, stype=\"i\"))"
   ]
  },
  {
   "cell_type": "markdown",
   "metadata": {},
   "source": [
    "original: 原始样本计算得到的统计量\n",
    "bias: R次bootstrap得到样本量的均值 - original\n",
    "std.error: R次bootstrap样本统计量的标准差"
   ]
  },
  {
   "cell_type": "markdown",
   "metadata": {},
   "source": [
    "第三，调用boot.ci函数计算置信区间。与Bollen and Stine（1990）相一致，我们计算的是percentile置信区间（type = \"perc\"）。"
   ]
  },
  {
   "cell_type": "code",
   "execution_count": 7,
   "metadata": {},
   "outputs": [
    {
     "data": {
      "text/plain": [
       "BOOTSTRAP CONFIDENCE INTERVAL CALCULATIONS\n",
       "Based on 1000 bootstrap replicates\n",
       "\n",
       "CALL : \n",
       "boot.ci(boot.out = med.boot, type = \"perc\")\n",
       "\n",
       "Intervals : \n",
       "Level     Percentile     \n",
       "95%   ( 0.776,  1.829 )  \n",
       "Calculations and Intervals on Original Scale"
      ]
     },
     "execution_count": 7,
     "metadata": {},
     "output_type": "execute_result"
    }
   ],
   "source": [
    "boot.ci(med.boot, type = \"perc\")"
   ]
  },
  {
   "cell_type": "markdown",
   "metadata": {},
   "source": [
    "通过密度图来检查bootstrap结果的分布。同时，通过curve函数增加一个正态分布曲线来做参考。结果显示，bootstrap结果略显偏态分布。"
   ]
  },
  {
   "cell_type": "code",
   "execution_count": 8,
   "metadata": {},
   "outputs": [
    {
     "data": {
      "image/png": "[encoded data removed]",
      "image/svg+xml": [
       "<?xml version=\"1.0\" encoding=\"UTF-8\"?>\n",
       "<svg xmlns=\"http://www.w3.org/2000/svg\" xmlns:xlink=\"http://www.w3.org/1999/xlink\" width=\"504pt\" height=\"504pt\" viewBox=\"0 0 504 504\" version=\"1.1\">\n",
       "<defs>\n",
       "<g>\n",
       "<symbol overflow=\"visible\" id=\"glyph0-0\">\n",
       "<path style=\"stroke:none;\" d=\"M 0.5 -4.234375 C 0.496094 -5.246094 0.601563 -6.0625 0.8125 -6.6875 C 1.019531 -7.304688 1.328125 -7.785156 1.742188 -8.121094 C 2.148438 -8.457031 2.667969 -8.625 3.296875 -8.625 C 3.757813 -8.625 4.164063 -8.53125 4.511719 -8.347656 C 4.855469 -8.160156 5.140625 -7.890625 5.371094 -7.542969 C 5.59375 -7.191406 5.773438 -6.765625 5.90625 -6.265625 C 6.035156 -5.761719 6.097656 -5.085938 6.101563 -4.234375 C 6.097656 -3.226563 5.996094 -2.414063 5.789063 -1.796875 C 5.578125 -1.175781 5.265625 -0.695313 4.859375 -0.359375 C 4.445313 -0.0195313 3.925781 0.144531 3.296875 0.148438 C 2.464844 0.144531 1.816406 -0.148438 1.347656 -0.742188 C 0.78125 -1.457031 0.496094 -2.621094 0.5 -4.234375 Z M 1.582031 -4.234375 C 1.582031 -2.824219 1.746094 -1.886719 2.074219 -1.417969 C 2.402344 -0.949219 2.808594 -0.714844 3.296875 -0.71875 C 3.777344 -0.714844 4.183594 -0.949219 4.519531 -1.421875 C 4.847656 -1.886719 5.015625 -2.824219 5.015625 -4.234375 C 5.015625 -5.648438 4.847656 -6.589844 4.519531 -7.054688 C 4.183594 -7.515625 3.773438 -7.746094 3.289063 -7.75 C 2.800781 -7.746094 2.414063 -7.542969 2.125 -7.136719 C 1.761719 -6.613281 1.582031 -5.644531 1.582031 -4.234375 Z M 1.582031 -4.234375 \"/>\n",
       "</symbol>\n",
       "<symbol overflow=\"visible\" id=\"glyph0-1\">\n",
       "<path style=\"stroke:none;\" d=\"M 1.089844 0 L 1.089844 -1.203125 L 2.289063 -1.203125 L 2.289063 0 Z M 1.089844 0 \"/>\n",
       "</symbol>\n",
       "<symbol overflow=\"visible\" id=\"glyph0-2\">\n",
       "<path style=\"stroke:none;\" d=\"M 0.5 -2.25 L 1.605469 -2.34375 C 1.683594 -1.804688 1.871094 -1.398438 2.175781 -1.125 C 2.472656 -0.851563 2.835938 -0.714844 3.257813 -0.71875 C 3.765625 -0.714844 4.195313 -0.90625 4.546875 -1.292969 C 4.898438 -1.671875 5.074219 -2.179688 5.074219 -2.820313 C 5.074219 -3.414063 4.902344 -3.890625 4.566406 -4.242188 C 4.226563 -4.589844 3.785156 -4.761719 3.242188 -4.765625 C 2.898438 -4.761719 2.59375 -4.683594 2.320313 -4.53125 C 2.046875 -4.375 1.832031 -4.175781 1.675781 -3.929688 L 0.6875 -4.0625 L 1.515625 -8.472656 L 5.789063 -8.472656 L 5.789063 -7.464844 L 2.359375 -7.464844 L 1.898438 -5.15625 C 2.414063 -5.515625 2.953125 -5.695313 3.523438 -5.695313 C 4.269531 -5.695313 4.902344 -5.433594 5.421875 -4.914063 C 5.933594 -4.394531 6.191406 -3.726563 6.195313 -2.914063 C 6.191406 -2.132813 5.964844 -1.460938 5.515625 -0.898438 C 4.960938 -0.199219 4.210938 0.144531 3.257813 0.148438 C 2.476563 0.144531 1.835938 -0.0703125 1.34375 -0.507813 C 0.84375 -0.941406 0.5625 -1.523438 0.5 -2.25 Z M 0.5 -2.25 \"/>\n",
       "</symbol>\n",
       "<symbol overflow=\"visible\" id=\"glyph0-3\">\n",
       "<path style=\"stroke:none;\" d=\"M 4.46875 0 L 3.414063 0 L 3.414063 -6.71875 C 3.160156 -6.476563 2.828125 -6.234375 2.414063 -5.996094 C 2 -5.75 1.628906 -5.570313 1.304688 -5.449219 L 1.304688 -6.46875 C 1.894531 -6.742188 2.410156 -7.078125 2.851563 -7.476563 C 3.292969 -7.871094 3.605469 -8.253906 3.789063 -8.625 L 4.46875 -8.625 Z M 4.46875 0 \"/>\n",
       "</symbol>\n",
       "<symbol overflow=\"visible\" id=\"glyph0-4\">\n",
       "<path style=\"stroke:none;\" d=\"M 6.039063 -1.015625 L 6.039063 0 L 0.363281 0 C 0.355469 -0.253906 0.394531 -0.496094 0.484375 -0.734375 C 0.628906 -1.117188 0.859375 -1.5 1.179688 -1.875 C 1.492188 -2.25 1.953125 -2.683594 2.5625 -3.175781 C 3.492188 -3.941406 4.125 -4.546875 4.453125 -4.992188 C 4.78125 -5.4375 4.945313 -5.859375 4.945313 -6.265625 C 4.945313 -6.679688 4.792969 -7.03125 4.496094 -7.320313 C 4.191406 -7.601563 3.804688 -7.746094 3.328125 -7.75 C 2.820313 -7.746094 2.414063 -7.59375 2.109375 -7.292969 C 1.804688 -6.984375 1.648438 -6.5625 1.648438 -6.03125 L 0.5625 -6.140625 C 0.632813 -6.945313 0.910156 -7.558594 1.398438 -7.988281 C 1.878906 -8.410156 2.53125 -8.625 3.351563 -8.625 C 4.171875 -8.625 4.824219 -8.394531 5.308594 -7.9375 C 5.789063 -7.480469 6.027344 -6.914063 6.03125 -6.242188 C 6.027344 -5.894531 5.957031 -5.558594 5.820313 -5.226563 C 5.675781 -4.890625 5.441406 -4.539063 5.117188 -4.175781 C 4.789063 -3.804688 4.25 -3.300781 3.492188 -2.664063 C 2.859375 -2.128906 2.453125 -1.769531 2.273438 -1.582031 C 2.09375 -1.394531 1.945313 -1.203125 1.828125 -1.015625 Z M 6.039063 -1.015625 \"/>\n",
       "</symbol>\n",
       "<symbol overflow=\"visible\" id=\"glyph0-5\">\n",
       "<path style=\"stroke:none;\" d=\"M 0.914063 0 L 0.914063 -8.589844 L 2.078125 -8.589844 L 6.59375 -1.84375 L 6.59375 -8.589844 L 7.679688 -8.589844 L 7.679688 0 L 6.515625 0 L 2.003906 -6.75 L 2.003906 0 Z M 0.914063 0 \"/>\n",
       "</symbol>\n",
       "<symbol overflow=\"visible\" id=\"glyph0-6\">\n",
       "<path style=\"stroke:none;\" d=\"\"/>\n",
       "</symbol>\n",
       "<symbol overflow=\"visible\" id=\"glyph0-7\">\n",
       "<path style=\"stroke:none;\" d=\"M 6.339844 -5.050781 L 0.667969 -5.050781 L 0.667969 -6.035156 L 6.339844 -6.035156 Z M 6.339844 -2.445313 L 0.667969 -2.445313 L 0.667969 -3.429688 L 6.339844 -3.429688 Z M 6.339844 -2.445313 \"/>\n",
       "</symbol>\n",
       "<symbol overflow=\"visible\" id=\"glyph0-8\">\n",
       "<path style=\"stroke:none;\" d=\"M 0.878906 0 L 0.878906 -8.589844 L 4.101563 -8.589844 C 4.757813 -8.589844 5.28125 -8.5 5.679688 -8.328125 C 6.070313 -8.152344 6.382813 -7.886719 6.609375 -7.527344 C 6.835938 -7.164063 6.949219 -6.785156 6.949219 -6.390625 C 6.949219 -6.023438 6.847656 -5.679688 6.648438 -5.355469 C 6.449219 -5.027344 6.148438 -4.765625 5.75 -4.570313 C 6.265625 -4.417969 6.664063 -4.15625 6.945313 -3.792969 C 7.222656 -3.421875 7.363281 -2.988281 7.367188 -2.492188 C 7.363281 -2.085938 7.277344 -1.710938 7.109375 -1.367188 C 6.9375 -1.019531 6.730469 -0.753906 6.480469 -0.570313 C 6.230469 -0.378906 5.914063 -0.238281 5.539063 -0.144531 C 5.160156 -0.046875 4.699219 0 4.15625 0 Z M 2.015625 -4.980469 L 3.875 -4.980469 C 4.375 -4.980469 4.738281 -5.011719 4.957031 -5.078125 C 5.246094 -5.164063 5.460938 -5.308594 5.609375 -5.507813 C 5.75 -5.703125 5.824219 -5.953125 5.828125 -6.257813 C 5.824219 -6.542969 5.757813 -6.792969 5.625 -7.011719 C 5.488281 -7.226563 5.292969 -7.375 5.039063 -7.457031 C 4.78125 -7.535156 4.34375 -7.574219 3.734375 -7.578125 L 2.015625 -7.578125 Z M 2.015625 -1.015625 L 4.15625 -1.015625 C 4.515625 -1.011719 4.773438 -1.027344 4.929688 -1.054688 C 5.1875 -1.101563 5.40625 -1.179688 5.582031 -1.289063 C 5.757813 -1.398438 5.902344 -1.554688 6.015625 -1.765625 C 6.128906 -1.96875 6.1875 -2.210938 6.1875 -2.492188 C 6.1875 -2.804688 6.105469 -3.082031 5.941406 -3.324219 C 5.777344 -3.558594 5.546875 -3.726563 5.257813 -3.824219 C 4.960938 -3.917969 4.542969 -3.964844 4 -3.96875 L 2.015625 -3.96875 Z M 2.015625 -1.015625 \"/>\n",
       "</symbol>\n",
       "<symbol overflow=\"visible\" id=\"glyph0-9\">\n",
       "<path style=\"stroke:none;\" d=\"M 4.851563 -0.765625 C 4.460938 -0.433594 4.082031 -0.199219 3.722656 -0.0625 C 3.355469 0.0742188 2.96875 0.140625 2.5625 0.140625 C 1.875 0.140625 1.351563 -0.0234375 0.984375 -0.359375 C 0.617188 -0.6875 0.433594 -1.117188 0.433594 -1.640625 C 0.433594 -1.945313 0.5 -2.222656 0.640625 -2.472656 C 0.777344 -2.722656 0.960938 -2.925781 1.1875 -3.082031 C 1.410156 -3.234375 1.664063 -3.347656 1.945313 -3.429688 C 2.152344 -3.476563 2.464844 -3.53125 2.882813 -3.585938 C 3.734375 -3.6875 4.359375 -3.808594 4.765625 -3.949219 C 4.765625 -4.089844 4.769531 -4.179688 4.769531 -4.226563 C 4.769531 -4.648438 4.667969 -4.953125 4.46875 -5.132813 C 4.199219 -5.371094 3.800781 -5.488281 3.269531 -5.492188 C 2.769531 -5.488281 2.402344 -5.402344 2.167969 -5.230469 C 1.933594 -5.054688 1.757813 -4.746094 1.648438 -4.304688 L 0.617188 -4.445313 C 0.707031 -4.886719 0.863281 -5.242188 1.078125 -5.515625 C 1.289063 -5.78125 1.597656 -5.992188 2.007813 -6.140625 C 2.410156 -6.289063 2.882813 -6.363281 3.421875 -6.363281 C 3.953125 -6.363281 4.382813 -6.300781 4.714844 -6.175781 C 5.046875 -6.050781 5.292969 -5.890625 5.449219 -5.703125 C 5.605469 -5.511719 5.714844 -5.273438 5.777344 -4.984375 C 5.808594 -4.804688 5.824219 -4.480469 5.828125 -4.015625 L 5.828125 -2.609375 C 5.824219 -1.625 5.847656 -1.003906 5.894531 -0.746094 C 5.941406 -0.484375 6.03125 -0.238281 6.164063 0 L 5.0625 0 C 4.953125 -0.21875 4.882813 -0.472656 4.851563 -0.765625 Z M 4.765625 -3.125 C 4.375 -2.964844 3.800781 -2.832031 3.039063 -2.726563 C 2.605469 -2.660156 2.300781 -2.589844 2.121094 -2.515625 C 1.941406 -2.433594 1.800781 -2.320313 1.703125 -2.171875 C 1.605469 -2.019531 1.558594 -1.851563 1.558594 -1.671875 C 1.558594 -1.386719 1.664063 -1.152344 1.875 -0.96875 C 2.085938 -0.777344 2.398438 -0.683594 2.8125 -0.6875 C 3.21875 -0.683594 3.578125 -0.773438 3.894531 -0.953125 C 4.210938 -1.128906 4.445313 -1.371094 4.59375 -1.679688 C 4.707031 -1.917969 4.761719 -2.269531 4.765625 -2.734375 Z M 4.765625 -3.125 \"/>\n",
       "</symbol>\n",
       "<symbol overflow=\"visible\" id=\"glyph0-10\">\n",
       "<path style=\"stroke:none;\" d=\"M 0.789063 0 L 0.789063 -6.222656 L 1.742188 -6.222656 L 1.742188 -5.335938 C 2.195313 -6.019531 2.855469 -6.363281 3.71875 -6.363281 C 4.089844 -6.363281 4.433594 -6.292969 4.753906 -6.160156 C 5.066406 -6.023438 5.304688 -5.847656 5.460938 -5.632813 C 5.617188 -5.410156 5.726563 -5.152344 5.789063 -4.851563 C 5.828125 -4.65625 5.847656 -4.3125 5.847656 -3.828125 L 5.847656 0 L 4.792969 0 L 4.792969 -3.785156 C 4.792969 -4.214844 4.75 -4.535156 4.667969 -4.75 C 4.585938 -4.960938 4.441406 -5.128906 4.234375 -5.257813 C 4.023438 -5.382813 3.777344 -5.449219 3.5 -5.449219 C 3.046875 -5.449219 2.660156 -5.304688 2.332031 -5.019531 C 2.003906 -4.734375 1.839844 -4.195313 1.84375 -3.398438 L 1.84375 0 Z M 0.789063 0 \"/>\n",
       "</symbol>\n",
       "<symbol overflow=\"visible\" id=\"glyph0-11\">\n",
       "<path style=\"stroke:none;\" d=\"M 4.828125 0 L 4.828125 -0.785156 C 4.429688 -0.167969 3.847656 0.140625 3.085938 0.140625 C 2.589844 0.140625 2.132813 0.00390625 1.71875 -0.269531 C 1.296875 -0.542969 0.976563 -0.921875 0.75 -1.414063 C 0.523438 -1.898438 0.410156 -2.464844 0.410156 -3.105469 C 0.410156 -3.726563 0.511719 -4.289063 0.71875 -4.796875 C 0.925781 -5.300781 1.238281 -5.6875 1.652344 -5.957031 C 2.066406 -6.226563 2.527344 -6.363281 3.039063 -6.363281 C 3.410156 -6.363281 3.746094 -6.28125 4.042969 -6.125 C 4.335938 -5.964844 4.574219 -5.761719 4.757813 -5.507813 L 4.757813 -8.589844 L 5.804688 -8.589844 L 5.804688 0 Z M 1.492188 -3.105469 C 1.488281 -2.308594 1.65625 -1.710938 1.996094 -1.316406 C 2.328125 -0.921875 2.726563 -0.726563 3.1875 -0.726563 C 3.648438 -0.726563 4.039063 -0.914063 4.359375 -1.292969 C 4.679688 -1.667969 4.839844 -2.242188 4.84375 -3.015625 C 4.839844 -3.867188 4.675781 -4.492188 4.351563 -4.894531 C 4.019531 -5.289063 3.617188 -5.488281 3.140625 -5.492188 C 2.671875 -5.488281 2.277344 -5.296875 1.964844 -4.917969 C 1.644531 -4.53125 1.488281 -3.929688 1.492188 -3.105469 Z M 1.492188 -3.105469 \"/>\n",
       "</symbol>\n",
       "<symbol overflow=\"visible\" id=\"glyph0-12\">\n",
       "<path style=\"stroke:none;\" d=\"M 1.9375 0 L 0.0351563 -6.222656 L 1.125 -6.222656 L 2.117188 -2.632813 L 2.484375 -1.296875 C 2.5 -1.359375 2.605469 -1.789063 2.804688 -2.578125 L 3.796875 -6.222656 L 4.882813 -6.222656 L 5.8125 -2.613281 L 6.125 -1.421875 L 6.480469 -2.625 L 7.546875 -6.222656 L 8.570313 -6.222656 L 6.625 0 L 5.53125 0 L 4.539063 -3.726563 L 4.300781 -4.789063 L 3.039063 0 Z M 1.9375 0 \"/>\n",
       "</symbol>\n",
       "<symbol overflow=\"visible\" id=\"glyph0-13\">\n",
       "<path style=\"stroke:none;\" d=\"M 0.796875 -7.375 L 0.796875 -8.589844 L 1.851563 -8.589844 L 1.851563 -7.375 Z M 0.796875 0 L 0.796875 -6.222656 L 1.851563 -6.222656 L 1.851563 0 Z M 0.796875 0 \"/>\n",
       "</symbol>\n",
       "<symbol overflow=\"visible\" id=\"glyph0-14\">\n",
       "<path style=\"stroke:none;\" d=\"M 3.09375 -0.945313 L 3.246094 -0.0117188 C 2.949219 0.0507813 2.683594 0.0820313 2.449219 0.0820313 C 2.066406 0.0820313 1.769531 0.0234375 1.558594 -0.0976563 C 1.347656 -0.21875 1.199219 -0.378906 1.113281 -0.578125 C 1.027344 -0.773438 0.984375 -1.1875 0.984375 -1.820313 L 0.984375 -5.402344 L 0.210938 -5.402344 L 0.210938 -6.222656 L 0.984375 -6.222656 L 0.984375 -7.765625 L 2.03125 -8.398438 L 2.03125 -6.222656 L 3.09375 -6.222656 L 3.09375 -5.402344 L 2.03125 -5.402344 L 2.03125 -1.765625 C 2.027344 -1.460938 2.046875 -1.269531 2.085938 -1.183594 C 2.125 -1.097656 2.183594 -1.027344 2.269531 -0.976563 C 2.351563 -0.925781 2.472656 -0.902344 2.632813 -0.902344 C 2.742188 -0.902344 2.898438 -0.914063 3.09375 -0.945313 Z M 3.09375 -0.945313 \"/>\n",
       "</symbol>\n",
       "<symbol overflow=\"visible\" id=\"glyph0-15\">\n",
       "<path style=\"stroke:none;\" d=\"M 0.789063 0 L 0.789063 -8.589844 L 1.84375 -8.589844 L 1.84375 -5.507813 C 2.335938 -6.078125 2.957031 -6.363281 3.710938 -6.363281 C 4.164063 -6.363281 4.566406 -6.269531 4.910156 -6.089844 C 5.25 -5.90625 5.492188 -5.65625 5.640625 -5.339844 C 5.785156 -5.015625 5.859375 -4.550781 5.859375 -3.945313 L 5.859375 0 L 4.804688 0 L 4.804688 -3.945313 C 4.804688 -4.46875 4.6875 -4.851563 4.460938 -5.09375 C 4.226563 -5.328125 3.90625 -5.449219 3.492188 -5.453125 C 3.179688 -5.449219 2.882813 -5.367188 2.609375 -5.210938 C 2.328125 -5.046875 2.132813 -4.828125 2.019531 -4.550781 C 1.898438 -4.273438 1.839844 -3.890625 1.84375 -3.40625 L 1.84375 0 Z M 0.789063 0 \"/>\n",
       "</symbol>\n",
       "<symbol overflow=\"visible\" id=\"glyph0-16\">\n",
       "<path style=\"stroke:none;\" d=\"M 0.570313 -7.464844 L 0.570313 -8.476563 L 6.128906 -8.476563 L 6.128906 -7.65625 C 5.582031 -7.074219 5.039063 -6.300781 4.5 -5.335938 C 3.960938 -4.371094 3.546875 -3.378906 3.257813 -2.359375 C 3.046875 -1.636719 2.910156 -0.851563 2.851563 0 L 1.769531 0 C 1.78125 -0.675781 1.914063 -1.492188 2.167969 -2.449219 C 2.417969 -3.402344 2.78125 -4.324219 3.257813 -5.214844 C 3.734375 -6.105469 4.238281 -6.855469 4.773438 -7.464844 Z M 0.570313 -7.464844 \"/>\n",
       "</symbol>\n",
       "<symbol overflow=\"visible\" id=\"glyph1-0\">\n",
       "<path style=\"stroke:none;\" d=\"M -4.234375 -0.5 C -5.246094 -0.496094 -6.0625 -0.601563 -6.6875 -0.8125 C -7.304688 -1.019531 -7.785156 -1.328125 -8.121094 -1.742188 C -8.457031 -2.148438 -8.625 -2.667969 -8.625 -3.296875 C -8.625 -3.757813 -8.53125 -4.164063 -8.347656 -4.511719 C -8.160156 -4.855469 -7.890625 -5.140625 -7.542969 -5.371094 C -7.191406 -5.59375 -6.765625 -5.773438 -6.265625 -5.90625 C -5.761719 -6.035156 -5.085938 -6.097656 -4.234375 -6.101563 C -3.226563 -6.097656 -2.414063 -5.996094 -1.796875 -5.789063 C -1.175781 -5.578125 -0.695313 -5.265625 -0.359375 -4.859375 C -0.0195313 -4.445313 0.144531 -3.925781 0.148438 -3.296875 C 0.144531 -2.464844 -0.148438 -1.816406 -0.742188 -1.347656 C -1.457031 -0.78125 -2.621094 -0.496094 -4.234375 -0.5 Z M -4.234375 -1.582031 C -2.824219 -1.582031 -1.886719 -1.746094 -1.417969 -2.074219 C -0.949219 -2.402344 -0.714844 -2.808594 -0.71875 -3.296875 C -0.714844 -3.777344 -0.949219 -4.183594 -1.421875 -4.519531 C -1.886719 -4.847656 -2.824219 -5.015625 -4.234375 -5.015625 C -5.648438 -5.015625 -6.589844 -4.847656 -7.054688 -4.519531 C -7.515625 -4.183594 -7.746094 -3.773438 -7.75 -3.289063 C -7.746094 -2.800781 -7.542969 -2.414063 -7.136719 -2.125 C -6.613281 -1.761719 -5.644531 -1.582031 -4.234375 -1.582031 Z M -4.234375 -1.582031 \"/>\n",
       "</symbol>\n",
       "<symbol overflow=\"visible\" id=\"glyph1-1\">\n",
       "<path style=\"stroke:none;\" d=\"M 0 -1.089844 L -1.203125 -1.089844 L -1.203125 -2.289063 L 0 -2.289063 Z M 0 -1.089844 \"/>\n",
       "</symbol>\n",
       "<symbol overflow=\"visible\" id=\"glyph1-2\">\n",
       "<path style=\"stroke:none;\" d=\"M -2.25 -0.5 L -2.34375 -1.605469 C -1.804688 -1.683594 -1.398438 -1.871094 -1.125 -2.175781 C -0.851563 -2.472656 -0.714844 -2.835938 -0.71875 -3.257813 C -0.714844 -3.765625 -0.90625 -4.195313 -1.292969 -4.546875 C -1.671875 -4.898438 -2.179688 -5.074219 -2.820313 -5.074219 C -3.414063 -5.074219 -3.890625 -4.902344 -4.242188 -4.566406 C -4.589844 -4.226563 -4.761719 -3.785156 -4.765625 -3.242188 C -4.761719 -2.898438 -4.683594 -2.59375 -4.53125 -2.320313 C -4.375 -2.046875 -4.175781 -1.832031 -3.929688 -1.675781 L -4.0625 -0.6875 L -8.472656 -1.515625 L -8.472656 -5.789063 L -7.464844 -5.789063 L -7.464844 -2.359375 L -5.15625 -1.898438 C -5.515625 -2.414063 -5.695313 -2.953125 -5.695313 -3.523438 C -5.695313 -4.269531 -5.433594 -4.902344 -4.914063 -5.421875 C -4.394531 -5.933594 -3.726563 -6.191406 -2.914063 -6.195313 C -2.132813 -6.191406 -1.460938 -5.964844 -0.898438 -5.515625 C -0.199219 -4.960938 0.144531 -4.210938 0.148438 -3.257813 C 0.144531 -2.476563 -0.0703125 -1.835938 -0.507813 -1.34375 C -0.941406 -0.84375 -1.523438 -0.5625 -2.25 -0.5 Z M -2.25 -0.5 \"/>\n",
       "</symbol>\n",
       "<symbol overflow=\"visible\" id=\"glyph1-3\">\n",
       "<path style=\"stroke:none;\" d=\"M 0 -4.46875 L 0 -3.414063 L -6.71875 -3.414063 C -6.476563 -3.160156 -6.234375 -2.828125 -5.996094 -2.414063 C -5.75 -2 -5.570313 -1.628906 -5.449219 -1.304688 L -6.46875 -1.304688 C -6.742188 -1.894531 -7.078125 -2.410156 -7.476563 -2.851563 C -7.871094 -3.292969 -8.253906 -3.605469 -8.625 -3.789063 L -8.625 -4.46875 Z M 0 -4.46875 \"/>\n",
       "</symbol>\n",
       "<symbol overflow=\"visible\" id=\"glyph1-4\">\n",
       "<path style=\"stroke:none;\" d=\"M 0 -0.925781 L -8.589844 -0.925781 L -8.589844 -3.882813 C -8.589844 -4.550781 -8.546875 -5.0625 -8.46875 -5.414063 C -8.351563 -5.90625 -8.148438 -6.324219 -7.851563 -6.671875 C -7.46875 -7.121094 -6.976563 -7.460938 -6.382813 -7.6875 C -5.785156 -7.914063 -5.105469 -8.027344 -4.34375 -8.027344 C -3.6875 -8.027344 -3.109375 -7.949219 -2.605469 -7.796875 C -2.101563 -7.644531 -1.683594 -7.449219 -1.355469 -7.210938 C -1.019531 -6.972656 -0.761719 -6.710938 -0.574219 -6.429688 C -0.386719 -6.144531 -0.242188 -5.804688 -0.144531 -5.40625 C -0.046875 -5.003906 0 -4.542969 0 -4.023438 Z M -1.015625 -2.0625 L -1.015625 -3.898438 C -1.011719 -4.460938 -1.066406 -4.90625 -1.171875 -5.226563 C -1.273438 -5.546875 -1.421875 -5.804688 -1.617188 -6 C -1.886719 -6.269531 -2.246094 -6.476563 -2.703125 -6.628906 C -3.15625 -6.777344 -3.710938 -6.855469 -4.359375 -6.855469 C -5.257813 -6.855469 -5.945313 -6.707031 -6.429688 -6.410156 C -6.910156 -6.113281 -7.234375 -5.753906 -7.398438 -5.335938 C -7.515625 -5.03125 -7.574219 -4.542969 -7.578125 -3.867188 L -7.578125 -2.0625 Z M -1.015625 -2.0625 \"/>\n",
       "</symbol>\n",
       "<symbol overflow=\"visible\" id=\"glyph1-5\">\n",
       "<path style=\"stroke:none;\" d=\"M -2.003906 -5.050781 L -1.867188 -6.140625 C -1.230469 -5.96875 -0.738281 -5.648438 -0.386719 -5.183594 C -0.0351563 -4.71875 0.140625 -4.125 0.140625 -3.40625 C 0.140625 -2.492188 -0.136719 -1.769531 -0.699219 -1.238281 C -1.253906 -0.699219 -2.042969 -0.433594 -3.058594 -0.4375 C -4.105469 -0.433594 -4.917969 -0.703125 -5.496094 -1.246094 C -6.074219 -1.78125 -6.363281 -2.480469 -6.363281 -3.34375 C -6.363281 -4.175781 -6.078125 -4.855469 -5.511719 -5.382813 C -4.945313 -5.910156 -4.148438 -6.175781 -3.125 -6.175781 C -3.058594 -6.175781 -2.964844 -6.171875 -2.84375 -6.171875 L -2.84375 -1.53125 C -2.15625 -1.5625 -1.632813 -1.757813 -1.269531 -2.109375 C -0.90625 -2.457031 -0.726563 -2.890625 -0.726563 -3.410156 C -0.726563 -3.796875 -0.828125 -4.125 -1.03125 -4.402344 C -1.234375 -4.671875 -1.558594 -4.890625 -2.003906 -5.050781 Z M -3.710938 -1.585938 L -3.710938 -5.0625 C -4.226563 -5.015625 -4.621094 -4.882813 -4.886719 -4.664063 C -5.292969 -4.328125 -5.496094 -3.890625 -5.496094 -3.359375 C -5.496094 -2.871094 -5.332031 -2.464844 -5.007813 -2.136719 C -4.683594 -1.804688 -4.25 -1.621094 -3.710938 -1.585938 Z M -3.710938 -1.585938 \"/>\n",
       "</symbol>\n",
       "<symbol overflow=\"visible\" id=\"glyph1-6\">\n",
       "<path style=\"stroke:none;\" d=\"M 0 -0.789063 L -6.222656 -0.789063 L -6.222656 -1.742188 L -5.335938 -1.742188 C -6.019531 -2.195313 -6.363281 -2.855469 -6.363281 -3.71875 C -6.363281 -4.089844 -6.292969 -4.433594 -6.160156 -4.753906 C -6.023438 -5.066406 -5.847656 -5.304688 -5.632813 -5.460938 C -5.410156 -5.617188 -5.152344 -5.726563 -4.851563 -5.789063 C -4.65625 -5.828125 -4.3125 -5.847656 -3.828125 -5.847656 L 0 -5.847656 L 0 -4.792969 L -3.785156 -4.792969 C -4.214844 -4.792969 -4.535156 -4.75 -4.75 -4.667969 C -4.960938 -4.585938 -5.128906 -4.441406 -5.257813 -4.234375 C -5.382813 -4.023438 -5.449219 -3.777344 -5.449219 -3.5 C -5.449219 -3.046875 -5.304688 -2.660156 -5.019531 -2.332031 C -4.734375 -2.003906 -4.195313 -1.839844 -3.398438 -1.84375 L 0 -1.84375 Z M 0 -0.789063 \"/>\n",
       "</symbol>\n",
       "<symbol overflow=\"visible\" id=\"glyph1-7\">\n",
       "<path style=\"stroke:none;\" d=\"M -1.859375 -0.367188 L -2.023438 -1.414063 C -1.601563 -1.46875 -1.28125 -1.632813 -1.058594 -1.902344 C -0.835938 -2.167969 -0.726563 -2.542969 -0.726563 -3.023438 C -0.726563 -3.507813 -0.824219 -3.867188 -1.023438 -4.101563 C -1.21875 -4.335938 -1.449219 -4.453125 -1.71875 -4.453125 C -1.953125 -4.453125 -2.140625 -4.347656 -2.28125 -4.140625 C -2.371094 -3.996094 -2.492188 -3.636719 -2.636719 -3.0625 C -2.832031 -2.289063 -3 -1.753906 -3.144531 -1.457031 C -3.285156 -1.15625 -3.480469 -0.929688 -3.734375 -0.777344 C -3.984375 -0.621094 -4.265625 -0.542969 -4.570313 -0.546875 C -4.84375 -0.542969 -5.097656 -0.605469 -5.339844 -0.734375 C -5.574219 -0.859375 -5.773438 -1.035156 -5.929688 -1.253906 C -6.046875 -1.417969 -6.148438 -1.640625 -6.234375 -1.925781 C -6.320313 -2.207031 -6.363281 -2.511719 -6.363281 -2.835938 C -6.363281 -3.324219 -6.292969 -3.75 -6.152344 -4.121094 C -6.011719 -4.488281 -5.820313 -4.761719 -5.578125 -4.9375 C -5.335938 -5.113281 -5.015625 -5.234375 -4.617188 -5.304688 L -4.476563 -4.273438 C -4.796875 -4.222656 -5.046875 -4.085938 -5.226563 -3.863281 C -5.40625 -3.636719 -5.496094 -3.320313 -5.496094 -2.914063 C -5.496094 -2.425781 -5.414063 -2.082031 -5.253906 -1.875 C -5.09375 -1.664063 -4.90625 -1.558594 -4.695313 -1.5625 C -4.554688 -1.558594 -4.433594 -1.601563 -4.324219 -1.695313 C -4.210938 -1.773438 -4.117188 -1.910156 -4.042969 -2.097656 C -4.003906 -2.203125 -3.914063 -2.511719 -3.773438 -3.03125 C -3.574219 -3.773438 -3.410156 -4.292969 -3.285156 -4.589844 C -3.15625 -4.878906 -2.972656 -5.113281 -2.730469 -5.285156 C -2.488281 -5.453125 -2.1875 -5.535156 -1.828125 -5.539063 C -1.476563 -5.535156 -1.144531 -5.433594 -0.832031 -5.230469 C -0.519531 -5.023438 -0.277344 -4.726563 -0.113281 -4.339844 C 0.0585938 -3.953125 0.140625 -3.515625 0.140625 -3.03125 C 0.140625 -2.21875 -0.0273438 -1.601563 -0.363281 -1.179688 C -0.699219 -0.753906 -1.195313 -0.484375 -1.859375 -0.367188 Z M -1.859375 -0.367188 \"/>\n",
       "</symbol>\n",
       "<symbol overflow=\"visible\" id=\"glyph1-8\">\n",
       "<path style=\"stroke:none;\" d=\"M -7.375 -0.796875 L -8.589844 -0.796875 L -8.589844 -1.851563 L -7.375 -1.851563 Z M 0 -0.796875 L -6.222656 -0.796875 L -6.222656 -1.851563 L 0 -1.851563 Z M 0 -0.796875 \"/>\n",
       "</symbol>\n",
       "<symbol overflow=\"visible\" id=\"glyph1-9\">\n",
       "<path style=\"stroke:none;\" d=\"M -0.945313 -3.09375 L -0.0117188 -3.246094 C 0.0507813 -2.949219 0.0820313 -2.683594 0.0820313 -2.449219 C 0.0820313 -2.066406 0.0234375 -1.769531 -0.0976563 -1.558594 C -0.21875 -1.347656 -0.378906 -1.199219 -0.578125 -1.113281 C -0.773438 -1.027344 -1.1875 -0.984375 -1.820313 -0.984375 L -5.402344 -0.984375 L -5.402344 -0.210938 L -6.222656 -0.210938 L -6.222656 -0.984375 L -7.765625 -0.984375 L -8.398438 -2.03125 L -6.222656 -2.03125 L -6.222656 -3.09375 L -5.402344 -3.09375 L -5.402344 -2.03125 L -1.765625 -2.03125 C -1.460938 -2.027344 -1.269531 -2.046875 -1.183594 -2.085938 C -1.097656 -2.125 -1.027344 -2.183594 -0.976563 -2.269531 C -0.925781 -2.351563 -0.902344 -2.472656 -0.902344 -2.632813 C -0.902344 -2.742188 -0.914063 -2.898438 -0.945313 -3.09375 Z M -0.945313 -3.09375 \"/>\n",
       "</symbol>\n",
       "<symbol overflow=\"visible\" id=\"glyph1-10\">\n",
       "<path style=\"stroke:none;\" d=\"M 2.398438 -0.742188 L 1.40625 -0.625 C 1.46875 -0.855469 1.5 -1.058594 1.5 -1.230469 C 1.5 -1.464844 1.460938 -1.652344 1.382813 -1.792969 C 1.304688 -1.933594 1.195313 -2.046875 1.054688 -2.140625 C 0.949219 -2.203125 0.6875 -2.3125 0.269531 -2.460938 C 0.207031 -2.480469 0.121094 -2.511719 0.0117188 -2.554688 L -6.222656 -0.195313 L -6.222656 -1.328125 L -2.617188 -2.625 C -2.160156 -2.789063 -1.679688 -2.9375 -1.179688 -3.078125 C -1.660156 -3.195313 -2.132813 -3.339844 -2.59375 -3.507813 L -6.222656 -4.839844 L -6.222656 -5.894531 L 0.105469 -3.527344 C 0.789063 -3.273438 1.257813 -3.074219 1.515625 -2.9375 C 1.863281 -2.746094 2.117188 -2.53125 2.28125 -2.292969 C 2.4375 -2.046875 2.519531 -1.757813 2.523438 -1.421875 C 2.519531 -1.214844 2.476563 -0.988281 2.398438 -0.742188 Z M 2.398438 -0.742188 \"/>\n",
       "</symbol>\n",
       "<symbol overflow=\"visible\" id=\"glyph2-0\">\n",
       "<path style=\"stroke:none;\" d=\"M 1.054688 -10.308594 L 5.175781 -10.308594 C 5.988281 -10.304688 6.597656 -10.273438 7 -10.207031 C 7.398438 -10.136719 7.757813 -9.992188 8.074219 -9.78125 C 8.390625 -9.5625 8.652344 -9.277344 8.867188 -8.917969 C 9.074219 -8.558594 9.179688 -8.15625 9.183594 -7.714844 C 9.179688 -7.226563 9.050781 -6.78125 8.792969 -6.382813 C 8.53125 -5.976563 8.179688 -5.675781 7.734375 -5.476563 C 8.359375 -5.292969 8.839844 -4.980469 9.179688 -4.542969 C 9.515625 -4.097656 9.683594 -3.582031 9.6875 -2.988281 C 9.683594 -2.519531 9.574219 -2.0625 9.359375 -1.621094 C 9.140625 -1.175781 8.84375 -0.820313 8.46875 -0.558594 C 8.085938 -0.289063 7.621094 -0.128906 7.074219 -0.0703125 C 6.722656 -0.03125 5.886719 -0.0078125 4.5625 0 L 1.054688 0 Z M 3.136719 -8.59375 L 3.136719 -6.207031 L 4.5 -6.207031 C 5.308594 -6.203125 5.8125 -6.214844 6.011719 -6.242188 C 6.367188 -6.28125 6.644531 -6.40625 6.851563 -6.613281 C 7.050781 -6.8125 7.152344 -7.082031 7.15625 -7.417969 C 7.152344 -7.734375 7.066406 -7.992188 6.890625 -8.191406 C 6.714844 -8.390625 6.453125 -8.511719 6.109375 -8.558594 C 5.902344 -8.578125 5.308594 -8.589844 4.332031 -8.59375 Z M 3.136719 -4.492188 L 3.136719 -1.738281 L 5.0625 -1.738281 C 5.8125 -1.734375 6.285156 -1.753906 6.488281 -1.800781 C 6.792969 -1.851563 7.046875 -1.988281 7.246094 -2.210938 C 7.4375 -2.425781 7.535156 -2.71875 7.539063 -3.085938 C 7.535156 -3.394531 7.460938 -3.65625 7.3125 -3.875 C 7.160156 -4.085938 6.941406 -4.242188 6.660156 -4.34375 C 6.375 -4.4375 5.761719 -4.488281 4.816406 -4.492188 Z M 3.136719 -4.492188 \"/>\n",
       "</symbol>\n",
       "<symbol overflow=\"visible\" id=\"glyph2-1\">\n",
       "<path style=\"stroke:none;\" d=\"M 0.578125 -3.839844 C 0.574219 -4.492188 0.734375 -5.128906 1.0625 -5.742188 C 1.382813 -6.355469 1.839844 -6.824219 2.433594 -7.148438 C 3.023438 -7.472656 3.6875 -7.632813 4.421875 -7.636719 C 5.550781 -7.632813 6.476563 -7.265625 7.199219 -6.535156 C 7.917969 -5.796875 8.277344 -4.871094 8.28125 -3.753906 C 8.277344 -2.621094 7.914063 -1.683594 7.1875 -0.945313 C 6.457031 -0.203125 5.539063 0.164063 4.4375 0.167969 C 3.75 0.164063 3.097656 0.0117188 2.476563 -0.292969 C 1.855469 -0.601563 1.382813 -1.054688 1.0625 -1.652344 C 0.734375 -2.25 0.574219 -2.976563 0.578125 -3.839844 Z M 2.601563 -3.734375 C 2.601563 -2.988281 2.777344 -2.421875 3.128906 -2.03125 C 3.480469 -1.636719 3.914063 -1.441406 4.429688 -1.441406 C 4.945313 -1.441406 5.375 -1.636719 5.726563 -2.03125 C 6.070313 -2.421875 6.246094 -2.992188 6.25 -3.746094 C 6.246094 -4.472656 6.070313 -5.035156 5.726563 -5.433594 C 5.375 -5.824219 4.945313 -6.023438 4.429688 -6.027344 C 3.914063 -6.023438 3.480469 -5.824219 3.128906 -5.433594 C 2.777344 -5.035156 2.601563 -4.46875 2.601563 -3.734375 Z M 2.601563 -3.734375 \"/>\n",
       "</symbol>\n",
       "<symbol overflow=\"visible\" id=\"glyph2-2\">\n",
       "<path style=\"stroke:none;\" d=\"M 4.457031 -7.46875 L 4.457031 -5.890625 L 3.109375 -5.890625 L 3.109375 -2.882813 C 3.105469 -2.273438 3.117188 -1.917969 3.144531 -1.816406 C 3.167969 -1.714844 3.226563 -1.628906 3.320313 -1.566406 C 3.410156 -1.496094 3.523438 -1.464844 3.65625 -1.46875 C 3.835938 -1.464844 4.097656 -1.527344 4.449219 -1.660156 L 4.621094 -0.125 C 4.15625 0.0703125 3.636719 0.164063 3.058594 0.167969 C 2.699219 0.164063 2.375 0.105469 2.09375 -0.0117188 C 1.804688 -0.128906 1.597656 -0.28125 1.464844 -0.472656 C 1.332031 -0.660156 1.238281 -0.917969 1.1875 -1.246094 C 1.144531 -1.472656 1.125 -1.9375 1.125 -2.636719 L 1.125 -5.890625 L 0.21875 -5.890625 L 0.21875 -7.46875 L 1.125 -7.46875 L 1.125 -8.949219 L 3.109375 -10.105469 L 3.109375 -7.46875 Z M 4.457031 -7.46875 \"/>\n",
       "</symbol>\n",
       "<symbol overflow=\"visible\" id=\"glyph2-3\">\n",
       "<path style=\"stroke:none;\" d=\"M 0.335938 -2.128906 L 2.320313 -2.433594 C 2.402344 -2.042969 2.570313 -1.75 2.832031 -1.554688 C 3.085938 -1.351563 3.449219 -1.253906 3.917969 -1.257813 C 4.425781 -1.253906 4.808594 -1.347656 5.070313 -1.539063 C 5.238281 -1.667969 5.324219 -1.84375 5.328125 -2.066406 C 5.324219 -2.214844 5.277344 -2.339844 5.1875 -2.441406 C 5.085938 -2.53125 4.867188 -2.617188 4.527344 -2.699219 C 2.929688 -3.046875 1.917969 -3.367188 1.496094 -3.664063 C 0.902344 -4.0625 0.609375 -4.625 0.613281 -5.34375 C 0.609375 -5.988281 0.863281 -6.53125 1.378906 -6.972656 C 1.886719 -7.414063 2.679688 -7.632813 3.753906 -7.636719 C 4.773438 -7.632813 5.53125 -7.46875 6.03125 -7.136719 C 6.523438 -6.800781 6.867188 -6.308594 7.058594 -5.660156 L 5.195313 -5.316406 C 5.113281 -5.601563 4.960938 -5.824219 4.742188 -5.980469 C 4.515625 -6.132813 4.199219 -6.210938 3.789063 -6.214844 C 3.265625 -6.210938 2.894531 -6.136719 2.671875 -5.996094 C 2.519531 -5.890625 2.441406 -5.757813 2.445313 -5.597656 C 2.441406 -5.453125 2.507813 -5.335938 2.644531 -5.238281 C 2.816406 -5.105469 3.433594 -4.917969 4.488281 -4.683594 C 5.539063 -4.441406 6.273438 -4.148438 6.695313 -3.804688 C 7.105469 -3.449219 7.3125 -2.960938 7.3125 -2.335938 C 7.3125 -1.648438 7.023438 -1.058594 6.453125 -0.570313 C 5.878906 -0.078125 5.035156 0.164063 3.917969 0.167969 C 2.898438 0.164063 2.09375 -0.0390625 1.5 -0.449219 C 0.90625 -0.859375 0.515625 -1.417969 0.335938 -2.128906 Z M 0.335938 -2.128906 \"/>\n",
       "</symbol>\n",
       "<symbol overflow=\"visible\" id=\"glyph2-4\">\n",
       "<path style=\"stroke:none;\" d=\"M 2.925781 0 L 0.949219 0 L 0.949219 -7.46875 L 2.785156 -7.46875 L 2.785156 -6.40625 C 3.09375 -6.902344 3.375 -7.234375 3.628906 -7.394531 C 3.878906 -7.554688 4.164063 -7.632813 4.484375 -7.636719 C 4.929688 -7.632813 5.363281 -7.507813 5.785156 -7.261719 L 5.175781 -5.539063 C 4.839844 -5.75 4.53125 -5.859375 4.246094 -5.863281 C 3.96875 -5.859375 3.734375 -5.78125 3.542969 -5.632813 C 3.347656 -5.476563 3.195313 -5.203125 3.089844 -4.808594 C 2.976563 -4.40625 2.921875 -3.570313 2.925781 -2.304688 Z M 2.925781 0 \"/>\n",
       "</symbol>\n",
       "<symbol overflow=\"visible\" id=\"glyph2-5\">\n",
       "<path style=\"stroke:none;\" d=\"M 2.511719 -5.1875 L 0.71875 -5.511719 C 0.917969 -6.230469 1.265625 -6.765625 1.757813 -7.113281 C 2.25 -7.460938 2.980469 -7.632813 3.953125 -7.636719 C 4.832031 -7.632813 5.488281 -7.53125 5.917969 -7.324219 C 6.347656 -7.113281 6.648438 -6.847656 6.828125 -6.527344 C 7 -6.207031 7.089844 -5.617188 7.09375 -4.761719 L 7.074219 -2.453125 C 7.070313 -1.792969 7.101563 -1.308594 7.167969 -1 C 7.226563 -0.6875 7.347656 -0.355469 7.523438 0 L 5.570313 0 C 5.515625 -0.128906 5.453125 -0.320313 5.378906 -0.582031 C 5.34375 -0.695313 5.320313 -0.773438 5.308594 -0.816406 C 4.96875 -0.484375 4.605469 -0.238281 4.222656 -0.078125 C 3.835938 0.0859375 3.425781 0.164063 2.996094 0.167969 C 2.222656 0.164063 1.617188 -0.0429688 1.175781 -0.457031 C 0.730469 -0.871094 0.507813 -1.398438 0.511719 -2.039063 C 0.507813 -2.460938 0.609375 -2.835938 0.8125 -3.167969 C 1.011719 -3.496094 1.292969 -3.75 1.660156 -3.925781 C 2.019531 -4.101563 2.546875 -4.253906 3.234375 -4.386719 C 4.15625 -4.558594 4.792969 -4.71875 5.152344 -4.871094 L 5.152344 -5.070313 C 5.148438 -5.445313 5.054688 -5.71875 4.871094 -5.882813 C 4.679688 -6.042969 4.328125 -6.121094 3.8125 -6.125 C 3.457031 -6.121094 3.183594 -6.054688 2.988281 -5.917969 C 2.789063 -5.777344 2.628906 -5.53125 2.511719 -5.1875 Z M 5.152344 -3.585938 C 4.894531 -3.5 4.496094 -3.398438 3.949219 -3.285156 C 3.402344 -3.164063 3.042969 -3.046875 2.875 -2.9375 C 2.613281 -2.75 2.484375 -2.519531 2.488281 -2.242188 C 2.484375 -1.964844 2.585938 -1.726563 2.796875 -1.523438 C 3 -1.320313 3.265625 -1.21875 3.585938 -1.222656 C 3.941406 -1.21875 4.28125 -1.335938 4.605469 -1.574219 C 4.84375 -1.75 5 -1.96875 5.078125 -2.230469 C 5.125 -2.394531 5.148438 -2.714844 5.152344 -3.191406 Z M 5.152344 -3.585938 \"/>\n",
       "</symbol>\n",
       "<symbol overflow=\"visible\" id=\"glyph2-6\">\n",
       "<path style=\"stroke:none;\" d=\"M 0.976563 -7.46875 L 2.820313 -7.46875 L 2.820313 -6.371094 C 3.054688 -6.742188 3.378906 -7.046875 3.789063 -7.285156 C 4.195313 -7.515625 4.648438 -7.632813 5.148438 -7.636719 C 6.011719 -7.632813 6.746094 -7.292969 7.355469 -6.617188 C 7.957031 -5.933594 8.261719 -4.988281 8.261719 -3.777344 C 8.261719 -2.527344 7.957031 -1.558594 7.347656 -0.867188 C 6.738281 -0.179688 6 0.164063 5.132813 0.167969 C 4.71875 0.164063 4.34375 0.0859375 4.011719 -0.078125 C 3.671875 -0.238281 3.320313 -0.519531 2.953125 -0.921875 L 2.953125 2.839844 L 0.976563 2.839844 Z M 2.933594 -3.859375 C 2.929688 -3.019531 3.09375 -2.398438 3.429688 -2 C 3.757813 -1.59375 4.164063 -1.394531 4.648438 -1.398438 C 5.101563 -1.394531 5.484375 -1.578125 5.792969 -1.949219 C 6.09375 -2.316406 6.246094 -2.921875 6.25 -3.761719 C 6.246094 -4.542969 6.089844 -5.121094 5.777344 -5.503906 C 5.464844 -5.878906 5.074219 -6.070313 4.613281 -6.074219 C 4.125 -6.070313 3.726563 -5.882813 3.410156 -5.515625 C 3.089844 -5.140625 2.929688 -4.589844 2.933594 -3.859375 Z M 2.933594 -3.859375 \"/>\n",
       "</symbol>\n",
       "<symbol overflow=\"visible\" id=\"glyph2-7\">\n",
       "<path style=\"stroke:none;\" d=\"\"/>\n",
       "</symbol>\n",
       "<symbol overflow=\"visible\" id=\"glyph2-8\">\n",
       "<path style=\"stroke:none;\" d=\"M 0.886719 -7.46875 L 2.707031 -7.46875 L 2.707031 -6.449219 C 3.355469 -7.238281 4.128906 -7.632813 5.035156 -7.636719 C 5.507813 -7.632813 5.921875 -7.535156 6.277344 -7.339844 C 6.625 -7.140625 6.914063 -6.84375 7.144531 -6.449219 C 7.46875 -6.84375 7.824219 -7.140625 8.203125 -7.339844 C 8.582031 -7.535156 8.988281 -7.632813 9.421875 -7.636719 C 9.96875 -7.632813 10.429688 -7.523438 10.8125 -7.300781 C 11.1875 -7.078125 11.472656 -6.75 11.664063 -6.320313 C 11.796875 -6 11.863281 -5.484375 11.867188 -4.773438 L 11.867188 0 L 9.894531 0 L 9.894531 -4.269531 C 9.890625 -5.007813 9.820313 -5.484375 9.6875 -5.703125 C 9.5 -5.980469 9.21875 -6.121094 8.84375 -6.125 C 8.5625 -6.121094 8.304688 -6.039063 8.0625 -5.871094 C 7.820313 -5.699219 7.644531 -5.449219 7.535156 -5.128906 C 7.425781 -4.800781 7.371094 -4.289063 7.375 -3.585938 L 7.375 0 L 5.398438 0 L 5.398438 -4.09375 C 5.394531 -4.816406 5.359375 -5.285156 5.292969 -5.5 C 5.21875 -5.707031 5.109375 -5.863281 4.964844 -5.96875 C 4.816406 -6.070313 4.617188 -6.121094 4.367188 -6.125 C 4.058594 -6.121094 3.785156 -6.039063 3.542969 -5.878906 C 3.296875 -5.710938 3.121094 -5.476563 3.019531 -5.167969 C 2.910156 -4.855469 2.859375 -4.339844 2.863281 -3.628906 L 2.863281 0 L 0.886719 0 Z M 0.886719 -7.46875 \"/>\n",
       "</symbol>\n",
       "<symbol overflow=\"visible\" id=\"glyph2-9\">\n",
       "<path style=\"stroke:none;\" d=\"M 5.359375 -2.375 L 7.328125 -2.046875 C 7.070313 -1.320313 6.667969 -0.773438 6.125 -0.398438 C 5.578125 -0.0234375 4.898438 0.164063 4.078125 0.167969 C 2.777344 0.164063 1.816406 -0.257813 1.195313 -1.105469 C 0.703125 -1.78125 0.457031 -2.636719 0.457031 -3.675781 C 0.457031 -4.910156 0.777344 -5.882813 1.425781 -6.585938 C 2.070313 -7.285156 2.890625 -7.632813 3.882813 -7.636719 C 4.988281 -7.632813 5.863281 -7.265625 6.507813 -6.535156 C 7.148438 -5.796875 7.457031 -4.675781 7.433594 -3.164063 L 2.480469 -3.164063 C 2.492188 -2.578125 2.652344 -2.121094 2.960938 -1.796875 C 3.261719 -1.46875 3.640625 -1.304688 4.097656 -1.308594 C 4.402344 -1.304688 4.664063 -1.390625 4.878906 -1.558594 C 5.085938 -1.726563 5.246094 -1.996094 5.359375 -2.375 Z M 5.46875 -4.375 C 5.453125 -4.941406 5.308594 -5.375 5.027344 -5.675781 C 4.746094 -5.972656 4.402344 -6.121094 4 -6.125 C 3.566406 -6.121094 3.210938 -5.964844 2.933594 -5.652344 C 2.648438 -5.335938 2.507813 -4.910156 2.515625 -4.375 Z M 5.46875 -4.375 \"/>\n",
       "</symbol>\n",
       "<symbol overflow=\"visible\" id=\"glyph2-10\">\n",
       "<path style=\"stroke:none;\" d=\"M 7.882813 0 L 6.046875 0 L 6.046875 -1.097656 C 5.742188 -0.667969 5.378906 -0.351563 4.964844 -0.144531 C 4.546875 0.0625 4.128906 0.164063 3.710938 0.167969 C 2.851563 0.164063 2.117188 -0.179688 1.507813 -0.867188 C 0.890625 -1.558594 0.585938 -2.523438 0.589844 -3.761719 C 0.585938 -5.027344 0.882813 -5.988281 1.480469 -6.648438 C 2.074219 -7.304688 2.828125 -7.632813 3.742188 -7.636719 C 4.574219 -7.632813 5.296875 -7.285156 5.90625 -6.59375 L 5.90625 -10.308594 L 7.882813 -10.308594 Z M 2.609375 -3.894531 C 2.605469 -3.09375 2.714844 -2.515625 2.9375 -2.164063 C 3.253906 -1.644531 3.699219 -1.386719 4.273438 -1.390625 C 4.726563 -1.386719 5.113281 -1.582031 5.433594 -1.96875 C 5.75 -2.355469 5.910156 -2.933594 5.914063 -3.707031 C 5.910156 -4.5625 5.757813 -5.179688 5.449219 -5.558594 C 5.136719 -5.933594 4.738281 -6.121094 4.261719 -6.125 C 3.789063 -6.121094 3.398438 -5.9375 3.082031 -5.566406 C 2.765625 -5.191406 2.605469 -4.632813 2.609375 -3.894531 Z M 2.609375 -3.894531 \"/>\n",
       "</symbol>\n",
       "<symbol overflow=\"visible\" id=\"glyph2-11\">\n",
       "<path style=\"stroke:none;\" d=\"M 1.035156 -8.480469 L 1.035156 -10.308594 L 3.007813 -10.308594 L 3.007813 -8.480469 Z M 1.035156 0 L 1.035156 -7.46875 L 3.007813 -7.46875 L 3.007813 0 Z M 1.035156 0 \"/>\n",
       "</symbol>\n",
       "<symbol overflow=\"visible\" id=\"glyph2-12\">\n",
       "<path style=\"stroke:none;\" d=\"M 7.824219 0 L 5.851563 0 L 5.851563 -3.8125 C 5.847656 -4.613281 5.804688 -5.132813 5.722656 -5.375 C 5.636719 -5.609375 5.5 -5.792969 5.3125 -5.925781 C 5.121094 -6.054688 4.890625 -6.121094 4.625 -6.125 C 4.28125 -6.121094 3.976563 -6.027344 3.703125 -5.84375 C 3.429688 -5.652344 3.242188 -5.40625 3.144531 -5.097656 C 3.042969 -4.785156 2.992188 -4.210938 2.996094 -3.382813 L 2.996094 0 L 1.019531 0 L 1.019531 -7.46875 L 2.855469 -7.46875 L 2.855469 -6.371094 C 3.503906 -7.210938 4.324219 -7.632813 5.316406 -7.636719 C 5.746094 -7.632813 6.144531 -7.554688 6.507813 -7.398438 C 6.867188 -7.238281 7.140625 -7.039063 7.328125 -6.796875 C 7.511719 -6.554688 7.640625 -6.277344 7.714844 -5.96875 C 7.785156 -5.65625 7.820313 -5.214844 7.824219 -4.640625 Z M 7.824219 0 \"/>\n",
       "</symbol>\n",
       "<symbol overflow=\"visible\" id=\"glyph2-13\">\n",
       "<path style=\"stroke:none;\" d=\"M 0.167969 -7.46875 L 1.265625 -7.46875 L 1.265625 -8.03125 C 1.265625 -8.65625 1.332031 -9.125 1.464844 -9.433594 C 1.597656 -9.742188 1.84375 -9.992188 2.203125 -10.191406 C 2.5625 -10.382813 3.015625 -10.480469 3.566406 -10.484375 C 4.125 -10.480469 4.675781 -10.398438 5.21875 -10.230469 L 4.949219 -8.851563 C 4.632813 -8.925781 4.332031 -8.964844 4.042969 -8.964844 C 3.753906 -8.964844 3.546875 -8.894531 3.425781 -8.761719 C 3.300781 -8.625 3.238281 -8.371094 3.242188 -7.996094 L 3.242188 -7.46875 L 4.71875 -7.46875 L 4.71875 -5.914063 L 3.242188 -5.914063 L 3.242188 0 L 1.265625 0 L 1.265625 -5.914063 L 0.167969 -5.914063 Z M 0.167969 -7.46875 \"/>\n",
       "</symbol>\n",
       "<symbol overflow=\"visible\" id=\"glyph2-14\">\n",
       "<path style=\"stroke:none;\" d=\"M 7.542969 -5.257813 L 5.597656 -4.90625 C 5.527344 -5.292969 5.378906 -5.585938 5.148438 -5.785156 C 4.914063 -5.980469 4.613281 -6.082031 4.246094 -6.082031 C 3.75 -6.082031 3.355469 -5.910156 3.066406 -5.570313 C 2.769531 -5.230469 2.625 -4.664063 2.628906 -3.867188 C 2.625 -2.980469 2.773438 -2.351563 3.074219 -1.988281 C 3.371094 -1.621094 3.769531 -1.441406 4.273438 -1.441406 C 4.644531 -1.441406 4.953125 -1.546875 5.195313 -1.761719 C 5.433594 -1.972656 5.601563 -2.339844 5.703125 -2.863281 L 7.644531 -2.53125 C 7.4375 -1.640625 7.050781 -0.964844 6.480469 -0.511719 C 5.910156 -0.0585938 5.144531 0.164063 4.183594 0.167969 C 3.089844 0.164063 2.21875 -0.175781 1.570313 -0.863281 C 0.921875 -1.550781 0.597656 -2.507813 0.597656 -3.726563 C 0.597656 -4.957031 0.921875 -5.914063 1.574219 -6.605469 C 2.222656 -7.289063 3.105469 -7.632813 4.21875 -7.636719 C 5.125 -7.632813 5.847656 -7.4375 6.386719 -7.046875 C 6.921875 -6.652344 7.304688 -6.054688 7.542969 -5.257813 Z M 7.542969 -5.257813 \"/>\n",
       "</symbol>\n",
       "</g>\n",
       "<clipPath id=\"clip1\">\n",
       "  <path d=\"M 59.039063 59.039063 L 474.757813 59.039063 L 474.757813 431.558594 L 59.039063 431.558594 Z M 59.039063 59.039063 \"/>\n",
       "</clipPath>\n",
       "<clipPath id=\"clip2\">\n",
       "  <path d=\"M 59.039063 59.039063 L 474.757813 59.039063 L 474.757813 431.558594 L 59.039063 431.558594 Z M 59.039063 59.039063 \"/>\n",
       "</clipPath>\n",
       "</defs>\n",
       "<g id=\"surface1\">\n",
       "<rect x=\"0\" y=\"0\" width=\"504\" height=\"504\" style=\"fill:rgb(100%,100%,100%);fill-opacity:1;stroke:none;\"/>\n",
       "<g clip-path=\"url(#clip1)\" clip-rule=\"nonzero\">\n",
       "<path style=\"fill:none;stroke-width:0.75;stroke-linecap:round;stroke-linejoin:round;stroke:rgb(0%,0%,0%);stroke-opacity:1;stroke-miterlimit:10;\" d=\"M 74.398438 416.792969 L 75.152344 416.789063 L 75.902344 416.78125 L 76.65625 416.773438 L 78.15625 416.75 L 78.910156 416.734375 L 79.660156 416.71875 L 80.410156 416.699219 L 81.164063 416.675781 L 81.914063 416.648438 L 82.667969 416.617188 L 83.417969 416.582031 L 84.167969 416.542969 L 84.921875 416.496094 L 85.671875 416.441406 L 86.421875 416.382813 L 87.175781 416.3125 L 87.925781 416.238281 L 88.679688 416.152344 L 89.429688 416.058594 L 90.179688 415.953125 L 90.933594 415.835938 L 91.683594 415.707031 L 92.433594 415.566406 L 93.1875 415.414063 L 93.9375 415.25 L 94.691406 415.066406 L 95.441406 414.871094 L 96.191406 414.664063 L 96.945313 414.441406 L 97.695313 414.207031 L 98.445313 413.953125 L 99.199219 413.6875 L 99.949219 413.40625 L 100.703125 413.113281 L 101.453125 412.804688 L 102.203125 412.484375 L 102.957031 412.152344 L 103.707031 411.804688 L 104.457031 411.453125 L 105.210938 411.085938 L 105.960938 410.710938 L 106.714844 410.324219 L 107.464844 409.933594 L 108.214844 409.53125 L 108.96875 409.121094 L 109.71875 408.707031 L 110.46875 408.28125 L 111.222656 407.847656 L 111.972656 407.410156 L 112.726563 406.964844 L 113.476563 406.507813 L 114.226563 406.042969 L 114.980469 405.5625 L 115.730469 405.074219 L 116.480469 404.570313 L 117.234375 404.054688 L 117.984375 403.515625 L 118.738281 402.957031 L 119.488281 402.375 L 120.238281 401.769531 L 120.992188 401.140625 L 121.742188 400.476563 L 122.492188 399.78125 L 123.246094 399.050781 L 123.996094 398.285156 L 124.75 397.484375 L 125.5 396.636719 L 126.25 395.742188 L 127.003906 394.808594 L 127.753906 393.828125 L 128.503906 392.804688 L 129.257813 391.734375 L 130.007813 390.609375 L 130.761719 389.4375 L 131.511719 388.222656 L 132.261719 386.964844 L 133.015625 385.664063 L 133.765625 384.3125 L 134.515625 382.917969 L 135.269531 381.484375 L 136.019531 380.011719 L 136.773438 378.507813 L 137.523438 376.957031 L 138.273438 375.375 L 139.027344 373.761719 L 139.777344 372.117188 L 140.527344 370.445313 L 141.28125 368.742188 L 142.03125 367.003906 L 142.785156 365.242188 L 143.535156 363.457031 L 144.285156 361.640625 L 145.039063 359.800781 L 145.789063 357.925781 L 146.539063 356.03125 L 147.292969 354.105469 L 148.042969 352.15625 L 148.796875 350.179688 L 149.546875 348.167969 L 150.296875 346.132813 L 151.050781 344.066406 L 151.800781 341.976563 L 152.550781 339.863281 L 153.304688 337.710938 L 154.054688 335.535156 L 154.808594 333.332031 L 155.558594 331.105469 L 156.308594 328.855469 L 157.0625 326.574219 L 157.8125 324.265625 L 158.5625 321.9375 L 159.316406 319.585938 L 160.066406 317.210938 L 160.820313 314.8125 L 161.570313 312.390625 L 162.320313 309.945313 L 163.074219 307.484375 L 163.824219 305 L 164.574219 302.492188 L 165.328125 299.964844 L 166.078125 297.414063 L 166.832031 294.847656 L 167.582031 292.265625 L 168.332031 289.664063 L 169.085938 287.039063 L 169.835938 284.402344 L 170.585938 281.75 L 171.339844 279.089844 L 172.089844 276.414063 L 172.84375 273.730469 L 173.59375 271.039063 L 174.34375 268.34375 L 175.097656 265.644531 L 175.847656 262.949219 L 176.601563 260.253906 L 177.351563 257.5625 L 178.101563 254.878906 L 178.855469 252.207031 L 179.605469 249.539063 L 180.355469 246.886719 L 181.109375 244.25 L 181.859375 241.621094 L 182.613281 239.007813 L 183.363281 236.40625 L 184.113281 233.820313 L 184.867188 231.242188 L 185.617188 228.679688 L 186.367188 226.121094 L 187.121094 223.570313 L 187.871094 221.019531 L 188.625 218.476563 L 189.375 215.929688 L 190.125 213.378906 L 190.878906 210.824219 L 191.628906 208.257813 L 192.378906 205.679688 L 193.132813 203.085938 L 193.882813 200.480469 L 194.636719 197.851563 L 195.386719 195.207031 L 196.136719 192.539063 L 196.890625 189.84375 L 197.640625 187.125 L 198.390625 184.382813 L 199.144531 181.617188 L 199.894531 178.828125 L 200.648438 176.011719 L 201.398438 173.175781 L 202.148438 170.320313 L 202.902344 167.449219 L 203.652344 164.5625 L 204.402344 161.667969 L 205.15625 158.769531 L 205.90625 155.871094 L 206.660156 152.980469 L 207.410156 150.101563 L 208.160156 147.25 L 208.914063 144.425781 L 209.664063 141.636719 L 210.414063 138.890625 L 211.167969 136.195313 L 211.917969 133.570313 L 212.671875 131.015625 L 213.421875 128.539063 L 214.171875 126.144531 L 214.925781 123.832031 L 215.675781 121.621094 L 216.425781 119.523438 L 217.179688 117.523438 L 217.929688 115.621094 L 218.683594 113.820313 L 219.433594 112.125 L 220.183594 110.546875 L 220.9375 109.0625 L 221.6875 107.660156 L 222.4375 106.339844 L 223.191406 105.09375 L 223.941406 103.933594 L 224.695313 102.824219 L 225.445313 101.757813 L 226.195313 100.730469 L 226.949219 99.726563 L 227.699219 98.746094 L 228.449219 97.769531 L 229.203125 96.792969 L 229.953125 95.804688 L 230.707031 94.804688 L 231.457031 93.777344 L 232.207031 92.722656 L 232.960938 91.640625 L 233.710938 90.535156 L 234.460938 89.398438 L 235.214844 88.234375 L 235.964844 87.050781 L 236.71875 85.847656 L 238.21875 83.433594 L 238.972656 82.230469 L 239.722656 81.054688 L 240.472656 79.910156 L 241.226563 78.808594 L 241.976563 77.761719 L 242.730469 76.773438 L 243.480469 75.878906 L 244.230469 75.078125 L 244.984375 74.378906 L 245.734375 73.789063 L 246.484375 73.316406 L 247.238281 72.992188 L 247.988281 72.824219 L 248.742188 72.800781 L 249.492188 72.925781 L 250.242188 73.203125 L 250.996094 73.660156 L 251.746094 74.3125 L 252.496094 75.125 L 253.25 76.105469 L 254 77.253906 L 254.753906 78.574219 L 255.503906 80.097656 L 256.253906 81.78125 L 257.007813 83.621094 L 257.757813 85.617188 L 258.507813 87.757813 L 259.261719 90.085938 L 260.011719 92.546875 L 260.765625 95.140625 L 261.515625 97.855469 L 262.265625 100.683594 L 263.019531 103.644531 L 263.769531 106.714844 L 264.519531 109.871094 L 265.273438 113.113281 L 266.023438 116.433594 L 266.777344 119.828125 L 267.527344 123.292969 L 268.277344 126.804688 L 269.03125 130.363281 L 269.78125 133.957031 L 270.53125 137.582031 L 271.285156 141.234375 L 272.035156 144.902344 L 272.789063 148.578125 L 273.539063 152.261719 L 274.289063 155.941406 L 275.042969 159.613281 L 275.792969 163.273438 L 276.542969 166.917969 L 277.296875 170.546875 L 278.046875 174.148438 L 278.800781 177.71875 L 279.550781 181.257813 L 280.300781 184.761719 L 281.054688 188.230469 L 281.804688 191.664063 L 282.554688 195.050781 L 283.308594 198.386719 L 284.058594 201.683594 L 284.8125 204.929688 L 285.5625 208.132813 L 286.3125 211.277344 L 287.066406 214.359375 L 287.816406 217.390625 L 288.566406 220.367188 L 289.320313 223.285156 L 290.070313 226.144531 L 290.824219 228.925781 L 291.574219 231.648438 L 292.324219 234.304688 L 293.078125 236.894531 L 293.828125 239.417969 L 294.578125 241.847656 L 295.332031 244.210938 L 296.082031 246.496094 L 296.835938 248.710938 L 297.585938 250.847656 L 298.335938 252.890625 L 299.089844 254.851563 L 299.839844 256.734375 L 300.589844 258.539063 L 301.34375 260.269531 L 302.09375 261.910156 L 302.847656 263.46875 L 303.597656 264.960938 L 304.347656 266.382813 L 305.101563 267.742188 L 305.851563 269.039063 L 306.605469 270.273438 L 307.355469 271.464844 L 308.105469 272.621094 L 308.859375 273.742188 L 309.609375 274.839844 L 310.359375 275.921875 L 311.113281 277 L 311.863281 278.082031 L 312.617188 279.179688 L 313.367188 280.292969 L 314.117188 281.449219 L 314.871094 282.644531 L 315.621094 283.890625 L 316.371094 285.1875 L 317.125 286.546875 L 317.875 287.980469 L 318.628906 289.492188 L 319.378906 291.078125 L 320.128906 292.738281 L 320.882813 294.472656 L 321.632813 296.296875 L 322.382813 298.210938 L 323.136719 300.195313 L 323.886719 302.253906 L 324.640625 304.382813 L 325.390625 306.574219 L 326.140625 308.84375 L 326.894531 311.164063 L 327.644531 313.535156 L 328.394531 315.945313 L 329.148438 318.390625 L 329.898438 320.871094 L 330.652344 323.371094 L 331.402344 325.886719 L 332.152344 328.410156 L 332.90625 330.933594 L 333.65625 333.449219 L 334.40625 335.949219 L 335.160156 338.429688 L 335.910156 340.886719 L 336.664063 343.3125 L 337.414063 345.695313 L 338.164063 348.03125 L 338.917969 350.320313 L 339.667969 352.558594 L 340.417969 354.742188 L 341.171875 356.863281 L 341.921875 358.90625 L 342.675781 360.878906 L 343.425781 362.789063 L 344.175781 364.625 L 344.929688 366.386719 L 345.679688 368.050781 L 346.429688 369.640625 L 347.183594 371.152344 L 347.933594 372.585938 L 348.6875 373.941406 L 349.4375 375.199219 L 350.1875 376.378906 L 350.941406 377.484375 L 351.691406 378.511719 L 352.441406 379.472656 L 353.195313 380.347656 L 353.945313 381.152344 L 354.699219 381.890625 L 355.449219 382.574219 L 356.199219 383.199219 L 356.953125 383.765625 L 357.703125 384.277344 L 358.453125 384.742188 L 359.207031 385.171875 L 359.957031 385.570313 L 360.710938 385.929688 L 361.460938 386.261719 L 362.210938 386.574219 L 362.964844 386.871094 L 363.714844 387.152344 L 364.464844 387.429688 L 365.21875 387.699219 L 365.96875 387.96875 L 366.722656 388.242188 L 367.472656 388.523438 L 368.222656 388.8125 L 368.976563 389.117188 L 369.726563 389.441406 L 370.476563 389.777344 L 371.230469 390.132813 L 371.980469 390.511719 L 372.734375 390.910156 L 373.484375 391.335938 L 374.234375 391.78125 L 374.988281 392.25 L 375.738281 392.742188 L 376.488281 393.253906 L 377.242188 393.792969 L 377.992188 394.347656 L 378.746094 394.921875 L 379.496094 395.511719 L 380.246094 396.113281 L 381 396.730469 L 381.75 397.359375 L 382.5 397.992188 L 383.253906 398.628906 L 384.003906 399.269531 L 384.757813 399.910156 L 385.507813 400.546875 L 386.257813 401.175781 L 387.011719 401.796875 L 387.761719 402.40625 L 388.511719 403 L 389.265625 403.582031 L 390.015625 404.140625 L 390.769531 404.683594 L 391.519531 405.207031 L 392.269531 405.707031 L 393.023438 406.183594 L 393.773438 406.632813 L 394.523438 407.058594 L 395.277344 407.460938 L 396.027344 407.839844 L 396.78125 408.1875 L 397.53125 408.511719 L 398.28125 408.8125 L 399.035156 409.09375 L 399.785156 409.351563 L 400.535156 409.582031 L 401.289063 409.792969 L 402.039063 409.988281 L 402.792969 410.164063 L 403.542969 410.328125 L 404.292969 410.472656 L 405.046875 410.601563 L 405.796875 410.722656 L 406.546875 410.832031 L 407.300781 410.9375 L 408.050781 411.03125 L 408.804688 411.121094 L 410.304688 411.285156 L 411.058594 411.367188 L 411.808594 411.445313 L 412.558594 411.527344 L 413.3125 411.609375 L 414.0625 411.695313 L 414.816406 411.78125 L 415.566406 411.871094 L 416.316406 411.96875 L 417.070313 412.070313 L 417.820313 412.175781 L 418.570313 412.285156 L 419.324219 412.398438 L 420.074219 412.519531 L 420.828125 412.644531 L 421.578125 412.773438 L 422.328125 412.910156 L 423.082031 413.046875 L 424.582031 413.335938 L 425.335938 413.484375 L 426.085938 413.632813 L 426.839844 413.785156 L 428.339844 414.089844 L 429.09375 414.238281 L 429.84375 414.390625 L 430.59375 414.539063 L 431.347656 414.683594 L 432.097656 414.824219 L 432.851563 414.964844 L 433.601563 415.097656 L 434.351563 415.226563 L 435.105469 415.355469 L 435.855469 415.472656 L 436.609375 415.585938 L 437.359375 415.695313 L 438.109375 415.796875 L 438.863281 415.894531 L 439.613281 415.984375 L 440.363281 416.066406 L 441.117188 416.144531 L 441.867188 416.21875 L 442.621094 416.285156 L 443.371094 416.34375 L 444.121094 416.398438 L 444.875 416.449219 L 445.625 416.496094 L 446.375 416.535156 L 447.128906 416.574219 L 447.878906 416.605469 L 448.632813 416.636719 L 450.132813 416.683594 L 450.886719 416.703125 L 451.636719 416.722656 L 452.386719 416.734375 L 453.140625 416.75 L 453.890625 416.761719 L 454.644531 416.769531 L 456.144531 416.785156 L 456.898438 416.789063 L 457.648438 416.796875 L 458.398438 416.800781 \"/>\n",
       "</g>\n",
       "<path style=\"fill:none;stroke-width:0.75;stroke-linecap:round;stroke-linejoin:round;stroke:rgb(0%,0%,0%);stroke-opacity:1;stroke-miterlimit:10;\" d=\"M 93.777344 430.558594 L 392.191406 430.558594 \"/>\n",
       "<path style=\"fill:none;stroke-width:0.75;stroke-linecap:round;stroke-linejoin:round;stroke:rgb(0%,0%,0%);stroke-opacity:1;stroke-miterlimit:10;\" d=\"M 93.777344 430.558594 L 93.777344 437.761719 \"/>\n",
       "<path style=\"fill:none;stroke-width:0.75;stroke-linecap:round;stroke-linejoin:round;stroke:rgb(0%,0%,0%);stroke-opacity:1;stroke-miterlimit:10;\" d=\"M 193.25 430.558594 L 193.25 437.761719 \"/>\n",
       "<path style=\"fill:none;stroke-width:0.75;stroke-linecap:round;stroke-linejoin:round;stroke:rgb(0%,0%,0%);stroke-opacity:1;stroke-miterlimit:10;\" d=\"M 292.71875 430.558594 L 292.71875 437.761719 \"/>\n",
       "<path style=\"fill:none;stroke-width:0.75;stroke-linecap:round;stroke-linejoin:round;stroke:rgb(0%,0%,0%);stroke-opacity:1;stroke-miterlimit:10;\" d=\"M 392.191406 430.558594 L 392.191406 437.761719 \"/>\n",
       "<g style=\"fill:rgb(0%,0%,0%);fill-opacity:1;\">\n",
       "  <use xlink:href=\"#glyph0-0\" x=\"85.4375\" y=\"456.480469\"/>\n",
       "  <use xlink:href=\"#glyph0-1\" x=\"92.111328\" y=\"456.480469\"/>\n",
       "  <use xlink:href=\"#glyph0-2\" x=\"95.445313\" y=\"456.480469\"/>\n",
       "</g>\n",
       "<g style=\"fill:rgb(0%,0%,0%);fill-opacity:1;\">\n",
       "  <use xlink:href=\"#glyph0-3\" x=\"184.910156\" y=\"456.480469\"/>\n",
       "  <use xlink:href=\"#glyph0-1\" x=\"191.583984\" y=\"456.480469\"/>\n",
       "  <use xlink:href=\"#glyph0-0\" x=\"194.917969\" y=\"456.480469\"/>\n",
       "</g>\n",
       "<g style=\"fill:rgb(0%,0%,0%);fill-opacity:1;\">\n",
       "  <use xlink:href=\"#glyph0-3\" x=\"284.378906\" y=\"456.480469\"/>\n",
       "  <use xlink:href=\"#glyph0-1\" x=\"291.052734\" y=\"456.480469\"/>\n",
       "  <use xlink:href=\"#glyph0-2\" x=\"294.386719\" y=\"456.480469\"/>\n",
       "</g>\n",
       "<g style=\"fill:rgb(0%,0%,0%);fill-opacity:1;\">\n",
       "  <use xlink:href=\"#glyph0-4\" x=\"383.851563\" y=\"456.480469\"/>\n",
       "  <use xlink:href=\"#glyph0-1\" x=\"390.525391\" y=\"456.480469\"/>\n",
       "  <use xlink:href=\"#glyph0-0\" x=\"393.859375\" y=\"456.480469\"/>\n",
       "</g>\n",
       "<path style=\"fill:none;stroke-width:0.75;stroke-linecap:round;stroke-linejoin:round;stroke:rgb(0%,0%,0%);stroke-opacity:1;stroke-miterlimit:10;\" d=\"M 59.039063 416.820313 L 59.039063 88.1875 \"/>\n",
       "<path style=\"fill:none;stroke-width:0.75;stroke-linecap:round;stroke-linejoin:round;stroke:rgb(0%,0%,0%);stroke-opacity:1;stroke-miterlimit:10;\" d=\"M 59.039063 416.820313 L 51.839844 416.820313 \"/>\n",
       "<path style=\"fill:none;stroke-width:0.75;stroke-linecap:round;stroke-linejoin:round;stroke:rgb(0%,0%,0%);stroke-opacity:1;stroke-miterlimit:10;\" d=\"M 59.039063 307.273438 L 51.839844 307.273438 \"/>\n",
       "<path style=\"fill:none;stroke-width:0.75;stroke-linecap:round;stroke-linejoin:round;stroke:rgb(0%,0%,0%);stroke-opacity:1;stroke-miterlimit:10;\" d=\"M 59.039063 197.730469 L 51.839844 197.730469 \"/>\n",
       "<path style=\"fill:none;stroke-width:0.75;stroke-linecap:round;stroke-linejoin:round;stroke:rgb(0%,0%,0%);stroke-opacity:1;stroke-miterlimit:10;\" d=\"M 59.039063 88.1875 L 51.839844 88.1875 \"/>\n",
       "<g style=\"fill:rgb(0%,0%,0%);fill-opacity:1;\">\n",
       "  <use xlink:href=\"#glyph1-0\" x=\"41.761719\" y=\"425.160156\"/>\n",
       "  <use xlink:href=\"#glyph1-1\" x=\"41.761719\" y=\"418.486328\"/>\n",
       "  <use xlink:href=\"#glyph1-0\" x=\"41.761719\" y=\"415.152344\"/>\n",
       "</g>\n",
       "<g style=\"fill:rgb(0%,0%,0%);fill-opacity:1;\">\n",
       "  <use xlink:href=\"#glyph1-0\" x=\"41.761719\" y=\"315.613281\"/>\n",
       "  <use xlink:href=\"#glyph1-1\" x=\"41.761719\" y=\"308.939453\"/>\n",
       "  <use xlink:href=\"#glyph1-2\" x=\"41.761719\" y=\"305.605469\"/>\n",
       "</g>\n",
       "<g style=\"fill:rgb(0%,0%,0%);fill-opacity:1;\">\n",
       "  <use xlink:href=\"#glyph1-3\" x=\"41.761719\" y=\"206.070313\"/>\n",
       "  <use xlink:href=\"#glyph1-1\" x=\"41.761719\" y=\"199.396484\"/>\n",
       "  <use xlink:href=\"#glyph1-0\" x=\"41.761719\" y=\"196.0625\"/>\n",
       "</g>\n",
       "<g style=\"fill:rgb(0%,0%,0%);fill-opacity:1;\">\n",
       "  <use xlink:href=\"#glyph1-3\" x=\"41.761719\" y=\"96.527344\"/>\n",
       "  <use xlink:href=\"#glyph1-1\" x=\"41.761719\" y=\"89.853516\"/>\n",
       "  <use xlink:href=\"#glyph1-2\" x=\"41.761719\" y=\"86.519531\"/>\n",
       "</g>\n",
       "<path style=\"fill:none;stroke-width:0.75;stroke-linecap:round;stroke-linejoin:round;stroke:rgb(0%,0%,0%);stroke-opacity:1;stroke-miterlimit:10;\" d=\"M 59.039063 430.558594 L 473.761719 430.558594 L 473.761719 59.039063 L 59.039063 59.039063 L 59.039063 430.558594 \"/>\n",
       "<g style=\"fill:rgb(0%,0%,0%);fill-opacity:1;\">\n",
       "  <use xlink:href=\"#glyph2-0\" x=\"175.1875\" y=\"34.675781\"/>\n",
       "  <use xlink:href=\"#glyph2-1\" x=\"185.586719\" y=\"34.675781\"/>\n",
       "  <use xlink:href=\"#glyph2-1\" x=\"194.382813\" y=\"34.675781\"/>\n",
       "  <use xlink:href=\"#glyph2-2\" x=\"203.178906\" y=\"34.675781\"/>\n",
       "  <use xlink:href=\"#glyph2-3\" x=\"207.974219\" y=\"34.675781\"/>\n",
       "  <use xlink:href=\"#glyph2-2\" x=\"215.982812\" y=\"34.675781\"/>\n",
       "  <use xlink:href=\"#glyph2-4\" x=\"220.778125\" y=\"34.675781\"/>\n",
       "  <use xlink:href=\"#glyph2-5\" x=\"226.382031\" y=\"34.675781\"/>\n",
       "  <use xlink:href=\"#glyph2-6\" x=\"234.390625\" y=\"34.675781\"/>\n",
       "  <use xlink:href=\"#glyph2-7\" x=\"243.186719\" y=\"34.675781\"/>\n",
       "  <use xlink:href=\"#glyph2-8\" x=\"247.1875\" y=\"34.675781\"/>\n",
       "  <use xlink:href=\"#glyph2-9\" x=\"259.991406\" y=\"34.675781\"/>\n",
       "  <use xlink:href=\"#glyph2-10\" x=\"268\" y=\"34.675781\"/>\n",
       "  <use xlink:href=\"#glyph2-11\" x=\"276.796094\" y=\"34.675781\"/>\n",
       "  <use xlink:href=\"#glyph2-5\" x=\"280.796875\" y=\"34.675781\"/>\n",
       "  <use xlink:href=\"#glyph2-2\" x=\"288.805469\" y=\"34.675781\"/>\n",
       "  <use xlink:href=\"#glyph2-11\" x=\"293.600781\" y=\"34.675781\"/>\n",
       "  <use xlink:href=\"#glyph2-1\" x=\"297.601562\" y=\"34.675781\"/>\n",
       "  <use xlink:href=\"#glyph2-12\" x=\"306.397656\" y=\"34.675781\"/>\n",
       "  <use xlink:href=\"#glyph2-7\" x=\"315.19375\" y=\"34.675781\"/>\n",
       "  <use xlink:href=\"#glyph2-9\" x=\"319.194531\" y=\"34.675781\"/>\n",
       "  <use xlink:href=\"#glyph2-13\" x=\"327.203125\" y=\"34.675781\"/>\n",
       "  <use xlink:href=\"#glyph2-13\" x=\"331.998437\" y=\"34.675781\"/>\n",
       "  <use xlink:href=\"#glyph2-9\" x=\"336.79375\" y=\"34.675781\"/>\n",
       "  <use xlink:href=\"#glyph2-14\" x=\"344.802344\" y=\"34.675781\"/>\n",
       "  <use xlink:href=\"#glyph2-2\" x=\"352.810937\" y=\"34.675781\"/>\n",
       "</g>\n",
       "<g style=\"fill:rgb(0%,0%,0%);fill-opacity:1;\">\n",
       "  <use xlink:href=\"#glyph0-5\" x=\"180.332031\" y=\"485.28125\"/>\n",
       "  <use xlink:href=\"#glyph0-6\" x=\"188.998047\" y=\"485.28125\"/>\n",
       "  <use xlink:href=\"#glyph0-7\" x=\"192.332031\" y=\"485.28125\"/>\n",
       "  <use xlink:href=\"#glyph0-6\" x=\"199.339844\" y=\"485.28125\"/>\n",
       "  <use xlink:href=\"#glyph0-3\" x=\"202.673828\" y=\"485.28125\"/>\n",
       "  <use xlink:href=\"#glyph0-0\" x=\"209.347656\" y=\"485.28125\"/>\n",
       "  <use xlink:href=\"#glyph0-0\" x=\"216.021484\" y=\"485.28125\"/>\n",
       "  <use xlink:href=\"#glyph0-0\" x=\"222.695313\" y=\"485.28125\"/>\n",
       "  <use xlink:href=\"#glyph0-6\" x=\"229.369141\" y=\"485.28125\"/>\n",
       "  <use xlink:href=\"#glyph0-6\" x=\"232.703125\" y=\"485.28125\"/>\n",
       "  <use xlink:href=\"#glyph0-6\" x=\"236.037109\" y=\"485.28125\"/>\n",
       "  <use xlink:href=\"#glyph0-8\" x=\"239.371094\" y=\"485.28125\"/>\n",
       "  <use xlink:href=\"#glyph0-9\" x=\"247.375\" y=\"485.28125\"/>\n",
       "  <use xlink:href=\"#glyph0-10\" x=\"254.048828\" y=\"485.28125\"/>\n",
       "  <use xlink:href=\"#glyph0-11\" x=\"260.722656\" y=\"485.28125\"/>\n",
       "  <use xlink:href=\"#glyph0-12\" x=\"267.396484\" y=\"485.28125\"/>\n",
       "  <use xlink:href=\"#glyph0-13\" x=\"276.0625\" y=\"485.28125\"/>\n",
       "  <use xlink:href=\"#glyph0-11\" x=\"278.728516\" y=\"485.28125\"/>\n",
       "  <use xlink:href=\"#glyph0-14\" x=\"285.402344\" y=\"485.28125\"/>\n",
       "  <use xlink:href=\"#glyph0-15\" x=\"288.736328\" y=\"485.28125\"/>\n",
       "  <use xlink:href=\"#glyph0-6\" x=\"295.410156\" y=\"485.28125\"/>\n",
       "  <use xlink:href=\"#glyph0-7\" x=\"298.744141\" y=\"485.28125\"/>\n",
       "  <use xlink:href=\"#glyph0-6\" x=\"305.751953\" y=\"485.28125\"/>\n",
       "  <use xlink:href=\"#glyph0-0\" x=\"309.085938\" y=\"485.28125\"/>\n",
       "  <use xlink:href=\"#glyph0-1\" x=\"315.759766\" y=\"485.28125\"/>\n",
       "  <use xlink:href=\"#glyph0-0\" x=\"319.09375\" y=\"485.28125\"/>\n",
       "  <use xlink:href=\"#glyph0-2\" x=\"325.767578\" y=\"485.28125\"/>\n",
       "  <use xlink:href=\"#glyph0-16\" x=\"332.441406\" y=\"485.28125\"/>\n",
       "  <use xlink:href=\"#glyph0-3\" x=\"339.115234\" y=\"485.28125\"/>\n",
       "  <use xlink:href=\"#glyph0-2\" x=\"345.789063\" y=\"485.28125\"/>\n",
       "</g>\n",
       "<g style=\"fill:rgb(0%,0%,0%);fill-opacity:1;\">\n",
       "  <use xlink:href=\"#glyph1-4\" x=\"12.960938\" y=\"264.808594\"/>\n",
       "  <use xlink:href=\"#glyph1-5\" x=\"12.960938\" y=\"256.142578\"/>\n",
       "  <use xlink:href=\"#glyph1-6\" x=\"12.960938\" y=\"249.46875\"/>\n",
       "  <use xlink:href=\"#glyph1-7\" x=\"12.960938\" y=\"242.794922\"/>\n",
       "  <use xlink:href=\"#glyph1-8\" x=\"12.960938\" y=\"236.794922\"/>\n",
       "  <use xlink:href=\"#glyph1-9\" x=\"12.960938\" y=\"234.128906\"/>\n",
       "  <use xlink:href=\"#glyph1-10\" x=\"12.960938\" y=\"230.794922\"/>\n",
       "</g>\n",
       "<g clip-path=\"url(#clip2)\" clip-rule=\"nonzero\">\n",
       "<path style=\"fill:none;stroke-width:0.075;stroke-linecap:round;stroke-linejoin:round;stroke:rgb(74.509804%,74.509804%,74.509804%);stroke-opacity:1;stroke-miterlimit:10;\" d=\"M 59.039063 416.820313 L 473.761719 416.820313 \"/>\n",
       "<path style=\"fill:none;stroke-width:0.75;stroke-linecap:round;stroke-linejoin:round;stroke:rgb(100%,0%,0%);stroke-opacity:1;stroke-dasharray:3,3;stroke-miterlimit:10;\" d=\"M 74.398438 415.253906 L 78.238281 414.832031 L 82.078125 414.304688 L 85.921875 413.660156 L 89.761719 412.871094 L 93.601563 411.914063 L 97.441406 410.753906 L 101.28125 409.363281 L 105.121094 407.703125 L 108.960938 405.730469 L 112.800781 403.40625 L 116.640625 400.683594 L 120.480469 397.515625 L 124.320313 393.851563 L 128.160156 389.636719 L 132 384.828125 L 135.839844 379.375 L 139.679688 373.226563 L 143.519531 366.347656 L 147.359375 358.699219 L 151.199219 350.261719 L 155.039063 341.011719 L 158.878906 330.945313 L 162.71875 320.074219 L 166.558594 308.417969 L 170.398438 296.023438 L 174.238281 282.941406 L 178.078125 269.253906 L 181.921875 255.054688 L 185.761719 240.453125 L 189.601563 225.582031 L 193.441406 210.585938 L 197.28125 195.625 L 201.121094 180.875 L 204.960938 166.511719 L 208.800781 152.722656 L 212.640625 139.691406 L 216.480469 127.597656 L 220.320313 116.625 L 224.160156 106.9375 L 228 98.675781 L 231.839844 91.976563 L 235.679688 86.941406 L 239.519531 83.65625 L 243.359375 82.167969 L 247.199219 82.507813 L 251.039063 84.667969 L 254.878906 88.613281 L 258.71875 94.277344 L 262.558594 101.570313 L 266.398438 110.378906 L 270.238281 120.566406 L 274.078125 131.972656 L 277.921875 144.433594 L 281.761719 157.769531 L 285.601563 171.796875 L 289.441406 186.324219 L 293.28125 201.171875 L 297.121094 216.164063 L 300.960938 231.132813 L 304.800781 245.921875 L 308.640625 260.386719 L 312.480469 274.410156 L 316.320313 287.882813 L 320.160156 300.714844 L 324 312.839844 L 327.839844 324.207031 L 331.679688 334.78125 L 335.519531 344.546875 L 339.359375 353.492188 L 343.199219 361.636719 L 347.039063 368.992188 L 350.878906 375.59375 L 354.71875 381.480469 L 358.558594 386.691406 L 362.398438 391.273438 L 366.238281 395.273438 L 370.078125 398.75 L 373.921875 401.746094 L 377.761719 404.316406 L 381.601563 406.5 L 385.441406 408.351563 L 389.28125 409.910156 L 393.121094 411.210938 L 396.960938 412.292969 L 400.800781 413.183594 L 404.640625 413.917969 L 408.480469 414.515625 L 412.320313 415 L 416.160156 415.390625 L 420 415.703125 L 423.839844 415.949219 L 427.679688 416.148438 L 431.519531 416.304688 L 435.359375 416.425781 L 439.199219 416.519531 L 443.039063 416.59375 L 446.878906 416.648438 L 450.71875 416.691406 L 454.558594 416.722656 L 458.398438 416.75 \"/>\n",
       "</g>\n",
       "</g>\n",
       "</svg>\n"
      ],
      "text/plain": [
       "Plot with title \"Bootstrap mediation effect\""
      ]
     },
     "metadata": {
      "image/svg+xml": {
       "isolated": true
      }
     },
     "output_type": "display_data"
    }
   ],
   "source": [
    "plot(density(med.boot$t), main = \"Bootstrap mediation effect\")\n",
    "curve(dnorm(x, mean=mean(med.boot$t), sd=sd(med.boot$t)), add = TRUE, col='red', lty=2)"
   ]
  },
  {
   "cell_type": "code",
   "execution_count": 12,
   "metadata": {},
   "outputs": [
    {
     "data": {
      "text/plain": [
       "\n",
       "ORDINARY NONPARAMETRIC BOOTSTRAP\n",
       "\n",
       "\n",
       "Call:\n",
       "boot(data = Prestige, statistic = coef_diff2, R = 1000, stype = \"i\")\n",
       "\n",
       "\n",
       "Bootstrap Statistics :\n",
       "     original      bias    std. error\n",
       "t1* 1.2234333 0.022060558  0.25993042\n",
       "t2* 0.2282151 0.004306117  0.04935087"
      ]
     },
     "execution_count": 12,
     "metadata": {},
     "output_type": "execute_result"
    },
    {
     "name": "stderr",
     "output_type": "stream",
     "text": [
      "Warning message:\n",
      "In norm.inter(t, alpha): extreme order statistics used as endpoints"
     ]
    },
    {
     "data": {
      "text/plain": [
       "BOOTSTRAP CONFIDENCE INTERVAL CALCULATIONS\n",
       "Based on 1000 bootstrap replicates\n",
       "\n",
       "CALL : \n",
       "boot.ci(boot.out = med.boot2, conf = 1, type = \"perc\")\n",
       "\n",
       "Intervals : \n",
       "Level     Percentile     \n",
       "100%   (  0.597,      NA )  \n",
       "Calculations and Intervals on Original Scale\n",
       "Warning : Percentile Intervals used Extreme Quantiles\n",
       "Some percentile intervals may be unstable"
      ]
     },
     "execution_count": 12,
     "metadata": {},
     "output_type": "execute_result"
    },
    {
     "name": "stderr",
     "output_type": "stream",
     "text": [
      "Warning message:\n",
      "In norm.inter(t, alpha): extreme order statistics used as endpointsWarning message:\n",
      "In qnorm(alpha[temp]): NaNs producedWarning message:\n",
      "In qnorm(k[temp]/(R + 1)): NaNs producedWarning message:\n",
      "In qnorm((k[temp] + 1)/(R + 1)): NaNs produced"
     ]
    },
    {
     "ename": "ERROR",
     "evalue": "Error in tstar[k[temp]]: only 0's may be mixed with negative subscripts\n",
     "output_type": "error",
     "traceback": [
      "Error in tstar[k[temp]]: only 0's may be mixed with negative subscripts\n"
     ]
    }
   ],
   "source": [
    "coef_diff2 <- function(d, i){\n",
    "    dat <- d[i, ]\n",
    "    mod_y <- lm(prestige ~ education, data = dat)\n",
    "    mod_full <- lm(prestige ~ income + education, data = dat)\n",
    "    med_eff <- coef(mod_y)['education'] - coef(mod_full)['education'] ## mediation effect by subtraction\n",
    "    pct <- med_eff / coef(mod_y)['education']\n",
    "    c(med_eff, pct)\n",
    "}\n",
    "\n",
    "(med.boot2 <- boot(Prestige, coef_diff2, R = 1000, stype=\"i\"))\n",
    "boot.ci(med.boot2, 1, type=\"perc\")\n",
    "boot.ci(med.boot2, 2, type=\"perc\")"
   ]
  },
  {
   "cell_type": "markdown",
   "metadata": {},
   "source": [
    "## 贝叶斯中介分析：单层次回归\n",
    "\n",
    "通过贝叶斯方法计算上述中介分析可以得到中介效应的分布，从而可以直接计算中介效应的置信区间，而无需依赖对中介效应抽样分布的假定（详见Yuan and MacKinnon. (2009). Bayesian Mediation Analysis. Psychol Methods. 14(4): 301–322. ）。我们可以使用rjags程序包进行计算。\n",
    "\n",
    "首先，我们使用BUGS/JAGS语言编写上述模型，并将模型以一个字符对象的形式保存起来。在下面的模型设定中：\n",
    "* N表示样本量\n",
    "* 在BUGS语言中，~ 表示分布，<- 则表示确定性关系\n",
    "* 在BUGS语言中， dnorm(正态分布)的第二个参数是precision，是方差的倒数\n",
    "* 在BUGS语言中，dgamma表示gamma分布，该分布描述方差先验分布，a和b这两个参数设置为0.001 意味着无信息先验分布\n",
    "* 通过定义theta =  beta_mx * beta_m，我们可以得到中介效应"
   ]
  },
  {
   "cell_type": "code",
   "execution_count": 22,
   "metadata": {},
   "outputs": [],
   "source": [
    "mediation_model <- \"\n",
    "model {\n",
    "   for(i in 1:N)\n",
    "   {\n",
    "      m[i] ~ dnorm(mean.m[i], prec.m)\n",
    "      mean.m[i] <- alpha_m + beta_mx * x[i]\n",
    "      y[i] ~ dnorm(mean.y[i], prec.y)\n",
    "      mean.y[i] <- alpha + beta_m * m[i] + beta_x * x[i]\n",
    "   }\n",
    "   alpha_m ~ dnorm(0, 1.0E-6)\n",
    "   beta_mx ~ dnorm(0, 1.0E-6)\n",
    "   alpha ~ dnorm(0, 1.0E-6)\n",
    "   beta_m ~ dnorm(0, 1.0E-6)\n",
    "   beta_x ~ dnorm(0, 1.0E-6)\n",
    "   # dgamma (a, b) is a gamma distribution with the shape parameter a and\n",
    "   # inverse scale parameter b.\n",
    "   prec.y ~ dgamma(0.001, 0.001)\n",
    "   prec.m ~ dgamma(0.001, 0.001)\n",
    "   theta <-  beta_mx * beta_m\n",
    "}\n",
    "\""
   ]
  },
  {
   "cell_type": "markdown",
   "metadata": {},
   "source": [
    "第二，将所需要的数据构建成一个列表。\n",
    "\n",
    "第三，加载rjags程序包，调用jags.model生成一个BUGS模型。值得注意的是，jags.model的第一个参数是文本连接（或保存在电脑中的文本文件），因此我们需要通过textConnect函数将上述字符格式的BUGS模型定义转换为文本连接。\n",
    "\n",
    "第四，通过update函数，开始更新模型。\n",
    "\n",
    "第五，通过coda.samples函数抽样，得到我们所需要的信息（在这里例子中，我们关心的是theta）。\n",
    "\n",
    "最后，通过summary函数和plot函数得到theta的分布。"
   ]
  },
  {
   "cell_type": "code",
   "execution_count": 23,
   "metadata": {},
   "outputs": [
    {
     "name": "stdout",
     "output_type": "stream",
     "text": [
      "Compiling model graph\n",
      "   Resolving undeclared variables\n",
      "   Allocating nodes\n",
      "Graph information:\n",
      "   Observed stochastic nodes: 204\n",
      "   Unobserved stochastic nodes: 7\n",
      "   Total graph size: 818\n",
      "\n",
      "Initializing model\n",
      "\n"
     ]
    },
    {
     "data": {
      "text/plain": [
       "\n",
       "Iterations = 5001:7000\n",
       "Thinning interval = 1 \n",
       "Number of chains = 4 \n",
       "Sample size per chain = 2000 \n",
       "\n",
       "1. Empirical mean and standard deviation for each variable,\n",
       "   plus standard error of the mean:\n",
       "\n",
       "          Mean             SD       Naive SE Time-series SE \n",
       "      1.009088       0.202368       0.002263       0.007522 \n",
       "\n",
       "2. Quantiles for each variable:\n",
       "\n",
       "  2.5%    25%    50%    75%  97.5% \n",
       "0.6264 0.8712 1.0019 1.1386 1.4208 \n"
      ]
     },
     "execution_count": 23,
     "metadata": {},
     "output_type": "execute_result"
    }
   ],
   "source": [
    "DL <- list(N = nrow(Prestige),\n",
    "           y = Prestige$prestige,\n",
    "           x = Prestige$education,\n",
    "           m = Prestige$income\n",
    "          )\n",
    "\n",
    "library(rjags)\n",
    "jags <- jags.model(textConnection(mediation_model), data=DL,n.chains=4, n.adapt=100)\n",
    "update(jags, 5000)\n",
    "samps <- coda.samples(jags, c(\"theta\"), 2000)\n",
    "summary(samps)\n",
    "# plot(samps)"
   ]
  },
  {
   "cell_type": "markdown",
   "metadata": {},
   "source": [
    "从上述图形可知，模型混合得良好（可以进一步通过诊断分析来判断模型是否混合良好），得到的分布可认为接近理论分布。\n",
    "* 分析结果现实，中介效应的分别略呈右偏态。\n",
    "* 比较贝叶斯中介分析和Sobel方法的结果可知，Sobel方法略高估了中介效应。"
   ]
  },
  {
   "cell_type": "markdown",
   "metadata": {},
   "source": [
    "## 贝叶斯中介分析：多层次回归（模拟分析）\n",
    "\n",
    "贝叶斯中介分析可以容易地延伸至多层次回归的中介分析。对于如下模型：\n",
    "$$M_{ij} = \\alpha_{m,j} + \\beta_{mx,j} X_{ij} + \\epsilon_{m,ij}$$\n",
    "\n",
    "$$Y_{ij} = \\alpha_j + \\beta_{m,j} M_{ij} + \\beta_{x,j} X_{ij} + \\epsilon_{ij}$$"
   ]
  },
  {
   "cell_type": "markdown",
   "metadata": {},
   "source": [
    "我们设定上述模型的参数分布，从而可以生成模拟数据集。其中，\n",
    "\n",
    "$$\\alpha_{m,j} \\sim\\ N(0, 0.6)$$\n",
    "$$\\alpha_{j} \\sim\\ N(0, 0.4)$$\n",
    "$$\\epsilon_{m,ij} \\sim\\ N(0, 0.65)$$\n",
    "$$\\beta_{x,j} \\sim\\ N(0.2, 0.04)$$\n",
    "$$\\epsilon_{ij} \\sim\\ N(0, 0.45)$$\n",
    "\n",
    "系数$(\\beta_{mx, j}, \\beta_{m,j})$对应的期望为$(0.6, 0.6)$，方差分别是$(0.3, 0.4)$，协方差矩阵为0.13。\n",
    "\n",
    "此外，第一层次有N1=50单位，第二层次有N2=30单位。\n",
    "\n",
    "下面的命令生成符合上述设定的随机数："
   ]
  },
  {
   "cell_type": "code",
   "execution_count": 4,
   "metadata": {
    "collapsed": true
   },
   "outputs": [],
   "source": [
    "I <- 50 ## the i-th measure for a specific subject\n",
    "J <- 30 ## the j-th subject\n",
    "N <- I * J\n",
    "Xij <- rnorm(n = N, mean = 30, sd = 5)\n",
    "measures <- rep(1:I, times = J)\n",
    "subjects <- rep(1:J, each=I)\n",
    "alpha_mj <- rep( rnorm(J, 0, sqrt(0.6)), each=I)\n",
    "alpha_j <- rep( rnorm(J, 0, sqrt(0.4)), each=I)\n",
    "e_mij <- rnorm(N, 0, sqrt(0.65))\n",
    "beta_xj <- rep( rnorm(J, 0.2, sqrt(0.04)), each=I)\n",
    "e_ij <- rnorm(N, 0, sqrt(0.45))\n",
    "library(MASS)\n",
    "Beta_mxj_Beta_mj <- mvrnorm(n=J, mu=c(0.4, 0.5), Sigma=matrix(c(0.3,0.13,0.13,0.4), ncol=2))\n",
    "beta_mxj <- rep( Beta_mxj_Beta_mj[,1], each=I)\n",
    "beta_mj <- rep( Beta_mxj_Beta_mj[,2], each=I)\n",
    "Mij <- alpha_mj + beta_mxj * Xij + e_mij\n",
    "Yij <- alpha_j + beta_mj * Mij + beta_xj * Xij + e_ij"
   ]
  },
  {
   "cell_type": "markdown",
   "metadata": {},
   "source": [
    "接下来，通过BUGS（JAGS）语言拟合上述模型。"
   ]
  },
  {
   "cell_type": "code",
   "execution_count": 1,
   "metadata": {},
   "outputs": [],
   "source": [
    "med_mlm <- \"\n",
    "model {\n",
    "  \n",
    "  ## random coefficients\n",
    "  for (j in 1:J) {\n",
    "    # indepdent normal distribution\n",
    "    alpha_mj[j] ~ dnorm(alpha_mj_mu, prec.alpha_mj_mu)\n",
    "    alpha_j[j] ~ dnorm(alpha_j_mu, prec.alpha_j_mu)\n",
    "    beta_xj[j] ~ dnorm(beta_xj_mu, prec.beta_xj_mu)\n",
    "    # bivariate normal distribution for beta_mxj and beta_mj\n",
    "    Betas[j, 1:2] ~ dmnorm(Betas_mu[ ], prec.Betas_mu[ , ])\n",
    "    # note it is dmnorm instead of dnorm \n",
    "  }\n",
    "  \n",
    "  ## the two models\n",
    "  for (irow in 1:N) {\n",
    "    # model of m\n",
    "    mean.m[irow] <- alpha_mj[ subjects[irow] ]  +  Betas[ subjects[irow] , 1] * x[irow]\n",
    "    m[irow] ~ dnorm(mean.m[irow], prec.m)\n",
    "    \n",
    "    # model of y\n",
    "    mean.y[irow] <-  alpha_j[ subjects[irow] ] + Betas[ subjects[irow] , 2] * m[irow] + beta_xj[ subjects[irow] ] * x[irow]\n",
    "    y[irow] ~ dnorm(mean.y[irow], prec.y)\n",
    "  }\n",
    "  \n",
    "  ## priors associated with indepdent random coefficients\n",
    "  alpha_mj_mu ~ dnorm(0.0, 1.0E-6)\n",
    "  alpha_j_mu ~ dnorm(0.0, 1.0E-6)\n",
    "  beta_xj_mu ~ dnorm(0.000001, 1.0E-6) ## use a very small value instead of 0 to monitor ratio\n",
    "  sigma.alpha_mj_mu ~ dunif(0, 100) ## note: it is dunif instead of runif\n",
    "  sigma.alpha_j_mu ~ dunif(0, 100)\n",
    "  sigma.beta_xj_mu ~ dunif(0, 100)\n",
    "  prec.alpha_mj_mu <- pow(sigma.alpha_mj_mu, -2)\n",
    "  prec.alpha_j_mu <- pow(sigma.alpha_j_mu, -2)\n",
    "  prec.beta_xj_mu <- pow(sigma.beta_xj_mu, -2)\n",
    "  ## alternatively, we can put priors on prec and then calc sigma\n",
    "  \n",
    "  ## priors on Betas_mu and prec.Betas_mu\n",
    "  ## priors on Betas_mu\n",
    "  Betas_mu[1:2] ~ dmnorm(mean[ ] , prec[,])\n",
    "  ## specify the values of hypyer-priors\n",
    "  mean[1] <- 0\n",
    "  mean[2] <-  0\n",
    "  prec[1, 1] <-  1.0E-6\n",
    "  prec[1, 2] <-  0\n",
    "  prec[2, 1] <-  0\n",
    "  prec[2, 2] <-  1.0E-6\n",
    "  ## priors on prec.Betas_mu (vague inverse-Wishart prior)\n",
    "  prec.Betas_mu[1:2 , 1:2] ~ dwish(Omega[ , ], 2)\n",
    "  Omega[1, 1] <-  0.001\n",
    "  Omega[1, 2] <-  0.0\n",
    "  Omega[2, 1] <-  0.0\n",
    "  Omega[2, 2] <-  0.001\n",
    "  \n",
    "  # Priors for error term pricisions (inverse gamma priors)\n",
    "  prec.m ~ dgamma(0.001, 0.001)\n",
    "  prec.y ~ dgamma(0.001, 0.001)\n",
    "  \n",
    "  # vague uniform priors for standard deviations of the second level model\n",
    "  sigma.beta2 ~ dunif(0, 100)\n",
    "  sigma.taup ~ dunif(0, 100)\n",
    "  sigma.beta3 ~ dunif(0, 100)\n",
    "  prec.beta2 <-  1/(sigma.beta2*sigma.beta2)\n",
    "  prec.taup <-  1/(sigma.taup*sigma.taup)\n",
    "  prec.beta3 <-  1/(sigma.beta3*sigma.beta3)\n",
    "  \n",
    "  ## generated quantities\n",
    "  var.Betas[1, 1] <-  prec.Betas_mu[2,2] / (prec.Betas_mu[1,1] * prec.Betas_mu[2,2] - prec.Betas_mu[1,2] * prec.Betas_mu[2,1])\n",
    "  var.Betas[1, 2] <-  - prec.Betas_mu[1,2] / (prec.Betas_mu[1,1] * prec.Betas_mu[2,2] - prec.Betas_mu[1,2] * prec.Betas_mu[2,1])\n",
    "  var.Betas[2, 1] <-  - prec.Betas_mu[2,1] / (prec.Betas_mu[1,1] * prec.Betas_mu[2,2] - prec.Betas_mu[1,2] * prec.Betas_mu[2,1])\n",
    "  var.Betas[2, 2] <-  prec.Betas_mu[1,1] / (prec.Betas_mu[1,1] * prec.Betas_mu[2,2] - prec.Betas_mu[1,2] * prec.Betas_mu[2,1])\n",
    "  \n",
    "  ##  mediated is the average mediated effect\n",
    "  mediated <- Betas_mu[1] * Betas_mu[2] + var.Betas[1, 2]\n",
    "  total <-  Betas_mu[1] * Betas_mu[2] + var.Betas[1, 2] + beta_xj_mu\n",
    "  ratio <-  mediated / total\n",
    "}\n",
    "\""
   ]
  },
  {
   "cell_type": "code",
   "execution_count": 5,
   "metadata": {},
   "outputs": [
    {
     "name": "stdout",
     "output_type": "stream",
     "text": [
      "Compiling model graph\n",
      "   Resolving undeclared variables\n",
      "   Allocating nodes\n",
      "   Graph Size: 13743\n",
      "\n",
      "Initializing model\n",
      "\n"
     ]
    }
   ],
   "source": [
    "library(rjags) \n",
    "mod <- jags.model(textConnection(med_mlm), data=list(N=N, J=J, y = Yij, x=Xij, m=Mij, subjects=subjects) )\n",
    "update(mod, 10000)"
   ]
  },
  {
   "cell_type": "code",
   "execution_count": 9,
   "metadata": {},
   "outputs": [
    {
     "data": {
      "text/plain": [
       "\n",
       "Iterations = 26001:31000\n",
       "Thinning interval = 1 \n",
       "Number of chains = 1 \n",
       "Sample size per chain = 5000 \n",
       "\n",
       "1. Empirical mean and standard deviation for each variable,\n",
       "   plus standard error of the mean:\n",
       "\n",
       "               Mean      SD  Naive SE Time-series SE\n",
       "Betas_mu[1]  0.4961 0.09333 0.0013199       0.001320\n",
       "Betas_mu[2]  0.7045 0.10081 0.0014256       0.002793\n",
       "alpha_j_mu  -0.1828 0.12593 0.0017809       0.015293\n",
       "alpha_mj_mu -0.1095 0.20111 0.0028442       0.014231\n",
       "beta_xj_mu   0.2080 0.04194 0.0005932       0.004014\n",
       "mediated     0.4138 0.10747 0.0015198       0.002289\n",
       "ratio        0.6584 0.07737 0.0010941       0.005490\n",
       "total        0.6219 0.11273 0.0015943       0.001594\n",
       "\n",
       "2. Quantiles for each variable:\n",
       "\n",
       "               2.5%     25%     50%      75%   97.5%\n",
       "Betas_mu[1]  0.3131  0.4365  0.4952  0.55702 0.67737\n",
       "Betas_mu[2]  0.5055  0.6388  0.7032  0.77115 0.90598\n",
       "alpha_j_mu  -0.4388 -0.2630 -0.1826 -0.10661 0.08254\n",
       "alpha_mj_mu -0.5085 -0.2433 -0.1062  0.02444 0.27907\n",
       "beta_xj_mu   0.1261  0.1805  0.2090  0.23525 0.29027\n",
       "mediated     0.2273  0.3410  0.4053  0.47863 0.65303\n",
       "ratio        0.4922  0.6110  0.6614  0.71224 0.79754\n",
       "total        0.4261  0.5441  0.6144  0.69022 0.86957\n"
      ]
     },
     "execution_count": 9,
     "metadata": {},
     "output_type": "execute_result"
    }
   ],
   "source": [
    "samp <- coda.samples(mod, variable.names = c(\"mediated\", \"total\", \"ratio\", \"alpha_j_mu\",\"alpha_mj_mu\", \"Betas_mu\", \"beta_xj_mu\"), n.iter = 5000)\n",
    "summary(samp)"
   ]
  }
 ],
 "metadata": {
  "kernelspec": {
   "display_name": "R",
   "language": "R",
   "name": "ir"
  },
  "language_info": {
   "codemirror_mode": "r",
   "file_extension": ".r",
   "mimetype": "text/x-r-source",
   "name": "R",
   "pygments_lexer": "r",
   "version": "3.4.3"
  }
 },
 "nbformat": 4,
 "nbformat_minor": 1
}
