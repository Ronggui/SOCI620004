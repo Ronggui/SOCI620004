{
 "cells": [
  {
   "cell_type": "markdown",
   "metadata": {},
   "source": [
    "# 中介分析基本框架\n",
    "\n",
    "假定\\\\(Y\\\\)是因变量，\\\\(X\\\\)是自变量，\\\\(M\\\\)是中介变量；其中，\\\\(X\\\\)部分（或完全）通过影响\\\\(M\\\\)而影响\\\\(Y\\\\)。这一关系可以表述为：\n",
    "\n",
    "$$Y = \\alpha_y + \\beta_{yx} X + \\epsilon_y$$\n",
    "\n",
    "$$M = \\alpha_m + \\beta_{mx} X + \\epsilon_m$$\n",
    "\n",
    "$$Y = \\alpha + \\beta_{m} M + \\beta_{x} X + \\epsilon$$\n",
    "\n",
    "如果我们将第二个公式代入到第三个公式，然后与第一个公式进行比较可以发现：\n",
    "\n",
    "$$ \\beta_{mx}\\beta_m = \\beta_{yx} - \\beta_x$$\n",
    "\n",
    "因此，只要我们估计第一个和第三个模型就可以得到中介效应 $\\beta_{mx}\\beta_m$。然而，为了估计中介效应是否显著，我们还需要估计相应的标准误$\\widehat{\\sigma_{\\beta_{mx}\\beta_m}}$。其中一种估计方法（Sobel，1982）如下：\n",
    "\n",
    "$$\\widehat{\\sigma_{\\beta_{mx}\\beta_m}} = \\sqrt{\\widehat{\\beta_{mx}^2} \\widehat{\\sigma^2_{\\beta_{m}}}+\\widehat{\\beta_{m}^2} \\widehat{\\sigma^2_{\\beta_{mx}}} }$$\n",
    "\n",
    "可见，为了估计中介效应的标准误，需要同时估计第二和第三个模型。\n",
    "\n",
    "得到标准误后，可以使用正态分布来估计其置信区间。然而，值得注意的是，由于中介效应呈偏态分布，根据上述标准误计算的置信区间无法很好反映真实的区间。"
   ]
  },
  {
   "cell_type": "code",
   "execution_count": 19,
   "metadata": {
    "collapsed": false,
    "scrolled": true
   },
   "outputs": [
    {
     "data": {
      "text/html": [
       "<ol class=list-inline>\n",
       "\t<li>\"education\"</li>\n",
       "\t<li>\"income\"</li>\n",
       "\t<li>\"women\"</li>\n",
       "\t<li>\"prestige\"</li>\n",
       "\t<li>\"census\"</li>\n",
       "\t<li>\"type\"</li>\n",
       "</ol>\n"
      ],
      "text/latex": [
       "\\begin{enumerate*}\n",
       "\\item \"education\"\n",
       "\\item \"income\"\n",
       "\\item \"women\"\n",
       "\\item \"prestige\"\n",
       "\\item \"census\"\n",
       "\\item \"type\"\n",
       "\\end{enumerate*}\n"
      ],
      "text/markdown": [
       "1. \"education\"\n",
       "2. \"income\"\n",
       "3. \"women\"\n",
       "4. \"prestige\"\n",
       "5. \"census\"\n",
       "6. \"type\"\n",
       "\n",
       "\n"
      ],
      "text/plain": [
       "[1] \"education\" \"income\"    \"women\"     \"prestige\"  \"census\"    \"type\"     "
      ]
     },
     "execution_count": 19,
     "metadata": {},
     "output_type": "execute_result"
    }
   ],
   "source": [
    "library(car)\n",
    "names(Prestige)"
   ]
  },
  {
   "cell_type": "markdown",
   "metadata": {},
   "source": [
    "#### 例子:教育程度在多大程度上通过收入而影响职业声望？\n",
    "\n",
    "通过拟合三个模型，我们可以通过两种不同的方法计算中介效应。"
   ]
  },
  {
   "cell_type": "code",
   "execution_count": 20,
   "metadata": {
    "collapsed": false
   },
   "outputs": [
    {
     "data": {
      "text/html": [
       "<strong>education:</strong> 1.22343334690888"
      ],
      "text/latex": [
       "\\textbf{education:} 1.22343334690888"
      ],
      "text/markdown": [
       "**education:** 1.22343334690888"
      ],
      "text/plain": [
       "education \n",
       " 1.223433 "
      ]
     },
     "execution_count": 20,
     "metadata": {},
     "output_type": "execute_result"
    },
    {
     "data": {
      "text/html": [
       "<strong>education:</strong> 1.22343334690888"
      ],
      "text/latex": [
       "\\textbf{education:} 1.22343334690888"
      ],
      "text/markdown": [
       "**education:** 1.22343334690888"
      ],
      "text/plain": [
       "education \n",
       " 1.223433 "
      ]
     },
     "execution_count": 20,
     "metadata": {},
     "output_type": "execute_result"
    }
   ],
   "source": [
    "mod_y <- lm(prestige ~ education, data = Prestige)\n",
    "mod_m <- lm(income ~ education, data = Prestige)\n",
    "mod_full <- lm(prestige ~ income + education, data = Prestige)\n",
    "coef(mod_m)['education'] * coef(mod_full)['income'] ## mediation effect by multiplication\n",
    "med_eff <- coef(mod_y)['education'] - coef(mod_full)['education'] ## mediation effect by subtraction\n",
    "med_eff ## save for futher use"
   ]
  },
  {
   "cell_type": "markdown",
   "metadata": {},
   "source": [
    "下面我们直接计算中介效应的标准误，以及对95%置信的估计。"
   ]
  },
  {
   "cell_type": "code",
   "execution_count": 21,
   "metadata": {
    "collapsed": false
   },
   "outputs": [
    {
     "data": {
      "text/html": [
       "<dl class=dl-horizontal>\n",
       "\t<dt>education</dt>\n",
       "\t\t<dd>0.702972209966879</dd>\n",
       "\t<dt>education</dt>\n",
       "\t\t<dd>1.74389448385089</dd>\n",
       "</dl>\n"
      ],
      "text/latex": [
       "\\begin{description*}\n",
       "\\item[education] 0.702972209966879\n",
       "\\item[education] 1.74389448385089\n",
       "\\end{description*}\n"
      ],
      "text/markdown": [
       "education\n",
       ":   0.702972209966879education\n",
       ":   1.74389448385089\n",
       "\n"
      ],
      "text/plain": [
       "education education \n",
       "0.7029722 1.7438945 "
      ]
     },
     "execution_count": 21,
     "metadata": {},
     "output_type": "execute_result"
    }
   ],
   "source": [
    "sd_eff_sq <- coef(mod_m)['education']^2 * vcov(mod_full)['income', 'income'] + coef(mod_full)['income']^2 * vcov(mod_m)['education', 'education']\n",
    "sd_eff <- sqrt(sd_eff_sq) ## SE of mediation effect\n",
    "c(med_eff - 1.96*sd_eff, med_eff + 1.96*sd_eff) # 95% CI"
   ]
  },
  {
   "cell_type": "markdown",
   "metadata": {},
   "source": [
    "我们可以把上面的计算过程封装起来，从而得到计算中介效应及其区间的函数。"
   ]
  },
  {
   "cell_type": "markdown",
   "metadata": {},
   "source": [
    "## 贝叶斯中介分析：单层次回归\n",
    "\n",
    "通过贝叶斯方法计算上述中介分析可以得到中介效应的分布，从而可以直接计算中介效应的置信区间，而无需依赖对中介效应抽样分布的假定（详见Yuan and MacKinnon. (2009). Bayesian Mediation Analysis. Psychol Methods. 14(4): 301–322. ）。我们可以使用rjags程序包进行计算。\n",
    "\n",
    "首先，我们使用BUGS/JAGS语言编写上述模型，并将模型以一个字符对象的形式保存起来。在下面的模型设定中：\n",
    "* N表示样本量\n",
    "* 在BUGS语言中，~ 表示分布，<- 则表示确定性关系\n",
    "* 在BUGS语言中， dnorm(正态分布)的第二个参数是precision，是方差的倒数\n",
    "* 在BUGS语言中，dgamma表示gamma分布，该分布描述方差先验分布，a和b这两个参数设置为0.001 意味着无信息先验分布\n",
    "* 通过定义theta =  beta_mx * beta_m，我们可以得到中介效应"
   ]
  },
  {
   "cell_type": "code",
   "execution_count": 22,
   "metadata": {
    "collapsed": false
   },
   "outputs": [],
   "source": [
    "mediation_model <- \"\n",
    "model {\n",
    "   for(i in 1:N)\n",
    "   {\n",
    "      m[i] ~ dnorm(mean.m[i], prec.m)\n",
    "      mean.m[i] <- alpha_m + beta_mx * x[i]\n",
    "      y[i] ~ dnorm(mean.y[i], prec.y)\n",
    "      mean.y[i] <- alpha + beta_m * m[i] + beta_x * x[i]\n",
    "   }\n",
    "   alpha_m ~ dnorm(0, 1.0E-6)\n",
    "   beta_mx ~ dnorm(0, 1.0E-6)\n",
    "   alpha ~ dnorm(0, 1.0E-6)\n",
    "   beta_m ~ dnorm(0, 1.0E-6)\n",
    "   beta_x ~ dnorm(0, 1.0E-6)\n",
    "   # dgamma (a, b) is a gamma distribution with the shape parameter a and\n",
    "   # inverse scale parameter b.\n",
    "   prec.y ~ dgamma(0.001, 0.001)\n",
    "   prec.m ~ dgamma(0.001, 0.001)\n",
    "   theta <-  beta_mx * beta_m\n",
    "}\n",
    "\""
   ]
  },
  {
   "cell_type": "markdown",
   "metadata": {},
   "source": [
    "第二，将所需要的数据构建成一个列表。\n",
    "\n",
    "第三，加载rjags程序包，调用jags.model生成一个BUGS模型。值得注意的是，jags.model的第一个参数是文本连接（或保存在电脑中的文本文件），因此我们需要通过textConnect函数将上述字符格式的BUGS模型定义转换为文本连接。\n",
    "\n",
    "第四，通过update函数，开始更新模型。\n",
    "\n",
    "第五，通过coda.samples函数抽样，得到我们所需要的信息（在这里例子中，我们关心的是theta）。\n",
    "\n",
    "最后，通过summary函数和plot函数得到theta的分布。"
   ]
  },
  {
   "cell_type": "code",
   "execution_count": 23,
   "metadata": {
    "collapsed": false
   },
   "outputs": [
    {
     "name": "stdout",
     "output_type": "stream",
     "text": [
      "Compiling model graph\n",
      "   Resolving undeclared variables\n",
      "   Allocating nodes\n",
      "Graph information:\n",
      "   Observed stochastic nodes: 204\n",
      "   Unobserved stochastic nodes: 7\n",
      "   Total graph size: 818\n",
      "\n",
      "Initializing model\n",
      "\n"
     ]
    },
    {
     "data": {
      "text/plain": [
       "\n",
       "Iterations = 5001:7000\n",
       "Thinning interval = 1 \n",
       "Number of chains = 4 \n",
       "Sample size per chain = 2000 \n",
       "\n",
       "1. Empirical mean and standard deviation for each variable,\n",
       "   plus standard error of the mean:\n",
       "\n",
       "          Mean             SD       Naive SE Time-series SE \n",
       "      1.009088       0.202368       0.002263       0.007522 \n",
       "\n",
       "2. Quantiles for each variable:\n",
       "\n",
       "  2.5%    25%    50%    75%  97.5% \n",
       "0.6264 0.8712 1.0019 1.1386 1.4208 \n"
      ]
     },
     "execution_count": 23,
     "metadata": {},
     "output_type": "execute_result"
    }
   ],
   "source": [
    "DL <- list(N = nrow(Prestige),\n",
    "           y = Prestige$prestige,\n",
    "           x = Prestige$education,\n",
    "           m = Prestige$income\n",
    "          )\n",
    "\n",
    "library(rjags)\n",
    "jags <- jags.model(textConnection(mediation_model), data=DL,n.chains=4, n.adapt=100)\n",
    "update(jags, 5000)\n",
    "samps <- coda.samples(jags, c(\"theta\"), 2000)\n",
    "summary(samps)\n",
    "# plot(samps)"
   ]
  },
  {
   "cell_type": "markdown",
   "metadata": {},
   "source": [
    "从上述图形可知，模型混合得良好（可以进一步通过诊断分析来判断模型是否混合良好），得到的分布可认为接近理论分布。\n",
    "* 分析结果现实，中介效应的分别略呈右偏态。\n",
    "* 比较贝叶斯中介分析和Sobel方法的结果可知，Sobel方法略高估了中介效应。"
   ]
  },
  {
   "cell_type": "markdown",
   "metadata": {},
   "source": [
    "## 贝叶斯中介分析：多层次回归（模拟分析）\n",
    "\n",
    "贝叶斯中介分析可以容易地延伸至多层次回归的中介分析。对于如下模型：\n",
    "$$M_{ij} = \\alpha_{m,j} + \\beta_{mx,j} X_{ij} + \\epsilon_{m,ij}$$\n",
    "\n",
    "$$Y_{ij} = \\alpha_j + \\beta_{m,j} M_{ij} + \\beta_{x,j} X_{ij} + \\epsilon_{ij}$$"
   ]
  },
  {
   "cell_type": "markdown",
   "metadata": {},
   "source": [
    "我们设定上述模型的参数分布，从而可以生成模拟数据集。其中，\n",
    "\n",
    "$$\\alpha_{m,j} \\sim\\ N(0, 0.6)$$\n",
    "$$\\alpha_{j} \\sim\\ N(0, 0.4)$$\n",
    "$$\\epsilon_{m,ij} \\sim\\ N(0, 0.65)$$\n",
    "$$\\beta_{x,j} \\sim\\ N(0.2, 0.04)$$\n",
    "$$\\epsilon_{ij} \\sim\\ N(0, 0.45)$$\n",
    "\n",
    "系数$(\\beta_{mx, j}, \\beta_{m,j})$对应的期望为$(0.6, 0.6)$，方差分别是$(0.3, 0.4)$，协方差矩阵为0.13。\n",
    "\n",
    "此外，第一层次有N1=50单位，第二层次有N2=30单位。\n",
    "\n",
    "下面的命令生成符合上述设定的随机数："
   ]
  },
  {
   "cell_type": "code",
   "execution_count": 4,
   "metadata": {
    "collapsed": true
   },
   "outputs": [],
   "source": [
    "I <- 50 ## the i-th measure for a specific subject\n",
    "J <- 30 ## the j-th subject\n",
    "N <- I * J\n",
    "Xij <- rnorm(n = N, mean = 30, sd = 5)\n",
    "measures <- rep(1:I, times = J)\n",
    "subjects <- rep(1:J, each=I)\n",
    "alpha_mj <- rep( rnorm(J, 0, sqrt(0.6)), each=I)\n",
    "alpha_j <- rep( rnorm(J, 0, sqrt(0.4)), each=I)\n",
    "e_mij <- rnorm(N, 0, sqrt(0.65))\n",
    "beta_xj <- rep( rnorm(J, 0.2, sqrt(0.04)), each=I)\n",
    "e_ij <- rnorm(N, 0, sqrt(0.45))\n",
    "library(MASS)\n",
    "Beta_mxj_Beta_mj <- mvrnorm(n=J, mu=c(0.4, 0.5), Sigma=matrix(c(0.3,0.13,0.13,0.4), ncol=2))\n",
    "beta_mxj <- rep( Beta_mxj_Beta_mj[,1], each=I)\n",
    "beta_mj <- rep( Beta_mxj_Beta_mj[,2], each=I)\n",
    "Mij <- alpha_mj + beta_mxj * Xij + e_mij\n",
    "Yij <- alpha_j + beta_mj * Mij + beta_xj * Xij + e_ij"
   ]
  },
  {
   "cell_type": "markdown",
   "metadata": {},
   "source": [
    "接下来，通过BUGS（JAGS）语言拟合上述模型。"
   ]
  },
  {
   "cell_type": "code",
   "execution_count": 1,
   "metadata": {
    "collapsed": false
   },
   "outputs": [],
   "source": [
    "med_mlm <- \"\n",
    "model {\n",
    "  \n",
    "  ## random coefficients\n",
    "  for (j in 1:J) {\n",
    "    # indepdent normal distribution\n",
    "    alpha_mj[j] ~ dnorm(alpha_mj_mu, prec.alpha_mj_mu)\n",
    "    alpha_j[j] ~ dnorm(alpha_j_mu, prec.alpha_j_mu)\n",
    "    beta_xj[j] ~ dnorm(beta_xj_mu, prec.beta_xj_mu)\n",
    "    # bivariate normal distribution for beta_mxj and beta_mj\n",
    "    Betas[j, 1:2] ~ dmnorm(Betas_mu[ ], prec.Betas_mu[ , ])\n",
    "    # note it is dmnorm instead of dnorm \n",
    "  }\n",
    "  \n",
    "  ## the two models\n",
    "  for (irow in 1:N) {\n",
    "    # model of m\n",
    "    mean.m[irow] <- alpha_mj[ subjects[irow] ]  +  Betas[ subjects[irow] , 1] * x[irow]\n",
    "    m[irow] ~ dnorm(mean.m[irow], prec.m)\n",
    "    \n",
    "    # model of y\n",
    "    mean.y[irow] <-  alpha_j[ subjects[irow] ] + Betas[ subjects[irow] , 2] * m[irow] + beta_xj[ subjects[irow] ] * x[irow]\n",
    "    y[irow] ~ dnorm(mean.y[irow], prec.y)\n",
    "  }\n",
    "  \n",
    "  ## priors associated with indepdent random coefficients\n",
    "  alpha_mj_mu ~ dnorm(0.0, 1.0E-6)\n",
    "  alpha_j_mu ~ dnorm(0.0, 1.0E-6)\n",
    "  beta_xj_mu ~ dnorm(0.000001, 1.0E-6) ## use a very small value instead of 0 to monitor ratio\n",
    "  sigma.alpha_mj_mu ~ dunif(0, 100) ## note: it is dunif instead of runif\n",
    "  sigma.alpha_j_mu ~ dunif(0, 100)\n",
    "  sigma.beta_xj_mu ~ dunif(0, 100)\n",
    "  prec.alpha_mj_mu <- pow(sigma.alpha_mj_mu, -2)\n",
    "  prec.alpha_j_mu <- pow(sigma.alpha_j_mu, -2)\n",
    "  prec.beta_xj_mu <- pow(sigma.beta_xj_mu, -2)\n",
    "  ## alternatively, we can put priors on prec and then calc sigma\n",
    "  \n",
    "  ## priors on Betas_mu and prec.Betas_mu\n",
    "  ## priors on Betas_mu\n",
    "  Betas_mu[1:2] ~ dmnorm(mean[ ] , prec[,])\n",
    "  ## specify the values of hypyer-priors\n",
    "  mean[1] <- 0\n",
    "  mean[2] <-  0\n",
    "  prec[1, 1] <-  1.0E-6\n",
    "  prec[1, 2] <-  0\n",
    "  prec[2, 1] <-  0\n",
    "  prec[2, 2] <-  1.0E-6\n",
    "  ## priors on prec.Betas_mu (vague inverse-Wishart prior)\n",
    "  prec.Betas_mu[1:2 , 1:2] ~ dwish(Omega[ , ], 2)\n",
    "  Omega[1, 1] <-  0.001\n",
    "  Omega[1, 2] <-  0.0\n",
    "  Omega[2, 1] <-  0.0\n",
    "  Omega[2, 2] <-  0.001\n",
    "  \n",
    "  # Priors for error term pricisions (inverse gamma priors)\n",
    "  prec.m ~ dgamma(0.001, 0.001)\n",
    "  prec.y ~ dgamma(0.001, 0.001)\n",
    "  \n",
    "  # vague uniform priors for standard deviations of the second level model\n",
    "  sigma.beta2 ~ dunif(0, 100)\n",
    "  sigma.taup ~ dunif(0, 100)\n",
    "  sigma.beta3 ~ dunif(0, 100)\n",
    "  prec.beta2 <-  1/(sigma.beta2*sigma.beta2)\n",
    "  prec.taup <-  1/(sigma.taup*sigma.taup)\n",
    "  prec.beta3 <-  1/(sigma.beta3*sigma.beta3)\n",
    "  \n",
    "  ## generated quantities\n",
    "  var.Betas[1, 1] <-  prec.Betas_mu[2,2] / (prec.Betas_mu[1,1] * prec.Betas_mu[2,2] - prec.Betas_mu[1,2] * prec.Betas_mu[2,1])\n",
    "  var.Betas[1, 2] <-  - prec.Betas_mu[1,2] / (prec.Betas_mu[1,1] * prec.Betas_mu[2,2] - prec.Betas_mu[1,2] * prec.Betas_mu[2,1])\n",
    "  var.Betas[2, 1] <-  - prec.Betas_mu[2,1] / (prec.Betas_mu[1,1] * prec.Betas_mu[2,2] - prec.Betas_mu[1,2] * prec.Betas_mu[2,1])\n",
    "  var.Betas[2, 2] <-  prec.Betas_mu[1,1] / (prec.Betas_mu[1,1] * prec.Betas_mu[2,2] - prec.Betas_mu[1,2] * prec.Betas_mu[2,1])\n",
    "  \n",
    "  ##  mediated is the average mediated effect\n",
    "  mediated <- Betas_mu[1] * Betas_mu[2] + var.Betas[1, 2]\n",
    "  total <-  Betas_mu[1] * Betas_mu[2] + var.Betas[1, 2] + beta_xj_mu\n",
    "  ratio <-  mediated / total\n",
    "}\n",
    "\""
   ]
  },
  {
   "cell_type": "code",
   "execution_count": 5,
   "metadata": {
    "collapsed": false
   },
   "outputs": [
    {
     "name": "stdout",
     "output_type": "stream",
     "text": [
      "Compiling model graph\n",
      "   Resolving undeclared variables\n",
      "   Allocating nodes\n",
      "   Graph Size: 13743\n",
      "\n",
      "Initializing model\n",
      "\n"
     ]
    }
   ],
   "source": [
    "library(rjags) \n",
    "mod <- jags.model(textConnection(med_mlm), data=list(N=N, J=J, y = Yij, x=Xij, m=Mij, subjects=subjects) )\n",
    "update(mod, 10000)"
   ]
  },
  {
   "cell_type": "code",
   "execution_count": 9,
   "metadata": {
    "collapsed": false
   },
   "outputs": [
    {
     "data": {
      "text/plain": [
       "\n",
       "Iterations = 26001:31000\n",
       "Thinning interval = 1 \n",
       "Number of chains = 1 \n",
       "Sample size per chain = 5000 \n",
       "\n",
       "1. Empirical mean and standard deviation for each variable,\n",
       "   plus standard error of the mean:\n",
       "\n",
       "               Mean      SD  Naive SE Time-series SE\n",
       "Betas_mu[1]  0.4961 0.09333 0.0013199       0.001320\n",
       "Betas_mu[2]  0.7045 0.10081 0.0014256       0.002793\n",
       "alpha_j_mu  -0.1828 0.12593 0.0017809       0.015293\n",
       "alpha_mj_mu -0.1095 0.20111 0.0028442       0.014231\n",
       "beta_xj_mu   0.2080 0.04194 0.0005932       0.004014\n",
       "mediated     0.4138 0.10747 0.0015198       0.002289\n",
       "ratio        0.6584 0.07737 0.0010941       0.005490\n",
       "total        0.6219 0.11273 0.0015943       0.001594\n",
       "\n",
       "2. Quantiles for each variable:\n",
       "\n",
       "               2.5%     25%     50%      75%   97.5%\n",
       "Betas_mu[1]  0.3131  0.4365  0.4952  0.55702 0.67737\n",
       "Betas_mu[2]  0.5055  0.6388  0.7032  0.77115 0.90598\n",
       "alpha_j_mu  -0.4388 -0.2630 -0.1826 -0.10661 0.08254\n",
       "alpha_mj_mu -0.5085 -0.2433 -0.1062  0.02444 0.27907\n",
       "beta_xj_mu   0.1261  0.1805  0.2090  0.23525 0.29027\n",
       "mediated     0.2273  0.3410  0.4053  0.47863 0.65303\n",
       "ratio        0.4922  0.6110  0.6614  0.71224 0.79754\n",
       "total        0.4261  0.5441  0.6144  0.69022 0.86957\n"
      ]
     },
     "execution_count": 9,
     "metadata": {},
     "output_type": "execute_result"
    }
   ],
   "source": [
    "samp <- coda.samples(mod, variable.names = c(\"mediated\", \"total\", \"ratio\", \"alpha_j_mu\",\"alpha_mj_mu\", \"Betas_mu\", \"beta_xj_mu\"), n.iter = 5000)\n",
    "summary(samp)"
   ]
  }
 ],
 "metadata": {
  "kernelspec": {
   "display_name": "R",
   "language": "R",
   "name": "ir"
  },
  "language_info": {
   "codemirror_mode": "r",
   "file_extension": ".r",
   "mimetype": "text/x-r-source",
   "name": "R",
   "pygments_lexer": "r",
   "version": "3.2.2"
  }
 },
 "nbformat": 4,
 "nbformat_minor": 0
}
