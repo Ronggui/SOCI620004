{
 "cells": [
  {
   "cell_type": "code",
   "execution_count": 1,
   "metadata": {},
   "outputs": [
    {
     "name": "stderr",
     "output_type": "stream",
     "text": [
      "/Users/rghuang/anaconda3/lib/python3.7/site-packages/statsmodels/tools/_testing.py:19: FutureWarning: pandas.util.testing is deprecated. Use the functions in the public API at pandas.testing instead.\n",
      "  import pandas.util.testing as tm\n"
     ]
    }
   ],
   "source": [
    "import statsmodels.api as sm\n",
    "import statsmodels.formula.api as smf"
   ]
  },
  {
   "cell_type": "code",
   "execution_count": 9,
   "metadata": {},
   "outputs": [],
   "source": [
    "Prestige = sm.datasets.get_rdataset('Prestige', 'carData')"
   ]
  },
  {
   "cell_type": "code",
   "execution_count": 13,
   "metadata": {
    "scrolled": true
   },
   "outputs": [
    {
     "data": {
      "text/html": [
       "<div>\n",
       "<style scoped>\n",
       "    .dataframe tbody tr th:only-of-type {\n",
       "        vertical-align: middle;\n",
       "    }\n",
       "\n",
       "    .dataframe tbody tr th {\n",
       "        vertical-align: top;\n",
       "    }\n",
       "\n",
       "    .dataframe thead th {\n",
       "        text-align: right;\n",
       "    }\n",
       "</style>\n",
       "<table border=\"1\" class=\"dataframe\">\n",
       "  <thead>\n",
       "    <tr style=\"text-align: right;\">\n",
       "      <th></th>\n",
       "      <th>education</th>\n",
       "      <th>income</th>\n",
       "      <th>women</th>\n",
       "      <th>prestige</th>\n",
       "      <th>census</th>\n",
       "      <th>type</th>\n",
       "    </tr>\n",
       "  </thead>\n",
       "  <tbody>\n",
       "    <tr>\n",
       "      <th>gov.administrators</th>\n",
       "      <td>13.11</td>\n",
       "      <td>12351</td>\n",
       "      <td>11.16</td>\n",
       "      <td>68.8</td>\n",
       "      <td>1113</td>\n",
       "      <td>prof</td>\n",
       "    </tr>\n",
       "    <tr>\n",
       "      <th>general.managers</th>\n",
       "      <td>12.26</td>\n",
       "      <td>25879</td>\n",
       "      <td>4.02</td>\n",
       "      <td>69.1</td>\n",
       "      <td>1130</td>\n",
       "      <td>prof</td>\n",
       "    </tr>\n",
       "    <tr>\n",
       "      <th>accountants</th>\n",
       "      <td>12.77</td>\n",
       "      <td>9271</td>\n",
       "      <td>15.70</td>\n",
       "      <td>63.4</td>\n",
       "      <td>1171</td>\n",
       "      <td>prof</td>\n",
       "    </tr>\n",
       "    <tr>\n",
       "      <th>purchasing.officers</th>\n",
       "      <td>11.42</td>\n",
       "      <td>8865</td>\n",
       "      <td>9.11</td>\n",
       "      <td>56.8</td>\n",
       "      <td>1175</td>\n",
       "      <td>prof</td>\n",
       "    </tr>\n",
       "    <tr>\n",
       "      <th>chemists</th>\n",
       "      <td>14.62</td>\n",
       "      <td>8403</td>\n",
       "      <td>11.68</td>\n",
       "      <td>73.5</td>\n",
       "      <td>2111</td>\n",
       "      <td>prof</td>\n",
       "    </tr>\n",
       "  </tbody>\n",
       "</table>\n",
       "</div>"
      ],
      "text/plain": [
       "                     education  income  women  prestige  census  type\n",
       "gov.administrators       13.11   12351  11.16      68.8    1113  prof\n",
       "general.managers         12.26   25879   4.02      69.1    1130  prof\n",
       "accountants              12.77    9271  15.70      63.4    1171  prof\n",
       "purchasing.officers      11.42    8865   9.11      56.8    1175  prof\n",
       "chemists                 14.62    8403  11.68      73.5    2111  prof"
      ]
     },
     "execution_count": 13,
     "metadata": {},
     "output_type": "execute_result"
    }
   ],
   "source": [
    "Prestige.data.head()"
   ]
  },
  {
   "cell_type": "code",
   "execution_count": 14,
   "metadata": {},
   "outputs": [],
   "source": [
    "mod = smf.ols('prestige ~ income + education + C(type)', data=Prestige.data).fit()"
   ]
  },
  {
   "cell_type": "code",
   "execution_count": 15,
   "metadata": {},
   "outputs": [
    {
     "data": {
      "text/html": [
       "<table class=\"simpletable\">\n",
       "<caption>OLS Regression Results</caption>\n",
       "<tr>\n",
       "  <th>Dep. Variable:</th>        <td>prestige</td>     <th>  R-squared:         </th> <td>   0.835</td>\n",
       "</tr>\n",
       "<tr>\n",
       "  <th>Model:</th>                   <td>OLS</td>       <th>  Adj. R-squared:    </th> <td>   0.828</td>\n",
       "</tr>\n",
       "<tr>\n",
       "  <th>Method:</th>             <td>Least Squares</td>  <th>  F-statistic:       </th> <td>   117.5</td>\n",
       "</tr>\n",
       "<tr>\n",
       "  <th>Date:</th>             <td>Tue, 26 May 2020</td> <th>  Prob (F-statistic):</th> <td>1.70e-35</td>\n",
       "</tr>\n",
       "<tr>\n",
       "  <th>Time:</th>                 <td>11:00:08</td>     <th>  Log-Likelihood:    </th> <td> -328.51</td>\n",
       "</tr>\n",
       "<tr>\n",
       "  <th>No. Observations:</th>      <td>    98</td>      <th>  AIC:               </th> <td>   667.0</td>\n",
       "</tr>\n",
       "<tr>\n",
       "  <th>Df Residuals:</th>          <td>    93</td>      <th>  BIC:               </th> <td>   679.9</td>\n",
       "</tr>\n",
       "<tr>\n",
       "  <th>Df Model:</th>              <td>     4</td>      <th>                     </th>     <td> </td>   \n",
       "</tr>\n",
       "<tr>\n",
       "  <th>Covariance Type:</th>      <td>nonrobust</td>    <th>                     </th>     <td> </td>   \n",
       "</tr>\n",
       "</table>\n",
       "<table class=\"simpletable\">\n",
       "<tr>\n",
       "         <td></td>            <th>coef</th>     <th>std err</th>      <th>t</th>      <th>P>|t|</th>  <th>[0.025</th>    <th>0.975]</th>  \n",
       "</tr>\n",
       "<tr>\n",
       "  <th>Intercept</th>       <td>   -0.6229</td> <td>    5.228</td> <td>   -0.119</td> <td> 0.905</td> <td>  -11.004</td> <td>    9.758</td>\n",
       "</tr>\n",
       "<tr>\n",
       "  <th>C(type)[T.prof]</th> <td>    6.0390</td> <td>    3.867</td> <td>    1.562</td> <td> 0.122</td> <td>   -1.640</td> <td>   13.718</td>\n",
       "</tr>\n",
       "<tr>\n",
       "  <th>C(type)[T.wc]</th>   <td>   -2.7372</td> <td>    2.514</td> <td>   -1.089</td> <td> 0.279</td> <td>   -7.729</td> <td>    2.255</td>\n",
       "</tr>\n",
       "<tr>\n",
       "  <th>income</th>          <td>    0.0010</td> <td>    0.000</td> <td>    4.586</td> <td> 0.000</td> <td>    0.001</td> <td>    0.001</td>\n",
       "</tr>\n",
       "<tr>\n",
       "  <th>education</th>       <td>    3.6732</td> <td>    0.641</td> <td>    5.735</td> <td> 0.000</td> <td>    2.401</td> <td>    4.945</td>\n",
       "</tr>\n",
       "</table>\n",
       "<table class=\"simpletable\">\n",
       "<tr>\n",
       "  <th>Omnibus:</th>       <td> 0.500</td> <th>  Durbin-Watson:     </th> <td>   1.787</td>\n",
       "</tr>\n",
       "<tr>\n",
       "  <th>Prob(Omnibus):</th> <td> 0.779</td> <th>  Jarque-Bera (JB):  </th> <td>   0.652</td>\n",
       "</tr>\n",
       "<tr>\n",
       "  <th>Skew:</th>          <td>-0.106</td> <th>  Prob(JB):          </th> <td>   0.722</td>\n",
       "</tr>\n",
       "<tr>\n",
       "  <th>Kurtosis:</th>      <td> 2.662</td> <th>  Cond. No.          </th> <td>7.34e+04</td>\n",
       "</tr>\n",
       "</table><br/><br/>Warnings:<br/>[1] Standard Errors assume that the covariance matrix of the errors is correctly specified.<br/>[2] The condition number is large, 7.34e+04. This might indicate that there are<br/>strong multicollinearity or other numerical problems."
      ],
      "text/plain": [
       "<class 'statsmodels.iolib.summary.Summary'>\n",
       "\"\"\"\n",
       "                            OLS Regression Results                            \n",
       "==============================================================================\n",
       "Dep. Variable:               prestige   R-squared:                       0.835\n",
       "Model:                            OLS   Adj. R-squared:                  0.828\n",
       "Method:                 Least Squares   F-statistic:                     117.5\n",
       "Date:                Tue, 26 May 2020   Prob (F-statistic):           1.70e-35\n",
       "Time:                        11:00:08   Log-Likelihood:                -328.51\n",
       "No. Observations:                  98   AIC:                             667.0\n",
       "Df Residuals:                      93   BIC:                             679.9\n",
       "Df Model:                           4                                         \n",
       "Covariance Type:            nonrobust                                         \n",
       "===================================================================================\n",
       "                      coef    std err          t      P>|t|      [0.025      0.975]\n",
       "-----------------------------------------------------------------------------------\n",
       "Intercept          -0.6229      5.228     -0.119      0.905     -11.004       9.758\n",
       "C(type)[T.prof]     6.0390      3.867      1.562      0.122      -1.640      13.718\n",
       "C(type)[T.wc]      -2.7372      2.514     -1.089      0.279      -7.729       2.255\n",
       "income              0.0010      0.000      4.586      0.000       0.001       0.001\n",
       "education           3.6732      0.641      5.735      0.000       2.401       4.945\n",
       "==============================================================================\n",
       "Omnibus:                        0.500   Durbin-Watson:                   1.787\n",
       "Prob(Omnibus):                  0.779   Jarque-Bera (JB):                0.652\n",
       "Skew:                          -0.106   Prob(JB):                        0.722\n",
       "Kurtosis:                       2.662   Cond. No.                     7.34e+04\n",
       "==============================================================================\n",
       "\n",
       "Warnings:\n",
       "[1] Standard Errors assume that the covariance matrix of the errors is correctly specified.\n",
       "[2] The condition number is large, 7.34e+04. This might indicate that there are\n",
       "strong multicollinearity or other numerical problems.\n",
       "\"\"\""
      ]
     },
     "execution_count": 15,
     "metadata": {},
     "output_type": "execute_result"
    }
   ],
   "source": [
    "mod.summary()"
   ]
  },
  {
   "cell_type": "code",
   "execution_count": 17,
   "metadata": {},
   "outputs": [
    {
     "data": {
      "text/html": [
       "<div>\n",
       "<style scoped>\n",
       "    .dataframe tbody tr th:only-of-type {\n",
       "        vertical-align: middle;\n",
       "    }\n",
       "\n",
       "    .dataframe tbody tr th {\n",
       "        vertical-align: top;\n",
       "    }\n",
       "\n",
       "    .dataframe thead th {\n",
       "        text-align: right;\n",
       "    }\n",
       "</style>\n",
       "<table border=\"1\" class=\"dataframe\">\n",
       "  <thead>\n",
       "    <tr style=\"text-align: right;\">\n",
       "      <th></th>\n",
       "      <th>df</th>\n",
       "      <th>sum_sq</th>\n",
       "      <th>mean_sq</th>\n",
       "      <th>F</th>\n",
       "      <th>PR(&gt;F)</th>\n",
       "    </tr>\n",
       "  </thead>\n",
       "  <tbody>\n",
       "    <tr>\n",
       "      <th>C(type)</th>\n",
       "      <td>2.0</td>\n",
       "      <td>19775.594398</td>\n",
       "      <td>9887.797199</td>\n",
       "      <td>196.434712</td>\n",
       "      <td>4.085988e-34</td>\n",
       "    </tr>\n",
       "    <tr>\n",
       "      <th>income</th>\n",
       "      <td>1.0</td>\n",
       "      <td>2234.532528</td>\n",
       "      <td>2234.532528</td>\n",
       "      <td>44.392067</td>\n",
       "      <td>1.870640e-09</td>\n",
       "    </tr>\n",
       "    <tr>\n",
       "      <th>education</th>\n",
       "      <td>1.0</td>\n",
       "      <td>1655.472508</td>\n",
       "      <td>1655.472508</td>\n",
       "      <td>32.888242</td>\n",
       "      <td>1.205177e-07</td>\n",
       "    </tr>\n",
       "    <tr>\n",
       "      <th>Residual</th>\n",
       "      <td>93.0</td>\n",
       "      <td>4681.276177</td>\n",
       "      <td>50.336303</td>\n",
       "      <td>NaN</td>\n",
       "      <td>NaN</td>\n",
       "    </tr>\n",
       "  </tbody>\n",
       "</table>\n",
       "</div>"
      ],
      "text/plain": [
       "             df        sum_sq      mean_sq           F        PR(>F)\n",
       "C(type)     2.0  19775.594398  9887.797199  196.434712  4.085988e-34\n",
       "income      1.0   2234.532528  2234.532528   44.392067  1.870640e-09\n",
       "education   1.0   1655.472508  1655.472508   32.888242  1.205177e-07\n",
       "Residual   93.0   4681.276177    50.336303         NaN           NaN"
      ]
     },
     "execution_count": 17,
     "metadata": {},
     "output_type": "execute_result"
    }
   ],
   "source": [
    "sm.stats.anova_lm(mod)"
   ]
  },
  {
   "cell_type": "code",
   "execution_count": 16,
   "metadata": {},
   "outputs": [
    {
     "data": {
      "text/plain": [
       "'<F test: F=array([[10.0311173]]), p=0.00208234722489301, df_denom=93, df_num=1>'"
      ]
     },
     "execution_count": 16,
     "metadata": {},
     "output_type": "execute_result"
    }
   ],
   "source": [
    "mod.wald_test(\"C(type)[T.prof] - C(type)[T.wc]=0\").summary()"
   ]
  }
 ],
 "metadata": {
  "kernelspec": {
   "display_name": "Python 3",
   "language": "python",
   "name": "python3"
  },
  "language_info": {
   "codemirror_mode": {
    "name": "ipython",
    "version": 3
   },
   "file_extension": ".py",
   "mimetype": "text/x-python",
   "name": "python",
   "nbconvert_exporter": "python",
   "pygments_lexer": "ipython3",
   "version": "3.7.6"
  }
 },
 "nbformat": 4,
 "nbformat_minor": 2
}
