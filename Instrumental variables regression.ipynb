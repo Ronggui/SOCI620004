{
 "cells": [
  {
   "cell_type": "markdown",
   "metadata": {},
   "source": [
    "## 工具变量回归\n",
    "\n",
    "##### 黄荣贵（复旦大学社会学系）"
   ]
  },
  {
   "cell_type": "code",
   "execution_count": 2,
   "metadata": {},
   "outputs": [
    {
     "name": "stderr",
     "output_type": "stream",
     "text": [
      "Loading required package: car\n",
      "Loading required package: carData\n",
      "Loading required package: lmtest\n",
      "Loading required package: zoo\n",
      "\n",
      "Attaching package: ‘zoo’\n",
      "\n",
      "The following objects are masked from ‘package:base’:\n",
      "\n",
      "    as.Date, as.Date.numeric\n",
      "\n",
      "Loading required package: sandwich\n",
      "Loading required package: survival\n"
     ]
    }
   ],
   "source": [
    "# install.packages('AER')\n",
    "\n",
    "library(AER)"
   ]
  },
  {
   "cell_type": "code",
   "execution_count": 5,
   "metadata": {},
   "outputs": [],
   "source": [
    "data(\"CigarettesSW\")\n",
    "\n",
    "CigarettesSW$rprice <- with(CigarettesSW, price/cpi)\n",
    "# real price\n",
    "CigarettesSW$rincome <- with(CigarettesSW, income/population/cpi) \n",
    "# real income per person\n",
    "\n",
    "# tax： Average state, federal and average local excise taxes for fiscal year.\n",
    "# taxs： Average excise taxes for fiscal year, including sales tax.\n",
    "CigarettesSW$tdiff <- with(CigarettesSW, (taxs - tax)/cpi) \n",
    "# real tax on cigarettes arising from the state’s general sales tax"
   ]
  },
  {
   "cell_type": "code",
   "execution_count": 6,
   "metadata": {},
   "outputs": [],
   "source": [
    "# only analyze on a single year\n",
    "Cigarettes95 = subset(CigarettesSW, year == \"1995\")"
   ]
  },
  {
   "cell_type": "code",
   "execution_count": 7,
   "metadata": {},
   "outputs": [
    {
     "data": {
      "text/plain": [
       "\n",
       "Call:\n",
       "lm(formula = log(packs) ~ log(rprice) + log(rincome), data = Cigarettes95)\n",
       "\n",
       "Residuals:\n",
       "     Min       1Q   Median       3Q      Max \n",
       "-0.59077 -0.07856 -0.00149  0.11860  0.35442 \n",
       "\n",
       "Coefficients:\n",
       "             Estimate Std. Error t value Pr(>|t|)    \n",
       "(Intercept)   10.3420     1.0227  10.113 3.66e-13 ***\n",
       "log(rprice)   -1.4065     0.2514  -5.595 1.24e-06 ***\n",
       "log(rincome)   0.3439     0.2350   1.463     0.15    \n",
       "---\n",
       "Signif. codes:  0 ‘***’ 0.001 ‘**’ 0.01 ‘*’ 0.05 ‘.’ 0.1 ‘ ’ 1\n",
       "\n",
       "Residual standard error: 0.1873 on 45 degrees of freedom\n",
       "Multiple R-squared:  0.4327,\tAdjusted R-squared:  0.4075 \n",
       "F-statistic: 17.16 on 2 and 45 DF,  p-value: 2.884e-06\n"
      ]
     },
     "metadata": {},
     "output_type": "display_data"
    }
   ],
   "source": [
    "summary(lm(log(packs) ~ log(rprice) + log(rincome) , data = Cigarettes95))"
   ]
  },
  {
   "cell_type": "markdown",
   "metadata": {},
   "source": [
    "* 结构模型\n",
    "\n",
    "香烟消费量在多大程度上受价格的影响；控制变量为人均收入\n",
    "\n",
    "* 可能内生的变量\n",
    "\n",
    "价格，因为价格上升将导致消费需求下降，反之上升\n",
    "\n",
    "* 工具变量\n",
    "\n",
    "税收，税收由政府决定，而不是市场决定\n",
    "\n",
    "* 模型设定\n",
    "\n",
    "对变量作对数变换"
   ]
  },
  {
   "cell_type": "code",
   "execution_count": 4,
   "metadata": {},
   "outputs": [],
   "source": [
    "iv1 <- ivreg(log(packs) ~ log(rprice) + log(rincome) | log(rincome) + tdiff, data = Cigarettes95)"
   ]
  },
  {
   "cell_type": "code",
   "execution_count": 5,
   "metadata": {},
   "outputs": [
    {
     "data": {
      "text/plain": [
       "\n",
       "Call:\n",
       "ivreg(formula = log(packs) ~ log(rprice) + log(rincome) | log(rincome) + \n",
       "    tdiff, data = Cigarettes95)\n",
       "\n",
       "Residuals:\n",
       "      Min        1Q    Median        3Q       Max \n",
       "-0.611000 -0.086072  0.009423  0.106912  0.393159 \n",
       "\n",
       "Coefficients:\n",
       "             Estimate Std. Error t value Pr(>|t|)    \n",
       "(Intercept)    9.4307     1.3584   6.943 1.24e-08 ***\n",
       "log(rprice)   -1.1434     0.3595  -3.181  0.00266 ** \n",
       "log(rincome)   0.2145     0.2686   0.799  0.42867    \n",
       "---\n",
       "Signif. codes:  0 ‘***’ 0.001 ‘**’ 0.01 ‘*’ 0.05 ‘.’ 0.1 ‘ ’ 1\n",
       "\n",
       "Residual standard error: 0.1896 on 45 degrees of freedom\n",
       "Multiple R-Squared: 0.4189,\tAdjusted R-squared: 0.3931 \n",
       "Wald test: 6.534 on 2 and 45 DF,  p-value: 0.003227 \n"
      ]
     },
     "metadata": {},
     "output_type": "display_data"
    }
   ],
   "source": [
    "summary(iv1)"
   ]
  },
  {
   "cell_type": "code",
   "execution_count": 6,
   "metadata": {},
   "outputs": [
    {
     "data": {
      "text/plain": [
       "\n",
       "Call:\n",
       "ivreg(formula = log(packs) ~ log(rprice) + log(rincome) | log(rincome) + \n",
       "    tdiff, data = Cigarettes95)\n",
       "\n",
       "Residuals:\n",
       "      Min        1Q    Median        3Q       Max \n",
       "-0.611000 -0.086072  0.009423  0.106912  0.393159 \n",
       "\n",
       "Coefficients:\n",
       "             Estimate Std. Error t value Pr(>|t|)    \n",
       "(Intercept)    9.4307     1.3584   6.943 1.24e-08 ***\n",
       "log(rprice)   -1.1434     0.3595  -3.181  0.00266 ** \n",
       "log(rincome)   0.2145     0.2686   0.799  0.42867    \n",
       "\n",
       "Diagnostic tests:\n",
       "                 df1 df2 statistic  p-value    \n",
       "Weak instruments   1  45    45.158 2.65e-08 ***\n",
       "Wu-Hausman         1  44     1.102      0.3    \n",
       "Sargan             0  NA        NA       NA    \n",
       "---\n",
       "Signif. codes:  0 ‘***’ 0.001 ‘**’ 0.01 ‘*’ 0.05 ‘.’ 0.1 ‘ ’ 1\n",
       "\n",
       "Residual standard error: 0.1896 on 45 degrees of freedom\n",
       "Multiple R-Squared: 0.4189,\tAdjusted R-squared: 0.3931 \n",
       "Wald test: 6.534 on 2 and 45 DF,  p-value: 0.003227 \n"
      ]
     },
     "metadata": {},
     "output_type": "display_data"
    }
   ],
   "source": [
    "summary(iv1, diagnostics = TRUE)"
   ]
  },
  {
   "cell_type": "markdown",
   "metadata": {},
   "source": [
    "*诊断检验*\n",
    "\n",
    " - an F test of the first stage regression for weak instruments\n",
    " - a Wu-Hausman test for endogeneity\n",
    " - a Sargan test of overidentifying restrictions (if more instruments than regressors)"
   ]
  },
  {
   "cell_type": "code",
   "execution_count": 8,
   "metadata": {},
   "outputs": [],
   "source": [
    "iv2 <- ivreg(log(packs) ~ log(rprice) + log(rincome) | log(rincome) + tdiff + I(tax/cpi), data = Cigarettes95)"
   ]
  },
  {
   "cell_type": "code",
   "execution_count": 9,
   "metadata": {
    "scrolled": true
   },
   "outputs": [
    {
     "data": {
      "text/plain": [
       "\n",
       "Call:\n",
       "ivreg(formula = log(packs) ~ log(rprice) + log(rincome) | log(rincome) + \n",
       "    tdiff + I(tax/cpi), data = Cigarettes95)\n",
       "\n",
       "Residuals:\n",
       "       Min         1Q     Median         3Q        Max \n",
       "-0.6006931 -0.0862222 -0.0009999  0.1164699  0.3734227 \n",
       "\n",
       "Coefficients:\n",
       "             Estimate Std. Error t value Pr(>|t|)    \n",
       "(Intercept)    9.8950     1.0586   9.348 4.12e-12 ***\n",
       "log(rprice)   -1.2774     0.2632  -4.853 1.50e-05 ***\n",
       "log(rincome)   0.2804     0.2386   1.175    0.246    \n",
       "\n",
       "Diagnostic tests:\n",
       "                 df1 df2 statistic p-value    \n",
       "Weak instruments   2  44   244.734  <2e-16 ***\n",
       "Wu-Hausman         1  44     3.068  0.0868 .  \n",
       "Sargan             1  NA     0.333  0.5641    \n",
       "---\n",
       "Signif. codes:  0 ‘***’ 0.001 ‘**’ 0.01 ‘*’ 0.05 ‘.’ 0.1 ‘ ’ 1\n",
       "\n",
       "Residual standard error: 0.1879 on 45 degrees of freedom\n",
       "Multiple R-Squared: 0.4294,\tAdjusted R-squared: 0.4041 \n",
       "Wald test: 13.28 on 2 and 45 DF,  p-value: 2.931e-05 \n"
      ]
     },
     "metadata": {},
     "output_type": "display_data"
    }
   ],
   "source": [
    "summary(iv2, diagnostics = TRUE)"
   ]
  },
  {
   "cell_type": "markdown",
   "metadata": {},
   "source": [
    "*诊断检验结果*\n",
    "\n",
    "- Weak instruments，显著，表明所使用的工具变量并不是弱工具变量\n",
    "- Wu-Hausman，显著，表明确实存在内生性\n",
    "- Sargan，不显著，表明所使用的工具变量与误差项之间不存在相关"
   ]
  },
  {
   "cell_type": "code",
   "execution_count": 11,
   "metadata": {},
   "outputs": [
    {
     "data": {
      "text/plain": [
       "\n",
       "Call:\n",
       "lm(formula = log(rprice) ~ log(rincome) + tdiff + I(tax/cpi), \n",
       "    data = Cigarettes95)\n",
       "\n",
       "Residuals:\n",
       "      Min        1Q    Median        3Q       Max \n",
       "-0.067411 -0.017296 -0.001123  0.023591  0.071556 \n",
       "\n",
       "Coefficients:\n",
       "              Estimate Std. Error t value Pr(>|t|)    \n",
       "(Intercept)  4.1030339  0.0988873  41.492  < 2e-16 ***\n",
       "log(rincome) 0.1083449  0.0397382   2.726  0.00916 ** \n",
       "tdiff        0.0108898  0.0020086   5.422 2.37e-06 ***\n",
       "I(tax/cpi)   0.0093517  0.0006273  14.909  < 2e-16 ***\n",
       "---\n",
       "Signif. codes:  0 ‘***’ 0.001 ‘**’ 0.01 ‘*’ 0.05 ‘.’ 0.1 ‘ ’ 1\n",
       "\n",
       "Residual standard error: 0.03226 on 44 degrees of freedom\n",
       "Multiple R-squared:  0.9403,\tAdjusted R-squared:  0.9363 \n",
       "F-statistic: 231.1 on 3 and 44 DF,  p-value: < 2.2e-16\n"
      ]
     },
     "metadata": {},
     "output_type": "display_data"
    }
   ],
   "source": [
    "summary(lm(log(rprice) ~ log(rincome) + tdiff + I(tax/cpi), data = Cigarettes95))"
   ]
  },
  {
   "cell_type": "code",
   "execution_count": 10,
   "metadata": {},
   "outputs": [],
   "source": [
    "?ivreg"
   ]
  }
 ],
 "metadata": {
  "kernelspec": {
   "display_name": "R",
   "language": "R",
   "name": "ir"
  },
  "language_info": {
   "codemirror_mode": "r",
   "file_extension": ".r",
   "mimetype": "text/x-r-source",
   "name": "R",
   "pygments_lexer": "r",
   "version": "3.6.1"
  }
 },
 "nbformat": 4,
 "nbformat_minor": 2
}
