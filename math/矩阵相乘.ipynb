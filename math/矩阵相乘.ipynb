{
 "cells": [
  {
   "cell_type": "markdown",
   "metadata": {},
   "source": [
    "通过生成随机数来产生两个矩阵"
   ]
  },
  {
   "cell_type": "code",
   "execution_count": 35,
   "metadata": {},
   "outputs": [
    {
     "name": "stdout",
     "output_type": "stream",
     "text": [
      "     [,1] [,2] [,3]\n",
      "[1,]    4    2    8\n",
      "[2,]    3    5    4\n",
      "[3,]    6    5    6\n"
     ]
    }
   ],
   "source": [
    "set.seed(100)\n",
    "X = matrix( round( runif(9, 1, 10)), 3 )\n",
    "print(X)"
   ]
  },
  {
   "cell_type": "code",
   "execution_count": 36,
   "metadata": {},
   "outputs": [
    {
     "name": "stdout",
     "output_type": "stream",
     "text": [
      "     [,1] [,2] [,3] [,4]\n",
      "[1,]    6    7    7    3\n",
      "[2,]    6    7    2    5\n",
      "[3,]    6    9    6    7\n"
     ]
    }
   ],
   "source": [
    "set.seed(200)\n",
    "Y = matrix( round( runif(12, 1, 10)), 3 )\n",
    "print(Y)"
   ]
  },
  {
   "cell_type": "markdown",
   "metadata": {},
   "source": [
    "第一种矩阵相乘法: $Z_{ij} = \\sum{X_{i.} Y_{.j}}$\n",
    "\n",
    "换言之，结果矩阵第i行第j列的元素等于X的第i行乘Y的第j列之和。"
   ]
  },
  {
   "cell_type": "code",
   "execution_count": 37,
   "metadata": {},
   "outputs": [
    {
     "name": "stdout",
     "output_type": "stream",
     "text": [
      "     [,1] [,2] [,3] [,4]\n",
      "[1,]   84  114   80   78\n",
      "[2,]   72   92   55   62\n",
      "[3,]  102  131   88   85\n"
     ]
    }
   ],
   "source": [
    "Z = X %*% Y\n",
    "print(Z)"
   ]
  },
  {
   "cell_type": "markdown",
   "metadata": {},
   "source": [
    "以$Z_{11}$为例："
   ]
  },
  {
   "cell_type": "code",
   "execution_count": 38,
   "metadata": {},
   "outputs": [
    {
     "data": {
      "text/html": [
       "TRUE"
      ],
      "text/latex": [
       "TRUE"
      ],
      "text/markdown": [
       "TRUE"
      ],
      "text/plain": [
       "[1] TRUE"
      ]
     },
     "execution_count": 38,
     "metadata": {},
     "output_type": "execute_result"
    }
   ],
   "source": [
    "Z[1,1] == sum(X[1,] * Y[,1])"
   ]
  },
  {
   "cell_type": "markdown",
   "metadata": {},
   "source": [
    "第二种矩阵相乘法：X的每一列乘Y矩阵的每一行，并将所得的矩阵相加。其中，每次相乘得到相同维度的矩阵。"
   ]
  },
  {
   "cell_type": "code",
   "execution_count": 39,
   "metadata": {},
   "outputs": [
    {
     "data": {
      "text/html": [
       "<table>\n",
       "<tbody>\n",
       "\t<tr><td> 84</td><td>114</td><td> 80</td><td> 78</td></tr>\n",
       "\t<tr><td>72</td><td>92</td><td>55</td><td>62</td></tr>\n",
       "\t<tr><td>102</td><td>131</td><td> 88</td><td> 85</td></tr>\n",
       "</tbody>\n",
       "</table>\n"
      ],
      "text/latex": [
       "\\begin{tabular}{llll}\n",
       "\t  84 & 114 &  80 &  78\\\\\n",
       "\t 72 & 92 & 55 & 62\\\\\n",
       "\t 102 & 131 &  88 &  85\\\\\n",
       "\\end{tabular}\n"
      ],
      "text/markdown": [
       "1. 84\n",
       "2. 72\n",
       "3. 102\n",
       "4. 114\n",
       "5. 92\n",
       "6. 131\n",
       "7. 80\n",
       "8. 55\n",
       "9. 88\n",
       "10. 78\n",
       "11. 62\n",
       "12. 85\n",
       "\n",
       "\n"
      ],
      "text/plain": [
       "     [,1] [,2] [,3] [,4]\n",
       "[1,]   84  114   80   78\n",
       "[2,]   72   92   55   62\n",
       "[3,]  102  131   88   85"
      ]
     },
     "execution_count": 39,
     "metadata": {},
     "output_type": "execute_result"
    }
   ],
   "source": [
    "X[, 1, drop=FALSE] %*% Y[1, , drop=FALSE] + \n",
    "X[, 2, drop=FALSE] %*% Y[2, , drop=FALSE] + \n",
    "X[, 3, drop=FALSE] %*% Y[3, , drop=FALSE]"
   ]
  },
  {
   "cell_type": "markdown",
   "metadata": {},
   "source": [
    "第三种矩阵相乘法：X矩阵乘Y矩阵的第一列，得到结果矩阵的第一列；X矩阵乘Y矩阵的第一二列，得到结果矩阵的第二列；X矩阵乘Y矩阵的第三列，得到结果矩阵的第三列；以此类推……"
   ]
  },
  {
   "cell_type": "code",
   "execution_count": 40,
   "metadata": {},
   "outputs": [
    {
     "data": {
      "text/html": [
       "<table>\n",
       "<tbody>\n",
       "\t<tr><td>84</td></tr>\n",
       "\t<tr><td>72</td></tr>\n",
       "\t<tr><td>102</td></tr>\n",
       "</tbody>\n",
       "</table>\n"
      ],
      "text/latex": [
       "\\begin{tabular}{l}\n",
       "\t 84\\\\\n",
       "\t 72\\\\\n",
       "\t 102\\\\\n",
       "\\end{tabular}\n"
      ],
      "text/markdown": [
       "1. 84\n",
       "2. 72\n",
       "3. 102\n",
       "\n",
       "\n"
      ],
      "text/plain": [
       "     [,1]\n",
       "[1,]   84\n",
       "[2,]   72\n",
       "[3,]  102"
      ]
     },
     "execution_count": 40,
     "metadata": {},
     "output_type": "execute_result"
    }
   ],
   "source": [
    "X %*% Y[, 1, drop=FALSE]"
   ]
  },
  {
   "cell_type": "code",
   "execution_count": 41,
   "metadata": {},
   "outputs": [
    {
     "data": {
      "text/html": [
       "<table>\n",
       "<tbody>\n",
       "\t<tr><td>114</td></tr>\n",
       "\t<tr><td>92</td></tr>\n",
       "\t<tr><td>131</td></tr>\n",
       "</tbody>\n",
       "</table>\n"
      ],
      "text/latex": [
       "\\begin{tabular}{l}\n",
       "\t 114\\\\\n",
       "\t 92\\\\\n",
       "\t 131\\\\\n",
       "\\end{tabular}\n"
      ],
      "text/markdown": [
       "1. 114\n",
       "2. 92\n",
       "3. 131\n",
       "\n",
       "\n"
      ],
      "text/plain": [
       "     [,1]\n",
       "[1,]  114\n",
       "[2,]   92\n",
       "[3,]  131"
      ]
     },
     "execution_count": 41,
     "metadata": {},
     "output_type": "execute_result"
    }
   ],
   "source": [
    "X %*% Y[, 2, drop=FALSE]"
   ]
  },
  {
   "cell_type": "code",
   "execution_count": 42,
   "metadata": {},
   "outputs": [
    {
     "data": {
      "text/html": [
       "<table>\n",
       "<tbody>\n",
       "\t<tr><td>80</td></tr>\n",
       "\t<tr><td>55</td></tr>\n",
       "\t<tr><td>88</td></tr>\n",
       "</tbody>\n",
       "</table>\n"
      ],
      "text/latex": [
       "\\begin{tabular}{l}\n",
       "\t 80\\\\\n",
       "\t 55\\\\\n",
       "\t 88\\\\\n",
       "\\end{tabular}\n"
      ],
      "text/markdown": [
       "1. 80\n",
       "2. 55\n",
       "3. 88\n",
       "\n",
       "\n"
      ],
      "text/plain": [
       "     [,1]\n",
       "[1,]   80\n",
       "[2,]   55\n",
       "[3,]   88"
      ]
     },
     "execution_count": 42,
     "metadata": {},
     "output_type": "execute_result"
    }
   ],
   "source": [
    "X %*% Y[, 3, drop=FALSE]"
   ]
  },
  {
   "cell_type": "code",
   "execution_count": 43,
   "metadata": {},
   "outputs": [
    {
     "data": {
      "text/html": [
       "<table>\n",
       "<tbody>\n",
       "\t<tr><td>78</td></tr>\n",
       "\t<tr><td>62</td></tr>\n",
       "\t<tr><td>85</td></tr>\n",
       "</tbody>\n",
       "</table>\n"
      ],
      "text/latex": [
       "\\begin{tabular}{l}\n",
       "\t 78\\\\\n",
       "\t 62\\\\\n",
       "\t 85\\\\\n",
       "\\end{tabular}\n"
      ],
      "text/markdown": [
       "1. 78\n",
       "2. 62\n",
       "3. 85\n",
       "\n",
       "\n"
      ],
      "text/plain": [
       "     [,1]\n",
       "[1,]   78\n",
       "[2,]   62\n",
       "[3,]   85"
      ]
     },
     "execution_count": 43,
     "metadata": {},
     "output_type": "execute_result"
    }
   ],
   "source": [
    "X %*% Y[, 4, drop=FALSE]"
   ]
  },
  {
   "cell_type": "markdown",
   "metadata": {},
   "source": [
    "将上述多列合并则得到完整的结果矩阵。"
   ]
  },
  {
   "cell_type": "code",
   "execution_count": 44,
   "metadata": {},
   "outputs": [
    {
     "data": {
      "text/html": [
       "<table>\n",
       "<tbody>\n",
       "\t<tr><td> 84</td><td>114</td><td> 80</td><td> 78</td></tr>\n",
       "\t<tr><td>72</td><td>92</td><td>55</td><td>62</td></tr>\n",
       "\t<tr><td>102</td><td>131</td><td> 88</td><td> 85</td></tr>\n",
       "</tbody>\n",
       "</table>\n"
      ],
      "text/latex": [
       "\\begin{tabular}{llll}\n",
       "\t  84 & 114 &  80 &  78\\\\\n",
       "\t 72 & 92 & 55 & 62\\\\\n",
       "\t 102 & 131 &  88 &  85\\\\\n",
       "\\end{tabular}\n"
      ],
      "text/markdown": [
       "1. 84\n",
       "2. 72\n",
       "3. 102\n",
       "4. 114\n",
       "5. 92\n",
       "6. 131\n",
       "7. 80\n",
       "8. 55\n",
       "9. 88\n",
       "10. 78\n",
       "11. 62\n",
       "12. 85\n",
       "\n",
       "\n"
      ],
      "text/plain": [
       "     [,1] [,2] [,3] [,4]\n",
       "[1,]   84  114   80   78\n",
       "[2,]   72   92   55   62\n",
       "[3,]  102  131   88   85"
      ]
     },
     "execution_count": 44,
     "metadata": {},
     "output_type": "execute_result"
    }
   ],
   "source": [
    "cbind(X %*% Y[, 1, drop=FALSE], \n",
    "      X %*% Y[, 2, drop=FALSE], \n",
    "      X %*% Y[, 3, drop=FALSE], \n",
    "      X %*% Y[, 4, drop=FALSE]\n",
    "     )"
   ]
  }
 ],
 "metadata": {
  "kernelspec": {
   "display_name": "R",
   "language": "R",
   "name": "r3.3"
  },
  "language_info": {
   "codemirror_mode": "r",
   "file_extension": ".r",
   "mimetype": "text/x-r-source",
   "name": "R",
   "pygments_lexer": "r",
   "version": "3.3.0"
  }
 },
 "nbformat": 4,
 "nbformat_minor": 1
}
