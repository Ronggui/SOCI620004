{
 "cells": [
  {
   "cell_type": "markdown",
   "metadata": {},
   "source": [
    "# 面板数据分析\n",
    "\n",
    "### 黄荣贵（复旦大学）"
   ]
  },
  {
   "cell_type": "code",
   "execution_count": 1,
   "metadata": {},
   "outputs": [
    {
     "name": "stderr",
     "output_type": "stream",
     "text": [
      "Warning message:\n",
      "“package ‘plm’ was built under R version 3.4.2”Loading required package: Formula\n",
      "Warning message:\n",
      "“package ‘Formula’ was built under R version 3.4.1”"
     ]
    }
   ],
   "source": [
    "library(plm)\n",
    "\n",
    "data(\"Produc\", package = \"plm\")"
   ]
  },
  {
   "cell_type": "code",
   "execution_count": 2,
   "metadata": {},
   "outputs": [
    {
     "data": {
      "text/html": [
       "<table>\n",
       "<thead><tr><th scope=col>state</th><th scope=col>year</th><th scope=col>region</th><th scope=col>pcap</th><th scope=col>hwy</th><th scope=col>water</th><th scope=col>util</th><th scope=col>pc</th><th scope=col>gsp</th><th scope=col>emp</th><th scope=col>unemp</th></tr></thead>\n",
       "<tbody>\n",
       "\t<tr><td>ALABAMA </td><td>1970    </td><td>6       </td><td>15032.67</td><td>7325.80 </td><td>1655.68 </td><td>6051.20 </td><td>35793.80</td><td>28418   </td><td>1010.5  </td><td>4.7     </td></tr>\n",
       "\t<tr><td>ALABAMA </td><td>1971    </td><td>6       </td><td>15501.94</td><td>7525.94 </td><td>1721.02 </td><td>6254.98 </td><td>37299.91</td><td>29375   </td><td>1021.9  </td><td>5.2     </td></tr>\n",
       "\t<tr><td>ALABAMA </td><td>1972    </td><td>6       </td><td>15972.41</td><td>7765.42 </td><td>1764.75 </td><td>6442.23 </td><td>38670.30</td><td>31303   </td><td>1072.3  </td><td>4.7     </td></tr>\n",
       "\t<tr><td>ALABAMA </td><td>1973    </td><td>6       </td><td>16406.26</td><td>7907.66 </td><td>1742.41 </td><td>6756.19 </td><td>40084.01</td><td>33430   </td><td>1135.5  </td><td>3.9     </td></tr>\n",
       "\t<tr><td>ALABAMA </td><td>1974    </td><td>6       </td><td>16762.67</td><td>8025.52 </td><td>1734.85 </td><td>7002.29 </td><td>42057.31</td><td>33749   </td><td>1169.8  </td><td>5.5     </td></tr>\n",
       "\t<tr><td>ALABAMA </td><td>1975    </td><td>6       </td><td>17316.26</td><td>8158.23 </td><td>1752.27 </td><td>7405.76 </td><td>43971.71</td><td>33604   </td><td>1155.4  </td><td>7.7     </td></tr>\n",
       "</tbody>\n",
       "</table>\n"
      ],
      "text/latex": [
       "\\begin{tabular}{r|lllllllllll}\n",
       " state & year & region & pcap & hwy & water & util & pc & gsp & emp & unemp\\\\\n",
       "\\hline\n",
       "\t ALABAMA  & 1970     & 6        & 15032.67 & 7325.80  & 1655.68  & 6051.20  & 35793.80 & 28418    & 1010.5   & 4.7     \\\\\n",
       "\t ALABAMA  & 1971     & 6        & 15501.94 & 7525.94  & 1721.02  & 6254.98  & 37299.91 & 29375    & 1021.9   & 5.2     \\\\\n",
       "\t ALABAMA  & 1972     & 6        & 15972.41 & 7765.42  & 1764.75  & 6442.23  & 38670.30 & 31303    & 1072.3   & 4.7     \\\\\n",
       "\t ALABAMA  & 1973     & 6        & 16406.26 & 7907.66  & 1742.41  & 6756.19  & 40084.01 & 33430    & 1135.5   & 3.9     \\\\\n",
       "\t ALABAMA  & 1974     & 6        & 16762.67 & 8025.52  & 1734.85  & 7002.29  & 42057.31 & 33749    & 1169.8   & 5.5     \\\\\n",
       "\t ALABAMA  & 1975     & 6        & 17316.26 & 8158.23  & 1752.27  & 7405.76  & 43971.71 & 33604    & 1155.4   & 7.7     \\\\\n",
       "\\end{tabular}\n"
      ],
      "text/markdown": [
       "\n",
       "state | year | region | pcap | hwy | water | util | pc | gsp | emp | unemp | \n",
       "|---|---|---|---|---|---|\n",
       "| ALABAMA  | 1970     | 6        | 15032.67 | 7325.80  | 1655.68  | 6051.20  | 35793.80 | 28418    | 1010.5   | 4.7      | \n",
       "| ALABAMA  | 1971     | 6        | 15501.94 | 7525.94  | 1721.02  | 6254.98  | 37299.91 | 29375    | 1021.9   | 5.2      | \n",
       "| ALABAMA  | 1972     | 6        | 15972.41 | 7765.42  | 1764.75  | 6442.23  | 38670.30 | 31303    | 1072.3   | 4.7      | \n",
       "| ALABAMA  | 1973     | 6        | 16406.26 | 7907.66  | 1742.41  | 6756.19  | 40084.01 | 33430    | 1135.5   | 3.9      | \n",
       "| ALABAMA  | 1974     | 6        | 16762.67 | 8025.52  | 1734.85  | 7002.29  | 42057.31 | 33749    | 1169.8   | 5.5      | \n",
       "| ALABAMA  | 1975     | 6        | 17316.26 | 8158.23  | 1752.27  | 7405.76  | 43971.71 | 33604    | 1155.4   | 7.7      | \n",
       "\n",
       "\n"
      ],
      "text/plain": [
       "  state   year region pcap     hwy     water   util    pc       gsp   emp   \n",
       "1 ALABAMA 1970 6      15032.67 7325.80 1655.68 6051.20 35793.80 28418 1010.5\n",
       "2 ALABAMA 1971 6      15501.94 7525.94 1721.02 6254.98 37299.91 29375 1021.9\n",
       "3 ALABAMA 1972 6      15972.41 7765.42 1764.75 6442.23 38670.30 31303 1072.3\n",
       "4 ALABAMA 1973 6      16406.26 7907.66 1742.41 6756.19 40084.01 33430 1135.5\n",
       "5 ALABAMA 1974 6      16762.67 8025.52 1734.85 7002.29 42057.31 33749 1169.8\n",
       "6 ALABAMA 1975 6      17316.26 8158.23 1752.27 7405.76 43971.71 33604 1155.4\n",
       "  unemp\n",
       "1 4.7  \n",
       "2 5.2  \n",
       "3 4.7  \n",
       "4 3.9  \n",
       "5 5.5  \n",
       "6 7.7  "
      ]
     },
     "metadata": {},
     "output_type": "display_data"
    }
   ],
   "source": [
    "head(Produc)"
   ]
  },
  {
   "cell_type": "code",
   "execution_count": 3,
   "metadata": {},
   "outputs": [
    {
     "data": {
      "text/plain": [
       "Pooling Model\n",
       "\n",
       "Call:\n",
       "plm(formula = log(gsp) ~ log(pcap) + log(pc) + log(emp) + unemp * \n",
       "    year, data = Produc, model = \"pooling\", index = c(\"state\", \n",
       "    \"year\"))\n",
       "\n",
       "Balanced Panel: n = 48, T = 17, N = 816\n",
       "\n",
       "Residuals:\n",
       "       Min.     1st Qu.      Median     3rd Qu.        Max. \n",
       "-0.21943352 -0.05567057  0.00020382  0.04889230  0.35147109 \n",
       "\n",
       "Coefficients:\n",
       "                  Estimate  Std. Error t-value  Pr(>|t|)    \n",
       "(Intercept)     1.4913e+00  7.6414e-02 19.5155 < 2.2e-16 ***\n",
       "log(pcap)       1.5550e-01  1.7076e-02  9.1065 < 2.2e-16 ***\n",
       "log(pc)         3.2208e-01  1.0530e-02 30.5885 < 2.2e-16 ***\n",
       "log(emp)        5.8155e-01  1.3654e-02 42.5925 < 2.2e-16 ***\n",
       "unemp           1.1557e-02  1.0910e-02  1.0594 0.2897614    \n",
       "year1971       -3.3900e-02  7.5241e-02 -0.4506 0.6524392    \n",
       "year1972       -2.6252e-02  7.3315e-02 -0.3581 0.7203868    \n",
       "year1973       -1.3976e-02  7.4582e-02 -0.1874 0.8513988    \n",
       "year1974       -1.3001e-02  7.2647e-02 -0.1790 0.8580107    \n",
       "year1975        4.9573e-02  7.2108e-02  0.6875 0.4919852    \n",
       "year1976       -5.8861e-02  7.3000e-02 -0.8063 0.4203080    \n",
       "year1977       -3.1134e-02  7.7165e-02 -0.4035 0.6867159    \n",
       "year1978        2.2901e-02  7.8670e-02  0.2911 0.7710482    \n",
       "year1979        7.5278e-02  7.6170e-02  0.9883 0.3233214    \n",
       "year1980        1.4708e-01  7.9354e-02  1.8535 0.0641899 .  \n",
       "year1981        1.5101e-01  7.3656e-02  2.0503 0.0406727 *  \n",
       "year1982        1.6236e-01  7.4383e-02  2.1828 0.0293486 *  \n",
       "year1983        1.5045e-01  7.1590e-02  2.1016 0.0359072 *  \n",
       "year1984        1.8658e-01  6.9376e-02  2.6895 0.0073096 ** \n",
       "year1985        2.3671e-01  7.1724e-02  3.3003 0.0010096 ** \n",
       "year1986        2.3458e-01  6.8045e-02  3.4474 0.0005964 ***\n",
       "unemp:year1971  4.5581e-03  1.4024e-02  0.3250 0.7452547    \n",
       "unemp:year1972  7.2447e-03  1.4164e-02  0.5115 0.6091449    \n",
       "unemp:year1973  9.7142e-03  1.5135e-02  0.6418 0.5211676    \n",
       "unemp:year1974 -1.1245e-04  1.3907e-02 -0.0081 0.9935509    \n",
       "unemp:year1975 -1.4692e-02  1.2273e-02 -1.1970 0.2316544    \n",
       "unemp:year1976  1.5575e-03  1.2766e-02  0.1220 0.9029249    \n",
       "unemp:year1977  6.9543e-05  1.3590e-02  0.0051 0.9959184    \n",
       "unemp:year1978 -4.9205e-03  1.4768e-02 -0.3332 0.7390838    \n",
       "unemp:year1979 -1.5281e-02  1.4458e-02 -1.0569 0.2908853    \n",
       "unemp:year1980 -2.8498e-02  1.3694e-02 -2.0810 0.0377578 *  \n",
       "unemp:year1981 -2.6569e-02  1.2722e-02 -2.0885 0.0370787 *  \n",
       "unemp:year1982 -2.6747e-02  1.2100e-02 -2.2104 0.0273664 *  \n",
       "unemp:year1983 -2.3870e-02  1.1908e-02 -2.0046 0.0453514 *  \n",
       "unemp:year1984 -2.7665e-02  1.2275e-02 -2.2538 0.0244842 *  \n",
       "unemp:year1985 -3.3927e-02  1.2601e-02 -2.6923 0.0072477 ** \n",
       "unemp:year1986 -3.2943e-02  1.2230e-02 -2.6937 0.0072175 ** \n",
       "---\n",
       "Signif. codes:  0 ‘***’ 0.001 ‘**’ 0.01 ‘*’ 0.05 ‘.’ 0.1 ‘ ’ 1\n",
       "\n",
       "Total Sum of Squares:    849.81\n",
       "Residual Sum of Squares: 5.5956\n",
       "R-Squared:      0.99342\n",
       "Adj. R-Squared: 0.99311\n",
       "F-statistic: 3264.7 on 36 and 779 DF, p-value: < 2.22e-16"
      ]
     },
     "metadata": {},
     "output_type": "display_data"
    }
   ],
   "source": [
    "# pooling\n",
    "pool.mod <- plm(log(gsp) ~ log(pcap) + log(pc) + log(emp) + unemp*year,\n",
    "                data = Produc, model = \"pooling\", index = c(\"state\",\"year\"))\n",
    "\n",
    "summary(pool.mod)"
   ]
  },
  {
   "cell_type": "code",
   "execution_count": 4,
   "metadata": {},
   "outputs": [
    {
     "data": {
      "text/plain": [
       "Oneway (individual) effect First-Difference Model\n",
       "\n",
       "Call:\n",
       "plm(formula = log(gsp) ~ log(pcap) + log(pc) + log(emp) + unemp, \n",
       "    data = Produc, model = \"fd\", index = c(\"state\", \"year\"))\n",
       "\n",
       "Balanced Panel: n = 48, T = 17, N = 816\n",
       "Observations used in estimation: 768\n",
       "\n",
       "Residuals:\n",
       "    Min.  1st Qu.   Median     Mean  3rd Qu.     Max. \n",
       "-0.07921 -0.00908  0.00447  0.00321  0.01654  0.10380 \n",
       "\n",
       "Coefficients:\n",
       "             Estimate  Std. Error t-value  Pr(>|t|)    \n",
       "log(pcap)  0.12347223  0.04440085  2.7809  0.005555 ** \n",
       "log(pc)    0.01838177  0.02294278  0.8012  0.423264    \n",
       "log(emp)   0.95943399  0.03435017 27.9310 < 2.2e-16 ***\n",
       "unemp     -0.00428020  0.00075677 -5.6559 2.192e-08 ***\n",
       "---\n",
       "Signif. codes:  0 ‘***’ 0.001 ‘**’ 0.01 ‘*’ 0.05 ‘.’ 0.1 ‘ ’ 1\n",
       "\n",
       "Total Sum of Squares:    1.0802\n",
       "Residual Sum of Squares: 0.35939\n",
       "R-Squared:      0.67909\n",
       "Adj. R-Squared: 0.67783\n",
       "F-statistic: 510.798 on 3 and 764 DF, p-value: < 2.22e-16"
      ]
     },
     "metadata": {},
     "output_type": "display_data"
    }
   ],
   "source": [
    "#  first-differences\n",
    "fd.mod <- plm(log(gsp) ~ log(pcap) + log(pc) + log(emp) + unemp, \n",
    "              data = Produc, model = \"fd\", index = c(\"state\",\"year\"))\n",
    "\n",
    "summary(fd.mod)"
   ]
  },
  {
   "cell_type": "code",
   "execution_count": 5,
   "metadata": {},
   "outputs": [
    {
     "data": {
      "text/plain": [
       "Oneway (individual) effect Within Model\n",
       "\n",
       "Call:\n",
       "plm(formula = log(gsp) ~ log(pcap) + log(pc) + log(emp) + unemp, \n",
       "    data = Produc, model = \"within\", index = c(\"state\", \"year\"))\n",
       "\n",
       "Balanced Panel: n = 48, T = 17, N = 816\n",
       "\n",
       "Residuals:\n",
       "     Min.   1st Qu.    Median   3rd Qu.      Max. \n",
       "-0.120456 -0.023741 -0.002041  0.018144  0.174718 \n",
       "\n",
       "Coefficients:\n",
       "             Estimate  Std. Error t-value  Pr(>|t|)    \n",
       "log(pcap) -0.02614965  0.02900158 -0.9017    0.3675    \n",
       "log(pc)    0.29200693  0.02511967 11.6246 < 2.2e-16 ***\n",
       "log(emp)   0.76815947  0.03009174 25.5273 < 2.2e-16 ***\n",
       "unemp     -0.00529774  0.00098873 -5.3582 1.114e-07 ***\n",
       "---\n",
       "Signif. codes:  0 ‘***’ 0.001 ‘**’ 0.01 ‘*’ 0.05 ‘.’ 0.1 ‘ ’ 1\n",
       "\n",
       "Total Sum of Squares:    18.941\n",
       "Residual Sum of Squares: 1.1112\n",
       "R-Squared:      0.94134\n",
       "Adj. R-Squared: 0.93742\n",
       "F-statistic: 3064.81 on 4 and 764 DF, p-value: < 2.22e-16"
      ]
     },
     "metadata": {},
     "output_type": "display_data"
    }
   ],
   "source": [
    "# fixed effect\n",
    "fixed.mod <- plm(log(gsp) ~ log(pcap) + log(pc) + log(emp) + unemp, model=\"within\", \n",
    "                 data = Produc, index = c(\"state\",\"year\"))\n",
    "\n",
    "summary(fixed.mod)"
   ]
  },
  {
   "cell_type": "code",
   "execution_count": 6,
   "metadata": {},
   "outputs": [
    {
     "data": {
      "text/plain": [
       "Oneway (individual) effect Random Effect Model \n",
       "   (Swamy-Arora's transformation)\n",
       "\n",
       "Call:\n",
       "plm(formula = log(gsp) ~ log(pcap) + log(pc) + log(emp) + unemp, \n",
       "    data = Produc, model = \"random\", index = c(\"state\", \"year\"))\n",
       "\n",
       "Balanced Panel: n = 48, T = 17, N = 816\n",
       "\n",
       "Effects:\n",
       "                   var  std.dev share\n",
       "idiosyncratic 0.001454 0.038137 0.175\n",
       "individual    0.006838 0.082691 0.825\n",
       "theta: 0.8888\n",
       "\n",
       "Residuals:\n",
       "      Min.    1st Qu.     Median    3rd Qu.       Max. \n",
       "-0.1067230 -0.0245520 -0.0023694  0.0217333  0.1996307 \n",
       "\n",
       "Coefficients:\n",
       "               Estimate  Std. Error t-value  Pr(>|t|)    \n",
       "(Intercept)  2.13541100  0.13346149 16.0002 < 2.2e-16 ***\n",
       "log(pcap)    0.00443859  0.02341732  0.1895    0.8497    \n",
       "log(pc)      0.31054843  0.01980475 15.6805 < 2.2e-16 ***\n",
       "log(emp)     0.72967053  0.02492022 29.2803 < 2.2e-16 ***\n",
       "unemp       -0.00617247  0.00090728 -6.8033 1.986e-11 ***\n",
       "---\n",
       "Signif. codes:  0 ‘***’ 0.001 ‘**’ 0.01 ‘*’ 0.05 ‘.’ 0.1 ‘ ’ 1\n",
       "\n",
       "Total Sum of Squares:    29.209\n",
       "Residual Sum of Squares: 1.1879\n",
       "R-Squared:      0.95933\n",
       "Adj. R-Squared: 0.95913\n",
       "F-statistic: 4782.77 on 4 and 811 DF, p-value: < 2.22e-16"
      ]
     },
     "metadata": {},
     "output_type": "display_data"
    }
   ],
   "source": [
    "# randome effect\n",
    "rand.mod <- plm(log(gsp) ~ log(pcap) + log(pc) + log(emp) + unemp, \n",
    "                data = Produc, model = \"random\", index = c(\"state\",\"year\"))\n",
    "\n",
    "summary(rand.mod)"
   ]
  },
  {
   "cell_type": "code",
   "execution_count": 7,
   "metadata": {},
   "outputs": [
    {
     "data": {
      "text/plain": [
       "\n",
       "\tHausman Test\n",
       "\n",
       "data:  log(gsp) ~ log(pcap) + log(pc) + log(emp) + unemp\n",
       "chisq = 9.5254, df = 4, p-value = 0.04923\n",
       "alternative hypothesis: one model is inconsistent\n"
      ]
     },
     "metadata": {},
     "output_type": "display_data"
    }
   ],
   "source": [
    "# hausman test\n",
    "phtest(fixed.mod, rand.mod)"
   ]
  },
  {
   "cell_type": "markdown",
   "metadata": {},
   "source": [
    "如果phtest检验结果显著，则表明应该使用固定效模型，否则优先使用随机效应模型"
   ]
  }
 ],
 "metadata": {
  "kernelspec": {
   "display_name": "R",
   "language": "R",
   "name": "r3.3"
  },
  "language_info": {
   "codemirror_mode": "r",
   "file_extension": ".r",
   "mimetype": "text/x-r-source",
   "name": "R",
   "pygments_lexer": "r",
   "version": "3.4.0"
  }
 },
 "nbformat": 4,
 "nbformat_minor": 2
}
