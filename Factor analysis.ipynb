{
 "cells": [
  {
   "cell_type": "markdown",
   "metadata": {},
   "source": [
    "# 因子分析\n",
    "\n",
    "黄荣贵（复旦大学社会学系）"
   ]
  },
  {
   "cell_type": "code",
   "execution_count": 4,
   "metadata": {},
   "outputs": [
    {
     "data": {
      "text/html": [
       "<ol class=list-inline>\n",
       "\t<li>'st1'</li>\n",
       "\t<li>'q34a'</li>\n",
       "\t<li>'q34b'</li>\n",
       "\t<li>'q35b'</li>\n",
       "\t<li>'q36b'</li>\n",
       "\t<li>'q18b'</li>\n",
       "\t<li>'q19'</li>\n",
       "\t<li>'q34c'</li>\n",
       "\t<li>'q34d'</li>\n",
       "\t<li>'q39b'</li>\n",
       "\t<li>'q511'</li>\n",
       "\t<li>'q516'</li>\n",
       "\t<li>'q50n'</li>\n",
       "\t<li>'q42an'</li>\n",
       "\t<li>'q42bn'</li>\n",
       "\t<li>'q45an'</li>\n",
       "\t<li>'q45bn'</li>\n",
       "\t<li>'q25an'</li>\n",
       "\t<li>'q57n'</li>\n",
       "\t<li>'q52n'</li>\n",
       "\t<li>'q54bn'</li>\n",
       "\t<li>'q467'</li>\n",
       "\t<li>'q468'</li>\n",
       "\t<li>'q469'</li>\n",
       "\t<li>'q4615'</li>\n",
       "\t<li>'q4621'</li>\n",
       "\t<li>'q461'</li>\n",
       "\t<li>'q462'</li>\n",
       "\t<li>'q463'</li>\n",
       "</ol>\n"
      ],
      "text/latex": [
       "\\begin{enumerate*}\n",
       "\\item 'st1'\n",
       "\\item 'q34a'\n",
       "\\item 'q34b'\n",
       "\\item 'q35b'\n",
       "\\item 'q36b'\n",
       "\\item 'q18b'\n",
       "\\item 'q19'\n",
       "\\item 'q34c'\n",
       "\\item 'q34d'\n",
       "\\item 'q39b'\n",
       "\\item 'q511'\n",
       "\\item 'q516'\n",
       "\\item 'q50n'\n",
       "\\item 'q42an'\n",
       "\\item 'q42bn'\n",
       "\\item 'q45an'\n",
       "\\item 'q45bn'\n",
       "\\item 'q25an'\n",
       "\\item 'q57n'\n",
       "\\item 'q52n'\n",
       "\\item 'q54bn'\n",
       "\\item 'q467'\n",
       "\\item 'q468'\n",
       "\\item 'q469'\n",
       "\\item 'q4615'\n",
       "\\item 'q4621'\n",
       "\\item 'q461'\n",
       "\\item 'q462'\n",
       "\\item 'q463'\n",
       "\\end{enumerate*}\n"
      ],
      "text/markdown": [
       "1. 'st1'\n",
       "2. 'q34a'\n",
       "3. 'q34b'\n",
       "4. 'q35b'\n",
       "5. 'q36b'\n",
       "6. 'q18b'\n",
       "7. 'q19'\n",
       "8. 'q34c'\n",
       "9. 'q34d'\n",
       "10. 'q39b'\n",
       "11. 'q511'\n",
       "12. 'q516'\n",
       "13. 'q50n'\n",
       "14. 'q42an'\n",
       "15. 'q42bn'\n",
       "16. 'q45an'\n",
       "17. 'q45bn'\n",
       "18. 'q25an'\n",
       "19. 'q57n'\n",
       "20. 'q52n'\n",
       "21. 'q54bn'\n",
       "22. 'q467'\n",
       "23. 'q468'\n",
       "24. 'q469'\n",
       "25. 'q4615'\n",
       "26. 'q4621'\n",
       "27. 'q461'\n",
       "28. 'q462'\n",
       "29. 'q463'\n",
       "\n",
       "\n"
      ],
      "text/plain": [
       " [1] \"st1\"   \"q34a\"  \"q34b\"  \"q35b\"  \"q36b\"  \"q18b\"  \"q19\"   \"q34c\"  \"q34d\" \n",
       "[10] \"q39b\"  \"q511\"  \"q516\"  \"q50n\"  \"q42an\" \"q42bn\" \"q45an\" \"q45bn\" \"q25an\"\n",
       "[19] \"q57n\"  \"q52n\"  \"q54bn\" \"q467\"  \"q468\"  \"q469\"  \"q4615\" \"q4621\" \"q461\" \n",
       "[28] \"q462\"  \"q463\" "
      ]
     },
     "metadata": {},
     "output_type": "display_data"
    }
   ],
   "source": [
    "load(\"data/GuiHuang2008.Rdata\")\n",
    "\n",
    "CSC = GuiHuang2008$Fsc\n",
    "\n",
    "names(CSC)"
   ]
  },
  {
   "cell_type": "markdown",
   "metadata": {},
   "source": [
    "### 使用最大似然估计进行因子分析\n",
    "\n",
    "通过比较不同因子数的模型来确定最终的因子数量"
   ]
  },
  {
   "cell_type": "code",
   "execution_count": 6,
   "metadata": {
    "scrolled": true
   },
   "outputs": [
    {
     "data": {
      "text/plain": [
       "\n",
       "Call:\n",
       "factanal(x = ~st1 + q34a + q34b + q35b + q36b + q461 + q462 +     q463 + q468 + q469 + q4621 + q467 + q4615 + q34c + q34d +     q18b + q19 + q39b + q42bn + q45an + q45bn + q50n + q57n +     q52n + q511 + q42an + q25an + q54bn + q516, factors = 5,     data = CSC)\n",
       "\n",
       "Uniquenesses:\n",
       "  st1  q34a  q34b  q35b  q36b  q461  q462  q463  q468  q469 q4621  q467 q4615 \n",
       "0.442 0.396 0.302 0.399 0.377 0.228 0.005 0.316 0.565 0.628 0.561 0.621 0.548 \n",
       " q34c  q34d  q18b   q19  q39b q42bn q45an q45bn  q50n  q57n  q52n  q511 q42an \n",
       "0.117 0.150 0.533 0.634 0.607 0.391 0.539 0.075 0.683 0.430 0.444 0.898 0.895 \n",
       "q25an q54bn  q516 \n",
       "0.476 0.639 0.835 \n",
       "\n",
       "Loadings:\n",
       "      Factor1 Factor2 Factor3 Factor4 Factor5\n",
       "st1            0.670   0.174   0.240  -0.120 \n",
       "q34a           0.772                         \n",
       "q34b           0.675   0.480                 \n",
       "q35b           0.592   0.466           0.148 \n",
       "q36b           0.748   0.213   0.103         \n",
       "q461   0.842   0.235                         \n",
       "q462   0.954   0.233  -0.158                 \n",
       "q463   0.789  -0.152                  -0.182 \n",
       "q468   0.430   0.241   0.328   0.129   0.261 \n",
       "q469   0.476   0.333           0.173         \n",
       "q4621  0.599  -0.103          -0.120   0.234 \n",
       "q467   0.201   0.117   0.477   0.117   0.290 \n",
       "q4615  0.445           0.399   0.157   0.264 \n",
       "q34c           0.433   0.833                 \n",
       "q34d  -0.159   0.173   0.885                 \n",
       "q18b   0.519  -0.413                  -0.165 \n",
       "q19    0.475  -0.297  -0.135   0.181         \n",
       "q39b   0.445  -0.264  -0.139          -0.325 \n",
       "q42bn                          0.681   0.366 \n",
       "q45an          0.131           0.651   0.103 \n",
       "q45bn  0.143           0.178   0.899  -0.252 \n",
       "q50n  -0.187  -0.177          -0.259   0.427 \n",
       "q57n           0.118   0.175           0.719 \n",
       "q52n                   0.311           0.664 \n",
       "q511           0.120           0.266         \n",
       "q42an -0.121           0.177   0.183   0.145 \n",
       "q25an -0.330   0.195   0.530   0.206   0.232 \n",
       "q54bn  0.134   0.181   0.497   0.228   0.108 \n",
       "q516   0.347           0.165          -0.125 \n",
       "\n",
       "               Factor1 Factor2 Factor3 Factor4 Factor5\n",
       "SS loadings      4.337   3.442   3.326   2.204   1.959\n",
       "Proportion Var   0.150   0.119   0.115   0.076   0.068\n",
       "Cumulative Var   0.150   0.268   0.383   0.459   0.526\n",
       "\n",
       "Test of the hypothesis that 5 factors are sufficient.\n",
       "The chi square statistic is 336.75 on 271 degrees of freedom.\n",
       "The p-value is 0.004 "
      ]
     },
     "metadata": {},
     "output_type": "display_data"
    }
   ],
   "source": [
    "factanal(~ st1 + q34a + q34b + q35b + q36b + \n",
    "         q461 + q462 + q463 + q468 + q469 +q4621 +\n",
    "         q467 + q4615 + q34c + q34d + \n",
    "         q18b + q19 + q39b + \n",
    "         q42bn + q45an + q45bn + \n",
    "         q50n + q57n + q52n +\n",
    "         q511 + q42an + q25an + q54bn + q516,\n",
    "         factors=5, data=CSC)"
   ]
  },
  {
   "cell_type": "code",
   "execution_count": 7,
   "metadata": {},
   "outputs": [
    {
     "data": {
      "text/plain": [
       "\n",
       "Call:\n",
       "factanal(x = ~st1 + q34a + q34b + q35b + q36b + q461 + q462 +     q463 + q468 + q469 + q4621 + q467 + q4615 + q34c + q34d +     q18b + q19 + q39b + q42bn + q45an + q45bn + q50n + q57n +     q52n + q511 + q42an + q25an + q54bn + q516, factors = 6,     data = CSC)\n",
       "\n",
       "Uniquenesses:\n",
       "  st1  q34a  q34b  q35b  q36b  q461  q462  q463  q468  q469 q4621  q467 q4615 \n",
       "0.428 0.365 0.223 0.414 0.348 0.226 0.005 0.295 0.550 0.548 0.586 0.583 0.577 \n",
       " q34c  q34d  q18b   q19  q39b q42bn q45an q45bn  q50n  q57n  q52n  q511 q42an \n",
       "0.119 0.161 0.005 0.507 0.519 0.355 0.454 0.120 0.648 0.242 0.499 0.877 0.890 \n",
       "q25an q54bn  q516 \n",
       "0.474 0.627 0.695 \n",
       "\n",
       "Loadings:\n",
       "      Factor1 Factor2 Factor3 Factor4 Factor5 Factor6\n",
       "st1    0.144   0.141   0.679           0.228  -0.106 \n",
       "q34a                   0.785  -0.127                 \n",
       "q34b           0.463   0.746                         \n",
       "q35b   0.217   0.465   0.532  -0.168                 \n",
       "q36b           0.187   0.759  -0.135                 \n",
       "q461   0.779           0.228   0.318  -0.104         \n",
       "q462   0.869  -0.200   0.215   0.379                 \n",
       "q463   0.586                   0.556          -0.170 \n",
       "q468   0.500   0.335   0.174           0.136   0.193 \n",
       "q469   0.595           0.203           0.207         \n",
       "q4621  0.565          -0.126   0.210  -0.115   0.146 \n",
       "q467   0.310   0.496                   0.131   0.223 \n",
       "q4615  0.407   0.377           0.212   0.139   0.226 \n",
       "q34c           0.819   0.429  -0.130                 \n",
       "q34d           0.880   0.179  -0.154                 \n",
       "q18b                  -0.189   0.957  -0.187         \n",
       "q19    0.207  -0.155  -0.153   0.614   0.126   0.100 \n",
       "q39b   0.168  -0.176  -0.112   0.582          -0.261 \n",
       "q42bn                                  0.709   0.351 \n",
       "q45an                         -0.157   0.710         \n",
       "q45bn          0.190           0.288   0.837  -0.239 \n",
       "q50n  -0.106          -0.218  -0.175  -0.228   0.459 \n",
       "q57n           0.195   0.159                   0.831 \n",
       "q52n   0.154   0.321                           0.598 \n",
       "q511                   0.109  -0.115   0.294         \n",
       "q42an          0.201                   0.189   0.131 \n",
       "q25an -0.206   0.558   0.170  -0.243   0.198   0.211 \n",
       "q54bn  0.145   0.504   0.194           0.206   0.109 \n",
       "q516   0.452   0.161  -0.149                  -0.207 \n",
       "\n",
       "               Factor1 Factor2 Factor3 Factor4 Factor5 Factor6\n",
       "SS loadings      3.374   3.368   3.175   2.636   2.231   1.878\n",
       "Proportion Var   0.116   0.116   0.109   0.091   0.077   0.065\n",
       "Cumulative Var   0.116   0.232   0.342   0.433   0.510   0.575\n",
       "\n",
       "Test of the hypothesis that 6 factors are sufficient.\n",
       "The chi square statistic is 286.09 on 247 degrees of freedom.\n",
       "The p-value is 0.0443 "
      ]
     },
     "metadata": {},
     "output_type": "display_data"
    }
   ],
   "source": [
    "factanal(~st1 + q34a + q34b + q35b + q36b + \n",
    "         q461 + q462 + q463 + q468 + q469 +q4621 +\n",
    "         q467 + q4615 + q34c + q34d + \n",
    "         q18b + q19 + q39b + \n",
    "         q42bn + q45an + q45bn + \n",
    "         q50n + q57n + q52n +\n",
    "         q511 + q42an + q25an + q54bn + q516,\n",
    "         factors=6, data=CSC)"
   ]
  },
  {
   "cell_type": "code",
   "execution_count": 5,
   "metadata": {},
   "outputs": [
    {
     "data": {
      "text/plain": [
       "\n",
       "Call:\n",
       "factanal(x = ~st1 + q34a + q34b + q35b + q36b + q461 + q462 +     q463 + q468 + q469 + q4621 + q467 + q4615 + q34c + q34d +     q18b + q19 + q39b + q42bn + q45an + q45bn + q50n + q57n +     q52n + q511 + q42an + q25an + q54bn + q516, factors = 7,     data = CSC)\n",
       "\n",
       "Uniquenesses:\n",
       "  st1  q34a  q34b  q35b  q36b  q461  q462  q463  q468  q469 q4621  q467 q4615 \n",
       "0.432 0.340 0.204 0.415 0.372 0.196 0.005 0.261 0.549 0.545 0.587 0.549 0.377 \n",
       " q34c  q34d  q18b   q19  q39b q42bn q45an q45bn  q50n  q57n  q52n  q511 q42an \n",
       "0.141 0.087 0.005 0.492 0.511 0.289 0.351 0.197 0.534 0.270 0.487 0.680 0.570 \n",
       "q25an q54bn  q516 \n",
       "0.324 0.549 0.519 \n",
       "\n",
       "Loadings:\n",
       "      Factor1 Factor2 Factor3 Factor4 Factor5 Factor6 Factor7\n",
       "st1    0.681   0.165                   0.158           0.175 \n",
       "q34a   0.786                  -0.142                  -0.140 \n",
       "q34b   0.805           0.346                           0.147 \n",
       "q35b   0.568   0.176   0.411  -0.164                   0.157 \n",
       "q36b   0.743           0.179  -0.153                         \n",
       "q461   0.193   0.827           0.274                         \n",
       "q462   0.170   0.904           0.318                  -0.185 \n",
       "q463           0.636           0.541          -0.155         \n",
       "q468   0.208   0.421   0.391           0.193   0.176  -0.100 \n",
       "q469   0.214   0.584   0.100  -0.100   0.173           0.114 \n",
       "q4621 -0.143   0.563   0.111   0.183           0.150         \n",
       "q467           0.201   0.563           0.175   0.203         \n",
       "q4615          0.318   0.560   0.162   0.247   0.200  -0.285 \n",
       "q34c   0.505           0.724                           0.250 \n",
       "q34d   0.245  -0.179   0.885  -0.128                   0.139 \n",
       "q18b  -0.187   0.134           0.954  -0.133          -0.114 \n",
       "q19   -0.193   0.254  -0.101   0.589   0.197                 \n",
       "q39b  -0.141   0.215  -0.125   0.568          -0.272  -0.107 \n",
       "q42bn                                  0.738   0.330   0.210 \n",
       "q45an                  0.136  -0.183   0.767                 \n",
       "q45bn                  0.149   0.271   0.755  -0.256   0.249 \n",
       "q50n  -0.224          -0.102  -0.149  -0.269   0.506   0.224 \n",
       "q57n   0.156           0.177                   0.816         \n",
       "q52n           0.104   0.348           0.124   0.595         \n",
       "q511   0.128                           0.182           0.498 \n",
       "q42an                                          0.178   0.625 \n",
       "q25an  0.234  -0.220   0.388  -0.194           0.241   0.571 \n",
       "q54bn  0.244   0.130   0.411           0.117   0.115   0.411 \n",
       "q516  -0.159   0.476   0.147                  -0.216   0.390 \n",
       "\n",
       "               Factor1 Factor2 Factor3 Factor4 Factor5 Factor6 Factor7\n",
       "SS loadings      3.464   3.424   3.028   2.432   2.123   1.893   1.801\n",
       "Proportion Var   0.119   0.118   0.104   0.084   0.073   0.065   0.062\n",
       "Cumulative Var   0.119   0.238   0.342   0.426   0.499   0.564   0.626\n",
       "\n",
       "Test of the hypothesis that 7 factors are sufficient.\n",
       "The chi square statistic is 237.12 on 224 degrees of freedom.\n",
       "The p-value is 0.261 "
      ]
     },
     "metadata": {},
     "output_type": "display_data"
    }
   ],
   "source": [
    "factanal(~st1 + q34a + q34b + q35b + q36b + \n",
    "         q461 + q462 + q463 + q468 + q469 +q4621 +\n",
    "         q467 + q4615 + q34c + q34d + \n",
    "         q18b + q19 + q39b + \n",
    "         q42bn + q45an + q45bn + \n",
    "         q50n + q57n + q52n +\n",
    "         q511 + q42an + q25an + q54bn + q516,\n",
    "         factors=7, data=CSC)"
   ]
  },
  {
   "cell_type": "markdown",
   "metadata": {},
   "source": [
    "通过简单相加计算各因子对应变量的取值"
   ]
  },
  {
   "cell_type": "code",
   "execution_count": 8,
   "metadata": {},
   "outputs": [],
   "source": [
    "CSC$F1 <- with(CSC, st1 + q34a + q34b + q35b + q36b)"
   ]
  },
  {
   "cell_type": "markdown",
   "metadata": {},
   "source": [
    "compute factor scores using regression method"
   ]
  },
  {
   "cell_type": "code",
   "execution_count": 14,
   "metadata": {},
   "outputs": [],
   "source": [
    "fam1 = factanal(~st1 + q34a + q34b + q35b + q36b + \n",
    "         q461 + q462 + q463 + q468 + q469 +q4621 +\n",
    "         q467 + q4615 + q34c + q34d + \n",
    "         q18b + q19 + q39b + \n",
    "         q42bn + q45an + q45bn + \n",
    "         q50n + q57n + q52n +\n",
    "         q511 + q42an + q25an + q54bn + q516,\n",
    "         factors=7, data=CSC,\n",
    "                score=\"regression\",\n",
    "                na.action=na.exclude)"
   ]
  },
  {
   "cell_type": "code",
   "execution_count": 15,
   "metadata": {},
   "outputs": [
    {
     "data": {
      "text/html": [
       "<table>\n",
       "<thead><tr><th></th><th scope=col>Factor1</th><th scope=col>Factor2</th><th scope=col>Factor3</th><th scope=col>Factor4</th><th scope=col>Factor5</th><th scope=col>Factor6</th><th scope=col>Factor7</th></tr></thead>\n",
       "<tbody>\n",
       "\t<tr><th scope=row>1</th><td> 0.3017597 </td><td> 2.04215352</td><td>-0.3482691 </td><td> 0.28722011</td><td> 1.6301046 </td><td> 0.1457525 </td><td> 0.7539039 </td></tr>\n",
       "\t<tr><th scope=row>2</th><td>-1.1037553 </td><td> 2.05827983</td><td>-0.2874146 </td><td>-0.73725014</td><td>-3.5644406 </td><td> 1.2139073 </td><td>-2.0245428 </td></tr>\n",
       "\t<tr><th scope=row>3</th><td> 0.8833915 </td><td>-1.59676295</td><td>-0.7922272 </td><td> 0.53131012</td><td> 0.2638491 </td><td>-0.9154511 </td><td>-0.6206264 </td></tr>\n",
       "\t<tr><th scope=row>4</th><td>-0.7602429 </td><td>-0.64195998</td><td> 0.5093196 </td><td> 0.03373962</td><td> 0.8454736 </td><td>-0.3062409 </td><td>-1.1194940 </td></tr>\n",
       "\t<tr><th scope=row>5</th><td>-0.4936209 </td><td> 0.08061677</td><td>-0.4800328 </td><td>-0.25677144</td><td> 0.6328250 </td><td>-1.7148408 </td><td>-0.5825947 </td></tr>\n",
       "\t<tr><th scope=row>6</th><td>-0.2948417 </td><td> 0.07865925</td><td>-0.6375411 </td><td>-0.66331030</td><td>-0.6605949 </td><td>-0.5186293 </td><td>-0.9317354 </td></tr>\n",
       "</tbody>\n",
       "</table>\n"
      ],
      "text/latex": [
       "\\begin{tabular}{r|lllllll}\n",
       "  & Factor1 & Factor2 & Factor3 & Factor4 & Factor5 & Factor6 & Factor7\\\\\n",
       "\\hline\n",
       "\t1 &  0.3017597  &  2.04215352 & -0.3482691  &  0.28722011 &  1.6301046  &  0.1457525  &  0.7539039 \\\\\n",
       "\t2 & -1.1037553  &  2.05827983 & -0.2874146  & -0.73725014 & -3.5644406  &  1.2139073  & -2.0245428 \\\\\n",
       "\t3 &  0.8833915  & -1.59676295 & -0.7922272  &  0.53131012 &  0.2638491  & -0.9154511  & -0.6206264 \\\\\n",
       "\t4 & -0.7602429  & -0.64195998 &  0.5093196  &  0.03373962 &  0.8454736  & -0.3062409  & -1.1194940 \\\\\n",
       "\t5 & -0.4936209  &  0.08061677 & -0.4800328  & -0.25677144 &  0.6328250  & -1.7148408  & -0.5825947 \\\\\n",
       "\t6 & -0.2948417  &  0.07865925 & -0.6375411  & -0.66331030 & -0.6605949  & -0.5186293  & -0.9317354 \\\\\n",
       "\\end{tabular}\n"
      ],
      "text/markdown": [
       "\n",
       "| <!--/--> | Factor1 | Factor2 | Factor3 | Factor4 | Factor5 | Factor6 | Factor7 | \n",
       "|---|---|---|---|---|---|\n",
       "| 1 |  0.3017597  |  2.04215352 | -0.3482691  |  0.28722011 |  1.6301046  |  0.1457525  |  0.7539039  | \n",
       "| 2 | -1.1037553  |  2.05827983 | -0.2874146  | -0.73725014 | -3.5644406  |  1.2139073  | -2.0245428  | \n",
       "| 3 |  0.8833915  | -1.59676295 | -0.7922272  |  0.53131012 |  0.2638491  | -0.9154511  | -0.6206264  | \n",
       "| 4 | -0.7602429  | -0.64195998 |  0.5093196  |  0.03373962 |  0.8454736  | -0.3062409  | -1.1194940  | \n",
       "| 5 | -0.4936209  |  0.08061677 | -0.4800328  | -0.25677144 |  0.6328250  | -1.7148408  | -0.5825947  | \n",
       "| 6 | -0.2948417  |  0.07865925 | -0.6375411  | -0.66331030 | -0.6605949  | -0.5186293  | -0.9317354  | \n",
       "\n",
       "\n"
      ],
      "text/plain": [
       "  Factor1    Factor2     Factor3    Factor4     Factor5    Factor6   \n",
       "1  0.3017597  2.04215352 -0.3482691  0.28722011  1.6301046  0.1457525\n",
       "2 -1.1037553  2.05827983 -0.2874146 -0.73725014 -3.5644406  1.2139073\n",
       "3  0.8833915 -1.59676295 -0.7922272  0.53131012  0.2638491 -0.9154511\n",
       "4 -0.7602429 -0.64195998  0.5093196  0.03373962  0.8454736 -0.3062409\n",
       "5 -0.4936209  0.08061677 -0.4800328 -0.25677144  0.6328250 -1.7148408\n",
       "6 -0.2948417  0.07865925 -0.6375411 -0.66331030 -0.6605949 -0.5186293\n",
       "  Factor7   \n",
       "1  0.7539039\n",
       "2 -2.0245428\n",
       "3 -0.6206264\n",
       "4 -1.1194940\n",
       "5 -0.5825947\n",
       "6 -0.9317354"
      ]
     },
     "metadata": {},
     "output_type": "display_data"
    }
   ],
   "source": [
    "head(fam1$scores)"
   ]
  },
  {
   "cell_type": "code",
   "execution_count": 19,
   "metadata": {},
   "outputs": [
    {
     "data": {
      "text/html": [
       "<table>\n",
       "<thead><tr><th scope=col>q463</th><th scope=col>F1</th><th scope=col>F2</th></tr></thead>\n",
       "<tbody>\n",
       "\t<tr><td>3.428571   </td><td> 0.3017597 </td><td> 2.04215352</td></tr>\n",
       "\t<tr><td>3.058824   </td><td>-1.1037553 </td><td> 2.05827983</td></tr>\n",
       "\t<tr><td>2.900000   </td><td> 0.8833915 </td><td>-1.59676295</td></tr>\n",
       "\t<tr><td>2.678571   </td><td>-0.7602429 </td><td>-0.64195998</td></tr>\n",
       "\t<tr><td>2.882353   </td><td>-0.4936209 </td><td> 0.08061677</td></tr>\n",
       "</tbody>\n",
       "</table>\n"
      ],
      "text/latex": [
       "\\begin{tabular}{r|lll}\n",
       " q463 & F1 & F2\\\\\n",
       "\\hline\n",
       "\t 3.428571    &  0.3017597  &  2.04215352\\\\\n",
       "\t 3.058824    & -1.1037553  &  2.05827983\\\\\n",
       "\t 2.900000    &  0.8833915  & -1.59676295\\\\\n",
       "\t 2.678571    & -0.7602429  & -0.64195998\\\\\n",
       "\t 2.882353    & -0.4936209  &  0.08061677\\\\\n",
       "\\end{tabular}\n"
      ],
      "text/markdown": [
       "\n",
       "q463 | F1 | F2 | \n",
       "|---|---|---|---|---|\n",
       "| 3.428571    |  0.3017597  |  2.04215352 | \n",
       "| 3.058824    | -1.1037553  |  2.05827983 | \n",
       "| 2.900000    |  0.8833915  | -1.59676295 | \n",
       "| 2.678571    | -0.7602429  | -0.64195998 | \n",
       "| 2.882353    | -0.4936209  |  0.08061677 | \n",
       "\n",
       "\n"
      ],
      "text/plain": [
       "  q463     F1         F2         \n",
       "1 3.428571  0.3017597  2.04215352\n",
       "2 3.058824 -1.1037553  2.05827983\n",
       "3 2.900000  0.8833915 -1.59676295\n",
       "4 2.678571 -0.7602429 -0.64195998\n",
       "5 2.882353 -0.4936209  0.08061677"
      ]
     },
     "metadata": {},
     "output_type": "display_data"
    }
   ],
   "source": [
    "CSC$F1 <- fam1$scores[,1]\n",
    "CSC$F2 <- fam1$scores[,2]\n",
    "\n",
    "CSC[1:5, 29:31]"
   ]
  },
  {
   "cell_type": "markdown",
   "metadata": {},
   "source": [
    "两点注意：\n",
    "1. 原始数据包含缺失值，因此增加na.action参数\n",
    "2. fam1$scores是矩阵，因此提取各因子得分时使用基于位置的索引"
   ]
  },
  {
   "cell_type": "markdown",
   "metadata": {},
   "source": [
    "###  信度分析"
   ]
  },
  {
   "cell_type": "code",
   "execution_count": 20,
   "metadata": {
    "scrolled": true
   },
   "outputs": [
    {
     "name": "stderr",
     "output_type": "stream",
     "text": [
      "Loading required package: MASS\n",
      "Loading required package: msm\n",
      "Loading required package: polycor\n"
     ]
    },
    {
     "data": {
      "text/plain": [
       "\n",
       "Standardized Cronbach's alpha for the 'CSC[, c(\"st1\", \"q34a\", \"q34b\", \"q35b\", \"q36b\")]' data-set\n",
       "\n",
       "Items: 5\n",
       "Sample units: 50\n",
       "alpha: 0.746\n"
      ]
     },
     "metadata": {},
     "output_type": "display_data"
    }
   ],
   "source": [
    "library(ltm)\n",
    "\n",
    "cronbach.alpha(CSC[,c('st1','q34a','q34b','q35b','q36b')], stand=TRUE) # 第一个因子"
   ]
  },
  {
   "cell_type": "code",
   "execution_count": 21,
   "metadata": {},
   "outputs": [
    {
     "data": {
      "text/plain": [
       "\n",
       "Cronbach's alpha for the 'CSC[, c(\"st1\", \"q34a\", \"q34b\", \"q35b\", \"q36b\")]' data-set\n",
       "\n",
       "Items: 5\n",
       "Sample units: 50\n",
       "alpha: 0.313\n"
      ]
     },
     "metadata": {},
     "output_type": "display_data"
    }
   ],
   "source": [
    "cronbach.alpha(CSC[,c('st1','q34a','q34b','q35b','q36b')], stand=FALSE) # 第一个因子"
   ]
  },
  {
   "cell_type": "markdown",
   "metadata": {},
   "source": [
    "### 使用psych程序包进行因子分析"
   ]
  },
  {
   "cell_type": "code",
   "execution_count": 23,
   "metadata": {},
   "outputs": [
    {
     "data": {
      "text/plain": [
       "Factor Analysis using method =  pa\n",
       "Call: fa(r = CSC[, c(\"st1\", \"q34a\", \"q34b\", \"q35b\", \"q36b\", \"q461\", \n",
       "    \"q462\", \"q463\", \"q468\", \"q469\", \"q4621\")], nfactors = 2, \n",
       "    rotate = \"varimax\", fm = \"pa\")\n",
       "Standardized loadings (pattern matrix) based upon correlation matrix\n",
       "        PA1   PA2    h2   u2 com\n",
       "st1    0.11  0.71 0.516 0.48 1.0\n",
       "q34a   0.02  0.75 0.567 0.43 1.0\n",
       "q34b  -0.09  0.13 0.024 0.98 1.8\n",
       "q35b   0.11  0.66 0.449 0.55 1.1\n",
       "q36b   0.03  0.84 0.708 0.29 1.0\n",
       "q461   0.83  0.11 0.704 0.30 1.0\n",
       "q462   0.94  0.08 0.896 0.10 1.0\n",
       "q463   0.77 -0.28 0.679 0.32 1.3\n",
       "q468   0.48  0.33 0.343 0.66 1.8\n",
       "q469   0.55  0.32 0.406 0.59 1.6\n",
       "q4621  0.64 -0.09 0.412 0.59 1.0\n",
       "\n",
       "                       PA1  PA2\n",
       "SS loadings           3.16 2.55\n",
       "Proportion Var        0.29 0.23\n",
       "Cumulative Var        0.29 0.52\n",
       "Proportion Explained  0.55 0.45\n",
       "Cumulative Proportion 0.55 1.00\n",
       "\n",
       "Mean item complexity =  1.2\n",
       "Test of the hypothesis that 2 factors are sufficient.\n",
       "\n",
       "The degrees of freedom for the null model are  55  and the objective function was  6.05 with Chi Square of  269.3\n",
       "The degrees of freedom for the model are 34  and the objective function was  1.09 \n",
       "\n",
       "The root mean square of the residuals (RMSR) is  0.07 \n",
       "The df corrected root mean square of the residuals is  0.08 \n",
       "\n",
       "The harmonic number of observations is  50 with the empirical chi square  23.75  with prob <  0.91 \n",
       "The total number of observations was  50  with Likelihood Chi Square =  47.12  with prob <  0.067 \n",
       "\n",
       "Tucker Lewis Index of factoring reliability =  0.897\n",
       "RMSEA index =  0.108  and the 90 % confidence intervals are  0 0.146\n",
       "BIC =  -85.89\n",
       "Fit based upon off diagonal values = 0.97\n",
       "Measures of factor score adequacy             \n",
       "                                                   PA1  PA2\n",
       "Correlation of (regression) scores with factors   0.97 0.93\n",
       "Multiple R square of scores with factors          0.94 0.86\n",
       "Minimum correlation of possible factor scores     0.88 0.72"
      ]
     },
     "metadata": {},
     "output_type": "display_data"
    }
   ],
   "source": [
    "library(psych)\n",
    "\n",
    "fam2pa <- fa(CSC[,c('st1', 'q34a', 'q34b', 'q35b', 'q36b',  \n",
    "                    'q461', 'q462', 'q463', 'q468', 'q469', 'q4621')],\n",
    "             nfactors=2, rotate=\"varimax\", fm=\"pa\")\n",
    "\n",
    "fam2pa"
   ]
  },
  {
   "cell_type": "code",
   "execution_count": 24,
   "metadata": {},
   "outputs": [
    {
     "data": {
      "text/plain": [
       "Factor Analysis using method =  minres\n",
       "Call: fa(r = CSC[, c(\"st1\", \"q34a\", \"q34b\", \"q35b\", \"q36b\", \"q461\", \n",
       "    \"q462\", \"q463\", \"q468\", \"q469\", \"q4621\")], nfactors = 2, \n",
       "    rotate = \"varimax\", fm = \"minres\")\n",
       "Standardized loadings (pattern matrix) based upon correlation matrix\n",
       "        MR1   MR2    h2   u2 com\n",
       "st1    0.11  0.71 0.516 0.48 1.0\n",
       "q34a   0.02  0.75 0.567 0.43 1.0\n",
       "q34b  -0.09  0.13 0.024 0.98 1.8\n",
       "q35b   0.11  0.66 0.449 0.55 1.1\n",
       "q36b   0.03  0.84 0.709 0.29 1.0\n",
       "q461   0.83  0.11 0.703 0.30 1.0\n",
       "q462   0.94  0.08 0.897 0.10 1.0\n",
       "q463   0.77 -0.28 0.679 0.32 1.3\n",
       "q468   0.48  0.33 0.343 0.66 1.8\n",
       "q469   0.55  0.32 0.406 0.59 1.6\n",
       "q4621  0.64 -0.09 0.412 0.59 1.0\n",
       "\n",
       "                       MR1  MR2\n",
       "SS loadings           3.16 2.55\n",
       "Proportion Var        0.29 0.23\n",
       "Cumulative Var        0.29 0.52\n",
       "Proportion Explained  0.55 0.45\n",
       "Cumulative Proportion 0.55 1.00\n",
       "\n",
       "Mean item complexity =  1.2\n",
       "Test of the hypothesis that 2 factors are sufficient.\n",
       "\n",
       "The degrees of freedom for the null model are  55  and the objective function was  6.05 with Chi Square of  269.3\n",
       "The degrees of freedom for the model are 34  and the objective function was  1.09 \n",
       "\n",
       "The root mean square of the residuals (RMSR) is  0.07 \n",
       "The df corrected root mean square of the residuals is  0.08 \n",
       "\n",
       "The harmonic number of observations is  50 with the empirical chi square  23.75  with prob <  0.91 \n",
       "The total number of observations was  50  with Likelihood Chi Square =  47.07  with prob <  0.067 \n",
       "\n",
       "Tucker Lewis Index of factoring reliability =  0.897\n",
       "RMSEA index =  0.108  and the 90 % confidence intervals are  0 0.145\n",
       "BIC =  -85.94\n",
       "Fit based upon off diagonal values = 0.97\n",
       "Measures of factor score adequacy             \n",
       "                                                   MR1  MR2\n",
       "Correlation of (regression) scores with factors   0.97 0.93\n",
       "Multiple R square of scores with factors          0.94 0.86\n",
       "Minimum correlation of possible factor scores     0.88 0.72"
      ]
     },
     "metadata": {},
     "output_type": "display_data"
    }
   ],
   "source": [
    "fam2minres <- fa(CSC[,c('st1', 'q34a', 'q34b', 'q35b', 'q36b',  \n",
    "                    'q461', 'q462', 'q463', 'q468', 'q469', 'q4621')],\n",
    "             nfactors=2, rotate=\"varimax\", fm=\"minres\")\n",
    "\n",
    "fam2minres"
   ]
  },
  {
   "cell_type": "markdown",
   "metadata": {},
   "source": [
    "通过平行分析确定因子数"
   ]
  },
  {
   "cell_type": "code",
   "execution_count": 25,
   "metadata": {},
   "outputs": [
    {
     "name": "stdout",
     "output_type": "stream",
     "text": [
      "Parallel analysis suggests that the number of factors =  2  and the number of components =  2 \n"
     ]
    },
    {
     "data": {
      "image/png": "[encoded data removed]",
      "text/plain": [
       "Plot with title “Parallel Analysis Scree Plots”"
      ]
     },
     "metadata": {},
     "output_type": "display_data"
    }
   ],
   "source": [
    "fa.parallel(CSC[,c('st1', 'q34a', 'q34b', 'q35b', 'q36b',  \n",
    "                    'q461', 'q462', 'q463', 'q468', 'q469', 'q4621')])"
   ]
  }
 ],
 "metadata": {
  "kernelspec": {
   "display_name": "R",
   "language": "R",
   "name": "ir"
  },
  "language_info": {
   "codemirror_mode": "r",
   "file_extension": ".r",
   "mimetype": "text/x-r-source",
   "name": "R",
   "pygments_lexer": "r",
   "version": "3.5.1"
  }
 },
 "nbformat": 4,
 "nbformat_minor": 2
}
