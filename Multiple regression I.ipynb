{
 "cells": [
  {
   "cell_type": "markdown",
   "metadata": {},
   "source": [
    "# 多元线性回归 I\n",
    "\n",
    "黄荣贵（复旦大学社会学系）\n"
   ]
  },
  {
   "cell_type": "code",
   "execution_count": 8,
   "metadata": {},
   "outputs": [
    {
     "data": {
      "text/plain": [
       "\n",
       "Call:\n",
       "lm(formula = prestige ~ income + education + type, data = Duncan)\n",
       "\n",
       "Residuals:\n",
       "    Min      1Q  Median      3Q     Max \n",
       "-14.890  -5.740  -1.754   5.442  28.972 \n",
       "\n",
       "Coefficients:\n",
       "             Estimate Std. Error t value Pr(>|t|)    \n",
       "(Intercept)  -0.18503    3.71377  -0.050  0.96051    \n",
       "income        0.59755    0.08936   6.687 5.12e-08 ***\n",
       "education     0.34532    0.11361   3.040  0.00416 ** \n",
       "typeprof     16.65751    6.99301   2.382  0.02206 *  \n",
       "typewc      -14.66113    6.10877  -2.400  0.02114 *  \n",
       "---\n",
       "Signif. codes:  0 ‘***’ 0.001 ‘**’ 0.01 ‘*’ 0.05 ‘.’ 0.1 ‘ ’ 1\n",
       "\n",
       "Residual standard error: 9.744 on 40 degrees of freedom\n",
       "Multiple R-squared:  0.9131,\tAdjusted R-squared:  0.9044 \n",
       "F-statistic:   105 on 4 and 40 DF,  p-value: < 2.2e-16\n"
      ]
     },
     "metadata": {},
     "output_type": "display_data"
    }
   ],
   "source": [
    "library(car)\n",
    "\n",
    "mod.duncan <- lm(prestige ~ income + education + type, data=Duncan)\n",
    "summary(mod.duncan)"
   ]
  },
  {
   "cell_type": "markdown",
   "metadata": {},
   "source": [
    "### 使用anova命令对嵌套模型进行检验\n",
    "\n",
    "注意是小写的anova命令"
   ]
  },
  {
   "cell_type": "code",
   "execution_count": 9,
   "metadata": {
    "scrolled": true
   },
   "outputs": [
    {
     "data": {
      "text/plain": [
       "\n",
       "Call:\n",
       "lm(formula = prestige ~ 1, data = Duncan)\n",
       "\n",
       "Residuals:\n",
       "    Min      1Q  Median      3Q     Max \n",
       "-44.689 -31.689  -6.689  33.311  49.311 \n",
       "\n",
       "Coefficients:\n",
       "            Estimate Std. Error t value Pr(>|t|)    \n",
       "(Intercept)   47.689      4.697   10.15 4.18e-13 ***\n",
       "---\n",
       "Signif. codes:  0 ‘***’ 0.001 ‘**’ 0.01 ‘*’ 0.05 ‘.’ 0.1 ‘ ’ 1\n",
       "\n",
       "Residual standard error: 31.51 on 44 degrees of freedom\n"
      ]
     },
     "metadata": {},
     "output_type": "display_data"
    }
   ],
   "source": [
    "mod.duncan.0 <- lm(prestige ~ 1, data=Duncan)\n",
    "\n",
    "summary(mod.duncan.0)"
   ]
  },
  {
   "cell_type": "code",
   "execution_count": 10,
   "metadata": {},
   "outputs": [
    {
     "data": {
      "text/html": [
       "<table>\n",
       "<caption>A anova: 2 × 6</caption>\n",
       "<thead>\n",
       "\t<tr><th scope=col>Res.Df</th><th scope=col>RSS</th><th scope=col>Df</th><th scope=col>Sum of Sq</th><th scope=col>F</th><th scope=col>Pr(&gt;F)</th></tr>\n",
       "\t<tr><th scope=col>&lt;dbl&gt;</th><th scope=col>&lt;dbl&gt;</th><th scope=col>&lt;dbl&gt;</th><th scope=col>&lt;dbl&gt;</th><th scope=col>&lt;dbl&gt;</th><th scope=col>&lt;dbl&gt;</th></tr>\n",
       "</thead>\n",
       "<tbody>\n",
       "\t<tr><td>44</td><td>43687.644</td><td>NA</td><td>      NA</td><td>      NA</td><td>          NA</td></tr>\n",
       "\t<tr><td>40</td><td> 3797.955</td><td> 4</td><td>39889.69</td><td>105.0294</td><td>1.170871e-20</td></tr>\n",
       "</tbody>\n",
       "</table>\n"
      ],
      "text/latex": [
       "A anova: 2 × 6\n",
       "\\begin{tabular}{r|llllll}\n",
       " Res.Df & RSS & Df & Sum of Sq & F & Pr(>F)\\\\\n",
       " <dbl> & <dbl> & <dbl> & <dbl> & <dbl> & <dbl>\\\\\n",
       "\\hline\n",
       "\t 44 & 43687.644 & NA &       NA &       NA &           NA\\\\\n",
       "\t 40 &  3797.955 &  4 & 39889.69 & 105.0294 & 1.170871e-20\\\\\n",
       "\\end{tabular}\n"
      ],
      "text/markdown": [
       "\n",
       "A anova: 2 × 6\n",
       "\n",
       "| Res.Df &lt;dbl&gt; | RSS &lt;dbl&gt; | Df &lt;dbl&gt; | Sum of Sq &lt;dbl&gt; | F &lt;dbl&gt; | Pr(&gt;F) &lt;dbl&gt; |\n",
       "|---|---|---|---|---|---|\n",
       "| 44 | 43687.644 | NA |       NA |       NA |           NA |\n",
       "| 40 |  3797.955 |  4 | 39889.69 | 105.0294 | 1.170871e-20 |\n",
       "\n"
      ],
      "text/plain": [
       "  Res.Df RSS       Df Sum of Sq F        Pr(>F)      \n",
       "1 44     43687.644 NA       NA        NA           NA\n",
       "2 40      3797.955  4 39889.69  105.0294 1.170871e-20"
      ]
     },
     "metadata": {},
     "output_type": "display_data"
    }
   ],
   "source": [
    "anova(mod.duncan.0, mod.duncan)"
   ]
  },
  {
   "cell_type": "code",
   "execution_count": 11,
   "metadata": {},
   "outputs": [
    {
     "name": "stdout",
     "output_type": "stream",
     "text": [
      "\n",
      "Call:\n",
      "lm(formula = prestige ~ income + education, data = Duncan)\n",
      "\n",
      "Residuals:\n",
      "    Min      1Q  Median      3Q     Max \n",
      "-29.538  -6.417   0.655   6.605  34.641 \n",
      "\n",
      "Coefficients:\n",
      "            Estimate Std. Error t value Pr(>|t|)    \n",
      "(Intercept) -6.06466    4.27194  -1.420    0.163    \n",
      "income       0.59873    0.11967   5.003 1.05e-05 ***\n",
      "education    0.54583    0.09825   5.555 1.73e-06 ***\n",
      "---\n",
      "Signif. codes:  0 ‘***’ 0.001 ‘**’ 0.01 ‘*’ 0.05 ‘.’ 0.1 ‘ ’ 1\n",
      "\n",
      "Residual standard error: 13.37 on 42 degrees of freedom\n",
      "Multiple R-squared:  0.8282,\tAdjusted R-squared:   0.82 \n",
      "F-statistic: 101.2 on 2 and 42 DF,  p-value: < 2.2e-16\n",
      "\n"
     ]
    },
    {
     "data": {
      "text/html": [
       "<table>\n",
       "<caption>A anova: 2 × 6</caption>\n",
       "<thead>\n",
       "\t<tr><th scope=col>Res.Df</th><th scope=col>RSS</th><th scope=col>Df</th><th scope=col>Sum of Sq</th><th scope=col>F</th><th scope=col>Pr(&gt;F)</th></tr>\n",
       "\t<tr><th scope=col>&lt;dbl&gt;</th><th scope=col>&lt;dbl&gt;</th><th scope=col>&lt;dbl&gt;</th><th scope=col>&lt;dbl&gt;</th><th scope=col>&lt;dbl&gt;</th><th scope=col>&lt;dbl&gt;</th></tr>\n",
       "</thead>\n",
       "<tbody>\n",
       "\t<tr><td>42</td><td>7506.699</td><td>NA</td><td>      NA</td><td>      NA</td><td>          NA</td></tr>\n",
       "\t<tr><td>40</td><td>3797.955</td><td> 2</td><td>3708.744</td><td>19.53022</td><td>1.207859e-06</td></tr>\n",
       "</tbody>\n",
       "</table>\n"
      ],
      "text/latex": [
       "A anova: 2 × 6\n",
       "\\begin{tabular}{r|llllll}\n",
       " Res.Df & RSS & Df & Sum of Sq & F & Pr(>F)\\\\\n",
       " <dbl> & <dbl> & <dbl> & <dbl> & <dbl> & <dbl>\\\\\n",
       "\\hline\n",
       "\t 42 & 7506.699 & NA &       NA &       NA &           NA\\\\\n",
       "\t 40 & 3797.955 &  2 & 3708.744 & 19.53022 & 1.207859e-06\\\\\n",
       "\\end{tabular}\n"
      ],
      "text/markdown": [
       "\n",
       "A anova: 2 × 6\n",
       "\n",
       "| Res.Df &lt;dbl&gt; | RSS &lt;dbl&gt; | Df &lt;dbl&gt; | Sum of Sq &lt;dbl&gt; | F &lt;dbl&gt; | Pr(&gt;F) &lt;dbl&gt; |\n",
       "|---|---|---|---|---|---|\n",
       "| 42 | 7506.699 | NA |       NA |       NA |           NA |\n",
       "| 40 | 3797.955 |  2 | 3708.744 | 19.53022 | 1.207859e-06 |\n",
       "\n"
      ],
      "text/plain": [
       "  Res.Df RSS      Df Sum of Sq F        Pr(>F)      \n",
       "1 42     7506.699 NA       NA        NA           NA\n",
       "2 40     3797.955  2 3708.744  19.53022 1.207859e-06"
      ]
     },
     "metadata": {},
     "output_type": "display_data"
    }
   ],
   "source": [
    "mod.duncan.0 <- lm(prestige ~ income + education, data=Duncan)\n",
    "\n",
    "print(summary(mod.duncan.0))\n",
    "\n",
    "anova(mod.duncan.0, mod.duncan)"
   ]
  },
  {
   "cell_type": "markdown",
   "metadata": {},
   "source": [
    "### 多元线性回归中的线性假设检验：linearHypothesis命令的应用\n"
   ]
  },
  {
   "cell_type": "code",
   "execution_count": 4,
   "metadata": {},
   "outputs": [
    {
     "data": {
      "text/html": [
       "<table>\n",
       "<thead><tr><th scope=col>Res.Df</th><th scope=col>RSS</th><th scope=col>Df</th><th scope=col>Sum of Sq</th><th scope=col>F</th><th scope=col>Pr(&gt;F)</th></tr></thead>\n",
       "<tbody>\n",
       "\t<tr><td>41       </td><td>4023.850 </td><td>NA       </td><td>     NA  </td><td>      NA </td><td>       NA</td></tr>\n",
       "\t<tr><td>40       </td><td>3797.955 </td><td> 1       </td><td>225.895  </td><td>2.379123 </td><td>0.1308417</td></tr>\n",
       "</tbody>\n",
       "</table>\n"
      ],
      "text/latex": [
       "\\begin{tabular}{r|llllll}\n",
       " Res.Df & RSS & Df & Sum of Sq & F & Pr(>F)\\\\\n",
       "\\hline\n",
       "\t 41        & 4023.850  & NA        &      NA   &       NA  &        NA\\\\\n",
       "\t 40        & 3797.955  &  1        & 225.895   & 2.379123  & 0.1308417\\\\\n",
       "\\end{tabular}\n"
      ],
      "text/markdown": [
       "\n",
       "Res.Df | RSS | Df | Sum of Sq | F | Pr(>F) | \n",
       "|---|---|\n",
       "| 41        | 4023.850  | NA        |      NA   |       NA  |        NA | \n",
       "| 40        | 3797.955  |  1        | 225.895   | 2.379123  | 0.1308417 | \n",
       "\n",
       "\n"
      ],
      "text/plain": [
       "  Res.Df RSS      Df Sum of Sq F        Pr(>F)   \n",
       "1 41     4023.850 NA      NA         NA        NA\n",
       "2 40     3797.955  1 225.895   2.379123 0.1308417"
      ]
     },
     "metadata": {},
     "output_type": "display_data"
    }
   ],
   "source": [
    "linearHypothesis(mod.duncan, \"income - education=0\")"
   ]
  },
  {
   "cell_type": "markdown",
   "metadata": {},
   "source": [
    "lht命令和linearHypothesis命令是等价的。"
   ]
  },
  {
   "cell_type": "code",
   "execution_count": 5,
   "metadata": {},
   "outputs": [
    {
     "data": {
      "text/html": [
       "<table>\n",
       "<thead><tr><th scope=col>Res.Df</th><th scope=col>RSS</th><th scope=col>Df</th><th scope=col>Sum of Sq</th><th scope=col>F</th><th scope=col>Pr(&gt;F)</th></tr></thead>\n",
       "<tbody>\n",
       "\t<tr><td>41       </td><td>4023.850 </td><td>NA       </td><td>     NA  </td><td>      NA </td><td>       NA</td></tr>\n",
       "\t<tr><td>40       </td><td>3797.955 </td><td> 1       </td><td>225.895  </td><td>2.379123 </td><td>0.1308417</td></tr>\n",
       "</tbody>\n",
       "</table>\n"
      ],
      "text/latex": [
       "\\begin{tabular}{r|llllll}\n",
       " Res.Df & RSS & Df & Sum of Sq & F & Pr(>F)\\\\\n",
       "\\hline\n",
       "\t 41        & 4023.850  & NA        &      NA   &       NA  &        NA\\\\\n",
       "\t 40        & 3797.955  &  1        & 225.895   & 2.379123  & 0.1308417\\\\\n",
       "\\end{tabular}\n"
      ],
      "text/markdown": [
       "\n",
       "Res.Df | RSS | Df | Sum of Sq | F | Pr(>F) | \n",
       "|---|---|\n",
       "| 41        | 4023.850  | NA        |      NA   |       NA  |        NA | \n",
       "| 40        | 3797.955  |  1        | 225.895   | 2.379123  | 0.1308417 | \n",
       "\n",
       "\n"
      ],
      "text/plain": [
       "  Res.Df RSS      Df Sum of Sq F        Pr(>F)   \n",
       "1 41     4023.850 NA      NA         NA        NA\n",
       "2 40     3797.955  1 225.895   2.379123 0.1308417"
      ]
     },
     "metadata": {},
     "output_type": "display_data"
    }
   ],
   "source": [
    "lht(mod.duncan, \"income - education=0\")"
   ]
  },
  {
   "cell_type": "code",
   "execution_count": 6,
   "metadata": {
    "scrolled": true
   },
   "outputs": [
    {
     "data": {
      "text/html": [
       "<table>\n",
       "<thead><tr><th scope=col>Res.Df</th><th scope=col>RSS</th><th scope=col>Df</th><th scope=col>Sum of Sq</th><th scope=col>F</th><th scope=col>Pr(&gt;F)</th></tr></thead>\n",
       "<tbody>\n",
       "\t<tr><td>41       </td><td>4023.850 </td><td>NA       </td><td>     NA  </td><td>      NA </td><td>       NA</td></tr>\n",
       "\t<tr><td>40       </td><td>3797.955 </td><td> 1       </td><td>225.895  </td><td>2.379123 </td><td>0.1308417</td></tr>\n",
       "</tbody>\n",
       "</table>\n"
      ],
      "text/latex": [
       "\\begin{tabular}{r|llllll}\n",
       " Res.Df & RSS & Df & Sum of Sq & F & Pr(>F)\\\\\n",
       "\\hline\n",
       "\t 41        & 4023.850  & NA        &      NA   &       NA  &        NA\\\\\n",
       "\t 40        & 3797.955  &  1        & 225.895   & 2.379123  & 0.1308417\\\\\n",
       "\\end{tabular}\n"
      ],
      "text/markdown": [
       "\n",
       "Res.Df | RSS | Df | Sum of Sq | F | Pr(>F) | \n",
       "|---|---|\n",
       "| 41        | 4023.850  | NA        |      NA   |       NA  |        NA | \n",
       "| 40        | 3797.955  |  1        | 225.895   | 2.379123  | 0.1308417 | \n",
       "\n",
       "\n"
      ],
      "text/plain": [
       "  Res.Df RSS      Df Sum of Sq F        Pr(>F)   \n",
       "1 41     4023.850 NA      NA         NA        NA\n",
       "2 40     3797.955  1 225.895   2.379123 0.1308417"
      ]
     },
     "metadata": {},
     "output_type": "display_data"
    }
   ],
   "source": [
    "linearHypothesis(mod.duncan, \"1*income - 1*education=0\")"
   ]
  },
  {
   "cell_type": "markdown",
   "metadata": {},
   "source": [
    "下面一组命令与上一行命令是等价的。"
   ]
  },
  {
   "cell_type": "code",
   "execution_count": 7,
   "metadata": {},
   "outputs": [
    {
     "data": {
      "text/html": [
       "<table>\n",
       "<tbody>\n",
       "\t<tr><td>0 </td><td>1 </td><td>-1</td><td>0 </td><td>0 </td></tr>\n",
       "</tbody>\n",
       "</table>\n"
      ],
      "text/latex": [
       "\\begin{tabular}{lllll}\n",
       "\t 0  & 1  & -1 & 0  & 0 \\\\\n",
       "\\end{tabular}\n"
      ],
      "text/markdown": [
       "\n",
       "| 0  | 1  | -1 | 0  | 0  | \n",
       "\n",
       "\n"
      ],
      "text/plain": [
       "     [,1] [,2] [,3] [,4] [,5]\n",
       "[1,] 0    1    -1   0    0   "
      ]
     },
     "metadata": {},
     "output_type": "display_data"
    }
   ],
   "source": [
    "hyp.m0 = matrix(c(0, 1, -1, 0, 0), byrow=T, ncol=5)\n",
    "hyp.m0"
   ]
  },
  {
   "cell_type": "markdown",
   "metadata": {},
   "source": [
    "假设对应的矩阵表达中，每一行对应一个假设，每一列对应一个系数。"
   ]
  },
  {
   "cell_type": "code",
   "execution_count": 8,
   "metadata": {},
   "outputs": [
    {
     "data": {
      "text/html": [
       "<table>\n",
       "<thead><tr><th scope=col>Res.Df</th><th scope=col>RSS</th><th scope=col>Df</th><th scope=col>Sum of Sq</th><th scope=col>F</th><th scope=col>Pr(&gt;F)</th></tr></thead>\n",
       "<tbody>\n",
       "\t<tr><td>41       </td><td>4023.850 </td><td>NA       </td><td>     NA  </td><td>      NA </td><td>       NA</td></tr>\n",
       "\t<tr><td>40       </td><td>3797.955 </td><td> 1       </td><td>225.895  </td><td>2.379123 </td><td>0.1308417</td></tr>\n",
       "</tbody>\n",
       "</table>\n"
      ],
      "text/latex": [
       "\\begin{tabular}{r|llllll}\n",
       " Res.Df & RSS & Df & Sum of Sq & F & Pr(>F)\\\\\n",
       "\\hline\n",
       "\t 41        & 4023.850  & NA        &      NA   &       NA  &        NA\\\\\n",
       "\t 40        & 3797.955  &  1        & 225.895   & 2.379123  & 0.1308417\\\\\n",
       "\\end{tabular}\n"
      ],
      "text/markdown": [
       "\n",
       "Res.Df | RSS | Df | Sum of Sq | F | Pr(>F) | \n",
       "|---|---|\n",
       "| 41        | 4023.850  | NA        |      NA   |       NA  |        NA | \n",
       "| 40        | 3797.955  |  1        | 225.895   | 2.379123  | 0.1308417 | \n",
       "\n",
       "\n"
      ],
      "text/plain": [
       "  Res.Df RSS      Df Sum of Sq F        Pr(>F)   \n",
       "1 41     4023.850 NA      NA         NA        NA\n",
       "2 40     3797.955  1 225.895   2.379123 0.1308417"
      ]
     },
     "metadata": {},
     "output_type": "display_data"
    }
   ],
   "source": [
    "linearHypothesis(mod.duncan, hyp.m0)"
   ]
  },
  {
   "cell_type": "markdown",
   "metadata": {},
   "source": [
    "当只有一个假设时，假设矩阵也可以简化为一个向量。"
   ]
  },
  {
   "cell_type": "code",
   "execution_count": 12,
   "metadata": {},
   "outputs": [
    {
     "data": {
      "text/html": [
       "<table>\n",
       "<thead><tr><th scope=col>Res.Df</th><th scope=col>RSS</th><th scope=col>Df</th><th scope=col>Sum of Sq</th><th scope=col>F</th><th scope=col>Pr(&gt;F)</th></tr></thead>\n",
       "<tbody>\n",
       "\t<tr><td>41       </td><td>4023.850 </td><td>NA       </td><td>     NA  </td><td>      NA </td><td>       NA</td></tr>\n",
       "\t<tr><td>40       </td><td>3797.955 </td><td> 1       </td><td>225.895  </td><td>2.379123 </td><td>0.1308417</td></tr>\n",
       "</tbody>\n",
       "</table>\n"
      ],
      "text/latex": [
       "\\begin{tabular}{r|llllll}\n",
       " Res.Df & RSS & Df & Sum of Sq & F & Pr(>F)\\\\\n",
       "\\hline\n",
       "\t 41        & 4023.850  & NA        &      NA   &       NA  &        NA\\\\\n",
       "\t 40        & 3797.955  &  1        & 225.895   & 2.379123  & 0.1308417\\\\\n",
       "\\end{tabular}\n"
      ],
      "text/markdown": [
       "\n",
       "Res.Df | RSS | Df | Sum of Sq | F | Pr(>F) | \n",
       "|---|---|\n",
       "| 41        | 4023.850  | NA        |      NA   |       NA  |        NA | \n",
       "| 40        | 3797.955  |  1        | 225.895   | 2.379123  | 0.1308417 | \n",
       "\n",
       "\n"
      ],
      "text/plain": [
       "  Res.Df RSS      Df Sum of Sq F        Pr(>F)   \n",
       "1 41     4023.850 NA      NA         NA        NA\n",
       "2 40     3797.955  1 225.895   2.379123 0.1308417"
      ]
     },
     "metadata": {},
     "output_type": "display_data"
    }
   ],
   "source": [
    "linearHypothesis(mod.duncan, c(0, 1, -1, 0, 0))"
   ]
  },
  {
   "cell_type": "markdown",
   "metadata": {},
   "source": [
    "F test: H0:除截距外，所有系数同时为0。"
   ]
  },
  {
   "cell_type": "code",
   "execution_count": 9,
   "metadata": {},
   "outputs": [
    {
     "data": {
      "text/html": [
       "<table>\n",
       "<tbody>\n",
       "\t<tr><td>0</td><td>1</td><td>0</td><td>0</td><td>0</td></tr>\n",
       "\t<tr><td>0</td><td>0</td><td>1</td><td>0</td><td>0</td></tr>\n",
       "\t<tr><td>0</td><td>0</td><td>0</td><td>1</td><td>0</td></tr>\n",
       "\t<tr><td>0</td><td>0</td><td>0</td><td>0</td><td>1</td></tr>\n",
       "</tbody>\n",
       "</table>\n"
      ],
      "text/latex": [
       "\\begin{tabular}{lllll}\n",
       "\t 0 & 1 & 0 & 0 & 0\\\\\n",
       "\t 0 & 0 & 1 & 0 & 0\\\\\n",
       "\t 0 & 0 & 0 & 1 & 0\\\\\n",
       "\t 0 & 0 & 0 & 0 & 1\\\\\n",
       "\\end{tabular}\n"
      ],
      "text/markdown": [
       "\n",
       "| 0 | 1 | 0 | 0 | 0 | \n",
       "| 0 | 0 | 1 | 0 | 0 | \n",
       "| 0 | 0 | 0 | 1 | 0 | \n",
       "| 0 | 0 | 0 | 0 | 1 | \n",
       "\n",
       "\n"
      ],
      "text/plain": [
       "     [,1] [,2] [,3] [,4] [,5]\n",
       "[1,] 0    1    0    0    0   \n",
       "[2,] 0    0    1    0    0   \n",
       "[3,] 0    0    0    1    0   \n",
       "[4,] 0    0    0    0    1   "
      ]
     },
     "metadata": {},
     "output_type": "display_data"
    }
   ],
   "source": [
    "hm = diag(5)\n",
    "\n",
    "hm = hm[2:5, ]\n",
    "hm"
   ]
  },
  {
   "cell_type": "code",
   "execution_count": 10,
   "metadata": {
    "scrolled": true
   },
   "outputs": [
    {
     "data": {
      "text/html": [
       "<table>\n",
       "<thead><tr><th scope=col>Res.Df</th><th scope=col>RSS</th><th scope=col>Df</th><th scope=col>Sum of Sq</th><th scope=col>F</th><th scope=col>Pr(&gt;F)</th></tr></thead>\n",
       "<tbody>\n",
       "\t<tr><td>44          </td><td>43687.644   </td><td>NA          </td><td>      NA    </td><td>      NA    </td><td>          NA</td></tr>\n",
       "\t<tr><td>40          </td><td> 3797.955   </td><td> 4          </td><td>39889.69    </td><td>105.0294    </td><td>1.170871e-20</td></tr>\n",
       "</tbody>\n",
       "</table>\n"
      ],
      "text/latex": [
       "\\begin{tabular}{r|llllll}\n",
       " Res.Df & RSS & Df & Sum of Sq & F & Pr(>F)\\\\\n",
       "\\hline\n",
       "\t 44           & 43687.644    & NA           &       NA     &       NA     &           NA\\\\\n",
       "\t 40           &  3797.955    &  4           & 39889.69     & 105.0294     & 1.170871e-20\\\\\n",
       "\\end{tabular}\n"
      ],
      "text/markdown": [
       "\n",
       "Res.Df | RSS | Df | Sum of Sq | F | Pr(>F) | \n",
       "|---|---|\n",
       "| 44           | 43687.644    | NA           |       NA     |       NA     |           NA | \n",
       "| 40           |  3797.955    |  4           | 39889.69     | 105.0294     | 1.170871e-20 | \n",
       "\n",
       "\n"
      ],
      "text/plain": [
       "  Res.Df RSS       Df Sum of Sq F        Pr(>F)      \n",
       "1 44     43687.644 NA       NA        NA           NA\n",
       "2 40      3797.955  4 39889.69  105.0294 1.170871e-20"
      ]
     },
     "metadata": {},
     "output_type": "display_data"
    }
   ],
   "source": [
    "linearHypothesis(mod.duncan, hm)"
   ]
  },
  {
   "cell_type": "markdown",
   "metadata": {},
   "source": [
    "### 导出回归结果"
   ]
  },
  {
   "cell_type": "code",
   "execution_count": 11,
   "metadata": {},
   "outputs": [
    {
     "name": "stderr",
     "output_type": "stream",
     "text": [
      "Exported table as multiple.ols.docx\n"
     ]
    },
    {
     "data": {
      "text/plain": [
       "type: flextable object.\n",
       "col_keys: `Estimate`, `Std..Error`, `t.value`, `Pr...t..` \n",
       "header has 1 row(s) \n",
       "body has 5 row(s) \n",
       "original dataset sample: \n",
       "            Estimate Std..Error t.value Pr...t..\n",
       "(Intercept)    -0.19       3.71   -0.05     0.96\n",
       "income          0.60       0.09    6.69    <0.01\n",
       "education       0.35       0.11    3.04    <0.01\n",
       "typeprof       16.66       6.99    2.38     0.02\n",
       "typewc        -14.66       6.11   -2.40     0.02"
      ]
     },
     "metadata": {},
     "output_type": "display_data"
    }
   ],
   "source": [
    "library(export)\n",
    "\n",
    "table2doc(summary(mod.duncan), file=\"multiple.ols.docx\")"
   ]
  }
 ],
 "metadata": {
  "kernelspec": {
   "display_name": "R",
   "language": "R",
   "name": "ir"
  },
  "language_info": {
   "codemirror_mode": "r",
   "file_extension": ".r",
   "mimetype": "text/x-r-source",
   "name": "R",
   "pygments_lexer": "r",
   "version": "3.6.1"
  }
 },
 "nbformat": 4,
 "nbformat_minor": 4
}
