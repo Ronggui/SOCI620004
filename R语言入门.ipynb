{
 "cells": [
  {
   "cell_type": "markdown",
   "metadata": {},
   "source": [
    "## R语言简介\n",
    "\n",
    "黄荣贵（复旦大学社会学系）"
   ]
  },
  {
   "cell_type": "markdown",
   "metadata": {},
   "source": [
    "简单运算"
   ]
  },
  {
   "cell_type": "code",
   "execution_count": 74,
   "metadata": {},
   "outputs": [
    {
     "data": {
      "text/html": [
       "3"
      ],
      "text/latex": [
       "3"
      ],
      "text/markdown": [
       "3"
      ],
      "text/plain": [
       "[1] 3"
      ]
     },
     "metadata": {},
     "output_type": "display_data"
    }
   ],
   "source": [
    "1 + 2"
   ]
  },
  {
   "cell_type": "markdown",
   "metadata": {},
   "source": [
    "$2^3$"
   ]
  },
  {
   "cell_type": "code",
   "execution_count": 75,
   "metadata": {},
   "outputs": [
    {
     "data": {
      "text/html": [
       "8"
      ],
      "text/latex": [
       "8"
      ],
      "text/markdown": [
       "8"
      ],
      "text/plain": [
       "[1] 8"
      ]
     },
     "metadata": {},
     "output_type": "display_data"
    }
   ],
   "source": [
    "2 ^ 3"
   ]
  },
  {
   "cell_type": "code",
   "execution_count": 76,
   "metadata": {},
   "outputs": [
    {
     "data": {
      "text/html": [
       "4"
      ],
      "text/latex": [
       "4"
      ],
      "text/markdown": [
       "4"
      ],
      "text/plain": [
       "[1] 4"
      ]
     },
     "metadata": {},
     "output_type": "display_data"
    }
   ],
   "source": [
    "1 - -3"
   ]
  },
  {
   "cell_type": "code",
   "execution_count": 77,
   "metadata": {},
   "outputs": [
    {
     "data": {
      "text/html": [
       "8"
      ],
      "text/latex": [
       "8"
      ],
      "text/markdown": [
       "8"
      ],
      "text/plain": [
       "[1] 8"
      ]
     },
     "metadata": {},
     "output_type": "display_data"
    }
   ],
   "source": [
    "2 * 4"
   ]
  },
  {
   "cell_type": "code",
   "execution_count": 78,
   "metadata": {},
   "outputs": [
    {
     "data": {
      "text/html": [
       "4.5"
      ],
      "text/latex": [
       "4.5"
      ],
      "text/markdown": [
       "4.5"
      ],
      "text/plain": [
       "[1] 4.5"
      ]
     },
     "metadata": {},
     "output_type": "display_data"
    }
   ],
   "source": [
    "9 / 2"
   ]
  },
  {
   "cell_type": "code",
   "execution_count": 79,
   "metadata": {},
   "outputs": [
    {
     "data": {
      "text/html": [
       "8"
      ],
      "text/latex": [
       "8"
      ],
      "text/markdown": [
       "8"
      ],
      "text/plain": [
       "[1] 8"
      ]
     },
     "metadata": {},
     "output_type": "display_data"
    }
   ],
   "source": [
    "2 * (1 + 3)"
   ]
  },
  {
   "cell_type": "code",
   "execution_count": 80,
   "metadata": {},
   "outputs": [
    {
     "data": {
      "text/html": [
       "5"
      ],
      "text/latex": [
       "5"
      ],
      "text/markdown": [
       "5"
      ],
      "text/plain": [
       "[1] 5"
      ]
     },
     "metadata": {},
     "output_type": "display_data"
    }
   ],
   "source": [
    "2 * 1 + 3"
   ]
  },
  {
   "cell_type": "markdown",
   "metadata": {},
   "source": [
    "调用函数"
   ]
  },
  {
   "cell_type": "code",
   "execution_count": 81,
   "metadata": {},
   "outputs": [
    {
     "data": {
      "text/html": [
       "3"
      ],
      "text/latex": [
       "3"
      ],
      "text/markdown": [
       "3"
      ],
      "text/plain": [
       "[1] 3"
      ]
     },
     "metadata": {},
     "output_type": "display_data"
    }
   ],
   "source": [
    "\"+\"(1, 2)"
   ]
  },
  {
   "cell_type": "code",
   "execution_count": 82,
   "metadata": {},
   "outputs": [
    {
     "data": {
      "text/html": [
       "2.71828182845905"
      ],
      "text/latex": [
       "2.71828182845905"
      ],
      "text/markdown": [
       "2.71828182845905"
      ],
      "text/plain": [
       "[1] 2.718282"
      ]
     },
     "metadata": {},
     "output_type": "display_data"
    }
   ],
   "source": [
    "exp(1)"
   ]
  },
  {
   "cell_type": "code",
   "execution_count": 83,
   "metadata": {},
   "outputs": [],
   "source": [
    "?log"
   ]
  },
  {
   "cell_type": "code",
   "execution_count": 84,
   "metadata": {},
   "outputs": [
    {
     "data": {
      "text/html": [
       "4.60517018598809"
      ],
      "text/latex": [
       "4.60517018598809"
      ],
      "text/markdown": [
       "4.60517018598809"
      ],
      "text/plain": [
       "[1] 4.60517"
      ]
     },
     "metadata": {},
     "output_type": "display_data"
    }
   ],
   "source": [
    "log(100)"
   ]
  },
  {
   "cell_type": "code",
   "execution_count": 85,
   "metadata": {},
   "outputs": [
    {
     "data": {
      "text/html": [
       "2"
      ],
      "text/latex": [
       "2"
      ],
      "text/markdown": [
       "2"
      ],
      "text/plain": [
       "[1] 2"
      ]
     },
     "metadata": {},
     "output_type": "display_data"
    }
   ],
   "source": [
    "log(100, 10)"
   ]
  },
  {
   "cell_type": "code",
   "execution_count": 86,
   "metadata": {},
   "outputs": [
    {
     "data": {
      "text/html": [
       "0.5"
      ],
      "text/latex": [
       "0.5"
      ],
      "text/markdown": [
       "0.5"
      ],
      "text/plain": [
       "[1] 0.5"
      ]
     },
     "metadata": {},
     "output_type": "display_data"
    }
   ],
   "source": [
    "log(10, 100)"
   ]
  },
  {
   "cell_type": "code",
   "execution_count": 87,
   "metadata": {},
   "outputs": [
    {
     "data": {
      "text/html": [
       "2"
      ],
      "text/latex": [
       "2"
      ],
      "text/markdown": [
       "2"
      ],
      "text/plain": [
       "[1] 2"
      ]
     },
     "metadata": {},
     "output_type": "display_data"
    }
   ],
   "source": [
    "log(x=100, base=10)"
   ]
  },
  {
   "cell_type": "code",
   "execution_count": 88,
   "metadata": {},
   "outputs": [
    {
     "data": {
      "text/html": [
       "2"
      ],
      "text/latex": [
       "2"
      ],
      "text/markdown": [
       "2"
      ],
      "text/plain": [
       "[1] 2"
      ]
     },
     "metadata": {},
     "output_type": "display_data"
    }
   ],
   "source": [
    "log(base=10, x=100)"
   ]
  },
  {
   "cell_type": "code",
   "execution_count": 89,
   "metadata": {},
   "outputs": [
    {
     "data": {
      "text/html": [
       "2"
      ],
      "text/latex": [
       "2"
      ],
      "text/markdown": [
       "2"
      ],
      "text/plain": [
       "[1] 2"
      ]
     },
     "metadata": {},
     "output_type": "display_data"
    }
   ],
   "source": [
    "log(100, base=10)"
   ]
  },
  {
   "cell_type": "code",
   "execution_count": 90,
   "metadata": {},
   "outputs": [
    {
     "data": {
      "text/html": [
       "2.23606797749979"
      ],
      "text/latex": [
       "2.23606797749979"
      ],
      "text/markdown": [
       "2.23606797749979"
      ],
      "text/plain": [
       "[1] 2.236068"
      ]
     },
     "metadata": {},
     "output_type": "display_data"
    }
   ],
   "source": [
    "sqrt(5)"
   ]
  },
  {
   "cell_type": "markdown",
   "metadata": {},
   "source": [
    "获得帮助文件"
   ]
  },
  {
   "cell_type": "code",
   "execution_count": 91,
   "metadata": {},
   "outputs": [],
   "source": [
    "?log"
   ]
  },
  {
   "cell_type": "markdown",
   "metadata": {},
   "source": [
    "常见数据类型"
   ]
  },
  {
   "cell_type": "code",
   "execution_count": 92,
   "metadata": {},
   "outputs": [
    {
     "data": {
      "text/html": [
       "1"
      ],
      "text/latex": [
       "1"
      ],
      "text/markdown": [
       "1"
      ],
      "text/plain": [
       "[1] 1"
      ]
     },
     "metadata": {},
     "output_type": "display_data"
    }
   ],
   "source": [
    "1"
   ]
  },
  {
   "cell_type": "code",
   "execution_count": 93,
   "metadata": {},
   "outputs": [
    {
     "data": {
      "text/html": [
       "0.333333333333333"
      ],
      "text/latex": [
       "0.333333333333333"
      ],
      "text/markdown": [
       "0.333333333333333"
      ],
      "text/plain": [
       "[1] 0.3333333"
      ]
     },
     "metadata": {},
     "output_type": "display_data"
    }
   ],
   "source": [
    "1/3"
   ]
  },
  {
   "cell_type": "code",
   "execution_count": 94,
   "metadata": {},
   "outputs": [
    {
     "data": {
      "text/html": [
       "'Male'"
      ],
      "text/latex": [
       "'Male'"
      ],
      "text/markdown": [
       "'Male'"
      ],
      "text/plain": [
       "[1] \"Male\""
      ]
     },
     "metadata": {},
     "output_type": "display_data"
    }
   ],
   "source": [
    "\"Male\""
   ]
  },
  {
   "cell_type": "code",
   "execution_count": 95,
   "metadata": {},
   "outputs": [
    {
     "data": {
      "text/html": [
       "'stat'"
      ],
      "text/latex": [
       "'stat'"
      ],
      "text/markdown": [
       "'stat'"
      ],
      "text/plain": [
       "[1] \"stat\""
      ]
     },
     "metadata": {},
     "output_type": "display_data"
    }
   ],
   "source": [
    "substring(\"statistics\", 1, 4)"
   ]
  },
  {
   "cell_type": "code",
   "execution_count": 96,
   "metadata": {},
   "outputs": [
    {
     "data": {
      "text/html": [
       "<ol class=list-inline>\n",
       "\t<li>'s'</li>\n",
       "\t<li>'t'</li>\n",
       "\t<li>'a'</li>\n",
       "\t<li>'t'</li>\n",
       "\t<li>'i'</li>\n",
       "\t<li>'s'</li>\n",
       "\t<li>'t'</li>\n",
       "\t<li>'i'</li>\n",
       "\t<li>'c'</li>\n",
       "\t<li>'s'</li>\n",
       "</ol>\n"
      ],
      "text/latex": [
       "\\begin{enumerate*}\n",
       "\\item 's'\n",
       "\\item 't'\n",
       "\\item 'a'\n",
       "\\item 't'\n",
       "\\item 'i'\n",
       "\\item 's'\n",
       "\\item 't'\n",
       "\\item 'i'\n",
       "\\item 'c'\n",
       "\\item 's'\n",
       "\\end{enumerate*}\n"
      ],
      "text/markdown": [
       "1. 's'\n",
       "2. 't'\n",
       "3. 'a'\n",
       "4. 't'\n",
       "5. 'i'\n",
       "6. 's'\n",
       "7. 't'\n",
       "8. 'i'\n",
       "9. 'c'\n",
       "10. 's'\n",
       "\n",
       "\n"
      ],
      "text/plain": [
       " [1] \"s\" \"t\" \"a\" \"t\" \"i\" \"s\" \"t\" \"i\" \"c\" \"s\""
      ]
     },
     "metadata": {},
     "output_type": "display_data"
    }
   ],
   "source": [
    "substring(\"statistics\", 1:10, 1:10)"
   ]
  },
  {
   "cell_type": "code",
   "execution_count": 97,
   "metadata": {},
   "outputs": [
    {
     "data": {
      "text/html": [
       "<ol class=list-inline>\n",
       "\t<li>'st'</li>\n",
       "\t<li>'ta'</li>\n",
       "\t<li>'at'</li>\n",
       "\t<li>'ti'</li>\n",
       "\t<li>'is'</li>\n",
       "\t<li>'st'</li>\n",
       "\t<li>'ti'</li>\n",
       "\t<li>'ic'</li>\n",
       "\t<li>'cs'</li>\n",
       "\t<li>'s'</li>\n",
       "</ol>\n"
      ],
      "text/latex": [
       "\\begin{enumerate*}\n",
       "\\item 'st'\n",
       "\\item 'ta'\n",
       "\\item 'at'\n",
       "\\item 'ti'\n",
       "\\item 'is'\n",
       "\\item 'st'\n",
       "\\item 'ti'\n",
       "\\item 'ic'\n",
       "\\item 'cs'\n",
       "\\item 's'\n",
       "\\end{enumerate*}\n"
      ],
      "text/markdown": [
       "1. 'st'\n",
       "2. 'ta'\n",
       "3. 'at'\n",
       "4. 'ti'\n",
       "5. 'is'\n",
       "6. 'st'\n",
       "7. 'ti'\n",
       "8. 'ic'\n",
       "9. 'cs'\n",
       "10. 's'\n",
       "\n",
       "\n"
      ],
      "text/plain": [
       " [1] \"st\" \"ta\" \"at\" \"ti\" \"is\" \"st\" \"ti\" \"ic\" \"cs\" \"s\" "
      ]
     },
     "metadata": {},
     "output_type": "display_data"
    }
   ],
   "source": [
    "substring(\"statistics\", 1:10, 2:11)"
   ]
  },
  {
   "cell_type": "code",
   "execution_count": 98,
   "metadata": {},
   "outputs": [
    {
     "data": {
      "text/html": [
       "'social statistics'"
      ],
      "text/latex": [
       "'social statistics'"
      ],
      "text/markdown": [
       "'social statistics'"
      ],
      "text/plain": [
       "[1] \"social statistics\""
      ]
     },
     "metadata": {},
     "output_type": "display_data"
    }
   ],
   "source": [
    "paste(\"social\", \"statistics\")"
   ]
  },
  {
   "cell_type": "code",
   "execution_count": 99,
   "metadata": {},
   "outputs": [
    {
     "data": {
      "text/html": [
       "'social_statistics'"
      ],
      "text/latex": [
       "'social\\_statistics'"
      ],
      "text/markdown": [
       "'social_statistics'"
      ],
      "text/plain": [
       "[1] \"social_statistics\""
      ]
     },
     "metadata": {},
     "output_type": "display_data"
    }
   ],
   "source": [
    "paste(\"social\", \"statistics\", sep=\"_\")"
   ]
  },
  {
   "cell_type": "code",
   "execution_count": 100,
   "metadata": {},
   "outputs": [
    {
     "data": {
      "text/html": [
       "<ol class=list-inline>\n",
       "\t<li>'a'</li>\n",
       "\t<li>'b'</li>\n",
       "\t<li>'c'</li>\n",
       "\t<li>'d'</li>\n",
       "\t<li>'e'</li>\n",
       "\t<li>'f'</li>\n",
       "\t<li>'g'</li>\n",
       "\t<li>'h'</li>\n",
       "\t<li>'i'</li>\n",
       "\t<li>'j'</li>\n",
       "\t<li>'k'</li>\n",
       "\t<li>'l'</li>\n",
       "\t<li>'m'</li>\n",
       "\t<li>'n'</li>\n",
       "\t<li>'o'</li>\n",
       "\t<li>'p'</li>\n",
       "\t<li>'q'</li>\n",
       "\t<li>'r'</li>\n",
       "\t<li>'s'</li>\n",
       "\t<li>'t'</li>\n",
       "\t<li>'u'</li>\n",
       "\t<li>'v'</li>\n",
       "\t<li>'w'</li>\n",
       "\t<li>'x'</li>\n",
       "\t<li>'y'</li>\n",
       "\t<li>'z'</li>\n",
       "</ol>\n"
      ],
      "text/latex": [
       "\\begin{enumerate*}\n",
       "\\item 'a'\n",
       "\\item 'b'\n",
       "\\item 'c'\n",
       "\\item 'd'\n",
       "\\item 'e'\n",
       "\\item 'f'\n",
       "\\item 'g'\n",
       "\\item 'h'\n",
       "\\item 'i'\n",
       "\\item 'j'\n",
       "\\item 'k'\n",
       "\\item 'l'\n",
       "\\item 'm'\n",
       "\\item 'n'\n",
       "\\item 'o'\n",
       "\\item 'p'\n",
       "\\item 'q'\n",
       "\\item 'r'\n",
       "\\item 's'\n",
       "\\item 't'\n",
       "\\item 'u'\n",
       "\\item 'v'\n",
       "\\item 'w'\n",
       "\\item 'x'\n",
       "\\item 'y'\n",
       "\\item 'z'\n",
       "\\end{enumerate*}\n"
      ],
      "text/markdown": [
       "1. 'a'\n",
       "2. 'b'\n",
       "3. 'c'\n",
       "4. 'd'\n",
       "5. 'e'\n",
       "6. 'f'\n",
       "7. 'g'\n",
       "8. 'h'\n",
       "9. 'i'\n",
       "10. 'j'\n",
       "11. 'k'\n",
       "12. 'l'\n",
       "13. 'm'\n",
       "14. 'n'\n",
       "15. 'o'\n",
       "16. 'p'\n",
       "17. 'q'\n",
       "18. 'r'\n",
       "19. 's'\n",
       "20. 't'\n",
       "21. 'u'\n",
       "22. 'v'\n",
       "23. 'w'\n",
       "24. 'x'\n",
       "25. 'y'\n",
       "26. 'z'\n",
       "\n",
       "\n"
      ],
      "text/plain": [
       " [1] \"a\" \"b\" \"c\" \"d\" \"e\" \"f\" \"g\" \"h\" \"i\" \"j\" \"k\" \"l\" \"m\" \"n\" \"o\" \"p\" \"q\" \"r\" \"s\"\n",
       "[20] \"t\" \"u\" \"v\" \"w\" \"x\" \"y\" \"z\""
      ]
     },
     "metadata": {},
     "output_type": "display_data"
    }
   ],
   "source": [
    "letters"
   ]
  },
  {
   "cell_type": "code",
   "execution_count": 101,
   "metadata": {},
   "outputs": [
    {
     "data": {
      "text/html": [
       "<ol class=list-inline>\n",
       "\t<li>'A'</li>\n",
       "\t<li>'B'</li>\n",
       "\t<li>'C'</li>\n",
       "\t<li>'D'</li>\n",
       "\t<li>'E'</li>\n",
       "\t<li>'F'</li>\n",
       "\t<li>'G'</li>\n",
       "\t<li>'H'</li>\n",
       "\t<li>'I'</li>\n",
       "\t<li>'J'</li>\n",
       "\t<li>'K'</li>\n",
       "\t<li>'L'</li>\n",
       "\t<li>'M'</li>\n",
       "\t<li>'N'</li>\n",
       "\t<li>'O'</li>\n",
       "\t<li>'P'</li>\n",
       "\t<li>'Q'</li>\n",
       "\t<li>'R'</li>\n",
       "\t<li>'S'</li>\n",
       "\t<li>'T'</li>\n",
       "\t<li>'U'</li>\n",
       "\t<li>'V'</li>\n",
       "\t<li>'W'</li>\n",
       "\t<li>'X'</li>\n",
       "\t<li>'Y'</li>\n",
       "\t<li>'Z'</li>\n",
       "</ol>\n"
      ],
      "text/latex": [
       "\\begin{enumerate*}\n",
       "\\item 'A'\n",
       "\\item 'B'\n",
       "\\item 'C'\n",
       "\\item 'D'\n",
       "\\item 'E'\n",
       "\\item 'F'\n",
       "\\item 'G'\n",
       "\\item 'H'\n",
       "\\item 'I'\n",
       "\\item 'J'\n",
       "\\item 'K'\n",
       "\\item 'L'\n",
       "\\item 'M'\n",
       "\\item 'N'\n",
       "\\item 'O'\n",
       "\\item 'P'\n",
       "\\item 'Q'\n",
       "\\item 'R'\n",
       "\\item 'S'\n",
       "\\item 'T'\n",
       "\\item 'U'\n",
       "\\item 'V'\n",
       "\\item 'W'\n",
       "\\item 'X'\n",
       "\\item 'Y'\n",
       "\\item 'Z'\n",
       "\\end{enumerate*}\n"
      ],
      "text/markdown": [
       "1. 'A'\n",
       "2. 'B'\n",
       "3. 'C'\n",
       "4. 'D'\n",
       "5. 'E'\n",
       "6. 'F'\n",
       "7. 'G'\n",
       "8. 'H'\n",
       "9. 'I'\n",
       "10. 'J'\n",
       "11. 'K'\n",
       "12. 'L'\n",
       "13. 'M'\n",
       "14. 'N'\n",
       "15. 'O'\n",
       "16. 'P'\n",
       "17. 'Q'\n",
       "18. 'R'\n",
       "19. 'S'\n",
       "20. 'T'\n",
       "21. 'U'\n",
       "22. 'V'\n",
       "23. 'W'\n",
       "24. 'X'\n",
       "25. 'Y'\n",
       "26. 'Z'\n",
       "\n",
       "\n"
      ],
      "text/plain": [
       " [1] \"A\" \"B\" \"C\" \"D\" \"E\" \"F\" \"G\" \"H\" \"I\" \"J\" \"K\" \"L\" \"M\" \"N\" \"O\" \"P\" \"Q\" \"R\" \"S\"\n",
       "[20] \"T\" \"U\" \"V\" \"W\" \"X\" \"Y\" \"Z\""
      ]
     },
     "metadata": {},
     "output_type": "display_data"
    }
   ],
   "source": [
    "LETTERS"
   ]
  },
  {
   "cell_type": "code",
   "execution_count": 102,
   "metadata": {},
   "outputs": [
    {
     "data": {
      "text/html": [
       "3.14159265358979"
      ],
      "text/latex": [
       "3.14159265358979"
      ],
      "text/markdown": [
       "3.14159265358979"
      ],
      "text/plain": [
       "[1] 3.141593"
      ]
     },
     "metadata": {},
     "output_type": "display_data"
    }
   ],
   "source": [
    "pi"
   ]
  },
  {
   "cell_type": "code",
   "execution_count": 103,
   "metadata": {},
   "outputs": [
    {
     "data": {
      "text/html": [
       "TRUE"
      ],
      "text/latex": [
       "TRUE"
      ],
      "text/markdown": [
       "TRUE"
      ],
      "text/plain": [
       "[1] TRUE"
      ]
     },
     "metadata": {},
     "output_type": "display_data"
    }
   ],
   "source": [
    "TRUE"
   ]
  },
  {
   "cell_type": "code",
   "execution_count": 104,
   "metadata": {},
   "outputs": [
    {
     "data": {
      "text/html": [
       "FALSE"
      ],
      "text/latex": [
       "FALSE"
      ],
      "text/markdown": [
       "FALSE"
      ],
      "text/plain": [
       "[1] FALSE"
      ]
     },
     "metadata": {},
     "output_type": "display_data"
    }
   ],
   "source": [
    "FALSE"
   ]
  },
  {
   "cell_type": "code",
   "execution_count": 105,
   "metadata": {},
   "outputs": [],
   "source": [
    "x <- c(1, 3, 5, 8)"
   ]
  },
  {
   "cell_type": "code",
   "execution_count": 106,
   "metadata": {},
   "outputs": [],
   "source": [
    "x = c(1, 3, 5, 8)"
   ]
  },
  {
   "cell_type": "code",
   "execution_count": 107,
   "metadata": {},
   "outputs": [
    {
     "name": "stdout",
     "output_type": "stream",
     "text": [
      "[1] 1 3 5 8\n"
     ]
    }
   ],
   "source": [
    "print(x)"
   ]
  },
  {
   "cell_type": "code",
   "execution_count": 108,
   "metadata": {},
   "outputs": [
    {
     "data": {
      "text/html": [
       "4"
      ],
      "text/latex": [
       "4"
      ],
      "text/markdown": [
       "4"
      ],
      "text/plain": [
       "[1] 4"
      ]
     },
     "metadata": {},
     "output_type": "display_data"
    }
   ],
   "source": [
    "length(x)"
   ]
  },
  {
   "cell_type": "code",
   "execution_count": 109,
   "metadata": {},
   "outputs": [],
   "source": [
    "y = c(2, 3, 5, 9)"
   ]
  },
  {
   "cell_type": "code",
   "execution_count": 110,
   "metadata": {},
   "outputs": [
    {
     "data": {
      "text/html": [
       "<ol class=list-inline>\n",
       "\t<li>3</li>\n",
       "\t<li>6</li>\n",
       "\t<li>10</li>\n",
       "\t<li>17</li>\n",
       "</ol>\n"
      ],
      "text/latex": [
       "\\begin{enumerate*}\n",
       "\\item 3\n",
       "\\item 6\n",
       "\\item 10\n",
       "\\item 17\n",
       "\\end{enumerate*}\n"
      ],
      "text/markdown": [
       "1. 3\n",
       "2. 6\n",
       "3. 10\n",
       "4. 17\n",
       "\n",
       "\n"
      ],
      "text/plain": [
       "[1]  3  6 10 17"
      ]
     },
     "metadata": {},
     "output_type": "display_data"
    }
   ],
   "source": [
    "x + y"
   ]
  },
  {
   "cell_type": "code",
   "execution_count": 111,
   "metadata": {},
   "outputs": [
    {
     "data": {
      "text/html": [
       "<ol class=list-inline>\n",
       "\t<li>0.5</li>\n",
       "\t<li>1.5</li>\n",
       "\t<li>2.5</li>\n",
       "\t<li>4</li>\n",
       "</ol>\n"
      ],
      "text/latex": [
       "\\begin{enumerate*}\n",
       "\\item 0.5\n",
       "\\item 1.5\n",
       "\\item 2.5\n",
       "\\item 4\n",
       "\\end{enumerate*}\n"
      ],
      "text/markdown": [
       "1. 0.5\n",
       "2. 1.5\n",
       "3. 2.5\n",
       "4. 4\n",
       "\n",
       "\n"
      ],
      "text/plain": [
       "[1] 0.5 1.5 2.5 4.0"
      ]
     },
     "metadata": {},
     "output_type": "display_data"
    }
   ],
   "source": [
    "x / 2"
   ]
  },
  {
   "cell_type": "code",
   "execution_count": 112,
   "metadata": {
    "scrolled": true
   },
   "outputs": [
    {
     "data": {
      "text/html": [
       "<ol class=list-inline>\n",
       "\t<li>TRUE</li>\n",
       "\t<li>TRUE</li>\n",
       "\t<li>FALSE</li>\n",
       "\t<li>FALSE</li>\n",
       "</ol>\n"
      ],
      "text/latex": [
       "\\begin{enumerate*}\n",
       "\\item TRUE\n",
       "\\item TRUE\n",
       "\\item FALSE\n",
       "\\item FALSE\n",
       "\\end{enumerate*}\n"
      ],
      "text/markdown": [
       "1. TRUE\n",
       "2. TRUE\n",
       "3. FALSE\n",
       "4. FALSE\n",
       "\n",
       "\n"
      ],
      "text/plain": [
       "[1]  TRUE  TRUE FALSE FALSE"
      ]
     },
     "metadata": {},
     "output_type": "display_data"
    }
   ],
   "source": [
    "x <= 3"
   ]
  },
  {
   "cell_type": "code",
   "execution_count": 113,
   "metadata": {},
   "outputs": [
    {
     "name": "stdout",
     "output_type": "stream",
     "text": [
      "[1] 1 3 5 8\n",
      "[1]  2  5  6 10\n"
     ]
    }
   ],
   "source": [
    "z = c(1, 2)\n",
    "\n",
    "print(x)\n",
    "\n",
    "print(x + z)"
   ]
  },
  {
   "cell_type": "code",
   "execution_count": 114,
   "metadata": {},
   "outputs": [
    {
     "name": "stdout",
     "output_type": "stream",
     "text": [
      "[1] 1 3 5 8\n"
     ]
    },
    {
     "name": "stderr",
     "output_type": "stream",
     "text": [
      "Warning message in x + z2:\n",
      "“longer object length is not a multiple of shorter object length”"
     ]
    },
    {
     "name": "stdout",
     "output_type": "stream",
     "text": [
      "[1] 2 5 8 9\n"
     ]
    }
   ],
   "source": [
    "z2 = c(1, 2, 3)\n",
    "\n",
    "print(x)\n",
    "\n",
    "print(x + z2)"
   ]
  },
  {
   "cell_type": "code",
   "execution_count": 115,
   "metadata": {},
   "outputs": [
    {
     "data": {
      "text/html": [
       "<ol class=list-inline>\n",
       "\t<li>1</li>\n",
       "\t<li>2</li>\n",
       "\t<li>3</li>\n",
       "\t<li>4</li>\n",
       "\t<li>5</li>\n",
       "</ol>\n"
      ],
      "text/latex": [
       "\\begin{enumerate*}\n",
       "\\item 1\n",
       "\\item 2\n",
       "\\item 3\n",
       "\\item 4\n",
       "\\item 5\n",
       "\\end{enumerate*}\n"
      ],
      "text/markdown": [
       "1. 1\n",
       "2. 2\n",
       "3. 3\n",
       "4. 4\n",
       "5. 5\n",
       "\n",
       "\n"
      ],
      "text/plain": [
       "[1] 1 2 3 4 5"
      ]
     },
     "metadata": {},
     "output_type": "display_data"
    }
   ],
   "source": [
    "seq(5)"
   ]
  },
  {
   "cell_type": "code",
   "execution_count": 116,
   "metadata": {},
   "outputs": [
    {
     "data": {
      "text/html": [
       "<ol class=list-inline>\n",
       "\t<li>1</li>\n",
       "\t<li>4</li>\n",
       "\t<li>7</li>\n",
       "\t<li>10</li>\n",
       "\t<li>13</li>\n",
       "\t<li>16</li>\n",
       "\t<li>19</li>\n",
       "</ol>\n"
      ],
      "text/latex": [
       "\\begin{enumerate*}\n",
       "\\item 1\n",
       "\\item 4\n",
       "\\item 7\n",
       "\\item 10\n",
       "\\item 13\n",
       "\\item 16\n",
       "\\item 19\n",
       "\\end{enumerate*}\n"
      ],
      "text/markdown": [
       "1. 1\n",
       "2. 4\n",
       "3. 7\n",
       "4. 10\n",
       "5. 13\n",
       "6. 16\n",
       "7. 19\n",
       "\n",
       "\n"
      ],
      "text/plain": [
       "[1]  1  4  7 10 13 16 19"
      ]
     },
     "metadata": {},
     "output_type": "display_data"
    }
   ],
   "source": [
    "seq(1, 20, 3)"
   ]
  },
  {
   "cell_type": "code",
   "execution_count": 117,
   "metadata": {},
   "outputs": [
    {
     "data": {
      "text/html": [
       "<ol class=list-inline>\n",
       "\t<li>1</li>\n",
       "\t<li>1.47368421052632</li>\n",
       "\t<li>1.94736842105263</li>\n",
       "\t<li>2.42105263157895</li>\n",
       "\t<li>2.89473684210526</li>\n",
       "\t<li>3.36842105263158</li>\n",
       "\t<li>3.84210526315789</li>\n",
       "\t<li>4.31578947368421</li>\n",
       "\t<li>4.78947368421053</li>\n",
       "\t<li>5.26315789473684</li>\n",
       "\t<li>5.73684210526316</li>\n",
       "\t<li>6.21052631578947</li>\n",
       "\t<li>6.68421052631579</li>\n",
       "\t<li>7.15789473684211</li>\n",
       "\t<li>7.63157894736842</li>\n",
       "\t<li>8.10526315789474</li>\n",
       "\t<li>8.57894736842105</li>\n",
       "\t<li>9.05263157894737</li>\n",
       "\t<li>9.52631578947368</li>\n",
       "\t<li>10</li>\n",
       "</ol>\n"
      ],
      "text/latex": [
       "\\begin{enumerate*}\n",
       "\\item 1\n",
       "\\item 1.47368421052632\n",
       "\\item 1.94736842105263\n",
       "\\item 2.42105263157895\n",
       "\\item 2.89473684210526\n",
       "\\item 3.36842105263158\n",
       "\\item 3.84210526315789\n",
       "\\item 4.31578947368421\n",
       "\\item 4.78947368421053\n",
       "\\item 5.26315789473684\n",
       "\\item 5.73684210526316\n",
       "\\item 6.21052631578947\n",
       "\\item 6.68421052631579\n",
       "\\item 7.15789473684211\n",
       "\\item 7.63157894736842\n",
       "\\item 8.10526315789474\n",
       "\\item 8.57894736842105\n",
       "\\item 9.05263157894737\n",
       "\\item 9.52631578947368\n",
       "\\item 10\n",
       "\\end{enumerate*}\n"
      ],
      "text/markdown": [
       "1. 1\n",
       "2. 1.47368421052632\n",
       "3. 1.94736842105263\n",
       "4. 2.42105263157895\n",
       "5. 2.89473684210526\n",
       "6. 3.36842105263158\n",
       "7. 3.84210526315789\n",
       "8. 4.31578947368421\n",
       "9. 4.78947368421053\n",
       "10. 5.26315789473684\n",
       "11. 5.73684210526316\n",
       "12. 6.21052631578947\n",
       "13. 6.68421052631579\n",
       "14. 7.15789473684211\n",
       "15. 7.63157894736842\n",
       "16. 8.10526315789474\n",
       "17. 8.57894736842105\n",
       "18. 9.05263157894737\n",
       "19. 9.52631578947368\n",
       "20. 10\n",
       "\n",
       "\n"
      ],
      "text/plain": [
       " [1]  1.000000  1.473684  1.947368  2.421053  2.894737  3.368421  3.842105\n",
       " [8]  4.315789  4.789474  5.263158  5.736842  6.210526  6.684211  7.157895\n",
       "[15]  7.631579  8.105263  8.578947  9.052632  9.526316 10.000000"
      ]
     },
     "metadata": {},
     "output_type": "display_data"
    }
   ],
   "source": [
    "seq(from = 1, to = 10, length.out = 20)"
   ]
  },
  {
   "cell_type": "markdown",
   "metadata": {},
   "source": [
    "1:10 == seq(1, 10)"
   ]
  },
  {
   "cell_type": "code",
   "execution_count": 118,
   "metadata": {},
   "outputs": [
    {
     "data": {
      "text/html": [
       "<ol class=list-inline>\n",
       "\t<li>1</li>\n",
       "\t<li>2</li>\n",
       "\t<li>3</li>\n",
       "\t<li>4</li>\n",
       "\t<li>5</li>\n",
       "\t<li>6</li>\n",
       "\t<li>7</li>\n",
       "\t<li>8</li>\n",
       "\t<li>9</li>\n",
       "\t<li>10</li>\n",
       "</ol>\n"
      ],
      "text/latex": [
       "\\begin{enumerate*}\n",
       "\\item 1\n",
       "\\item 2\n",
       "\\item 3\n",
       "\\item 4\n",
       "\\item 5\n",
       "\\item 6\n",
       "\\item 7\n",
       "\\item 8\n",
       "\\item 9\n",
       "\\item 10\n",
       "\\end{enumerate*}\n"
      ],
      "text/markdown": [
       "1. 1\n",
       "2. 2\n",
       "3. 3\n",
       "4. 4\n",
       "5. 5\n",
       "6. 6\n",
       "7. 7\n",
       "8. 8\n",
       "9. 9\n",
       "10. 10\n",
       "\n",
       "\n"
      ],
      "text/plain": [
       " [1]  1  2  3  4  5  6  7  8  9 10"
      ]
     },
     "metadata": {},
     "output_type": "display_data"
    }
   ],
   "source": [
    "1:10"
   ]
  },
  {
   "cell_type": "code",
   "execution_count": 119,
   "metadata": {},
   "outputs": [
    {
     "data": {
      "text/html": [
       "<ol class=list-inline>\n",
       "\t<li>1</li>\n",
       "\t<li>1</li>\n",
       "\t<li>1</li>\n",
       "\t<li>1</li>\n",
       "\t<li>1</li>\n",
       "</ol>\n"
      ],
      "text/latex": [
       "\\begin{enumerate*}\n",
       "\\item 1\n",
       "\\item 1\n",
       "\\item 1\n",
       "\\item 1\n",
       "\\item 1\n",
       "\\end{enumerate*}\n"
      ],
      "text/markdown": [
       "1. 1\n",
       "2. 1\n",
       "3. 1\n",
       "4. 1\n",
       "5. 1\n",
       "\n",
       "\n"
      ],
      "text/plain": [
       "[1] 1 1 1 1 1"
      ]
     },
     "metadata": {},
     "output_type": "display_data"
    }
   ],
   "source": [
    "rep(1, 5)"
   ]
  },
  {
   "cell_type": "code",
   "execution_count": 120,
   "metadata": {},
   "outputs": [
    {
     "data": {
      "text/html": [
       "<ol class=list-inline>\n",
       "\t<li>1</li>\n",
       "\t<li>2</li>\n",
       "\t<li>3</li>\n",
       "\t<li>1</li>\n",
       "\t<li>2</li>\n",
       "\t<li>3</li>\n",
       "\t<li>1</li>\n",
       "\t<li>2</li>\n",
       "\t<li>3</li>\n",
       "\t<li>1</li>\n",
       "\t<li>2</li>\n",
       "\t<li>3</li>\n",
       "\t<li>1</li>\n",
       "\t<li>2</li>\n",
       "\t<li>3</li>\n",
       "</ol>\n"
      ],
      "text/latex": [
       "\\begin{enumerate*}\n",
       "\\item 1\n",
       "\\item 2\n",
       "\\item 3\n",
       "\\item 1\n",
       "\\item 2\n",
       "\\item 3\n",
       "\\item 1\n",
       "\\item 2\n",
       "\\item 3\n",
       "\\item 1\n",
       "\\item 2\n",
       "\\item 3\n",
       "\\item 1\n",
       "\\item 2\n",
       "\\item 3\n",
       "\\end{enumerate*}\n"
      ],
      "text/markdown": [
       "1. 1\n",
       "2. 2\n",
       "3. 3\n",
       "4. 1\n",
       "5. 2\n",
       "6. 3\n",
       "7. 1\n",
       "8. 2\n",
       "9. 3\n",
       "10. 1\n",
       "11. 2\n",
       "12. 3\n",
       "13. 1\n",
       "14. 2\n",
       "15. 3\n",
       "\n",
       "\n"
      ],
      "text/plain": [
       " [1] 1 2 3 1 2 3 1 2 3 1 2 3 1 2 3"
      ]
     },
     "metadata": {},
     "output_type": "display_data"
    }
   ],
   "source": [
    "rep(c(1, 2, 3), 5)"
   ]
  },
  {
   "cell_type": "code",
   "execution_count": 121,
   "metadata": {},
   "outputs": [
    {
     "data": {
      "text/html": [
       "<ol class=list-inline>\n",
       "\t<li>1</li>\n",
       "\t<li>1</li>\n",
       "\t<li>1</li>\n",
       "\t<li>1</li>\n",
       "\t<li>1</li>\n",
       "\t<li>2</li>\n",
       "\t<li>2</li>\n",
       "\t<li>2</li>\n",
       "\t<li>2</li>\n",
       "\t<li>2</li>\n",
       "\t<li>3</li>\n",
       "\t<li>3</li>\n",
       "\t<li>3</li>\n",
       "\t<li>3</li>\n",
       "\t<li>3</li>\n",
       "</ol>\n"
      ],
      "text/latex": [
       "\\begin{enumerate*}\n",
       "\\item 1\n",
       "\\item 1\n",
       "\\item 1\n",
       "\\item 1\n",
       "\\item 1\n",
       "\\item 2\n",
       "\\item 2\n",
       "\\item 2\n",
       "\\item 2\n",
       "\\item 2\n",
       "\\item 3\n",
       "\\item 3\n",
       "\\item 3\n",
       "\\item 3\n",
       "\\item 3\n",
       "\\end{enumerate*}\n"
      ],
      "text/markdown": [
       "1. 1\n",
       "2. 1\n",
       "3. 1\n",
       "4. 1\n",
       "5. 1\n",
       "6. 2\n",
       "7. 2\n",
       "8. 2\n",
       "9. 2\n",
       "10. 2\n",
       "11. 3\n",
       "12. 3\n",
       "13. 3\n",
       "14. 3\n",
       "15. 3\n",
       "\n",
       "\n"
      ],
      "text/plain": [
       " [1] 1 1 1 1 1 2 2 2 2 2 3 3 3 3 3"
      ]
     },
     "metadata": {},
     "output_type": "display_data"
    }
   ],
   "source": [
    "rep(c(1, 2, 3), times=c(5, 5, 5))"
   ]
  },
  {
   "cell_type": "code",
   "execution_count": 122,
   "metadata": {},
   "outputs": [
    {
     "data": {
      "text/html": [
       "<ol class=list-inline>\n",
       "\t<li>1</li>\n",
       "\t<li>2</li>\n",
       "\t<li>2</li>\n",
       "\t<li>3</li>\n",
       "\t<li>3</li>\n",
       "\t<li>3</li>\n",
       "</ol>\n"
      ],
      "text/latex": [
       "\\begin{enumerate*}\n",
       "\\item 1\n",
       "\\item 2\n",
       "\\item 2\n",
       "\\item 3\n",
       "\\item 3\n",
       "\\item 3\n",
       "\\end{enumerate*}\n"
      ],
      "text/markdown": [
       "1. 1\n",
       "2. 2\n",
       "3. 2\n",
       "4. 3\n",
       "5. 3\n",
       "6. 3\n",
       "\n",
       "\n"
      ],
      "text/plain": [
       "[1] 1 2 2 3 3 3"
      ]
     },
     "metadata": {},
     "output_type": "display_data"
    }
   ],
   "source": [
    "rep(c(1, 2, 3), times=c(1, 2, 3))"
   ]
  },
  {
   "cell_type": "code",
   "execution_count": 123,
   "metadata": {},
   "outputs": [
    {
     "data": {
      "text/html": [
       "<ol class=list-inline>\n",
       "\t<li>1</li>\n",
       "\t<li>3</li>\n",
       "\t<li>5</li>\n",
       "\t<li>8</li>\n",
       "</ol>\n"
      ],
      "text/latex": [
       "\\begin{enumerate*}\n",
       "\\item 1\n",
       "\\item 3\n",
       "\\item 5\n",
       "\\item 8\n",
       "\\end{enumerate*}\n"
      ],
      "text/markdown": [
       "1. 1\n",
       "2. 3\n",
       "3. 5\n",
       "4. 8\n",
       "\n",
       "\n"
      ],
      "text/plain": [
       "[1] 1 3 5 8"
      ]
     },
     "metadata": {},
     "output_type": "display_data"
    }
   ],
   "source": [
    "x"
   ]
  },
  {
   "cell_type": "code",
   "execution_count": 124,
   "metadata": {},
   "outputs": [
    {
     "data": {
      "text/html": [
       "1"
      ],
      "text/latex": [
       "1"
      ],
      "text/markdown": [
       "1"
      ],
      "text/plain": [
       "[1] 1"
      ]
     },
     "metadata": {},
     "output_type": "display_data"
    }
   ],
   "source": [
    "x[1]"
   ]
  },
  {
   "cell_type": "code",
   "execution_count": 125,
   "metadata": {},
   "outputs": [
    {
     "data": {
      "text/html": [
       "8"
      ],
      "text/latex": [
       "8"
      ],
      "text/markdown": [
       "8"
      ],
      "text/plain": [
       "[1] 8"
      ]
     },
     "metadata": {},
     "output_type": "display_data"
    }
   ],
   "source": [
    "x[4]"
   ]
  },
  {
   "cell_type": "code",
   "execution_count": 126,
   "metadata": {},
   "outputs": [
    {
     "data": {
      "text/html": [
       "<ol class=list-inline>\n",
       "\t<li>1</li>\n",
       "\t<li>3</li>\n",
       "\t<li>5</li>\n",
       "</ol>\n"
      ],
      "text/latex": [
       "\\begin{enumerate*}\n",
       "\\item 1\n",
       "\\item 3\n",
       "\\item 5\n",
       "\\end{enumerate*}\n"
      ],
      "text/markdown": [
       "1. 1\n",
       "2. 3\n",
       "3. 5\n",
       "\n",
       "\n"
      ],
      "text/plain": [
       "[1] 1 3 5"
      ]
     },
     "metadata": {},
     "output_type": "display_data"
    }
   ],
   "source": [
    "x[1:3]"
   ]
  },
  {
   "cell_type": "code",
   "execution_count": 127,
   "metadata": {},
   "outputs": [
    {
     "data": {
      "text/html": [
       "<ol class=list-inline>\n",
       "\t<li>1</li>\n",
       "\t<li>5</li>\n",
       "</ol>\n"
      ],
      "text/latex": [
       "\\begin{enumerate*}\n",
       "\\item 1\n",
       "\\item 5\n",
       "\\end{enumerate*}\n"
      ],
      "text/markdown": [
       "1. 1\n",
       "2. 5\n",
       "\n",
       "\n"
      ],
      "text/plain": [
       "[1] 1 5"
      ]
     },
     "metadata": {},
     "output_type": "display_data"
    }
   ],
   "source": [
    "x[c(1, 3)]"
   ]
  },
  {
   "cell_type": "code",
   "execution_count": 128,
   "metadata": {},
   "outputs": [
    {
     "data": {
      "text/html": [
       "<ol class=list-inline>\n",
       "\t<li>TRUE</li>\n",
       "\t<li>TRUE</li>\n",
       "\t<li>FALSE</li>\n",
       "\t<li>FALSE</li>\n",
       "</ol>\n"
      ],
      "text/latex": [
       "\\begin{enumerate*}\n",
       "\\item TRUE\n",
       "\\item TRUE\n",
       "\\item FALSE\n",
       "\\item FALSE\n",
       "\\end{enumerate*}\n"
      ],
      "text/markdown": [
       "1. TRUE\n",
       "2. TRUE\n",
       "3. FALSE\n",
       "4. FALSE\n",
       "\n",
       "\n"
      ],
      "text/plain": [
       "[1]  TRUE  TRUE FALSE FALSE"
      ]
     },
     "metadata": {},
     "output_type": "display_data"
    }
   ],
   "source": [
    "x <= 3"
   ]
  },
  {
   "cell_type": "code",
   "execution_count": 129,
   "metadata": {
    "scrolled": true
   },
   "outputs": [
    {
     "data": {
      "text/html": [
       "<ol class=list-inline>\n",
       "\t<li>1</li>\n",
       "\t<li>3</li>\n",
       "</ol>\n"
      ],
      "text/latex": [
       "\\begin{enumerate*}\n",
       "\\item 1\n",
       "\\item 3\n",
       "\\end{enumerate*}\n"
      ],
      "text/markdown": [
       "1. 1\n",
       "2. 3\n",
       "\n",
       "\n"
      ],
      "text/plain": [
       "[1] 1 3"
      ]
     },
     "metadata": {},
     "output_type": "display_data"
    }
   ],
   "source": [
    "x[x<=3]"
   ]
  },
  {
   "cell_type": "markdown",
   "metadata": {},
   "source": [
    "负数索引表示删除"
   ]
  },
  {
   "cell_type": "code",
   "execution_count": 130,
   "metadata": {},
   "outputs": [
    {
     "data": {
      "text/html": [
       "<ol class=list-inline>\n",
       "\t<li>3</li>\n",
       "\t<li>5</li>\n",
       "\t<li>8</li>\n",
       "</ol>\n"
      ],
      "text/latex": [
       "\\begin{enumerate*}\n",
       "\\item 3\n",
       "\\item 5\n",
       "\\item 8\n",
       "\\end{enumerate*}\n"
      ],
      "text/markdown": [
       "1. 3\n",
       "2. 5\n",
       "3. 8\n",
       "\n",
       "\n"
      ],
      "text/plain": [
       "[1] 3 5 8"
      ]
     },
     "metadata": {},
     "output_type": "display_data"
    }
   ],
   "source": [
    "x[-1]"
   ]
  },
  {
   "cell_type": "code",
   "execution_count": 131,
   "metadata": {},
   "outputs": [
    {
     "data": {
      "text/html": [
       "<ol class=list-inline>\n",
       "\t<li>5</li>\n",
       "\t<li>8</li>\n",
       "</ol>\n"
      ],
      "text/latex": [
       "\\begin{enumerate*}\n",
       "\\item 5\n",
       "\\item 8\n",
       "\\end{enumerate*}\n"
      ],
      "text/markdown": [
       "1. 5\n",
       "2. 8\n",
       "\n",
       "\n"
      ],
      "text/plain": [
       "[1] 5 8"
      ]
     },
     "metadata": {},
     "output_type": "display_data"
    }
   ],
   "source": [
    "x[-c(1, 2)]"
   ]
  },
  {
   "cell_type": "code",
   "execution_count": 132,
   "metadata": {},
   "outputs": [
    {
     "data": {
      "text/html": [
       "<ol class=list-inline>\n",
       "\t<li>1</li>\n",
       "\t<li>&lt;NA&gt;</li>\n",
       "\t<li>5</li>\n",
       "\t<li>8</li>\n",
       "</ol>\n"
      ],
      "text/latex": [
       "\\begin{enumerate*}\n",
       "\\item 1\n",
       "\\item <NA>\n",
       "\\item 5\n",
       "\\item 8\n",
       "\\end{enumerate*}\n"
      ],
      "text/markdown": [
       "1. 1\n",
       "2. &lt;NA&gt;\n",
       "3. 5\n",
       "4. 8\n",
       "\n",
       "\n"
      ],
      "text/plain": [
       "[1]  1 NA  5  8"
      ]
     },
     "metadata": {},
     "output_type": "display_data"
    }
   ],
   "source": [
    "x[2] = NA\n",
    "\n",
    "x"
   ]
  },
  {
   "cell_type": "code",
   "execution_count": 133,
   "metadata": {},
   "outputs": [
    {
     "data": {
      "text/html": [
       "<ol class=list-inline>\n",
       "\t<li>FALSE</li>\n",
       "\t<li>TRUE</li>\n",
       "\t<li>FALSE</li>\n",
       "\t<li>FALSE</li>\n",
       "</ol>\n"
      ],
      "text/latex": [
       "\\begin{enumerate*}\n",
       "\\item FALSE\n",
       "\\item TRUE\n",
       "\\item FALSE\n",
       "\\item FALSE\n",
       "\\end{enumerate*}\n"
      ],
      "text/markdown": [
       "1. FALSE\n",
       "2. TRUE\n",
       "3. FALSE\n",
       "4. FALSE\n",
       "\n",
       "\n"
      ],
      "text/plain": [
       "[1] FALSE  TRUE FALSE FALSE"
      ]
     },
     "metadata": {},
     "output_type": "display_data"
    }
   ],
   "source": [
    "is.na(x)"
   ]
  },
  {
   "cell_type": "code",
   "execution_count": 134,
   "metadata": {},
   "outputs": [
    {
     "data": {
      "text/html": [
       "<ol class=list-inline>\n",
       "\t<li>TRUE</li>\n",
       "\t<li>FALSE</li>\n",
       "\t<li>TRUE</li>\n",
       "\t<li>TRUE</li>\n",
       "</ol>\n"
      ],
      "text/latex": [
       "\\begin{enumerate*}\n",
       "\\item TRUE\n",
       "\\item FALSE\n",
       "\\item TRUE\n",
       "\\item TRUE\n",
       "\\end{enumerate*}\n"
      ],
      "text/markdown": [
       "1. TRUE\n",
       "2. FALSE\n",
       "3. TRUE\n",
       "4. TRUE\n",
       "\n",
       "\n"
      ],
      "text/plain": [
       "[1]  TRUE FALSE  TRUE  TRUE"
      ]
     },
     "metadata": {},
     "output_type": "display_data"
    }
   ],
   "source": [
    "!is.na(x)"
   ]
  },
  {
   "cell_type": "code",
   "execution_count": 135,
   "metadata": {},
   "outputs": [
    {
     "data": {
      "text/html": [
       "<ol class=list-inline>\n",
       "\t<li>1</li>\n",
       "\t<li>5</li>\n",
       "\t<li>8</li>\n",
       "</ol>\n"
      ],
      "text/latex": [
       "\\begin{enumerate*}\n",
       "\\item 1\n",
       "\\item 5\n",
       "\\item 8\n",
       "\\end{enumerate*}\n"
      ],
      "text/markdown": [
       "1. 1\n",
       "2. 5\n",
       "3. 8\n",
       "\n",
       "\n"
      ],
      "text/plain": [
       "[1] 1 5 8"
      ]
     },
     "metadata": {},
     "output_type": "display_data"
    }
   ],
   "source": [
    "x[!is.na(x)]"
   ]
  },
  {
   "cell_type": "code",
   "execution_count": 136,
   "metadata": {},
   "outputs": [
    {
     "data": {
      "text/html": [
       "<ol class=list-inline>\n",
       "\t<li>&lt;NA&gt;</li>\n",
       "\t<li>&lt;NA&gt;</li>\n",
       "\t<li>&lt;NA&gt;</li>\n",
       "\t<li>&lt;NA&gt;</li>\n",
       "</ol>\n"
      ],
      "text/latex": [
       "\\begin{enumerate*}\n",
       "\\item <NA>\n",
       "\\item <NA>\n",
       "\\item <NA>\n",
       "\\item <NA>\n",
       "\\end{enumerate*}\n"
      ],
      "text/markdown": [
       "1. &lt;NA&gt;\n",
       "2. &lt;NA&gt;\n",
       "3. &lt;NA&gt;\n",
       "4. &lt;NA&gt;\n",
       "\n",
       "\n"
      ],
      "text/plain": [
       "[1] NA NA NA NA"
      ]
     },
     "metadata": {},
     "output_type": "display_data"
    }
   ],
   "source": [
    "x == NA"
   ]
  },
  {
   "cell_type": "code",
   "execution_count": 137,
   "metadata": {},
   "outputs": [
    {
     "data": {
      "text/html": [
       "<ol class=list-inline>\n",
       "\t<li>FALSE</li>\n",
       "\t<li>&lt;NA&gt;</li>\n",
       "\t<li>TRUE</li>\n",
       "\t<li>FALSE</li>\n",
       "</ol>\n"
      ],
      "text/latex": [
       "\\begin{enumerate*}\n",
       "\\item FALSE\n",
       "\\item <NA>\n",
       "\\item TRUE\n",
       "\\item FALSE\n",
       "\\end{enumerate*}\n"
      ],
      "text/markdown": [
       "1. FALSE\n",
       "2. &lt;NA&gt;\n",
       "3. TRUE\n",
       "4. FALSE\n",
       "\n",
       "\n"
      ],
      "text/plain": [
       "[1] FALSE    NA  TRUE FALSE"
      ]
     },
     "metadata": {},
     "output_type": "display_data"
    }
   ],
   "source": [
    "x == 5"
   ]
  },
  {
   "cell_type": "markdown",
   "metadata": {},
   "source": [
    "因子"
   ]
  },
  {
   "cell_type": "code",
   "execution_count": 138,
   "metadata": {},
   "outputs": [
    {
     "name": "stdout",
     "output_type": "stream",
     "text": [
      " [1] \"male\"   \"male\"   \"male\"   \"male\"   \"male\"   \"male\"   \"male\"   \"male\"  \n",
      " [9] \"female\" \"female\" \"female\" \"female\" \"female\" \"female\" \"female\" \"female\"\n"
     ]
    }
   ],
   "source": [
    "gender <- rep(c(\"male\", \"female\"), each = 8)\n",
    "\n",
    "print(gender)"
   ]
  },
  {
   "cell_type": "code",
   "execution_count": 139,
   "metadata": {},
   "outputs": [
    {
     "data": {
      "text/html": [
       "'character'"
      ],
      "text/latex": [
       "'character'"
      ],
      "text/markdown": [
       "'character'"
      ],
      "text/plain": [
       "[1] \"character\""
      ]
     },
     "metadata": {},
     "output_type": "display_data"
    }
   ],
   "source": [
    "class(gender)"
   ]
  },
  {
   "cell_type": "code",
   "execution_count": 140,
   "metadata": {},
   "outputs": [
    {
     "data": {
      "text/html": [
       "'factor'"
      ],
      "text/latex": [
       "'factor'"
      ],
      "text/markdown": [
       "'factor'"
      ],
      "text/plain": [
       "[1] \"factor\""
      ]
     },
     "metadata": {},
     "output_type": "display_data"
    }
   ],
   "source": [
    "genderf = factor(gender)\n",
    "\n",
    "class(genderf)"
   ]
  },
  {
   "cell_type": "code",
   "execution_count": 141,
   "metadata": {},
   "outputs": [
    {
     "data": {
      "text/html": [
       "<ol class=list-inline>\n",
       "\t<li>'female'</li>\n",
       "\t<li>'male'</li>\n",
       "</ol>\n"
      ],
      "text/latex": [
       "\\begin{enumerate*}\n",
       "\\item 'female'\n",
       "\\item 'male'\n",
       "\\end{enumerate*}\n"
      ],
      "text/markdown": [
       "1. 'female'\n",
       "2. 'male'\n",
       "\n",
       "\n"
      ],
      "text/plain": [
       "[1] \"female\" \"male\"  "
      ]
     },
     "metadata": {},
     "output_type": "display_data"
    }
   ],
   "source": [
    "levels(genderf)"
   ]
  },
  {
   "cell_type": "code",
   "execution_count": 142,
   "metadata": {},
   "outputs": [
    {
     "data": {
      "text/plain": [
       "   Length     Class      Mode \n",
       "       16 character character "
      ]
     },
     "metadata": {},
     "output_type": "display_data"
    }
   ],
   "source": [
    "summary(gender)"
   ]
  },
  {
   "cell_type": "code",
   "execution_count": 143,
   "metadata": {},
   "outputs": [
    {
     "data": {
      "text/html": [
       "<dl class=dl-horizontal>\n",
       "\t<dt>female</dt>\n",
       "\t\t<dd>8</dd>\n",
       "\t<dt>male</dt>\n",
       "\t\t<dd>8</dd>\n",
       "</dl>\n"
      ],
      "text/latex": [
       "\\begin{description*}\n",
       "\\item[female] 8\n",
       "\\item[male] 8\n",
       "\\end{description*}\n"
      ],
      "text/markdown": [
       "female\n",
       ":   8male\n",
       ":   8\n",
       "\n"
      ],
      "text/plain": [
       "female   male \n",
       "     8      8 "
      ]
     },
     "metadata": {},
     "output_type": "display_data"
    }
   ],
   "source": [
    "summary(genderf)"
   ]
  },
  {
   "cell_type": "code",
   "execution_count": 144,
   "metadata": {
    "scrolled": true
   },
   "outputs": [
    {
     "data": {
      "text/html": [
       "<ol class=list-inline>\n",
       "\t<li>a </li>\n",
       "\t<li>a</li>\n",
       "\t<li>b</li>\n",
       "</ol>\n",
       "\n",
       "<details>\n",
       "\t<summary style=display:list-item;cursor:pointer>\n",
       "\t\t<strong>Levels</strong>:\n",
       "\t</summary>\n",
       "\t<ol class=list-inline>\n",
       "\t\t<li>'a'</li>\n",
       "\t\t<li>'a '</li>\n",
       "\t\t<li>'b'</li>\n",
       "\t</ol>\n",
       "</details>"
      ],
      "text/latex": [
       "\\begin{enumerate*}\n",
       "\\item a \n",
       "\\item a\n",
       "\\item b\n",
       "\\end{enumerate*}\n",
       "\n",
       "\\emph{Levels}: \\begin{enumerate*}\n",
       "\\item 'a'\n",
       "\\item 'a '\n",
       "\\item 'b'\n",
       "\\end{enumerate*}\n"
      ],
      "text/markdown": [
       "1. a \n",
       "2. a\n",
       "3. b\n",
       "\n",
       "\n",
       "\n",
       "**Levels**: 1. 'a'\n",
       "2. 'a '\n",
       "3. 'b'\n",
       "\n",
       "\n"
      ],
      "text/plain": [
       "[1] a  a  b \n",
       "Levels: a a  b"
      ]
     },
     "metadata": {},
     "output_type": "display_data"
    }
   ],
   "source": [
    "factor( c(\"a \", \"a\", \"b\"))"
   ]
  },
  {
   "cell_type": "code",
   "execution_count": 145,
   "metadata": {
    "scrolled": true
   },
   "outputs": [
    {
     "data": {
      "text/html": [
       "<ol class=list-inline>\n",
       "\t<li>a</li>\n",
       "\t<li>a</li>\n",
       "\t<li>b</li>\n",
       "\t<li>c</li>\n",
       "</ol>\n",
       "\n",
       "<details>\n",
       "\t<summary style=display:list-item;cursor:pointer>\n",
       "\t\t<strong>Levels</strong>:\n",
       "\t</summary>\n",
       "\t<ol class=list-inline>\n",
       "\t\t<li>'a'</li>\n",
       "\t\t<li>'b'</li>\n",
       "\t\t<li>'c'</li>\n",
       "\t</ol>\n",
       "</details>"
      ],
      "text/latex": [
       "\\begin{enumerate*}\n",
       "\\item a\n",
       "\\item a\n",
       "\\item b\n",
       "\\item c\n",
       "\\end{enumerate*}\n",
       "\n",
       "\\emph{Levels}: \\begin{enumerate*}\n",
       "\\item 'a'\n",
       "\\item 'b'\n",
       "\\item 'c'\n",
       "\\end{enumerate*}\n"
      ],
      "text/markdown": [
       "1. a\n",
       "2. a\n",
       "3. b\n",
       "4. c\n",
       "\n",
       "\n",
       "\n",
       "**Levels**: 1. 'a'\n",
       "2. 'b'\n",
       "3. 'c'\n",
       "\n",
       "\n"
      ],
      "text/plain": [
       "[1] a a b c\n",
       "Levels: a b c"
      ]
     },
     "metadata": {},
     "output_type": "display_data"
    }
   ],
   "source": [
    "f2 = factor( c(\"a\", \"a\", \"b\", \"c\"))\n",
    "\n",
    "f2"
   ]
  },
  {
   "cell_type": "code",
   "execution_count": 146,
   "metadata": {},
   "outputs": [
    {
     "data": {
      "text/html": [
       "<ol class=list-inline>\n",
       "\t<li>a</li>\n",
       "\t<li>a</li>\n",
       "\t<li>b</li>\n",
       "\t<li>&lt;NA&gt;</li>\n",
       "</ol>\n",
       "\n",
       "<details>\n",
       "\t<summary style=display:list-item;cursor:pointer>\n",
       "\t\t<strong>Levels</strong>:\n",
       "\t</summary>\n",
       "\t<ol class=list-inline>\n",
       "\t\t<li>'a'</li>\n",
       "\t\t<li>'b'</li>\n",
       "\t</ol>\n",
       "</details>"
      ],
      "text/latex": [
       "\\begin{enumerate*}\n",
       "\\item a\n",
       "\\item a\n",
       "\\item b\n",
       "\\item <NA>\n",
       "\\end{enumerate*}\n",
       "\n",
       "\\emph{Levels}: \\begin{enumerate*}\n",
       "\\item 'a'\n",
       "\\item 'b'\n",
       "\\end{enumerate*}\n"
      ],
      "text/markdown": [
       "1. a\n",
       "2. a\n",
       "3. b\n",
       "4. &lt;NA&gt;\n",
       "\n",
       "\n",
       "\n",
       "**Levels**: 1. 'a'\n",
       "2. 'b'\n",
       "\n",
       "\n"
      ],
      "text/plain": [
       "[1] a    a    b    <NA>\n",
       "Levels: a b"
      ]
     },
     "metadata": {},
     "output_type": "display_data"
    }
   ],
   "source": [
    "factor(f2, levels=c(\"a\", \"b\") )"
   ]
  },
  {
   "cell_type": "code",
   "execution_count": 147,
   "metadata": {
    "scrolled": true
   },
   "outputs": [
    {
     "data": {
      "text/html": [
       "<ol class=list-inline>\n",
       "\t<li>a</li>\n",
       "\t<li>a</li>\n",
       "\t<li>b</li>\n",
       "\t<li>&lt;NA&gt;</li>\n",
       "</ol>\n",
       "\n",
       "<details>\n",
       "\t<summary style=display:list-item;cursor:pointer>\n",
       "\t\t<strong>Levels</strong>:\n",
       "\t</summary>\n",
       "\t<ol class=list-inline>\n",
       "\t\t<li>'a'</li>\n",
       "\t\t<li>'b'</li>\n",
       "\t\t<li>'d'</li>\n",
       "\t</ol>\n",
       "</details>"
      ],
      "text/latex": [
       "\\begin{enumerate*}\n",
       "\\item a\n",
       "\\item a\n",
       "\\item b\n",
       "\\item <NA>\n",
       "\\end{enumerate*}\n",
       "\n",
       "\\emph{Levels}: \\begin{enumerate*}\n",
       "\\item 'a'\n",
       "\\item 'b'\n",
       "\\item 'd'\n",
       "\\end{enumerate*}\n"
      ],
      "text/markdown": [
       "1. a\n",
       "2. a\n",
       "3. b\n",
       "4. &lt;NA&gt;\n",
       "\n",
       "\n",
       "\n",
       "**Levels**: 1. 'a'\n",
       "2. 'b'\n",
       "3. 'd'\n",
       "\n",
       "\n"
      ],
      "text/plain": [
       "[1] a    a    b    <NA>\n",
       "Levels: a b d"
      ]
     },
     "metadata": {},
     "output_type": "display_data"
    }
   ],
   "source": [
    "factor(f2, levels=c(\"a\", \"b\", \"d\") )"
   ]
  },
  {
   "cell_type": "code",
   "execution_count": 148,
   "metadata": {},
   "outputs": [
    {
     "data": {
      "text/html": [
       "<ol class=list-inline>\n",
       "\t<li>'a'</li>\n",
       "\t<li>'b'</li>\n",
       "\t<li>'c'</li>\n",
       "</ol>\n"
      ],
      "text/latex": [
       "\\begin{enumerate*}\n",
       "\\item 'a'\n",
       "\\item 'b'\n",
       "\\item 'c'\n",
       "\\end{enumerate*}\n"
      ],
      "text/markdown": [
       "1. 'a'\n",
       "2. 'b'\n",
       "3. 'c'\n",
       "\n",
       "\n"
      ],
      "text/plain": [
       "[1] \"a\" \"b\" \"c\""
      ]
     },
     "metadata": {},
     "output_type": "display_data"
    }
   ],
   "source": [
    "levels(f2)"
   ]
  },
  {
   "cell_type": "code",
   "execution_count": 149,
   "metadata": {},
   "outputs": [
    {
     "data": {
      "text/html": [
       "<ol class=list-inline>\n",
       "\t<li>1</li>\n",
       "\t<li>1</li>\n",
       "\t<li>2</li>\n",
       "\t<li>3</li>\n",
       "</ol>\n"
      ],
      "text/latex": [
       "\\begin{enumerate*}\n",
       "\\item 1\n",
       "\\item 1\n",
       "\\item 2\n",
       "\\item 3\n",
       "\\end{enumerate*}\n"
      ],
      "text/markdown": [
       "1. 1\n",
       "2. 1\n",
       "3. 2\n",
       "4. 3\n",
       "\n",
       "\n"
      ],
      "text/plain": [
       "[1] 1 1 2 3\n",
       "attr(,\"levels\")\n",
       "[1] \"a\" \"b\" \"c\""
      ]
     },
     "metadata": {},
     "output_type": "display_data"
    }
   ],
   "source": [
    "unclass(f2)"
   ]
  },
  {
   "cell_type": "code",
   "execution_count": 150,
   "metadata": {},
   "outputs": [
    {
     "data": {
      "text/html": [
       "<ol class=list-inline>\n",
       "\t<li>男</li>\n",
       "\t<li>女</li>\n",
       "\t<li>男</li>\n",
       "\t<li>女</li>\n",
       "</ol>\n",
       "\n",
       "<details>\n",
       "\t<summary style=display:list-item;cursor:pointer>\n",
       "\t\t<strong>Levels</strong>:\n",
       "\t</summary>\n",
       "\t<ol class=list-inline>\n",
       "\t\t<li>'男'</li>\n",
       "\t\t<li>'女'</li>\n",
       "\t</ol>\n",
       "</details>"
      ],
      "text/latex": [
       "\\begin{enumerate*}\n",
       "\\item 男\n",
       "\\item 女\n",
       "\\item 男\n",
       "\\item 女\n",
       "\\end{enumerate*}\n",
       "\n",
       "\\emph{Levels}: \\begin{enumerate*}\n",
       "\\item '男'\n",
       "\\item '女'\n",
       "\\end{enumerate*}\n"
      ],
      "text/markdown": [
       "1. 男\n",
       "2. 女\n",
       "3. 男\n",
       "4. 女\n",
       "\n",
       "\n",
       "\n",
       "**Levels**: 1. '男'\n",
       "2. '女'\n",
       "\n",
       "\n"
      ],
      "text/plain": [
       "[1] 男 女 男 女\n",
       "Levels: 男 女"
      ]
     },
     "metadata": {},
     "output_type": "display_data"
    }
   ],
   "source": [
    "factor(c(\"男\", \"女\", \"男\", \"女\"))"
   ]
  },
  {
   "cell_type": "code",
   "execution_count": 151,
   "metadata": {},
   "outputs": [
    {
     "data": {
      "text/html": [
       "<ol class=list-inline>\n",
       "\t<li>男</li>\n",
       "\t<li>女</li>\n",
       "\t<li>男</li>\n",
       "\t<li>女</li>\n",
       "</ol>\n",
       "\n",
       "<details>\n",
       "\t<summary style=display:list-item;cursor:pointer>\n",
       "\t\t<strong>Levels</strong>:\n",
       "\t</summary>\n",
       "\t<ol class=list-inline>\n",
       "\t\t<li>'男'</li>\n",
       "\t\t<li>'女'</li>\n",
       "\t</ol>\n",
       "</details>"
      ],
      "text/latex": [
       "\\begin{enumerate*}\n",
       "\\item 男\n",
       "\\item 女\n",
       "\\item 男\n",
       "\\item 女\n",
       "\\end{enumerate*}\n",
       "\n",
       "\\emph{Levels}: \\begin{enumerate*}\n",
       "\\item '男'\n",
       "\\item '女'\n",
       "\\end{enumerate*}\n"
      ],
      "text/markdown": [
       "1. 男\n",
       "2. 女\n",
       "3. 男\n",
       "4. 女\n",
       "\n",
       "\n",
       "\n",
       "**Levels**: 1. '男'\n",
       "2. '女'\n",
       "\n",
       "\n"
      ],
      "text/plain": [
       "[1] 男 女 男 女\n",
       "Levels: 男 女"
      ]
     },
     "metadata": {},
     "output_type": "display_data"
    }
   ],
   "source": [
    "factor(c(\"男\", \"女\", \"男\", \"女\"), levels=c(\"男\", \"女\"))"
   ]
  },
  {
   "cell_type": "code",
   "execution_count": 152,
   "metadata": {},
   "outputs": [
    {
     "data": {
      "text/html": [
       "<ol class=list-inline>\n",
       "\t<li>男</li>\n",
       "\t<li>女</li>\n",
       "\t<li>男</li>\n",
       "\t<li>女</li>\n",
       "</ol>\n",
       "\n",
       "<details>\n",
       "\t<summary style=display:list-item;cursor:pointer>\n",
       "\t\t<strong>Levels</strong>:\n",
       "\t</summary>\n",
       "\t<ol class=list-inline>\n",
       "\t\t<li>'女'</li>\n",
       "\t\t<li>'男'</li>\n",
       "\t</ol>\n",
       "</details>"
      ],
      "text/latex": [
       "\\begin{enumerate*}\n",
       "\\item 男\n",
       "\\item 女\n",
       "\\item 男\n",
       "\\item 女\n",
       "\\end{enumerate*}\n",
       "\n",
       "\\emph{Levels}: \\begin{enumerate*}\n",
       "\\item '女'\n",
       "\\item '男'\n",
       "\\end{enumerate*}\n"
      ],
      "text/markdown": [
       "1. 男\n",
       "2. 女\n",
       "3. 男\n",
       "4. 女\n",
       "\n",
       "\n",
       "\n",
       "**Levels**: 1. '女'\n",
       "2. '男'\n",
       "\n",
       "\n"
      ],
      "text/plain": [
       "[1] 男 女 男 女\n",
       "Levels: 女 男"
      ]
     },
     "metadata": {},
     "output_type": "display_data"
    }
   ],
   "source": [
    "factor(c(\"男\", \"女\", \"男\", \"女\"), levels=c(\"女\", \"男\"))"
   ]
  },
  {
   "cell_type": "markdown",
   "metadata": {},
   "source": [
    "矩阵"
   ]
  },
  {
   "cell_type": "code",
   "execution_count": 153,
   "metadata": {},
   "outputs": [
    {
     "data": {
      "text/html": [
       "<table>\n",
       "<tbody>\n",
       "\t<tr><td>1</td><td>3</td><td>5</td></tr>\n",
       "\t<tr><td>2</td><td>4</td><td>6</td></tr>\n",
       "</tbody>\n",
       "</table>\n"
      ],
      "text/latex": [
       "\\begin{tabular}{lll}\n",
       "\t 1 & 3 & 5\\\\\n",
       "\t 2 & 4 & 6\\\\\n",
       "\\end{tabular}\n"
      ],
      "text/markdown": [
       "\n",
       "| 1 | 3 | 5 | \n",
       "| 2 | 4 | 6 | \n",
       "\n",
       "\n"
      ],
      "text/plain": [
       "     [,1] [,2] [,3]\n",
       "[1,] 1    3    5   \n",
       "[2,] 2    4    6   "
      ]
     },
     "metadata": {},
     "output_type": "display_data"
    }
   ],
   "source": [
    "matrix(c(1, 2, 3, 4, 5, 6), nrow=2)"
   ]
  },
  {
   "cell_type": "code",
   "execution_count": 154,
   "metadata": {},
   "outputs": [
    {
     "data": {
      "text/html": [
       "<table>\n",
       "<tbody>\n",
       "\t<tr><td>1</td><td>4</td></tr>\n",
       "\t<tr><td>2</td><td>5</td></tr>\n",
       "\t<tr><td>3</td><td>6</td></tr>\n",
       "</tbody>\n",
       "</table>\n"
      ],
      "text/latex": [
       "\\begin{tabular}{ll}\n",
       "\t 1 & 4\\\\\n",
       "\t 2 & 5\\\\\n",
       "\t 3 & 6\\\\\n",
       "\\end{tabular}\n"
      ],
      "text/markdown": [
       "\n",
       "| 1 | 4 | \n",
       "| 2 | 5 | \n",
       "| 3 | 6 | \n",
       "\n",
       "\n"
      ],
      "text/plain": [
       "     [,1] [,2]\n",
       "[1,] 1    4   \n",
       "[2,] 2    5   \n",
       "[3,] 3    6   "
      ]
     },
     "metadata": {},
     "output_type": "display_data"
    }
   ],
   "source": [
    "matrix(c(1, 2, 3, 4, 5, 6), ncol=2)"
   ]
  },
  {
   "cell_type": "code",
   "execution_count": 155,
   "metadata": {},
   "outputs": [],
   "source": [
    "m <- matrix(c(1, 2, 3, 4, 5, 6), nrow=2, byrow=TRUE)"
   ]
  },
  {
   "cell_type": "code",
   "execution_count": 156,
   "metadata": {},
   "outputs": [
    {
     "data": {
      "text/html": [
       "<table>\n",
       "<tbody>\n",
       "\t<tr><td>1</td><td>2</td><td>3</td></tr>\n",
       "\t<tr><td>4</td><td>5</td><td>6</td></tr>\n",
       "</tbody>\n",
       "</table>\n"
      ],
      "text/latex": [
       "\\begin{tabular}{lll}\n",
       "\t 1 & 2 & 3\\\\\n",
       "\t 4 & 5 & 6\\\\\n",
       "\\end{tabular}\n"
      ],
      "text/markdown": [
       "\n",
       "| 1 | 2 | 3 | \n",
       "| 4 | 5 | 6 | \n",
       "\n",
       "\n"
      ],
      "text/plain": [
       "     [,1] [,2] [,3]\n",
       "[1,] 1    2    3   \n",
       "[2,] 4    5    6   "
      ]
     },
     "metadata": {},
     "output_type": "display_data"
    }
   ],
   "source": [
    "m"
   ]
  },
  {
   "cell_type": "code",
   "execution_count": 157,
   "metadata": {},
   "outputs": [
    {
     "data": {
      "text/html": [
       "'matrix'"
      ],
      "text/latex": [
       "'matrix'"
      ],
      "text/markdown": [
       "'matrix'"
      ],
      "text/plain": [
       "[1] \"matrix\""
      ]
     },
     "metadata": {},
     "output_type": "display_data"
    }
   ],
   "source": [
    "class(m)"
   ]
  },
  {
   "cell_type": "code",
   "execution_count": 158,
   "metadata": {},
   "outputs": [
    {
     "data": {
      "text/html": [
       "<table>\n",
       "<tbody>\n",
       "\t<tr><td>2 </td><td> 4</td><td> 6</td></tr>\n",
       "\t<tr><td>8 </td><td>10</td><td>12</td></tr>\n",
       "</tbody>\n",
       "</table>\n"
      ],
      "text/latex": [
       "\\begin{tabular}{lll}\n",
       "\t 2  &  4 &  6\\\\\n",
       "\t 8  & 10 & 12\\\\\n",
       "\\end{tabular}\n"
      ],
      "text/markdown": [
       "\n",
       "| 2  |  4 |  6 | \n",
       "| 8  | 10 | 12 | \n",
       "\n",
       "\n"
      ],
      "text/plain": [
       "     [,1] [,2] [,3]\n",
       "[1,] 2     4    6  \n",
       "[2,] 8    10   12  "
      ]
     },
     "metadata": {},
     "output_type": "display_data"
    }
   ],
   "source": [
    "m + m"
   ]
  },
  {
   "cell_type": "code",
   "execution_count": 159,
   "metadata": {},
   "outputs": [
    {
     "data": {
      "text/html": [
       "<table>\n",
       "<tbody>\n",
       "\t<tr><td>0</td><td>0</td><td>0</td></tr>\n",
       "\t<tr><td>0</td><td>0</td><td>0</td></tr>\n",
       "</tbody>\n",
       "</table>\n"
      ],
      "text/latex": [
       "\\begin{tabular}{lll}\n",
       "\t 0 & 0 & 0\\\\\n",
       "\t 0 & 0 & 0\\\\\n",
       "\\end{tabular}\n"
      ],
      "text/markdown": [
       "\n",
       "| 0 | 0 | 0 | \n",
       "| 0 | 0 | 0 | \n",
       "\n",
       "\n"
      ],
      "text/plain": [
       "     [,1] [,2] [,3]\n",
       "[1,] 0    0    0   \n",
       "[2,] 0    0    0   "
      ]
     },
     "metadata": {},
     "output_type": "display_data"
    }
   ],
   "source": [
    "m - m"
   ]
  },
  {
   "cell_type": "code",
   "execution_count": 160,
   "metadata": {},
   "outputs": [
    {
     "data": {
      "text/html": [
       "<table>\n",
       "<tbody>\n",
       "\t<tr><td> 1</td><td> 4</td><td> 9</td></tr>\n",
       "\t<tr><td>16</td><td>25</td><td>36</td></tr>\n",
       "</tbody>\n",
       "</table>\n"
      ],
      "text/latex": [
       "\\begin{tabular}{lll}\n",
       "\t  1 &  4 &  9\\\\\n",
       "\t 16 & 25 & 36\\\\\n",
       "\\end{tabular}\n"
      ],
      "text/markdown": [
       "\n",
       "|  1 |  4 |  9 | \n",
       "| 16 | 25 | 36 | \n",
       "\n",
       "\n"
      ],
      "text/plain": [
       "     [,1] [,2] [,3]\n",
       "[1,]  1    4    9  \n",
       "[2,] 16   25   36  "
      ]
     },
     "metadata": {},
     "output_type": "display_data"
    }
   ],
   "source": [
    "m * m"
   ]
  },
  {
   "cell_type": "code",
   "execution_count": 161,
   "metadata": {},
   "outputs": [
    {
     "data": {
      "text/html": [
       "<table>\n",
       "<tbody>\n",
       "\t<tr><td>1</td><td>2</td><td>3</td></tr>\n",
       "\t<tr><td>4</td><td>5</td><td>6</td></tr>\n",
       "</tbody>\n",
       "</table>\n"
      ],
      "text/latex": [
       "\\begin{tabular}{lll}\n",
       "\t 1 & 2 & 3\\\\\n",
       "\t 4 & 5 & 6\\\\\n",
       "\\end{tabular}\n"
      ],
      "text/markdown": [
       "\n",
       "| 1 | 2 | 3 | \n",
       "| 4 | 5 | 6 | \n",
       "\n",
       "\n"
      ],
      "text/plain": [
       "     [,1] [,2] [,3]\n",
       "[1,] 1    2    3   \n",
       "[2,] 4    5    6   "
      ]
     },
     "metadata": {},
     "output_type": "display_data"
    }
   ],
   "source": [
    "m"
   ]
  },
  {
   "cell_type": "code",
   "execution_count": 162,
   "metadata": {
    "scrolled": true
   },
   "outputs": [
    {
     "data": {
      "text/html": [
       "<table>\n",
       "<tbody>\n",
       "\t<tr><td>1</td><td>4</td></tr>\n",
       "\t<tr><td>2</td><td>5</td></tr>\n",
       "\t<tr><td>3</td><td>6</td></tr>\n",
       "</tbody>\n",
       "</table>\n"
      ],
      "text/latex": [
       "\\begin{tabular}{ll}\n",
       "\t 1 & 4\\\\\n",
       "\t 2 & 5\\\\\n",
       "\t 3 & 6\\\\\n",
       "\\end{tabular}\n"
      ],
      "text/markdown": [
       "\n",
       "| 1 | 4 | \n",
       "| 2 | 5 | \n",
       "| 3 | 6 | \n",
       "\n",
       "\n"
      ],
      "text/plain": [
       "     [,1] [,2]\n",
       "[1,] 1    4   \n",
       "[2,] 2    5   \n",
       "[3,] 3    6   "
      ]
     },
     "metadata": {},
     "output_type": "display_data"
    }
   ],
   "source": [
    "t(m)"
   ]
  },
  {
   "cell_type": "markdown",
   "metadata": {},
   "source": [
    "```\n",
    "m %*% m\n",
    "\n",
    "Error in m %*% m: non-conformable arguments\n",
    "Traceback:\n",
    "```"
   ]
  },
  {
   "cell_type": "code",
   "execution_count": 163,
   "metadata": {},
   "outputs": [
    {
     "data": {
      "text/html": [
       "<table>\n",
       "<tbody>\n",
       "\t<tr><td>14</td><td>32</td></tr>\n",
       "\t<tr><td>32</td><td>77</td></tr>\n",
       "</tbody>\n",
       "</table>\n"
      ],
      "text/latex": [
       "\\begin{tabular}{ll}\n",
       "\t 14 & 32\\\\\n",
       "\t 32 & 77\\\\\n",
       "\\end{tabular}\n"
      ],
      "text/markdown": [
       "\n",
       "| 14 | 32 | \n",
       "| 32 | 77 | \n",
       "\n",
       "\n"
      ],
      "text/plain": [
       "     [,1] [,2]\n",
       "[1,] 14   32  \n",
       "[2,] 32   77  "
      ]
     },
     "metadata": {},
     "output_type": "display_data"
    }
   ],
   "source": [
    "m %*% t(m)"
   ]
  },
  {
   "cell_type": "code",
   "execution_count": 164,
   "metadata": {},
   "outputs": [],
   "source": [
    "mprod = m %*% t(m)"
   ]
  },
  {
   "cell_type": "code",
   "execution_count": 165,
   "metadata": {},
   "outputs": [
    {
     "data": {
      "text/html": [
       "<table>\n",
       "<tbody>\n",
       "\t<tr><td> 1.4259259</td><td>-0.5925926</td></tr>\n",
       "\t<tr><td>-0.5925926</td><td> 0.2592593</td></tr>\n",
       "</tbody>\n",
       "</table>\n"
      ],
      "text/latex": [
       "\\begin{tabular}{ll}\n",
       "\t  1.4259259 & -0.5925926\\\\\n",
       "\t -0.5925926 &  0.2592593\\\\\n",
       "\\end{tabular}\n"
      ],
      "text/markdown": [
       "\n",
       "|  1.4259259 | -0.5925926 | \n",
       "| -0.5925926 |  0.2592593 | \n",
       "\n",
       "\n"
      ],
      "text/plain": [
       "     [,1]       [,2]      \n",
       "[1,]  1.4259259 -0.5925926\n",
       "[2,] -0.5925926  0.2592593"
      ]
     },
     "metadata": {},
     "output_type": "display_data"
    }
   ],
   "source": [
    "solve(mprod)"
   ]
  },
  {
   "cell_type": "code",
   "execution_count": 166,
   "metadata": {},
   "outputs": [
    {
     "data": {
      "text/html": [
       "<table>\n",
       "<tbody>\n",
       "\t<tr><td>1</td><td>0</td></tr>\n",
       "\t<tr><td>0</td><td>1</td></tr>\n",
       "</tbody>\n",
       "</table>\n"
      ],
      "text/latex": [
       "\\begin{tabular}{ll}\n",
       "\t 1 & 0\\\\\n",
       "\t 0 & 1\\\\\n",
       "\\end{tabular}\n"
      ],
      "text/markdown": [
       "\n",
       "| 1 | 0 | \n",
       "| 0 | 1 | \n",
       "\n",
       "\n"
      ],
      "text/plain": [
       "     [,1] [,2]\n",
       "[1,] 1    0   \n",
       "[2,] 0    1   "
      ]
     },
     "metadata": {},
     "output_type": "display_data"
    }
   ],
   "source": [
    "mprod %*% solve(mprod)"
   ]
  },
  {
   "cell_type": "code",
   "execution_count": 167,
   "metadata": {},
   "outputs": [
    {
     "data": {
      "text/html": [
       "<table>\n",
       "<tbody>\n",
       "\t<tr><td>1</td><td>0</td></tr>\n",
       "\t<tr><td>0</td><td>1</td></tr>\n",
       "</tbody>\n",
       "</table>\n"
      ],
      "text/latex": [
       "\\begin{tabular}{ll}\n",
       "\t 1 & 0\\\\\n",
       "\t 0 & 1\\\\\n",
       "\\end{tabular}\n"
      ],
      "text/markdown": [
       "\n",
       "| 1 | 0 | \n",
       "| 0 | 1 | \n",
       "\n",
       "\n"
      ],
      "text/plain": [
       "     [,1] [,2]\n",
       "[1,] 1    0   \n",
       "[2,] 0    1   "
      ]
     },
     "metadata": {},
     "output_type": "display_data"
    }
   ],
   "source": [
    "round(mprod %*% solve(mprod), 10)"
   ]
  },
  {
   "cell_type": "code",
   "execution_count": 168,
   "metadata": {},
   "outputs": [
    {
     "data": {
      "text/html": [
       "<ol class=list-inline>\n",
       "\t<li>2</li>\n",
       "\t<li>3</li>\n",
       "</ol>\n"
      ],
      "text/latex": [
       "\\begin{enumerate*}\n",
       "\\item 2\n",
       "\\item 3\n",
       "\\end{enumerate*}\n"
      ],
      "text/markdown": [
       "1. 2\n",
       "2. 3\n",
       "\n",
       "\n"
      ],
      "text/plain": [
       "[1] 2 3"
      ]
     },
     "metadata": {},
     "output_type": "display_data"
    }
   ],
   "source": [
    "dim(m)"
   ]
  },
  {
   "cell_type": "code",
   "execution_count": 169,
   "metadata": {},
   "outputs": [
    {
     "data": {
      "text/html": [
       "3"
      ],
      "text/latex": [
       "3"
      ],
      "text/markdown": [
       "3"
      ],
      "text/plain": [
       "[1] 3"
      ]
     },
     "metadata": {},
     "output_type": "display_data"
    }
   ],
   "source": [
    "ncol(m)"
   ]
  },
  {
   "cell_type": "code",
   "execution_count": 170,
   "metadata": {},
   "outputs": [
    {
     "data": {
      "text/html": [
       "2"
      ],
      "text/latex": [
       "2"
      ],
      "text/markdown": [
       "2"
      ],
      "text/plain": [
       "[1] 2"
      ]
     },
     "metadata": {},
     "output_type": "display_data"
    }
   ],
   "source": [
    "nrow(m)"
   ]
  },
  {
   "cell_type": "code",
   "execution_count": 171,
   "metadata": {},
   "outputs": [
    {
     "data": {
      "text/html": [
       "<ol class=list-inline>\n",
       "\t<li>1</li>\n",
       "\t<li>2</li>\n",
       "\t<li>3</li>\n",
       "</ol>\n"
      ],
      "text/latex": [
       "\\begin{enumerate*}\n",
       "\\item 1\n",
       "\\item 2\n",
       "\\item 3\n",
       "\\end{enumerate*}\n"
      ],
      "text/markdown": [
       "1. 1\n",
       "2. 2\n",
       "3. 3\n",
       "\n",
       "\n"
      ],
      "text/plain": [
       "[1] 1 2 3"
      ]
     },
     "metadata": {},
     "output_type": "display_data"
    }
   ],
   "source": [
    "m[1,]"
   ]
  },
  {
   "cell_type": "code",
   "execution_count": 172,
   "metadata": {},
   "outputs": [
    {
     "data": {
      "text/html": [
       "<table>\n",
       "<tbody>\n",
       "\t<tr><td>1</td><td>2</td><td>3</td></tr>\n",
       "</tbody>\n",
       "</table>\n"
      ],
      "text/latex": [
       "\\begin{tabular}{lll}\n",
       "\t 1 & 2 & 3\\\\\n",
       "\\end{tabular}\n"
      ],
      "text/markdown": [
       "\n",
       "| 1 | 2 | 3 | \n",
       "\n",
       "\n"
      ],
      "text/plain": [
       "     [,1] [,2] [,3]\n",
       "[1,] 1    2    3   "
      ]
     },
     "metadata": {},
     "output_type": "display_data"
    }
   ],
   "source": [
    "m[1, , drop=FALSE]"
   ]
  },
  {
   "cell_type": "code",
   "execution_count": 173,
   "metadata": {},
   "outputs": [
    {
     "data": {
      "text/html": [
       "'matrix'"
      ],
      "text/latex": [
       "'matrix'"
      ],
      "text/markdown": [
       "'matrix'"
      ],
      "text/plain": [
       "[1] \"matrix\""
      ]
     },
     "metadata": {},
     "output_type": "display_data"
    }
   ],
   "source": [
    "class(m[1, , drop=FALSE])"
   ]
  },
  {
   "cell_type": "code",
   "execution_count": 174,
   "metadata": {},
   "outputs": [
    {
     "data": {
      "text/html": [
       "'numeric'"
      ],
      "text/latex": [
       "'numeric'"
      ],
      "text/markdown": [
       "'numeric'"
      ],
      "text/plain": [
       "[1] \"numeric\""
      ]
     },
     "metadata": {},
     "output_type": "display_data"
    }
   ],
   "source": [
    "class(m[1, , drop=T])"
   ]
  },
  {
   "cell_type": "code",
   "execution_count": 175,
   "metadata": {},
   "outputs": [
    {
     "data": {
      "text/html": [
       "<ol class=list-inline>\n",
       "\t<li>1</li>\n",
       "\t<li>3</li>\n",
       "</ol>\n"
      ],
      "text/latex": [
       "\\begin{enumerate*}\n",
       "\\item 1\n",
       "\\item 3\n",
       "\\end{enumerate*}\n"
      ],
      "text/markdown": [
       "1. 1\n",
       "2. 3\n",
       "\n",
       "\n"
      ],
      "text/plain": [
       "[1] 1 3"
      ]
     },
     "metadata": {},
     "output_type": "display_data"
    }
   ],
   "source": [
    "dim(m[1, , drop=FALSE])"
   ]
  },
  {
   "cell_type": "code",
   "execution_count": 176,
   "metadata": {},
   "outputs": [
    {
     "data": {
      "text/plain": [
       "NULL"
      ]
     },
     "metadata": {},
     "output_type": "display_data"
    }
   ],
   "source": [
    "dim(m[1,])"
   ]
  },
  {
   "cell_type": "code",
   "execution_count": 177,
   "metadata": {},
   "outputs": [
    {
     "data": {
      "text/html": [
       "<table>\n",
       "<tbody>\n",
       "\t<tr><td>1</td><td>2</td><td>3</td></tr>\n",
       "\t<tr><td>4</td><td>5</td><td>6</td></tr>\n",
       "</tbody>\n",
       "</table>\n"
      ],
      "text/latex": [
       "\\begin{tabular}{lll}\n",
       "\t 1 & 2 & 3\\\\\n",
       "\t 4 & 5 & 6\\\\\n",
       "\\end{tabular}\n"
      ],
      "text/markdown": [
       "\n",
       "| 1 | 2 | 3 | \n",
       "| 4 | 5 | 6 | \n",
       "\n",
       "\n"
      ],
      "text/plain": [
       "     [,1] [,2] [,3]\n",
       "[1,] 1    2    3   \n",
       "[2,] 4    5    6   "
      ]
     },
     "metadata": {},
     "output_type": "display_data"
    }
   ],
   "source": [
    "m[1:2, ]"
   ]
  },
  {
   "cell_type": "code",
   "execution_count": 178,
   "metadata": {},
   "outputs": [
    {
     "data": {
      "text/html": [
       "<ol class=list-inline>\n",
       "\t<li>1</li>\n",
       "\t<li>4</li>\n",
       "</ol>\n"
      ],
      "text/latex": [
       "\\begin{enumerate*}\n",
       "\\item 1\n",
       "\\item 4\n",
       "\\end{enumerate*}\n"
      ],
      "text/markdown": [
       "1. 1\n",
       "2. 4\n",
       "\n",
       "\n"
      ],
      "text/plain": [
       "[1] 1 4"
      ]
     },
     "metadata": {},
     "output_type": "display_data"
    }
   ],
   "source": [
    "m[1:2, 1]"
   ]
  },
  {
   "cell_type": "code",
   "execution_count": 179,
   "metadata": {},
   "outputs": [
    {
     "data": {
      "text/html": [
       "<table>\n",
       "<tbody>\n",
       "\t<tr><td>1</td></tr>\n",
       "\t<tr><td>4</td></tr>\n",
       "</tbody>\n",
       "</table>\n"
      ],
      "text/latex": [
       "\\begin{tabular}{l}\n",
       "\t 1\\\\\n",
       "\t 4\\\\\n",
       "\\end{tabular}\n"
      ],
      "text/markdown": [
       "\n",
       "| 1 | \n",
       "| 4 | \n",
       "\n",
       "\n"
      ],
      "text/plain": [
       "     [,1]\n",
       "[1,] 1   \n",
       "[2,] 4   "
      ]
     },
     "metadata": {},
     "output_type": "display_data"
    }
   ],
   "source": [
    "m[1:2, 1, drop=FALSE]"
   ]
  },
  {
   "cell_type": "code",
   "execution_count": 180,
   "metadata": {},
   "outputs": [
    {
     "data": {
      "text/html": [
       "<table>\n",
       "<tbody>\n",
       "\t<tr><td>1</td><td>3</td></tr>\n",
       "\t<tr><td>4</td><td>6</td></tr>\n",
       "</tbody>\n",
       "</table>\n"
      ],
      "text/latex": [
       "\\begin{tabular}{ll}\n",
       "\t 1 & 3\\\\\n",
       "\t 4 & 6\\\\\n",
       "\\end{tabular}\n"
      ],
      "text/markdown": [
       "\n",
       "| 1 | 3 | \n",
       "| 4 | 6 | \n",
       "\n",
       "\n"
      ],
      "text/plain": [
       "     [,1] [,2]\n",
       "[1,] 1    3   \n",
       "[2,] 4    6   "
      ]
     },
     "metadata": {},
     "output_type": "display_data"
    }
   ],
   "source": [
    "m[c(T, T), c(T, F, T), drop=F]"
   ]
  },
  {
   "cell_type": "markdown",
   "metadata": {},
   "source": [
    "列表"
   ]
  },
  {
   "cell_type": "code",
   "execution_count": 181,
   "metadata": {},
   "outputs": [
    {
     "data": {
      "text/html": [
       "<dl>\n",
       "\t<dt>$a</dt>\n",
       "\t\t<dd><ol class=list-inline>\n",
       "\t<li>1</li>\n",
       "\t<li>2</li>\n",
       "\t<li>3</li>\n",
       "</ol>\n",
       "</dd>\n",
       "\t<dt>$b</dt>\n",
       "\t\t<dd><ol class=list-inline>\n",
       "\t<li>'x'</li>\n",
       "\t<li>'y'</li>\n",
       "\t<li>'z'</li>\n",
       "\t<li>'m'</li>\n",
       "</ol>\n",
       "</dd>\n",
       "\t<dt>$d</dt>\n",
       "\t\t<dd><table>\n",
       "<tbody>\n",
       "\t<tr><td>1</td><td>2</td><td>3</td></tr>\n",
       "\t<tr><td>4</td><td>5</td><td>6</td></tr>\n",
       "</tbody>\n",
       "</table>\n",
       "</dd>\n",
       "</dl>\n"
      ],
      "text/latex": [
       "\\begin{description}\n",
       "\\item[\\$a] \\begin{enumerate*}\n",
       "\\item 1\n",
       "\\item 2\n",
       "\\item 3\n",
       "\\end{enumerate*}\n",
       "\n",
       "\\item[\\$b] \\begin{enumerate*}\n",
       "\\item 'x'\n",
       "\\item 'y'\n",
       "\\item 'z'\n",
       "\\item 'm'\n",
       "\\end{enumerate*}\n",
       "\n",
       "\\item[\\$d] \\begin{tabular}{lll}\n",
       "\t 1 & 2 & 3\\\\\n",
       "\t 4 & 5 & 6\\\\\n",
       "\\end{tabular}\n",
       "\n",
       "\\end{description}\n"
      ],
      "text/markdown": [
       "$a\n",
       ":   1. 1\n",
       "2. 2\n",
       "3. 3\n",
       "\n",
       "\n",
       "\n",
       "$b\n",
       ":   1. 'x'\n",
       "2. 'y'\n",
       "3. 'z'\n",
       "4. 'm'\n",
       "\n",
       "\n",
       "\n",
       "$d\n",
       ":   \n",
       "| 1 | 2 | 3 | \n",
       "| 4 | 5 | 6 | \n",
       "\n",
       "\n",
       "\n",
       "\n",
       "\n"
      ],
      "text/plain": [
       "$a\n",
       "[1] 1 2 3\n",
       "\n",
       "$b\n",
       "[1] \"x\" \"y\" \"z\" \"m\"\n",
       "\n",
       "$d\n",
       "     [,1] [,2] [,3]\n",
       "[1,]    1    2    3\n",
       "[2,]    4    5    6\n"
      ]
     },
     "metadata": {},
     "output_type": "display_data"
    }
   ],
   "source": [
    "l = list(a=c(1, 2, 3), b=c('x', 'y', 'z', \"m\"), d=m)\n",
    "\n",
    "l"
   ]
  },
  {
   "cell_type": "code",
   "execution_count": 182,
   "metadata": {},
   "outputs": [
    {
     "data": {
      "text/html": [
       "3"
      ],
      "text/latex": [
       "3"
      ],
      "text/markdown": [
       "3"
      ],
      "text/plain": [
       "[1] 3"
      ]
     },
     "metadata": {},
     "output_type": "display_data"
    }
   ],
   "source": [
    "length(l)"
   ]
  },
  {
   "cell_type": "code",
   "execution_count": 183,
   "metadata": {},
   "outputs": [
    {
     "data": {
      "text/html": [
       "<ol class=list-inline>\n",
       "\t<li>'a'</li>\n",
       "\t<li>'b'</li>\n",
       "\t<li>'d'</li>\n",
       "</ol>\n"
      ],
      "text/latex": [
       "\\begin{enumerate*}\n",
       "\\item 'a'\n",
       "\\item 'b'\n",
       "\\item 'd'\n",
       "\\end{enumerate*}\n"
      ],
      "text/markdown": [
       "1. 'a'\n",
       "2. 'b'\n",
       "3. 'd'\n",
       "\n",
       "\n"
      ],
      "text/plain": [
       "[1] \"a\" \"b\" \"d\""
      ]
     },
     "metadata": {},
     "output_type": "display_data"
    }
   ],
   "source": [
    "names(l)"
   ]
  },
  {
   "cell_type": "code",
   "execution_count": 184,
   "metadata": {},
   "outputs": [
    {
     "data": {
      "text/html": [
       "<ol class=list-inline>\n",
       "\t<li>1</li>\n",
       "\t<li>2</li>\n",
       "\t<li>3</li>\n",
       "</ol>\n"
      ],
      "text/latex": [
       "\\begin{enumerate*}\n",
       "\\item 1\n",
       "\\item 2\n",
       "\\item 3\n",
       "\\end{enumerate*}\n"
      ],
      "text/markdown": [
       "1. 1\n",
       "2. 2\n",
       "3. 3\n",
       "\n",
       "\n"
      ],
      "text/plain": [
       "[1] 1 2 3"
      ]
     },
     "metadata": {},
     "output_type": "display_data"
    }
   ],
   "source": [
    "l$a"
   ]
  },
  {
   "cell_type": "code",
   "execution_count": 185,
   "metadata": {},
   "outputs": [
    {
     "data": {
      "text/html": [
       "<strong>$a</strong> = <ol class=list-inline>\n",
       "\t<li>1</li>\n",
       "\t<li>2</li>\n",
       "\t<li>3</li>\n",
       "</ol>\n"
      ],
      "text/latex": [
       "\\textbf{\\$a} = \\begin{enumerate*}\n",
       "\\item 1\n",
       "\\item 2\n",
       "\\item 3\n",
       "\\end{enumerate*}\n"
      ],
      "text/markdown": [
       "**$a** = 1. 1\n",
       "2. 2\n",
       "3. 3\n",
       "\n",
       "\n"
      ],
      "text/plain": [
       "$a\n",
       "[1] 1 2 3\n"
      ]
     },
     "metadata": {},
     "output_type": "display_data"
    }
   ],
   "source": [
    "l['a']"
   ]
  },
  {
   "cell_type": "code",
   "execution_count": 186,
   "metadata": {},
   "outputs": [
    {
     "data": {
      "text/html": [
       "<ol class=list-inline>\n",
       "\t<li>1</li>\n",
       "\t<li>2</li>\n",
       "\t<li>3</li>\n",
       "</ol>\n"
      ],
      "text/latex": [
       "\\begin{enumerate*}\n",
       "\\item 1\n",
       "\\item 2\n",
       "\\item 3\n",
       "\\end{enumerate*}\n"
      ],
      "text/markdown": [
       "1. 1\n",
       "2. 2\n",
       "3. 3\n",
       "\n",
       "\n"
      ],
      "text/plain": [
       "[1] 1 2 3"
      ]
     },
     "metadata": {},
     "output_type": "display_data"
    }
   ],
   "source": [
    "l[['a']]"
   ]
  },
  {
   "cell_type": "code",
   "execution_count": 187,
   "metadata": {},
   "outputs": [
    {
     "data": {
      "text/html": [
       "<ol class=list-inline>\n",
       "\t<li>1</li>\n",
       "\t<li>2</li>\n",
       "\t<li>3</li>\n",
       "</ol>\n"
      ],
      "text/latex": [
       "\\begin{enumerate*}\n",
       "\\item 1\n",
       "\\item 2\n",
       "\\item 3\n",
       "\\end{enumerate*}\n"
      ],
      "text/markdown": [
       "1. 1\n",
       "2. 2\n",
       "3. 3\n",
       "\n",
       "\n"
      ],
      "text/plain": [
       "[1] 1 2 3"
      ]
     },
     "metadata": {},
     "output_type": "display_data"
    }
   ],
   "source": [
    "idx = \"a\"\n",
    "\n",
    "l[[idx]]"
   ]
  },
  {
   "cell_type": "markdown",
   "metadata": {},
   "source": [
    "因子重新编码"
   ]
  },
  {
   "cell_type": "code",
   "execution_count": 188,
   "metadata": {},
   "outputs": [
    {
     "data": {
      "text/html": [
       "<ol class=list-inline>\n",
       "\t<li>s</li>\n",
       "\t<li>t</li>\n",
       "\t<li>a</li>\n",
       "\t<li>t</li>\n",
       "\t<li>i</li>\n",
       "\t<li>s</li>\n",
       "\t<li>t</li>\n",
       "\t<li>i</li>\n",
       "\t<li>c</li>\n",
       "\t<li>s</li>\n",
       "</ol>\n",
       "\n",
       "<details>\n",
       "\t<summary style=display:list-item;cursor:pointer>\n",
       "\t\t<strong>Levels</strong>:\n",
       "\t</summary>\n",
       "\t<ol class=list-inline>\n",
       "\t\t<li>'a'</li>\n",
       "\t\t<li>'b'</li>\n",
       "\t\t<li>'c'</li>\n",
       "\t\t<li>'d'</li>\n",
       "\t\t<li>'e'</li>\n",
       "\t\t<li>'f'</li>\n",
       "\t\t<li>'g'</li>\n",
       "\t\t<li>'h'</li>\n",
       "\t\t<li>'i'</li>\n",
       "\t\t<li>'j'</li>\n",
       "\t\t<li>'k'</li>\n",
       "\t\t<li>'l'</li>\n",
       "\t\t<li>'m'</li>\n",
       "\t\t<li>'n'</li>\n",
       "\t\t<li>'o'</li>\n",
       "\t\t<li>'p'</li>\n",
       "\t\t<li>'q'</li>\n",
       "\t\t<li>'r'</li>\n",
       "\t\t<li>'s'</li>\n",
       "\t\t<li>'t'</li>\n",
       "\t\t<li>'u'</li>\n",
       "\t\t<li>'v'</li>\n",
       "\t\t<li>'w'</li>\n",
       "\t\t<li>'x'</li>\n",
       "\t\t<li>'y'</li>\n",
       "\t\t<li>'z'</li>\n",
       "\t</ol>\n",
       "</details>"
      ],
      "text/latex": [
       "\\begin{enumerate*}\n",
       "\\item s\n",
       "\\item t\n",
       "\\item a\n",
       "\\item t\n",
       "\\item i\n",
       "\\item s\n",
       "\\item t\n",
       "\\item i\n",
       "\\item c\n",
       "\\item s\n",
       "\\end{enumerate*}\n",
       "\n",
       "\\emph{Levels}: \\begin{enumerate*}\n",
       "\\item 'a'\n",
       "\\item 'b'\n",
       "\\item 'c'\n",
       "\\item 'd'\n",
       "\\item 'e'\n",
       "\\item 'f'\n",
       "\\item 'g'\n",
       "\\item 'h'\n",
       "\\item 'i'\n",
       "\\item 'j'\n",
       "\\item 'k'\n",
       "\\item 'l'\n",
       "\\item 'm'\n",
       "\\item 'n'\n",
       "\\item 'o'\n",
       "\\item 'p'\n",
       "\\item 'q'\n",
       "\\item 'r'\n",
       "\\item 's'\n",
       "\\item 't'\n",
       "\\item 'u'\n",
       "\\item 'v'\n",
       "\\item 'w'\n",
       "\\item 'x'\n",
       "\\item 'y'\n",
       "\\item 'z'\n",
       "\\end{enumerate*}\n"
      ],
      "text/markdown": [
       "1. s\n",
       "2. t\n",
       "3. a\n",
       "4. t\n",
       "5. i\n",
       "6. s\n",
       "7. t\n",
       "8. i\n",
       "9. c\n",
       "10. s\n",
       "\n",
       "\n",
       "\n",
       "**Levels**: 1. 'a'\n",
       "2. 'b'\n",
       "3. 'c'\n",
       "4. 'd'\n",
       "5. 'e'\n",
       "6. 'f'\n",
       "7. 'g'\n",
       "8. 'h'\n",
       "9. 'i'\n",
       "10. 'j'\n",
       "11. 'k'\n",
       "12. 'l'\n",
       "13. 'm'\n",
       "14. 'n'\n",
       "15. 'o'\n",
       "16. 'p'\n",
       "17. 'q'\n",
       "18. 'r'\n",
       "19. 's'\n",
       "20. 't'\n",
       "21. 'u'\n",
       "22. 'v'\n",
       "23. 'w'\n",
       "24. 'x'\n",
       "25. 'y'\n",
       "26. 'z'\n",
       "\n",
       "\n"
      ],
      "text/plain": [
       " [1] s t a t i s t i c s\n",
       "Levels: a b c d e f g h i j k l m n o p q r s t u v w x y z"
      ]
     },
     "metadata": {},
     "output_type": "display_data"
    }
   ],
   "source": [
    "(ff <- factor(substring(\"statistics\", 1:10, 1:10), levels = letters))"
   ]
  },
  {
   "cell_type": "code",
   "execution_count": 189,
   "metadata": {},
   "outputs": [
    {
     "data": {
      "text/html": [
       "<ol class=list-inline>\n",
       "\t<li>s</li>\n",
       "\t<li>t</li>\n",
       "\t<li>a</li>\n",
       "\t<li>t</li>\n",
       "\t<li>i</li>\n",
       "\t<li>s</li>\n",
       "\t<li>t</li>\n",
       "\t<li>i</li>\n",
       "\t<li>c</li>\n",
       "\t<li>s</li>\n",
       "</ol>\n",
       "\n",
       "<details>\n",
       "\t<summary style=display:list-item;cursor:pointer>\n",
       "\t\t<strong>Levels</strong>:\n",
       "\t</summary>\n",
       "\t<ol class=list-inline>\n",
       "\t\t<li>'a'</li>\n",
       "\t\t<li>'c'</li>\n",
       "\t\t<li>'i'</li>\n",
       "\t\t<li>'s'</li>\n",
       "\t\t<li>'t'</li>\n",
       "\t</ol>\n",
       "</details>"
      ],
      "text/latex": [
       "\\begin{enumerate*}\n",
       "\\item s\n",
       "\\item t\n",
       "\\item a\n",
       "\\item t\n",
       "\\item i\n",
       "\\item s\n",
       "\\item t\n",
       "\\item i\n",
       "\\item c\n",
       "\\item s\n",
       "\\end{enumerate*}\n",
       "\n",
       "\\emph{Levels}: \\begin{enumerate*}\n",
       "\\item 'a'\n",
       "\\item 'c'\n",
       "\\item 'i'\n",
       "\\item 's'\n",
       "\\item 't'\n",
       "\\end{enumerate*}\n"
      ],
      "text/markdown": [
       "1. s\n",
       "2. t\n",
       "3. a\n",
       "4. t\n",
       "5. i\n",
       "6. s\n",
       "7. t\n",
       "8. i\n",
       "9. c\n",
       "10. s\n",
       "\n",
       "\n",
       "\n",
       "**Levels**: 1. 'a'\n",
       "2. 'c'\n",
       "3. 'i'\n",
       "4. 's'\n",
       "5. 't'\n",
       "\n",
       "\n"
      ],
      "text/plain": [
       " [1] s t a t i s t i c s\n",
       "Levels: a c i s t"
      ]
     },
     "metadata": {},
     "output_type": "display_data"
    }
   ],
   "source": [
    "ff2 = factor(ff)\n",
    "\n",
    "ff2"
   ]
  },
  {
   "cell_type": "code",
   "execution_count": 190,
   "metadata": {},
   "outputs": [
    {
     "data": {
      "text/html": [
       "<ol class=list-inline>\n",
       "\t<li>'c'</li>\n",
       "\t<li>'i'</li>\n",
       "\t<li>'s'</li>\n",
       "\t<li>'t'</li>\n",
       "</ol>\n"
      ],
      "text/latex": [
       "\\begin{enumerate*}\n",
       "\\item 'c'\n",
       "\\item 'i'\n",
       "\\item 's'\n",
       "\\item 't'\n",
       "\\end{enumerate*}\n"
      ],
      "text/markdown": [
       "1. 'c'\n",
       "2. 'i'\n",
       "3. 's'\n",
       "4. 't'\n",
       "\n",
       "\n"
      ],
      "text/plain": [
       "[1] \"c\" \"i\" \"s\" \"t\""
      ]
     },
     "metadata": {},
     "output_type": "display_data"
    }
   ],
   "source": [
    "levels(ff2)[-1]"
   ]
  },
  {
   "cell_type": "code",
   "execution_count": 191,
   "metadata": {},
   "outputs": [
    {
     "data": {
      "text/html": [
       "<ol class=list-inline>\n",
       "\t<li>s</li>\n",
       "\t<li>t</li>\n",
       "\t<li>&lt;NA&gt;</li>\n",
       "\t<li>t</li>\n",
       "\t<li>i</li>\n",
       "\t<li>s</li>\n",
       "\t<li>t</li>\n",
       "\t<li>i</li>\n",
       "\t<li>c</li>\n",
       "\t<li>s</li>\n",
       "</ol>\n",
       "\n",
       "<details>\n",
       "\t<summary style=display:list-item;cursor:pointer>\n",
       "\t\t<strong>Levels</strong>:\n",
       "\t</summary>\n",
       "\t<ol class=list-inline>\n",
       "\t\t<li>'c'</li>\n",
       "\t\t<li>'i'</li>\n",
       "\t\t<li>'s'</li>\n",
       "\t\t<li>'t'</li>\n",
       "\t</ol>\n",
       "</details>"
      ],
      "text/latex": [
       "\\begin{enumerate*}\n",
       "\\item s\n",
       "\\item t\n",
       "\\item <NA>\n",
       "\\item t\n",
       "\\item i\n",
       "\\item s\n",
       "\\item t\n",
       "\\item i\n",
       "\\item c\n",
       "\\item s\n",
       "\\end{enumerate*}\n",
       "\n",
       "\\emph{Levels}: \\begin{enumerate*}\n",
       "\\item 'c'\n",
       "\\item 'i'\n",
       "\\item 's'\n",
       "\\item 't'\n",
       "\\end{enumerate*}\n"
      ],
      "text/markdown": [
       "1. s\n",
       "2. t\n",
       "3. &lt;NA&gt;\n",
       "4. t\n",
       "5. i\n",
       "6. s\n",
       "7. t\n",
       "8. i\n",
       "9. c\n",
       "10. s\n",
       "\n",
       "\n",
       "\n",
       "**Levels**: 1. 'c'\n",
       "2. 'i'\n",
       "3. 's'\n",
       "4. 't'\n",
       "\n",
       "\n"
      ],
      "text/plain": [
       " [1] s    t    <NA> t    i    s    t    i    c    s   \n",
       "Levels: c i s t"
      ]
     },
     "metadata": {},
     "output_type": "display_data"
    }
   ],
   "source": [
    "factor(ff2, levels=levels(ff2)[-1])"
   ]
  },
  {
   "cell_type": "code",
   "execution_count": 192,
   "metadata": {},
   "outputs": [
    {
     "data": {
      "text/html": [
       "<ol class=list-inline>\n",
       "\t<li>s</li>\n",
       "\t<li>t</li>\n",
       "\t<li>&lt;NA&gt;</li>\n",
       "\t<li>t</li>\n",
       "\t<li>i</li>\n",
       "\t<li>s</li>\n",
       "\t<li>t</li>\n",
       "\t<li>i</li>\n",
       "\t<li>c</li>\n",
       "\t<li>s</li>\n",
       "</ol>\n",
       "\n",
       "<details>\n",
       "\t<summary style=display:list-item;cursor:pointer>\n",
       "\t\t<strong>Levels</strong>:\n",
       "\t</summary>\n",
       "\t<ol class=list-inline>\n",
       "\t\t<li>'c'</li>\n",
       "\t\t<li>'i'</li>\n",
       "\t\t<li>'s'</li>\n",
       "\t\t<li>'t'</li>\n",
       "\t</ol>\n",
       "</details>"
      ],
      "text/latex": [
       "\\begin{enumerate*}\n",
       "\\item s\n",
       "\\item t\n",
       "\\item <NA>\n",
       "\\item t\n",
       "\\item i\n",
       "\\item s\n",
       "\\item t\n",
       "\\item i\n",
       "\\item c\n",
       "\\item s\n",
       "\\end{enumerate*}\n",
       "\n",
       "\\emph{Levels}: \\begin{enumerate*}\n",
       "\\item 'c'\n",
       "\\item 'i'\n",
       "\\item 's'\n",
       "\\item 't'\n",
       "\\end{enumerate*}\n"
      ],
      "text/markdown": [
       "1. s\n",
       "2. t\n",
       "3. &lt;NA&gt;\n",
       "4. t\n",
       "5. i\n",
       "6. s\n",
       "7. t\n",
       "8. i\n",
       "9. c\n",
       "10. s\n",
       "\n",
       "\n",
       "\n",
       "**Levels**: 1. 'c'\n",
       "2. 'i'\n",
       "3. 's'\n",
       "4. 't'\n",
       "\n",
       "\n"
      ],
      "text/plain": [
       " [1] s    t    <NA> t    i    s    t    i    c    s   \n",
       "Levels: c i s t"
      ]
     },
     "metadata": {},
     "output_type": "display_data"
    }
   ],
   "source": [
    "factor(ff2, levels=c('c', 'i', 's', 't'))"
   ]
  },
  {
   "cell_type": "code",
   "execution_count": 193,
   "metadata": {},
   "outputs": [
    {
     "data": {
      "text/html": [
       "<ol class=list-inline>\n",
       "\t<li>'a'</li>\n",
       "\t<li>'c'</li>\n",
       "\t<li>'i'</li>\n",
       "\t<li>'s'</li>\n",
       "\t<li>'t'</li>\n",
       "</ol>\n"
      ],
      "text/latex": [
       "\\begin{enumerate*}\n",
       "\\item 'a'\n",
       "\\item 'c'\n",
       "\\item 'i'\n",
       "\\item 's'\n",
       "\\item 't'\n",
       "\\end{enumerate*}\n"
      ],
      "text/markdown": [
       "1. 'a'\n",
       "2. 'c'\n",
       "3. 'i'\n",
       "4. 's'\n",
       "5. 't'\n",
       "\n",
       "\n"
      ],
      "text/plain": [
       "[1] \"a\" \"c\" \"i\" \"s\" \"t\""
      ]
     },
     "metadata": {},
     "output_type": "display_data"
    }
   ],
   "source": [
    "levels(ff2)"
   ]
  },
  {
   "cell_type": "code",
   "execution_count": 194,
   "metadata": {},
   "outputs": [
    {
     "data": {
      "text/html": [
       "<ol class=list-inline>\n",
       "\t<li>'c'</li>\n",
       "\t<li>'i'</li>\n",
       "\t<li>'s'</li>\n",
       "\t<li>'t'</li>\n",
       "</ol>\n"
      ],
      "text/latex": [
       "\\begin{enumerate*}\n",
       "\\item 'c'\n",
       "\\item 'i'\n",
       "\\item 's'\n",
       "\\item 't'\n",
       "\\end{enumerate*}\n"
      ],
      "text/markdown": [
       "1. 'c'\n",
       "2. 'i'\n",
       "3. 's'\n",
       "4. 't'\n",
       "\n",
       "\n"
      ],
      "text/plain": [
       "[1] \"c\" \"i\" \"s\" \"t\""
      ]
     },
     "metadata": {},
     "output_type": "display_data"
    }
   ],
   "source": [
    "levels(ff2)[2:5]"
   ]
  },
  {
   "cell_type": "code",
   "execution_count": 195,
   "metadata": {},
   "outputs": [
    {
     "data": {
      "text/html": [
       "<ol class=list-inline>\n",
       "\t<li>'c'</li>\n",
       "\t<li>'i'</li>\n",
       "\t<li>'s'</li>\n",
       "\t<li>'t'</li>\n",
       "</ol>\n"
      ],
      "text/latex": [
       "\\begin{enumerate*}\n",
       "\\item 'c'\n",
       "\\item 'i'\n",
       "\\item 's'\n",
       "\\item 't'\n",
       "\\end{enumerate*}\n"
      ],
      "text/markdown": [
       "1. 'c'\n",
       "2. 'i'\n",
       "3. 's'\n",
       "4. 't'\n",
       "\n",
       "\n"
      ],
      "text/plain": [
       "[1] \"c\" \"i\" \"s\" \"t\""
      ]
     },
     "metadata": {},
     "output_type": "display_data"
    }
   ],
   "source": [
    "levels(ff2)[-1]"
   ]
  },
  {
   "cell_type": "code",
   "execution_count": 196,
   "metadata": {},
   "outputs": [
    {
     "data": {
      "text/html": [
       "<ol class=list-inline>\n",
       "\t<li>'a'</li>\n",
       "\t<li>'i'</li>\n",
       "\t<li>'s'</li>\n",
       "\t<li>'t'</li>\n",
       "</ol>\n"
      ],
      "text/latex": [
       "\\begin{enumerate*}\n",
       "\\item 'a'\n",
       "\\item 'i'\n",
       "\\item 's'\n",
       "\\item 't'\n",
       "\\end{enumerate*}\n"
      ],
      "text/markdown": [
       "1. 'a'\n",
       "2. 'i'\n",
       "3. 's'\n",
       "4. 't'\n",
       "\n",
       "\n"
      ],
      "text/plain": [
       "[1] \"a\" \"i\" \"s\" \"t\""
      ]
     },
     "metadata": {},
     "output_type": "display_data"
    }
   ],
   "source": [
    "levels(ff2)[-2]"
   ]
  },
  {
   "cell_type": "code",
   "execution_count": 197,
   "metadata": {},
   "outputs": [
    {
     "data": {
      "text/html": [
       "<ol class=list-inline>\n",
       "\t<li>'i'</li>\n",
       "\t<li>'s'</li>\n",
       "\t<li>'t'</li>\n",
       "</ol>\n"
      ],
      "text/latex": [
       "\\begin{enumerate*}\n",
       "\\item 'i'\n",
       "\\item 's'\n",
       "\\item 't'\n",
       "\\end{enumerate*}\n"
      ],
      "text/markdown": [
       "1. 'i'\n",
       "2. 's'\n",
       "3. 't'\n",
       "\n",
       "\n"
      ],
      "text/plain": [
       "[1] \"i\" \"s\" \"t\""
      ]
     },
     "metadata": {},
     "output_type": "display_data"
    }
   ],
   "source": [
    "levels(ff2)[c(-1, -2)]"
   ]
  },
  {
   "cell_type": "code",
   "execution_count": 198,
   "metadata": {},
   "outputs": [
    {
     "data": {
      "text/html": [
       "<ol class=list-inline>\n",
       "\t<li>s</li>\n",
       "\t<li>t</li>\n",
       "\t<li>a</li>\n",
       "\t<li>t</li>\n",
       "\t<li>i</li>\n",
       "\t<li>s</li>\n",
       "\t<li>t</li>\n",
       "\t<li>i</li>\n",
       "\t<li>c</li>\n",
       "\t<li>s</li>\n",
       "</ol>\n",
       "\n",
       "<details>\n",
       "\t<summary style=display:list-item;cursor:pointer>\n",
       "\t\t<strong>Levels</strong>:\n",
       "\t</summary>\n",
       "\t<ol class=list-inline>\n",
       "\t\t<li>'a'</li>\n",
       "\t\t<li>'c'</li>\n",
       "\t\t<li>'i'</li>\n",
       "\t\t<li>'s'</li>\n",
       "\t\t<li>'t'</li>\n",
       "\t</ol>\n",
       "</details>"
      ],
      "text/latex": [
       "\\begin{enumerate*}\n",
       "\\item s\n",
       "\\item t\n",
       "\\item a\n",
       "\\item t\n",
       "\\item i\n",
       "\\item s\n",
       "\\item t\n",
       "\\item i\n",
       "\\item c\n",
       "\\item s\n",
       "\\end{enumerate*}\n",
       "\n",
       "\\emph{Levels}: \\begin{enumerate*}\n",
       "\\item 'a'\n",
       "\\item 'c'\n",
       "\\item 'i'\n",
       "\\item 's'\n",
       "\\item 't'\n",
       "\\end{enumerate*}\n"
      ],
      "text/markdown": [
       "1. s\n",
       "2. t\n",
       "3. a\n",
       "4. t\n",
       "5. i\n",
       "6. s\n",
       "7. t\n",
       "8. i\n",
       "9. c\n",
       "10. s\n",
       "\n",
       "\n",
       "\n",
       "**Levels**: 1. 'a'\n",
       "2. 'c'\n",
       "3. 'i'\n",
       "4. 's'\n",
       "5. 't'\n",
       "\n",
       "\n"
      ],
      "text/plain": [
       " [1] s t a t i s t i c s\n",
       "Levels: a c i s t"
      ]
     },
     "metadata": {},
     "output_type": "display_data"
    }
   ],
   "source": [
    "ff2"
   ]
  },
  {
   "cell_type": "code",
   "execution_count": 199,
   "metadata": {},
   "outputs": [],
   "source": [
    "ff3 = ff2"
   ]
  },
  {
   "cell_type": "code",
   "execution_count": 200,
   "metadata": {},
   "outputs": [],
   "source": [
    "levels(ff3) = list(\"a\"= c(\"a\", \"c\"), \"s\"=c(\"s\", \"t\"))"
   ]
  },
  {
   "cell_type": "code",
   "execution_count": 201,
   "metadata": {},
   "outputs": [],
   "source": [
    "levels(ff3) = list(\"a\"= c(\"a\", \"c\"), \"i\" = c(\"i\"), \"s\"=c(\"s\", \"t\"))"
   ]
  },
  {
   "cell_type": "code",
   "execution_count": 202,
   "metadata": {},
   "outputs": [
    {
     "name": "stderr",
     "output_type": "stream",
     "text": [
      "Loading required package: carData\n"
     ]
    },
    {
     "data": {
      "text/html": [
       "<ol class=list-inline>\n",
       "\t<li>a</li>\n",
       "\t<li>t</li>\n",
       "\t<li>a</li>\n",
       "\t<li>t</li>\n",
       "\t<li>i</li>\n",
       "\t<li>a</li>\n",
       "\t<li>t</li>\n",
       "\t<li>i</li>\n",
       "\t<li>a</li>\n",
       "\t<li>a</li>\n",
       "</ol>\n",
       "\n",
       "<details>\n",
       "\t<summary style=display:list-item;cursor:pointer>\n",
       "\t\t<strong>Levels</strong>:\n",
       "\t</summary>\n",
       "\t<ol class=list-inline>\n",
       "\t\t<li>'a'</li>\n",
       "\t\t<li>'i'</li>\n",
       "\t\t<li>'t'</li>\n",
       "\t</ol>\n",
       "</details>"
      ],
      "text/latex": [
       "\\begin{enumerate*}\n",
       "\\item a\n",
       "\\item t\n",
       "\\item a\n",
       "\\item t\n",
       "\\item i\n",
       "\\item a\n",
       "\\item t\n",
       "\\item i\n",
       "\\item a\n",
       "\\item a\n",
       "\\end{enumerate*}\n",
       "\n",
       "\\emph{Levels}: \\begin{enumerate*}\n",
       "\\item 'a'\n",
       "\\item 'i'\n",
       "\\item 't'\n",
       "\\end{enumerate*}\n"
      ],
      "text/markdown": [
       "1. a\n",
       "2. t\n",
       "3. a\n",
       "4. t\n",
       "5. i\n",
       "6. a\n",
       "7. t\n",
       "8. i\n",
       "9. a\n",
       "10. a\n",
       "\n",
       "\n",
       "\n",
       "**Levels**: 1. 'a'\n",
       "2. 'i'\n",
       "3. 't'\n",
       "\n",
       "\n"
      ],
      "text/plain": [
       " [1] a t a t i a t i a a\n",
       "Levels: a i t"
      ]
     },
     "metadata": {},
     "output_type": "display_data"
    }
   ],
   "source": [
    "library(car)\n",
    "\n",
    "recode(ff2, \"    'a'='a' ;  'c'='a' ;  's'='a'    \")"
   ]
  },
  {
   "cell_type": "code",
   "execution_count": 203,
   "metadata": {},
   "outputs": [
    {
     "data": {
      "text/html": [
       "<ol class=list-inline>\n",
       "\t<li>a</li>\n",
       "\t<li>&lt;NA&gt;</li>\n",
       "\t<li>a</li>\n",
       "\t<li>&lt;NA&gt;</li>\n",
       "\t<li>i</li>\n",
       "\t<li>a</li>\n",
       "\t<li>&lt;NA&gt;</li>\n",
       "\t<li>i</li>\n",
       "\t<li>a</li>\n",
       "\t<li>a</li>\n",
       "</ol>\n",
       "\n",
       "<details>\n",
       "\t<summary style=display:list-item;cursor:pointer>\n",
       "\t\t<strong>Levels</strong>:\n",
       "\t</summary>\n",
       "\t<ol class=list-inline>\n",
       "\t\t<li>'a'</li>\n",
       "\t\t<li>'i'</li>\n",
       "\t</ol>\n",
       "</details>"
      ],
      "text/latex": [
       "\\begin{enumerate*}\n",
       "\\item a\n",
       "\\item <NA>\n",
       "\\item a\n",
       "\\item <NA>\n",
       "\\item i\n",
       "\\item a\n",
       "\\item <NA>\n",
       "\\item i\n",
       "\\item a\n",
       "\\item a\n",
       "\\end{enumerate*}\n",
       "\n",
       "\\emph{Levels}: \\begin{enumerate*}\n",
       "\\item 'a'\n",
       "\\item 'i'\n",
       "\\end{enumerate*}\n"
      ],
      "text/markdown": [
       "1. a\n",
       "2. &lt;NA&gt;\n",
       "3. a\n",
       "4. &lt;NA&gt;\n",
       "5. i\n",
       "6. a\n",
       "7. &lt;NA&gt;\n",
       "8. i\n",
       "9. a\n",
       "10. a\n",
       "\n",
       "\n",
       "\n",
       "**Levels**: 1. 'a'\n",
       "2. 'i'\n",
       "\n",
       "\n"
      ],
      "text/plain": [
       " [1] a    <NA> a    <NA> i    a    <NA> i    a    a   \n",
       "Levels: a i"
      ]
     },
     "metadata": {},
     "output_type": "display_data"
    }
   ],
   "source": [
    "recode(ff2, \"    'a'='a' ;  'c'='a' ;  's'='a' ; 't' = NA    \")"
   ]
  },
  {
   "cell_type": "code",
   "execution_count": 204,
   "metadata": {},
   "outputs": [
    {
     "data": {
      "text/html": [
       "<ol class=list-inline>\n",
       "\t<li>i</li>\n",
       "\t<li>i</li>\n",
       "\t<li>a</li>\n",
       "\t<li>i</li>\n",
       "\t<li>i</li>\n",
       "\t<li>i</li>\n",
       "\t<li>i</li>\n",
       "\t<li>i</li>\n",
       "\t<li>a</li>\n",
       "\t<li>i</li>\n",
       "</ol>\n",
       "\n",
       "<details>\n",
       "\t<summary style=display:list-item;cursor:pointer>\n",
       "\t\t<strong>Levels</strong>:\n",
       "\t</summary>\n",
       "\t<ol class=list-inline>\n",
       "\t\t<li>'a'</li>\n",
       "\t\t<li>'i'</li>\n",
       "\t</ol>\n",
       "</details>"
      ],
      "text/latex": [
       "\\begin{enumerate*}\n",
       "\\item i\n",
       "\\item i\n",
       "\\item a\n",
       "\\item i\n",
       "\\item i\n",
       "\\item i\n",
       "\\item i\n",
       "\\item i\n",
       "\\item a\n",
       "\\item i\n",
       "\\end{enumerate*}\n",
       "\n",
       "\\emph{Levels}: \\begin{enumerate*}\n",
       "\\item 'a'\n",
       "\\item 'i'\n",
       "\\end{enumerate*}\n"
      ],
      "text/markdown": [
       "1. i\n",
       "2. i\n",
       "3. a\n",
       "4. i\n",
       "5. i\n",
       "6. i\n",
       "7. i\n",
       "8. i\n",
       "9. a\n",
       "10. i\n",
       "\n",
       "\n",
       "\n",
       "**Levels**: 1. 'a'\n",
       "2. 'i'\n",
       "\n",
       "\n"
      ],
      "text/plain": [
       " [1] i i a i i i i i a i\n",
       "Levels: a i"
      ]
     },
     "metadata": {},
     "output_type": "display_data"
    }
   ],
   "source": [
    "recode(ff2, \" 'a'='a'; 'c'='a'; 'i'='i'; 's'= 'i'; 't'='i'\")"
   ]
  },
  {
   "cell_type": "code",
   "execution_count": 308,
   "metadata": {},
   "outputs": [
    {
     "data": {
      "text/html": [
       "<ol class=list-inline>\n",
       "\t<li>s</li>\n",
       "\t<li>s</li>\n",
       "\t<li>a</li>\n",
       "\t<li>s</li>\n",
       "\t<li>&lt;NA&gt;</li>\n",
       "\t<li>s</li>\n",
       "\t<li>s</li>\n",
       "\t<li>&lt;NA&gt;</li>\n",
       "\t<li>a</li>\n",
       "\t<li>s</li>\n",
       "</ol>\n",
       "\n",
       "<details>\n",
       "\t<summary style=display:list-item;cursor:pointer>\n",
       "\t\t<strong>Levels</strong>:\n",
       "\t</summary>\n",
       "\t<ol class=list-inline>\n",
       "\t\t<li>'a'</li>\n",
       "\t\t<li>'i'</li>\n",
       "\t\t<li>'s'</li>\n",
       "\t</ol>\n",
       "</details>"
      ],
      "text/latex": [
       "\\begin{enumerate*}\n",
       "\\item s\n",
       "\\item s\n",
       "\\item a\n",
       "\\item s\n",
       "\\item <NA>\n",
       "\\item s\n",
       "\\item s\n",
       "\\item <NA>\n",
       "\\item a\n",
       "\\item s\n",
       "\\end{enumerate*}\n",
       "\n",
       "\\emph{Levels}: \\begin{enumerate*}\n",
       "\\item 'a'\n",
       "\\item 'i'\n",
       "\\item 's'\n",
       "\\end{enumerate*}\n"
      ],
      "text/markdown": [
       "1. s\n",
       "2. s\n",
       "3. a\n",
       "4. s\n",
       "5. &lt;NA&gt;\n",
       "6. s\n",
       "7. s\n",
       "8. &lt;NA&gt;\n",
       "9. a\n",
       "10. s\n",
       "\n",
       "\n",
       "\n",
       "**Levels**: 1. 'a'\n",
       "2. 'i'\n",
       "3. 's'\n",
       "\n",
       "\n"
      ],
      "text/plain": [
       " [1] s    s    a    s    <NA> s    s    <NA> a    s   \n",
       "Levels: a i s"
      ]
     },
     "metadata": {},
     "output_type": "display_data"
    }
   ],
   "source": [
    "ff3"
   ]
  },
  {
   "cell_type": "code",
   "execution_count": 309,
   "metadata": {},
   "outputs": [
    {
     "data": {
      "text/html": [
       "<ol class=list-inline>\n",
       "\t<li>s</li>\n",
       "\t<li>s</li>\n",
       "\t<li>a</li>\n",
       "\t<li>s</li>\n",
       "\t<li>&lt;NA&gt;</li>\n",
       "\t<li>s</li>\n",
       "\t<li>s</li>\n",
       "\t<li>&lt;NA&gt;</li>\n",
       "\t<li>a</li>\n",
       "\t<li>s</li>\n",
       "</ol>\n",
       "\n",
       "<details>\n",
       "\t<summary style=display:list-item;cursor:pointer>\n",
       "\t\t<strong>Levels</strong>:\n",
       "\t</summary>\n",
       "\t<ol class=list-inline>\n",
       "\t\t<li>'i'</li>\n",
       "\t\t<li>'a'</li>\n",
       "\t\t<li>'s'</li>\n",
       "\t</ol>\n",
       "</details>"
      ],
      "text/latex": [
       "\\begin{enumerate*}\n",
       "\\item s\n",
       "\\item s\n",
       "\\item a\n",
       "\\item s\n",
       "\\item <NA>\n",
       "\\item s\n",
       "\\item s\n",
       "\\item <NA>\n",
       "\\item a\n",
       "\\item s\n",
       "\\end{enumerate*}\n",
       "\n",
       "\\emph{Levels}: \\begin{enumerate*}\n",
       "\\item 'i'\n",
       "\\item 'a'\n",
       "\\item 's'\n",
       "\\end{enumerate*}\n"
      ],
      "text/markdown": [
       "1. s\n",
       "2. s\n",
       "3. a\n",
       "4. s\n",
       "5. &lt;NA&gt;\n",
       "6. s\n",
       "7. s\n",
       "8. &lt;NA&gt;\n",
       "9. a\n",
       "10. s\n",
       "\n",
       "\n",
       "\n",
       "**Levels**: 1. 'i'\n",
       "2. 'a'\n",
       "3. 's'\n",
       "\n",
       "\n"
      ],
      "text/plain": [
       " [1] s    s    a    s    <NA> s    s    <NA> a    s   \n",
       "Levels: i a s"
      ]
     },
     "metadata": {},
     "output_type": "display_data"
    }
   ],
   "source": [
    "ff4 = relevel(ff3, \"i\")\n",
    "\n",
    "ff4"
   ]
  },
  {
   "cell_type": "markdown",
   "metadata": {},
   "source": [
    "数据框（data frame）"
   ]
  },
  {
   "cell_type": "code",
   "execution_count": 205,
   "metadata": {},
   "outputs": [
    {
     "data": {
      "text/html": [
       "<table>\n",
       "<thead><tr><th scope=col>age</th><th scope=col>gender</th></tr></thead>\n",
       "<tbody>\n",
       "\t<tr><td>20</td><td>F </td></tr>\n",
       "\t<tr><td>21</td><td>F </td></tr>\n",
       "\t<tr><td>22</td><td>M </td></tr>\n",
       "</tbody>\n",
       "</table>\n"
      ],
      "text/latex": [
       "\\begin{tabular}{r|ll}\n",
       " age & gender\\\\\n",
       "\\hline\n",
       "\t 20 & F \\\\\n",
       "\t 21 & F \\\\\n",
       "\t 22 & M \\\\\n",
       "\\end{tabular}\n"
      ],
      "text/markdown": [
       "\n",
       "age | gender | \n",
       "|---|---|---|\n",
       "| 20 | F  | \n",
       "| 21 | F  | \n",
       "| 22 | M  | \n",
       "\n",
       "\n"
      ],
      "text/plain": [
       "  age gender\n",
       "1 20  F     \n",
       "2 21  F     \n",
       "3 22  M     "
      ]
     },
     "metadata": {},
     "output_type": "display_data"
    }
   ],
   "source": [
    "x = c(20, 21, 22)\n",
    "y = c('F', 'F', 'M')\n",
    "\n",
    "d = data.frame(age=x, gender=y)\n",
    "# d = data.frame(age=c(20, 21, 22), gender=c('F', 'F', 'M'))\n",
    "\n",
    "d"
   ]
  },
  {
   "cell_type": "code",
   "execution_count": 206,
   "metadata": {},
   "outputs": [
    {
     "data": {
      "text/plain": [
       "      age       gender\n",
       " Min.   :20.0   F:2   \n",
       " 1st Qu.:20.5   M:1   \n",
       " Median :21.0         \n",
       " Mean   :21.0         \n",
       " 3rd Qu.:21.5         \n",
       " Max.   :22.0         "
      ]
     },
     "metadata": {},
     "output_type": "display_data"
    }
   ],
   "source": [
    "summary(d)"
   ]
  },
  {
   "cell_type": "code",
   "execution_count": 207,
   "metadata": {},
   "outputs": [
    {
     "data": {
      "text/html": [
       "<ol class=list-inline>\n",
       "\t<li>'age'</li>\n",
       "\t<li>'gender'</li>\n",
       "</ol>\n"
      ],
      "text/latex": [
       "\\begin{enumerate*}\n",
       "\\item 'age'\n",
       "\\item 'gender'\n",
       "\\end{enumerate*}\n"
      ],
      "text/markdown": [
       "1. 'age'\n",
       "2. 'gender'\n",
       "\n",
       "\n"
      ],
      "text/plain": [
       "[1] \"age\"    \"gender\""
      ]
     },
     "metadata": {},
     "output_type": "display_data"
    }
   ],
   "source": [
    "names(d)"
   ]
  },
  {
   "cell_type": "code",
   "execution_count": 208,
   "metadata": {},
   "outputs": [],
   "source": [
    "?\"$\""
   ]
  },
  {
   "cell_type": "code",
   "execution_count": 209,
   "metadata": {},
   "outputs": [
    {
     "data": {
      "text/html": [
       "<ol class=list-inline>\n",
       "\t<li>20</li>\n",
       "\t<li>21</li>\n",
       "\t<li>22</li>\n",
       "</ol>\n"
      ],
      "text/latex": [
       "\\begin{enumerate*}\n",
       "\\item 20\n",
       "\\item 21\n",
       "\\item 22\n",
       "\\end{enumerate*}\n"
      ],
      "text/markdown": [
       "1. 20\n",
       "2. 21\n",
       "3. 22\n",
       "\n",
       "\n"
      ],
      "text/plain": [
       "[1] 20 21 22"
      ]
     },
     "metadata": {},
     "output_type": "display_data"
    }
   ],
   "source": [
    "d$age"
   ]
  },
  {
   "cell_type": "code",
   "execution_count": 210,
   "metadata": {},
   "outputs": [
    {
     "data": {
      "text/plain": [
       "   Min. 1st Qu.  Median    Mean 3rd Qu.    Max. \n",
       "   20.0    20.5    21.0    21.0    21.5    22.0 "
      ]
     },
     "metadata": {},
     "output_type": "display_data"
    }
   ],
   "source": [
    "summary(d$age)"
   ]
  },
  {
   "cell_type": "code",
   "execution_count": 211,
   "metadata": {},
   "outputs": [
    {
     "data": {
      "text/html": [
       "<ol class=list-inline>\n",
       "\t<li>FALSE</li>\n",
       "\t<li>TRUE</li>\n",
       "\t<li>TRUE</li>\n",
       "</ol>\n"
      ],
      "text/latex": [
       "\\begin{enumerate*}\n",
       "\\item FALSE\n",
       "\\item TRUE\n",
       "\\item TRUE\n",
       "\\end{enumerate*}\n"
      ],
      "text/markdown": [
       "1. FALSE\n",
       "2. TRUE\n",
       "3. TRUE\n",
       "\n",
       "\n"
      ],
      "text/plain": [
       "[1] FALSE  TRUE  TRUE"
      ]
     },
     "metadata": {},
     "output_type": "display_data"
    }
   ],
   "source": [
    "d$age > 20"
   ]
  },
  {
   "cell_type": "code",
   "execution_count": 212,
   "metadata": {},
   "outputs": [
    {
     "data": {
      "text/html": [
       "<table>\n",
       "<thead><tr><th></th><th scope=col>age</th><th scope=col>gender</th></tr></thead>\n",
       "<tbody>\n",
       "\t<tr><th scope=row>2</th><td>21</td><td>F </td></tr>\n",
       "\t<tr><th scope=row>3</th><td>22</td><td>M </td></tr>\n",
       "</tbody>\n",
       "</table>\n"
      ],
      "text/latex": [
       "\\begin{tabular}{r|ll}\n",
       "  & age & gender\\\\\n",
       "\\hline\n",
       "\t2 & 21 & F \\\\\n",
       "\t3 & 22 & M \\\\\n",
       "\\end{tabular}\n"
      ],
      "text/markdown": [
       "\n",
       "| <!--/--> | age | gender | \n",
       "|---|---|\n",
       "| 2 | 21 | F  | \n",
       "| 3 | 22 | M  | \n",
       "\n",
       "\n"
      ],
      "text/plain": [
       "  age gender\n",
       "2 21  F     \n",
       "3 22  M     "
      ]
     },
     "metadata": {},
     "output_type": "display_data"
    }
   ],
   "source": [
    "subset(d, age>20)"
   ]
  },
  {
   "cell_type": "code",
   "execution_count": 213,
   "metadata": {},
   "outputs": [
    {
     "data": {
      "text/html": [
       "<table>\n",
       "<thead><tr><th></th><th scope=col>age</th><th scope=col>gender</th></tr></thead>\n",
       "<tbody>\n",
       "\t<tr><th scope=row>2</th><td>21</td><td>F </td></tr>\n",
       "\t<tr><th scope=row>3</th><td>22</td><td>M </td></tr>\n",
       "</tbody>\n",
       "</table>\n"
      ],
      "text/latex": [
       "\\begin{tabular}{r|ll}\n",
       "  & age & gender\\\\\n",
       "\\hline\n",
       "\t2 & 21 & F \\\\\n",
       "\t3 & 22 & M \\\\\n",
       "\\end{tabular}\n"
      ],
      "text/markdown": [
       "\n",
       "| <!--/--> | age | gender | \n",
       "|---|---|\n",
       "| 2 | 21 | F  | \n",
       "| 3 | 22 | M  | \n",
       "\n",
       "\n"
      ],
      "text/plain": [
       "  age gender\n",
       "2 21  F     \n",
       "3 22  M     "
      ]
     },
     "metadata": {},
     "output_type": "display_data"
    }
   ],
   "source": [
    "subset(d, d$age>20)"
   ]
  },
  {
   "cell_type": "code",
   "execution_count": 214,
   "metadata": {},
   "outputs": [
    {
     "data": {
      "text/html": [
       "<table>\n",
       "<thead><tr><th></th><th scope=col>age</th><th scope=col>gender</th></tr></thead>\n",
       "<tbody>\n",
       "\t<tr><th scope=row>2</th><td>21</td><td>F </td></tr>\n",
       "\t<tr><th scope=row>3</th><td>22</td><td>M </td></tr>\n",
       "</tbody>\n",
       "</table>\n"
      ],
      "text/latex": [
       "\\begin{tabular}{r|ll}\n",
       "  & age & gender\\\\\n",
       "\\hline\n",
       "\t2 & 21 & F \\\\\n",
       "\t3 & 22 & M \\\\\n",
       "\\end{tabular}\n"
      ],
      "text/markdown": [
       "\n",
       "| <!--/--> | age | gender | \n",
       "|---|---|\n",
       "| 2 | 21 | F  | \n",
       "| 3 | 22 | M  | \n",
       "\n",
       "\n"
      ],
      "text/plain": [
       "  age gender\n",
       "2 21  F     \n",
       "3 22  M     "
      ]
     },
     "metadata": {},
     "output_type": "display_data"
    }
   ],
   "source": [
    "d[d$age>20, ]"
   ]
  },
  {
   "cell_type": "code",
   "execution_count": 215,
   "metadata": {},
   "outputs": [
    {
     "data": {
      "text/html": [
       "<table>\n",
       "<thead><tr><th></th><th scope=col>age</th></tr></thead>\n",
       "<tbody>\n",
       "\t<tr><th scope=row>2</th><td>21</td></tr>\n",
       "\t<tr><th scope=row>3</th><td>22</td></tr>\n",
       "</tbody>\n",
       "</table>\n"
      ],
      "text/latex": [
       "\\begin{tabular}{r|l}\n",
       "  & age\\\\\n",
       "\\hline\n",
       "\t2 & 21\\\\\n",
       "\t3 & 22\\\\\n",
       "\\end{tabular}\n"
      ],
      "text/markdown": [
       "\n",
       "| <!--/--> | age | \n",
       "|---|---|\n",
       "| 2 | 21 | \n",
       "| 3 | 22 | \n",
       "\n",
       "\n"
      ],
      "text/plain": [
       "  age\n",
       "2 21 \n",
       "3 22 "
      ]
     },
     "metadata": {},
     "output_type": "display_data"
    }
   ],
   "source": [
    "d[d$age>20, c(\"age\"), drop=F]"
   ]
  },
  {
   "cell_type": "code",
   "execution_count": 216,
   "metadata": {},
   "outputs": [],
   "source": [
    "?subset"
   ]
  },
  {
   "cell_type": "markdown",
   "metadata": {},
   "source": [
    "正态分布可视化"
   ]
  },
  {
   "cell_type": "code",
   "execution_count": 217,
   "metadata": {},
   "outputs": [
    {
     "data": {
      "image/png": "[encoded data removed]",
      "text/plain": [
       "plot without title"
      ]
     },
     "metadata": {},
     "output_type": "display_data"
    }
   ],
   "source": [
    "curve(dnorm, -6, 6)"
   ]
  },
  {
   "cell_type": "code",
   "execution_count": 218,
   "metadata": {},
   "outputs": [
    {
     "data": {
      "image/png": "[encoded data removed]",
      "text/plain": [
       "plot without title"
      ]
     },
     "metadata": {},
     "output_type": "display_data"
    }
   ],
   "source": [
    "curve(expr = dnorm, from = -6, to = 6)\n",
    "curve(dnorm(x, sd=2), add=TRUE, col=\"blue\", lty=2)\n",
    "# curve(dnorm(x, mean=1), add=TRUE, col=\"red\", lty=3)\n",
    "\n",
    "curve(dnorm(x, 1), add=TRUE, col=\"red\", lty=3)\n",
    "abline(v=1, lty=3, col=\"red\", lwd=4)\n",
    "abline(v=0, lty=1, col=\"black\", lwd=1)"
   ]
  },
  {
   "cell_type": "code",
   "execution_count": 219,
   "metadata": {},
   "outputs": [],
   "source": [
    "?abline"
   ]
  },
  {
   "cell_type": "code",
   "execution_count": 220,
   "metadata": {},
   "outputs": [
    {
     "data": {
      "image/png": "[encoded data removed]",
      "text/plain": [
       "plot without title"
      ]
     },
     "metadata": {},
     "output_type": "display_data"
    }
   ],
   "source": [
    "curve(dnorm, -6, 6)\n",
    "\n",
    "curve(dt(x, df=30), add=TRUE, col=\"red\", lty=2, lwd=2)"
   ]
  },
  {
   "cell_type": "markdown",
   "metadata": {},
   "source": [
    "正态分布的累计概率函数"
   ]
  },
  {
   "cell_type": "code",
   "execution_count": 221,
   "metadata": {},
   "outputs": [
    {
     "data": {
      "image/png": "[encoded data removed]",
      "text/plain": [
       "plot without title"
      ]
     },
     "metadata": {},
     "output_type": "display_data"
    }
   ],
   "source": [
    "curve(pnorm, -5, 5)"
   ]
  },
  {
   "cell_type": "markdown",
   "metadata": {},
   "source": [
    "正态分布的分位值(quantile)函数"
   ]
  },
  {
   "cell_type": "code",
   "execution_count": 222,
   "metadata": {},
   "outputs": [
    {
     "data": {
      "image/png": "[encoded data removed]",
      "text/plain": [
       "plot without title"
      ]
     },
     "metadata": {},
     "output_type": "display_data"
    }
   ],
   "source": [
    "curve(qnorm, 0, 1)"
   ]
  },
  {
   "cell_type": "markdown",
   "metadata": {},
   "source": [
    "卡方分布\n",
    "\n",
    "df个标准正态分布的平方和为一个自由度df的卡方分布。"
   ]
  },
  {
   "cell_type": "code",
   "execution_count": 225,
   "metadata": {},
   "outputs": [
    {
     "data": {
      "image/png": "[encoded data removed]",
      "text/plain": [
       "plot without title"
      ]
     },
     "metadata": {},
     "output_type": "display_data"
    }
   ],
   "source": [
    "curve(dchisq(x, df=5), from=-5, to=20)\n",
    "\n",
    "curve(dchisq(x, df=8), from=-5, to=20, add=TRUE, col=\"red\", lty=2)"
   ]
  },
  {
   "cell_type": "markdown",
   "metadata": {},
   "source": [
    "T分布\n",
    "\n",
    "如果Z为标准正态分布，X为自由度为n的卡方分布，则$\\frac{Z}{\\sqrt{X/n}}$为自由度为n的T分布。"
   ]
  },
  {
   "cell_type": "markdown",
   "metadata": {},
   "source": [
    "F分布\n",
    "\n",
    "如果X1服从自由度为df1的卡方分布，X2服从自由度为df2的卡方分布，那么$\\frac{X1/df1}{X2/df2}$为自由度为df1, df2的F分布。"
   ]
  },
  {
   "cell_type": "code",
   "execution_count": 223,
   "metadata": {},
   "outputs": [
    {
     "data": {
      "image/png": "[encoded data removed]",
      "text/plain": [
       "plot without title"
      ]
     },
     "metadata": {},
     "output_type": "display_data"
    }
   ],
   "source": [
    "curve(df(x, df1=3, df2=10), from=-1, to=6)"
   ]
  },
  {
   "cell_type": "code",
   "execution_count": 224,
   "metadata": {},
   "outputs": [
    {
     "data": {
      "image/png": "[encoded data removed]",
      "text/plain": [
       "plot without title"
      ]
     },
     "metadata": {},
     "output_type": "display_data"
    }
   ],
   "source": [
    "curve(df(x, df1=3, df2=10), from=-1, to=6)\n",
    "\n",
    "curve(df(x, df1=5, df2=10), from=-1, to=6, col='red', add=TRUE)\n",
    "\n",
    "curve(df(x, df1=5, df2=20), from=-1, to=6, col='blue', add=TRUE)"
   ]
  },
  {
   "cell_type": "markdown",
   "metadata": {},
   "source": [
    "泊松分布"
   ]
  },
  {
   "cell_type": "code",
   "execution_count": 226,
   "metadata": {
    "scrolled": true
   },
   "outputs": [
    {
     "data": {
      "image/png": "[encoded data removed]",
      "text/plain": [
       "plot without title"
      ]
     },
     "metadata": {},
     "output_type": "display_data"
    }
   ],
   "source": [
    "x = 0:20\n",
    "pr = dpois(x, lambda=5)\n",
    "plot(x, pr, type=\"b\", ylab=\"Pr(x)\")"
   ]
  },
  {
   "cell_type": "markdown",
   "metadata": {},
   "source": [
    "二项分布"
   ]
  },
  {
   "cell_type": "code",
   "execution_count": 227,
   "metadata": {},
   "outputs": [
    {
     "data": {
      "image/png": "[encoded data removed]",
      "text/plain": [
       "plot without title"
      ]
     },
     "metadata": {},
     "output_type": "display_data"
    }
   ],
   "source": [
    "x = 0:10\n",
    "pr = dbinom(x, size=5, p=0.5)\n",
    "plot(x, pr, type=\"b\", ylab=\"Pr(x)\", ylim=c(0, 0.35))\n",
    "\n",
    "pr2 = dbinom(x, size=5, p=0.3)\n",
    "lines(x, pr2, lty=2, col=\"red\", type=\"b\")"
   ]
  },
  {
   "cell_type": "markdown",
   "metadata": {},
   "source": [
    "程序包安装与加载"
   ]
  },
  {
   "cell_type": "markdown",
   "metadata": {},
   "source": [
    "```R\n",
    "install.packages(\"openxlsx\")\n",
    "library(openxlsx)\n",
    "```"
   ]
  },
  {
   "cell_type": "markdown",
   "metadata": {},
   "source": [
    "导入xlsx数据"
   ]
  },
  {
   "cell_type": "code",
   "execution_count": 228,
   "metadata": {},
   "outputs": [],
   "source": [
    "library(openxlsx)\n",
    "\n",
    "prestige <- read.xlsx(\"data/prestige.xlsx\", sheet=1)"
   ]
  },
  {
   "cell_type": "markdown",
   "metadata": {},
   "source": [
    "```\n",
    "file.choose()\n",
    "# choose a file directly\n",
    "```"
   ]
  },
  {
   "cell_type": "code",
   "execution_count": 229,
   "metadata": {
    "scrolled": true
   },
   "outputs": [
    {
     "data": {
      "text/html": [
       "<table>\n",
       "<thead><tr><th scope=col>education</th><th scope=col>income</th><th scope=col>women</th><th scope=col>prestige</th><th scope=col>census</th><th scope=col>type</th></tr></thead>\n",
       "<tbody>\n",
       "\t<tr><td>13.11</td><td>12351</td><td>11.16</td><td>68.8 </td><td>1113 </td><td>prof </td></tr>\n",
       "\t<tr><td>12.26</td><td>25879</td><td> 4.02</td><td>69.1 </td><td>1130 </td><td>prof </td></tr>\n",
       "\t<tr><td>12.77</td><td> 9271</td><td>15.70</td><td>63.4 </td><td>1171 </td><td>prof </td></tr>\n",
       "\t<tr><td>11.42</td><td> 8865</td><td> 9.11</td><td>56.8 </td><td>1175 </td><td>prof </td></tr>\n",
       "\t<tr><td>14.62</td><td> 8403</td><td>11.68</td><td>73.5 </td><td>2111 </td><td>prof </td></tr>\n",
       "</tbody>\n",
       "</table>\n"
      ],
      "text/latex": [
       "\\begin{tabular}{r|llllll}\n",
       " education & income & women & prestige & census & type\\\\\n",
       "\\hline\n",
       "\t 13.11 & 12351 & 11.16 & 68.8  & 1113  & prof \\\\\n",
       "\t 12.26 & 25879 &  4.02 & 69.1  & 1130  & prof \\\\\n",
       "\t 12.77 &  9271 & 15.70 & 63.4  & 1171  & prof \\\\\n",
       "\t 11.42 &  8865 &  9.11 & 56.8  & 1175  & prof \\\\\n",
       "\t 14.62 &  8403 & 11.68 & 73.5  & 2111  & prof \\\\\n",
       "\\end{tabular}\n"
      ],
      "text/markdown": [
       "\n",
       "education | income | women | prestige | census | type | \n",
       "|---|---|---|---|---|\n",
       "| 13.11 | 12351 | 11.16 | 68.8  | 1113  | prof  | \n",
       "| 12.26 | 25879 |  4.02 | 69.1  | 1130  | prof  | \n",
       "| 12.77 |  9271 | 15.70 | 63.4  | 1171  | prof  | \n",
       "| 11.42 |  8865 |  9.11 | 56.8  | 1175  | prof  | \n",
       "| 14.62 |  8403 | 11.68 | 73.5  | 2111  | prof  | \n",
       "\n",
       "\n"
      ],
      "text/plain": [
       "  education income women prestige census type\n",
       "1 13.11     12351  11.16 68.8     1113   prof\n",
       "2 12.26     25879   4.02 69.1     1130   prof\n",
       "3 12.77      9271  15.70 63.4     1171   prof\n",
       "4 11.42      8865   9.11 56.8     1175   prof\n",
       "5 14.62      8403  11.68 73.5     2111   prof"
      ]
     },
     "metadata": {},
     "output_type": "display_data"
    }
   ],
   "source": [
    "head(prestige, 5)"
   ]
  },
  {
   "cell_type": "code",
   "execution_count": 312,
   "metadata": {},
   "outputs": [
    {
     "data": {
      "text/html": [
       "<table>\n",
       "<thead><tr><th></th><th scope=col>education</th><th scope=col>income</th><th scope=col>women</th><th scope=col>prestige</th><th scope=col>census</th><th scope=col>type</th><th scope=col>new_var</th></tr></thead>\n",
       "<tbody>\n",
       "\t<tr><th scope=row>97</th><td> 8.49</td><td>8845 </td><td> 0.00</td><td>48.9 </td><td>9131 </td><td>bc   </td><td>0    </td></tr>\n",
       "\t<tr><th scope=row>98</th><td> 7.58</td><td>5562 </td><td> 9.47</td><td>35.9 </td><td>9171 </td><td>bc   </td><td>0    </td></tr>\n",
       "\t<tr><th scope=row>99</th><td> 7.93</td><td>4224 </td><td> 3.59</td><td>25.1 </td><td>9173 </td><td>bc   </td><td>0    </td></tr>\n",
       "\t<tr><th scope=row>100</th><td> 8.37</td><td>4753 </td><td> 0.00</td><td>26.1 </td><td>9313 </td><td>bc   </td><td>0    </td></tr>\n",
       "\t<tr><th scope=row>101</th><td>10.00</td><td>6462 </td><td>13.58</td><td>42.2 </td><td>9511 </td><td>bc   </td><td>0    </td></tr>\n",
       "\t<tr><th scope=row>102</th><td> 8.55</td><td>3617 </td><td>70.87</td><td>35.2 </td><td>9517 </td><td>bc   </td><td>0    </td></tr>\n",
       "</tbody>\n",
       "</table>\n"
      ],
      "text/latex": [
       "\\begin{tabular}{r|lllllll}\n",
       "  & education & income & women & prestige & census & type & new\\_var\\\\\n",
       "\\hline\n",
       "\t97 &  8.49 & 8845  &  0.00 & 48.9  & 9131  & bc    & 0    \\\\\n",
       "\t98 &  7.58 & 5562  &  9.47 & 35.9  & 9171  & bc    & 0    \\\\\n",
       "\t99 &  7.93 & 4224  &  3.59 & 25.1  & 9173  & bc    & 0    \\\\\n",
       "\t100 &  8.37 & 4753  &  0.00 & 26.1  & 9313  & bc    & 0    \\\\\n",
       "\t101 & 10.00 & 6462  & 13.58 & 42.2  & 9511  & bc    & 0    \\\\\n",
       "\t102 &  8.55 & 3617  & 70.87 & 35.2  & 9517  & bc    & 0    \\\\\n",
       "\\end{tabular}\n"
      ],
      "text/markdown": [
       "\n",
       "| <!--/--> | education | income | women | prestige | census | type | new_var | \n",
       "|---|---|---|---|---|---|\n",
       "| 97 |  8.49 | 8845  |  0.00 | 48.9  | 9131  | bc    | 0     | \n",
       "| 98 |  7.58 | 5562  |  9.47 | 35.9  | 9171  | bc    | 0     | \n",
       "| 99 |  7.93 | 4224  |  3.59 | 25.1  | 9173  | bc    | 0     | \n",
       "| 100 |  8.37 | 4753  |  0.00 | 26.1  | 9313  | bc    | 0     | \n",
       "| 101 | 10.00 | 6462  | 13.58 | 42.2  | 9511  | bc    | 0     | \n",
       "| 102 |  8.55 | 3617  | 70.87 | 35.2  | 9517  | bc    | 0     | \n",
       "\n",
       "\n"
      ],
      "text/plain": [
       "    education income women prestige census type new_var\n",
       "97   8.49     8845    0.00 48.9     9131   bc   0      \n",
       "98   7.58     5562    9.47 35.9     9171   bc   0      \n",
       "99   7.93     4224    3.59 25.1     9173   bc   0      \n",
       "100  8.37     4753    0.00 26.1     9313   bc   0      \n",
       "101 10.00     6462   13.58 42.2     9511   bc   0      \n",
       "102  8.55     3617   70.87 35.2     9517   bc   0      "
      ]
     },
     "metadata": {},
     "output_type": "display_data"
    }
   ],
   "source": [
    "tail(prestige)"
   ]
  },
  {
   "cell_type": "code",
   "execution_count": 313,
   "metadata": {},
   "outputs": [
    {
     "data": {
      "text/html": [
       "<ol class=list-inline>\n",
       "\t<li>'education'</li>\n",
       "\t<li>'income'</li>\n",
       "\t<li>'women'</li>\n",
       "\t<li>'prestige'</li>\n",
       "\t<li>'census'</li>\n",
       "\t<li>'type'</li>\n",
       "\t<li>'new_var'</li>\n",
       "</ol>\n"
      ],
      "text/latex": [
       "\\begin{enumerate*}\n",
       "\\item 'education'\n",
       "\\item 'income'\n",
       "\\item 'women'\n",
       "\\item 'prestige'\n",
       "\\item 'census'\n",
       "\\item 'type'\n",
       "\\item 'new\\_var'\n",
       "\\end{enumerate*}\n"
      ],
      "text/markdown": [
       "1. 'education'\n",
       "2. 'income'\n",
       "3. 'women'\n",
       "4. 'prestige'\n",
       "5. 'census'\n",
       "6. 'type'\n",
       "7. 'new_var'\n",
       "\n",
       "\n"
      ],
      "text/plain": [
       "[1] \"education\" \"income\"    \"women\"     \"prestige\"  \"census\"    \"type\"     \n",
       "[7] \"new_var\"  "
      ]
     },
     "metadata": {},
     "output_type": "display_data"
    }
   ],
   "source": [
    "names(prestige)"
   ]
  },
  {
   "cell_type": "code",
   "execution_count": 230,
   "metadata": {},
   "outputs": [
    {
     "data": {
      "text/plain": [
       "   Length     Class      Mode \n",
       "      102 character character "
      ]
     },
     "metadata": {},
     "output_type": "display_data"
    }
   ],
   "source": [
    "summary(prestige$type)"
   ]
  },
  {
   "cell_type": "code",
   "execution_count": 231,
   "metadata": {},
   "outputs": [
    {
     "data": {
      "text/plain": [
       "\n",
       "  bc prof   wc \n",
       "  44   31   23 "
      ]
     },
     "metadata": {},
     "output_type": "display_data"
    }
   ],
   "source": [
    "table(prestige$type)"
   ]
  },
  {
   "cell_type": "code",
   "execution_count": 232,
   "metadata": {},
   "outputs": [],
   "source": [
    "prestige$type = factor(prestige$type)"
   ]
  },
  {
   "cell_type": "code",
   "execution_count": 233,
   "metadata": {},
   "outputs": [
    {
     "data": {
      "text/html": [
       "<dl class=dl-horizontal>\n",
       "\t<dt>bc</dt>\n",
       "\t\t<dd>44</dd>\n",
       "\t<dt>prof</dt>\n",
       "\t\t<dd>31</dd>\n",
       "\t<dt>wc</dt>\n",
       "\t\t<dd>23</dd>\n",
       "\t<dt>NA's</dt>\n",
       "\t\t<dd>4</dd>\n",
       "</dl>\n"
      ],
      "text/latex": [
       "\\begin{description*}\n",
       "\\item[bc] 44\n",
       "\\item[prof] 31\n",
       "\\item[wc] 23\n",
       "\\item[NA's] 4\n",
       "\\end{description*}\n"
      ],
      "text/markdown": [
       "bc\n",
       ":   44prof\n",
       ":   31wc\n",
       ":   23NA's\n",
       ":   4\n",
       "\n"
      ],
      "text/plain": [
       "  bc prof   wc NA's \n",
       "  44   31   23    4 "
      ]
     },
     "metadata": {},
     "output_type": "display_data"
    }
   ],
   "source": [
    "summary(prestige$type)"
   ]
  },
  {
   "cell_type": "code",
   "execution_count": 234,
   "metadata": {},
   "outputs": [
    {
     "data": {
      "text/plain": [
       "   Min. 1st Qu.  Median    Mean 3rd Qu.    Max. \n",
       "  14.80   35.23   43.60   46.83   59.27   87.20 "
      ]
     },
     "metadata": {},
     "output_type": "display_data"
    }
   ],
   "source": [
    "summary(prestige$prestige)"
   ]
  },
  {
   "cell_type": "code",
   "execution_count": 235,
   "metadata": {},
   "outputs": [
    {
     "data": {
      "text/plain": [
       "   Min. 1st Qu.  Median    Mean 3rd Qu.    Max. \n",
       "  6.380   8.445  10.540  10.738  12.648  15.970 "
      ]
     },
     "metadata": {},
     "output_type": "display_data"
    }
   ],
   "source": [
    "summary(prestige$education)"
   ]
  },
  {
   "cell_type": "code",
   "execution_count": 314,
   "metadata": {},
   "outputs": [
    {
     "data": {
      "text/html": [
       "46.8333333333333"
      ],
      "text/latex": [
       "46.8333333333333"
      ],
      "text/markdown": [
       "46.8333333333333"
      ],
      "text/plain": [
       "[1] 46.83333"
      ]
     },
     "metadata": {},
     "output_type": "display_data"
    }
   ],
   "source": [
    "mean(prestige$prestige)"
   ]
  },
  {
   "cell_type": "code",
   "execution_count": 315,
   "metadata": {},
   "outputs": [
    {
     "data": {
      "text/html": [
       "17.2044855613977"
      ],
      "text/latex": [
       "17.2044855613977"
      ],
      "text/markdown": [
       "17.2044855613977"
      ],
      "text/plain": [
       "[1] 17.20449"
      ]
     },
     "metadata": {},
     "output_type": "display_data"
    }
   ],
   "source": [
    "sd(prestige$prestige)"
   ]
  },
  {
   "cell_type": "code",
   "execution_count": 317,
   "metadata": {},
   "outputs": [
    {
     "data": {
      "text/html": [
       "295.994323432343"
      ],
      "text/latex": [
       "295.994323432343"
      ],
      "text/markdown": [
       "295.994323432343"
      ],
      "text/plain": [
       "[1] 295.9943"
      ]
     },
     "metadata": {},
     "output_type": "display_data"
    }
   ],
   "source": [
    "var(prestige$prestige)"
   ]
  },
  {
   "cell_type": "markdown",
   "metadata": {},
   "source": [
    " 生成新变量new_var,如果type为prof且prestige大于43.6，则取值为1，否则为0."
   ]
  },
  {
   "cell_type": "code",
   "execution_count": 318,
   "metadata": {},
   "outputs": [],
   "source": [
    "prestige$new_var = 0\n",
    "\n",
    "prestige$new_var[prestige$type == 'prof' & prestige$prestige>43.6] = 1"
   ]
  },
  {
   "cell_type": "code",
   "execution_count": 237,
   "metadata": {},
   "outputs": [
    {
     "data": {
      "text/plain": [
       "\n",
       " 0  1 \n",
       "71 31 "
      ]
     },
     "metadata": {},
     "output_type": "display_data"
    }
   ],
   "source": [
    "table(prestige$new_var)"
   ]
  },
  {
   "cell_type": "markdown",
   "metadata": {},
   "source": [
    "导入Stata数据\n",
    "\n",
    "read.dta支持Stata v5-12的格式"
   ]
  },
  {
   "cell_type": "code",
   "execution_count": 238,
   "metadata": {},
   "outputs": [],
   "source": [
    "library(foreign)\n",
    "\n",
    "cgss08 = read.dta(\"data/cgss2008.dta\")"
   ]
  },
  {
   "cell_type": "code",
   "execution_count": 239,
   "metadata": {},
   "outputs": [
    {
     "data": {
      "text/html": [
       "<ol class=list-inline>\n",
       "\t<li>'serial'</li>\n",
       "\t<li>'province'</li>\n",
       "\t<li>'countyid'</li>\n",
       "\t<li>'community'</li>\n",
       "\t<li>'v3'</li>\n",
       "\t<li>'v41'</li>\n",
       "\t<li>'v42'</li>\n",
       "\t<li>'a1'</li>\n",
       "\t<li>'a2'</li>\n",
       "\t<li>'a3a'</li>\n",
       "\t<li>'a3b'</li>\n",
       "\t<li>'a3c'</li>\n",
       "\t<li>'a4'</li>\n",
       "\t<li>'a4a1'</li>\n",
       "\t<li>'a4a2'</li>\n",
       "\t<li>'a4a3'</li>\n",
       "\t<li>'a4a4'</li>\n",
       "\t<li>'a4a5'</li>\n",
       "\t<li>'a4a6'</li>\n",
       "\t<li>'a4a7'</li>\n",
       "\t<li>'a4a8'</li>\n",
       "\t<li>'a5'</li>\n",
       "\t<li>'a5a1'</li>\n",
       "\t<li>'a5a2'</li>\n",
       "\t<li>'a5a3'</li>\n",
       "\t<li>'a5a4'</li>\n",
       "\t<li>'a5a5'</li>\n",
       "\t<li>'a5a6'</li>\n",
       "\t<li>'a5a7'</li>\n",
       "\t<li>'a5a8'</li>\n",
       "\t<li>'a6'</li>\n",
       "\t<li>'a7'</li>\n",
       "\t<li>'a8'</li>\n",
       "\t<li>'a9'</li>\n",
       "\t<li>'a9a'</li>\n",
       "\t<li>'a10'</li>\n",
       "\t<li>'a10a'</li>\n",
       "\t<li>'a11'</li>\n",
       "\t<li>'a12'</li>\n",
       "\t<li>'a13'</li>\n",
       "\t<li>'a14a'</li>\n",
       "\t<li>'a14b'</li>\n",
       "\t<li>'a14c'</li>\n",
       "\t<li>'a14d'</li>\n",
       "\t<li>'a14e'</li>\n",
       "\t<li>'a14f'</li>\n",
       "\t<li>'a15'</li>\n",
       "\t<li>'a17'</li>\n",
       "\t<li>'a18'</li>\n",
       "\t<li>'a19'</li>\n",
       "\t<li>'a19a'</li>\n",
       "\t<li>'a19b'</li>\n",
       "\t<li>'a20'</li>\n",
       "\t<li>'a21a'</li>\n",
       "\t<li>'a21b'</li>\n",
       "\t<li>'a22'</li>\n",
       "\t<li>'a24'</li>\n",
       "\t<li>'a24a'</li>\n",
       "\t<li>'b1'</li>\n",
       "\t<li>'b1a'</li>\n",
       "\t<li>'b21'</li>\n",
       "\t<li>'b22'</li>\n",
       "\t<li>'b23'</li>\n",
       "\t<li>'b24'</li>\n",
       "\t<li>'b31'</li>\n",
       "\t<li>'b311'</li>\n",
       "\t<li>'b312'</li>\n",
       "\t<li>'b313'</li>\n",
       "\t<li>'b314'</li>\n",
       "\t<li>'b315'</li>\n",
       "\t<li>'b32'</li>\n",
       "\t<li>'b321'</li>\n",
       "\t<li>'b322'</li>\n",
       "\t<li>'b323'</li>\n",
       "\t<li>'b324'</li>\n",
       "\t<li>'b325'</li>\n",
       "\t<li>'b401'</li>\n",
       "\t<li>'b402'</li>\n",
       "\t<li>'b403'</li>\n",
       "\t<li>'b404'</li>\n",
       "\t<li>'b404a'</li>\n",
       "\t<li>'b405'</li>\n",
       "\t<li>'b405a'</li>\n",
       "\t<li>'b406'</li>\n",
       "\t<li>'b406a'</li>\n",
       "\t<li>'b407'</li>\n",
       "\t<li>'b407a'</li>\n",
       "\t<li>'b408'</li>\n",
       "\t<li>'b408a'</li>\n",
       "\t<li>'b409'</li>\n",
       "\t<li>'b409a'</li>\n",
       "\t<li>'b410'</li>\n",
       "\t<li>'b410a'</li>\n",
       "\t<li>'b411'</li>\n",
       "\t<li>'b411a'</li>\n",
       "\t<li>'b412'</li>\n",
       "\t<li>'b412a'</li>\n",
       "\t<li>'b413'</li>\n",
       "\t<li>'b413a'</li>\n",
       "\t<li>'b414'</li>\n",
       "\t<li>'b414a'</li>\n",
       "\t<li>'b5'</li>\n",
       "\t<li>'b61'</li>\n",
       "\t<li>'b62'</li>\n",
       "\t<li>'b7a'</li>\n",
       "\t<li>'b7b'</li>\n",
       "\t<li>'b8'</li>\n",
       "\t<li>'b9'</li>\n",
       "\t<li>'b10a'</li>\n",
       "\t<li>'b10b'</li>\n",
       "\t<li>'b10c'</li>\n",
       "\t<li>'b11a'</li>\n",
       "\t<li>'b11b'</li>\n",
       "\t<li>'b11b1'</li>\n",
       "\t<li>'b11c'</li>\n",
       "\t<li>'b11ca'</li>\n",
       "\t<li>'b11d'</li>\n",
       "\t<li>'b11e'</li>\n",
       "\t<li>'b11f'</li>\n",
       "\t<li>'b11g'</li>\n",
       "\t<li>'b11h'</li>\n",
       "\t<li>'b11j'</li>\n",
       "\t<li>'b11k'</li>\n",
       "\t<li>'b12a'</li>\n",
       "\t<li>'b12b'</li>\n",
       "\t<li>'b12c'</li>\n",
       "\t<li>'b12ca'</li>\n",
       "\t<li>'b12d'</li>\n",
       "\t<li>'b12e'</li>\n",
       "\t<li>'b12f'</li>\n",
       "\t<li>'b12g'</li>\n",
       "\t<li>'b12h'</li>\n",
       "\t<li>'b13a'</li>\n",
       "\t<li>'b13b'</li>\n",
       "\t<li>'b13c'</li>\n",
       "\t<li>'b13ca'</li>\n",
       "\t<li>'b13d'</li>\n",
       "\t<li>'b13e'</li>\n",
       "\t<li>'b13f'</li>\n",
       "\t<li>'b13g'</li>\n",
       "\t<li>'b13h'</li>\n",
       "\t<li>'b13i'</li>\n",
       "\t<li>'c1a01'</li>\n",
       "\t<li>'c1b01'</li>\n",
       "\t<li>'c1c01'</li>\n",
       "\t<li>'c1d01'</li>\n",
       "\t<li>'c1e01'</li>\n",
       "\t<li>'c1f01'</li>\n",
       "\t<li>'c1g01'</li>\n",
       "\t<li>'c1h01'</li>\n",
       "\t<li>'c1i01'</li>\n",
       "\t<li>'c1a02'</li>\n",
       "\t<li>'c1b02'</li>\n",
       "\t<li>'c1c02'</li>\n",
       "\t<li>'c1d02'</li>\n",
       "\t<li>'c1e02'</li>\n",
       "\t<li>'c1f02'</li>\n",
       "\t<li>'c1g02'</li>\n",
       "\t<li>'c1h02'</li>\n",
       "\t<li>'c1i02'</li>\n",
       "\t<li>'c1a03'</li>\n",
       "\t<li>'c1b03'</li>\n",
       "\t<li>'c1c03'</li>\n",
       "\t<li>'c1d03'</li>\n",
       "\t<li>'c1e03'</li>\n",
       "\t<li>'c1f03'</li>\n",
       "\t<li>'c1g03'</li>\n",
       "\t<li>'c1h03'</li>\n",
       "\t<li>'c1i03'</li>\n",
       "\t<li>'c1a04'</li>\n",
       "\t<li>'c1b04'</li>\n",
       "\t<li>'c1c04'</li>\n",
       "\t<li>'c1d04'</li>\n",
       "\t<li>'c1e04'</li>\n",
       "\t<li>'c1f04'</li>\n",
       "\t<li>'c1g04'</li>\n",
       "\t<li>'c1h04'</li>\n",
       "\t<li>'c1i04'</li>\n",
       "\t<li>'c1a05'</li>\n",
       "\t<li>'c1b05'</li>\n",
       "\t<li>'c1c05'</li>\n",
       "\t<li>'c1d05'</li>\n",
       "\t<li>'c1e05'</li>\n",
       "\t<li>'c1f05'</li>\n",
       "\t<li>'c1g05'</li>\n",
       "\t<li>'c1h05'</li>\n",
       "\t<li>'c1i05'</li>\n",
       "\t<li>'c1a06'</li>\n",
       "\t<li>'c1b06'</li>\n",
       "\t<li>'c1c06'</li>\n",
       "\t<li>'c1d06'</li>\n",
       "\t<li>'c1e06'</li>\n",
       "\t<li>'c1f06'</li>\n",
       "\t<li>'c1g06'</li>\n",
       "\t<li>'c1h06'</li>\n",
       "\t<li>'c1i06'</li>\n",
       "\t<li>'c1a07'</li>\n",
       "\t<li>'c1b07'</li>\n",
       "\t<li>'c1c07'</li>\n",
       "\t<li>'c1d07'</li>\n",
       "\t<li>'c1e07'</li>\n",
       "\t<li>'c1f07'</li>\n",
       "\t<li>'c1g07'</li>\n",
       "\t<li>'c1h07'</li>\n",
       "\t<li>'c1i07'</li>\n",
       "\t<li>'c1a08'</li>\n",
       "\t<li>'c1b08'</li>\n",
       "\t<li>'c1c08'</li>\n",
       "\t<li>'c1d08'</li>\n",
       "\t<li>'c1e08'</li>\n",
       "\t<li>'c1f08'</li>\n",
       "\t<li>'c1g08'</li>\n",
       "\t<li>'c1h08'</li>\n",
       "\t<li>'c1i08'</li>\n",
       "\t<li>'c1a09'</li>\n",
       "\t<li>'c1b09'</li>\n",
       "\t<li>'c1c09'</li>\n",
       "\t<li>'c1d09'</li>\n",
       "\t<li>'c1e09'</li>\n",
       "\t<li>'c1f09'</li>\n",
       "\t<li>'c1g09'</li>\n",
       "\t<li>'c1h09'</li>\n",
       "\t<li>'c1i09'</li>\n",
       "\t<li>'c1a10'</li>\n",
       "\t<li>'c1b10'</li>\n",
       "\t<li>'c1c10'</li>\n",
       "\t<li>'c1d10'</li>\n",
       "\t<li>'c1e10'</li>\n",
       "\t<li>'c1f10'</li>\n",
       "\t<li>'c1g10'</li>\n",
       "\t<li>'c1h10'</li>\n",
       "\t<li>'c1i10'</li>\n",
       "\t<li>'c2'</li>\n",
       "\t<li>'c3'</li>\n",
       "\t<li>'c4'</li>\n",
       "\t<li>'c5'</li>\n",
       "\t<li>'c6'</li>\n",
       "\t<li>'c6a'</li>\n",
       "\t<li>'c7'</li>\n",
       "\t<li>'c10'</li>\n",
       "\t<li>'c11a'</li>\n",
       "\t<li>'c11b'</li>\n",
       "\t<li>'c12'</li>\n",
       "\t<li>'c14'</li>\n",
       "\t<li>'c15a01'</li>\n",
       "\t<li>'c15b01'</li>\n",
       "\t<li>'c15c01'</li>\n",
       "\t<li>'c15d01'</li>\n",
       "\t<li>'c15e01'</li>\n",
       "\t<li>'c15f01'</li>\n",
       "\t<li>'c15h101'</li>\n",
       "\t<li>'c15h201'</li>\n",
       "\t<li>'c15h301'</li>\n",
       "\t<li>'c15i101'</li>\n",
       "\t<li>'c15i201'</li>\n",
       "\t<li>'c15i301'</li>\n",
       "\t<li>'c15k101'</li>\n",
       "\t<li>'c15k201'</li>\n",
       "\t<li>'c15l101'</li>\n",
       "\t<li>'c15l201'</li>\n",
       "\t<li>'c15m101'</li>\n",
       "\t<li>'c15m201'</li>\n",
       "\t<li>'c15n101'</li>\n",
       "\t<li>'c15n201'</li>\n",
       "\t<li>'c15p01'</li>\n",
       "\t<li>'c15q01'</li>\n",
       "\t<li>'c15r01'</li>\n",
       "\t<li>'c15s01'</li>\n",
       "\t<li>'c15t01'</li>\n",
       "\t<li>'c15u01'</li>\n",
       "\t<li>'c15v01'</li>\n",
       "\t<li>'c15w01'</li>\n",
       "\t<li>'c16a011'</li>\n",
       "\t<li>'c16b011'</li>\n",
       "\t<li>'c16d011'</li>\n",
       "\t<li>'c16e011'</li>\n",
       "\t<li>'c16f011'</li>\n",
       "\t<li>'c16g011'</li>\n",
       "\t<li>'c16h011'</li>\n",
       "\t<li>'c16i011'</li>\n",
       "\t<li>'c16j011'</li>\n",
       "\t<li>'c16a012'</li>\n",
       "\t<li>'c16b012'</li>\n",
       "\t<li>'c16d012'</li>\n",
       "\t<li>'c16e012'</li>\n",
       "\t<li>'c16f012'</li>\n",
       "\t<li>'c16g012'</li>\n",
       "\t<li>'c16h012'</li>\n",
       "\t<li>'c16i012'</li>\n",
       "\t<li>'c16j012'</li>\n",
       "\t<li>'c16a013'</li>\n",
       "\t<li>'c16b013'</li>\n",
       "\t<li>'c16d013'</li>\n",
       "\t<li>'c16e013'</li>\n",
       "\t<li>'c16f013'</li>\n",
       "\t<li>'c16g013'</li>\n",
       "\t<li>'c16h013'</li>\n",
       "\t<li>'c16i013'</li>\n",
       "\t<li>'c16j013'</li>\n",
       "\t<li>'c16a014'</li>\n",
       "\t<li>'c16b014'</li>\n",
       "\t<li>'c16d014'</li>\n",
       "\t<li>'c16e014'</li>\n",
       "\t<li>'c16f014'</li>\n",
       "\t<li>'c16g014'</li>\n",
       "\t<li>'c16h014'</li>\n",
       "\t<li>'c16i014'</li>\n",
       "\t<li>'c16j014'</li>\n",
       "\t<li>'c16a015'</li>\n",
       "\t<li>'c16b015'</li>\n",
       "\t<li>'c16d015'</li>\n",
       "\t<li>'c16e015'</li>\n",
       "\t<li>'c16f015'</li>\n",
       "\t<li>'c16g015'</li>\n",
       "\t<li>'c16h015'</li>\n",
       "\t<li>'c16i015'</li>\n",
       "\t<li>'c16j015'</li>\n",
       "\t<li>'c15a02'</li>\n",
       "\t<li>'c15b02'</li>\n",
       "\t<li>'c15c02'</li>\n",
       "\t<li>'c15d02'</li>\n",
       "\t<li>'c15e02'</li>\n",
       "\t<li>'c15f02'</li>\n",
       "\t<li>'c15h102'</li>\n",
       "\t<li>'c15h202'</li>\n",
       "\t<li>'c15h302'</li>\n",
       "\t<li>'c15i102'</li>\n",
       "\t<li>'c15i202'</li>\n",
       "\t<li>'c15i302'</li>\n",
       "\t<li>'c15k102'</li>\n",
       "\t<li>'c15k202'</li>\n",
       "\t<li>'c15l102'</li>\n",
       "\t<li>'c15l202'</li>\n",
       "\t<li>'c15m102'</li>\n",
       "\t<li>'c15m202'</li>\n",
       "\t<li>'c15n102'</li>\n",
       "\t<li>'c15n202'</li>\n",
       "\t<li>'c15p02'</li>\n",
       "\t<li>'c15q02'</li>\n",
       "\t<li>'c15r02'</li>\n",
       "\t<li>'c15s02'</li>\n",
       "\t<li>'c15t02'</li>\n",
       "\t<li>'c15u02'</li>\n",
       "\t<li>'c15v02'</li>\n",
       "\t<li>'c15w02'</li>\n",
       "\t<li>'c16a021'</li>\n",
       "\t<li>'c16b021'</li>\n",
       "\t<li>'c16d021'</li>\n",
       "\t<li>'c16e021'</li>\n",
       "\t<li>'c16f021'</li>\n",
       "\t<li>'c16g021'</li>\n",
       "\t<li>'c16h021'</li>\n",
       "\t<li>'c16i021'</li>\n",
       "\t<li>'c16j021'</li>\n",
       "\t<li>'c16a022'</li>\n",
       "\t<li>'c16b022'</li>\n",
       "\t<li>'c16d022'</li>\n",
       "\t<li>'c16e022'</li>\n",
       "\t<li>'c16f022'</li>\n",
       "\t<li>'c16g022'</li>\n",
       "\t<li>'c16h022'</li>\n",
       "\t<li>'c16i022'</li>\n",
       "\t<li>'c16j022'</li>\n",
       "\t<li>'c16a023'</li>\n",
       "\t<li>'c16b023'</li>\n",
       "\t<li>'c16d023'</li>\n",
       "\t<li>'c16e023'</li>\n",
       "\t<li>'c16f023'</li>\n",
       "\t<li>'c16g023'</li>\n",
       "\t<li>'c16h023'</li>\n",
       "\t<li>'c16i023'</li>\n",
       "\t<li>'c16j023'</li>\n",
       "\t<li>'c16a024'</li>\n",
       "\t<li>'c16b024'</li>\n",
       "\t<li>'c16d024'</li>\n",
       "\t<li>'c16e024'</li>\n",
       "\t<li>'c16f024'</li>\n",
       "\t<li>'c16g024'</li>\n",
       "\t<li>'c16h024'</li>\n",
       "\t<li>'c16i024'</li>\n",
       "\t<li>'c16j024'</li>\n",
       "\t<li>'c16a025'</li>\n",
       "\t<li>'c16b025'</li>\n",
       "\t<li>'c16d025'</li>\n",
       "\t<li>'c16e025'</li>\n",
       "\t<li>'c16f025'</li>\n",
       "\t<li>'c16g025'</li>\n",
       "\t<li>'c16h025'</li>\n",
       "\t<li>'c16i025'</li>\n",
       "\t<li>'c16j025'</li>\n",
       "\t<li>'c15a03'</li>\n",
       "\t<li>'c15b03'</li>\n",
       "\t<li>'c15c03'</li>\n",
       "\t<li>'c15d03'</li>\n",
       "\t<li>'c15e03'</li>\n",
       "\t<li>'c15f03'</li>\n",
       "\t<li>'c15h103'</li>\n",
       "\t<li>'c15h203'</li>\n",
       "\t<li>'c15h303'</li>\n",
       "\t<li>'c15i103'</li>\n",
       "\t<li>'c15i203'</li>\n",
       "\t<li>'c15i303'</li>\n",
       "\t<li>'c15k103'</li>\n",
       "\t<li>'c15k203'</li>\n",
       "\t<li>'c15l103'</li>\n",
       "\t<li>'c15l203'</li>\n",
       "\t<li>'c15m103'</li>\n",
       "\t<li>'c15m203'</li>\n",
       "\t<li>'c15n103'</li>\n",
       "\t<li>'c15n203'</li>\n",
       "\t<li>'c15p03'</li>\n",
       "\t<li>'c15q03'</li>\n",
       "\t<li>'c15r03'</li>\n",
       "\t<li>'c15s03'</li>\n",
       "\t<li>'c15t03'</li>\n",
       "\t<li>'c15u03'</li>\n",
       "\t<li>'c15v03'</li>\n",
       "\t<li>'c15w03'</li>\n",
       "\t<li>'c16a031'</li>\n",
       "\t<li>'c16b031'</li>\n",
       "\t<li>'c16d031'</li>\n",
       "\t<li>'c16e031'</li>\n",
       "\t<li>'c16f031'</li>\n",
       "\t<li>'c16g031'</li>\n",
       "\t<li>'c16h031'</li>\n",
       "\t<li>'c16i031'</li>\n",
       "\t<li>'c16j031'</li>\n",
       "\t<li>'c16a032'</li>\n",
       "\t<li>'c16b032'</li>\n",
       "\t<li>'c16d032'</li>\n",
       "\t<li>'c16e032'</li>\n",
       "\t<li>'c16f032'</li>\n",
       "\t<li>'c16g032'</li>\n",
       "\t<li>'c16h032'</li>\n",
       "\t<li>'c16i032'</li>\n",
       "\t<li>'c16j032'</li>\n",
       "\t<li>'c16a033'</li>\n",
       "\t<li>'c16b033'</li>\n",
       "\t<li>'c16d033'</li>\n",
       "\t<li>'c16e033'</li>\n",
       "\t<li>'c16f033'</li>\n",
       "\t<li>'c16g033'</li>\n",
       "\t<li>'c16h033'</li>\n",
       "\t<li>'c16i033'</li>\n",
       "\t<li>'c16j033'</li>\n",
       "\t<li>'c16a034'</li>\n",
       "\t<li>'c16b034'</li>\n",
       "\t<li>'c16d034'</li>\n",
       "\t<li>'c16e034'</li>\n",
       "\t<li>'c16f034'</li>\n",
       "\t<li>'c16g034'</li>\n",
       "\t<li>'c16h034'</li>\n",
       "\t<li>'c16i034'</li>\n",
       "\t<li>'c16j034'</li>\n",
       "\t<li>'c16a035'</li>\n",
       "\t<li>'c16b035'</li>\n",
       "\t<li>'c16d035'</li>\n",
       "\t<li>'c16e035'</li>\n",
       "\t<li>'c16f035'</li>\n",
       "\t<li>'c16g035'</li>\n",
       "\t<li>'c16h035'</li>\n",
       "\t<li>'c16i035'</li>\n",
       "\t<li>'c16j035'</li>\n",
       "\t<li>'c15a04'</li>\n",
       "\t<li>'c15b04'</li>\n",
       "\t<li>'c15c04'</li>\n",
       "\t<li>'c15d04'</li>\n",
       "\t<li>'c15e04'</li>\n",
       "\t<li>'c15f04'</li>\n",
       "\t<li>'c15h104'</li>\n",
       "\t<li>'c15h204'</li>\n",
       "\t<li>'c15h304'</li>\n",
       "\t<li>'c15i104'</li>\n",
       "\t<li>'c15i204'</li>\n",
       "\t<li>'c15i304'</li>\n",
       "\t<li>'c15k104'</li>\n",
       "\t<li>'c15k204'</li>\n",
       "\t<li>'c15l104'</li>\n",
       "\t<li>'c15l204'</li>\n",
       "\t<li>'c15m104'</li>\n",
       "\t<li>'c15m204'</li>\n",
       "\t<li>'c15n104'</li>\n",
       "\t<li>'c15n204'</li>\n",
       "\t<li>'c15p04'</li>\n",
       "\t<li>'c15q04'</li>\n",
       "\t<li>'c15r04'</li>\n",
       "\t<li>'c15s04'</li>\n",
       "\t<li>'c15t04'</li>\n",
       "\t<li>'c15u04'</li>\n",
       "\t<li>'c15v04'</li>\n",
       "\t<li>'c15w04'</li>\n",
       "\t<li>'c16a041'</li>\n",
       "\t<li>'c16b041'</li>\n",
       "\t<li>'c16d041'</li>\n",
       "\t<li>'c16e041'</li>\n",
       "\t<li>'c16f041'</li>\n",
       "\t<li>'c16g041'</li>\n",
       "\t<li>'c16h041'</li>\n",
       "\t<li>'c16i041'</li>\n",
       "\t<li>'c16j041'</li>\n",
       "\t<li>'c16a042'</li>\n",
       "\t<li>'c16b042'</li>\n",
       "\t<li>'c16d042'</li>\n",
       "\t<li>'c16e042'</li>\n",
       "\t<li>'c16f042'</li>\n",
       "\t<li>'c16g042'</li>\n",
       "\t<li>'c16h042'</li>\n",
       "\t<li>'c16i042'</li>\n",
       "\t<li>'c16j042'</li>\n",
       "\t<li>'c16a043'</li>\n",
       "\t<li>'c16b043'</li>\n",
       "\t<li>'c16d043'</li>\n",
       "\t<li>'c16e043'</li>\n",
       "\t<li>'c16f043'</li>\n",
       "\t<li>'c16g043'</li>\n",
       "\t<li>'c16h043'</li>\n",
       "\t<li>'c16i043'</li>\n",
       "\t<li>'c16j043'</li>\n",
       "\t<li>'c16a044'</li>\n",
       "\t<li>'c16b044'</li>\n",
       "\t<li>'c16d044'</li>\n",
       "\t<li>'c16e044'</li>\n",
       "\t<li>'c16f044'</li>\n",
       "\t<li>'c16g044'</li>\n",
       "\t<li>'c16h044'</li>\n",
       "\t<li>'c16i044'</li>\n",
       "\t<li>'c16j044'</li>\n",
       "\t<li>'c16a045'</li>\n",
       "\t<li>'c16b045'</li>\n",
       "\t<li>'c16d045'</li>\n",
       "\t<li>'c16e045'</li>\n",
       "\t<li>'c16f045'</li>\n",
       "\t<li>'c16g045'</li>\n",
       "\t<li>'c16h045'</li>\n",
       "\t<li>'c16i045'</li>\n",
       "\t<li>'c16j045'</li>\n",
       "\t<li>'c15a05'</li>\n",
       "\t<li>'c15b05'</li>\n",
       "\t<li>'c15c05'</li>\n",
       "\t<li>'c15d05'</li>\n",
       "\t<li>'c15e05'</li>\n",
       "\t<li>'c15f05'</li>\n",
       "\t<li>'c15h105'</li>\n",
       "\t<li>'c15h205'</li>\n",
       "\t<li>'c15h305'</li>\n",
       "\t<li>'c15i105'</li>\n",
       "\t<li>'c15i205'</li>\n",
       "\t<li>'c15i305'</li>\n",
       "\t<li>'c15k105'</li>\n",
       "\t<li>'c15k205'</li>\n",
       "\t<li>'c15l105'</li>\n",
       "\t<li>'c15l205'</li>\n",
       "\t<li>'c15m105'</li>\n",
       "\t<li>'c15m205'</li>\n",
       "\t<li>'c15n105'</li>\n",
       "\t<li>'c15n205'</li>\n",
       "\t<li>'c15p05'</li>\n",
       "\t<li>'c15q05'</li>\n",
       "\t<li>'c15r05'</li>\n",
       "\t<li>'c15s05'</li>\n",
       "\t<li>'c15t05'</li>\n",
       "\t<li>'c15u05'</li>\n",
       "\t<li>'c15v05'</li>\n",
       "\t<li>'c15w05'</li>\n",
       "\t<li>'c16a051'</li>\n",
       "\t<li>'c16b051'</li>\n",
       "\t<li>'c16d051'</li>\n",
       "\t<li>'c16e051'</li>\n",
       "\t<li>'c16f051'</li>\n",
       "\t<li>'c16g051'</li>\n",
       "\t<li>'c16h051'</li>\n",
       "\t<li>'c16i051'</li>\n",
       "\t<li>'c16j051'</li>\n",
       "\t<li>'c16a052'</li>\n",
       "\t<li>'c16b052'</li>\n",
       "\t<li>'c16d052'</li>\n",
       "\t<li>'c16e052'</li>\n",
       "\t<li>'c16f052'</li>\n",
       "\t<li>'c16g052'</li>\n",
       "\t<li>'c16h052'</li>\n",
       "\t<li>'c16i052'</li>\n",
       "\t<li>'c16j052'</li>\n",
       "\t<li>'c16a053'</li>\n",
       "\t<li>'c16b053'</li>\n",
       "\t<li>'c16d053'</li>\n",
       "\t<li>'c16e053'</li>\n",
       "\t<li>'c16f053'</li>\n",
       "\t<li>'c16g053'</li>\n",
       "\t<li>'c16h053'</li>\n",
       "\t<li>'c16i053'</li>\n",
       "\t<li>'c16j053'</li>\n",
       "\t<li>'c16a054'</li>\n",
       "\t<li>'c16b054'</li>\n",
       "\t<li>'c16d054'</li>\n",
       "\t<li>'c16e054'</li>\n",
       "\t<li>'c16f054'</li>\n",
       "\t<li>'c16g054'</li>\n",
       "\t<li>'c16h054'</li>\n",
       "\t<li>'c16i054'</li>\n",
       "\t<li>'c16j054'</li>\n",
       "\t<li>'c16a055'</li>\n",
       "\t<li>'c16b055'</li>\n",
       "\t<li>'c16d055'</li>\n",
       "\t<li>'c16e055'</li>\n",
       "\t<li>'c16f055'</li>\n",
       "\t<li>'c16g055'</li>\n",
       "\t<li>'c16h055'</li>\n",
       "\t<li>'c16i055'</li>\n",
       "\t<li>'c16j055'</li>\n",
       "\t<li>'c15a06'</li>\n",
       "\t<li>'c15b06'</li>\n",
       "\t<li>'c15c06'</li>\n",
       "\t<li>'c15d06'</li>\n",
       "\t<li>'c15e06'</li>\n",
       "\t<li>'c15f06'</li>\n",
       "\t<li>'c15h106'</li>\n",
       "\t<li>'c15h206'</li>\n",
       "\t<li>'c15h306'</li>\n",
       "\t<li>'c15i106'</li>\n",
       "\t<li>'c15i206'</li>\n",
       "\t<li>'c15i306'</li>\n",
       "\t<li>'c15k106'</li>\n",
       "\t<li>'c15k206'</li>\n",
       "\t<li>'c15l106'</li>\n",
       "\t<li>'c15l206'</li>\n",
       "\t<li>'c15m106'</li>\n",
       "\t<li>'c15m206'</li>\n",
       "\t<li>'c15n106'</li>\n",
       "\t<li>'c15n206'</li>\n",
       "\t<li>'c15p06'</li>\n",
       "\t<li>'c15q06'</li>\n",
       "\t<li>'c15r06'</li>\n",
       "\t<li>'c15s06'</li>\n",
       "\t<li>'c15t06'</li>\n",
       "\t<li>'c15u06'</li>\n",
       "\t<li>'c15v06'</li>\n",
       "\t<li>'c15w06'</li>\n",
       "\t<li>'c16a061'</li>\n",
       "\t<li>'c16b061'</li>\n",
       "\t<li>'c16d061'</li>\n",
       "\t<li>'c16e061'</li>\n",
       "\t<li>'c16f061'</li>\n",
       "\t<li>'c16g061'</li>\n",
       "\t<li>'c16h061'</li>\n",
       "\t<li>'c16i061'</li>\n",
       "\t<li>'c16j061'</li>\n",
       "\t<li>'c16a062'</li>\n",
       "\t<li>'c16b062'</li>\n",
       "\t<li>'c16d062'</li>\n",
       "\t<li>'c16e062'</li>\n",
       "\t<li>'c16f062'</li>\n",
       "\t<li>'c16g062'</li>\n",
       "\t<li>'c16h062'</li>\n",
       "\t<li>'c16i062'</li>\n",
       "\t<li>'c16j062'</li>\n",
       "\t<li>'c16a063'</li>\n",
       "\t<li>'c16b063'</li>\n",
       "\t<li>'c16d063'</li>\n",
       "\t<li>'c16e063'</li>\n",
       "\t<li>'c16f063'</li>\n",
       "\t<li>'c16g063'</li>\n",
       "\t<li>'c16h063'</li>\n",
       "\t<li>'c16i063'</li>\n",
       "\t<li>'c16j063'</li>\n",
       "\t<li>'c16a064'</li>\n",
       "\t<li>'c16b064'</li>\n",
       "\t<li>'c16d064'</li>\n",
       "\t<li>'c16e064'</li>\n",
       "\t<li>'c16f064'</li>\n",
       "\t<li>'c16g064'</li>\n",
       "\t<li>'c16h064'</li>\n",
       "\t<li>'c16i064'</li>\n",
       "\t<li>'c16j064'</li>\n",
       "\t<li>'c16a065'</li>\n",
       "\t<li>'c16b065'</li>\n",
       "\t<li>'c16d065'</li>\n",
       "\t<li>'c16e065'</li>\n",
       "\t<li>'c16f065'</li>\n",
       "\t<li>'c16g065'</li>\n",
       "\t<li>'c16h065'</li>\n",
       "\t<li>'c16i065'</li>\n",
       "\t<li>'c16j065'</li>\n",
       "\t<li>'c15a07'</li>\n",
       "\t<li>'c15b07'</li>\n",
       "\t<li>'c15c07'</li>\n",
       "\t<li>'c15d07'</li>\n",
       "\t<li>'c15e07'</li>\n",
       "\t<li>'c15f07'</li>\n",
       "\t<li>'c15h107'</li>\n",
       "\t<li>'c15h207'</li>\n",
       "\t<li>'c15h307'</li>\n",
       "\t<li>'c15i107'</li>\n",
       "\t<li>'c15i207'</li>\n",
       "\t<li>'c15i307'</li>\n",
       "\t<li>'c15k107'</li>\n",
       "\t<li>'c15k207'</li>\n",
       "\t<li>'c15l107'</li>\n",
       "\t<li>'c15l207'</li>\n",
       "\t<li>'c15m107'</li>\n",
       "\t<li>'c15m207'</li>\n",
       "\t<li>'c15n107'</li>\n",
       "\t<li>'c15n207'</li>\n",
       "\t<li>'c15p07'</li>\n",
       "\t<li>'c15q07'</li>\n",
       "\t<li>'c15r07'</li>\n",
       "\t<li>'c15s07'</li>\n",
       "\t<li>'c15t07'</li>\n",
       "\t<li>'c15u07'</li>\n",
       "\t<li>'c15v07'</li>\n",
       "\t<li>'c15w07'</li>\n",
       "\t<li>'c16a071'</li>\n",
       "\t<li>'c16b071'</li>\n",
       "\t<li>'c16d071'</li>\n",
       "\t<li>'c16e071'</li>\n",
       "\t<li>'c16f071'</li>\n",
       "\t<li>'c16g071'</li>\n",
       "\t<li>'c16h071'</li>\n",
       "\t<li>'c16i071'</li>\n",
       "\t<li>'c16j071'</li>\n",
       "\t<li>'c16a072'</li>\n",
       "\t<li>'c16b072'</li>\n",
       "\t<li>'c16d072'</li>\n",
       "\t<li>'c16e072'</li>\n",
       "\t<li>'c16f072'</li>\n",
       "\t<li>'c16g072'</li>\n",
       "\t<li>'c16h072'</li>\n",
       "\t<li>'c16i072'</li>\n",
       "\t<li>'c16j072'</li>\n",
       "\t<li>'c16a073'</li>\n",
       "\t<li>'c16b073'</li>\n",
       "\t<li>'c16d073'</li>\n",
       "\t<li>'c16e073'</li>\n",
       "\t<li>'c16f073'</li>\n",
       "\t<li>'c16g073'</li>\n",
       "\t<li>'c16h073'</li>\n",
       "\t<li>'c16i073'</li>\n",
       "\t<li>'c16j073'</li>\n",
       "\t<li>'c16a074'</li>\n",
       "\t<li>'c16b074'</li>\n",
       "\t<li>'c16d074'</li>\n",
       "\t<li>'c16e074'</li>\n",
       "\t<li>'c16f074'</li>\n",
       "\t<li>'c16g074'</li>\n",
       "\t<li>'c16h074'</li>\n",
       "\t<li>'c16i074'</li>\n",
       "\t<li>'c16j074'</li>\n",
       "\t<li>'c16a075'</li>\n",
       "\t<li>'c16b075'</li>\n",
       "\t<li>'c16d075'</li>\n",
       "\t<li>'c16e075'</li>\n",
       "\t<li>'c16f075'</li>\n",
       "\t<li>'c16g075'</li>\n",
       "\t<li>'c16h075'</li>\n",
       "\t<li>'c16i075'</li>\n",
       "\t<li>'c16j075'</li>\n",
       "\t<li>'c15a08'</li>\n",
       "\t<li>'c15b08'</li>\n",
       "\t<li>'c15c08'</li>\n",
       "\t<li>'c15d08'</li>\n",
       "\t<li>'c15e08'</li>\n",
       "\t<li>'c15f08'</li>\n",
       "\t<li>'c15h108'</li>\n",
       "\t<li>'c15h208'</li>\n",
       "\t<li>'c15h308'</li>\n",
       "\t<li>'c15i108'</li>\n",
       "\t<li>'c15i208'</li>\n",
       "\t<li>'c15i308'</li>\n",
       "\t<li>'c15k108'</li>\n",
       "\t<li>'c15k208'</li>\n",
       "\t<li>'c15l108'</li>\n",
       "\t<li>'c15l208'</li>\n",
       "\t<li>'c15m108'</li>\n",
       "\t<li>'c15m208'</li>\n",
       "\t<li>'c15n108'</li>\n",
       "\t<li>'c15n208'</li>\n",
       "\t<li>'c15p08'</li>\n",
       "\t<li>'c15q08'</li>\n",
       "\t<li>'c15r08'</li>\n",
       "\t<li>'c15s08'</li>\n",
       "\t<li>'c15t08'</li>\n",
       "\t<li>'c15u08'</li>\n",
       "\t<li>'c15v08'</li>\n",
       "\t<li>'c15w08'</li>\n",
       "\t<li>'c16a081'</li>\n",
       "\t<li>'c16b081'</li>\n",
       "\t<li>'c16d081'</li>\n",
       "\t<li>'c16e081'</li>\n",
       "\t<li>'c16f081'</li>\n",
       "\t<li>'c16g081'</li>\n",
       "\t<li>'c16h081'</li>\n",
       "\t<li>'c16i081'</li>\n",
       "\t<li>'c16j081'</li>\n",
       "\t<li>'c16a082'</li>\n",
       "\t<li>'c16b082'</li>\n",
       "\t<li>'c16d082'</li>\n",
       "\t<li>'c16e082'</li>\n",
       "\t<li>'c16f082'</li>\n",
       "\t<li>'c16g082'</li>\n",
       "\t<li>'c16h082'</li>\n",
       "\t<li>'c16i082'</li>\n",
       "\t<li>'c16j082'</li>\n",
       "\t<li>'c16a083'</li>\n",
       "\t<li>'c16b083'</li>\n",
       "\t<li>'c16d083'</li>\n",
       "\t<li>'c16e083'</li>\n",
       "\t<li>'c16f083'</li>\n",
       "\t<li>'c16g083'</li>\n",
       "\t<li>'c16h083'</li>\n",
       "\t<li>'c16i083'</li>\n",
       "\t<li>'c16j083'</li>\n",
       "\t<li>'c16a084'</li>\n",
       "\t<li>'c16b084'</li>\n",
       "\t<li>'c16d084'</li>\n",
       "\t<li>'c16e084'</li>\n",
       "\t<li>'c16f084'</li>\n",
       "\t<li>'c16g084'</li>\n",
       "\t<li>'c16h084'</li>\n",
       "\t<li>'c16i084'</li>\n",
       "\t<li>'c16j084'</li>\n",
       "\t<li>'c16a085'</li>\n",
       "\t<li>'c16b085'</li>\n",
       "\t<li>'c16d085'</li>\n",
       "\t<li>'c16e085'</li>\n",
       "\t<li>'c16f085'</li>\n",
       "\t<li>'c16g085'</li>\n",
       "\t<li>'c16h085'</li>\n",
       "\t<li>'c16i085'</li>\n",
       "\t<li>'c16j085'</li>\n",
       "\t<li>'c15a09'</li>\n",
       "\t<li>'c15b09'</li>\n",
       "\t<li>'c15c09'</li>\n",
       "\t<li>'c15d09'</li>\n",
       "\t<li>'c15e09'</li>\n",
       "\t<li>'c15f09'</li>\n",
       "\t<li>'c15h109'</li>\n",
       "\t<li>'c15h209'</li>\n",
       "\t<li>'c15h309'</li>\n",
       "\t<li>'c15i109'</li>\n",
       "\t<li>'c15i209'</li>\n",
       "\t<li>'c15i309'</li>\n",
       "\t<li>'c15k109'</li>\n",
       "\t<li>'c15k209'</li>\n",
       "\t<li>'c15l109'</li>\n",
       "\t<li>'c15l209'</li>\n",
       "\t<li>'c15m109'</li>\n",
       "\t<li>'c15m209'</li>\n",
       "\t<li>'c15n109'</li>\n",
       "\t<li>'c15n209'</li>\n",
       "\t<li>'c15p09'</li>\n",
       "\t<li>'c15q09'</li>\n",
       "\t<li>'c15r09'</li>\n",
       "\t<li>'c15s09'</li>\n",
       "\t<li>'c15t09'</li>\n",
       "\t<li>'c15u09'</li>\n",
       "\t<li>'c15v09'</li>\n",
       "\t<li>'c15w09'</li>\n",
       "\t<li>'c16a091'</li>\n",
       "\t<li>'c16b091'</li>\n",
       "\t<li>'c16d091'</li>\n",
       "\t<li>'c16e091'</li>\n",
       "\t<li>'c16f091'</li>\n",
       "\t<li>'c16g091'</li>\n",
       "\t<li>'c16h091'</li>\n",
       "\t<li>'c16i091'</li>\n",
       "\t<li>'c16j091'</li>\n",
       "\t<li>'c16a092'</li>\n",
       "\t<li>'c16b092'</li>\n",
       "\t<li>'c16d092'</li>\n",
       "\t<li>'c16e092'</li>\n",
       "\t<li>'c16f092'</li>\n",
       "\t<li>'c16g092'</li>\n",
       "\t<li>'c16h092'</li>\n",
       "\t<li>'c16i092'</li>\n",
       "\t<li>'c16j092'</li>\n",
       "\t<li>'c16a093'</li>\n",
       "\t<li>'c16b093'</li>\n",
       "\t<li>'c16d093'</li>\n",
       "\t<li>'c16e093'</li>\n",
       "\t<li>'c16f093'</li>\n",
       "\t<li>'c16g093'</li>\n",
       "\t<li>'c16h093'</li>\n",
       "\t<li>'c16i093'</li>\n",
       "\t<li>'c16j093'</li>\n",
       "\t<li>'c16a094'</li>\n",
       "\t<li>'c16b094'</li>\n",
       "\t<li>'c16d094'</li>\n",
       "\t<li>'c16e094'</li>\n",
       "\t<li>'c16f094'</li>\n",
       "\t<li>'c16g094'</li>\n",
       "\t<li>'c16h094'</li>\n",
       "\t<li>'c16i094'</li>\n",
       "\t<li>'c16j094'</li>\n",
       "\t<li>'c16a095'</li>\n",
       "\t<li>'c16b095'</li>\n",
       "\t<li>'c16d095'</li>\n",
       "\t<li>'c16e095'</li>\n",
       "\t<li>'c16f095'</li>\n",
       "\t<li>'c16g095'</li>\n",
       "\t<li>'c16h095'</li>\n",
       "\t<li>'c16i095'</li>\n",
       "\t<li>'c16j095'</li>\n",
       "\t<li>'c15a10'</li>\n",
       "\t<li>'c15b10'</li>\n",
       "\t<li>'c15c10'</li>\n",
       "\t<li>'c15d10'</li>\n",
       "\t<li>'c15e10'</li>\n",
       "\t<li>'c15f10'</li>\n",
       "\t<li>'c15h110'</li>\n",
       "\t<li>'c15h210'</li>\n",
       "\t<li>'c15h310'</li>\n",
       "\t<li>'c15i110'</li>\n",
       "\t<li>'c15i210'</li>\n",
       "\t<li>'c15i310'</li>\n",
       "\t<li>'c15k110'</li>\n",
       "\t<li>'c15k210'</li>\n",
       "\t<li>'c15l110'</li>\n",
       "\t<li>'c15l210'</li>\n",
       "\t<li>'c15m110'</li>\n",
       "\t<li>'c15m210'</li>\n",
       "\t<li>'c15n110'</li>\n",
       "\t<li>'c15n210'</li>\n",
       "\t<li>'c15p10'</li>\n",
       "\t<li>'c15q10'</li>\n",
       "\t<li>'c15r10'</li>\n",
       "\t<li>'c15s10'</li>\n",
       "\t<li>'c15t10'</li>\n",
       "\t<li>'c15u10'</li>\n",
       "\t<li>'c15v10'</li>\n",
       "\t<li>'c15w10'</li>\n",
       "\t<li>'c16a101'</li>\n",
       "\t<li>'c16b101'</li>\n",
       "\t<li>'c16d101'</li>\n",
       "\t<li>'c16e101'</li>\n",
       "\t<li>'c16f101'</li>\n",
       "\t<li>'c16g101'</li>\n",
       "\t<li>'c16h101'</li>\n",
       "\t<li>'c16i101'</li>\n",
       "\t<li>'c16j101'</li>\n",
       "\t<li>'c16a102'</li>\n",
       "\t<li>'c16b102'</li>\n",
       "\t<li>'c16d102'</li>\n",
       "\t<li>'c16e102'</li>\n",
       "\t<li>'c16f102'</li>\n",
       "\t<li>'c16g102'</li>\n",
       "\t<li>'c16h102'</li>\n",
       "\t<li>'c16i102'</li>\n",
       "\t<li>'c16j102'</li>\n",
       "\t<li>'c16a103'</li>\n",
       "\t<li>'c16b103'</li>\n",
       "\t<li>'c16d103'</li>\n",
       "\t<li>'c16e103'</li>\n",
       "\t<li>'c16f103'</li>\n",
       "\t<li>'c16g103'</li>\n",
       "\t<li>'c16h103'</li>\n",
       "\t<li>'c16i103'</li>\n",
       "\t<li>'c16j103'</li>\n",
       "\t<li>'c16a104'</li>\n",
       "\t<li>'c16b104'</li>\n",
       "\t<li>'c16d104'</li>\n",
       "\t<li>'c16e104'</li>\n",
       "\t<li>'c16f104'</li>\n",
       "\t<li>'c16g104'</li>\n",
       "\t<li>'c16h104'</li>\n",
       "\t<li>'c16i104'</li>\n",
       "\t<li>'c16j104'</li>\n",
       "\t<li>'c16a105'</li>\n",
       "\t<li>'c16b105'</li>\n",
       "\t<li>'c16d105'</li>\n",
       "\t<li>'c16e105'</li>\n",
       "\t<li>'c16f105'</li>\n",
       "\t<li>'c16g105'</li>\n",
       "\t<li>'c16h105'</li>\n",
       "\t<li>'c16i105'</li>\n",
       "\t<li>'c16j105'</li>\n",
       "\t<li>'c17a01'</li>\n",
       "\t<li>'c17b01'</li>\n",
       "\t<li>'c17c01'</li>\n",
       "\t<li>'c17e01'</li>\n",
       "\t<li>'c17f01'</li>\n",
       "\t<li>'c17g01'</li>\n",
       "\t<li>'c17h01'</li>\n",
       "\t<li>'c17i01'</li>\n",
       "\t<li>'c17j01'</li>\n",
       "\t<li>'c17k01'</li>\n",
       "\t<li>'c17m01'</li>\n",
       "\t<li>'c17n01'</li>\n",
       "\t<li>'c17p01'</li>\n",
       "\t<li>'c17q01'</li>\n",
       "\t<li>'c17r01'</li>\n",
       "\t<li>'c17a02'</li>\n",
       "\t<li>'c17b02'</li>\n",
       "\t<li>'c17c02'</li>\n",
       "\t<li>'c17e02'</li>\n",
       "\t<li>'c17f02'</li>\n",
       "\t<li>'c17g02'</li>\n",
       "\t<li>'c17h02'</li>\n",
       "\t<li>'c17i02'</li>\n",
       "\t<li>'c17j02'</li>\n",
       "\t<li>'c17k02'</li>\n",
       "\t<li>'c17m02'</li>\n",
       "\t<li>'c17n02'</li>\n",
       "\t<li>'c17p02'</li>\n",
       "\t<li>'c17q02'</li>\n",
       "\t<li>'c17r02'</li>\n",
       "\t<li>'c17a03'</li>\n",
       "\t<li>'c17b03'</li>\n",
       "\t<li>'c17c03'</li>\n",
       "\t<li>'c17e03'</li>\n",
       "\t<li>'c17f03'</li>\n",
       "\t<li>'c17g03'</li>\n",
       "\t<li>'c17h03'</li>\n",
       "\t<li>'c17i03'</li>\n",
       "\t<li>'c17j03'</li>\n",
       "\t<li>'c17k03'</li>\n",
       "\t<li>'c17m03'</li>\n",
       "\t<li>'c17n03'</li>\n",
       "\t<li>'c17p03'</li>\n",
       "\t<li>'c17q03'</li>\n",
       "\t<li>'c17r03'</li>\n",
       "\t<li>'c17a04'</li>\n",
       "\t<li>'c17b04'</li>\n",
       "\t<li>'c17c04'</li>\n",
       "\t<li>'c17e04'</li>\n",
       "\t<li>'c17f04'</li>\n",
       "\t<li>'c17g04'</li>\n",
       "\t<li>'c17h04'</li>\n",
       "\t<li>'c17i04'</li>\n",
       "\t<li>'c17j04'</li>\n",
       "\t<li>'c17k04'</li>\n",
       "\t<li>'c17m04'</li>\n",
       "\t<li>'c17n04'</li>\n",
       "\t<li>'c17p04'</li>\n",
       "\t<li>'c17q04'</li>\n",
       "\t<li>'c17r04'</li>\n",
       "\t<li>'c17a05'</li>\n",
       "\t<li>'c17b05'</li>\n",
       "\t<li>'c17c05'</li>\n",
       "\t<li>'c17e05'</li>\n",
       "\t<li>'c17f05'</li>\n",
       "\t<li>'c17g05'</li>\n",
       "\t<li>'c17h05'</li>\n",
       "\t<li>'c17i05'</li>\n",
       "\t<li>'c17j05'</li>\n",
       "\t<li>'c17k05'</li>\n",
       "\t<li>'c17m05'</li>\n",
       "\t<li>'c17n05'</li>\n",
       "\t<li>'c17p05'</li>\n",
       "\t<li>'c17q05'</li>\n",
       "\t<li>'c17r05'</li>\n",
       "\t<li>'c17a06'</li>\n",
       "\t<li>'c17b06'</li>\n",
       "\t<li>'c17c06'</li>\n",
       "\t<li>'c17e06'</li>\n",
       "\t<li>'c17f06'</li>\n",
       "\t<li>'c17g06'</li>\n",
       "\t<li>'c17h06'</li>\n",
       "\t<li>'c17i06'</li>\n",
       "\t<li>'c17j06'</li>\n",
       "\t<li>'c17k06'</li>\n",
       "\t<li>'c17m06'</li>\n",
       "\t<li>'c17n06'</li>\n",
       "\t<li>'c17p06'</li>\n",
       "\t<li>'c17q06'</li>\n",
       "\t<li>'c17r06'</li>\n",
       "\t<li>'c17a07'</li>\n",
       "\t<li>'c17b07'</li>\n",
       "\t<li>'c17c07'</li>\n",
       "\t<li>'c17e07'</li>\n",
       "\t<li>'c17f07'</li>\n",
       "\t<li>'c17g07'</li>\n",
       "\t<li>'c17h07'</li>\n",
       "\t<li>'c17i07'</li>\n",
       "\t<li>'c17j07'</li>\n",
       "\t<li>'c17k07'</li>\n",
       "\t<li>'c17m07'</li>\n",
       "\t<li>'c17n07'</li>\n",
       "\t<li>'c17p07'</li>\n",
       "\t<li>'c17q07'</li>\n",
       "\t<li>'c17r07'</li>\n",
       "\t<li>'c17a08'</li>\n",
       "\t<li>'c17b08'</li>\n",
       "\t<li>'c17c08'</li>\n",
       "\t<li>'c17e08'</li>\n",
       "\t<li>'c17f08'</li>\n",
       "\t<li>'c17g08'</li>\n",
       "\t<li>'c17h08'</li>\n",
       "\t<li>'c17i08'</li>\n",
       "\t<li>'c17j08'</li>\n",
       "\t<li>'c17k08'</li>\n",
       "\t<li>'c17m08'</li>\n",
       "\t<li>'c17n08'</li>\n",
       "\t<li>'c17p08'</li>\n",
       "\t<li>'c17q08'</li>\n",
       "\t<li>'c17r08'</li>\n",
       "\t<li>'c17a09'</li>\n",
       "\t<li>'c17b09'</li>\n",
       "\t<li>'c17c09'</li>\n",
       "\t<li>'c17e09'</li>\n",
       "\t<li>'c17f09'</li>\n",
       "\t<li>'c17g09'</li>\n",
       "\t<li>'c17h09'</li>\n",
       "\t<li>'c17i09'</li>\n",
       "\t<li>'c17j09'</li>\n",
       "\t<li>'c17k09'</li>\n",
       "\t<li>'c17m09'</li>\n",
       "\t<li>'c17n09'</li>\n",
       "\t<li>'c17p09'</li>\n",
       "\t<li>'c17q09'</li>\n",
       "\t<li>'c17r09'</li>\n",
       "\t<li>'c17a10'</li>\n",
       "\t<li>'c17b10'</li>\n",
       "\t<li>'c17c10'</li>\n",
       "\t<li>'c17e10'</li>\n",
       "\t<li>'c17f10'</li>\n",
       "\t<li>'c17g10'</li>\n",
       "\t<li>'c17h10'</li>\n",
       "\t<li>'c17i10'</li>\n",
       "\t<li>'c17j10'</li>\n",
       "\t<li>'c17k10'</li>\n",
       "\t<li>'c17m10'</li>\n",
       "\t<li>'c17n10'</li>\n",
       "\t<li>'c17p10'</li>\n",
       "\t<li>'c17q10'</li>\n",
       "\t<li>'c17r10'</li>\n",
       "\t<li>'c17a11'</li>\n",
       "\t<li>'c17b11'</li>\n",
       "\t<li>'c17c11'</li>\n",
       "\t<li>'c17e11'</li>\n",
       "\t<li>'c17f11'</li>\n",
       "\t<li>'c17g11'</li>\n",
       "\t<li>'c17h11'</li>\n",
       "\t<li>'c17i11'</li>\n",
       "\t<li>'c17j11'</li>\n",
       "\t<li>'c17k11'</li>\n",
       "\t<li>'c17m11'</li>\n",
       "\t<li>'c17n11'</li>\n",
       "\t<li>'c17p11'</li>\n",
       "\t<li>'c17q11'</li>\n",
       "\t<li>'c17r11'</li>\n",
       "\t<li>'c17a12'</li>\n",
       "\t<li>'c17b12'</li>\n",
       "\t<li>'c17c12'</li>\n",
       "\t<li>'c17e12'</li>\n",
       "\t<li>'c17f12'</li>\n",
       "\t<li>'c17g12'</li>\n",
       "\t<li>'c17h12'</li>\n",
       "\t<li>'c17i12'</li>\n",
       "\t<li>'c17j12'</li>\n",
       "\t<li>'c17k12'</li>\n",
       "\t<li>'c17m12'</li>\n",
       "\t<li>'c17n12'</li>\n",
       "\t<li>'c17p12'</li>\n",
       "\t<li>'c17q12'</li>\n",
       "\t<li>'c17r12'</li>\n",
       "\t<li>'c17a13'</li>\n",
       "\t<li>'c17b13'</li>\n",
       "\t<li>'c17c13'</li>\n",
       "\t<li>'c17e13'</li>\n",
       "\t<li>'c17f13'</li>\n",
       "\t<li>'c17g13'</li>\n",
       "\t<li>'c17h13'</li>\n",
       "\t<li>'c17i13'</li>\n",
       "\t<li>'c17j13'</li>\n",
       "\t<li>'c17k13'</li>\n",
       "\t<li>'c17m13'</li>\n",
       "\t<li>'c17n13'</li>\n",
       "\t<li>'c17p13'</li>\n",
       "\t<li>'c17q13'</li>\n",
       "\t<li>'c17r13'</li>\n",
       "\t<li>'c17a14'</li>\n",
       "\t<li>'c17b14'</li>\n",
       "\t<li>'c17c14'</li>\n",
       "\t<li>'c17e14'</li>\n",
       "\t<li>'c17f14'</li>\n",
       "\t<li>'c17g14'</li>\n",
       "\t<li>'c17h14'</li>\n",
       "\t<li>'c17i14'</li>\n",
       "\t<li>'c17j14'</li>\n",
       "\t<li>'c17k14'</li>\n",
       "\t<li>'c17m14'</li>\n",
       "\t<li>'c17n14'</li>\n",
       "\t<li>'c17p14'</li>\n",
       "\t<li>'c17q14'</li>\n",
       "\t<li>'c17r14'</li>\n",
       "\t<li>'c17a15'</li>\n",
       "\t<li>'c17b15'</li>\n",
       "\t<li>'c17c15'</li>\n",
       "\t<li>'c17e15'</li>\n",
       "\t<li>'c17f15'</li>\n",
       "\t<li>'c17g15'</li>\n",
       "\t<li>'c17h15'</li>\n",
       "\t<li>'c17i15'</li>\n",
       "\t<li>'c17j15'</li>\n",
       "\t<li>'c17k15'</li>\n",
       "\t<li>'c17m15'</li>\n",
       "\t<li>'c17n15'</li>\n",
       "\t<li>'c17p15'</li>\n",
       "\t<li>'c17q15'</li>\n",
       "\t<li>'c17r15'</li>\n",
       "\t<li>'c17a16'</li>\n",
       "\t<li>'c17b16'</li>\n",
       "\t<li>'c17c16'</li>\n",
       "\t<li>'c17e16'</li>\n",
       "\t<li>'c17f16'</li>\n",
       "\t<li>'c17g16'</li>\n",
       "\t<li>'c17h16'</li>\n",
       "\t<li>'c17i16'</li>\n",
       "\t<li>'c17j16'</li>\n",
       "\t<li>'c17k16'</li>\n",
       "\t<li>'c17m16'</li>\n",
       "\t<li>'c17n16'</li>\n",
       "\t<li>'c17p16'</li>\n",
       "\t<li>'c17q16'</li>\n",
       "\t<li>'c17r16'</li>\n",
       "\t<li>'c17a17'</li>\n",
       "\t<li>'c17b17'</li>\n",
       "\t<li>'c17c17'</li>\n",
       "\t<li>'c17e17'</li>\n",
       "\t<li>'c17f17'</li>\n",
       "\t<li>'c17g17'</li>\n",
       "\t<li>'c17h17'</li>\n",
       "\t<li>'c17i17'</li>\n",
       "\t<li>'c17j17'</li>\n",
       "\t<li>'c17k17'</li>\n",
       "\t<li>'c17m17'</li>\n",
       "\t<li>'c17n17'</li>\n",
       "\t<li>'c17p17'</li>\n",
       "\t<li>'c17q17'</li>\n",
       "\t<li>'c17r17'</li>\n",
       "\t<li>'c17a18'</li>\n",
       "\t<li>'c17b18'</li>\n",
       "\t<li>'c17c18'</li>\n",
       "\t<li>'c17e18'</li>\n",
       "\t<li>'c17f18'</li>\n",
       "\t<li>'c17g18'</li>\n",
       "\t<li>'c17h18'</li>\n",
       "\t<li>'c17i18'</li>\n",
       "\t<li>'c17j18'</li>\n",
       "\t<li>'c17k18'</li>\n",
       "\t<li>'c17m18'</li>\n",
       "\t<li>'c17n18'</li>\n",
       "\t<li>'c17p18'</li>\n",
       "\t<li>'c17q18'</li>\n",
       "\t<li>'c17r18'</li>\n",
       "\t<li>'c17a19'</li>\n",
       "\t<li>'c17b19'</li>\n",
       "\t<li>'c17c19'</li>\n",
       "\t<li>'c17e19'</li>\n",
       "\t<li>'c17f19'</li>\n",
       "\t<li>'c17g19'</li>\n",
       "\t<li>'c17h19'</li>\n",
       "\t<li>'c17i19'</li>\n",
       "\t<li>'c17j19'</li>\n",
       "\t<li>'c17k19'</li>\n",
       "\t<li>'c17m19'</li>\n",
       "\t<li>'c17n19'</li>\n",
       "\t<li>'c17p19'</li>\n",
       "\t<li>'c17q19'</li>\n",
       "\t<li>'c17r19'</li>\n",
       "\t<li>'c17a20'</li>\n",
       "\t<li>'c17b20'</li>\n",
       "\t<li>'c17c20'</li>\n",
       "\t<li>'c17e20'</li>\n",
       "\t<li>'c17f20'</li>\n",
       "\t<li>'c17g20'</li>\n",
       "\t<li>'c17h20'</li>\n",
       "\t<li>'c17i20'</li>\n",
       "\t<li>'c17j20'</li>\n",
       "\t<li>'c17k20'</li>\n",
       "\t<li>'c17m20'</li>\n",
       "\t<li>'c17n20'</li>\n",
       "\t<li>'c17p20'</li>\n",
       "\t<li>'c17q20'</li>\n",
       "\t<li>'c17r20'</li>\n",
       "\t<li>'d101'</li>\n",
       "\t<li>'d102'</li>\n",
       "\t<li>'d103'</li>\n",
       "\t<li>'d104'</li>\n",
       "\t<li>'d105'</li>\n",
       "\t<li>'d106'</li>\n",
       "\t<li>'d107'</li>\n",
       "\t<li>'d108'</li>\n",
       "\t<li>'d109'</li>\n",
       "\t<li>'d110'</li>\n",
       "\t<li>'d2a'</li>\n",
       "\t<li>'d2b'</li>\n",
       "\t<li>'d2c'</li>\n",
       "\t<li>'d3'</li>\n",
       "\t<li>'d401'</li>\n",
       "\t<li>'d402'</li>\n",
       "\t<li>'d403'</li>\n",
       "\t<li>'d404'</li>\n",
       "\t<li>'d405'</li>\n",
       "\t<li>'d406'</li>\n",
       "\t<li>'d407'</li>\n",
       "\t<li>'d408'</li>\n",
       "\t<li>'d409'</li>\n",
       "\t<li>'d410'</li>\n",
       "\t<li>'e11'</li>\n",
       "\t<li>'e12'</li>\n",
       "\t<li>'e13'</li>\n",
       "\t<li>'e2a01'</li>\n",
       "\t<li>'e2aa01'</li>\n",
       "\t<li>'e2a02'</li>\n",
       "\t<li>'e2aa02'</li>\n",
       "\t<li>'e2a03'</li>\n",
       "\t<li>'e2aa03'</li>\n",
       "\t<li>'e2a04'</li>\n",
       "\t<li>'e2aa04'</li>\n",
       "\t<li>'e2a05'</li>\n",
       "\t<li>'e2aa05'</li>\n",
       "\t<li>'e2a06'</li>\n",
       "\t<li>'e2aa06'</li>\n",
       "\t<li>'e2a07'</li>\n",
       "\t<li>'e2aa07'</li>\n",
       "\t<li>'e2a08'</li>\n",
       "\t<li>'e2aa08'</li>\n",
       "\t<li>'e2a09'</li>\n",
       "\t<li>'e2aa09'</li>\n",
       "\t<li>'e2a10'</li>\n",
       "\t<li>'e2aa10'</li>\n",
       "\t<li>'e2a11'</li>\n",
       "\t<li>'e2aa11'</li>\n",
       "\t<li>'e2a12'</li>\n",
       "\t<li>'e2aa12'</li>\n",
       "\t<li>'e2a13'</li>\n",
       "\t<li>'e2aa13'</li>\n",
       "\t<li>'e2a14'</li>\n",
       "\t<li>'e2aa14'</li>\n",
       "\t<li>'e2a15'</li>\n",
       "\t<li>'e2aa15'</li>\n",
       "\t<li>'e2a16'</li>\n",
       "\t<li>'e2aa16'</li>\n",
       "\t<li>'e2a17'</li>\n",
       "\t<li>'e2aa17'</li>\n",
       "\t<li>'e2a18'</li>\n",
       "\t<li>'e2aa18'</li>\n",
       "\t<li>'e2b1'</li>\n",
       "\t<li>'e2bb1'</li>\n",
       "\t<li>'e2b2'</li>\n",
       "\t<li>'e2bb2'</li>\n",
       "\t<li>'e2b3'</li>\n",
       "\t<li>'e2bb3'</li>\n",
       "\t<li>'e2b4'</li>\n",
       "\t<li>'e2bb4'</li>\n",
       "\t<li>'e2b5'</li>\n",
       "\t<li>'e2bb5'</li>\n",
       "\t<li>'e2b6'</li>\n",
       "\t<li>'e2bb6'</li>\n",
       "\t<li>'e2b7'</li>\n",
       "\t<li>'e2bb7'</li>\n",
       "\t<li>'e2b8'</li>\n",
       "\t<li>'e2bb8'</li>\n",
       "\t<li>'e3a'</li>\n",
       "\t<li>'e3b'</li>\n",
       "\t<li>'e3c'</li>\n",
       "\t<li>'e3d'</li>\n",
       "\t<li>'e3e'</li>\n",
       "\t<li>'e3f'</li>\n",
       "\t<li>'e4a1'</li>\n",
       "\t<li>'e4a2'</li>\n",
       "\t<li>'e4a3'</li>\n",
       "\t<li>'e4a4'</li>\n",
       "\t<li>'e4a5'</li>\n",
       "\t<li>'e4a6'</li>\n",
       "\t<li>'e4a7'</li>\n",
       "\t<li>'e4a8'</li>\n",
       "\t<li>'e4b'</li>\n",
       "\t<li>'e5a'</li>\n",
       "\t<li>'e5b'</li>\n",
       "\t<li>'e5ba'</li>\n",
       "\t<li>'e5bb'</li>\n",
       "\t<li>'e5c'</li>\n",
       "\t<li>'e5d'</li>\n",
       "\t<li>'e5e'</li>\n",
       "\t<li>'e5f'</li>\n",
       "\t<li>'e6a'</li>\n",
       "\t<li>'e6b'</li>\n",
       "\t<li>'e6c01'</li>\n",
       "\t<li>'e6c02'</li>\n",
       "\t<li>'e6c03'</li>\n",
       "\t<li>'e6c04'</li>\n",
       "\t<li>'e6c05'</li>\n",
       "\t<li>'e6c06'</li>\n",
       "\t<li>'e6c07'</li>\n",
       "\t<li>'e6c08'</li>\n",
       "\t<li>'e6c09'</li>\n",
       "\t<li>'e6c10'</li>\n",
       "\t<li>'e6d'</li>\n",
       "\t<li>'e6e'</li>\n",
       "\t<li>'e6f'</li>\n",
       "\t<li>'e7a'</li>\n",
       "\t<li>'e7b'</li>\n",
       "\t<li>'e8'</li>\n",
       "\t<li>'e9'</li>\n",
       "\t<li>'e10a'</li>\n",
       "\t<li>'e10b'</li>\n",
       "\t<li>'e10c'</li>\n",
       "\t<li>'e10d'</li>\n",
       "\t<li>'e10e'</li>\n",
       "\t<li>'e10f'</li>\n",
       "\t<li>'e11a'</li>\n",
       "\t<li>'e11b1'</li>\n",
       "\t<li>'e11b2'</li>\n",
       "\t<li>'e11b3'</li>\n",
       "\t<li>'e11b4'</li>\n",
       "\t<li>'e11b5'</li>\n",
       "\t<li>'e11b6'</li>\n",
       "\t<li>'e11b7'</li>\n",
       "\t<li>'e12a'</li>\n",
       "\t<li>'e12b'</li>\n",
       "\t<li>'e12c'</li>\n",
       "\t<li>'e12d'</li>\n",
       "\t<li>'e12e'</li>\n",
       "\t<li>'e12f'</li>\n",
       "\t<li>'e12g'</li>\n",
       "\t<li>'e12h'</li>\n",
       "\t<li>'e12i'</li>\n",
       "\t<li>'e12j'</li>\n",
       "\t<li>'e13a'</li>\n",
       "\t<li>'e13b'</li>\n",
       "\t<li>'e13c'</li>\n",
       "\t<li>'e13d'</li>\n",
       "\t<li>'e13e'</li>\n",
       "\t<li>'e13f'</li>\n",
       "\t<li>'e13h'</li>\n",
       "\t<li>'e13i'</li>\n",
       "\t<li>'e13j'</li>\n",
       "\t<li>'b11icodeisco'</li>\n",
       "\t<li>'b12icodeisco'</li>\n",
       "\t<li>'b13jcodeisco'</li>\n",
       "\t<li>'c8codeisco'</li>\n",
       "\t<li>'c16c011codeisco'</li>\n",
       "\t<li>'c16c012codeisco'</li>\n",
       "\t<li>'c16c013codeisco'</li>\n",
       "\t<li>'c16c014codeisco'</li>\n",
       "\t<li>'c16c015codeisco'</li>\n",
       "\t<li>'c16c021codeisco'</li>\n",
       "\t<li>'c16c022codeisco'</li>\n",
       "\t<li>'c16c023codeisco'</li>\n",
       "\t<li>'c16c024codeisco'</li>\n",
       "\t<li>'c16c025codeisco'</li>\n",
       "\t<li>'c16c031codeisco'</li>\n",
       "\t<li>'c16c032codeisco'</li>\n",
       "\t<li>'c16c033codeisco'</li>\n",
       "\t<li>'c16c034codeisco'</li>\n",
       "\t<li>'c16c035codeisco'</li>\n",
       "\t<li>'c16c041codeisco'</li>\n",
       "\t<li>'c16c042codeisco'</li>\n",
       "\t<li>'c16c043codeisco'</li>\n",
       "\t<li>'c16c044codeisco'</li>\n",
       "\t<li>'c16c045codeisco'</li>\n",
       "\t<li>'c16c051codeisco'</li>\n",
       "\t<li>'c16c052codeisco'</li>\n",
       "\t<li>'c16c053codeisco'</li>\n",
       "\t<li>'c16c054codeisco'</li>\n",
       "\t<li>'c16c055codeisco'</li>\n",
       "\t<li>'c16c061codeisco'</li>\n",
       "\t<li>'c16c062codeisco'</li>\n",
       "\t<li>'c16c063codeisco'</li>\n",
       "\t<li>'c16c064codeisco'</li>\n",
       "\t<li>'c16c065codeisco'</li>\n",
       "\t<li>'c16c071codeisco'</li>\n",
       "\t<li>'c16c072codeisco'</li>\n",
       "\t<li>'c16c073codeisco'</li>\n",
       "\t<li>'c16c074codeisco'</li>\n",
       "\t<li>'c16c075codeisco'</li>\n",
       "\t<li>'c16c081codeisco'</li>\n",
       "\t<li>'c16c082codeisco'</li>\n",
       "\t<li>'c16c083codeisco'</li>\n",
       "\t<li>'c16c084codeisco'</li>\n",
       "\t<li>'c16c085codeisco'</li>\n",
       "\t<li>'c16c091codeisco'</li>\n",
       "\t<li>'c16c092codeisco'</li>\n",
       "\t<li>'c16c093codeisco'</li>\n",
       "\t<li>'c16c094codeisco'</li>\n",
       "\t<li>'c16c095codeisco'</li>\n",
       "\t<li>'c16c101codeisco'</li>\n",
       "\t<li>'c16c102codeisco'</li>\n",
       "\t<li>'c16c103codeisco'</li>\n",
       "\t<li>'c16c104codeisco'</li>\n",
       "\t<li>'c16c105codeisco'</li>\n",
       "\t<li>'c17d01codeisco'</li>\n",
       "\t<li>'c17d02codeisco'</li>\n",
       "\t<li>'c17d03codeisco'</li>\n",
       "\t<li>'c17d04codeisco'</li>\n",
       "\t<li>'c17d05codeisco'</li>\n",
       "\t<li>'c17d06codeisco'</li>\n",
       "\t<li>'c17d07codeisco'</li>\n",
       "\t<li>'c17d08codeisco'</li>\n",
       "\t<li>'c17d09codeisco'</li>\n",
       "\t<li>'c17d10codeisco'</li>\n",
       "\t<li>'c17d11codeisco'</li>\n",
       "\t<li>'c17d12codeisco'</li>\n",
       "\t<li>'c17d13codeisco'</li>\n",
       "\t<li>'c17d14codeisco'</li>\n",
       "\t<li>'c17d15codeisco'</li>\n",
       "\t<li>'c17d16codeisco'</li>\n",
       "\t<li>'c17d17codeisco'</li>\n",
       "\t<li>'c17d18codeisco'</li>\n",
       "\t<li>'c17d19codeisco'</li>\n",
       "\t<li>'c17d20codeisco'</li>\n",
       "\t<li>'weight'</li>\n",
       "</ol>\n"
      ],
      "text/latex": [
       "\\begin{enumerate*}\n",
       "\\item 'serial'\n",
       "\\item 'province'\n",
       "\\item 'countyid'\n",
       "\\item 'community'\n",
       "\\item 'v3'\n",
       "\\item 'v41'\n",
       "\\item 'v42'\n",
       "\\item 'a1'\n",
       "\\item 'a2'\n",
       "\\item 'a3a'\n",
       "\\item 'a3b'\n",
       "\\item 'a3c'\n",
       "\\item 'a4'\n",
       "\\item 'a4a1'\n",
       "\\item 'a4a2'\n",
       "\\item 'a4a3'\n",
       "\\item 'a4a4'\n",
       "\\item 'a4a5'\n",
       "\\item 'a4a6'\n",
       "\\item 'a4a7'\n",
       "\\item 'a4a8'\n",
       "\\item 'a5'\n",
       "\\item 'a5a1'\n",
       "\\item 'a5a2'\n",
       "\\item 'a5a3'\n",
       "\\item 'a5a4'\n",
       "\\item 'a5a5'\n",
       "\\item 'a5a6'\n",
       "\\item 'a5a7'\n",
       "\\item 'a5a8'\n",
       "\\item 'a6'\n",
       "\\item 'a7'\n",
       "\\item 'a8'\n",
       "\\item 'a9'\n",
       "\\item 'a9a'\n",
       "\\item 'a10'\n",
       "\\item 'a10a'\n",
       "\\item 'a11'\n",
       "\\item 'a12'\n",
       "\\item 'a13'\n",
       "\\item 'a14a'\n",
       "\\item 'a14b'\n",
       "\\item 'a14c'\n",
       "\\item 'a14d'\n",
       "\\item 'a14e'\n",
       "\\item 'a14f'\n",
       "\\item 'a15'\n",
       "\\item 'a17'\n",
       "\\item 'a18'\n",
       "\\item 'a19'\n",
       "\\item 'a19a'\n",
       "\\item 'a19b'\n",
       "\\item 'a20'\n",
       "\\item 'a21a'\n",
       "\\item 'a21b'\n",
       "\\item 'a22'\n",
       "\\item 'a24'\n",
       "\\item 'a24a'\n",
       "\\item 'b1'\n",
       "\\item 'b1a'\n",
       "\\item 'b21'\n",
       "\\item 'b22'\n",
       "\\item 'b23'\n",
       "\\item 'b24'\n",
       "\\item 'b31'\n",
       "\\item 'b311'\n",
       "\\item 'b312'\n",
       "\\item 'b313'\n",
       "\\item 'b314'\n",
       "\\item 'b315'\n",
       "\\item 'b32'\n",
       "\\item 'b321'\n",
       "\\item 'b322'\n",
       "\\item 'b323'\n",
       "\\item 'b324'\n",
       "\\item 'b325'\n",
       "\\item 'b401'\n",
       "\\item 'b402'\n",
       "\\item 'b403'\n",
       "\\item 'b404'\n",
       "\\item 'b404a'\n",
       "\\item 'b405'\n",
       "\\item 'b405a'\n",
       "\\item 'b406'\n",
       "\\item 'b406a'\n",
       "\\item 'b407'\n",
       "\\item 'b407a'\n",
       "\\item 'b408'\n",
       "\\item 'b408a'\n",
       "\\item 'b409'\n",
       "\\item 'b409a'\n",
       "\\item 'b410'\n",
       "\\item 'b410a'\n",
       "\\item 'b411'\n",
       "\\item 'b411a'\n",
       "\\item 'b412'\n",
       "\\item 'b412a'\n",
       "\\item 'b413'\n",
       "\\item 'b413a'\n",
       "\\item 'b414'\n",
       "\\item 'b414a'\n",
       "\\item 'b5'\n",
       "\\item 'b61'\n",
       "\\item 'b62'\n",
       "\\item 'b7a'\n",
       "\\item 'b7b'\n",
       "\\item 'b8'\n",
       "\\item 'b9'\n",
       "\\item 'b10a'\n",
       "\\item 'b10b'\n",
       "\\item 'b10c'\n",
       "\\item 'b11a'\n",
       "\\item 'b11b'\n",
       "\\item 'b11b1'\n",
       "\\item 'b11c'\n",
       "\\item 'b11ca'\n",
       "\\item 'b11d'\n",
       "\\item 'b11e'\n",
       "\\item 'b11f'\n",
       "\\item 'b11g'\n",
       "\\item 'b11h'\n",
       "\\item 'b11j'\n",
       "\\item 'b11k'\n",
       "\\item 'b12a'\n",
       "\\item 'b12b'\n",
       "\\item 'b12c'\n",
       "\\item 'b12ca'\n",
       "\\item 'b12d'\n",
       "\\item 'b12e'\n",
       "\\item 'b12f'\n",
       "\\item 'b12g'\n",
       "\\item 'b12h'\n",
       "\\item 'b13a'\n",
       "\\item 'b13b'\n",
       "\\item 'b13c'\n",
       "\\item 'b13ca'\n",
       "\\item 'b13d'\n",
       "\\item 'b13e'\n",
       "\\item 'b13f'\n",
       "\\item 'b13g'\n",
       "\\item 'b13h'\n",
       "\\item 'b13i'\n",
       "\\item 'c1a01'\n",
       "\\item 'c1b01'\n",
       "\\item 'c1c01'\n",
       "\\item 'c1d01'\n",
       "\\item 'c1e01'\n",
       "\\item 'c1f01'\n",
       "\\item 'c1g01'\n",
       "\\item 'c1h01'\n",
       "\\item 'c1i01'\n",
       "\\item 'c1a02'\n",
       "\\item 'c1b02'\n",
       "\\item 'c1c02'\n",
       "\\item 'c1d02'\n",
       "\\item 'c1e02'\n",
       "\\item 'c1f02'\n",
       "\\item 'c1g02'\n",
       "\\item 'c1h02'\n",
       "\\item 'c1i02'\n",
       "\\item 'c1a03'\n",
       "\\item 'c1b03'\n",
       "\\item 'c1c03'\n",
       "\\item 'c1d03'\n",
       "\\item 'c1e03'\n",
       "\\item 'c1f03'\n",
       "\\item 'c1g03'\n",
       "\\item 'c1h03'\n",
       "\\item 'c1i03'\n",
       "\\item 'c1a04'\n",
       "\\item 'c1b04'\n",
       "\\item 'c1c04'\n",
       "\\item 'c1d04'\n",
       "\\item 'c1e04'\n",
       "\\item 'c1f04'\n",
       "\\item 'c1g04'\n",
       "\\item 'c1h04'\n",
       "\\item 'c1i04'\n",
       "\\item 'c1a05'\n",
       "\\item 'c1b05'\n",
       "\\item 'c1c05'\n",
       "\\item 'c1d05'\n",
       "\\item 'c1e05'\n",
       "\\item 'c1f05'\n",
       "\\item 'c1g05'\n",
       "\\item 'c1h05'\n",
       "\\item 'c1i05'\n",
       "\\item 'c1a06'\n",
       "\\item 'c1b06'\n",
       "\\item 'c1c06'\n",
       "\\item 'c1d06'\n",
       "\\item 'c1e06'\n",
       "\\item 'c1f06'\n",
       "\\item 'c1g06'\n",
       "\\item 'c1h06'\n",
       "\\item 'c1i06'\n",
       "\\item 'c1a07'\n",
       "\\item 'c1b07'\n",
       "\\item 'c1c07'\n",
       "\\item 'c1d07'\n",
       "\\item 'c1e07'\n",
       "\\item 'c1f07'\n",
       "\\item 'c1g07'\n",
       "\\item 'c1h07'\n",
       "\\item 'c1i07'\n",
       "\\item 'c1a08'\n",
       "\\item 'c1b08'\n",
       "\\item 'c1c08'\n",
       "\\item 'c1d08'\n",
       "\\item 'c1e08'\n",
       "\\item 'c1f08'\n",
       "\\item 'c1g08'\n",
       "\\item 'c1h08'\n",
       "\\item 'c1i08'\n",
       "\\item 'c1a09'\n",
       "\\item 'c1b09'\n",
       "\\item 'c1c09'\n",
       "\\item 'c1d09'\n",
       "\\item 'c1e09'\n",
       "\\item 'c1f09'\n",
       "\\item 'c1g09'\n",
       "\\item 'c1h09'\n",
       "\\item 'c1i09'\n",
       "\\item 'c1a10'\n",
       "\\item 'c1b10'\n",
       "\\item 'c1c10'\n",
       "\\item 'c1d10'\n",
       "\\item 'c1e10'\n",
       "\\item 'c1f10'\n",
       "\\item 'c1g10'\n",
       "\\item 'c1h10'\n",
       "\\item 'c1i10'\n",
       "\\item 'c2'\n",
       "\\item 'c3'\n",
       "\\item 'c4'\n",
       "\\item 'c5'\n",
       "\\item 'c6'\n",
       "\\item 'c6a'\n",
       "\\item 'c7'\n",
       "\\item 'c10'\n",
       "\\item 'c11a'\n",
       "\\item 'c11b'\n",
       "\\item 'c12'\n",
       "\\item 'c14'\n",
       "\\item 'c15a01'\n",
       "\\item 'c15b01'\n",
       "\\item 'c15c01'\n",
       "\\item 'c15d01'\n",
       "\\item 'c15e01'\n",
       "\\item 'c15f01'\n",
       "\\item 'c15h101'\n",
       "\\item 'c15h201'\n",
       "\\item 'c15h301'\n",
       "\\item 'c15i101'\n",
       "\\item 'c15i201'\n",
       "\\item 'c15i301'\n",
       "\\item 'c15k101'\n",
       "\\item 'c15k201'\n",
       "\\item 'c15l101'\n",
       "\\item 'c15l201'\n",
       "\\item 'c15m101'\n",
       "\\item 'c15m201'\n",
       "\\item 'c15n101'\n",
       "\\item 'c15n201'\n",
       "\\item 'c15p01'\n",
       "\\item 'c15q01'\n",
       "\\item 'c15r01'\n",
       "\\item 'c15s01'\n",
       "\\item 'c15t01'\n",
       "\\item 'c15u01'\n",
       "\\item 'c15v01'\n",
       "\\item 'c15w01'\n",
       "\\item 'c16a011'\n",
       "\\item 'c16b011'\n",
       "\\item 'c16d011'\n",
       "\\item 'c16e011'\n",
       "\\item 'c16f011'\n",
       "\\item 'c16g011'\n",
       "\\item 'c16h011'\n",
       "\\item 'c16i011'\n",
       "\\item 'c16j011'\n",
       "\\item 'c16a012'\n",
       "\\item 'c16b012'\n",
       "\\item 'c16d012'\n",
       "\\item 'c16e012'\n",
       "\\item 'c16f012'\n",
       "\\item 'c16g012'\n",
       "\\item 'c16h012'\n",
       "\\item 'c16i012'\n",
       "\\item 'c16j012'\n",
       "\\item 'c16a013'\n",
       "\\item 'c16b013'\n",
       "\\item 'c16d013'\n",
       "\\item 'c16e013'\n",
       "\\item 'c16f013'\n",
       "\\item 'c16g013'\n",
       "\\item 'c16h013'\n",
       "\\item 'c16i013'\n",
       "\\item 'c16j013'\n",
       "\\item 'c16a014'\n",
       "\\item 'c16b014'\n",
       "\\item 'c16d014'\n",
       "\\item 'c16e014'\n",
       "\\item 'c16f014'\n",
       "\\item 'c16g014'\n",
       "\\item 'c16h014'\n",
       "\\item 'c16i014'\n",
       "\\item 'c16j014'\n",
       "\\item 'c16a015'\n",
       "\\item 'c16b015'\n",
       "\\item 'c16d015'\n",
       "\\item 'c16e015'\n",
       "\\item 'c16f015'\n",
       "\\item 'c16g015'\n",
       "\\item 'c16h015'\n",
       "\\item 'c16i015'\n",
       "\\item 'c16j015'\n",
       "\\item 'c15a02'\n",
       "\\item 'c15b02'\n",
       "\\item 'c15c02'\n",
       "\\item 'c15d02'\n",
       "\\item 'c15e02'\n",
       "\\item 'c15f02'\n",
       "\\item 'c15h102'\n",
       "\\item 'c15h202'\n",
       "\\item 'c15h302'\n",
       "\\item 'c15i102'\n",
       "\\item 'c15i202'\n",
       "\\item 'c15i302'\n",
       "\\item 'c15k102'\n",
       "\\item 'c15k202'\n",
       "\\item 'c15l102'\n",
       "\\item 'c15l202'\n",
       "\\item 'c15m102'\n",
       "\\item 'c15m202'\n",
       "\\item 'c15n102'\n",
       "\\item 'c15n202'\n",
       "\\item 'c15p02'\n",
       "\\item 'c15q02'\n",
       "\\item 'c15r02'\n",
       "\\item 'c15s02'\n",
       "\\item 'c15t02'\n",
       "\\item 'c15u02'\n",
       "\\item 'c15v02'\n",
       "\\item 'c15w02'\n",
       "\\item 'c16a021'\n",
       "\\item 'c16b021'\n",
       "\\item 'c16d021'\n",
       "\\item 'c16e021'\n",
       "\\item 'c16f021'\n",
       "\\item 'c16g021'\n",
       "\\item 'c16h021'\n",
       "\\item 'c16i021'\n",
       "\\item 'c16j021'\n",
       "\\item 'c16a022'\n",
       "\\item 'c16b022'\n",
       "\\item 'c16d022'\n",
       "\\item 'c16e022'\n",
       "\\item 'c16f022'\n",
       "\\item 'c16g022'\n",
       "\\item 'c16h022'\n",
       "\\item 'c16i022'\n",
       "\\item 'c16j022'\n",
       "\\item 'c16a023'\n",
       "\\item 'c16b023'\n",
       "\\item 'c16d023'\n",
       "\\item 'c16e023'\n",
       "\\item 'c16f023'\n",
       "\\item 'c16g023'\n",
       "\\item 'c16h023'\n",
       "\\item 'c16i023'\n",
       "\\item 'c16j023'\n",
       "\\item 'c16a024'\n",
       "\\item 'c16b024'\n",
       "\\item 'c16d024'\n",
       "\\item 'c16e024'\n",
       "\\item 'c16f024'\n",
       "\\item 'c16g024'\n",
       "\\item 'c16h024'\n",
       "\\item 'c16i024'\n",
       "\\item 'c16j024'\n",
       "\\item 'c16a025'\n",
       "\\item 'c16b025'\n",
       "\\item 'c16d025'\n",
       "\\item 'c16e025'\n",
       "\\item 'c16f025'\n",
       "\\item 'c16g025'\n",
       "\\item 'c16h025'\n",
       "\\item 'c16i025'\n",
       "\\item 'c16j025'\n",
       "\\item 'c15a03'\n",
       "\\item 'c15b03'\n",
       "\\item 'c15c03'\n",
       "\\item 'c15d03'\n",
       "\\item 'c15e03'\n",
       "\\item 'c15f03'\n",
       "\\item 'c15h103'\n",
       "\\item 'c15h203'\n",
       "\\item 'c15h303'\n",
       "\\item 'c15i103'\n",
       "\\item 'c15i203'\n",
       "\\item 'c15i303'\n",
       "\\item 'c15k103'\n",
       "\\item 'c15k203'\n",
       "\\item 'c15l103'\n",
       "\\item 'c15l203'\n",
       "\\item 'c15m103'\n",
       "\\item 'c15m203'\n",
       "\\item 'c15n103'\n",
       "\\item 'c15n203'\n",
       "\\item 'c15p03'\n",
       "\\item 'c15q03'\n",
       "\\item 'c15r03'\n",
       "\\item 'c15s03'\n",
       "\\item 'c15t03'\n",
       "\\item 'c15u03'\n",
       "\\item 'c15v03'\n",
       "\\item 'c15w03'\n",
       "\\item 'c16a031'\n",
       "\\item 'c16b031'\n",
       "\\item 'c16d031'\n",
       "\\item 'c16e031'\n",
       "\\item 'c16f031'\n",
       "\\item 'c16g031'\n",
       "\\item 'c16h031'\n",
       "\\item 'c16i031'\n",
       "\\item 'c16j031'\n",
       "\\item 'c16a032'\n",
       "\\item 'c16b032'\n",
       "\\item 'c16d032'\n",
       "\\item 'c16e032'\n",
       "\\item 'c16f032'\n",
       "\\item 'c16g032'\n",
       "\\item 'c16h032'\n",
       "\\item 'c16i032'\n",
       "\\item 'c16j032'\n",
       "\\item 'c16a033'\n",
       "\\item 'c16b033'\n",
       "\\item 'c16d033'\n",
       "\\item 'c16e033'\n",
       "\\item 'c16f033'\n",
       "\\item 'c16g033'\n",
       "\\item 'c16h033'\n",
       "\\item 'c16i033'\n",
       "\\item 'c16j033'\n",
       "\\item 'c16a034'\n",
       "\\item 'c16b034'\n",
       "\\item 'c16d034'\n",
       "\\item 'c16e034'\n",
       "\\item 'c16f034'\n",
       "\\item 'c16g034'\n",
       "\\item 'c16h034'\n",
       "\\item 'c16i034'\n",
       "\\item 'c16j034'\n",
       "\\item 'c16a035'\n",
       "\\item 'c16b035'\n",
       "\\item 'c16d035'\n",
       "\\item 'c16e035'\n",
       "\\item 'c16f035'\n",
       "\\item 'c16g035'\n",
       "\\item 'c16h035'\n",
       "\\item 'c16i035'\n",
       "\\item 'c16j035'\n",
       "\\item 'c15a04'\n",
       "\\item 'c15b04'\n",
       "\\item 'c15c04'\n",
       "\\item 'c15d04'\n",
       "\\item 'c15e04'\n",
       "\\item 'c15f04'\n",
       "\\item 'c15h104'\n",
       "\\item 'c15h204'\n",
       "\\item 'c15h304'\n",
       "\\item 'c15i104'\n",
       "\\item 'c15i204'\n",
       "\\item 'c15i304'\n",
       "\\item 'c15k104'\n",
       "\\item 'c15k204'\n",
       "\\item 'c15l104'\n",
       "\\item 'c15l204'\n",
       "\\item 'c15m104'\n",
       "\\item 'c15m204'\n",
       "\\item 'c15n104'\n",
       "\\item 'c15n204'\n",
       "\\item 'c15p04'\n",
       "\\item 'c15q04'\n",
       "\\item 'c15r04'\n",
       "\\item 'c15s04'\n",
       "\\item 'c15t04'\n",
       "\\item 'c15u04'\n",
       "\\item 'c15v04'\n",
       "\\item 'c15w04'\n",
       "\\item 'c16a041'\n",
       "\\item 'c16b041'\n",
       "\\item 'c16d041'\n",
       "\\item 'c16e041'\n",
       "\\item 'c16f041'\n",
       "\\item 'c16g041'\n",
       "\\item 'c16h041'\n",
       "\\item 'c16i041'\n",
       "\\item 'c16j041'\n",
       "\\item 'c16a042'\n",
       "\\item 'c16b042'\n",
       "\\item 'c16d042'\n",
       "\\item 'c16e042'\n",
       "\\item 'c16f042'\n",
       "\\item 'c16g042'\n",
       "\\item 'c16h042'\n",
       "\\item 'c16i042'\n",
       "\\item 'c16j042'\n",
       "\\item 'c16a043'\n",
       "\\item 'c16b043'\n",
       "\\item 'c16d043'\n",
       "\\item 'c16e043'\n",
       "\\item 'c16f043'\n",
       "\\item 'c16g043'\n",
       "\\item 'c16h043'\n",
       "\\item 'c16i043'\n",
       "\\item 'c16j043'\n",
       "\\item 'c16a044'\n",
       "\\item 'c16b044'\n",
       "\\item 'c16d044'\n",
       "\\item 'c16e044'\n",
       "\\item 'c16f044'\n",
       "\\item 'c16g044'\n",
       "\\item 'c16h044'\n",
       "\\item 'c16i044'\n",
       "\\item 'c16j044'\n",
       "\\item 'c16a045'\n",
       "\\item 'c16b045'\n",
       "\\item 'c16d045'\n",
       "\\item 'c16e045'\n",
       "\\item 'c16f045'\n",
       "\\item 'c16g045'\n",
       "\\item 'c16h045'\n",
       "\\item 'c16i045'\n",
       "\\item 'c16j045'\n",
       "\\item 'c15a05'\n",
       "\\item 'c15b05'\n",
       "\\item 'c15c05'\n",
       "\\item 'c15d05'\n",
       "\\item 'c15e05'\n",
       "\\item 'c15f05'\n",
       "\\item 'c15h105'\n",
       "\\item 'c15h205'\n",
       "\\item 'c15h305'\n",
       "\\item 'c15i105'\n",
       "\\item 'c15i205'\n",
       "\\item 'c15i305'\n",
       "\\item 'c15k105'\n",
       "\\item 'c15k205'\n",
       "\\item 'c15l105'\n",
       "\\item 'c15l205'\n",
       "\\item 'c15m105'\n",
       "\\item 'c15m205'\n",
       "\\item 'c15n105'\n",
       "\\item 'c15n205'\n",
       "\\item 'c15p05'\n",
       "\\item 'c15q05'\n",
       "\\item 'c15r05'\n",
       "\\item 'c15s05'\n",
       "\\item 'c15t05'\n",
       "\\item 'c15u05'\n",
       "\\item 'c15v05'\n",
       "\\item 'c15w05'\n",
       "\\item 'c16a051'\n",
       "\\item 'c16b051'\n",
       "\\item 'c16d051'\n",
       "\\item 'c16e051'\n",
       "\\item 'c16f051'\n",
       "\\item 'c16g051'\n",
       "\\item 'c16h051'\n",
       "\\item 'c16i051'\n",
       "\\item 'c16j051'\n",
       "\\item 'c16a052'\n",
       "\\item 'c16b052'\n",
       "\\item 'c16d052'\n",
       "\\item 'c16e052'\n",
       "\\item 'c16f052'\n",
       "\\item 'c16g052'\n",
       "\\item 'c16h052'\n",
       "\\item 'c16i052'\n",
       "\\item 'c16j052'\n",
       "\\item 'c16a053'\n",
       "\\item 'c16b053'\n",
       "\\item 'c16d053'\n",
       "\\item 'c16e053'\n",
       "\\item 'c16f053'\n",
       "\\item 'c16g053'\n",
       "\\item 'c16h053'\n",
       "\\item 'c16i053'\n",
       "\\item 'c16j053'\n",
       "\\item 'c16a054'\n",
       "\\item 'c16b054'\n",
       "\\item 'c16d054'\n",
       "\\item 'c16e054'\n",
       "\\item 'c16f054'\n",
       "\\item 'c16g054'\n",
       "\\item 'c16h054'\n",
       "\\item 'c16i054'\n",
       "\\item 'c16j054'\n",
       "\\item 'c16a055'\n",
       "\\item 'c16b055'\n",
       "\\item 'c16d055'\n",
       "\\item 'c16e055'\n",
       "\\item 'c16f055'\n",
       "\\item 'c16g055'\n",
       "\\item 'c16h055'\n",
       "\\item 'c16i055'\n",
       "\\item 'c16j055'\n",
       "\\item 'c15a06'\n",
       "\\item 'c15b06'\n",
       "\\item 'c15c06'\n",
       "\\item 'c15d06'\n",
       "\\item 'c15e06'\n",
       "\\item 'c15f06'\n",
       "\\item 'c15h106'\n",
       "\\item 'c15h206'\n",
       "\\item 'c15h306'\n",
       "\\item 'c15i106'\n",
       "\\item 'c15i206'\n",
       "\\item 'c15i306'\n",
       "\\item 'c15k106'\n",
       "\\item 'c15k206'\n",
       "\\item 'c15l106'\n",
       "\\item 'c15l206'\n",
       "\\item 'c15m106'\n",
       "\\item 'c15m206'\n",
       "\\item 'c15n106'\n",
       "\\item 'c15n206'\n",
       "\\item 'c15p06'\n",
       "\\item 'c15q06'\n",
       "\\item 'c15r06'\n",
       "\\item 'c15s06'\n",
       "\\item 'c15t06'\n",
       "\\item 'c15u06'\n",
       "\\item 'c15v06'\n",
       "\\item 'c15w06'\n",
       "\\item 'c16a061'\n",
       "\\item 'c16b061'\n",
       "\\item 'c16d061'\n",
       "\\item 'c16e061'\n",
       "\\item 'c16f061'\n",
       "\\item 'c16g061'\n",
       "\\item 'c16h061'\n",
       "\\item 'c16i061'\n",
       "\\item 'c16j061'\n",
       "\\item 'c16a062'\n",
       "\\item 'c16b062'\n",
       "\\item 'c16d062'\n",
       "\\item 'c16e062'\n",
       "\\item 'c16f062'\n",
       "\\item 'c16g062'\n",
       "\\item 'c16h062'\n",
       "\\item 'c16i062'\n",
       "\\item 'c16j062'\n",
       "\\item 'c16a063'\n",
       "\\item 'c16b063'\n",
       "\\item 'c16d063'\n",
       "\\item 'c16e063'\n",
       "\\item 'c16f063'\n",
       "\\item 'c16g063'\n",
       "\\item 'c16h063'\n",
       "\\item 'c16i063'\n",
       "\\item 'c16j063'\n",
       "\\item 'c16a064'\n",
       "\\item 'c16b064'\n",
       "\\item 'c16d064'\n",
       "\\item 'c16e064'\n",
       "\\item 'c16f064'\n",
       "\\item 'c16g064'\n",
       "\\item 'c16h064'\n",
       "\\item 'c16i064'\n",
       "\\item 'c16j064'\n",
       "\\item 'c16a065'\n",
       "\\item 'c16b065'\n",
       "\\item 'c16d065'\n",
       "\\item 'c16e065'\n",
       "\\item 'c16f065'\n",
       "\\item 'c16g065'\n",
       "\\item 'c16h065'\n",
       "\\item 'c16i065'\n",
       "\\item 'c16j065'\n",
       "\\item 'c15a07'\n",
       "\\item 'c15b07'\n",
       "\\item 'c15c07'\n",
       "\\item 'c15d07'\n",
       "\\item 'c15e07'\n",
       "\\item 'c15f07'\n",
       "\\item 'c15h107'\n",
       "\\item 'c15h207'\n",
       "\\item 'c15h307'\n",
       "\\item 'c15i107'\n",
       "\\item 'c15i207'\n",
       "\\item 'c15i307'\n",
       "\\item 'c15k107'\n",
       "\\item 'c15k207'\n",
       "\\item 'c15l107'\n",
       "\\item 'c15l207'\n",
       "\\item 'c15m107'\n",
       "\\item 'c15m207'\n",
       "\\item 'c15n107'\n",
       "\\item 'c15n207'\n",
       "\\item 'c15p07'\n",
       "\\item 'c15q07'\n",
       "\\item 'c15r07'\n",
       "\\item 'c15s07'\n",
       "\\item 'c15t07'\n",
       "\\item 'c15u07'\n",
       "\\item 'c15v07'\n",
       "\\item 'c15w07'\n",
       "\\item 'c16a071'\n",
       "\\item 'c16b071'\n",
       "\\item 'c16d071'\n",
       "\\item 'c16e071'\n",
       "\\item 'c16f071'\n",
       "\\item 'c16g071'\n",
       "\\item 'c16h071'\n",
       "\\item 'c16i071'\n",
       "\\item 'c16j071'\n",
       "\\item 'c16a072'\n",
       "\\item 'c16b072'\n",
       "\\item 'c16d072'\n",
       "\\item 'c16e072'\n",
       "\\item 'c16f072'\n",
       "\\item 'c16g072'\n",
       "\\item 'c16h072'\n",
       "\\item 'c16i072'\n",
       "\\item 'c16j072'\n",
       "\\item 'c16a073'\n",
       "\\item 'c16b073'\n",
       "\\item 'c16d073'\n",
       "\\item 'c16e073'\n",
       "\\item 'c16f073'\n",
       "\\item 'c16g073'\n",
       "\\item 'c16h073'\n",
       "\\item 'c16i073'\n",
       "\\item 'c16j073'\n",
       "\\item 'c16a074'\n",
       "\\item 'c16b074'\n",
       "\\item 'c16d074'\n",
       "\\item 'c16e074'\n",
       "\\item 'c16f074'\n",
       "\\item 'c16g074'\n",
       "\\item 'c16h074'\n",
       "\\item 'c16i074'\n",
       "\\item 'c16j074'\n",
       "\\item 'c16a075'\n",
       "\\item 'c16b075'\n",
       "\\item 'c16d075'\n",
       "\\item 'c16e075'\n",
       "\\item 'c16f075'\n",
       "\\item 'c16g075'\n",
       "\\item 'c16h075'\n",
       "\\item 'c16i075'\n",
       "\\item 'c16j075'\n",
       "\\item 'c15a08'\n",
       "\\item 'c15b08'\n",
       "\\item 'c15c08'\n",
       "\\item 'c15d08'\n",
       "\\item 'c15e08'\n",
       "\\item 'c15f08'\n",
       "\\item 'c15h108'\n",
       "\\item 'c15h208'\n",
       "\\item 'c15h308'\n",
       "\\item 'c15i108'\n",
       "\\item 'c15i208'\n",
       "\\item 'c15i308'\n",
       "\\item 'c15k108'\n",
       "\\item 'c15k208'\n",
       "\\item 'c15l108'\n",
       "\\item 'c15l208'\n",
       "\\item 'c15m108'\n",
       "\\item 'c15m208'\n",
       "\\item 'c15n108'\n",
       "\\item 'c15n208'\n",
       "\\item 'c15p08'\n",
       "\\item 'c15q08'\n",
       "\\item 'c15r08'\n",
       "\\item 'c15s08'\n",
       "\\item 'c15t08'\n",
       "\\item 'c15u08'\n",
       "\\item 'c15v08'\n",
       "\\item 'c15w08'\n",
       "\\item 'c16a081'\n",
       "\\item 'c16b081'\n",
       "\\item 'c16d081'\n",
       "\\item 'c16e081'\n",
       "\\item 'c16f081'\n",
       "\\item 'c16g081'\n",
       "\\item 'c16h081'\n",
       "\\item 'c16i081'\n",
       "\\item 'c16j081'\n",
       "\\item 'c16a082'\n",
       "\\item 'c16b082'\n",
       "\\item 'c16d082'\n",
       "\\item 'c16e082'\n",
       "\\item 'c16f082'\n",
       "\\item 'c16g082'\n",
       "\\item 'c16h082'\n",
       "\\item 'c16i082'\n",
       "\\item 'c16j082'\n",
       "\\item 'c16a083'\n",
       "\\item 'c16b083'\n",
       "\\item 'c16d083'\n",
       "\\item 'c16e083'\n",
       "\\item 'c16f083'\n",
       "\\item 'c16g083'\n",
       "\\item 'c16h083'\n",
       "\\item 'c16i083'\n",
       "\\item 'c16j083'\n",
       "\\item 'c16a084'\n",
       "\\item 'c16b084'\n",
       "\\item 'c16d084'\n",
       "\\item 'c16e084'\n",
       "\\item 'c16f084'\n",
       "\\item 'c16g084'\n",
       "\\item 'c16h084'\n",
       "\\item 'c16i084'\n",
       "\\item 'c16j084'\n",
       "\\item 'c16a085'\n",
       "\\item 'c16b085'\n",
       "\\item 'c16d085'\n",
       "\\item 'c16e085'\n",
       "\\item 'c16f085'\n",
       "\\item 'c16g085'\n",
       "\\item 'c16h085'\n",
       "\\item 'c16i085'\n",
       "\\item 'c16j085'\n",
       "\\item 'c15a09'\n",
       "\\item 'c15b09'\n",
       "\\item 'c15c09'\n",
       "\\item 'c15d09'\n",
       "\\item 'c15e09'\n",
       "\\item 'c15f09'\n",
       "\\item 'c15h109'\n",
       "\\item 'c15h209'\n",
       "\\item 'c15h309'\n",
       "\\item 'c15i109'\n",
       "\\item 'c15i209'\n",
       "\\item 'c15i309'\n",
       "\\item 'c15k109'\n",
       "\\item 'c15k209'\n",
       "\\item 'c15l109'\n",
       "\\item 'c15l209'\n",
       "\\item 'c15m109'\n",
       "\\item 'c15m209'\n",
       "\\item 'c15n109'\n",
       "\\item 'c15n209'\n",
       "\\item 'c15p09'\n",
       "\\item 'c15q09'\n",
       "\\item 'c15r09'\n",
       "\\item 'c15s09'\n",
       "\\item 'c15t09'\n",
       "\\item 'c15u09'\n",
       "\\item 'c15v09'\n",
       "\\item 'c15w09'\n",
       "\\item 'c16a091'\n",
       "\\item 'c16b091'\n",
       "\\item 'c16d091'\n",
       "\\item 'c16e091'\n",
       "\\item 'c16f091'\n",
       "\\item 'c16g091'\n",
       "\\item 'c16h091'\n",
       "\\item 'c16i091'\n",
       "\\item 'c16j091'\n",
       "\\item 'c16a092'\n",
       "\\item 'c16b092'\n",
       "\\item 'c16d092'\n",
       "\\item 'c16e092'\n",
       "\\item 'c16f092'\n",
       "\\item 'c16g092'\n",
       "\\item 'c16h092'\n",
       "\\item 'c16i092'\n",
       "\\item 'c16j092'\n",
       "\\item 'c16a093'\n",
       "\\item 'c16b093'\n",
       "\\item 'c16d093'\n",
       "\\item 'c16e093'\n",
       "\\item 'c16f093'\n",
       "\\item 'c16g093'\n",
       "\\item 'c16h093'\n",
       "\\item 'c16i093'\n",
       "\\item 'c16j093'\n",
       "\\item 'c16a094'\n",
       "\\item 'c16b094'\n",
       "\\item 'c16d094'\n",
       "\\item 'c16e094'\n",
       "\\item 'c16f094'\n",
       "\\item 'c16g094'\n",
       "\\item 'c16h094'\n",
       "\\item 'c16i094'\n",
       "\\item 'c16j094'\n",
       "\\item 'c16a095'\n",
       "\\item 'c16b095'\n",
       "\\item 'c16d095'\n",
       "\\item 'c16e095'\n",
       "\\item 'c16f095'\n",
       "\\item 'c16g095'\n",
       "\\item 'c16h095'\n",
       "\\item 'c16i095'\n",
       "\\item 'c16j095'\n",
       "\\item 'c15a10'\n",
       "\\item 'c15b10'\n",
       "\\item 'c15c10'\n",
       "\\item 'c15d10'\n",
       "\\item 'c15e10'\n",
       "\\item 'c15f10'\n",
       "\\item 'c15h110'\n",
       "\\item 'c15h210'\n",
       "\\item 'c15h310'\n",
       "\\item 'c15i110'\n",
       "\\item 'c15i210'\n",
       "\\item 'c15i310'\n",
       "\\item 'c15k110'\n",
       "\\item 'c15k210'\n",
       "\\item 'c15l110'\n",
       "\\item 'c15l210'\n",
       "\\item 'c15m110'\n",
       "\\item 'c15m210'\n",
       "\\item 'c15n110'\n",
       "\\item 'c15n210'\n",
       "\\item 'c15p10'\n",
       "\\item 'c15q10'\n",
       "\\item 'c15r10'\n",
       "\\item 'c15s10'\n",
       "\\item 'c15t10'\n",
       "\\item 'c15u10'\n",
       "\\item 'c15v10'\n",
       "\\item 'c15w10'\n",
       "\\item 'c16a101'\n",
       "\\item 'c16b101'\n",
       "\\item 'c16d101'\n",
       "\\item 'c16e101'\n",
       "\\item 'c16f101'\n",
       "\\item 'c16g101'\n",
       "\\item 'c16h101'\n",
       "\\item 'c16i101'\n",
       "\\item 'c16j101'\n",
       "\\item 'c16a102'\n",
       "\\item 'c16b102'\n",
       "\\item 'c16d102'\n",
       "\\item 'c16e102'\n",
       "\\item 'c16f102'\n",
       "\\item 'c16g102'\n",
       "\\item 'c16h102'\n",
       "\\item 'c16i102'\n",
       "\\item 'c16j102'\n",
       "\\item 'c16a103'\n",
       "\\item 'c16b103'\n",
       "\\item 'c16d103'\n",
       "\\item 'c16e103'\n",
       "\\item 'c16f103'\n",
       "\\item 'c16g103'\n",
       "\\item 'c16h103'\n",
       "\\item 'c16i103'\n",
       "\\item 'c16j103'\n",
       "\\item 'c16a104'\n",
       "\\item 'c16b104'\n",
       "\\item 'c16d104'\n",
       "\\item 'c16e104'\n",
       "\\item 'c16f104'\n",
       "\\item 'c16g104'\n",
       "\\item 'c16h104'\n",
       "\\item 'c16i104'\n",
       "\\item 'c16j104'\n",
       "\\item 'c16a105'\n",
       "\\item 'c16b105'\n",
       "\\item 'c16d105'\n",
       "\\item 'c16e105'\n",
       "\\item 'c16f105'\n",
       "\\item 'c16g105'\n",
       "\\item 'c16h105'\n",
       "\\item 'c16i105'\n",
       "\\item 'c16j105'\n",
       "\\item 'c17a01'\n",
       "\\item 'c17b01'\n",
       "\\item 'c17c01'\n",
       "\\item 'c17e01'\n",
       "\\item 'c17f01'\n",
       "\\item 'c17g01'\n",
       "\\item 'c17h01'\n",
       "\\item 'c17i01'\n",
       "\\item 'c17j01'\n",
       "\\item 'c17k01'\n",
       "\\item 'c17m01'\n",
       "\\item 'c17n01'\n",
       "\\item 'c17p01'\n",
       "\\item 'c17q01'\n",
       "\\item 'c17r01'\n",
       "\\item 'c17a02'\n",
       "\\item 'c17b02'\n",
       "\\item 'c17c02'\n",
       "\\item 'c17e02'\n",
       "\\item 'c17f02'\n",
       "\\item 'c17g02'\n",
       "\\item 'c17h02'\n",
       "\\item 'c17i02'\n",
       "\\item 'c17j02'\n",
       "\\item 'c17k02'\n",
       "\\item 'c17m02'\n",
       "\\item 'c17n02'\n",
       "\\item 'c17p02'\n",
       "\\item 'c17q02'\n",
       "\\item 'c17r02'\n",
       "\\item 'c17a03'\n",
       "\\item 'c17b03'\n",
       "\\item 'c17c03'\n",
       "\\item 'c17e03'\n",
       "\\item 'c17f03'\n",
       "\\item 'c17g03'\n",
       "\\item 'c17h03'\n",
       "\\item 'c17i03'\n",
       "\\item 'c17j03'\n",
       "\\item 'c17k03'\n",
       "\\item 'c17m03'\n",
       "\\item 'c17n03'\n",
       "\\item 'c17p03'\n",
       "\\item 'c17q03'\n",
       "\\item 'c17r03'\n",
       "\\item 'c17a04'\n",
       "\\item 'c17b04'\n",
       "\\item 'c17c04'\n",
       "\\item 'c17e04'\n",
       "\\item 'c17f04'\n",
       "\\item 'c17g04'\n",
       "\\item 'c17h04'\n",
       "\\item 'c17i04'\n",
       "\\item 'c17j04'\n",
       "\\item 'c17k04'\n",
       "\\item 'c17m04'\n",
       "\\item 'c17n04'\n",
       "\\item 'c17p04'\n",
       "\\item 'c17q04'\n",
       "\\item 'c17r04'\n",
       "\\item 'c17a05'\n",
       "\\item 'c17b05'\n",
       "\\item 'c17c05'\n",
       "\\item 'c17e05'\n",
       "\\item 'c17f05'\n",
       "\\item 'c17g05'\n",
       "\\item 'c17h05'\n",
       "\\item 'c17i05'\n",
       "\\item 'c17j05'\n",
       "\\item 'c17k05'\n",
       "\\item 'c17m05'\n",
       "\\item 'c17n05'\n",
       "\\item 'c17p05'\n",
       "\\item 'c17q05'\n",
       "\\item 'c17r05'\n",
       "\\item 'c17a06'\n",
       "\\item 'c17b06'\n",
       "\\item 'c17c06'\n",
       "\\item 'c17e06'\n",
       "\\item 'c17f06'\n",
       "\\item 'c17g06'\n",
       "\\item 'c17h06'\n",
       "\\item 'c17i06'\n",
       "\\item 'c17j06'\n",
       "\\item 'c17k06'\n",
       "\\item 'c17m06'\n",
       "\\item 'c17n06'\n",
       "\\item 'c17p06'\n",
       "\\item 'c17q06'\n",
       "\\item 'c17r06'\n",
       "\\item 'c17a07'\n",
       "\\item 'c17b07'\n",
       "\\item 'c17c07'\n",
       "\\item 'c17e07'\n",
       "\\item 'c17f07'\n",
       "\\item 'c17g07'\n",
       "\\item 'c17h07'\n",
       "\\item 'c17i07'\n",
       "\\item 'c17j07'\n",
       "\\item 'c17k07'\n",
       "\\item 'c17m07'\n",
       "\\item 'c17n07'\n",
       "\\item 'c17p07'\n",
       "\\item 'c17q07'\n",
       "\\item 'c17r07'\n",
       "\\item 'c17a08'\n",
       "\\item 'c17b08'\n",
       "\\item 'c17c08'\n",
       "\\item 'c17e08'\n",
       "\\item 'c17f08'\n",
       "\\item 'c17g08'\n",
       "\\item 'c17h08'\n",
       "\\item 'c17i08'\n",
       "\\item 'c17j08'\n",
       "\\item 'c17k08'\n",
       "\\item 'c17m08'\n",
       "\\item 'c17n08'\n",
       "\\item 'c17p08'\n",
       "\\item 'c17q08'\n",
       "\\item 'c17r08'\n",
       "\\item 'c17a09'\n",
       "\\item 'c17b09'\n",
       "\\item 'c17c09'\n",
       "\\item 'c17e09'\n",
       "\\item 'c17f09'\n",
       "\\item 'c17g09'\n",
       "\\item 'c17h09'\n",
       "\\item 'c17i09'\n",
       "\\item 'c17j09'\n",
       "\\item 'c17k09'\n",
       "\\item 'c17m09'\n",
       "\\item 'c17n09'\n",
       "\\item 'c17p09'\n",
       "\\item 'c17q09'\n",
       "\\item 'c17r09'\n",
       "\\item 'c17a10'\n",
       "\\item 'c17b10'\n",
       "\\item 'c17c10'\n",
       "\\item 'c17e10'\n",
       "\\item 'c17f10'\n",
       "\\item 'c17g10'\n",
       "\\item 'c17h10'\n",
       "\\item 'c17i10'\n",
       "\\item 'c17j10'\n",
       "\\item 'c17k10'\n",
       "\\item 'c17m10'\n",
       "\\item 'c17n10'\n",
       "\\item 'c17p10'\n",
       "\\item 'c17q10'\n",
       "\\item 'c17r10'\n",
       "\\item 'c17a11'\n",
       "\\item 'c17b11'\n",
       "\\item 'c17c11'\n",
       "\\item 'c17e11'\n",
       "\\item 'c17f11'\n",
       "\\item 'c17g11'\n",
       "\\item 'c17h11'\n",
       "\\item 'c17i11'\n",
       "\\item 'c17j11'\n",
       "\\item 'c17k11'\n",
       "\\item 'c17m11'\n",
       "\\item 'c17n11'\n",
       "\\item 'c17p11'\n",
       "\\item 'c17q11'\n",
       "\\item 'c17r11'\n",
       "\\item 'c17a12'\n",
       "\\item 'c17b12'\n",
       "\\item 'c17c12'\n",
       "\\item 'c17e12'\n",
       "\\item 'c17f12'\n",
       "\\item 'c17g12'\n",
       "\\item 'c17h12'\n",
       "\\item 'c17i12'\n",
       "\\item 'c17j12'\n",
       "\\item 'c17k12'\n",
       "\\item 'c17m12'\n",
       "\\item 'c17n12'\n",
       "\\item 'c17p12'\n",
       "\\item 'c17q12'\n",
       "\\item 'c17r12'\n",
       "\\item 'c17a13'\n",
       "\\item 'c17b13'\n",
       "\\item 'c17c13'\n",
       "\\item 'c17e13'\n",
       "\\item 'c17f13'\n",
       "\\item 'c17g13'\n",
       "\\item 'c17h13'\n",
       "\\item 'c17i13'\n",
       "\\item 'c17j13'\n",
       "\\item 'c17k13'\n",
       "\\item 'c17m13'\n",
       "\\item 'c17n13'\n",
       "\\item 'c17p13'\n",
       "\\item 'c17q13'\n",
       "\\item 'c17r13'\n",
       "\\item 'c17a14'\n",
       "\\item 'c17b14'\n",
       "\\item 'c17c14'\n",
       "\\item 'c17e14'\n",
       "\\item 'c17f14'\n",
       "\\item 'c17g14'\n",
       "\\item 'c17h14'\n",
       "\\item 'c17i14'\n",
       "\\item 'c17j14'\n",
       "\\item 'c17k14'\n",
       "\\item 'c17m14'\n",
       "\\item 'c17n14'\n",
       "\\item 'c17p14'\n",
       "\\item 'c17q14'\n",
       "\\item 'c17r14'\n",
       "\\item 'c17a15'\n",
       "\\item 'c17b15'\n",
       "\\item 'c17c15'\n",
       "\\item 'c17e15'\n",
       "\\item 'c17f15'\n",
       "\\item 'c17g15'\n",
       "\\item 'c17h15'\n",
       "\\item 'c17i15'\n",
       "\\item 'c17j15'\n",
       "\\item 'c17k15'\n",
       "\\item 'c17m15'\n",
       "\\item 'c17n15'\n",
       "\\item 'c17p15'\n",
       "\\item 'c17q15'\n",
       "\\item 'c17r15'\n",
       "\\item 'c17a16'\n",
       "\\item 'c17b16'\n",
       "\\item 'c17c16'\n",
       "\\item 'c17e16'\n",
       "\\item 'c17f16'\n",
       "\\item 'c17g16'\n",
       "\\item 'c17h16'\n",
       "\\item 'c17i16'\n",
       "\\item 'c17j16'\n",
       "\\item 'c17k16'\n",
       "\\item 'c17m16'\n",
       "\\item 'c17n16'\n",
       "\\item 'c17p16'\n",
       "\\item 'c17q16'\n",
       "\\item 'c17r16'\n",
       "\\item 'c17a17'\n",
       "\\item 'c17b17'\n",
       "\\item 'c17c17'\n",
       "\\item 'c17e17'\n",
       "\\item 'c17f17'\n",
       "\\item 'c17g17'\n",
       "\\item 'c17h17'\n",
       "\\item 'c17i17'\n",
       "\\item 'c17j17'\n",
       "\\item 'c17k17'\n",
       "\\item 'c17m17'\n",
       "\\item 'c17n17'\n",
       "\\item 'c17p17'\n",
       "\\item 'c17q17'\n",
       "\\item 'c17r17'\n",
       "\\item 'c17a18'\n",
       "\\item 'c17b18'\n",
       "\\item 'c17c18'\n",
       "\\item 'c17e18'\n",
       "\\item 'c17f18'\n",
       "\\item 'c17g18'\n",
       "\\item 'c17h18'\n",
       "\\item 'c17i18'\n",
       "\\item 'c17j18'\n",
       "\\item 'c17k18'\n",
       "\\item 'c17m18'\n",
       "\\item 'c17n18'\n",
       "\\item 'c17p18'\n",
       "\\item 'c17q18'\n",
       "\\item 'c17r18'\n",
       "\\item 'c17a19'\n",
       "\\item 'c17b19'\n",
       "\\item 'c17c19'\n",
       "\\item 'c17e19'\n",
       "\\item 'c17f19'\n",
       "\\item 'c17g19'\n",
       "\\item 'c17h19'\n",
       "\\item 'c17i19'\n",
       "\\item 'c17j19'\n",
       "\\item 'c17k19'\n",
       "\\item 'c17m19'\n",
       "\\item 'c17n19'\n",
       "\\item 'c17p19'\n",
       "\\item 'c17q19'\n",
       "\\item 'c17r19'\n",
       "\\item 'c17a20'\n",
       "\\item 'c17b20'\n",
       "\\item 'c17c20'\n",
       "\\item 'c17e20'\n",
       "\\item 'c17f20'\n",
       "\\item 'c17g20'\n",
       "\\item 'c17h20'\n",
       "\\item 'c17i20'\n",
       "\\item 'c17j20'\n",
       "\\item 'c17k20'\n",
       "\\item 'c17m20'\n",
       "\\item 'c17n20'\n",
       "\\item 'c17p20'\n",
       "\\item 'c17q20'\n",
       "\\item 'c17r20'\n",
       "\\item 'd101'\n",
       "\\item 'd102'\n",
       "\\item 'd103'\n",
       "\\item 'd104'\n",
       "\\item 'd105'\n",
       "\\item 'd106'\n",
       "\\item 'd107'\n",
       "\\item 'd108'\n",
       "\\item 'd109'\n",
       "\\item 'd110'\n",
       "\\item 'd2a'\n",
       "\\item 'd2b'\n",
       "\\item 'd2c'\n",
       "\\item 'd3'\n",
       "\\item 'd401'\n",
       "\\item 'd402'\n",
       "\\item 'd403'\n",
       "\\item 'd404'\n",
       "\\item 'd405'\n",
       "\\item 'd406'\n",
       "\\item 'd407'\n",
       "\\item 'd408'\n",
       "\\item 'd409'\n",
       "\\item 'd410'\n",
       "\\item 'e11'\n",
       "\\item 'e12'\n",
       "\\item 'e13'\n",
       "\\item 'e2a01'\n",
       "\\item 'e2aa01'\n",
       "\\item 'e2a02'\n",
       "\\item 'e2aa02'\n",
       "\\item 'e2a03'\n",
       "\\item 'e2aa03'\n",
       "\\item 'e2a04'\n",
       "\\item 'e2aa04'\n",
       "\\item 'e2a05'\n",
       "\\item 'e2aa05'\n",
       "\\item 'e2a06'\n",
       "\\item 'e2aa06'\n",
       "\\item 'e2a07'\n",
       "\\item 'e2aa07'\n",
       "\\item 'e2a08'\n",
       "\\item 'e2aa08'\n",
       "\\item 'e2a09'\n",
       "\\item 'e2aa09'\n",
       "\\item 'e2a10'\n",
       "\\item 'e2aa10'\n",
       "\\item 'e2a11'\n",
       "\\item 'e2aa11'\n",
       "\\item 'e2a12'\n",
       "\\item 'e2aa12'\n",
       "\\item 'e2a13'\n",
       "\\item 'e2aa13'\n",
       "\\item 'e2a14'\n",
       "\\item 'e2aa14'\n",
       "\\item 'e2a15'\n",
       "\\item 'e2aa15'\n",
       "\\item 'e2a16'\n",
       "\\item 'e2aa16'\n",
       "\\item 'e2a17'\n",
       "\\item 'e2aa17'\n",
       "\\item 'e2a18'\n",
       "\\item 'e2aa18'\n",
       "\\item 'e2b1'\n",
       "\\item 'e2bb1'\n",
       "\\item 'e2b2'\n",
       "\\item 'e2bb2'\n",
       "\\item 'e2b3'\n",
       "\\item 'e2bb3'\n",
       "\\item 'e2b4'\n",
       "\\item 'e2bb4'\n",
       "\\item 'e2b5'\n",
       "\\item 'e2bb5'\n",
       "\\item 'e2b6'\n",
       "\\item 'e2bb6'\n",
       "\\item 'e2b7'\n",
       "\\item 'e2bb7'\n",
       "\\item 'e2b8'\n",
       "\\item 'e2bb8'\n",
       "\\item 'e3a'\n",
       "\\item 'e3b'\n",
       "\\item 'e3c'\n",
       "\\item 'e3d'\n",
       "\\item 'e3e'\n",
       "\\item 'e3f'\n",
       "\\item 'e4a1'\n",
       "\\item 'e4a2'\n",
       "\\item 'e4a3'\n",
       "\\item 'e4a4'\n",
       "\\item 'e4a5'\n",
       "\\item 'e4a6'\n",
       "\\item 'e4a7'\n",
       "\\item 'e4a8'\n",
       "\\item 'e4b'\n",
       "\\item 'e5a'\n",
       "\\item 'e5b'\n",
       "\\item 'e5ba'\n",
       "\\item 'e5bb'\n",
       "\\item 'e5c'\n",
       "\\item 'e5d'\n",
       "\\item 'e5e'\n",
       "\\item 'e5f'\n",
       "\\item 'e6a'\n",
       "\\item 'e6b'\n",
       "\\item 'e6c01'\n",
       "\\item 'e6c02'\n",
       "\\item 'e6c03'\n",
       "\\item 'e6c04'\n",
       "\\item 'e6c05'\n",
       "\\item 'e6c06'\n",
       "\\item 'e6c07'\n",
       "\\item 'e6c08'\n",
       "\\item 'e6c09'\n",
       "\\item 'e6c10'\n",
       "\\item 'e6d'\n",
       "\\item 'e6e'\n",
       "\\item 'e6f'\n",
       "\\item 'e7a'\n",
       "\\item 'e7b'\n",
       "\\item 'e8'\n",
       "\\item 'e9'\n",
       "\\item 'e10a'\n",
       "\\item 'e10b'\n",
       "\\item 'e10c'\n",
       "\\item 'e10d'\n",
       "\\item 'e10e'\n",
       "\\item 'e10f'\n",
       "\\item 'e11a'\n",
       "\\item 'e11b1'\n",
       "\\item 'e11b2'\n",
       "\\item 'e11b3'\n",
       "\\item 'e11b4'\n",
       "\\item 'e11b5'\n",
       "\\item 'e11b6'\n",
       "\\item 'e11b7'\n",
       "\\item 'e12a'\n",
       "\\item 'e12b'\n",
       "\\item 'e12c'\n",
       "\\item 'e12d'\n",
       "\\item 'e12e'\n",
       "\\item 'e12f'\n",
       "\\item 'e12g'\n",
       "\\item 'e12h'\n",
       "\\item 'e12i'\n",
       "\\item 'e12j'\n",
       "\\item 'e13a'\n",
       "\\item 'e13b'\n",
       "\\item 'e13c'\n",
       "\\item 'e13d'\n",
       "\\item 'e13e'\n",
       "\\item 'e13f'\n",
       "\\item 'e13h'\n",
       "\\item 'e13i'\n",
       "\\item 'e13j'\n",
       "\\item 'b11icodeisco'\n",
       "\\item 'b12icodeisco'\n",
       "\\item 'b13jcodeisco'\n",
       "\\item 'c8codeisco'\n",
       "\\item 'c16c011codeisco'\n",
       "\\item 'c16c012codeisco'\n",
       "\\item 'c16c013codeisco'\n",
       "\\item 'c16c014codeisco'\n",
       "\\item 'c16c015codeisco'\n",
       "\\item 'c16c021codeisco'\n",
       "\\item 'c16c022codeisco'\n",
       "\\item 'c16c023codeisco'\n",
       "\\item 'c16c024codeisco'\n",
       "\\item 'c16c025codeisco'\n",
       "\\item 'c16c031codeisco'\n",
       "\\item 'c16c032codeisco'\n",
       "\\item 'c16c033codeisco'\n",
       "\\item 'c16c034codeisco'\n",
       "\\item 'c16c035codeisco'\n",
       "\\item 'c16c041codeisco'\n",
       "\\item 'c16c042codeisco'\n",
       "\\item 'c16c043codeisco'\n",
       "\\item 'c16c044codeisco'\n",
       "\\item 'c16c045codeisco'\n",
       "\\item 'c16c051codeisco'\n",
       "\\item 'c16c052codeisco'\n",
       "\\item 'c16c053codeisco'\n",
       "\\item 'c16c054codeisco'\n",
       "\\item 'c16c055codeisco'\n",
       "\\item 'c16c061codeisco'\n",
       "\\item 'c16c062codeisco'\n",
       "\\item 'c16c063codeisco'\n",
       "\\item 'c16c064codeisco'\n",
       "\\item 'c16c065codeisco'\n",
       "\\item 'c16c071codeisco'\n",
       "\\item 'c16c072codeisco'\n",
       "\\item 'c16c073codeisco'\n",
       "\\item 'c16c074codeisco'\n",
       "\\item 'c16c075codeisco'\n",
       "\\item 'c16c081codeisco'\n",
       "\\item 'c16c082codeisco'\n",
       "\\item 'c16c083codeisco'\n",
       "\\item 'c16c084codeisco'\n",
       "\\item 'c16c085codeisco'\n",
       "\\item 'c16c091codeisco'\n",
       "\\item 'c16c092codeisco'\n",
       "\\item 'c16c093codeisco'\n",
       "\\item 'c16c094codeisco'\n",
       "\\item 'c16c095codeisco'\n",
       "\\item 'c16c101codeisco'\n",
       "\\item 'c16c102codeisco'\n",
       "\\item 'c16c103codeisco'\n",
       "\\item 'c16c104codeisco'\n",
       "\\item 'c16c105codeisco'\n",
       "\\item 'c17d01codeisco'\n",
       "\\item 'c17d02codeisco'\n",
       "\\item 'c17d03codeisco'\n",
       "\\item 'c17d04codeisco'\n",
       "\\item 'c17d05codeisco'\n",
       "\\item 'c17d06codeisco'\n",
       "\\item 'c17d07codeisco'\n",
       "\\item 'c17d08codeisco'\n",
       "\\item 'c17d09codeisco'\n",
       "\\item 'c17d10codeisco'\n",
       "\\item 'c17d11codeisco'\n",
       "\\item 'c17d12codeisco'\n",
       "\\item 'c17d13codeisco'\n",
       "\\item 'c17d14codeisco'\n",
       "\\item 'c17d15codeisco'\n",
       "\\item 'c17d16codeisco'\n",
       "\\item 'c17d17codeisco'\n",
       "\\item 'c17d18codeisco'\n",
       "\\item 'c17d19codeisco'\n",
       "\\item 'c17d20codeisco'\n",
       "\\item 'weight'\n",
       "\\end{enumerate*}\n"
      ],
      "text/markdown": [
       "1. 'serial'\n",
       "2. 'province'\n",
       "3. 'countyid'\n",
       "4. 'community'\n",
       "5. 'v3'\n",
       "6. 'v41'\n",
       "7. 'v42'\n",
       "8. 'a1'\n",
       "9. 'a2'\n",
       "10. 'a3a'\n",
       "11. 'a3b'\n",
       "12. 'a3c'\n",
       "13. 'a4'\n",
       "14. 'a4a1'\n",
       "15. 'a4a2'\n",
       "16. 'a4a3'\n",
       "17. 'a4a4'\n",
       "18. 'a4a5'\n",
       "19. 'a4a6'\n",
       "20. 'a4a7'\n",
       "21. 'a4a8'\n",
       "22. 'a5'\n",
       "23. 'a5a1'\n",
       "24. 'a5a2'\n",
       "25. 'a5a3'\n",
       "26. 'a5a4'\n",
       "27. 'a5a5'\n",
       "28. 'a5a6'\n",
       "29. 'a5a7'\n",
       "30. 'a5a8'\n",
       "31. 'a6'\n",
       "32. 'a7'\n",
       "33. 'a8'\n",
       "34. 'a9'\n",
       "35. 'a9a'\n",
       "36. 'a10'\n",
       "37. 'a10a'\n",
       "38. 'a11'\n",
       "39. 'a12'\n",
       "40. 'a13'\n",
       "41. 'a14a'\n",
       "42. 'a14b'\n",
       "43. 'a14c'\n",
       "44. 'a14d'\n",
       "45. 'a14e'\n",
       "46. 'a14f'\n",
       "47. 'a15'\n",
       "48. 'a17'\n",
       "49. 'a18'\n",
       "50. 'a19'\n",
       "51. 'a19a'\n",
       "52. 'a19b'\n",
       "53. 'a20'\n",
       "54. 'a21a'\n",
       "55. 'a21b'\n",
       "56. 'a22'\n",
       "57. 'a24'\n",
       "58. 'a24a'\n",
       "59. 'b1'\n",
       "60. 'b1a'\n",
       "61. 'b21'\n",
       "62. 'b22'\n",
       "63. 'b23'\n",
       "64. 'b24'\n",
       "65. 'b31'\n",
       "66. 'b311'\n",
       "67. 'b312'\n",
       "68. 'b313'\n",
       "69. 'b314'\n",
       "70. 'b315'\n",
       "71. 'b32'\n",
       "72. 'b321'\n",
       "73. 'b322'\n",
       "74. 'b323'\n",
       "75. 'b324'\n",
       "76. 'b325'\n",
       "77. 'b401'\n",
       "78. 'b402'\n",
       "79. 'b403'\n",
       "80. 'b404'\n",
       "81. 'b404a'\n",
       "82. 'b405'\n",
       "83. 'b405a'\n",
       "84. 'b406'\n",
       "85. 'b406a'\n",
       "86. 'b407'\n",
       "87. 'b407a'\n",
       "88. 'b408'\n",
       "89. 'b408a'\n",
       "90. 'b409'\n",
       "91. 'b409a'\n",
       "92. 'b410'\n",
       "93. 'b410a'\n",
       "94. 'b411'\n",
       "95. 'b411a'\n",
       "96. 'b412'\n",
       "97. 'b412a'\n",
       "98. 'b413'\n",
       "99. 'b413a'\n",
       "100. 'b414'\n",
       "101. 'b414a'\n",
       "102. 'b5'\n",
       "103. 'b61'\n",
       "104. 'b62'\n",
       "105. 'b7a'\n",
       "106. 'b7b'\n",
       "107. 'b8'\n",
       "108. 'b9'\n",
       "109. 'b10a'\n",
       "110. 'b10b'\n",
       "111. 'b10c'\n",
       "112. 'b11a'\n",
       "113. 'b11b'\n",
       "114. 'b11b1'\n",
       "115. 'b11c'\n",
       "116. 'b11ca'\n",
       "117. 'b11d'\n",
       "118. 'b11e'\n",
       "119. 'b11f'\n",
       "120. 'b11g'\n",
       "121. 'b11h'\n",
       "122. 'b11j'\n",
       "123. 'b11k'\n",
       "124. 'b12a'\n",
       "125. 'b12b'\n",
       "126. 'b12c'\n",
       "127. 'b12ca'\n",
       "128. 'b12d'\n",
       "129. 'b12e'\n",
       "130. 'b12f'\n",
       "131. 'b12g'\n",
       "132. 'b12h'\n",
       "133. 'b13a'\n",
       "134. 'b13b'\n",
       "135. 'b13c'\n",
       "136. 'b13ca'\n",
       "137. 'b13d'\n",
       "138. 'b13e'\n",
       "139. 'b13f'\n",
       "140. 'b13g'\n",
       "141. 'b13h'\n",
       "142. 'b13i'\n",
       "143. 'c1a01'\n",
       "144. 'c1b01'\n",
       "145. 'c1c01'\n",
       "146. 'c1d01'\n",
       "147. 'c1e01'\n",
       "148. 'c1f01'\n",
       "149. 'c1g01'\n",
       "150. 'c1h01'\n",
       "151. 'c1i01'\n",
       "152. 'c1a02'\n",
       "153. 'c1b02'\n",
       "154. 'c1c02'\n",
       "155. 'c1d02'\n",
       "156. 'c1e02'\n",
       "157. 'c1f02'\n",
       "158. 'c1g02'\n",
       "159. 'c1h02'\n",
       "160. 'c1i02'\n",
       "161. 'c1a03'\n",
       "162. 'c1b03'\n",
       "163. 'c1c03'\n",
       "164. 'c1d03'\n",
       "165. 'c1e03'\n",
       "166. 'c1f03'\n",
       "167. 'c1g03'\n",
       "168. 'c1h03'\n",
       "169. 'c1i03'\n",
       "170. 'c1a04'\n",
       "171. 'c1b04'\n",
       "172. 'c1c04'\n",
       "173. 'c1d04'\n",
       "174. 'c1e04'\n",
       "175. 'c1f04'\n",
       "176. 'c1g04'\n",
       "177. 'c1h04'\n",
       "178. 'c1i04'\n",
       "179. 'c1a05'\n",
       "180. 'c1b05'\n",
       "181. 'c1c05'\n",
       "182. 'c1d05'\n",
       "183. 'c1e05'\n",
       "184. 'c1f05'\n",
       "185. 'c1g05'\n",
       "186. 'c1h05'\n",
       "187. 'c1i05'\n",
       "188. 'c1a06'\n",
       "189. 'c1b06'\n",
       "190. 'c1c06'\n",
       "191. 'c1d06'\n",
       "192. 'c1e06'\n",
       "193. 'c1f06'\n",
       "194. 'c1g06'\n",
       "195. 'c1h06'\n",
       "196. 'c1i06'\n",
       "197. 'c1a07'\n",
       "198. 'c1b07'\n",
       "199. 'c1c07'\n",
       "200. 'c1d07'\n",
       "201. 'c1e07'\n",
       "202. 'c1f07'\n",
       "203. 'c1g07'\n",
       "204. 'c1h07'\n",
       "205. 'c1i07'\n",
       "206. 'c1a08'\n",
       "207. 'c1b08'\n",
       "208. 'c1c08'\n",
       "209. 'c1d08'\n",
       "210. 'c1e08'\n",
       "211. 'c1f08'\n",
       "212. 'c1g08'\n",
       "213. 'c1h08'\n",
       "214. 'c1i08'\n",
       "215. 'c1a09'\n",
       "216. 'c1b09'\n",
       "217. 'c1c09'\n",
       "218. 'c1d09'\n",
       "219. 'c1e09'\n",
       "220. 'c1f09'\n",
       "221. 'c1g09'\n",
       "222. 'c1h09'\n",
       "223. 'c1i09'\n",
       "224. 'c1a10'\n",
       "225. 'c1b10'\n",
       "226. 'c1c10'\n",
       "227. 'c1d10'\n",
       "228. 'c1e10'\n",
       "229. 'c1f10'\n",
       "230. 'c1g10'\n",
       "231. 'c1h10'\n",
       "232. 'c1i10'\n",
       "233. 'c2'\n",
       "234. 'c3'\n",
       "235. 'c4'\n",
       "236. 'c5'\n",
       "237. 'c6'\n",
       "238. 'c6a'\n",
       "239. 'c7'\n",
       "240. 'c10'\n",
       "241. 'c11a'\n",
       "242. 'c11b'\n",
       "243. 'c12'\n",
       "244. 'c14'\n",
       "245. 'c15a01'\n",
       "246. 'c15b01'\n",
       "247. 'c15c01'\n",
       "248. 'c15d01'\n",
       "249. 'c15e01'\n",
       "250. 'c15f01'\n",
       "251. 'c15h101'\n",
       "252. 'c15h201'\n",
       "253. 'c15h301'\n",
       "254. 'c15i101'\n",
       "255. 'c15i201'\n",
       "256. 'c15i301'\n",
       "257. 'c15k101'\n",
       "258. 'c15k201'\n",
       "259. 'c15l101'\n",
       "260. 'c15l201'\n",
       "261. 'c15m101'\n",
       "262. 'c15m201'\n",
       "263. 'c15n101'\n",
       "264. 'c15n201'\n",
       "265. 'c15p01'\n",
       "266. 'c15q01'\n",
       "267. 'c15r01'\n",
       "268. 'c15s01'\n",
       "269. 'c15t01'\n",
       "270. 'c15u01'\n",
       "271. 'c15v01'\n",
       "272. 'c15w01'\n",
       "273. 'c16a011'\n",
       "274. 'c16b011'\n",
       "275. 'c16d011'\n",
       "276. 'c16e011'\n",
       "277. 'c16f011'\n",
       "278. 'c16g011'\n",
       "279. 'c16h011'\n",
       "280. 'c16i011'\n",
       "281. 'c16j011'\n",
       "282. 'c16a012'\n",
       "283. 'c16b012'\n",
       "284. 'c16d012'\n",
       "285. 'c16e012'\n",
       "286. 'c16f012'\n",
       "287. 'c16g012'\n",
       "288. 'c16h012'\n",
       "289. 'c16i012'\n",
       "290. 'c16j012'\n",
       "291. 'c16a013'\n",
       "292. 'c16b013'\n",
       "293. 'c16d013'\n",
       "294. 'c16e013'\n",
       "295. 'c16f013'\n",
       "296. 'c16g013'\n",
       "297. 'c16h013'\n",
       "298. 'c16i013'\n",
       "299. 'c16j013'\n",
       "300. 'c16a014'\n",
       "301. 'c16b014'\n",
       "302. 'c16d014'\n",
       "303. 'c16e014'\n",
       "304. 'c16f014'\n",
       "305. 'c16g014'\n",
       "306. 'c16h014'\n",
       "307. 'c16i014'\n",
       "308. 'c16j014'\n",
       "309. 'c16a015'\n",
       "310. 'c16b015'\n",
       "311. 'c16d015'\n",
       "312. 'c16e015'\n",
       "313. 'c16f015'\n",
       "314. 'c16g015'\n",
       "315. 'c16h015'\n",
       "316. 'c16i015'\n",
       "317. 'c16j015'\n",
       "318. 'c15a02'\n",
       "319. 'c15b02'\n",
       "320. 'c15c02'\n",
       "321. 'c15d02'\n",
       "322. 'c15e02'\n",
       "323. 'c15f02'\n",
       "324. 'c15h102'\n",
       "325. 'c15h202'\n",
       "326. 'c15h302'\n",
       "327. 'c15i102'\n",
       "328. 'c15i202'\n",
       "329. 'c15i302'\n",
       "330. 'c15k102'\n",
       "331. 'c15k202'\n",
       "332. 'c15l102'\n",
       "333. 'c15l202'\n",
       "334. 'c15m102'\n",
       "335. 'c15m202'\n",
       "336. 'c15n102'\n",
       "337. 'c15n202'\n",
       "338. 'c15p02'\n",
       "339. 'c15q02'\n",
       "340. 'c15r02'\n",
       "341. 'c15s02'\n",
       "342. 'c15t02'\n",
       "343. 'c15u02'\n",
       "344. 'c15v02'\n",
       "345. 'c15w02'\n",
       "346. 'c16a021'\n",
       "347. 'c16b021'\n",
       "348. 'c16d021'\n",
       "349. 'c16e021'\n",
       "350. 'c16f021'\n",
       "351. 'c16g021'\n",
       "352. 'c16h021'\n",
       "353. 'c16i021'\n",
       "354. 'c16j021'\n",
       "355. 'c16a022'\n",
       "356. 'c16b022'\n",
       "357. 'c16d022'\n",
       "358. 'c16e022'\n",
       "359. 'c16f022'\n",
       "360. 'c16g022'\n",
       "361. 'c16h022'\n",
       "362. 'c16i022'\n",
       "363. 'c16j022'\n",
       "364. 'c16a023'\n",
       "365. 'c16b023'\n",
       "366. 'c16d023'\n",
       "367. 'c16e023'\n",
       "368. 'c16f023'\n",
       "369. 'c16g023'\n",
       "370. 'c16h023'\n",
       "371. 'c16i023'\n",
       "372. 'c16j023'\n",
       "373. 'c16a024'\n",
       "374. 'c16b024'\n",
       "375. 'c16d024'\n",
       "376. 'c16e024'\n",
       "377. 'c16f024'\n",
       "378. 'c16g024'\n",
       "379. 'c16h024'\n",
       "380. 'c16i024'\n",
       "381. 'c16j024'\n",
       "382. 'c16a025'\n",
       "383. 'c16b025'\n",
       "384. 'c16d025'\n",
       "385. 'c16e025'\n",
       "386. 'c16f025'\n",
       "387. 'c16g025'\n",
       "388. 'c16h025'\n",
       "389. 'c16i025'\n",
       "390. 'c16j025'\n",
       "391. 'c15a03'\n",
       "392. 'c15b03'\n",
       "393. 'c15c03'\n",
       "394. 'c15d03'\n",
       "395. 'c15e03'\n",
       "396. 'c15f03'\n",
       "397. 'c15h103'\n",
       "398. 'c15h203'\n",
       "399. 'c15h303'\n",
       "400. 'c15i103'\n",
       "401. 'c15i203'\n",
       "402. 'c15i303'\n",
       "403. 'c15k103'\n",
       "404. 'c15k203'\n",
       "405. 'c15l103'\n",
       "406. 'c15l203'\n",
       "407. 'c15m103'\n",
       "408. 'c15m203'\n",
       "409. 'c15n103'\n",
       "410. 'c15n203'\n",
       "411. 'c15p03'\n",
       "412. 'c15q03'\n",
       "413. 'c15r03'\n",
       "414. 'c15s03'\n",
       "415. 'c15t03'\n",
       "416. 'c15u03'\n",
       "417. 'c15v03'\n",
       "418. 'c15w03'\n",
       "419. 'c16a031'\n",
       "420. 'c16b031'\n",
       "421. 'c16d031'\n",
       "422. 'c16e031'\n",
       "423. 'c16f031'\n",
       "424. 'c16g031'\n",
       "425. 'c16h031'\n",
       "426. 'c16i031'\n",
       "427. 'c16j031'\n",
       "428. 'c16a032'\n",
       "429. 'c16b032'\n",
       "430. 'c16d032'\n",
       "431. 'c16e032'\n",
       "432. 'c16f032'\n",
       "433. 'c16g032'\n",
       "434. 'c16h032'\n",
       "435. 'c16i032'\n",
       "436. 'c16j032'\n",
       "437. 'c16a033'\n",
       "438. 'c16b033'\n",
       "439. 'c16d033'\n",
       "440. 'c16e033'\n",
       "441. 'c16f033'\n",
       "442. 'c16g033'\n",
       "443. 'c16h033'\n",
       "444. 'c16i033'\n",
       "445. 'c16j033'\n",
       "446. 'c16a034'\n",
       "447. 'c16b034'\n",
       "448. 'c16d034'\n",
       "449. 'c16e034'\n",
       "450. 'c16f034'\n",
       "451. 'c16g034'\n",
       "452. 'c16h034'\n",
       "453. 'c16i034'\n",
       "454. 'c16j034'\n",
       "455. 'c16a035'\n",
       "456. 'c16b035'\n",
       "457. 'c16d035'\n",
       "458. 'c16e035'\n",
       "459. 'c16f035'\n",
       "460. 'c16g035'\n",
       "461. 'c16h035'\n",
       "462. 'c16i035'\n",
       "463. 'c16j035'\n",
       "464. 'c15a04'\n",
       "465. 'c15b04'\n",
       "466. 'c15c04'\n",
       "467. 'c15d04'\n",
       "468. 'c15e04'\n",
       "469. 'c15f04'\n",
       "470. 'c15h104'\n",
       "471. 'c15h204'\n",
       "472. 'c15h304'\n",
       "473. 'c15i104'\n",
       "474. 'c15i204'\n",
       "475. 'c15i304'\n",
       "476. 'c15k104'\n",
       "477. 'c15k204'\n",
       "478. 'c15l104'\n",
       "479. 'c15l204'\n",
       "480. 'c15m104'\n",
       "481. 'c15m204'\n",
       "482. 'c15n104'\n",
       "483. 'c15n204'\n",
       "484. 'c15p04'\n",
       "485. 'c15q04'\n",
       "486. 'c15r04'\n",
       "487. 'c15s04'\n",
       "488. 'c15t04'\n",
       "489. 'c15u04'\n",
       "490. 'c15v04'\n",
       "491. 'c15w04'\n",
       "492. 'c16a041'\n",
       "493. 'c16b041'\n",
       "494. 'c16d041'\n",
       "495. 'c16e041'\n",
       "496. 'c16f041'\n",
       "497. 'c16g041'\n",
       "498. 'c16h041'\n",
       "499. 'c16i041'\n",
       "500. 'c16j041'\n",
       "501. 'c16a042'\n",
       "502. 'c16b042'\n",
       "503. 'c16d042'\n",
       "504. 'c16e042'\n",
       "505. 'c16f042'\n",
       "506. 'c16g042'\n",
       "507. 'c16h042'\n",
       "508. 'c16i042'\n",
       "509. 'c16j042'\n",
       "510. 'c16a043'\n",
       "511. 'c16b043'\n",
       "512. 'c16d043'\n",
       "513. 'c16e043'\n",
       "514. 'c16f043'\n",
       "515. 'c16g043'\n",
       "516. 'c16h043'\n",
       "517. 'c16i043'\n",
       "518. 'c16j043'\n",
       "519. 'c16a044'\n",
       "520. 'c16b044'\n",
       "521. 'c16d044'\n",
       "522. 'c16e044'\n",
       "523. 'c16f044'\n",
       "524. 'c16g044'\n",
       "525. 'c16h044'\n",
       "526. 'c16i044'\n",
       "527. 'c16j044'\n",
       "528. 'c16a045'\n",
       "529. 'c16b045'\n",
       "530. 'c16d045'\n",
       "531. 'c16e045'\n",
       "532. 'c16f045'\n",
       "533. 'c16g045'\n",
       "534. 'c16h045'\n",
       "535. 'c16i045'\n",
       "536. 'c16j045'\n",
       "537. 'c15a05'\n",
       "538. 'c15b05'\n",
       "539. 'c15c05'\n",
       "540. 'c15d05'\n",
       "541. 'c15e05'\n",
       "542. 'c15f05'\n",
       "543. 'c15h105'\n",
       "544. 'c15h205'\n",
       "545. 'c15h305'\n",
       "546. 'c15i105'\n",
       "547. 'c15i205'\n",
       "548. 'c15i305'\n",
       "549. 'c15k105'\n",
       "550. 'c15k205'\n",
       "551. 'c15l105'\n",
       "552. 'c15l205'\n",
       "553. 'c15m105'\n",
       "554. 'c15m205'\n",
       "555. 'c15n105'\n",
       "556. 'c15n205'\n",
       "557. 'c15p05'\n",
       "558. 'c15q05'\n",
       "559. 'c15r05'\n",
       "560. 'c15s05'\n",
       "561. 'c15t05'\n",
       "562. 'c15u05'\n",
       "563. 'c15v05'\n",
       "564. 'c15w05'\n",
       "565. 'c16a051'\n",
       "566. 'c16b051'\n",
       "567. 'c16d051'\n",
       "568. 'c16e051'\n",
       "569. 'c16f051'\n",
       "570. 'c16g051'\n",
       "571. 'c16h051'\n",
       "572. 'c16i051'\n",
       "573. 'c16j051'\n",
       "574. 'c16a052'\n",
       "575. 'c16b052'\n",
       "576. 'c16d052'\n",
       "577. 'c16e052'\n",
       "578. 'c16f052'\n",
       "579. 'c16g052'\n",
       "580. 'c16h052'\n",
       "581. 'c16i052'\n",
       "582. 'c16j052'\n",
       "583. 'c16a053'\n",
       "584. 'c16b053'\n",
       "585. 'c16d053'\n",
       "586. 'c16e053'\n",
       "587. 'c16f053'\n",
       "588. 'c16g053'\n",
       "589. 'c16h053'\n",
       "590. 'c16i053'\n",
       "591. 'c16j053'\n",
       "592. 'c16a054'\n",
       "593. 'c16b054'\n",
       "594. 'c16d054'\n",
       "595. 'c16e054'\n",
       "596. 'c16f054'\n",
       "597. 'c16g054'\n",
       "598. 'c16h054'\n",
       "599. 'c16i054'\n",
       "600. 'c16j054'\n",
       "601. 'c16a055'\n",
       "602. 'c16b055'\n",
       "603. 'c16d055'\n",
       "604. 'c16e055'\n",
       "605. 'c16f055'\n",
       "606. 'c16g055'\n",
       "607. 'c16h055'\n",
       "608. 'c16i055'\n",
       "609. 'c16j055'\n",
       "610. 'c15a06'\n",
       "611. 'c15b06'\n",
       "612. 'c15c06'\n",
       "613. 'c15d06'\n",
       "614. 'c15e06'\n",
       "615. 'c15f06'\n",
       "616. 'c15h106'\n",
       "617. 'c15h206'\n",
       "618. 'c15h306'\n",
       "619. 'c15i106'\n",
       "620. 'c15i206'\n",
       "621. 'c15i306'\n",
       "622. 'c15k106'\n",
       "623. 'c15k206'\n",
       "624. 'c15l106'\n",
       "625. 'c15l206'\n",
       "626. 'c15m106'\n",
       "627. 'c15m206'\n",
       "628. 'c15n106'\n",
       "629. 'c15n206'\n",
       "630. 'c15p06'\n",
       "631. 'c15q06'\n",
       "632. 'c15r06'\n",
       "633. 'c15s06'\n",
       "634. 'c15t06'\n",
       "635. 'c15u06'\n",
       "636. 'c15v06'\n",
       "637. 'c15w06'\n",
       "638. 'c16a061'\n",
       "639. 'c16b061'\n",
       "640. 'c16d061'\n",
       "641. 'c16e061'\n",
       "642. 'c16f061'\n",
       "643. 'c16g061'\n",
       "644. 'c16h061'\n",
       "645. 'c16i061'\n",
       "646. 'c16j061'\n",
       "647. 'c16a062'\n",
       "648. 'c16b062'\n",
       "649. 'c16d062'\n",
       "650. 'c16e062'\n",
       "651. 'c16f062'\n",
       "652. 'c16g062'\n",
       "653. 'c16h062'\n",
       "654. 'c16i062'\n",
       "655. 'c16j062'\n",
       "656. 'c16a063'\n",
       "657. 'c16b063'\n",
       "658. 'c16d063'\n",
       "659. 'c16e063'\n",
       "660. 'c16f063'\n",
       "661. 'c16g063'\n",
       "662. 'c16h063'\n",
       "663. 'c16i063'\n",
       "664. 'c16j063'\n",
       "665. 'c16a064'\n",
       "666. 'c16b064'\n",
       "667. 'c16d064'\n",
       "668. 'c16e064'\n",
       "669. 'c16f064'\n",
       "670. 'c16g064'\n",
       "671. 'c16h064'\n",
       "672. 'c16i064'\n",
       "673. 'c16j064'\n",
       "674. 'c16a065'\n",
       "675. 'c16b065'\n",
       "676. 'c16d065'\n",
       "677. 'c16e065'\n",
       "678. 'c16f065'\n",
       "679. 'c16g065'\n",
       "680. 'c16h065'\n",
       "681. 'c16i065'\n",
       "682. 'c16j065'\n",
       "683. 'c15a07'\n",
       "684. 'c15b07'\n",
       "685. 'c15c07'\n",
       "686. 'c15d07'\n",
       "687. 'c15e07'\n",
       "688. 'c15f07'\n",
       "689. 'c15h107'\n",
       "690. 'c15h207'\n",
       "691. 'c15h307'\n",
       "692. 'c15i107'\n",
       "693. 'c15i207'\n",
       "694. 'c15i307'\n",
       "695. 'c15k107'\n",
       "696. 'c15k207'\n",
       "697. 'c15l107'\n",
       "698. 'c15l207'\n",
       "699. 'c15m107'\n",
       "700. 'c15m207'\n",
       "701. 'c15n107'\n",
       "702. 'c15n207'\n",
       "703. 'c15p07'\n",
       "704. 'c15q07'\n",
       "705. 'c15r07'\n",
       "706. 'c15s07'\n",
       "707. 'c15t07'\n",
       "708. 'c15u07'\n",
       "709. 'c15v07'\n",
       "710. 'c15w07'\n",
       "711. 'c16a071'\n",
       "712. 'c16b071'\n",
       "713. 'c16d071'\n",
       "714. 'c16e071'\n",
       "715. 'c16f071'\n",
       "716. 'c16g071'\n",
       "717. 'c16h071'\n",
       "718. 'c16i071'\n",
       "719. 'c16j071'\n",
       "720. 'c16a072'\n",
       "721. 'c16b072'\n",
       "722. 'c16d072'\n",
       "723. 'c16e072'\n",
       "724. 'c16f072'\n",
       "725. 'c16g072'\n",
       "726. 'c16h072'\n",
       "727. 'c16i072'\n",
       "728. 'c16j072'\n",
       "729. 'c16a073'\n",
       "730. 'c16b073'\n",
       "731. 'c16d073'\n",
       "732. 'c16e073'\n",
       "733. 'c16f073'\n",
       "734. 'c16g073'\n",
       "735. 'c16h073'\n",
       "736. 'c16i073'\n",
       "737. 'c16j073'\n",
       "738. 'c16a074'\n",
       "739. 'c16b074'\n",
       "740. 'c16d074'\n",
       "741. 'c16e074'\n",
       "742. 'c16f074'\n",
       "743. 'c16g074'\n",
       "744. 'c16h074'\n",
       "745. 'c16i074'\n",
       "746. 'c16j074'\n",
       "747. 'c16a075'\n",
       "748. 'c16b075'\n",
       "749. 'c16d075'\n",
       "750. 'c16e075'\n",
       "751. 'c16f075'\n",
       "752. 'c16g075'\n",
       "753. 'c16h075'\n",
       "754. 'c16i075'\n",
       "755. 'c16j075'\n",
       "756. 'c15a08'\n",
       "757. 'c15b08'\n",
       "758. 'c15c08'\n",
       "759. 'c15d08'\n",
       "760. 'c15e08'\n",
       "761. 'c15f08'\n",
       "762. 'c15h108'\n",
       "763. 'c15h208'\n",
       "764. 'c15h308'\n",
       "765. 'c15i108'\n",
       "766. 'c15i208'\n",
       "767. 'c15i308'\n",
       "768. 'c15k108'\n",
       "769. 'c15k208'\n",
       "770. 'c15l108'\n",
       "771. 'c15l208'\n",
       "772. 'c15m108'\n",
       "773. 'c15m208'\n",
       "774. 'c15n108'\n",
       "775. 'c15n208'\n",
       "776. 'c15p08'\n",
       "777. 'c15q08'\n",
       "778. 'c15r08'\n",
       "779. 'c15s08'\n",
       "780. 'c15t08'\n",
       "781. 'c15u08'\n",
       "782. 'c15v08'\n",
       "783. 'c15w08'\n",
       "784. 'c16a081'\n",
       "785. 'c16b081'\n",
       "786. 'c16d081'\n",
       "787. 'c16e081'\n",
       "788. 'c16f081'\n",
       "789. 'c16g081'\n",
       "790. 'c16h081'\n",
       "791. 'c16i081'\n",
       "792. 'c16j081'\n",
       "793. 'c16a082'\n",
       "794. 'c16b082'\n",
       "795. 'c16d082'\n",
       "796. 'c16e082'\n",
       "797. 'c16f082'\n",
       "798. 'c16g082'\n",
       "799. 'c16h082'\n",
       "800. 'c16i082'\n",
       "801. 'c16j082'\n",
       "802. 'c16a083'\n",
       "803. 'c16b083'\n",
       "804. 'c16d083'\n",
       "805. 'c16e083'\n",
       "806. 'c16f083'\n",
       "807. 'c16g083'\n",
       "808. 'c16h083'\n",
       "809. 'c16i083'\n",
       "810. 'c16j083'\n",
       "811. 'c16a084'\n",
       "812. 'c16b084'\n",
       "813. 'c16d084'\n",
       "814. 'c16e084'\n",
       "815. 'c16f084'\n",
       "816. 'c16g084'\n",
       "817. 'c16h084'\n",
       "818. 'c16i084'\n",
       "819. 'c16j084'\n",
       "820. 'c16a085'\n",
       "821. 'c16b085'\n",
       "822. 'c16d085'\n",
       "823. 'c16e085'\n",
       "824. 'c16f085'\n",
       "825. 'c16g085'\n",
       "826. 'c16h085'\n",
       "827. 'c16i085'\n",
       "828. 'c16j085'\n",
       "829. 'c15a09'\n",
       "830. 'c15b09'\n",
       "831. 'c15c09'\n",
       "832. 'c15d09'\n",
       "833. 'c15e09'\n",
       "834. 'c15f09'\n",
       "835. 'c15h109'\n",
       "836. 'c15h209'\n",
       "837. 'c15h309'\n",
       "838. 'c15i109'\n",
       "839. 'c15i209'\n",
       "840. 'c15i309'\n",
       "841. 'c15k109'\n",
       "842. 'c15k209'\n",
       "843. 'c15l109'\n",
       "844. 'c15l209'\n",
       "845. 'c15m109'\n",
       "846. 'c15m209'\n",
       "847. 'c15n109'\n",
       "848. 'c15n209'\n",
       "849. 'c15p09'\n",
       "850. 'c15q09'\n",
       "851. 'c15r09'\n",
       "852. 'c15s09'\n",
       "853. 'c15t09'\n",
       "854. 'c15u09'\n",
       "855. 'c15v09'\n",
       "856. 'c15w09'\n",
       "857. 'c16a091'\n",
       "858. 'c16b091'\n",
       "859. 'c16d091'\n",
       "860. 'c16e091'\n",
       "861. 'c16f091'\n",
       "862. 'c16g091'\n",
       "863. 'c16h091'\n",
       "864. 'c16i091'\n",
       "865. 'c16j091'\n",
       "866. 'c16a092'\n",
       "867. 'c16b092'\n",
       "868. 'c16d092'\n",
       "869. 'c16e092'\n",
       "870. 'c16f092'\n",
       "871. 'c16g092'\n",
       "872. 'c16h092'\n",
       "873. 'c16i092'\n",
       "874. 'c16j092'\n",
       "875. 'c16a093'\n",
       "876. 'c16b093'\n",
       "877. 'c16d093'\n",
       "878. 'c16e093'\n",
       "879. 'c16f093'\n",
       "880. 'c16g093'\n",
       "881. 'c16h093'\n",
       "882. 'c16i093'\n",
       "883. 'c16j093'\n",
       "884. 'c16a094'\n",
       "885. 'c16b094'\n",
       "886. 'c16d094'\n",
       "887. 'c16e094'\n",
       "888. 'c16f094'\n",
       "889. 'c16g094'\n",
       "890. 'c16h094'\n",
       "891. 'c16i094'\n",
       "892. 'c16j094'\n",
       "893. 'c16a095'\n",
       "894. 'c16b095'\n",
       "895. 'c16d095'\n",
       "896. 'c16e095'\n",
       "897. 'c16f095'\n",
       "898. 'c16g095'\n",
       "899. 'c16h095'\n",
       "900. 'c16i095'\n",
       "901. 'c16j095'\n",
       "902. 'c15a10'\n",
       "903. 'c15b10'\n",
       "904. 'c15c10'\n",
       "905. 'c15d10'\n",
       "906. 'c15e10'\n",
       "907. 'c15f10'\n",
       "908. 'c15h110'\n",
       "909. 'c15h210'\n",
       "910. 'c15h310'\n",
       "911. 'c15i110'\n",
       "912. 'c15i210'\n",
       "913. 'c15i310'\n",
       "914. 'c15k110'\n",
       "915. 'c15k210'\n",
       "916. 'c15l110'\n",
       "917. 'c15l210'\n",
       "918. 'c15m110'\n",
       "919. 'c15m210'\n",
       "920. 'c15n110'\n",
       "921. 'c15n210'\n",
       "922. 'c15p10'\n",
       "923. 'c15q10'\n",
       "924. 'c15r10'\n",
       "925. 'c15s10'\n",
       "926. 'c15t10'\n",
       "927. 'c15u10'\n",
       "928. 'c15v10'\n",
       "929. 'c15w10'\n",
       "930. 'c16a101'\n",
       "931. 'c16b101'\n",
       "932. 'c16d101'\n",
       "933. 'c16e101'\n",
       "934. 'c16f101'\n",
       "935. 'c16g101'\n",
       "936. 'c16h101'\n",
       "937. 'c16i101'\n",
       "938. 'c16j101'\n",
       "939. 'c16a102'\n",
       "940. 'c16b102'\n",
       "941. 'c16d102'\n",
       "942. 'c16e102'\n",
       "943. 'c16f102'\n",
       "944. 'c16g102'\n",
       "945. 'c16h102'\n",
       "946. 'c16i102'\n",
       "947. 'c16j102'\n",
       "948. 'c16a103'\n",
       "949. 'c16b103'\n",
       "950. 'c16d103'\n",
       "951. 'c16e103'\n",
       "952. 'c16f103'\n",
       "953. 'c16g103'\n",
       "954. 'c16h103'\n",
       "955. 'c16i103'\n",
       "956. 'c16j103'\n",
       "957. 'c16a104'\n",
       "958. 'c16b104'\n",
       "959. 'c16d104'\n",
       "960. 'c16e104'\n",
       "961. 'c16f104'\n",
       "962. 'c16g104'\n",
       "963. 'c16h104'\n",
       "964. 'c16i104'\n",
       "965. 'c16j104'\n",
       "966. 'c16a105'\n",
       "967. 'c16b105'\n",
       "968. 'c16d105'\n",
       "969. 'c16e105'\n",
       "970. 'c16f105'\n",
       "971. 'c16g105'\n",
       "972. 'c16h105'\n",
       "973. 'c16i105'\n",
       "974. 'c16j105'\n",
       "975. 'c17a01'\n",
       "976. 'c17b01'\n",
       "977. 'c17c01'\n",
       "978. 'c17e01'\n",
       "979. 'c17f01'\n",
       "980. 'c17g01'\n",
       "981. 'c17h01'\n",
       "982. 'c17i01'\n",
       "983. 'c17j01'\n",
       "984. 'c17k01'\n",
       "985. 'c17m01'\n",
       "986. 'c17n01'\n",
       "987. 'c17p01'\n",
       "988. 'c17q01'\n",
       "989. 'c17r01'\n",
       "990. 'c17a02'\n",
       "991. 'c17b02'\n",
       "992. 'c17c02'\n",
       "993. 'c17e02'\n",
       "994. 'c17f02'\n",
       "995. 'c17g02'\n",
       "996. 'c17h02'\n",
       "997. 'c17i02'\n",
       "998. 'c17j02'\n",
       "999. 'c17k02'\n",
       "1000. 'c17m02'\n",
       "1001. 'c17n02'\n",
       "1002. 'c17p02'\n",
       "1003. 'c17q02'\n",
       "1004. 'c17r02'\n",
       "1005. 'c17a03'\n",
       "1006. 'c17b03'\n",
       "1007. 'c17c03'\n",
       "1008. 'c17e03'\n",
       "1009. 'c17f03'\n",
       "1010. 'c17g03'\n",
       "1011. 'c17h03'\n",
       "1012. 'c17i03'\n",
       "1013. 'c17j03'\n",
       "1014. 'c17k03'\n",
       "1015. 'c17m03'\n",
       "1016. 'c17n03'\n",
       "1017. 'c17p03'\n",
       "1018. 'c17q03'\n",
       "1019. 'c17r03'\n",
       "1020. 'c17a04'\n",
       "1021. 'c17b04'\n",
       "1022. 'c17c04'\n",
       "1023. 'c17e04'\n",
       "1024. 'c17f04'\n",
       "1025. 'c17g04'\n",
       "1026. 'c17h04'\n",
       "1027. 'c17i04'\n",
       "1028. 'c17j04'\n",
       "1029. 'c17k04'\n",
       "1030. 'c17m04'\n",
       "1031. 'c17n04'\n",
       "1032. 'c17p04'\n",
       "1033. 'c17q04'\n",
       "1034. 'c17r04'\n",
       "1035. 'c17a05'\n",
       "1036. 'c17b05'\n",
       "1037. 'c17c05'\n",
       "1038. 'c17e05'\n",
       "1039. 'c17f05'\n",
       "1040. 'c17g05'\n",
       "1041. 'c17h05'\n",
       "1042. 'c17i05'\n",
       "1043. 'c17j05'\n",
       "1044. 'c17k05'\n",
       "1045. 'c17m05'\n",
       "1046. 'c17n05'\n",
       "1047. 'c17p05'\n",
       "1048. 'c17q05'\n",
       "1049. 'c17r05'\n",
       "1050. 'c17a06'\n",
       "1051. 'c17b06'\n",
       "1052. 'c17c06'\n",
       "1053. 'c17e06'\n",
       "1054. 'c17f06'\n",
       "1055. 'c17g06'\n",
       "1056. 'c17h06'\n",
       "1057. 'c17i06'\n",
       "1058. 'c17j06'\n",
       "1059. 'c17k06'\n",
       "1060. 'c17m06'\n",
       "1061. 'c17n06'\n",
       "1062. 'c17p06'\n",
       "1063. 'c17q06'\n",
       "1064. 'c17r06'\n",
       "1065. 'c17a07'\n",
       "1066. 'c17b07'\n",
       "1067. 'c17c07'\n",
       "1068. 'c17e07'\n",
       "1069. 'c17f07'\n",
       "1070. 'c17g07'\n",
       "1071. 'c17h07'\n",
       "1072. 'c17i07'\n",
       "1073. 'c17j07'\n",
       "1074. 'c17k07'\n",
       "1075. 'c17m07'\n",
       "1076. 'c17n07'\n",
       "1077. 'c17p07'\n",
       "1078. 'c17q07'\n",
       "1079. 'c17r07'\n",
       "1080. 'c17a08'\n",
       "1081. 'c17b08'\n",
       "1082. 'c17c08'\n",
       "1083. 'c17e08'\n",
       "1084. 'c17f08'\n",
       "1085. 'c17g08'\n",
       "1086. 'c17h08'\n",
       "1087. 'c17i08'\n",
       "1088. 'c17j08'\n",
       "1089. 'c17k08'\n",
       "1090. 'c17m08'\n",
       "1091. 'c17n08'\n",
       "1092. 'c17p08'\n",
       "1093. 'c17q08'\n",
       "1094. 'c17r08'\n",
       "1095. 'c17a09'\n",
       "1096. 'c17b09'\n",
       "1097. 'c17c09'\n",
       "1098. 'c17e09'\n",
       "1099. 'c17f09'\n",
       "1100. 'c17g09'\n",
       "1101. 'c17h09'\n",
       "1102. 'c17i09'\n",
       "1103. 'c17j09'\n",
       "1104. 'c17k09'\n",
       "1105. 'c17m09'\n",
       "1106. 'c17n09'\n",
       "1107. 'c17p09'\n",
       "1108. 'c17q09'\n",
       "1109. 'c17r09'\n",
       "1110. 'c17a10'\n",
       "1111. 'c17b10'\n",
       "1112. 'c17c10'\n",
       "1113. 'c17e10'\n",
       "1114. 'c17f10'\n",
       "1115. 'c17g10'\n",
       "1116. 'c17h10'\n",
       "1117. 'c17i10'\n",
       "1118. 'c17j10'\n",
       "1119. 'c17k10'\n",
       "1120. 'c17m10'\n",
       "1121. 'c17n10'\n",
       "1122. 'c17p10'\n",
       "1123. 'c17q10'\n",
       "1124. 'c17r10'\n",
       "1125. 'c17a11'\n",
       "1126. 'c17b11'\n",
       "1127. 'c17c11'\n",
       "1128. 'c17e11'\n",
       "1129. 'c17f11'\n",
       "1130. 'c17g11'\n",
       "1131. 'c17h11'\n",
       "1132. 'c17i11'\n",
       "1133. 'c17j11'\n",
       "1134. 'c17k11'\n",
       "1135. 'c17m11'\n",
       "1136. 'c17n11'\n",
       "1137. 'c17p11'\n",
       "1138. 'c17q11'\n",
       "1139. 'c17r11'\n",
       "1140. 'c17a12'\n",
       "1141. 'c17b12'\n",
       "1142. 'c17c12'\n",
       "1143. 'c17e12'\n",
       "1144. 'c17f12'\n",
       "1145. 'c17g12'\n",
       "1146. 'c17h12'\n",
       "1147. 'c17i12'\n",
       "1148. 'c17j12'\n",
       "1149. 'c17k12'\n",
       "1150. 'c17m12'\n",
       "1151. 'c17n12'\n",
       "1152. 'c17p12'\n",
       "1153. 'c17q12'\n",
       "1154. 'c17r12'\n",
       "1155. 'c17a13'\n",
       "1156. 'c17b13'\n",
       "1157. 'c17c13'\n",
       "1158. 'c17e13'\n",
       "1159. 'c17f13'\n",
       "1160. 'c17g13'\n",
       "1161. 'c17h13'\n",
       "1162. 'c17i13'\n",
       "1163. 'c17j13'\n",
       "1164. 'c17k13'\n",
       "1165. 'c17m13'\n",
       "1166. 'c17n13'\n",
       "1167. 'c17p13'\n",
       "1168. 'c17q13'\n",
       "1169. 'c17r13'\n",
       "1170. 'c17a14'\n",
       "1171. 'c17b14'\n",
       "1172. 'c17c14'\n",
       "1173. 'c17e14'\n",
       "1174. 'c17f14'\n",
       "1175. 'c17g14'\n",
       "1176. 'c17h14'\n",
       "1177. 'c17i14'\n",
       "1178. 'c17j14'\n",
       "1179. 'c17k14'\n",
       "1180. 'c17m14'\n",
       "1181. 'c17n14'\n",
       "1182. 'c17p14'\n",
       "1183. 'c17q14'\n",
       "1184. 'c17r14'\n",
       "1185. 'c17a15'\n",
       "1186. 'c17b15'\n",
       "1187. 'c17c15'\n",
       "1188. 'c17e15'\n",
       "1189. 'c17f15'\n",
       "1190. 'c17g15'\n",
       "1191. 'c17h15'\n",
       "1192. 'c17i15'\n",
       "1193. 'c17j15'\n",
       "1194. 'c17k15'\n",
       "1195. 'c17m15'\n",
       "1196. 'c17n15'\n",
       "1197. 'c17p15'\n",
       "1198. 'c17q15'\n",
       "1199. 'c17r15'\n",
       "1200. 'c17a16'\n",
       "1201. 'c17b16'\n",
       "1202. 'c17c16'\n",
       "1203. 'c17e16'\n",
       "1204. 'c17f16'\n",
       "1205. 'c17g16'\n",
       "1206. 'c17h16'\n",
       "1207. 'c17i16'\n",
       "1208. 'c17j16'\n",
       "1209. 'c17k16'\n",
       "1210. 'c17m16'\n",
       "1211. 'c17n16'\n",
       "1212. 'c17p16'\n",
       "1213. 'c17q16'\n",
       "1214. 'c17r16'\n",
       "1215. 'c17a17'\n",
       "1216. 'c17b17'\n",
       "1217. 'c17c17'\n",
       "1218. 'c17e17'\n",
       "1219. 'c17f17'\n",
       "1220. 'c17g17'\n",
       "1221. 'c17h17'\n",
       "1222. 'c17i17'\n",
       "1223. 'c17j17'\n",
       "1224. 'c17k17'\n",
       "1225. 'c17m17'\n",
       "1226. 'c17n17'\n",
       "1227. 'c17p17'\n",
       "1228. 'c17q17'\n",
       "1229. 'c17r17'\n",
       "1230. 'c17a18'\n",
       "1231. 'c17b18'\n",
       "1232. 'c17c18'\n",
       "1233. 'c17e18'\n",
       "1234. 'c17f18'\n",
       "1235. 'c17g18'\n",
       "1236. 'c17h18'\n",
       "1237. 'c17i18'\n",
       "1238. 'c17j18'\n",
       "1239. 'c17k18'\n",
       "1240. 'c17m18'\n",
       "1241. 'c17n18'\n",
       "1242. 'c17p18'\n",
       "1243. 'c17q18'\n",
       "1244. 'c17r18'\n",
       "1245. 'c17a19'\n",
       "1246. 'c17b19'\n",
       "1247. 'c17c19'\n",
       "1248. 'c17e19'\n",
       "1249. 'c17f19'\n",
       "1250. 'c17g19'\n",
       "1251. 'c17h19'\n",
       "1252. 'c17i19'\n",
       "1253. 'c17j19'\n",
       "1254. 'c17k19'\n",
       "1255. 'c17m19'\n",
       "1256. 'c17n19'\n",
       "1257. 'c17p19'\n",
       "1258. 'c17q19'\n",
       "1259. 'c17r19'\n",
       "1260. 'c17a20'\n",
       "1261. 'c17b20'\n",
       "1262. 'c17c20'\n",
       "1263. 'c17e20'\n",
       "1264. 'c17f20'\n",
       "1265. 'c17g20'\n",
       "1266. 'c17h20'\n",
       "1267. 'c17i20'\n",
       "1268. 'c17j20'\n",
       "1269. 'c17k20'\n",
       "1270. 'c17m20'\n",
       "1271. 'c17n20'\n",
       "1272. 'c17p20'\n",
       "1273. 'c17q20'\n",
       "1274. 'c17r20'\n",
       "1275. 'd101'\n",
       "1276. 'd102'\n",
       "1277. 'd103'\n",
       "1278. 'd104'\n",
       "1279. 'd105'\n",
       "1280. 'd106'\n",
       "1281. 'd107'\n",
       "1282. 'd108'\n",
       "1283. 'd109'\n",
       "1284. 'd110'\n",
       "1285. 'd2a'\n",
       "1286. 'd2b'\n",
       "1287. 'd2c'\n",
       "1288. 'd3'\n",
       "1289. 'd401'\n",
       "1290. 'd402'\n",
       "1291. 'd403'\n",
       "1292. 'd404'\n",
       "1293. 'd405'\n",
       "1294. 'd406'\n",
       "1295. 'd407'\n",
       "1296. 'd408'\n",
       "1297. 'd409'\n",
       "1298. 'd410'\n",
       "1299. 'e11'\n",
       "1300. 'e12'\n",
       "1301. 'e13'\n",
       "1302. 'e2a01'\n",
       "1303. 'e2aa01'\n",
       "1304. 'e2a02'\n",
       "1305. 'e2aa02'\n",
       "1306. 'e2a03'\n",
       "1307. 'e2aa03'\n",
       "1308. 'e2a04'\n",
       "1309. 'e2aa04'\n",
       "1310. 'e2a05'\n",
       "1311. 'e2aa05'\n",
       "1312. 'e2a06'\n",
       "1313. 'e2aa06'\n",
       "1314. 'e2a07'\n",
       "1315. 'e2aa07'\n",
       "1316. 'e2a08'\n",
       "1317. 'e2aa08'\n",
       "1318. 'e2a09'\n",
       "1319. 'e2aa09'\n",
       "1320. 'e2a10'\n",
       "1321. 'e2aa10'\n",
       "1322. 'e2a11'\n",
       "1323. 'e2aa11'\n",
       "1324. 'e2a12'\n",
       "1325. 'e2aa12'\n",
       "1326. 'e2a13'\n",
       "1327. 'e2aa13'\n",
       "1328. 'e2a14'\n",
       "1329. 'e2aa14'\n",
       "1330. 'e2a15'\n",
       "1331. 'e2aa15'\n",
       "1332. 'e2a16'\n",
       "1333. 'e2aa16'\n",
       "1334. 'e2a17'\n",
       "1335. 'e2aa17'\n",
       "1336. 'e2a18'\n",
       "1337. 'e2aa18'\n",
       "1338. 'e2b1'\n",
       "1339. 'e2bb1'\n",
       "1340. 'e2b2'\n",
       "1341. 'e2bb2'\n",
       "1342. 'e2b3'\n",
       "1343. 'e2bb3'\n",
       "1344. 'e2b4'\n",
       "1345. 'e2bb4'\n",
       "1346. 'e2b5'\n",
       "1347. 'e2bb5'\n",
       "1348. 'e2b6'\n",
       "1349. 'e2bb6'\n",
       "1350. 'e2b7'\n",
       "1351. 'e2bb7'\n",
       "1352. 'e2b8'\n",
       "1353. 'e2bb8'\n",
       "1354. 'e3a'\n",
       "1355. 'e3b'\n",
       "1356. 'e3c'\n",
       "1357. 'e3d'\n",
       "1358. 'e3e'\n",
       "1359. 'e3f'\n",
       "1360. 'e4a1'\n",
       "1361. 'e4a2'\n",
       "1362. 'e4a3'\n",
       "1363. 'e4a4'\n",
       "1364. 'e4a5'\n",
       "1365. 'e4a6'\n",
       "1366. 'e4a7'\n",
       "1367. 'e4a8'\n",
       "1368. 'e4b'\n",
       "1369. 'e5a'\n",
       "1370. 'e5b'\n",
       "1371. 'e5ba'\n",
       "1372. 'e5bb'\n",
       "1373. 'e5c'\n",
       "1374. 'e5d'\n",
       "1375. 'e5e'\n",
       "1376. 'e5f'\n",
       "1377. 'e6a'\n",
       "1378. 'e6b'\n",
       "1379. 'e6c01'\n",
       "1380. 'e6c02'\n",
       "1381. 'e6c03'\n",
       "1382. 'e6c04'\n",
       "1383. 'e6c05'\n",
       "1384. 'e6c06'\n",
       "1385. 'e6c07'\n",
       "1386. 'e6c08'\n",
       "1387. 'e6c09'\n",
       "1388. 'e6c10'\n",
       "1389. 'e6d'\n",
       "1390. 'e6e'\n",
       "1391. 'e6f'\n",
       "1392. 'e7a'\n",
       "1393. 'e7b'\n",
       "1394. 'e8'\n",
       "1395. 'e9'\n",
       "1396. 'e10a'\n",
       "1397. 'e10b'\n",
       "1398. 'e10c'\n",
       "1399. 'e10d'\n",
       "1400. 'e10e'\n",
       "1401. 'e10f'\n",
       "1402. 'e11a'\n",
       "1403. 'e11b1'\n",
       "1404. 'e11b2'\n",
       "1405. 'e11b3'\n",
       "1406. 'e11b4'\n",
       "1407. 'e11b5'\n",
       "1408. 'e11b6'\n",
       "1409. 'e11b7'\n",
       "1410. 'e12a'\n",
       "1411. 'e12b'\n",
       "1412. 'e12c'\n",
       "1413. 'e12d'\n",
       "1414. 'e12e'\n",
       "1415. 'e12f'\n",
       "1416. 'e12g'\n",
       "1417. 'e12h'\n",
       "1418. 'e12i'\n",
       "1419. 'e12j'\n",
       "1420. 'e13a'\n",
       "1421. 'e13b'\n",
       "1422. 'e13c'\n",
       "1423. 'e13d'\n",
       "1424. 'e13e'\n",
       "1425. 'e13f'\n",
       "1426. 'e13h'\n",
       "1427. 'e13i'\n",
       "1428. 'e13j'\n",
       "1429. 'b11icodeisco'\n",
       "1430. 'b12icodeisco'\n",
       "1431. 'b13jcodeisco'\n",
       "1432. 'c8codeisco'\n",
       "1433. 'c16c011codeisco'\n",
       "1434. 'c16c012codeisco'\n",
       "1435. 'c16c013codeisco'\n",
       "1436. 'c16c014codeisco'\n",
       "1437. 'c16c015codeisco'\n",
       "1438. 'c16c021codeisco'\n",
       "1439. 'c16c022codeisco'\n",
       "1440. 'c16c023codeisco'\n",
       "1441. 'c16c024codeisco'\n",
       "1442. 'c16c025codeisco'\n",
       "1443. 'c16c031codeisco'\n",
       "1444. 'c16c032codeisco'\n",
       "1445. 'c16c033codeisco'\n",
       "1446. 'c16c034codeisco'\n",
       "1447. 'c16c035codeisco'\n",
       "1448. 'c16c041codeisco'\n",
       "1449. 'c16c042codeisco'\n",
       "1450. 'c16c043codeisco'\n",
       "1451. 'c16c044codeisco'\n",
       "1452. 'c16c045codeisco'\n",
       "1453. 'c16c051codeisco'\n",
       "1454. 'c16c052codeisco'\n",
       "1455. 'c16c053codeisco'\n",
       "1456. 'c16c054codeisco'\n",
       "1457. 'c16c055codeisco'\n",
       "1458. 'c16c061codeisco'\n",
       "1459. 'c16c062codeisco'\n",
       "1460. 'c16c063codeisco'\n",
       "1461. 'c16c064codeisco'\n",
       "1462. 'c16c065codeisco'\n",
       "1463. 'c16c071codeisco'\n",
       "1464. 'c16c072codeisco'\n",
       "1465. 'c16c073codeisco'\n",
       "1466. 'c16c074codeisco'\n",
       "1467. 'c16c075codeisco'\n",
       "1468. 'c16c081codeisco'\n",
       "1469. 'c16c082codeisco'\n",
       "1470. 'c16c083codeisco'\n",
       "1471. 'c16c084codeisco'\n",
       "1472. 'c16c085codeisco'\n",
       "1473. 'c16c091codeisco'\n",
       "1474. 'c16c092codeisco'\n",
       "1475. 'c16c093codeisco'\n",
       "1476. 'c16c094codeisco'\n",
       "1477. 'c16c095codeisco'\n",
       "1478. 'c16c101codeisco'\n",
       "1479. 'c16c102codeisco'\n",
       "1480. 'c16c103codeisco'\n",
       "1481. 'c16c104codeisco'\n",
       "1482. 'c16c105codeisco'\n",
       "1483. 'c17d01codeisco'\n",
       "1484. 'c17d02codeisco'\n",
       "1485. 'c17d03codeisco'\n",
       "1486. 'c17d04codeisco'\n",
       "1487. 'c17d05codeisco'\n",
       "1488. 'c17d06codeisco'\n",
       "1489. 'c17d07codeisco'\n",
       "1490. 'c17d08codeisco'\n",
       "1491. 'c17d09codeisco'\n",
       "1492. 'c17d10codeisco'\n",
       "1493. 'c17d11codeisco'\n",
       "1494. 'c17d12codeisco'\n",
       "1495. 'c17d13codeisco'\n",
       "1496. 'c17d14codeisco'\n",
       "1497. 'c17d15codeisco'\n",
       "1498. 'c17d16codeisco'\n",
       "1499. 'c17d17codeisco'\n",
       "1500. 'c17d18codeisco'\n",
       "1501. 'c17d19codeisco'\n",
       "1502. 'c17d20codeisco'\n",
       "1503. 'weight'\n",
       "\n",
       "\n"
      ],
      "text/plain": [
       "   [1] \"serial\"          \"province\"        \"countyid\"        \"community\"      \n",
       "   [5] \"v3\"              \"v41\"             \"v42\"             \"a1\"             \n",
       "   [9] \"a2\"              \"a3a\"             \"a3b\"             \"a3c\"            \n",
       "  [13] \"a4\"              \"a4a1\"            \"a4a2\"            \"a4a3\"           \n",
       "  [17] \"a4a4\"            \"a4a5\"            \"a4a6\"            \"a4a7\"           \n",
       "  [21] \"a4a8\"            \"a5\"              \"a5a1\"            \"a5a2\"           \n",
       "  [25] \"a5a3\"            \"a5a4\"            \"a5a5\"            \"a5a6\"           \n",
       "  [29] \"a5a7\"            \"a5a8\"            \"a6\"              \"a7\"             \n",
       "  [33] \"a8\"              \"a9\"              \"a9a\"             \"a10\"            \n",
       "  [37] \"a10a\"            \"a11\"             \"a12\"             \"a13\"            \n",
       "  [41] \"a14a\"            \"a14b\"            \"a14c\"            \"a14d\"           \n",
       "  [45] \"a14e\"            \"a14f\"            \"a15\"             \"a17\"            \n",
       "  [49] \"a18\"             \"a19\"             \"a19a\"            \"a19b\"           \n",
       "  [53] \"a20\"             \"a21a\"            \"a21b\"            \"a22\"            \n",
       "  [57] \"a24\"             \"a24a\"            \"b1\"              \"b1a\"            \n",
       "  [61] \"b21\"             \"b22\"             \"b23\"             \"b24\"            \n",
       "  [65] \"b31\"             \"b311\"            \"b312\"            \"b313\"           \n",
       "  [69] \"b314\"            \"b315\"            \"b32\"             \"b321\"           \n",
       "  [73] \"b322\"            \"b323\"            \"b324\"            \"b325\"           \n",
       "  [77] \"b401\"            \"b402\"            \"b403\"            \"b404\"           \n",
       "  [81] \"b404a\"           \"b405\"            \"b405a\"           \"b406\"           \n",
       "  [85] \"b406a\"           \"b407\"            \"b407a\"           \"b408\"           \n",
       "  [89] \"b408a\"           \"b409\"            \"b409a\"           \"b410\"           \n",
       "  [93] \"b410a\"           \"b411\"            \"b411a\"           \"b412\"           \n",
       "  [97] \"b412a\"           \"b413\"            \"b413a\"           \"b414\"           \n",
       " [101] \"b414a\"           \"b5\"              \"b61\"             \"b62\"            \n",
       " [105] \"b7a\"             \"b7b\"             \"b8\"              \"b9\"             \n",
       " [109] \"b10a\"            \"b10b\"            \"b10c\"            \"b11a\"           \n",
       " [113] \"b11b\"            \"b11b1\"           \"b11c\"            \"b11ca\"          \n",
       " [117] \"b11d\"            \"b11e\"            \"b11f\"            \"b11g\"           \n",
       " [121] \"b11h\"            \"b11j\"            \"b11k\"            \"b12a\"           \n",
       " [125] \"b12b\"            \"b12c\"            \"b12ca\"           \"b12d\"           \n",
       " [129] \"b12e\"            \"b12f\"            \"b12g\"            \"b12h\"           \n",
       " [133] \"b13a\"            \"b13b\"            \"b13c\"            \"b13ca\"          \n",
       " [137] \"b13d\"            \"b13e\"            \"b13f\"            \"b13g\"           \n",
       " [141] \"b13h\"            \"b13i\"            \"c1a01\"           \"c1b01\"          \n",
       " [145] \"c1c01\"           \"c1d01\"           \"c1e01\"           \"c1f01\"          \n",
       " [149] \"c1g01\"           \"c1h01\"           \"c1i01\"           \"c1a02\"          \n",
       " [153] \"c1b02\"           \"c1c02\"           \"c1d02\"           \"c1e02\"          \n",
       " [157] \"c1f02\"           \"c1g02\"           \"c1h02\"           \"c1i02\"          \n",
       " [161] \"c1a03\"           \"c1b03\"           \"c1c03\"           \"c1d03\"          \n",
       " [165] \"c1e03\"           \"c1f03\"           \"c1g03\"           \"c1h03\"          \n",
       " [169] \"c1i03\"           \"c1a04\"           \"c1b04\"           \"c1c04\"          \n",
       " [173] \"c1d04\"           \"c1e04\"           \"c1f04\"           \"c1g04\"          \n",
       " [177] \"c1h04\"           \"c1i04\"           \"c1a05\"           \"c1b05\"          \n",
       " [181] \"c1c05\"           \"c1d05\"           \"c1e05\"           \"c1f05\"          \n",
       " [185] \"c1g05\"           \"c1h05\"           \"c1i05\"           \"c1a06\"          \n",
       " [189] \"c1b06\"           \"c1c06\"           \"c1d06\"           \"c1e06\"          \n",
       " [193] \"c1f06\"           \"c1g06\"           \"c1h06\"           \"c1i06\"          \n",
       " [197] \"c1a07\"           \"c1b07\"           \"c1c07\"           \"c1d07\"          \n",
       " [201] \"c1e07\"           \"c1f07\"           \"c1g07\"           \"c1h07\"          \n",
       " [205] \"c1i07\"           \"c1a08\"           \"c1b08\"           \"c1c08\"          \n",
       " [209] \"c1d08\"           \"c1e08\"           \"c1f08\"           \"c1g08\"          \n",
       " [213] \"c1h08\"           \"c1i08\"           \"c1a09\"           \"c1b09\"          \n",
       " [217] \"c1c09\"           \"c1d09\"           \"c1e09\"           \"c1f09\"          \n",
       " [221] \"c1g09\"           \"c1h09\"           \"c1i09\"           \"c1a10\"          \n",
       " [225] \"c1b10\"           \"c1c10\"           \"c1d10\"           \"c1e10\"          \n",
       " [229] \"c1f10\"           \"c1g10\"           \"c1h10\"           \"c1i10\"          \n",
       " [233] \"c2\"              \"c3\"              \"c4\"              \"c5\"             \n",
       " [237] \"c6\"              \"c6a\"             \"c7\"              \"c10\"            \n",
       " [241] \"c11a\"            \"c11b\"            \"c12\"             \"c14\"            \n",
       " [245] \"c15a01\"          \"c15b01\"          \"c15c01\"          \"c15d01\"         \n",
       " [249] \"c15e01\"          \"c15f01\"          \"c15h101\"         \"c15h201\"        \n",
       " [253] \"c15h301\"         \"c15i101\"         \"c15i201\"         \"c15i301\"        \n",
       " [257] \"c15k101\"         \"c15k201\"         \"c15l101\"         \"c15l201\"        \n",
       " [261] \"c15m101\"         \"c15m201\"         \"c15n101\"         \"c15n201\"        \n",
       " [265] \"c15p01\"          \"c15q01\"          \"c15r01\"          \"c15s01\"         \n",
       " [269] \"c15t01\"          \"c15u01\"          \"c15v01\"          \"c15w01\"         \n",
       " [273] \"c16a011\"         \"c16b011\"         \"c16d011\"         \"c16e011\"        \n",
       " [277] \"c16f011\"         \"c16g011\"         \"c16h011\"         \"c16i011\"        \n",
       " [281] \"c16j011\"         \"c16a012\"         \"c16b012\"         \"c16d012\"        \n",
       " [285] \"c16e012\"         \"c16f012\"         \"c16g012\"         \"c16h012\"        \n",
       " [289] \"c16i012\"         \"c16j012\"         \"c16a013\"         \"c16b013\"        \n",
       " [293] \"c16d013\"         \"c16e013\"         \"c16f013\"         \"c16g013\"        \n",
       " [297] \"c16h013\"         \"c16i013\"         \"c16j013\"         \"c16a014\"        \n",
       " [301] \"c16b014\"         \"c16d014\"         \"c16e014\"         \"c16f014\"        \n",
       " [305] \"c16g014\"         \"c16h014\"         \"c16i014\"         \"c16j014\"        \n",
       " [309] \"c16a015\"         \"c16b015\"         \"c16d015\"         \"c16e015\"        \n",
       " [313] \"c16f015\"         \"c16g015\"         \"c16h015\"         \"c16i015\"        \n",
       " [317] \"c16j015\"         \"c15a02\"          \"c15b02\"          \"c15c02\"         \n",
       " [321] \"c15d02\"          \"c15e02\"          \"c15f02\"          \"c15h102\"        \n",
       " [325] \"c15h202\"         \"c15h302\"         \"c15i102\"         \"c15i202\"        \n",
       " [329] \"c15i302\"         \"c15k102\"         \"c15k202\"         \"c15l102\"        \n",
       " [333] \"c15l202\"         \"c15m102\"         \"c15m202\"         \"c15n102\"        \n",
       " [337] \"c15n202\"         \"c15p02\"          \"c15q02\"          \"c15r02\"         \n",
       " [341] \"c15s02\"          \"c15t02\"          \"c15u02\"          \"c15v02\"         \n",
       " [345] \"c15w02\"          \"c16a021\"         \"c16b021\"         \"c16d021\"        \n",
       " [349] \"c16e021\"         \"c16f021\"         \"c16g021\"         \"c16h021\"        \n",
       " [353] \"c16i021\"         \"c16j021\"         \"c16a022\"         \"c16b022\"        \n",
       " [357] \"c16d022\"         \"c16e022\"         \"c16f022\"         \"c16g022\"        \n",
       " [361] \"c16h022\"         \"c16i022\"         \"c16j022\"         \"c16a023\"        \n",
       " [365] \"c16b023\"         \"c16d023\"         \"c16e023\"         \"c16f023\"        \n",
       " [369] \"c16g023\"         \"c16h023\"         \"c16i023\"         \"c16j023\"        \n",
       " [373] \"c16a024\"         \"c16b024\"         \"c16d024\"         \"c16e024\"        \n",
       " [377] \"c16f024\"         \"c16g024\"         \"c16h024\"         \"c16i024\"        \n",
       " [381] \"c16j024\"         \"c16a025\"         \"c16b025\"         \"c16d025\"        \n",
       " [385] \"c16e025\"         \"c16f025\"         \"c16g025\"         \"c16h025\"        \n",
       " [389] \"c16i025\"         \"c16j025\"         \"c15a03\"          \"c15b03\"         \n",
       " [393] \"c15c03\"          \"c15d03\"          \"c15e03\"          \"c15f03\"         \n",
       " [397] \"c15h103\"         \"c15h203\"         \"c15h303\"         \"c15i103\"        \n",
       " [401] \"c15i203\"         \"c15i303\"         \"c15k103\"         \"c15k203\"        \n",
       " [405] \"c15l103\"         \"c15l203\"         \"c15m103\"         \"c15m203\"        \n",
       " [409] \"c15n103\"         \"c15n203\"         \"c15p03\"          \"c15q03\"         \n",
       " [413] \"c15r03\"          \"c15s03\"          \"c15t03\"          \"c15u03\"         \n",
       " [417] \"c15v03\"          \"c15w03\"          \"c16a031\"         \"c16b031\"        \n",
       " [421] \"c16d031\"         \"c16e031\"         \"c16f031\"         \"c16g031\"        \n",
       " [425] \"c16h031\"         \"c16i031\"         \"c16j031\"         \"c16a032\"        \n",
       " [429] \"c16b032\"         \"c16d032\"         \"c16e032\"         \"c16f032\"        \n",
       " [433] \"c16g032\"         \"c16h032\"         \"c16i032\"         \"c16j032\"        \n",
       " [437] \"c16a033\"         \"c16b033\"         \"c16d033\"         \"c16e033\"        \n",
       " [441] \"c16f033\"         \"c16g033\"         \"c16h033\"         \"c16i033\"        \n",
       " [445] \"c16j033\"         \"c16a034\"         \"c16b034\"         \"c16d034\"        \n",
       " [449] \"c16e034\"         \"c16f034\"         \"c16g034\"         \"c16h034\"        \n",
       " [453] \"c16i034\"         \"c16j034\"         \"c16a035\"         \"c16b035\"        \n",
       " [457] \"c16d035\"         \"c16e035\"         \"c16f035\"         \"c16g035\"        \n",
       " [461] \"c16h035\"         \"c16i035\"         \"c16j035\"         \"c15a04\"         \n",
       " [465] \"c15b04\"          \"c15c04\"          \"c15d04\"          \"c15e04\"         \n",
       " [469] \"c15f04\"          \"c15h104\"         \"c15h204\"         \"c15h304\"        \n",
       " [473] \"c15i104\"         \"c15i204\"         \"c15i304\"         \"c15k104\"        \n",
       " [477] \"c15k204\"         \"c15l104\"         \"c15l204\"         \"c15m104\"        \n",
       " [481] \"c15m204\"         \"c15n104\"         \"c15n204\"         \"c15p04\"         \n",
       " [485] \"c15q04\"          \"c15r04\"          \"c15s04\"          \"c15t04\"         \n",
       " [489] \"c15u04\"          \"c15v04\"          \"c15w04\"          \"c16a041\"        \n",
       " [493] \"c16b041\"         \"c16d041\"         \"c16e041\"         \"c16f041\"        \n",
       " [497] \"c16g041\"         \"c16h041\"         \"c16i041\"         \"c16j041\"        \n",
       " [501] \"c16a042\"         \"c16b042\"         \"c16d042\"         \"c16e042\"        \n",
       " [505] \"c16f042\"         \"c16g042\"         \"c16h042\"         \"c16i042\"        \n",
       " [509] \"c16j042\"         \"c16a043\"         \"c16b043\"         \"c16d043\"        \n",
       " [513] \"c16e043\"         \"c16f043\"         \"c16g043\"         \"c16h043\"        \n",
       " [517] \"c16i043\"         \"c16j043\"         \"c16a044\"         \"c16b044\"        \n",
       " [521] \"c16d044\"         \"c16e044\"         \"c16f044\"         \"c16g044\"        \n",
       " [525] \"c16h044\"         \"c16i044\"         \"c16j044\"         \"c16a045\"        \n",
       " [529] \"c16b045\"         \"c16d045\"         \"c16e045\"         \"c16f045\"        \n",
       " [533] \"c16g045\"         \"c16h045\"         \"c16i045\"         \"c16j045\"        \n",
       " [537] \"c15a05\"          \"c15b05\"          \"c15c05\"          \"c15d05\"         \n",
       " [541] \"c15e05\"          \"c15f05\"          \"c15h105\"         \"c15h205\"        \n",
       " [545] \"c15h305\"         \"c15i105\"         \"c15i205\"         \"c15i305\"        \n",
       " [549] \"c15k105\"         \"c15k205\"         \"c15l105\"         \"c15l205\"        \n",
       " [553] \"c15m105\"         \"c15m205\"         \"c15n105\"         \"c15n205\"        \n",
       " [557] \"c15p05\"          \"c15q05\"          \"c15r05\"          \"c15s05\"         \n",
       " [561] \"c15t05\"          \"c15u05\"          \"c15v05\"          \"c15w05\"         \n",
       " [565] \"c16a051\"         \"c16b051\"         \"c16d051\"         \"c16e051\"        \n",
       " [569] \"c16f051\"         \"c16g051\"         \"c16h051\"         \"c16i051\"        \n",
       " [573] \"c16j051\"         \"c16a052\"         \"c16b052\"         \"c16d052\"        \n",
       " [577] \"c16e052\"         \"c16f052\"         \"c16g052\"         \"c16h052\"        \n",
       " [581] \"c16i052\"         \"c16j052\"         \"c16a053\"         \"c16b053\"        \n",
       " [585] \"c16d053\"         \"c16e053\"         \"c16f053\"         \"c16g053\"        \n",
       " [589] \"c16h053\"         \"c16i053\"         \"c16j053\"         \"c16a054\"        \n",
       " [593] \"c16b054\"         \"c16d054\"         \"c16e054\"         \"c16f054\"        \n",
       " [597] \"c16g054\"         \"c16h054\"         \"c16i054\"         \"c16j054\"        \n",
       " [601] \"c16a055\"         \"c16b055\"         \"c16d055\"         \"c16e055\"        \n",
       " [605] \"c16f055\"         \"c16g055\"         \"c16h055\"         \"c16i055\"        \n",
       " [609] \"c16j055\"         \"c15a06\"          \"c15b06\"          \"c15c06\"         \n",
       " [613] \"c15d06\"          \"c15e06\"          \"c15f06\"          \"c15h106\"        \n",
       " [617] \"c15h206\"         \"c15h306\"         \"c15i106\"         \"c15i206\"        \n",
       " [621] \"c15i306\"         \"c15k106\"         \"c15k206\"         \"c15l106\"        \n",
       " [625] \"c15l206\"         \"c15m106\"         \"c15m206\"         \"c15n106\"        \n",
       " [629] \"c15n206\"         \"c15p06\"          \"c15q06\"          \"c15r06\"         \n",
       " [633] \"c15s06\"          \"c15t06\"          \"c15u06\"          \"c15v06\"         \n",
       " [637] \"c15w06\"          \"c16a061\"         \"c16b061\"         \"c16d061\"        \n",
       " [641] \"c16e061\"         \"c16f061\"         \"c16g061\"         \"c16h061\"        \n",
       " [645] \"c16i061\"         \"c16j061\"         \"c16a062\"         \"c16b062\"        \n",
       " [649] \"c16d062\"         \"c16e062\"         \"c16f062\"         \"c16g062\"        \n",
       " [653] \"c16h062\"         \"c16i062\"         \"c16j062\"         \"c16a063\"        \n",
       " [657] \"c16b063\"         \"c16d063\"         \"c16e063\"         \"c16f063\"        \n",
       " [661] \"c16g063\"         \"c16h063\"         \"c16i063\"         \"c16j063\"        \n",
       " [665] \"c16a064\"         \"c16b064\"         \"c16d064\"         \"c16e064\"        \n",
       " [669] \"c16f064\"         \"c16g064\"         \"c16h064\"         \"c16i064\"        \n",
       " [673] \"c16j064\"         \"c16a065\"         \"c16b065\"         \"c16d065\"        \n",
       " [677] \"c16e065\"         \"c16f065\"         \"c16g065\"         \"c16h065\"        \n",
       " [681] \"c16i065\"         \"c16j065\"         \"c15a07\"          \"c15b07\"         \n",
       " [685] \"c15c07\"          \"c15d07\"          \"c15e07\"          \"c15f07\"         \n",
       " [689] \"c15h107\"         \"c15h207\"         \"c15h307\"         \"c15i107\"        \n",
       " [693] \"c15i207\"         \"c15i307\"         \"c15k107\"         \"c15k207\"        \n",
       " [697] \"c15l107\"         \"c15l207\"         \"c15m107\"         \"c15m207\"        \n",
       " [701] \"c15n107\"         \"c15n207\"         \"c15p07\"          \"c15q07\"         \n",
       " [705] \"c15r07\"          \"c15s07\"          \"c15t07\"          \"c15u07\"         \n",
       " [709] \"c15v07\"          \"c15w07\"          \"c16a071\"         \"c16b071\"        \n",
       " [713] \"c16d071\"         \"c16e071\"         \"c16f071\"         \"c16g071\"        \n",
       " [717] \"c16h071\"         \"c16i071\"         \"c16j071\"         \"c16a072\"        \n",
       " [721] \"c16b072\"         \"c16d072\"         \"c16e072\"         \"c16f072\"        \n",
       " [725] \"c16g072\"         \"c16h072\"         \"c16i072\"         \"c16j072\"        \n",
       " [729] \"c16a073\"         \"c16b073\"         \"c16d073\"         \"c16e073\"        \n",
       " [733] \"c16f073\"         \"c16g073\"         \"c16h073\"         \"c16i073\"        \n",
       " [737] \"c16j073\"         \"c16a074\"         \"c16b074\"         \"c16d074\"        \n",
       " [741] \"c16e074\"         \"c16f074\"         \"c16g074\"         \"c16h074\"        \n",
       " [745] \"c16i074\"         \"c16j074\"         \"c16a075\"         \"c16b075\"        \n",
       " [749] \"c16d075\"         \"c16e075\"         \"c16f075\"         \"c16g075\"        \n",
       " [753] \"c16h075\"         \"c16i075\"         \"c16j075\"         \"c15a08\"         \n",
       " [757] \"c15b08\"          \"c15c08\"          \"c15d08\"          \"c15e08\"         \n",
       " [761] \"c15f08\"          \"c15h108\"         \"c15h208\"         \"c15h308\"        \n",
       " [765] \"c15i108\"         \"c15i208\"         \"c15i308\"         \"c15k108\"        \n",
       " [769] \"c15k208\"         \"c15l108\"         \"c15l208\"         \"c15m108\"        \n",
       " [773] \"c15m208\"         \"c15n108\"         \"c15n208\"         \"c15p08\"         \n",
       " [777] \"c15q08\"          \"c15r08\"          \"c15s08\"          \"c15t08\"         \n",
       " [781] \"c15u08\"          \"c15v08\"          \"c15w08\"          \"c16a081\"        \n",
       " [785] \"c16b081\"         \"c16d081\"         \"c16e081\"         \"c16f081\"        \n",
       " [789] \"c16g081\"         \"c16h081\"         \"c16i081\"         \"c16j081\"        \n",
       " [793] \"c16a082\"         \"c16b082\"         \"c16d082\"         \"c16e082\"        \n",
       " [797] \"c16f082\"         \"c16g082\"         \"c16h082\"         \"c16i082\"        \n",
       " [801] \"c16j082\"         \"c16a083\"         \"c16b083\"         \"c16d083\"        \n",
       " [805] \"c16e083\"         \"c16f083\"         \"c16g083\"         \"c16h083\"        \n",
       " [809] \"c16i083\"         \"c16j083\"         \"c16a084\"         \"c16b084\"        \n",
       " [813] \"c16d084\"         \"c16e084\"         \"c16f084\"         \"c16g084\"        \n",
       " [817] \"c16h084\"         \"c16i084\"         \"c16j084\"         \"c16a085\"        \n",
       " [821] \"c16b085\"         \"c16d085\"         \"c16e085\"         \"c16f085\"        \n",
       " [825] \"c16g085\"         \"c16h085\"         \"c16i085\"         \"c16j085\"        \n",
       " [829] \"c15a09\"          \"c15b09\"          \"c15c09\"          \"c15d09\"         \n",
       " [833] \"c15e09\"          \"c15f09\"          \"c15h109\"         \"c15h209\"        \n",
       " [837] \"c15h309\"         \"c15i109\"         \"c15i209\"         \"c15i309\"        \n",
       " [841] \"c15k109\"         \"c15k209\"         \"c15l109\"         \"c15l209\"        \n",
       " [845] \"c15m109\"         \"c15m209\"         \"c15n109\"         \"c15n209\"        \n",
       " [849] \"c15p09\"          \"c15q09\"          \"c15r09\"          \"c15s09\"         \n",
       " [853] \"c15t09\"          \"c15u09\"          \"c15v09\"          \"c15w09\"         \n",
       " [857] \"c16a091\"         \"c16b091\"         \"c16d091\"         \"c16e091\"        \n",
       " [861] \"c16f091\"         \"c16g091\"         \"c16h091\"         \"c16i091\"        \n",
       " [865] \"c16j091\"         \"c16a092\"         \"c16b092\"         \"c16d092\"        \n",
       " [869] \"c16e092\"         \"c16f092\"         \"c16g092\"         \"c16h092\"        \n",
       " [873] \"c16i092\"         \"c16j092\"         \"c16a093\"         \"c16b093\"        \n",
       " [877] \"c16d093\"         \"c16e093\"         \"c16f093\"         \"c16g093\"        \n",
       " [881] \"c16h093\"         \"c16i093\"         \"c16j093\"         \"c16a094\"        \n",
       " [885] \"c16b094\"         \"c16d094\"         \"c16e094\"         \"c16f094\"        \n",
       " [889] \"c16g094\"         \"c16h094\"         \"c16i094\"         \"c16j094\"        \n",
       " [893] \"c16a095\"         \"c16b095\"         \"c16d095\"         \"c16e095\"        \n",
       " [897] \"c16f095\"         \"c16g095\"         \"c16h095\"         \"c16i095\"        \n",
       " [901] \"c16j095\"         \"c15a10\"          \"c15b10\"          \"c15c10\"         \n",
       " [905] \"c15d10\"          \"c15e10\"          \"c15f10\"          \"c15h110\"        \n",
       " [909] \"c15h210\"         \"c15h310\"         \"c15i110\"         \"c15i210\"        \n",
       " [913] \"c15i310\"         \"c15k110\"         \"c15k210\"         \"c15l110\"        \n",
       " [917] \"c15l210\"         \"c15m110\"         \"c15m210\"         \"c15n110\"        \n",
       " [921] \"c15n210\"         \"c15p10\"          \"c15q10\"          \"c15r10\"         \n",
       " [925] \"c15s10\"          \"c15t10\"          \"c15u10\"          \"c15v10\"         \n",
       " [929] \"c15w10\"          \"c16a101\"         \"c16b101\"         \"c16d101\"        \n",
       " [933] \"c16e101\"         \"c16f101\"         \"c16g101\"         \"c16h101\"        \n",
       " [937] \"c16i101\"         \"c16j101\"         \"c16a102\"         \"c16b102\"        \n",
       " [941] \"c16d102\"         \"c16e102\"         \"c16f102\"         \"c16g102\"        \n",
       " [945] \"c16h102\"         \"c16i102\"         \"c16j102\"         \"c16a103\"        \n",
       " [949] \"c16b103\"         \"c16d103\"         \"c16e103\"         \"c16f103\"        \n",
       " [953] \"c16g103\"         \"c16h103\"         \"c16i103\"         \"c16j103\"        \n",
       " [957] \"c16a104\"         \"c16b104\"         \"c16d104\"         \"c16e104\"        \n",
       " [961] \"c16f104\"         \"c16g104\"         \"c16h104\"         \"c16i104\"        \n",
       " [965] \"c16j104\"         \"c16a105\"         \"c16b105\"         \"c16d105\"        \n",
       " [969] \"c16e105\"         \"c16f105\"         \"c16g105\"         \"c16h105\"        \n",
       " [973] \"c16i105\"         \"c16j105\"         \"c17a01\"          \"c17b01\"         \n",
       " [977] \"c17c01\"          \"c17e01\"          \"c17f01\"          \"c17g01\"         \n",
       " [981] \"c17h01\"          \"c17i01\"          \"c17j01\"          \"c17k01\"         \n",
       " [985] \"c17m01\"          \"c17n01\"          \"c17p01\"          \"c17q01\"         \n",
       " [989] \"c17r01\"          \"c17a02\"          \"c17b02\"          \"c17c02\"         \n",
       " [993] \"c17e02\"          \"c17f02\"          \"c17g02\"          \"c17h02\"         \n",
       " [997] \"c17i02\"          \"c17j02\"          \"c17k02\"          \"c17m02\"         \n",
       "[1001] \"c17n02\"          \"c17p02\"          \"c17q02\"          \"c17r02\"         \n",
       "[1005] \"c17a03\"          \"c17b03\"          \"c17c03\"          \"c17e03\"         \n",
       "[1009] \"c17f03\"          \"c17g03\"          \"c17h03\"          \"c17i03\"         \n",
       "[1013] \"c17j03\"          \"c17k03\"          \"c17m03\"          \"c17n03\"         \n",
       "[1017] \"c17p03\"          \"c17q03\"          \"c17r03\"          \"c17a04\"         \n",
       "[1021] \"c17b04\"          \"c17c04\"          \"c17e04\"          \"c17f04\"         \n",
       "[1025] \"c17g04\"          \"c17h04\"          \"c17i04\"          \"c17j04\"         \n",
       "[1029] \"c17k04\"          \"c17m04\"          \"c17n04\"          \"c17p04\"         \n",
       "[1033] \"c17q04\"          \"c17r04\"          \"c17a05\"          \"c17b05\"         \n",
       "[1037] \"c17c05\"          \"c17e05\"          \"c17f05\"          \"c17g05\"         \n",
       "[1041] \"c17h05\"          \"c17i05\"          \"c17j05\"          \"c17k05\"         \n",
       "[1045] \"c17m05\"          \"c17n05\"          \"c17p05\"          \"c17q05\"         \n",
       "[1049] \"c17r05\"          \"c17a06\"          \"c17b06\"          \"c17c06\"         \n",
       "[1053] \"c17e06\"          \"c17f06\"          \"c17g06\"          \"c17h06\"         \n",
       "[1057] \"c17i06\"          \"c17j06\"          \"c17k06\"          \"c17m06\"         \n",
       "[1061] \"c17n06\"          \"c17p06\"          \"c17q06\"          \"c17r06\"         \n",
       "[1065] \"c17a07\"          \"c17b07\"          \"c17c07\"          \"c17e07\"         \n",
       "[1069] \"c17f07\"          \"c17g07\"          \"c17h07\"          \"c17i07\"         \n",
       "[1073] \"c17j07\"          \"c17k07\"          \"c17m07\"          \"c17n07\"         \n",
       "[1077] \"c17p07\"          \"c17q07\"          \"c17r07\"          \"c17a08\"         \n",
       "[1081] \"c17b08\"          \"c17c08\"          \"c17e08\"          \"c17f08\"         \n",
       "[1085] \"c17g08\"          \"c17h08\"          \"c17i08\"          \"c17j08\"         \n",
       "[1089] \"c17k08\"          \"c17m08\"          \"c17n08\"          \"c17p08\"         \n",
       "[1093] \"c17q08\"          \"c17r08\"          \"c17a09\"          \"c17b09\"         \n",
       "[1097] \"c17c09\"          \"c17e09\"          \"c17f09\"          \"c17g09\"         \n",
       "[1101] \"c17h09\"          \"c17i09\"          \"c17j09\"          \"c17k09\"         \n",
       "[1105] \"c17m09\"          \"c17n09\"          \"c17p09\"          \"c17q09\"         \n",
       "[1109] \"c17r09\"          \"c17a10\"          \"c17b10\"          \"c17c10\"         \n",
       "[1113] \"c17e10\"          \"c17f10\"          \"c17g10\"          \"c17h10\"         \n",
       "[1117] \"c17i10\"          \"c17j10\"          \"c17k10\"          \"c17m10\"         \n",
       "[1121] \"c17n10\"          \"c17p10\"          \"c17q10\"          \"c17r10\"         \n",
       "[1125] \"c17a11\"          \"c17b11\"          \"c17c11\"          \"c17e11\"         \n",
       "[1129] \"c17f11\"          \"c17g11\"          \"c17h11\"          \"c17i11\"         \n",
       "[1133] \"c17j11\"          \"c17k11\"          \"c17m11\"          \"c17n11\"         \n",
       "[1137] \"c17p11\"          \"c17q11\"          \"c17r11\"          \"c17a12\"         \n",
       "[1141] \"c17b12\"          \"c17c12\"          \"c17e12\"          \"c17f12\"         \n",
       "[1145] \"c17g12\"          \"c17h12\"          \"c17i12\"          \"c17j12\"         \n",
       "[1149] \"c17k12\"          \"c17m12\"          \"c17n12\"          \"c17p12\"         \n",
       "[1153] \"c17q12\"          \"c17r12\"          \"c17a13\"          \"c17b13\"         \n",
       "[1157] \"c17c13\"          \"c17e13\"          \"c17f13\"          \"c17g13\"         \n",
       "[1161] \"c17h13\"          \"c17i13\"          \"c17j13\"          \"c17k13\"         \n",
       "[1165] \"c17m13\"          \"c17n13\"          \"c17p13\"          \"c17q13\"         \n",
       "[1169] \"c17r13\"          \"c17a14\"          \"c17b14\"          \"c17c14\"         \n",
       "[1173] \"c17e14\"          \"c17f14\"          \"c17g14\"          \"c17h14\"         \n",
       "[1177] \"c17i14\"          \"c17j14\"          \"c17k14\"          \"c17m14\"         \n",
       "[1181] \"c17n14\"          \"c17p14\"          \"c17q14\"          \"c17r14\"         \n",
       "[1185] \"c17a15\"          \"c17b15\"          \"c17c15\"          \"c17e15\"         \n",
       "[1189] \"c17f15\"          \"c17g15\"          \"c17h15\"          \"c17i15\"         \n",
       "[1193] \"c17j15\"          \"c17k15\"          \"c17m15\"          \"c17n15\"         \n",
       "[1197] \"c17p15\"          \"c17q15\"          \"c17r15\"          \"c17a16\"         \n",
       "[1201] \"c17b16\"          \"c17c16\"          \"c17e16\"          \"c17f16\"         \n",
       "[1205] \"c17g16\"          \"c17h16\"          \"c17i16\"          \"c17j16\"         \n",
       "[1209] \"c17k16\"          \"c17m16\"          \"c17n16\"          \"c17p16\"         \n",
       "[1213] \"c17q16\"          \"c17r16\"          \"c17a17\"          \"c17b17\"         \n",
       "[1217] \"c17c17\"          \"c17e17\"          \"c17f17\"          \"c17g17\"         \n",
       "[1221] \"c17h17\"          \"c17i17\"          \"c17j17\"          \"c17k17\"         \n",
       "[1225] \"c17m17\"          \"c17n17\"          \"c17p17\"          \"c17q17\"         \n",
       "[1229] \"c17r17\"          \"c17a18\"          \"c17b18\"          \"c17c18\"         \n",
       "[1233] \"c17e18\"          \"c17f18\"          \"c17g18\"          \"c17h18\"         \n",
       "[1237] \"c17i18\"          \"c17j18\"          \"c17k18\"          \"c17m18\"         \n",
       "[1241] \"c17n18\"          \"c17p18\"          \"c17q18\"          \"c17r18\"         \n",
       "[1245] \"c17a19\"          \"c17b19\"          \"c17c19\"          \"c17e19\"         \n",
       "[1249] \"c17f19\"          \"c17g19\"          \"c17h19\"          \"c17i19\"         \n",
       "[1253] \"c17j19\"          \"c17k19\"          \"c17m19\"          \"c17n19\"         \n",
       "[1257] \"c17p19\"          \"c17q19\"          \"c17r19\"          \"c17a20\"         \n",
       "[1261] \"c17b20\"          \"c17c20\"          \"c17e20\"          \"c17f20\"         \n",
       "[1265] \"c17g20\"          \"c17h20\"          \"c17i20\"          \"c17j20\"         \n",
       "[1269] \"c17k20\"          \"c17m20\"          \"c17n20\"          \"c17p20\"         \n",
       "[1273] \"c17q20\"          \"c17r20\"          \"d101\"            \"d102\"           \n",
       "[1277] \"d103\"            \"d104\"            \"d105\"            \"d106\"           \n",
       "[1281] \"d107\"            \"d108\"            \"d109\"            \"d110\"           \n",
       "[1285] \"d2a\"             \"d2b\"             \"d2c\"             \"d3\"             \n",
       "[1289] \"d401\"            \"d402\"            \"d403\"            \"d404\"           \n",
       "[1293] \"d405\"            \"d406\"            \"d407\"            \"d408\"           \n",
       "[1297] \"d409\"            \"d410\"            \"e11\"             \"e12\"            \n",
       "[1301] \"e13\"             \"e2a01\"           \"e2aa01\"          \"e2a02\"          \n",
       "[1305] \"e2aa02\"          \"e2a03\"           \"e2aa03\"          \"e2a04\"          \n",
       "[1309] \"e2aa04\"          \"e2a05\"           \"e2aa05\"          \"e2a06\"          \n",
       "[1313] \"e2aa06\"          \"e2a07\"           \"e2aa07\"          \"e2a08\"          \n",
       "[1317] \"e2aa08\"          \"e2a09\"           \"e2aa09\"          \"e2a10\"          \n",
       "[1321] \"e2aa10\"          \"e2a11\"           \"e2aa11\"          \"e2a12\"          \n",
       "[1325] \"e2aa12\"          \"e2a13\"           \"e2aa13\"          \"e2a14\"          \n",
       "[1329] \"e2aa14\"          \"e2a15\"           \"e2aa15\"          \"e2a16\"          \n",
       "[1333] \"e2aa16\"          \"e2a17\"           \"e2aa17\"          \"e2a18\"          \n",
       "[1337] \"e2aa18\"          \"e2b1\"            \"e2bb1\"           \"e2b2\"           \n",
       "[1341] \"e2bb2\"           \"e2b3\"            \"e2bb3\"           \"e2b4\"           \n",
       "[1345] \"e2bb4\"           \"e2b5\"            \"e2bb5\"           \"e2b6\"           \n",
       "[1349] \"e2bb6\"           \"e2b7\"            \"e2bb7\"           \"e2b8\"           \n",
       "[1353] \"e2bb8\"           \"e3a\"             \"e3b\"             \"e3c\"            \n",
       "[1357] \"e3d\"             \"e3e\"             \"e3f\"             \"e4a1\"           \n",
       "[1361] \"e4a2\"            \"e4a3\"            \"e4a4\"            \"e4a5\"           \n",
       "[1365] \"e4a6\"            \"e4a7\"            \"e4a8\"            \"e4b\"            \n",
       "[1369] \"e5a\"             \"e5b\"             \"e5ba\"            \"e5bb\"           \n",
       "[1373] \"e5c\"             \"e5d\"             \"e5e\"             \"e5f\"            \n",
       "[1377] \"e6a\"             \"e6b\"             \"e6c01\"           \"e6c02\"          \n",
       "[1381] \"e6c03\"           \"e6c04\"           \"e6c05\"           \"e6c06\"          \n",
       "[1385] \"e6c07\"           \"e6c08\"           \"e6c09\"           \"e6c10\"          \n",
       "[1389] \"e6d\"             \"e6e\"             \"e6f\"             \"e7a\"            \n",
       "[1393] \"e7b\"             \"e8\"              \"e9\"              \"e10a\"           \n",
       "[1397] \"e10b\"            \"e10c\"            \"e10d\"            \"e10e\"           \n",
       "[1401] \"e10f\"            \"e11a\"            \"e11b1\"           \"e11b2\"          \n",
       "[1405] \"e11b3\"           \"e11b4\"           \"e11b5\"           \"e11b6\"          \n",
       "[1409] \"e11b7\"           \"e12a\"            \"e12b\"            \"e12c\"           \n",
       "[1413] \"e12d\"            \"e12e\"            \"e12f\"            \"e12g\"           \n",
       "[1417] \"e12h\"            \"e12i\"            \"e12j\"            \"e13a\"           \n",
       "[1421] \"e13b\"            \"e13c\"            \"e13d\"            \"e13e\"           \n",
       "[1425] \"e13f\"            \"e13h\"            \"e13i\"            \"e13j\"           \n",
       "[1429] \"b11icodeisco\"    \"b12icodeisco\"    \"b13jcodeisco\"    \"c8codeisco\"     \n",
       "[1433] \"c16c011codeisco\" \"c16c012codeisco\" \"c16c013codeisco\" \"c16c014codeisco\"\n",
       "[1437] \"c16c015codeisco\" \"c16c021codeisco\" \"c16c022codeisco\" \"c16c023codeisco\"\n",
       "[1441] \"c16c024codeisco\" \"c16c025codeisco\" \"c16c031codeisco\" \"c16c032codeisco\"\n",
       "[1445] \"c16c033codeisco\" \"c16c034codeisco\" \"c16c035codeisco\" \"c16c041codeisco\"\n",
       "[1449] \"c16c042codeisco\" \"c16c043codeisco\" \"c16c044codeisco\" \"c16c045codeisco\"\n",
       "[1453] \"c16c051codeisco\" \"c16c052codeisco\" \"c16c053codeisco\" \"c16c054codeisco\"\n",
       "[1457] \"c16c055codeisco\" \"c16c061codeisco\" \"c16c062codeisco\" \"c16c063codeisco\"\n",
       "[1461] \"c16c064codeisco\" \"c16c065codeisco\" \"c16c071codeisco\" \"c16c072codeisco\"\n",
       "[1465] \"c16c073codeisco\" \"c16c074codeisco\" \"c16c075codeisco\" \"c16c081codeisco\"\n",
       "[1469] \"c16c082codeisco\" \"c16c083codeisco\" \"c16c084codeisco\" \"c16c085codeisco\"\n",
       "[1473] \"c16c091codeisco\" \"c16c092codeisco\" \"c16c093codeisco\" \"c16c094codeisco\"\n",
       "[1477] \"c16c095codeisco\" \"c16c101codeisco\" \"c16c102codeisco\" \"c16c103codeisco\"\n",
       "[1481] \"c16c104codeisco\" \"c16c105codeisco\" \"c17d01codeisco\"  \"c17d02codeisco\" \n",
       "[1485] \"c17d03codeisco\"  \"c17d04codeisco\"  \"c17d05codeisco\"  \"c17d06codeisco\" \n",
       "[1489] \"c17d07codeisco\"  \"c17d08codeisco\"  \"c17d09codeisco\"  \"c17d10codeisco\" \n",
       "[1493] \"c17d11codeisco\"  \"c17d12codeisco\"  \"c17d13codeisco\"  \"c17d14codeisco\" \n",
       "[1497] \"c17d15codeisco\"  \"c17d16codeisco\"  \"c17d17codeisco\"  \"c17d18codeisco\" \n",
       "[1501] \"c17d19codeisco\"  \"c17d20codeisco\"  \"weight\"         "
      ]
     },
     "metadata": {},
     "output_type": "display_data"
    }
   ],
   "source": [
    "names(cgss08)"
   ]
  },
  {
   "cell_type": "code",
   "execution_count": 240,
   "metadata": {
    "scrolled": false
   },
   "outputs": [
    {
     "data": {
      "text/html": [
       "<table>\n",
       "<thead><tr><th scope=col>serial</th><th scope=col>province</th><th scope=col>countyid</th><th scope=col>community</th><th scope=col>v3</th><th scope=col>v41</th><th scope=col>v42</th><th scope=col>a1</th><th scope=col>a2</th><th scope=col>a3a</th><th scope=col>⋯</th><th scope=col>c17d12codeisco</th><th scope=col>c17d13codeisco</th><th scope=col>c17d14codeisco</th><th scope=col>c17d15codeisco</th><th scope=col>c17d16codeisco</th><th scope=col>c17d17codeisco</th><th scope=col>c17d18codeisco</th><th scope=col>c17d19codeisco</th><th scope=col>c17d20codeisco</th><th scope=col>weight</th></tr></thead>\n",
       "<tbody>\n",
       "\t<tr><td>1                                                                                                                                                                     </td><td>&lt;b1&gt;&lt;b1&gt;&lt;be&gt;&lt;a9&gt;&lt;ca&gt;&lt;d0&gt;                                                                                                          </td><td>110108                                                                                                                                                                </td><td>425                                                                                                                                                                   </td><td>&lt;b3&gt;&lt;c7&gt;&lt;ca&gt;&lt;d0&gt;                                                                                                                              </td><td>&lt;b3&gt;&lt;c7&gt;&lt;ca&gt;&lt;d0&gt;                                                                                                                              </td><td>&lt;c6&gt;&lt;d5&gt;ͨ&lt;c9&gt;&lt;cc&gt;Ʒ&lt;b7&gt;&lt;bf&gt;/&lt;be&gt;&lt;ad&gt;&lt;bc&gt;&lt;c3&gt;&lt;ca&gt;&lt;ca&gt;&lt;d3&gt;÷&lt;bf&gt;С&lt;c7&gt;&lt;f8&gt;</td><td>&lt;c4&gt;&lt;d0&gt;                                                                                                                                                  </td><td>1948                                                                                                                                                                  </td><td>&lt;b4&gt;&lt;f3&gt;ѧר&lt;bf&gt;ƣ&lt;a8&gt;&lt;d5&gt;&lt;fd&gt;&lt;b9&gt;&lt;e6&gt;&lt;b8&gt;ߵȽ&lt;cc&gt;&lt;d3&gt;&lt;fd&gt;&lt;a3&gt;&lt;a9&gt;           </td><td>⋯                                                                                                                                                                     </td><td>NA                                                                                                                                                                    </td><td>NA                                                                                                                                                                    </td><td>NA                                                                                                                                                                    </td><td>NA                                                                                                                                                                    </td><td>NA                                                                                                                                                                    </td><td>NA                                                                                                                                                                    </td><td>NA                                                                                                                                                                    </td><td>NA                                                                                                                                                                    </td><td>NA                                                                                                                                                                    </td><td>0.7981898                                                                                                                                                             </td></tr>\n",
       "\t<tr><td>2                                                                                                                                                                     </td><td>&lt;b1&gt;&lt;b1&gt;&lt;be&gt;&lt;a9&gt;&lt;ca&gt;&lt;d0&gt;                                                                                                          </td><td>110108                                                                                                                                                                </td><td>425                                                                                                                                                                   </td><td>&lt;b3&gt;&lt;c7&gt;&lt;ca&gt;&lt;d0&gt;                                                                                                                              </td><td>&lt;b3&gt;&lt;c7&gt;&lt;ca&gt;&lt;d0&gt;                                                                                                                              </td><td>&lt;c6&gt;&lt;d5&gt;ͨ&lt;c9&gt;&lt;cc&gt;Ʒ&lt;b7&gt;&lt;bf&gt;/&lt;be&gt;&lt;ad&gt;&lt;bc&gt;&lt;c3&gt;&lt;ca&gt;&lt;ca&gt;&lt;d3&gt;÷&lt;bf&gt;С&lt;c7&gt;&lt;f8&gt;</td><td><span style=white-space:pre-wrap>Ů       </span>                                                                                                                      </td><td>1984                                                                                                                                                                  </td><td><span style=white-space:pre-wrap>&lt;c6&gt;&lt;d5&gt;ͨ&lt;b8&gt;&lt;df&gt;&lt;d6&gt;&lt;d0&gt;                                               </span>                   </td><td>⋯                                                                                                                                                                     </td><td>NA                                                                                                                                                                    </td><td>NA                                                                                                                                                                    </td><td>NA                                                                                                                                                                    </td><td>NA                                                                                                                                                                    </td><td>NA                                                                                                                                                                    </td><td>NA                                                                                                                                                                    </td><td>NA                                                                                                                                                                    </td><td>NA                                                                                                                                                                    </td><td>NA                                                                                                                                                                    </td><td>0.1995475                                                                                                                                                             </td></tr>\n",
       "\t<tr><td>3                                                                                                                                                                     </td><td>&lt;b1&gt;&lt;b1&gt;&lt;be&gt;&lt;a9&gt;&lt;ca&gt;&lt;d0&gt;                                                                                                          </td><td>110108                                                                                                                                                                </td><td>425                                                                                                                                                                   </td><td>&lt;b3&gt;&lt;c7&gt;&lt;ca&gt;&lt;d0&gt;                                                                                                                              </td><td>&lt;b3&gt;&lt;c7&gt;&lt;ca&gt;&lt;d0&gt;                                                                                                                              </td><td>&lt;c6&gt;&lt;d5&gt;ͨ&lt;c9&gt;&lt;cc&gt;Ʒ&lt;b7&gt;&lt;bf&gt;/&lt;be&gt;&lt;ad&gt;&lt;bc&gt;&lt;c3&gt;&lt;ca&gt;&lt;ca&gt;&lt;d3&gt;÷&lt;bf&gt;С&lt;c7&gt;&lt;f8&gt;</td><td><span style=white-space:pre-wrap>Ů       </span>                                                                                                                      </td><td>1984                                                                                                                                                                  </td><td><span style=white-space:pre-wrap>&lt;b3&gt;&lt;f5&gt;&lt;d6&gt;&lt;d0&gt;                                                       </span>                               </td><td>⋯                                                                                                                                                                     </td><td>NA                                                                                                                                                                    </td><td>NA                                                                                                                                                                    </td><td>NA                                                                                                                                                                    </td><td>NA                                                                                                                                                                    </td><td>NA                                                                                                                                                                    </td><td>NA                                                                                                                                                                    </td><td>NA                                                                                                                                                                    </td><td>NA                                                                                                                                                                    </td><td>NA                                                                                                                                                                    </td><td>0.1995475                                                                                                                                                             </td></tr>\n",
       "</tbody>\n",
       "</table>\n"
      ],
      "text/latex": [
       "\\begin{tabular}{r|lllllllllllllllllllllllllllllllllllllllllllllllllllllllllllllllllllllllllllllllllllllllllllllllllllllllllllllllllllllllllllllllllllllllllllllllllllllllllllllllllllllllllllllllllllllllllllllllllllllllllllllllllllllllllllllllllllllllllllllllllllllllllllllllllllllllllllllllllllllllllllllllllllllllllllllllllllllllllllllllllllllllllllllllllllllllllllllllllllllllllllllllllllllllllllllllllllllllllllllllllllllllllllllllllllllllllllllllllllllllllllllllllllllllllllllllllllllllllllllllllllllllllllllllllllllllllllllllllllllllllllllllllllllllllllllllllllllllllllllllllllllllllllllllllllllllllllllllllllllllllllllllllllllllllllllllllllllllllllllllllllllllllllllllllllllllllllllllllllllllllllllllllllllllllllllllllllllllllllllllllllllllllllllllllllllllllllllllllllllllllllllllllllllllllllllllllllllllllllllllllllllllllllllllllllllllllllllllllllllllllllllllllllllllllllllllllllllllllllllllllllllllllllllllllllllllllllllllllllllllllllllllllllllllllllllllllllllllllllllllllllllllllllllllllllllllllllllllllllllllllllllllllllllllllllllllllllllllllllllllllllllllllllllllllllllllllllllllllllllllllllllllllllllllllllllllllllllllllllllllllllllllllllllllllllllllllllllllllllllllllllllllllllllllllllllllllllllllllllllllllllllllllllllllllllllllllllllllllllllllllllllllllllllllllllllllllllllllllllllllllllllllllllllllllllllllllllllllllllllllllllllllllllllllllllllllllllllllllllllllllllllllllllllllllllllllllllllllllllllllllllllllllllllllllllllllllllllllllllllllllllllllllllllllllllllllllllllllllllllllllllllllllllllllllllllll}\n",
       " serial & province & countyid & community & v3 & v41 & v42 & a1 & a2 & a3a & ⋯ & c17d12codeisco & c17d13codeisco & c17d14codeisco & c17d15codeisco & c17d16codeisco & c17d17codeisco & c17d18codeisco & c17d19codeisco & c17d20codeisco & weight\\\\\n",
       "\\hline\n",
       "\t 1                                                                       & <b1><b1><be><a9><ca><d0>                                                & 110108                                                                  & 425                                                                     & <b3><c7><ca><d0>                                                        & <b3><c7><ca><d0>                                                        & <c6><d5>ͨ<c9><cc>Ʒ<b7><bf>/<be><ad><bc><c3><ca><ca><d3>÷<bf>С<c7><f8>  & <c4><d0>                                                                & 1948                                                                    & <b4><f3>ѧר<bf>ƣ<a8><d5><fd><b9><e6><b8>ߵȽ<cc><d3><fd><a3><a9> & ⋯                                                                       & NA                                                                      & NA                                                                      & NA                                                                      & NA                                                                      & NA                                                                      & NA                                                                      & NA                                                                      & NA                                                                      & NA                                                                      & 0.7981898                                                              \\\\\n",
       "\t 2                                                                       & <b1><b1><be><a9><ca><d0>                                                & 110108                                                                  & 425                                                                     & <b3><c7><ca><d0>                                                        & <b3><c7><ca><d0>                                                        & <c6><d5>ͨ<c9><cc>Ʒ<b7><bf>/<be><ad><bc><c3><ca><ca><d3>÷<bf>С<c7><f8>  & Ů                                                                       & 1984                                                                    & <c6><d5>ͨ<b8><df><d6><d0>                                                & ⋯                                                                       & NA                                                                      & NA                                                                      & NA                                                                      & NA                                                                      & NA                                                                      & NA                                                                      & NA                                                                      & NA                                                                      & NA                                                                      & 0.1995475                                                              \\\\\n",
       "\t 3                                                                       & <b1><b1><be><a9><ca><d0>                                                & 110108                                                                  & 425                                                                     & <b3><c7><ca><d0>                                                        & <b3><c7><ca><d0>                                                        & <c6><d5>ͨ<c9><cc>Ʒ<b7><bf>/<be><ad><bc><c3><ca><ca><d3>÷<bf>С<c7><f8>  & Ů                                                                       & 1984                                                                    & <b3><f5><d6><d0>                                                        & ⋯                                                                       & NA                                                                      & NA                                                                      & NA                                                                      & NA                                                                      & NA                                                                      & NA                                                                      & NA                                                                      & NA                                                                      & NA                                                                      & 0.1995475                                                              \\\\\n",
       "\\end{tabular}\n"
      ],
      "text/markdown": [
       "\n",
       "serial | province | countyid | community | v3 | v41 | v42 | a1 | a2 | a3a | ⋯ | c17d12codeisco | c17d13codeisco | c17d14codeisco | c17d15codeisco | c17d16codeisco | c17d17codeisco | c17d18codeisco | c17d19codeisco | c17d20codeisco | weight | \n",
       "|---|---|---|\n",
       "| 1                                                                       | <b1><b1><be><a9><ca><d0>                                                | 110108                                                                  | 425                                                                     | <b3><c7><ca><d0>                                                        | <b3><c7><ca><d0>                                                        | <c6><d5>ͨ<c9><cc>Ʒ<b7><bf>/<be><ad><bc><c3><ca><ca><d3>÷<bf>С<c7><f8>  | <c4><d0>                                                                | 1948                                                                    | <b4><f3>ѧר<bf>ƣ<a8><d5><fd><b9><e6><b8>ߵȽ<cc><d3><fd><a3><a9> | ⋯                                                                       | NA                                                                      | NA                                                                      | NA                                                                      | NA                                                                      | NA                                                                      | NA                                                                      | NA                                                                      | NA                                                                      | NA                                                                      | 0.7981898                                                               | \n",
       "| 2                                                                       | <b1><b1><be><a9><ca><d0>                                                | 110108                                                                  | 425                                                                     | <b3><c7><ca><d0>                                                        | <b3><c7><ca><d0>                                                        | <c6><d5>ͨ<c9><cc>Ʒ<b7><bf>/<be><ad><bc><c3><ca><ca><d3>÷<bf>С<c7><f8>  | Ů                                                                       | 1984                                                                    | <c6><d5>ͨ<b8><df><d6><d0>                                                | ⋯                                                                       | NA                                                                      | NA                                                                      | NA                                                                      | NA                                                                      | NA                                                                      | NA                                                                      | NA                                                                      | NA                                                                      | NA                                                                      | 0.1995475                                                               | \n",
       "| 3                                                                       | <b1><b1><be><a9><ca><d0>                                                | 110108                                                                  | 425                                                                     | <b3><c7><ca><d0>                                                        | <b3><c7><ca><d0>                                                        | <c6><d5>ͨ<c9><cc>Ʒ<b7><bf>/<be><ad><bc><c3><ca><ca><d3>÷<bf>С<c7><f8>  | Ů                                                                       | 1984                                                                    | <b3><f5><d6><d0>                                                        | ⋯                                                                       | NA                                                                      | NA                                                                      | NA                                                                      | NA                                                                      | NA                                                                      | NA                                                                      | NA                                                                      | NA                                                                      | NA                                                                      | 0.1995475                                                               | \n",
       "\n",
       "\n"
      ],
      "text/plain": [
       "  serial province                 countyid community v3              \n",
       "1 1      \\xb1\\xb1\\xbe\\xa9\\xca\\xd0 110108   425       \\xb3\\xc7\\xca\\xd0\n",
       "2 2      \\xb1\\xb1\\xbe\\xa9\\xca\\xd0 110108   425       \\xb3\\xc7\\xca\\xd0\n",
       "3 3      \\xb1\\xb1\\xbe\\xa9\\xca\\xd0 110108   425       \\xb3\\xc7\\xca\\xd0\n",
       "  v41             \n",
       "1 \\xb3\\xc7\\xca\\xd0\n",
       "2 \\xb3\\xc7\\xca\\xd0\n",
       "3 \\xb3\\xc7\\xca\\xd0\n",
       "  v42                                                                   \n",
       "1 \\xc6\\xd5ͨ\\xc9\\xccƷ\\xb7\\xbf/\\xbe\\xad\\xbc\\xc3\\xca\\xca\\xd3÷\\xbfС\\xc7\\xf8\n",
       "2 \\xc6\\xd5ͨ\\xc9\\xccƷ\\xb7\\xbf/\\xbe\\xad\\xbc\\xc3\\xca\\xca\\xd3÷\\xbfС\\xc7\\xf8\n",
       "3 \\xc6\\xd5ͨ\\xc9\\xccƷ\\xb7\\xbf/\\xbe\\xad\\xbc\\xc3\\xca\\xca\\xd3÷\\xbfС\\xc7\\xf8\n",
       "  a1       a2  \n",
       "1 \\xc4\\xd0 1948\n",
       "2 Ů        1984\n",
       "3 Ů        1984\n",
       "  a3a                                                                     ⋯\n",
       "1 \\xb4\\xf3ѧר\\xbfƣ\\xa8\\xd5\\xfd\\xb9\\xe6\\xb8\\u07f5\\u023d\\xcc\\xd3\\xfd\\xa3\\xa9 ⋯\n",
       "2 \\xc6\\xd5ͨ\\xb8\\xdf\\xd6\\xd0                                                ⋯\n",
       "3 \\xb3\\xf5\\xd6\\xd0                                                        ⋯\n",
       "  c17d12codeisco c17d13codeisco c17d14codeisco c17d15codeisco c17d16codeisco\n",
       "1 NA             NA             NA             NA             NA            \n",
       "2 NA             NA             NA             NA             NA            \n",
       "3 NA             NA             NA             NA             NA            \n",
       "  c17d17codeisco c17d18codeisco c17d19codeisco c17d20codeisco weight   \n",
       "1 NA             NA             NA             NA             0.7981898\n",
       "2 NA             NA             NA             NA             0.1995475\n",
       "3 NA             NA             NA             NA             0.1995475"
      ]
     },
     "metadata": {},
     "output_type": "display_data"
    }
   ],
   "source": [
    "head(cgss08, 3)"
   ]
  },
  {
   "cell_type": "code",
   "execution_count": 241,
   "metadata": {},
   "outputs": [
    {
     "data": {
      "text/html": [
       "'factor'"
      ],
      "text/latex": [
       "'factor'"
      ],
      "text/markdown": [
       "'factor'"
      ],
      "text/plain": [
       "[1] \"factor\""
      ]
     },
     "metadata": {},
     "output_type": "display_data"
    }
   ],
   "source": [
    "class(cgss08$province)"
   ]
  },
  {
   "cell_type": "code",
   "execution_count": null,
   "metadata": {},
   "outputs": [],
   "source": [
    "levels(cgss08$province)"
   ]
  },
  {
   "cell_type": "code",
   "execution_count": 242,
   "metadata": {},
   "outputs": [
    {
     "data": {
      "text/html": [
       "<ol class=list-inline>\n",
       "\t<li>'北京市'</li>\n",
       "\t<li>'天津市'</li>\n",
       "\t<li>'河北省'</li>\n",
       "\t<li>'山西省'</li>\n",
       "\t<li>'内蒙古自治区'</li>\n",
       "\t<li>'辽宁省'</li>\n",
       "\t<li>'吉林省'</li>\n",
       "\t<li>'黑龙江省'</li>\n",
       "\t<li>'上海市'</li>\n",
       "\t<li>'江苏省'</li>\n",
       "\t<li>'浙江省'</li>\n",
       "\t<li>'安徽省'</li>\n",
       "\t<li>'福建省'</li>\n",
       "\t<li>'江西省'</li>\n",
       "\t<li>'山东省'</li>\n",
       "\t<li>'河南省'</li>\n",
       "\t<li>'湖北省'</li>\n",
       "\t<li>'湖南省'</li>\n",
       "\t<li>'广东省'</li>\n",
       "\t<li>'广西自治区'</li>\n",
       "\t<li>'重庆市'</li>\n",
       "\t<li>'四川省'</li>\n",
       "\t<li>'贵州省'</li>\n",
       "\t<li>'云南省'</li>\n",
       "\t<li>'陕西省'</li>\n",
       "\t<li>'甘肃省'</li>\n",
       "\t<li>'宁夏自治区'</li>\n",
       "\t<li>'新疆自治区'</li>\n",
       "</ol>\n"
      ],
      "text/latex": [
       "\\begin{enumerate*}\n",
       "\\item '北京市'\n",
       "\\item '天津市'\n",
       "\\item '河北省'\n",
       "\\item '山西省'\n",
       "\\item '内蒙古自治区'\n",
       "\\item '辽宁省'\n",
       "\\item '吉林省'\n",
       "\\item '黑龙江省'\n",
       "\\item '上海市'\n",
       "\\item '江苏省'\n",
       "\\item '浙江省'\n",
       "\\item '安徽省'\n",
       "\\item '福建省'\n",
       "\\item '江西省'\n",
       "\\item '山东省'\n",
       "\\item '河南省'\n",
       "\\item '湖北省'\n",
       "\\item '湖南省'\n",
       "\\item '广东省'\n",
       "\\item '广西自治区'\n",
       "\\item '重庆市'\n",
       "\\item '四川省'\n",
       "\\item '贵州省'\n",
       "\\item '云南省'\n",
       "\\item '陕西省'\n",
       "\\item '甘肃省'\n",
       "\\item '宁夏自治区'\n",
       "\\item '新疆自治区'\n",
       "\\end{enumerate*}\n"
      ],
      "text/markdown": [
       "1. '北京市'\n",
       "2. '天津市'\n",
       "3. '河北省'\n",
       "4. '山西省'\n",
       "5. '内蒙古自治区'\n",
       "6. '辽宁省'\n",
       "7. '吉林省'\n",
       "8. '黑龙江省'\n",
       "9. '上海市'\n",
       "10. '江苏省'\n",
       "11. '浙江省'\n",
       "12. '安徽省'\n",
       "13. '福建省'\n",
       "14. '江西省'\n",
       "15. '山东省'\n",
       "16. '河南省'\n",
       "17. '湖北省'\n",
       "18. '湖南省'\n",
       "19. '广东省'\n",
       "20. '广西自治区'\n",
       "21. '重庆市'\n",
       "22. '四川省'\n",
       "23. '贵州省'\n",
       "24. '云南省'\n",
       "25. '陕西省'\n",
       "26. '甘肃省'\n",
       "27. '宁夏自治区'\n",
       "28. '新疆自治区'\n",
       "\n",
       "\n"
      ],
      "text/plain": [
       " [1] \"北京市\"       \"天津市\"       \"河北省\"       \"山西省\"       \"内蒙古自治区\"\n",
       " [6] \"辽宁省\"       \"吉林省\"       \"黑龙江省\"     \"上海市\"       \"江苏省\"      \n",
       "[11] \"浙江省\"       \"安徽省\"       \"福建省\"       \"江西省\"       \"山东省\"      \n",
       "[16] \"河南省\"       \"湖北省\"       \"湖南省\"       \"广东省\"       \"广西自治区\"  \n",
       "[21] \"重庆市\"       \"四川省\"       \"贵州省\"       \"云南省\"       \"陕西省\"      \n",
       "[26] \"甘肃省\"       \"宁夏自治区\"   \"新疆自治区\"  "
      ]
     },
     "metadata": {},
     "output_type": "display_data"
    }
   ],
   "source": [
    "iconv(levels(cgss08$province), from=\"GBK\", to=\"UTF-8\")"
   ]
  },
  {
   "cell_type": "code",
   "execution_count": 243,
   "metadata": {
    "scrolled": false
   },
   "outputs": [
    {
     "data": {
      "text/html": [
       "<table>\n",
       "<thead><tr><th scope=col>serial</th><th scope=col>province</th><th scope=col>countyid</th><th scope=col>community</th><th scope=col>v3</th><th scope=col>v41</th><th scope=col>v42</th><th scope=col>a1</th><th scope=col>a2</th><th scope=col>a3a</th><th scope=col>⋯</th><th scope=col>c17d12codeisco</th><th scope=col>c17d13codeisco</th><th scope=col>c17d14codeisco</th><th scope=col>c17d15codeisco</th><th scope=col>c17d16codeisco</th><th scope=col>c17d17codeisco</th><th scope=col>c17d18codeisco</th><th scope=col>c17d19codeisco</th><th scope=col>c17d20codeisco</th><th scope=col>weight</th></tr></thead>\n",
       "<tbody>\n",
       "\t<tr><td>1                                                                                                                                                                     </td><td>北京市                                                                                                                                                                </td><td>110108                                                                                                                                                                </td><td>425                                                                                                                                                                   </td><td>&lt;b3&gt;&lt;c7&gt;&lt;ca&gt;&lt;d0&gt;                                                                                                                              </td><td>&lt;b3&gt;&lt;c7&gt;&lt;ca&gt;&lt;d0&gt;                                                                                                                              </td><td>&lt;c6&gt;&lt;d5&gt;ͨ&lt;c9&gt;&lt;cc&gt;Ʒ&lt;b7&gt;&lt;bf&gt;/&lt;be&gt;&lt;ad&gt;&lt;bc&gt;&lt;c3&gt;&lt;ca&gt;&lt;ca&gt;&lt;d3&gt;÷&lt;bf&gt;С&lt;c7&gt;&lt;f8&gt;</td><td>&lt;c4&gt;&lt;d0&gt;                                                                                                                                                  </td><td>1948                                                                                                                                                                  </td><td>&lt;b4&gt;&lt;f3&gt;ѧר&lt;bf&gt;ƣ&lt;a8&gt;&lt;d5&gt;&lt;fd&gt;&lt;b9&gt;&lt;e6&gt;&lt;b8&gt;ߵȽ&lt;cc&gt;&lt;d3&gt;&lt;fd&gt;&lt;a3&gt;&lt;a9&gt;           </td><td>⋯                                                                                                                                                                     </td><td>NA                                                                                                                                                                    </td><td>NA                                                                                                                                                                    </td><td>NA                                                                                                                                                                    </td><td>NA                                                                                                                                                                    </td><td>NA                                                                                                                                                                    </td><td>NA                                                                                                                                                                    </td><td>NA                                                                                                                                                                    </td><td>NA                                                                                                                                                                    </td><td>NA                                                                                                                                                                    </td><td>0.7981898                                                                                                                                                             </td></tr>\n",
       "\t<tr><td>2                                                                                                                                                                     </td><td>北京市                                                                                                                                                                </td><td>110108                                                                                                                                                                </td><td>425                                                                                                                                                                   </td><td>&lt;b3&gt;&lt;c7&gt;&lt;ca&gt;&lt;d0&gt;                                                                                                                              </td><td>&lt;b3&gt;&lt;c7&gt;&lt;ca&gt;&lt;d0&gt;                                                                                                                              </td><td>&lt;c6&gt;&lt;d5&gt;ͨ&lt;c9&gt;&lt;cc&gt;Ʒ&lt;b7&gt;&lt;bf&gt;/&lt;be&gt;&lt;ad&gt;&lt;bc&gt;&lt;c3&gt;&lt;ca&gt;&lt;ca&gt;&lt;d3&gt;÷&lt;bf&gt;С&lt;c7&gt;&lt;f8&gt;</td><td><span style=white-space:pre-wrap>Ů       </span>                                                                                                                      </td><td>1984                                                                                                                                                                  </td><td><span style=white-space:pre-wrap>&lt;c6&gt;&lt;d5&gt;ͨ&lt;b8&gt;&lt;df&gt;&lt;d6&gt;&lt;d0&gt;                                               </span>                   </td><td>⋯                                                                                                                                                                     </td><td>NA                                                                                                                                                                    </td><td>NA                                                                                                                                                                    </td><td>NA                                                                                                                                                                    </td><td>NA                                                                                                                                                                    </td><td>NA                                                                                                                                                                    </td><td>NA                                                                                                                                                                    </td><td>NA                                                                                                                                                                    </td><td>NA                                                                                                                                                                    </td><td>NA                                                                                                                                                                    </td><td>0.1995475                                                                                                                                                             </td></tr>\n",
       "\t<tr><td>3                                                                                                                                                                     </td><td>北京市                                                                                                                                                                </td><td>110108                                                                                                                                                                </td><td>425                                                                                                                                                                   </td><td>&lt;b3&gt;&lt;c7&gt;&lt;ca&gt;&lt;d0&gt;                                                                                                                              </td><td>&lt;b3&gt;&lt;c7&gt;&lt;ca&gt;&lt;d0&gt;                                                                                                                              </td><td>&lt;c6&gt;&lt;d5&gt;ͨ&lt;c9&gt;&lt;cc&gt;Ʒ&lt;b7&gt;&lt;bf&gt;/&lt;be&gt;&lt;ad&gt;&lt;bc&gt;&lt;c3&gt;&lt;ca&gt;&lt;ca&gt;&lt;d3&gt;÷&lt;bf&gt;С&lt;c7&gt;&lt;f8&gt;</td><td><span style=white-space:pre-wrap>Ů       </span>                                                                                                                      </td><td>1984                                                                                                                                                                  </td><td><span style=white-space:pre-wrap>&lt;b3&gt;&lt;f5&gt;&lt;d6&gt;&lt;d0&gt;                                                       </span>                               </td><td>⋯                                                                                                                                                                     </td><td>NA                                                                                                                                                                    </td><td>NA                                                                                                                                                                    </td><td>NA                                                                                                                                                                    </td><td>NA                                                                                                                                                                    </td><td>NA                                                                                                                                                                    </td><td>NA                                                                                                                                                                    </td><td>NA                                                                                                                                                                    </td><td>NA                                                                                                                                                                    </td><td>NA                                                                                                                                                                    </td><td>0.1995475                                                                                                                                                             </td></tr>\n",
       "</tbody>\n",
       "</table>\n"
      ],
      "text/latex": [
       "\\begin{tabular}{r|lllllllllllllllllllllllllllllllllllllllllllllllllllllllllllllllllllllllllllllllllllllllllllllllllllllllllllllllllllllllllllllllllllllllllllllllllllllllllllllllllllllllllllllllllllllllllllllllllllllllllllllllllllllllllllllllllllllllllllllllllllllllllllllllllllllllllllllllllllllllllllllllllllllllllllllllllllllllllllllllllllllllllllllllllllllllllllllllllllllllllllllllllllllllllllllllllllllllllllllllllllllllllllllllllllllllllllllllllllllllllllllllllllllllllllllllllllllllllllllllllllllllllllllllllllllllllllllllllllllllllllllllllllllllllllllllllllllllllllllllllllllllllllllllllllllllllllllllllllllllllllllllllllllllllllllllllllllllllllllllllllllllllllllllllllllllllllllllllllllllllllllllllllllllllllllllllllllllllllllllllllllllllllllllllllllllllllllllllllllllllllllllllllllllllllllllllllllllllllllllllllllllllllllllllllllllllllllllllllllllllllllllllllllllllllllllllllllllllllllllllllllllllllllllllllllllllllllllllllllllllllllllllllllllllllllllllllllllllllllllllllllllllllllllllllllllllllllllllllllllllllllllllllllllllllllllllllllllllllllllllllllllllllllllllllllllllllllllllllllllllllllllllllllllllllllllllllllllllllllllllllllllllllllllllllllllllllllllllllllllllllllllllllllllllllllllllllllllllllllllllllllllllllllllllllllllllllllllllllllllllllllllllllllllllllllllllllllllllllllllllllllllllllllllllllllllllllllllllllllllllllllllllllllllllllllllllllllllllllllllllllllllllllllllllllllllllllllllllllllllllllllllllllllllllllllllllllllllllllllllllllllllllllllllllllllllllllllllllllllllllllllllllllllllllllllll}\n",
       " serial & province & countyid & community & v3 & v41 & v42 & a1 & a2 & a3a & ⋯ & c17d12codeisco & c17d13codeisco & c17d14codeisco & c17d15codeisco & c17d16codeisco & c17d17codeisco & c17d18codeisco & c17d19codeisco & c17d20codeisco & weight\\\\\n",
       "\\hline\n",
       "\t 1                                                                       & 北京市                                                                  & 110108                                                                  & 425                                                                     & <b3><c7><ca><d0>                                                        & <b3><c7><ca><d0>                                                        & <c6><d5>ͨ<c9><cc>Ʒ<b7><bf>/<be><ad><bc><c3><ca><ca><d3>÷<bf>С<c7><f8>  & <c4><d0>                                                                & 1948                                                                    & <b4><f3>ѧר<bf>ƣ<a8><d5><fd><b9><e6><b8>ߵȽ<cc><d3><fd><a3><a9> & ⋯                                                                       & NA                                                                      & NA                                                                      & NA                                                                      & NA                                                                      & NA                                                                      & NA                                                                      & NA                                                                      & NA                                                                      & NA                                                                      & 0.7981898                                                              \\\\\n",
       "\t 2                                                                       & 北京市                                                                  & 110108                                                                  & 425                                                                     & <b3><c7><ca><d0>                                                        & <b3><c7><ca><d0>                                                        & <c6><d5>ͨ<c9><cc>Ʒ<b7><bf>/<be><ad><bc><c3><ca><ca><d3>÷<bf>С<c7><f8>  & Ů                                                                       & 1984                                                                    & <c6><d5>ͨ<b8><df><d6><d0>                                                & ⋯                                                                       & NA                                                                      & NA                                                                      & NA                                                                      & NA                                                                      & NA                                                                      & NA                                                                      & NA                                                                      & NA                                                                      & NA                                                                      & 0.1995475                                                              \\\\\n",
       "\t 3                                                                       & 北京市                                                                  & 110108                                                                  & 425                                                                     & <b3><c7><ca><d0>                                                        & <b3><c7><ca><d0>                                                        & <c6><d5>ͨ<c9><cc>Ʒ<b7><bf>/<be><ad><bc><c3><ca><ca><d3>÷<bf>С<c7><f8>  & Ů                                                                       & 1984                                                                    & <b3><f5><d6><d0>                                                        & ⋯                                                                       & NA                                                                      & NA                                                                      & NA                                                                      & NA                                                                      & NA                                                                      & NA                                                                      & NA                                                                      & NA                                                                      & NA                                                                      & 0.1995475                                                              \\\\\n",
       "\\end{tabular}\n"
      ],
      "text/markdown": [
       "\n",
       "serial | province | countyid | community | v3 | v41 | v42 | a1 | a2 | a3a | ⋯ | c17d12codeisco | c17d13codeisco | c17d14codeisco | c17d15codeisco | c17d16codeisco | c17d17codeisco | c17d18codeisco | c17d19codeisco | c17d20codeisco | weight | \n",
       "|---|---|---|\n",
       "| 1                                                                       | 北京市                                                                  | 110108                                                                  | 425                                                                     | <b3><c7><ca><d0>                                                        | <b3><c7><ca><d0>                                                        | <c6><d5>ͨ<c9><cc>Ʒ<b7><bf>/<be><ad><bc><c3><ca><ca><d3>÷<bf>С<c7><f8>  | <c4><d0>                                                                | 1948                                                                    | <b4><f3>ѧר<bf>ƣ<a8><d5><fd><b9><e6><b8>ߵȽ<cc><d3><fd><a3><a9> | ⋯                                                                       | NA                                                                      | NA                                                                      | NA                                                                      | NA                                                                      | NA                                                                      | NA                                                                      | NA                                                                      | NA                                                                      | NA                                                                      | 0.7981898                                                               | \n",
       "| 2                                                                       | 北京市                                                                  | 110108                                                                  | 425                                                                     | <b3><c7><ca><d0>                                                        | <b3><c7><ca><d0>                                                        | <c6><d5>ͨ<c9><cc>Ʒ<b7><bf>/<be><ad><bc><c3><ca><ca><d3>÷<bf>С<c7><f8>  | Ů                                                                       | 1984                                                                    | <c6><d5>ͨ<b8><df><d6><d0>                                                | ⋯                                                                       | NA                                                                      | NA                                                                      | NA                                                                      | NA                                                                      | NA                                                                      | NA                                                                      | NA                                                                      | NA                                                                      | NA                                                                      | 0.1995475                                                               | \n",
       "| 3                                                                       | 北京市                                                                  | 110108                                                                  | 425                                                                     | <b3><c7><ca><d0>                                                        | <b3><c7><ca><d0>                                                        | <c6><d5>ͨ<c9><cc>Ʒ<b7><bf>/<be><ad><bc><c3><ca><ca><d3>÷<bf>С<c7><f8>  | Ů                                                                       | 1984                                                                    | <b3><f5><d6><d0>                                                        | ⋯                                                                       | NA                                                                      | NA                                                                      | NA                                                                      | NA                                                                      | NA                                                                      | NA                                                                      | NA                                                                      | NA                                                                      | NA                                                                      | 0.1995475                                                               | \n",
       "\n",
       "\n"
      ],
      "text/plain": [
       "  serial province countyid community v3               v41             \n",
       "1 1      北京市   110108   425       \\xb3\\xc7\\xca\\xd0 \\xb3\\xc7\\xca\\xd0\n",
       "2 2      北京市   110108   425       \\xb3\\xc7\\xca\\xd0 \\xb3\\xc7\\xca\\xd0\n",
       "3 3      北京市   110108   425       \\xb3\\xc7\\xca\\xd0 \\xb3\\xc7\\xca\\xd0\n",
       "  v42                                                                   \n",
       "1 \\xc6\\xd5ͨ\\xc9\\xccƷ\\xb7\\xbf/\\xbe\\xad\\xbc\\xc3\\xca\\xca\\xd3÷\\xbfС\\xc7\\xf8\n",
       "2 \\xc6\\xd5ͨ\\xc9\\xccƷ\\xb7\\xbf/\\xbe\\xad\\xbc\\xc3\\xca\\xca\\xd3÷\\xbfС\\xc7\\xf8\n",
       "3 \\xc6\\xd5ͨ\\xc9\\xccƷ\\xb7\\xbf/\\xbe\\xad\\xbc\\xc3\\xca\\xca\\xd3÷\\xbfС\\xc7\\xf8\n",
       "  a1       a2  \n",
       "1 \\xc4\\xd0 1948\n",
       "2 Ů        1984\n",
       "3 Ů        1984\n",
       "  a3a                                                                     ⋯\n",
       "1 \\xb4\\xf3ѧר\\xbfƣ\\xa8\\xd5\\xfd\\xb9\\xe6\\xb8\\u07f5\\u023d\\xcc\\xd3\\xfd\\xa3\\xa9 ⋯\n",
       "2 \\xc6\\xd5ͨ\\xb8\\xdf\\xd6\\xd0                                                ⋯\n",
       "3 \\xb3\\xf5\\xd6\\xd0                                                        ⋯\n",
       "  c17d12codeisco c17d13codeisco c17d14codeisco c17d15codeisco c17d16codeisco\n",
       "1 NA             NA             NA             NA             NA            \n",
       "2 NA             NA             NA             NA             NA            \n",
       "3 NA             NA             NA             NA             NA            \n",
       "  c17d17codeisco c17d18codeisco c17d19codeisco c17d20codeisco weight   \n",
       "1 NA             NA             NA             NA             0.7981898\n",
       "2 NA             NA             NA             NA             0.1995475\n",
       "3 NA             NA             NA             NA             0.1995475"
      ]
     },
     "metadata": {},
     "output_type": "display_data"
    }
   ],
   "source": [
    "levels(cgss08$province) = iconv(levels(cgss08$province), from=\"GBK\", to=\"UTF-8\")\n",
    "\n",
    "head(cgss08, 3)"
   ]
  },
  {
   "cell_type": "code",
   "execution_count": 244,
   "metadata": {},
   "outputs": [],
   "source": [
    "levels(cgss08$v3) = iconv(levels(cgss08$v3), from=\"GBK\", to=\"UTF-8\")"
   ]
  },
  {
   "cell_type": "code",
   "execution_count": 245,
   "metadata": {
    "scrolled": true
   },
   "outputs": [
    {
     "data": {
      "text/html": [
       "<table>\n",
       "<thead><tr><th scope=col>serial</th><th scope=col>province</th><th scope=col>countyid</th><th scope=col>community</th><th scope=col>v3</th><th scope=col>v41</th><th scope=col>v42</th><th scope=col>a1</th><th scope=col>a2</th><th scope=col>a3a</th><th scope=col>⋯</th><th scope=col>c17d12codeisco</th><th scope=col>c17d13codeisco</th><th scope=col>c17d14codeisco</th><th scope=col>c17d15codeisco</th><th scope=col>c17d16codeisco</th><th scope=col>c17d17codeisco</th><th scope=col>c17d18codeisco</th><th scope=col>c17d19codeisco</th><th scope=col>c17d20codeisco</th><th scope=col>weight</th></tr></thead>\n",
       "<tbody>\n",
       "\t<tr><td>1                                                                                                                                                                     </td><td>北京市                                                                                                                                                                </td><td>110108                                                                                                                                                                </td><td>425                                                                                                                                                                   </td><td>城市                                                                                                                                                                  </td><td>&lt;b3&gt;&lt;c7&gt;&lt;ca&gt;&lt;d0&gt;                                                                                                                              </td><td>&lt;c6&gt;&lt;d5&gt;ͨ&lt;c9&gt;&lt;cc&gt;Ʒ&lt;b7&gt;&lt;bf&gt;/&lt;be&gt;&lt;ad&gt;&lt;bc&gt;&lt;c3&gt;&lt;ca&gt;&lt;ca&gt;&lt;d3&gt;÷&lt;bf&gt;С&lt;c7&gt;&lt;f8&gt;</td><td>&lt;c4&gt;&lt;d0&gt;                                                                                                                                                  </td><td>1948                                                                                                                                                                  </td><td>&lt;b4&gt;&lt;f3&gt;ѧר&lt;bf&gt;ƣ&lt;a8&gt;&lt;d5&gt;&lt;fd&gt;&lt;b9&gt;&lt;e6&gt;&lt;b8&gt;ߵȽ&lt;cc&gt;&lt;d3&gt;&lt;fd&gt;&lt;a3&gt;&lt;a9&gt;           </td><td>⋯                                                                                                                                                                     </td><td>NA                                                                                                                                                                    </td><td>NA                                                                                                                                                                    </td><td>NA                                                                                                                                                                    </td><td>NA                                                                                                                                                                    </td><td>NA                                                                                                                                                                    </td><td>NA                                                                                                                                                                    </td><td>NA                                                                                                                                                                    </td><td>NA                                                                                                                                                                    </td><td>NA                                                                                                                                                                    </td><td>0.7981898                                                                                                                                                             </td></tr>\n",
       "\t<tr><td>2                                                                                                                                                                     </td><td>北京市                                                                                                                                                                </td><td>110108                                                                                                                                                                </td><td>425                                                                                                                                                                   </td><td>城市                                                                                                                                                                  </td><td>&lt;b3&gt;&lt;c7&gt;&lt;ca&gt;&lt;d0&gt;                                                                                                                              </td><td>&lt;c6&gt;&lt;d5&gt;ͨ&lt;c9&gt;&lt;cc&gt;Ʒ&lt;b7&gt;&lt;bf&gt;/&lt;be&gt;&lt;ad&gt;&lt;bc&gt;&lt;c3&gt;&lt;ca&gt;&lt;ca&gt;&lt;d3&gt;÷&lt;bf&gt;С&lt;c7&gt;&lt;f8&gt;</td><td><span style=white-space:pre-wrap>Ů       </span>                                                                                                                      </td><td>1984                                                                                                                                                                  </td><td><span style=white-space:pre-wrap>&lt;c6&gt;&lt;d5&gt;ͨ&lt;b8&gt;&lt;df&gt;&lt;d6&gt;&lt;d0&gt;                                               </span>                   </td><td>⋯                                                                                                                                                                     </td><td>NA                                                                                                                                                                    </td><td>NA                                                                                                                                                                    </td><td>NA                                                                                                                                                                    </td><td>NA                                                                                                                                                                    </td><td>NA                                                                                                                                                                    </td><td>NA                                                                                                                                                                    </td><td>NA                                                                                                                                                                    </td><td>NA                                                                                                                                                                    </td><td>NA                                                                                                                                                                    </td><td>0.1995475                                                                                                                                                             </td></tr>\n",
       "\t<tr><td>3                                                                                                                                                                     </td><td>北京市                                                                                                                                                                </td><td>110108                                                                                                                                                                </td><td>425                                                                                                                                                                   </td><td>城市                                                                                                                                                                  </td><td>&lt;b3&gt;&lt;c7&gt;&lt;ca&gt;&lt;d0&gt;                                                                                                                              </td><td>&lt;c6&gt;&lt;d5&gt;ͨ&lt;c9&gt;&lt;cc&gt;Ʒ&lt;b7&gt;&lt;bf&gt;/&lt;be&gt;&lt;ad&gt;&lt;bc&gt;&lt;c3&gt;&lt;ca&gt;&lt;ca&gt;&lt;d3&gt;÷&lt;bf&gt;С&lt;c7&gt;&lt;f8&gt;</td><td><span style=white-space:pre-wrap>Ů       </span>                                                                                                                      </td><td>1984                                                                                                                                                                  </td><td><span style=white-space:pre-wrap>&lt;b3&gt;&lt;f5&gt;&lt;d6&gt;&lt;d0&gt;                                                       </span>                               </td><td>⋯                                                                                                                                                                     </td><td>NA                                                                                                                                                                    </td><td>NA                                                                                                                                                                    </td><td>NA                                                                                                                                                                    </td><td>NA                                                                                                                                                                    </td><td>NA                                                                                                                                                                    </td><td>NA                                                                                                                                                                    </td><td>NA                                                                                                                                                                    </td><td>NA                                                                                                                                                                    </td><td>NA                                                                                                                                                                    </td><td>0.1995475                                                                                                                                                             </td></tr>\n",
       "</tbody>\n",
       "</table>\n"
      ],
      "text/latex": [
       "\\begin{tabular}{r|lllllllllllllllllllllllllllllllllllllllllllllllllllllllllllllllllllllllllllllllllllllllllllllllllllllllllllllllllllllllllllllllllllllllllllllllllllllllllllllllllllllllllllllllllllllllllllllllllllllllllllllllllllllllllllllllllllllllllllllllllllllllllllllllllllllllllllllllllllllllllllllllllllllllllllllllllllllllllllllllllllllllllllllllllllllllllllllllllllllllllllllllllllllllllllllllllllllllllllllllllllllllllllllllllllllllllllllllllllllllllllllllllllllllllllllllllllllllllllllllllllllllllllllllllllllllllllllllllllllllllllllllllllllllllllllllllllllllllllllllllllllllllllllllllllllllllllllllllllllllllllllllllllllllllllllllllllllllllllllllllllllllllllllllllllllllllllllllllllllllllllllllllllllllllllllllllllllllllllllllllllllllllllllllllllllllllllllllllllllllllllllllllllllllllllllllllllllllllllllllllllllllllllllllllllllllllllllllllllllllllllllllllllllllllllllllllllllllllllllllllllllllllllllllllllllllllllllllllllllllllllllllllllllllllllllllllllllllllllllllllllllllllllllllllllllllllllllllllllllllllllllllllllllllllllllllllllllllllllllllllllllllllllllllllllllllllllllllllllllllllllllllllllllllllllllllllllllllllllllllllllllllllllllllllllllllllllllllllllllllllllllllllllllllllllllllllllllllllllllllllllllllllllllllllllllllllllllllllllllllllllllllllllllllllllllllllllllllllllllllllllllllllllllllllllllllllllllllllllllllllllllllllllllllllllllllllllllllllllllllllllllllllllllllllllllllllllllllllllllllllllllllllllllllllllllllllllllllllllllllllllllllllllllllllllllllllllllllllllllllllllllllllllllllllllllll}\n",
       " serial & province & countyid & community & v3 & v41 & v42 & a1 & a2 & a3a & ⋯ & c17d12codeisco & c17d13codeisco & c17d14codeisco & c17d15codeisco & c17d16codeisco & c17d17codeisco & c17d18codeisco & c17d19codeisco & c17d20codeisco & weight\\\\\n",
       "\\hline\n",
       "\t 1                                                                       & 北京市                                                                  & 110108                                                                  & 425                                                                     & 城市                                                                    & <b3><c7><ca><d0>                                                        & <c6><d5>ͨ<c9><cc>Ʒ<b7><bf>/<be><ad><bc><c3><ca><ca><d3>÷<bf>С<c7><f8>  & <c4><d0>                                                                & 1948                                                                    & <b4><f3>ѧר<bf>ƣ<a8><d5><fd><b9><e6><b8>ߵȽ<cc><d3><fd><a3><a9> & ⋯                                                                       & NA                                                                      & NA                                                                      & NA                                                                      & NA                                                                      & NA                                                                      & NA                                                                      & NA                                                                      & NA                                                                      & NA                                                                      & 0.7981898                                                              \\\\\n",
       "\t 2                                                                       & 北京市                                                                  & 110108                                                                  & 425                                                                     & 城市                                                                    & <b3><c7><ca><d0>                                                        & <c6><d5>ͨ<c9><cc>Ʒ<b7><bf>/<be><ad><bc><c3><ca><ca><d3>÷<bf>С<c7><f8>  & Ů                                                                       & 1984                                                                    & <c6><d5>ͨ<b8><df><d6><d0>                                                & ⋯                                                                       & NA                                                                      & NA                                                                      & NA                                                                      & NA                                                                      & NA                                                                      & NA                                                                      & NA                                                                      & NA                                                                      & NA                                                                      & 0.1995475                                                              \\\\\n",
       "\t 3                                                                       & 北京市                                                                  & 110108                                                                  & 425                                                                     & 城市                                                                    & <b3><c7><ca><d0>                                                        & <c6><d5>ͨ<c9><cc>Ʒ<b7><bf>/<be><ad><bc><c3><ca><ca><d3>÷<bf>С<c7><f8>  & Ů                                                                       & 1984                                                                    & <b3><f5><d6><d0>                                                        & ⋯                                                                       & NA                                                                      & NA                                                                      & NA                                                                      & NA                                                                      & NA                                                                      & NA                                                                      & NA                                                                      & NA                                                                      & NA                                                                      & 0.1995475                                                              \\\\\n",
       "\\end{tabular}\n"
      ],
      "text/markdown": [
       "\n",
       "serial | province | countyid | community | v3 | v41 | v42 | a1 | a2 | a3a | ⋯ | c17d12codeisco | c17d13codeisco | c17d14codeisco | c17d15codeisco | c17d16codeisco | c17d17codeisco | c17d18codeisco | c17d19codeisco | c17d20codeisco | weight | \n",
       "|---|---|---|\n",
       "| 1                                                                       | 北京市                                                                  | 110108                                                                  | 425                                                                     | 城市                                                                    | <b3><c7><ca><d0>                                                        | <c6><d5>ͨ<c9><cc>Ʒ<b7><bf>/<be><ad><bc><c3><ca><ca><d3>÷<bf>С<c7><f8>  | <c4><d0>                                                                | 1948                                                                    | <b4><f3>ѧר<bf>ƣ<a8><d5><fd><b9><e6><b8>ߵȽ<cc><d3><fd><a3><a9> | ⋯                                                                       | NA                                                                      | NA                                                                      | NA                                                                      | NA                                                                      | NA                                                                      | NA                                                                      | NA                                                                      | NA                                                                      | NA                                                                      | 0.7981898                                                               | \n",
       "| 2                                                                       | 北京市                                                                  | 110108                                                                  | 425                                                                     | 城市                                                                    | <b3><c7><ca><d0>                                                        | <c6><d5>ͨ<c9><cc>Ʒ<b7><bf>/<be><ad><bc><c3><ca><ca><d3>÷<bf>С<c7><f8>  | Ů                                                                       | 1984                                                                    | <c6><d5>ͨ<b8><df><d6><d0>                                                | ⋯                                                                       | NA                                                                      | NA                                                                      | NA                                                                      | NA                                                                      | NA                                                                      | NA                                                                      | NA                                                                      | NA                                                                      | NA                                                                      | 0.1995475                                                               | \n",
       "| 3                                                                       | 北京市                                                                  | 110108                                                                  | 425                                                                     | 城市                                                                    | <b3><c7><ca><d0>                                                        | <c6><d5>ͨ<c9><cc>Ʒ<b7><bf>/<be><ad><bc><c3><ca><ca><d3>÷<bf>С<c7><f8>  | Ů                                                                       | 1984                                                                    | <b3><f5><d6><d0>                                                        | ⋯                                                                       | NA                                                                      | NA                                                                      | NA                                                                      | NA                                                                      | NA                                                                      | NA                                                                      | NA                                                                      | NA                                                                      | NA                                                                      | 0.1995475                                                               | \n",
       "\n",
       "\n"
      ],
      "text/plain": [
       "  serial province countyid community v3   v41             \n",
       "1 1      北京市   110108   425       城市 \\xb3\\xc7\\xca\\xd0\n",
       "2 2      北京市   110108   425       城市 \\xb3\\xc7\\xca\\xd0\n",
       "3 3      北京市   110108   425       城市 \\xb3\\xc7\\xca\\xd0\n",
       "  v42                                                                   \n",
       "1 \\xc6\\xd5ͨ\\xc9\\xccƷ\\xb7\\xbf/\\xbe\\xad\\xbc\\xc3\\xca\\xca\\xd3÷\\xbfС\\xc7\\xf8\n",
       "2 \\xc6\\xd5ͨ\\xc9\\xccƷ\\xb7\\xbf/\\xbe\\xad\\xbc\\xc3\\xca\\xca\\xd3÷\\xbfС\\xc7\\xf8\n",
       "3 \\xc6\\xd5ͨ\\xc9\\xccƷ\\xb7\\xbf/\\xbe\\xad\\xbc\\xc3\\xca\\xca\\xd3÷\\xbfС\\xc7\\xf8\n",
       "  a1       a2  \n",
       "1 \\xc4\\xd0 1948\n",
       "2 Ů        1984\n",
       "3 Ů        1984\n",
       "  a3a                                                                     ⋯\n",
       "1 \\xb4\\xf3ѧר\\xbfƣ\\xa8\\xd5\\xfd\\xb9\\xe6\\xb8\\u07f5\\u023d\\xcc\\xd3\\xfd\\xa3\\xa9 ⋯\n",
       "2 \\xc6\\xd5ͨ\\xb8\\xdf\\xd6\\xd0                                                ⋯\n",
       "3 \\xb3\\xf5\\xd6\\xd0                                                        ⋯\n",
       "  c17d12codeisco c17d13codeisco c17d14codeisco c17d15codeisco c17d16codeisco\n",
       "1 NA             NA             NA             NA             NA            \n",
       "2 NA             NA             NA             NA             NA            \n",
       "3 NA             NA             NA             NA             NA            \n",
       "  c17d17codeisco c17d18codeisco c17d19codeisco c17d20codeisco weight   \n",
       "1 NA             NA             NA             NA             0.7981898\n",
       "2 NA             NA             NA             NA             0.1995475\n",
       "3 NA             NA             NA             NA             0.1995475"
      ]
     },
     "metadata": {},
     "output_type": "display_data"
    }
   ],
   "source": [
    "head(cgss08, 3)"
   ]
  },
  {
   "cell_type": "markdown",
   "metadata": {},
   "source": [
    "处理编码的另一种方式"
   ]
  },
  {
   "cell_type": "code",
   "execution_count": 246,
   "metadata": {
    "scrolled": true
   },
   "outputs": [
    {
     "data": {
      "text/html": [
       "'zh_CN.GBK/zh_CN.GBK/zh_CN.GBK/C/zh_CN.GBK/en_US.UTF-8'"
      ],
      "text/latex": [
       "'zh\\_CN.GBK/zh\\_CN.GBK/zh\\_CN.GBK/C/zh\\_CN.GBK/en\\_US.UTF-8'"
      ],
      "text/markdown": [
       "'zh_CN.GBK/zh_CN.GBK/zh_CN.GBK/C/zh_CN.GBK/en_US.UTF-8'"
      ],
      "text/plain": [
       "[1] \"zh_CN.GBK/zh_CN.GBK/zh_CN.GBK/C/zh_CN.GBK/en_US.UTF-8\""
      ]
     },
     "metadata": {},
     "output_type": "display_data"
    },
    {
     "data": {
      "text/html": [
       "<table>\n",
       "<thead><tr><th scope=col>serial</th><th scope=col>province</th><th scope=col>countyid</th><th scope=col>community</th><th scope=col>v3</th><th scope=col>v41</th><th scope=col>v42</th><th scope=col>a1</th><th scope=col>a2</th><th scope=col>a3a</th><th scope=col>⋯</th><th scope=col>c17d12codeisco</th><th scope=col>c17d13codeisco</th><th scope=col>c17d14codeisco</th><th scope=col>c17d15codeisco</th><th scope=col>c17d16codeisco</th><th scope=col>c17d17codeisco</th><th scope=col>c17d18codeisco</th><th scope=col>c17d19codeisco</th><th scope=col>c17d20codeisco</th><th scope=col>weight</th></tr></thead>\n",
       "<tbody>\n",
       "\t<tr><td>1                        </td><td>北京市                   </td><td>110108                   </td><td>425                      </td><td>城市                     </td><td>城市                     </td><td>普通商品房/经济适用房小区</td><td>男                       </td><td>1948                     </td><td>大学专科（正规高等教育）  </td><td><U+22EF>                 </td><td>NA                       </td><td>NA                       </td><td>NA                       </td><td>NA                       </td><td>NA                       </td><td>NA                       </td><td>NA                       </td><td>NA                       </td><td>NA                       </td><td>0.7981898                </td></tr>\n",
       "\t<tr><td>2                        </td><td>北京市                   </td><td>110108                   </td><td>425                      </td><td>城市                     </td><td>城市                     </td><td>普通商品房/经济适用房小区</td><td>女                       </td><td>1984                     </td><td>普通高中                 </td><td><U+22EF>                 </td><td>NA                       </td><td>NA                       </td><td>NA                       </td><td>NA                       </td><td>NA                       </td><td>NA                       </td><td>NA                       </td><td>NA                       </td><td>NA                       </td><td>0.1995475                </td></tr>\n",
       "\t<tr><td>3                        </td><td>北京市                   </td><td>110108                   </td><td>425                      </td><td>城市                     </td><td>城市                     </td><td>普通商品房/经济适用房小区</td><td>女                       </td><td>1984                     </td><td>初中                     </td><td><U+22EF>                 </td><td>NA                       </td><td>NA                       </td><td>NA                       </td><td>NA                       </td><td>NA                       </td><td>NA                       </td><td>NA                       </td><td>NA                       </td><td>NA                       </td><td>0.1995475                </td></tr>\n",
       "</tbody>\n",
       "</table>\n"
      ],
      "text/latex": [
       "\\begin{tabular}{r|lllllllllllllllllllllllllllllllllllllllllllllllllllllllllllllllllllllllllllllllllllllllllllllllllllllllllllllllllllllllllllllllllllllllllllllllllllllllllllllllllllllllllllllllllllllllllllllllllllllllllllllllllllllllllllllllllllllllllllllllllllllllllllllllllllllllllllllllllllllllllllllllllllllllllllllllllllllllllllllllllllllllllllllllllllllllllllllllllllllllllllllllllllllllllllllllllllllllllllllllllllllllllllllllllllllllllllllllllllllllllllllllllllllllllllllllllllllllllllllllllllllllllllllllllllllllllllllllllllllllllllllllllllllllllllllllllllllllllllllllllllllllllllllllllllllllllllllllllllllllllllllllllllllllllllllllllllllllllllllllllllllllllllllllllllllllllllllllllllllllllllllllllllllllllllllllllllllllllllllllllllllllllllllllllllllllllllllllllllllllllllllllllllllllllllllllllllllllllllllllllllllllllllllllllllllllllllllllllllllllllllllllllllllllllllllllllllllllllllllllllllllllllllllllllllllllllllllllllllllllllllllllllllllllllllllllllllllllllllllllllllllllllllllllllllllllllllllllllllllllllllllllllllllllllllllllllllllllllllllllllllllllllllllllllllllllllllllllllllllllllllllllllllllllllllllllllllllllllllllllllllllllllllllllllllllllllllllllllllllllllllllllllllllllllllllllllllllllllllllllllllllllllllllllllllllllllllllllllllllllllllllllllllllllllllllllllllllllllllllllllllllllllllllllllllllllllllllllllllllllllllllllllllllllllllllllllllllllllllllllllllllllllllllllllllllllllllllllllllllllllllllllllllllllllllllllllllllllllllllllllllllllllllllllllllllllllllllllllllllllllllllllllllllllllllllll}\n",
       " serial & province & countyid & community & v3 & v41 & v42 & a1 & a2 & a3a & ⋯ & c17d12codeisco & c17d13codeisco & c17d14codeisco & c17d15codeisco & c17d16codeisco & c17d17codeisco & c17d18codeisco & c17d19codeisco & c17d20codeisco & weight\\\\\n",
       "\\hline\n",
       "\t 1                         & 北京市                    & 110108                    & 425                       & 城市                      & 城市                      & 普通商品房/经济适用房小区 & 男                        & 1948                      & 大学专科（正规高等教育）   & <U+22EF>                  & NA                        & NA                        & NA                        & NA                        & NA                        & NA                        & NA                        & NA                        & NA                        & 0.7981898                \\\\\n",
       "\t 2                         & 北京市                    & 110108                    & 425                       & 城市                      & 城市                      & 普通商品房/经济适用房小区 & 女                        & 1984                      & 普通高中                  & <U+22EF>                  & NA                        & NA                        & NA                        & NA                        & NA                        & NA                        & NA                        & NA                        & NA                        & 0.1995475                \\\\\n",
       "\t 3                         & 北京市                    & 110108                    & 425                       & 城市                      & 城市                      & 普通商品房/经济适用房小区 & 女                        & 1984                      & 初中                      & <U+22EF>                  & NA                        & NA                        & NA                        & NA                        & NA                        & NA                        & NA                        & NA                        & NA                        & 0.1995475                \\\\\n",
       "\\end{tabular}\n"
      ],
      "text/markdown": [
       "\n",
       "serial | province | countyid | community | v3 | v41 | v42 | a1 | a2 | a3a | ⋯ | c17d12codeisco | c17d13codeisco | c17d14codeisco | c17d15codeisco | c17d16codeisco | c17d17codeisco | c17d18codeisco | c17d19codeisco | c17d20codeisco | weight | \n",
       "|---|---|---|\n",
       "| 1                         | 北京市                    | 110108                    | 425                       | 城市                      | 城市                      | 普通商品房/经济适用房小区 | 男                        | 1948                      | 大学专科（正规高等教育）   | <U+22EF>                  | NA                        | NA                        | NA                        | NA                        | NA                        | NA                        | NA                        | NA                        | NA                        | 0.7981898                 | \n",
       "| 2                         | 北京市                    | 110108                    | 425                       | 城市                      | 城市                      | 普通商品房/经济适用房小区 | 女                        | 1984                      | 普通高中                  | <U+22EF>                  | NA                        | NA                        | NA                        | NA                        | NA                        | NA                        | NA                        | NA                        | NA                        | 0.1995475                 | \n",
       "| 3                         | 北京市                    | 110108                    | 425                       | 城市                      | 城市                      | 普通商品房/经济适用房小区 | 女                        | 1984                      | 初中                      | <U+22EF>                  | NA                        | NA                        | NA                        | NA                        | NA                        | NA                        | NA                        | NA                        | NA                        | 0.1995475                 | \n",
       "\n",
       "\n"
      ],
      "text/plain": [
       "  serial province countyid community v3   v41  v42                       a1\n",
       "1 1      北京市   110108   425       城市 城市 普通商品房/经济适用房小区 男\n",
       "2 2      北京市   110108   425       城市 城市 普通商品房/经济适用房小区 女\n",
       "3 3      北京市   110108   425       城市 城市 普通商品房/经济适用房小区 女\n",
       "  a2   a3a                     <U+22EF>   c17d12codeisco c17d13codeisco\n",
       "1 1948 大学专科（正规高等教育） <U+22EF> NA             NA            \n",
       "2 1984 普通高中                <U+22EF> NA             NA            \n",
       "3 1984 初中                    <U+22EF> NA             NA            \n",
       "  c17d14codeisco c17d15codeisco c17d16codeisco c17d17codeisco c17d18codeisco\n",
       "1 NA             NA             NA             NA             NA            \n",
       "2 NA             NA             NA             NA             NA            \n",
       "3 NA             NA             NA             NA             NA            \n",
       "  c17d19codeisco c17d20codeisco weight   \n",
       "1 NA             NA             0.7981898\n",
       "2 NA             NA             0.1995475\n",
       "3 NA             NA             0.1995475"
      ]
     },
     "metadata": {},
     "output_type": "display_data"
    }
   ],
   "source": [
    "Sys.setlocale(, \"zh_CN.GBK\")\n",
    "\n",
    "cgss08gbk = read.dta(\"data/cgss2008.dta\")\n",
    "\n",
    "head(cgss08gbk, 3)"
   ]
  },
  {
   "cell_type": "code",
   "execution_count": 247,
   "metadata": {},
   "outputs": [
    {
     "data": {
      "text/html": [
       "'zh_CN.UTF-8/zh_CN.UTF-8/zh_CN.UTF-8/C/zh_CN.UTF-8/en_US.UTF-8'"
      ],
      "text/latex": [
       "'zh\\_CN.UTF-8/zh\\_CN.UTF-8/zh\\_CN.UTF-8/C/zh\\_CN.UTF-8/en\\_US.UTF-8'"
      ],
      "text/markdown": [
       "'zh_CN.UTF-8/zh_CN.UTF-8/zh_CN.UTF-8/C/zh_CN.UTF-8/en_US.UTF-8'"
      ],
      "text/plain": [
       "[1] \"zh_CN.UTF-8/zh_CN.UTF-8/zh_CN.UTF-8/C/zh_CN.UTF-8/en_US.UTF-8\""
      ]
     },
     "metadata": {},
     "output_type": "display_data"
    }
   ],
   "source": [
    "Sys.setlocale(, \"zh_CN.UTF-8\")"
   ]
  },
  {
   "cell_type": "markdown",
   "metadata": {},
   "source": [
    "readstata13程序包中的read.dta13函数可以读入Stata 13及以上版本的数据。"
   ]
  },
  {
   "cell_type": "code",
   "execution_count": 248,
   "metadata": {},
   "outputs": [
    {
     "name": "stderr",
     "output_type": "stream",
     "text": [
      "Warning message in read.dta13(\"data/cgss2008.dta\", encoding = \"UTF-8\", fromEncoding = \"GBK\", :\n",
      "“\n",
      "  b11icodeisco:\n",
      "  Duplicated factor levels detected - generating unique labels.\n",
      "”Warning message in read.dta13(\"data/cgss2008.dta\", encoding = \"UTF-8\", fromEncoding = \"GBK\", :\n",
      "“\n",
      "  b12icodeisco:\n",
      "  Duplicated factor levels detected - generating unique labels.\n",
      "”Warning message in read.dta13(\"data/cgss2008.dta\", encoding = \"UTF-8\", fromEncoding = \"GBK\", :\n",
      "“\n",
      "  b13jcodeisco:\n",
      "  Duplicated factor levels detected - generating unique labels.\n",
      "”Warning message in read.dta13(\"data/cgss2008.dta\", encoding = \"UTF-8\", fromEncoding = \"GBK\", :\n",
      "“\n",
      "  c8codeisco:\n",
      "  Duplicated factor levels detected - generating unique labels.\n",
      "”Warning message in read.dta13(\"data/cgss2008.dta\", encoding = \"UTF-8\", fromEncoding = \"GBK\", :\n",
      "“\n",
      "  c16c011codeisco:\n",
      "  Duplicated factor levels detected - generating unique labels.\n",
      "”Warning message in read.dta13(\"data/cgss2008.dta\", encoding = \"UTF-8\", fromEncoding = \"GBK\", :\n",
      "“\n",
      "  c16c012codeisco:\n",
      "  Duplicated factor levels detected - generating unique labels.\n",
      "”Warning message in read.dta13(\"data/cgss2008.dta\", encoding = \"UTF-8\", fromEncoding = \"GBK\", :\n",
      "“\n",
      "  c16c013codeisco:\n",
      "  Duplicated factor levels detected - generating unique labels.\n",
      "”Warning message in read.dta13(\"data/cgss2008.dta\", encoding = \"UTF-8\", fromEncoding = \"GBK\", :\n",
      "“\n",
      "  c16c014codeisco:\n",
      "  Duplicated factor levels detected - generating unique labels.\n",
      "”Warning message in read.dta13(\"data/cgss2008.dta\", encoding = \"UTF-8\", fromEncoding = \"GBK\", :\n",
      "“\n",
      "  c16c015codeisco:\n",
      "  Duplicated factor levels detected - generating unique labels.\n",
      "”Warning message in read.dta13(\"data/cgss2008.dta\", encoding = \"UTF-8\", fromEncoding = \"GBK\", :\n",
      "“\n",
      "  c16c021codeisco:\n",
      "  Duplicated factor levels detected - generating unique labels.\n",
      "”Warning message in read.dta13(\"data/cgss2008.dta\", encoding = \"UTF-8\", fromEncoding = \"GBK\", :\n",
      "“\n",
      "  c16c022codeisco:\n",
      "  Duplicated factor levels detected - generating unique labels.\n",
      "”Warning message in read.dta13(\"data/cgss2008.dta\", encoding = \"UTF-8\", fromEncoding = \"GBK\", :\n",
      "“\n",
      "  c16c023codeisco:\n",
      "  Duplicated factor levels detected - generating unique labels.\n",
      "”Warning message in read.dta13(\"data/cgss2008.dta\", encoding = \"UTF-8\", fromEncoding = \"GBK\", :\n",
      "“\n",
      "  c16c024codeisco:\n",
      "  Duplicated factor levels detected - generating unique labels.\n",
      "”Warning message in read.dta13(\"data/cgss2008.dta\", encoding = \"UTF-8\", fromEncoding = \"GBK\", :\n",
      "“\n",
      "  c16c025codeisco:\n",
      "  Duplicated factor levels detected - generating unique labels.\n",
      "”Warning message in read.dta13(\"data/cgss2008.dta\", encoding = \"UTF-8\", fromEncoding = \"GBK\", :\n",
      "“\n",
      "  c16c031codeisco:\n",
      "  Duplicated factor levels detected - generating unique labels.\n",
      "”Warning message in read.dta13(\"data/cgss2008.dta\", encoding = \"UTF-8\", fromEncoding = \"GBK\", :\n",
      "“\n",
      "  c16c032codeisco:\n",
      "  Duplicated factor levels detected - generating unique labels.\n",
      "”Warning message in read.dta13(\"data/cgss2008.dta\", encoding = \"UTF-8\", fromEncoding = \"GBK\", :\n",
      "“\n",
      "  c16c033codeisco:\n",
      "  Duplicated factor levels detected - generating unique labels.\n",
      "”Warning message in read.dta13(\"data/cgss2008.dta\", encoding = \"UTF-8\", fromEncoding = \"GBK\", :\n",
      "“\n",
      "  c16c034codeisco:\n",
      "  Duplicated factor levels detected - generating unique labels.\n",
      "”Warning message in read.dta13(\"data/cgss2008.dta\", encoding = \"UTF-8\", fromEncoding = \"GBK\", :\n",
      "“\n",
      "  c16c035codeisco:\n",
      "  Duplicated factor levels detected - generating unique labels.\n",
      "”Warning message in read.dta13(\"data/cgss2008.dta\", encoding = \"UTF-8\", fromEncoding = \"GBK\", :\n",
      "“\n",
      "  c16c041codeisco:\n",
      "  Duplicated factor levels detected - generating unique labels.\n",
      "”Warning message in read.dta13(\"data/cgss2008.dta\", encoding = \"UTF-8\", fromEncoding = \"GBK\", :\n",
      "“\n",
      "  c16c042codeisco:\n",
      "  Duplicated factor levels detected - generating unique labels.\n",
      "”Warning message in read.dta13(\"data/cgss2008.dta\", encoding = \"UTF-8\", fromEncoding = \"GBK\", :\n",
      "“\n",
      "  c16c043codeisco:\n",
      "  Duplicated factor levels detected - generating unique labels.\n",
      "”Warning message in read.dta13(\"data/cgss2008.dta\", encoding = \"UTF-8\", fromEncoding = \"GBK\", :\n",
      "“\n",
      "  c16c044codeisco:\n",
      "  Duplicated factor levels detected - generating unique labels.\n",
      "”Warning message in read.dta13(\"data/cgss2008.dta\", encoding = \"UTF-8\", fromEncoding = \"GBK\", :\n",
      "“\n",
      "  c16c051codeisco:\n",
      "  Duplicated factor levels detected - generating unique labels.\n",
      "”Warning message in read.dta13(\"data/cgss2008.dta\", encoding = \"UTF-8\", fromEncoding = \"GBK\", :\n",
      "“\n",
      "  c16c052codeisco:\n",
      "  Duplicated factor levels detected - generating unique labels.\n",
      "”Warning message in read.dta13(\"data/cgss2008.dta\", encoding = \"UTF-8\", fromEncoding = \"GBK\", :\n",
      "“\n",
      "  c16c053codeisco:\n",
      "  Duplicated factor levels detected - generating unique labels.\n",
      "”Warning message in read.dta13(\"data/cgss2008.dta\", encoding = \"UTF-8\", fromEncoding = \"GBK\", :\n",
      "“\n",
      "  c16c061codeisco:\n",
      "  Duplicated factor levels detected - generating unique labels.\n",
      "”Warning message in read.dta13(\"data/cgss2008.dta\", encoding = \"UTF-8\", fromEncoding = \"GBK\", :\n",
      "“\n",
      "  c16c062codeisco:\n",
      "  Duplicated factor levels detected - generating unique labels.\n",
      "”Warning message in read.dta13(\"data/cgss2008.dta\", encoding = \"UTF-8\", fromEncoding = \"GBK\", :\n",
      "“\n",
      "  c16c071codeisco:\n",
      "  Duplicated factor levels detected - generating unique labels.\n",
      "”Warning message in read.dta13(\"data/cgss2008.dta\", encoding = \"UTF-8\", fromEncoding = \"GBK\", :\n",
      "“\n",
      "  c16c081codeisco:\n",
      "  Duplicated factor levels detected - generating unique labels.\n",
      "”Warning message in read.dta13(\"data/cgss2008.dta\", encoding = \"UTF-8\", fromEncoding = \"GBK\", :\n",
      "“\n",
      "  c16c091codeisco:\n",
      "  Duplicated factor levels detected - generating unique labels.\n",
      "”Warning message in read.dta13(\"data/cgss2008.dta\", encoding = \"UTF-8\", fromEncoding = \"GBK\", :\n",
      "“\n",
      "  c16c101codeisco:\n",
      "  Duplicated factor levels detected - generating unique labels.\n",
      "”Warning message in read.dta13(\"data/cgss2008.dta\", encoding = \"UTF-8\", fromEncoding = \"GBK\", :\n",
      "“\n",
      "  c16c102codeisco:\n",
      "  Duplicated factor levels detected - generating unique labels.\n",
      "”Warning message in read.dta13(\"data/cgss2008.dta\", encoding = \"UTF-8\", fromEncoding = \"GBK\", :\n",
      "“\n",
      "  c16c103codeisco:\n",
      "  Duplicated factor levels detected - generating unique labels.\n",
      "”Warning message in read.dta13(\"data/cgss2008.dta\", encoding = \"UTF-8\", fromEncoding = \"GBK\", :\n",
      "“\n",
      "  c16c104codeisco:\n",
      "  Duplicated factor levels detected - generating unique labels.\n",
      "”Warning message in read.dta13(\"data/cgss2008.dta\", encoding = \"UTF-8\", fromEncoding = \"GBK\", :\n",
      "“\n",
      "  c16c105codeisco:\n",
      "  Duplicated factor levels detected - generating unique labels.\n",
      "”Warning message in read.dta13(\"data/cgss2008.dta\", encoding = \"UTF-8\", fromEncoding = \"GBK\", :\n",
      "“\n",
      "  c17d01codeisco:\n",
      "  Duplicated factor levels detected - generating unique labels.\n",
      "”Warning message in read.dta13(\"data/cgss2008.dta\", encoding = \"UTF-8\", fromEncoding = \"GBK\", :\n",
      "“\n",
      "  c17d02codeisco:\n",
      "  Duplicated factor levels detected - generating unique labels.\n",
      "”Warning message in read.dta13(\"data/cgss2008.dta\", encoding = \"UTF-8\", fromEncoding = \"GBK\", :\n",
      "“\n",
      "  c17d03codeisco:\n",
      "  Duplicated factor levels detected - generating unique labels.\n",
      "”Warning message in read.dta13(\"data/cgss2008.dta\", encoding = \"UTF-8\", fromEncoding = \"GBK\", :\n",
      "“\n",
      "  c17d04codeisco:\n",
      "  Duplicated factor levels detected - generating unique labels.\n",
      "”Warning message in read.dta13(\"data/cgss2008.dta\", encoding = \"UTF-8\", fromEncoding = \"GBK\", :\n",
      "“\n",
      "  c17d05codeisco:\n",
      "  Duplicated factor levels detected - generating unique labels.\n",
      "”Warning message in read.dta13(\"data/cgss2008.dta\", encoding = \"UTF-8\", fromEncoding = \"GBK\", :\n",
      "“\n",
      "  c17d06codeisco:\n",
      "  Duplicated factor levels detected - generating unique labels.\n",
      "”Warning message in read.dta13(\"data/cgss2008.dta\", encoding = \"UTF-8\", fromEncoding = \"GBK\", :\n",
      "“\n",
      "  c17d07codeisco:\n",
      "  Duplicated factor levels detected - generating unique labels.\n",
      "”Warning message in read.dta13(\"data/cgss2008.dta\", encoding = \"UTF-8\", fromEncoding = \"GBK\", :\n",
      "“\n",
      "  c17d08codeisco:\n",
      "  Duplicated factor levels detected - generating unique labels.\n",
      "”Warning message in read.dta13(\"data/cgss2008.dta\", encoding = \"UTF-8\", fromEncoding = \"GBK\", :\n",
      "“\n",
      "  c17d09codeisco:\n",
      "  Duplicated factor levels detected - generating unique labels.\n",
      "”Warning message in read.dta13(\"data/cgss2008.dta\", encoding = \"UTF-8\", fromEncoding = \"GBK\", :\n",
      "“\n",
      "  c17d10codeisco:\n",
      "  Duplicated factor levels detected - generating unique labels.\n"
     ]
    },
    {
     "name": "stderr",
     "output_type": "stream",
     "text": [
      "”Warning message in read.dta13(\"data/cgss2008.dta\", encoding = \"UTF-8\", fromEncoding = \"GBK\", :\n",
      "“\n",
      "  c17d11codeisco:\n",
      "  Duplicated factor levels detected - generating unique labels.\n",
      "”Warning message in read.dta13(\"data/cgss2008.dta\", encoding = \"UTF-8\", fromEncoding = \"GBK\", :\n",
      "“\n",
      "  c17d12codeisco:\n",
      "  Duplicated factor levels detected - generating unique labels.\n",
      "”Warning message in read.dta13(\"data/cgss2008.dta\", encoding = \"UTF-8\", fromEncoding = \"GBK\", :\n",
      "“\n",
      "  c17d13codeisco:\n",
      "  Duplicated factor levels detected - generating unique labels.\n",
      "”Warning message in read.dta13(\"data/cgss2008.dta\", encoding = \"UTF-8\", fromEncoding = \"GBK\", :\n",
      "“\n",
      "  c17d14codeisco:\n",
      "  Duplicated factor levels detected - generating unique labels.\n",
      "”Warning message in read.dta13(\"data/cgss2008.dta\", encoding = \"UTF-8\", fromEncoding = \"GBK\", :\n",
      "“\n",
      "  c17d15codeisco:\n",
      "  Duplicated factor levels detected - generating unique labels.\n",
      "”Warning message in read.dta13(\"data/cgss2008.dta\", encoding = \"UTF-8\", fromEncoding = \"GBK\", :\n",
      "“\n",
      "  c17d16codeisco:\n",
      "  Duplicated factor levels detected - generating unique labels.\n",
      "”Warning message in read.dta13(\"data/cgss2008.dta\", encoding = \"UTF-8\", fromEncoding = \"GBK\", :\n",
      "“\n",
      "  c17d17codeisco:\n",
      "  Duplicated factor levels detected - generating unique labels.\n",
      "”Warning message in read.dta13(\"data/cgss2008.dta\", encoding = \"UTF-8\", fromEncoding = \"GBK\", :\n",
      "“\n",
      "  c17d18codeisco:\n",
      "  Duplicated factor levels detected - generating unique labels.\n",
      "”Warning message in read.dta13(\"data/cgss2008.dta\", encoding = \"UTF-8\", fromEncoding = \"GBK\", :\n",
      "“\n",
      "  c17d19codeisco:\n",
      "  Duplicated factor levels detected - generating unique labels.\n",
      "”Warning message in read.dta13(\"data/cgss2008.dta\", encoding = \"UTF-8\", fromEncoding = \"GBK\", :\n",
      "“\n",
      "  c17d20codeisco:\n",
      "  Duplicated factor levels detected - generating unique labels.\n",
      "”"
     ]
    }
   ],
   "source": [
    "library(readstata13)\n",
    "\n",
    "cgss08v13 = read.dta13(\"data/cgss2008.dta\", \n",
    "                       encoding=\"UTF-8\",\n",
    "                       fromEncoding=\"GBK\",\n",
    "                       generate.factors=T)"
   ]
  },
  {
   "cell_type": "code",
   "execution_count": 249,
   "metadata": {
    "scrolled": false
   },
   "outputs": [
    {
     "data": {
      "text/html": [
       "<table>\n",
       "<thead><tr><th scope=col>serial</th><th scope=col>province</th><th scope=col>countyid</th><th scope=col>community</th><th scope=col>v3</th><th scope=col>v41</th><th scope=col>v42</th><th scope=col>a1</th><th scope=col>a2</th><th scope=col>a3a</th><th scope=col>⋯</th><th scope=col>c17d12codeisco</th><th scope=col>c17d13codeisco</th><th scope=col>c17d14codeisco</th><th scope=col>c17d15codeisco</th><th scope=col>c17d16codeisco</th><th scope=col>c17d17codeisco</th><th scope=col>c17d18codeisco</th><th scope=col>c17d19codeisco</th><th scope=col>c17d20codeisco</th><th scope=col>weight</th></tr></thead>\n",
       "<tbody>\n",
       "\t<tr><td>1                        </td><td>北京市                   </td><td>110108                   </td><td>425                      </td><td>城市                     </td><td>城市                     </td><td>普通商品房/经济适用房小区</td><td>男                       </td><td>1948                     </td><td>大学专科（正规高等教育） </td><td>⋯                        </td><td>NA                       </td><td>NA                       </td><td>NA                       </td><td>NA                       </td><td>NA                       </td><td>NA                       </td><td>NA                       </td><td>NA                       </td><td>NA                       </td><td>0.7981898                </td></tr>\n",
       "\t<tr><td>2                        </td><td>北京市                   </td><td>110108                   </td><td>425                      </td><td>城市                     </td><td>城市                     </td><td>普通商品房/经济适用房小区</td><td>女                       </td><td>1984                     </td><td>普通高中                 </td><td>⋯                        </td><td>NA                       </td><td>NA                       </td><td>NA                       </td><td>NA                       </td><td>NA                       </td><td>NA                       </td><td>NA                       </td><td>NA                       </td><td>NA                       </td><td>0.1995475                </td></tr>\n",
       "\t<tr><td>3                        </td><td>北京市                   </td><td>110108                   </td><td>425                      </td><td>城市                     </td><td>城市                     </td><td>普通商品房/经济适用房小区</td><td>女                       </td><td>1984                     </td><td>初中                     </td><td>⋯                        </td><td>NA                       </td><td>NA                       </td><td>NA                       </td><td>NA                       </td><td>NA                       </td><td>NA                       </td><td>NA                       </td><td>NA                       </td><td>NA                       </td><td>0.1995475                </td></tr>\n",
       "</tbody>\n",
       "</table>\n"
      ],
      "text/latex": [
       "\\begin{tabular}{r|lllllllllllllllllllllllllllllllllllllllllllllllllllllllllllllllllllllllllllllllllllllllllllllllllllllllllllllllllllllllllllllllllllllllllllllllllllllllllllllllllllllllllllllllllllllllllllllllllllllllllllllllllllllllllllllllllllllllllllllllllllllllllllllllllllllllllllllllllllllllllllllllllllllllllllllllllllllllllllllllllllllllllllllllllllllllllllllllllllllllllllllllllllllllllllllllllllllllllllllllllllllllllllllllllllllllllllllllllllllllllllllllllllllllllllllllllllllllllllllllllllllllllllllllllllllllllllllllllllllllllllllllllllllllllllllllllllllllllllllllllllllllllllllllllllllllllllllllllllllllllllllllllllllllllllllllllllllllllllllllllllllllllllllllllllllllllllllllllllllllllllllllllllllllllllllllllllllllllllllllllllllllllllllllllllllllllllllllllllllllllllllllllllllllllllllllllllllllllllllllllllllllllllllllllllllllllllllllllllllllllllllllllllllllllllllllllllllllllllllllllllllllllllllllllllllllllllllllllllllllllllllllllllllllllllllllllllllllllllllllllllllllllllllllllllllllllllllllllllllllllllllllllllllllllllllllllllllllllllllllllllllllllllllllllllllllllllllllllllllllllllllllllllllllllllllllllllllllllllllllllllllllllllllllllllllllllllllllllllllllllllllllllllllllllllllllllllllllllllllllllllllllllllllllllllllllllllllllllllllllllllllllllllllllllllllllllllllllllllllllllllllllllllllllllllllllllllllllllllllllllllllllllllllllllllllllllllllllllllllllllllllllllllllllllllllllllllllllllllllllllllllllllllllllllllllllllllllllllllllllllllllllllllllllllllllllllllllllllllllllllllllllllllllllllllllll}\n",
       " serial & province & countyid & community & v3 & v41 & v42 & a1 & a2 & a3a & ⋯ & c17d12codeisco & c17d13codeisco & c17d14codeisco & c17d15codeisco & c17d16codeisco & c17d17codeisco & c17d18codeisco & c17d19codeisco & c17d20codeisco & weight\\\\\n",
       "\\hline\n",
       "\t 1                         & 北京市                    & 110108                    & 425                       & 城市                      & 城市                      & 普通商品房/经济适用房小区 & 男                        & 1948                      & 大学专科（正规高等教育）  & ⋯                         & NA                        & NA                        & NA                        & NA                        & NA                        & NA                        & NA                        & NA                        & NA                        & 0.7981898                \\\\\n",
       "\t 2                         & 北京市                    & 110108                    & 425                       & 城市                      & 城市                      & 普通商品房/经济适用房小区 & 女                        & 1984                      & 普通高中                  & ⋯                         & NA                        & NA                        & NA                        & NA                        & NA                        & NA                        & NA                        & NA                        & NA                        & 0.1995475                \\\\\n",
       "\t 3                         & 北京市                    & 110108                    & 425                       & 城市                      & 城市                      & 普通商品房/经济适用房小区 & 女                        & 1984                      & 初中                      & ⋯                         & NA                        & NA                        & NA                        & NA                        & NA                        & NA                        & NA                        & NA                        & NA                        & 0.1995475                \\\\\n",
       "\\end{tabular}\n"
      ],
      "text/markdown": [
       "\n",
       "serial | province | countyid | community | v3 | v41 | v42 | a1 | a2 | a3a | ⋯ | c17d12codeisco | c17d13codeisco | c17d14codeisco | c17d15codeisco | c17d16codeisco | c17d17codeisco | c17d18codeisco | c17d19codeisco | c17d20codeisco | weight | \n",
       "|---|---|---|\n",
       "| 1                         | 北京市                    | 110108                    | 425                       | 城市                      | 城市                      | 普通商品房/经济适用房小区 | 男                        | 1948                      | 大学专科（正规高等教育）  | ⋯                         | NA                        | NA                        | NA                        | NA                        | NA                        | NA                        | NA                        | NA                        | NA                        | 0.7981898                 | \n",
       "| 2                         | 北京市                    | 110108                    | 425                       | 城市                      | 城市                      | 普通商品房/经济适用房小区 | 女                        | 1984                      | 普通高中                  | ⋯                         | NA                        | NA                        | NA                        | NA                        | NA                        | NA                        | NA                        | NA                        | NA                        | 0.1995475                 | \n",
       "| 3                         | 北京市                    | 110108                    | 425                       | 城市                      | 城市                      | 普通商品房/经济适用房小区 | 女                        | 1984                      | 初中                      | ⋯                         | NA                        | NA                        | NA                        | NA                        | NA                        | NA                        | NA                        | NA                        | NA                        | 0.1995475                 | \n",
       "\n",
       "\n"
      ],
      "text/plain": [
       "  serial province countyid community v3   v41  v42                       a1\n",
       "1 1      北京市   110108   425       城市 城市 普通商品房/经济适用房小区 男\n",
       "2 2      北京市   110108   425       城市 城市 普通商品房/经济适用房小区 女\n",
       "3 3      北京市   110108   425       城市 城市 普通商品房/经济适用房小区 女\n",
       "  a2   a3a                      ⋯ c17d12codeisco c17d13codeisco c17d14codeisco\n",
       "1 1948 大学专科（正规高等教育） ⋯ NA             NA             NA            \n",
       "2 1984 普通高中                 ⋯ NA             NA             NA            \n",
       "3 1984 初中                     ⋯ NA             NA             NA            \n",
       "  c17d15codeisco c17d16codeisco c17d17codeisco c17d18codeisco c17d19codeisco\n",
       "1 NA             NA             NA             NA             NA            \n",
       "2 NA             NA             NA             NA             NA            \n",
       "3 NA             NA             NA             NA             NA            \n",
       "  c17d20codeisco weight   \n",
       "1 NA             0.7981898\n",
       "2 NA             0.1995475\n",
       "3 NA             0.1995475"
      ]
     },
     "metadata": {},
     "output_type": "display_data"
    }
   ],
   "source": [
    "head(cgss08v13, 3)"
   ]
  },
  {
   "cell_type": "markdown",
   "metadata": {},
   "source": [
    "数据保存\n",
    "\n",
    "```\n",
    "save.image()\n",
    "\n",
    "save.image(\"file/path.data\")\n",
    "```\n",
    "或\n",
    "\n",
    "```\n",
    "ls()\n",
    "\n",
    "save(obj1, obj2, file=\"ouput.rdata\")\n",
    "```"
   ]
  },
  {
   "cell_type": "markdown",
   "metadata": {},
   "source": [
    "导数\n",
    "\n",
    "$\\frac{\\mathrm{d}log(x)}{\\mathrm{d}x} = \\frac{1}{x} $"
   ]
  },
  {
   "cell_type": "code",
   "execution_count": 250,
   "metadata": {},
   "outputs": [
    {
     "data": {
      "text/html": [
       "6.90775527898214"
      ],
      "text/latex": [
       "6.90775527898214"
      ],
      "text/markdown": [
       "6.90775527898214"
      ],
      "text/plain": [
       "[1] 6.907755"
      ]
     },
     "metadata": {},
     "output_type": "display_data"
    }
   ],
   "source": [
    "log(1000)"
   ]
  },
  {
   "cell_type": "code",
   "execution_count": 251,
   "metadata": {},
   "outputs": [
    {
     "data": {
      "text/html": [
       "6.90875477931522"
      ],
      "text/latex": [
       "6.90875477931522"
      ],
      "text/markdown": [
       "6.90875477931522"
      ],
      "text/plain": [
       "[1] 6.908755"
      ]
     },
     "metadata": {},
     "output_type": "display_data"
    }
   ],
   "source": [
    "log(1001)"
   ]
  },
  {
   "cell_type": "code",
   "execution_count": 252,
   "metadata": {},
   "outputs": [
    {
     "data": {
      "text/html": [
       "0.000999500333083603"
      ],
      "text/latex": [
       "0.000999500333083603"
      ],
      "text/markdown": [
       "0.000999500333083603"
      ],
      "text/plain": [
       "[1] 0.0009995003"
      ]
     },
     "metadata": {},
     "output_type": "display_data"
    }
   ],
   "source": [
    "log(1001) - log(1000)"
   ]
  },
  {
   "cell_type": "code",
   "execution_count": 253,
   "metadata": {},
   "outputs": [
    {
     "data": {
      "text/html": [
       "0.001"
      ],
      "text/latex": [
       "0.001"
      ],
      "text/markdown": [
       "0.001"
      ],
      "text/plain": [
       "[1] 0.001"
      ]
     },
     "metadata": {},
     "output_type": "display_data"
    }
   ],
   "source": [
    "round(log(1001) - log(1000), 3)"
   ]
  },
  {
   "cell_type": "code",
   "execution_count": 254,
   "metadata": {},
   "outputs": [
    {
     "data": {
      "text/html": [
       "0.001"
      ],
      "text/latex": [
       "0.001"
      ],
      "text/markdown": [
       "0.001"
      ],
      "text/plain": [
       "[1] 0.001"
      ]
     },
     "metadata": {},
     "output_type": "display_data"
    }
   ],
   "source": [
    "1/1000"
   ]
  },
  {
   "cell_type": "markdown",
   "metadata": {},
   "source": [
    "\n",
    "### 矩阵高阶运算\n",
    "\n",
    "奇异值(svd)分解\n",
    "\n",
    "$X = U D V'$"
   ]
  },
  {
   "cell_type": "code",
   "execution_count": 1,
   "metadata": {},
   "outputs": [
    {
     "data": {
      "text/html": [
       "<table>\n",
       "<tbody>\n",
       "\t<tr><td>1</td><td>7</td></tr>\n",
       "\t<tr><td>1</td><td>7</td></tr>\n",
       "</tbody>\n",
       "</table>\n"
      ],
      "text/latex": [
       "\\begin{tabular}{ll}\n",
       "\t 1 & 7\\\\\n",
       "\t 1 & 7\\\\\n",
       "\\end{tabular}\n"
      ],
      "text/markdown": [
       "\n",
       "| 1 | 7 | \n",
       "| 1 | 7 | \n",
       "\n",
       "\n"
      ],
      "text/plain": [
       "     [,1] [,2]\n",
       "[1,] 1    7   \n",
       "[2,] 1    7   "
      ]
     },
     "metadata": {},
     "output_type": "display_data"
    }
   ],
   "source": [
    "x = matrix(c(1, 1, 7, 7), 2)\n",
    "\n",
    "x"
   ]
  },
  {
   "cell_type": "code",
   "execution_count": 2,
   "metadata": {},
   "outputs": [
    {
     "data": {
      "text/html": [
       "<ol class=list-inline>\n",
       "\t<li>10</li>\n",
       "\t<li>0</li>\n",
       "</ol>\n"
      ],
      "text/latex": [
       "\\begin{enumerate*}\n",
       "\\item 10\n",
       "\\item 0\n",
       "\\end{enumerate*}\n"
      ],
      "text/markdown": [
       "1. 10\n",
       "2. 0\n",
       "\n",
       "\n"
      ],
      "text/plain": [
       "[1] 10  0"
      ]
     },
     "metadata": {},
     "output_type": "display_data"
    }
   ],
   "source": [
    "s = svd(x)\n",
    "\n",
    "s$d"
   ]
  },
  {
   "cell_type": "code",
   "execution_count": 3,
   "metadata": {},
   "outputs": [
    {
     "data": {
      "text/html": [
       "<table>\n",
       "<tbody>\n",
       "\t<tr><td>-0.7071068</td><td>-0.7071068</td></tr>\n",
       "\t<tr><td>-0.7071068</td><td> 0.7071068</td></tr>\n",
       "</tbody>\n",
       "</table>\n"
      ],
      "text/latex": [
       "\\begin{tabular}{ll}\n",
       "\t -0.7071068 & -0.7071068\\\\\n",
       "\t -0.7071068 &  0.7071068\\\\\n",
       "\\end{tabular}\n"
      ],
      "text/markdown": [
       "\n",
       "| -0.7071068 | -0.7071068 | \n",
       "| -0.7071068 |  0.7071068 | \n",
       "\n",
       "\n"
      ],
      "text/plain": [
       "     [,1]       [,2]      \n",
       "[1,] -0.7071068 -0.7071068\n",
       "[2,] -0.7071068  0.7071068"
      ]
     },
     "metadata": {},
     "output_type": "display_data"
    }
   ],
   "source": [
    "s$u"
   ]
  },
  {
   "cell_type": "code",
   "execution_count": 4,
   "metadata": {},
   "outputs": [
    {
     "data": {
      "text/html": [
       "<table>\n",
       "<tbody>\n",
       "\t<tr><td>-0.1414214</td><td>-0.9899495</td></tr>\n",
       "\t<tr><td>-0.9899495</td><td> 0.1414214</td></tr>\n",
       "</tbody>\n",
       "</table>\n"
      ],
      "text/latex": [
       "\\begin{tabular}{ll}\n",
       "\t -0.1414214 & -0.9899495\\\\\n",
       "\t -0.9899495 &  0.1414214\\\\\n",
       "\\end{tabular}\n"
      ],
      "text/markdown": [
       "\n",
       "| -0.1414214 | -0.9899495 | \n",
       "| -0.9899495 |  0.1414214 | \n",
       "\n",
       "\n"
      ],
      "text/plain": [
       "     [,1]       [,2]      \n",
       "[1,] -0.1414214 -0.9899495\n",
       "[2,] -0.9899495  0.1414214"
      ]
     },
     "metadata": {},
     "output_type": "display_data"
    }
   ],
   "source": [
    "s$v"
   ]
  },
  {
   "cell_type": "code",
   "execution_count": 5,
   "metadata": {},
   "outputs": [
    {
     "data": {
      "text/html": [
       "<table>\n",
       "<tbody>\n",
       "\t<tr><td>1</td><td>7</td></tr>\n",
       "\t<tr><td>1</td><td>7</td></tr>\n",
       "</tbody>\n",
       "</table>\n"
      ],
      "text/latex": [
       "\\begin{tabular}{ll}\n",
       "\t 1 & 7\\\\\n",
       "\t 1 & 7\\\\\n",
       "\\end{tabular}\n"
      ],
      "text/markdown": [
       "\n",
       "| 1 | 7 | \n",
       "| 1 | 7 | \n",
       "\n",
       "\n"
      ],
      "text/plain": [
       "     [,1] [,2]\n",
       "[1,] 1    7   \n",
       "[2,] 1    7   "
      ]
     },
     "metadata": {},
     "output_type": "display_data"
    }
   ],
   "source": [
    "s$u %*% diag(s$d) %*% t(s$v)"
   ]
  },
  {
   "cell_type": "code",
   "execution_count": 6,
   "metadata": {},
   "outputs": [
    {
     "data": {
      "text/html": [
       "<table>\n",
       "<tbody>\n",
       "\t<tr><td>-0.7071068</td></tr>\n",
       "\t<tr><td>-0.7071068</td></tr>\n",
       "</tbody>\n",
       "</table>\n"
      ],
      "text/latex": [
       "\\begin{tabular}{l}\n",
       "\t -0.7071068\\\\\n",
       "\t -0.7071068\\\\\n",
       "\\end{tabular}\n"
      ],
      "text/markdown": [
       "\n",
       "| -0.7071068 | \n",
       "| -0.7071068 | \n",
       "\n",
       "\n"
      ],
      "text/plain": [
       "     [,1]      \n",
       "[1,] -0.7071068\n",
       "[2,] -0.7071068"
      ]
     },
     "metadata": {},
     "output_type": "display_data"
    }
   ],
   "source": [
    "s$u[, 1, drop=F]"
   ]
  },
  {
   "cell_type": "code",
   "execution_count": 7,
   "metadata": {},
   "outputs": [
    {
     "data": {
      "text/html": [
       "<table>\n",
       "<tbody>\n",
       "\t<tr><td>10</td></tr>\n",
       "</tbody>\n",
       "</table>\n"
      ],
      "text/latex": [
       "\\begin{tabular}{l}\n",
       "\t 10\\\\\n",
       "\\end{tabular}\n"
      ],
      "text/markdown": [
       "\n",
       "| 10 | \n",
       "\n",
       "\n"
      ],
      "text/plain": [
       "     [,1]\n",
       "[1,] 10  "
      ]
     },
     "metadata": {},
     "output_type": "display_data"
    }
   ],
   "source": [
    "diag(s$d)[1,1, drop=F]"
   ]
  },
  {
   "cell_type": "code",
   "execution_count": 8,
   "metadata": {},
   "outputs": [
    {
     "data": {
      "text/html": [
       "<table>\n",
       "<tbody>\n",
       "\t<tr><td>-0.1414214</td><td>-0.9899495</td></tr>\n",
       "</tbody>\n",
       "</table>\n"
      ],
      "text/latex": [
       "\\begin{tabular}{ll}\n",
       "\t -0.1414214 & -0.9899495\\\\\n",
       "\\end{tabular}\n"
      ],
      "text/markdown": [
       "\n",
       "| -0.1414214 | -0.9899495 | \n",
       "\n",
       "\n"
      ],
      "text/plain": [
       "     [,1]       [,2]      \n",
       "[1,] -0.1414214 -0.9899495"
      ]
     },
     "metadata": {},
     "output_type": "display_data"
    }
   ],
   "source": [
    "t(s$v)[1, ,drop=F]"
   ]
  },
  {
   "cell_type": "code",
   "execution_count": 9,
   "metadata": {},
   "outputs": [
    {
     "data": {
      "text/html": [
       "<table>\n",
       "<tbody>\n",
       "\t<tr><td>1</td><td>7</td></tr>\n",
       "\t<tr><td>1</td><td>7</td></tr>\n",
       "</tbody>\n",
       "</table>\n"
      ],
      "text/latex": [
       "\\begin{tabular}{ll}\n",
       "\t 1 & 7\\\\\n",
       "\t 1 & 7\\\\\n",
       "\\end{tabular}\n"
      ],
      "text/markdown": [
       "\n",
       "| 1 | 7 | \n",
       "| 1 | 7 | \n",
       "\n",
       "\n"
      ],
      "text/plain": [
       "     [,1] [,2]\n",
       "[1,] 1    7   \n",
       "[2,] 1    7   "
      ]
     },
     "metadata": {},
     "output_type": "display_data"
    }
   ],
   "source": [
    "s$u[, 1, drop=F] %*% diag(s$d)[1,1, drop=F] %*% t(s$v)[1, ,drop=F]"
   ]
  },
  {
   "cell_type": "markdown",
   "metadata": {},
   "source": [
    "特征值分解\n",
    "\n",
    "$X = V Lmbd V^{-1}$"
   ]
  },
  {
   "cell_type": "code",
   "execution_count": 10,
   "metadata": {},
   "outputs": [
    {
     "data": {
      "text/html": [
       "<table>\n",
       "<tbody>\n",
       "\t<tr><td> 1</td><td>-1</td></tr>\n",
       "\t<tr><td>-1</td><td> 1</td></tr>\n",
       "</tbody>\n",
       "</table>\n"
      ],
      "text/latex": [
       "\\begin{tabular}{ll}\n",
       "\t  1 & -1\\\\\n",
       "\t -1 &  1\\\\\n",
       "\\end{tabular}\n"
      ],
      "text/markdown": [
       "\n",
       "|  1 | -1 | \n",
       "| -1 |  1 | \n",
       "\n",
       "\n"
      ],
      "text/plain": [
       "     [,1] [,2]\n",
       "[1,]  1   -1  \n",
       "[2,] -1    1  "
      ]
     },
     "metadata": {},
     "output_type": "display_data"
    }
   ],
   "source": [
    "x = cbind(c(1,-1), c(-1,1))\n",
    "\n",
    "x"
   ]
  },
  {
   "cell_type": "code",
   "execution_count": 11,
   "metadata": {},
   "outputs": [
    {
     "data": {
      "text/plain": [
       "eigen() decomposition\n",
       "$values\n",
       "[1] 2 0\n",
       "\n",
       "$vectors\n",
       "           [,1]       [,2]\n",
       "[1,] -0.7071068 -0.7071068\n",
       "[2,]  0.7071068 -0.7071068\n"
      ]
     },
     "metadata": {},
     "output_type": "display_data"
    }
   ],
   "source": [
    "r = eigen(x)\n",
    "\n",
    "r"
   ]
  },
  {
   "cell_type": "code",
   "execution_count": 12,
   "metadata": {},
   "outputs": [
    {
     "data": {
      "text/html": [
       "<ol class=list-inline>\n",
       "\t<li>2</li>\n",
       "\t<li>0</li>\n",
       "</ol>\n"
      ],
      "text/latex": [
       "\\begin{enumerate*}\n",
       "\\item 2\n",
       "\\item 0\n",
       "\\end{enumerate*}\n"
      ],
      "text/markdown": [
       "1. 2\n",
       "2. 0\n",
       "\n",
       "\n"
      ],
      "text/plain": [
       "[1] 2 0"
      ]
     },
     "metadata": {},
     "output_type": "display_data"
    }
   ],
   "source": [
    "r$values"
   ]
  },
  {
   "cell_type": "code",
   "execution_count": 13,
   "metadata": {},
   "outputs": [
    {
     "data": {
      "text/html": [
       "<table>\n",
       "<tbody>\n",
       "\t<tr><td>-0.7071068</td><td>-0.7071068</td></tr>\n",
       "\t<tr><td> 0.7071068</td><td>-0.7071068</td></tr>\n",
       "</tbody>\n",
       "</table>\n"
      ],
      "text/latex": [
       "\\begin{tabular}{ll}\n",
       "\t -0.7071068 & -0.7071068\\\\\n",
       "\t  0.7071068 & -0.7071068\\\\\n",
       "\\end{tabular}\n"
      ],
      "text/markdown": [
       "\n",
       "| -0.7071068 | -0.7071068 | \n",
       "|  0.7071068 | -0.7071068 | \n",
       "\n",
       "\n"
      ],
      "text/plain": [
       "     [,1]       [,2]      \n",
       "[1,] -0.7071068 -0.7071068\n",
       "[2,]  0.7071068 -0.7071068"
      ]
     },
     "metadata": {},
     "output_type": "display_data"
    }
   ],
   "source": [
    "r$vectors"
   ]
  },
  {
   "cell_type": "code",
   "execution_count": 14,
   "metadata": {},
   "outputs": [
    {
     "data": {
      "text/html": [
       "<table>\n",
       "<tbody>\n",
       "\t<tr><td> 1</td><td>-1</td></tr>\n",
       "\t<tr><td>-1</td><td> 1</td></tr>\n",
       "</tbody>\n",
       "</table>\n"
      ],
      "text/latex": [
       "\\begin{tabular}{ll}\n",
       "\t  1 & -1\\\\\n",
       "\t -1 &  1\\\\\n",
       "\\end{tabular}\n"
      ],
      "text/markdown": [
       "\n",
       "|  1 | -1 | \n",
       "| -1 |  1 | \n",
       "\n",
       "\n"
      ],
      "text/plain": [
       "     [,1] [,2]\n",
       "[1,]  1   -1  \n",
       "[2,] -1    1  "
      ]
     },
     "metadata": {},
     "output_type": "display_data"
    }
   ],
   "source": [
    "r$vectors %*% diag(r$values) %*% t(r$vectors)"
   ]
  }
 ],
 "metadata": {
  "kernelspec": {
   "display_name": "R",
   "language": "R",
   "name": "ir"
  },
  "language_info": {
   "codemirror_mode": "r",
   "file_extension": ".r",
   "mimetype": "text/x-r-source",
   "name": "R",
   "pygments_lexer": "r",
   "version": "3.5.1"
  }
 },
 "nbformat": 4,
 "nbformat_minor": 2
}
